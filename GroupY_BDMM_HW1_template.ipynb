{
 "cells": [
  {
   "cell_type": "markdown",
   "metadata": {},
   "source": [
    "# Big Data Modeling and Management Assigment - Homework 1"
   ]
  },
  {
   "cell_type": "markdown",
   "metadata": {},
   "source": [
    "# Submission\n",
    "\n",
    "GROUP NUMBER: **XXXXXX** - please add your group number into the file name\n",
    "\n",
    "GROUP MEMBERS:\n",
    "\n",
    "|STUDENT NAME|STUDENT NUMBER|\n",
    "|---|---|\n",
    "|Gaspar Pereira|-|\n",
    "|Íris Moreira|XXXXXX|\n",
    "|Jude|XXXXXX|\n",
    "|Rita Wang|20240551|"
   ]
  },
  {
   "cell_type": "markdown",
   "metadata": {},
   "source": [
    "## 🍺 The Beer project  🍺 \n",
    "\n",
    "As it was shown in classes, graph databases are a natural way of navegating related information. For this first project we will be taking a graph database to analyse beer and breweries!   \n",
    "\n",
    "The project datasets are based on [kaggle](https://www.kaggle.com/ehallmar/beers-breweries-and-beer-reviews), released by Evan Hallmark. \n",
    "\n",
    "### Problem description\n",
    "\n",
    "Imagine you are working in the Data Management department of Analytics company.\n",
    "Explore the database via python neo4j connector and/or the graphical tool in the NEO4J webpage. Answer the questions while adjusting the database to meet the needs of your colleagues.\n",
    "Please record and keep track of your database changes, and submit the file with all cells run and with the output shown.\n",
    "\n",
    "### Questions\n",
    "\n",
    "1. Explore the database: get familiar with current schema, elements and other important database parameters. [1 point]\n",
    "2. Adjust the database and mention reasoning behind: e.g. clean errors, remove redundancies, adjust schema as necessary. Visualize the final version of database schema. [4 points]\n",
    "3. Analytics department requires the following information for the biweekly reporting: [5 points]\n",
    "    1. How many reviews has the beer with the most reviews?\n",
    "    2. Which three users wrote the most reviews about beers?\n",
    "    3. Find all beers that are described with following words: 'fruit', 'complex', 'nutty', 'dark'.\n",
    "    4. Which top three breweries produce the largest variety of beer styles?\n",
    "    5. Which country produces the most beer styles?\n",
    "4. Market Analysis department in your company accesses and updates the trends data on the daily basis. Given that, consider how you need to optimize the database and its performance so that the following queries are efficient. Measure performance to communicate your improvements using PROFILE before final query. Answer the following: [4 points]\n",
    "    1. Using ABV score, find five strongest beers, display their ABV score and the corresponding brewery? Keep in mind that the strongest known beer is Snake Venom, and deal with the error entries in the database.\n",
    "    2. Using the answer from question 2, find the top 5 distict beer styles with the highest average score of smell + feel that were reviewed by the third most productive user. Keep in mind that cleaning the database earlier should ensure correct results.\n",
    "5. Answer **two out of four** of the following questions using Graph Algorithms (gds): [NB: make sure to clear the graph before using it again] For the quarterly report, Analytics department the follownig information. [6 points]\n",
    "    1. Which two countries are most similiar when it comes to their top five most produced Beer styles?\n",
    "    2. Which beer is the most popular when considering the number of users who reviewed it? \n",
    "    3. Users are connected together by their reviews of beers, taking into consideration the \"smell\" score they assign as a weight, how many communities are formed from these relationships? How many users are in the three largest communities? \n",
    "    4. Which user is the most influential when it comes to reviews of distinct beers by style?\n",
    " \n",
    "### Groups  \n",
    "\n",
    "Groups should have 4 people maximum. Please mark which group you are here: https://shorturl.at/zE0QP \n",
    "\n",
    "### Submission      \n",
    "\n",
    "The code used to produce the results and to-the-point explations should be uploaded to moodle. They should have a clear reference to the group, either on the file name or on the document itself. Preferably one Jupyter notebook per group.\n",
    "\n",
    "Delivery date: Until the **midnight of March 18, 2025**\n",
    "\n",
    "### Evaluation   \n",
    "\n",
    "This will be 20% of the final grade.   \n",
    "Each solution will be evaluated on 2 components: correctness of results and efficiency of the query (based on database schema).  \n",
    "All code will go through plagiarism automated checks. Groups with the same code will undergo investigation."
   ]
  },
  {
   "cell_type": "markdown",
   "metadata": {},
   "source": [
    "## Loading the Database\n",
    "\n",
    "#### Be sure that you **don't have** the neo4j docker container from the classes running (you can Stop it in the desktop app or with the command \"`docker stop Neo4JLab`\")\n",
    "\n",
    "\n",
    "The default container does not have any data whatsoever, we will have to load a database into our docker image:\n",
    "- Download and unzip the `Neo4JHWData` file provided in Moodle.\n",
    "- Copy the path of the `Neo4JHWData` folder of the unziped file, e.g. `C:/PATH/Neo4JHWData/data`.\n",
    "- Download and unzip the `Neo4JPlugins` file provided in Moodle.\n",
    "- Copy the path of the `Neo4JPlugins` folder of the unziped file, e.g. `C:/PATH/Neo4Jplugins`.\n",
    "- Change the code below accordingly. As you might have noticed, you do not have a user called `nunoa`, please use the appropriate path that you got from the previous step. Be sure that you have a neo4j docker container running: \\\n",
    "\n",
    "`docker run --name Neo4JHW2025 -p 7474:7474 -p 7687:7687 -d -v \"c:\\PATH\\Neo4JPlugins\":/plugins -v \"c:\\PATH\\Neo4JHWData\\data\":/data --env NEO4J_AUTH=neo4j/test --env NEO4J_dbms_connector_https_advertised__address=\"localhost:7473\" --env NEO4J_dbms_connector_http_advertised__address=\"localhost:7474\" --env NEO4J_dbms_connector_bolt_advertised__address=\"localhost:7687\" --env NEO4J_dbms_security_procedures_unrestricted=gds.* --env NEO4J_dbms_security_procedures_allowlist=\"gds.*\" neo4j:4.4.5`\n",
    "\n",
    "- Since Neo4j is trying to recognize a new database folder, this might take a bit (let's say 3 minutes), so don't worry.\n",
    "\n",
    "If the neo4j browser fails to load gds plugins, run the following in the Command Prompt before creating the container again:\n",
    "`// Remove stopped containers //\n",
    "docker container prune -f\n",
    "// Remove unused images //\n",
    "docker image prune -a -f\n",
    "// Remove unused volumes //\n",
    "docker volume prune -f\n",
    "// Remove unused networks //\n",
    "docker network prune -f\n",
    "// Remove all unused resources in one command //\n",
    "docker system prune -a -f`"
   ]
  },
  {
   "cell_type": "code",
   "execution_count": 2,
   "metadata": {
    "ExecuteTime": {
     "end_time": "2024-02-29T21:45:57.447501Z",
     "start_time": "2024-02-29T21:45:56.625014Z"
    }
   },
   "outputs": [],
   "source": [
    "from neo4j import GraphDatabase\n",
    "from pprint import pprint"
   ]
  },
  {
   "cell_type": "code",
   "execution_count": 3,
   "metadata": {
    "ExecuteTime": {
     "end_time": "2024-02-29T21:46:09.652569Z",
     "start_time": "2024-02-29T21:46:09.648166Z"
    }
   },
   "outputs": [],
   "source": [
    "NEO4J_URI=\"neo4j://localhost:7687\"\n",
    "NEO4J_USERNAME=\"neo4j\"\n",
    "NEO4J_PASSWORD=\"test\""
   ]
  },
  {
   "cell_type": "code",
   "execution_count": 4,
   "metadata": {
    "ExecuteTime": {
     "end_time": "2024-02-29T21:46:10.939324Z",
     "start_time": "2024-02-29T21:46:10.934651Z"
    }
   },
   "outputs": [],
   "source": [
    "driver = GraphDatabase.driver(NEO4J_URI, auth=(NEO4J_USERNAME, NEO4J_PASSWORD), )"
   ]
  },
  {
   "cell_type": "code",
   "execution_count": 5,
   "metadata": {
    "ExecuteTime": {
     "end_time": "2024-02-29T21:46:14.291655Z",
     "start_time": "2024-02-29T21:46:14.286865Z"
    }
   },
   "outputs": [],
   "source": [
    "def execute_read(driver, query):    \n",
    "    with driver.session(database=\"neo4j\") as session:\n",
    "        result = session.execute_read(lambda tx, query: list(tx.run(query)), query)\n",
    "    return result"
   ]
  },
  {
   "cell_type": "code",
   "execution_count": 6,
   "metadata": {},
   "outputs": [],
   "source": [
    "def execute_write(driver, query):\n",
    "    with driver.session(database=\"neo4j\") as session:\n",
    "        # Write transactions allow the driver to handle retries and transient errors\n",
    "        result = session.execute_write(lambda tx, query: list(tx.run(query)), query)\n",
    "    return result"
   ]
  },
  {
   "cell_type": "markdown",
   "metadata": {},
   "source": [
    "# Question 1: Exploring the database"
   ]
  },
  {
   "cell_type": "markdown",
   "metadata": {},
   "source": [
    "## 1.1 Labels, Relationships and Properties"
   ]
  },
  {
   "cell_type": "markdown",
   "metadata": {},
   "source": [
    "> Let's start by checking the labels in our database:"
   ]
  },
  {
   "cell_type": "code",
   "execution_count": null,
   "metadata": {},
   "outputs": [
    {
     "name": "stdout",
     "output_type": "stream",
     "text": [
      "[<Record label='COUNTRIES'>,\n",
      " <Record label='CITIES'>,\n",
      " <Record label='BREWERIES'>,\n",
      " <Record label='BEERS'>,\n",
      " <Record label='REVIEWS'>,\n",
      " <Record label='STYLE'>,\n",
      " <Record label='USER'>]\n"
     ]
    }
   ],
   "source": [
    "query = \"\"\"\n",
    "       call db.labels();\n",
    "       \"\"\"\n",
    "\n",
    "result = execute_read(driver, query)\n",
    "\n",
    "pprint(result)"
   ]
  },
  {
   "cell_type": "code",
   "execution_count": 9,
   "metadata": {},
   "outputs": [],
   "source": [
    "labels = ['COUNTRIES','CITIES','BREWERIES','BEERS','REVIEWS','STYLE','USER']"
   ]
  },
  {
   "cell_type": "markdown",
   "metadata": {},
   "source": [
    "> Check the number of nodes for each label"
   ]
  },
  {
   "cell_type": "code",
   "execution_count": null,
   "metadata": {},
   "outputs": [
    {
     "name": "stdout",
     "output_type": "stream",
     "text": [
      "Label: COUNTRIES, Count: 200\n",
      "Label: CITIES, Count: 11665\n",
      "Label: BREWERIES, Count: 50347\n",
      "Label: BEERS, Count: 358873\n",
      "Label: REVIEWS, Count: 2538063\n",
      "Label: STYLE, Count: 113\n",
      "Label: USER, Count: 106645\n"
     ]
    }
   ],
   "source": [
    "for label in labels:\n",
    "    query = f\"\"\"\n",
    "        MATCH (n:{label})\n",
    "        RETURN COUNT(n) AS count\n",
    "        \"\"\"\n",
    "    \n",
    "    result = execute_read(driver, query)\n",
    "    print(f\"Label: {label}, Count: {result[0]['count']}\")\n"
   ]
  },
  {
   "cell_type": "markdown",
   "metadata": {},
   "source": [
    "> Relationships:"
   ]
  },
  {
   "cell_type": "code",
   "execution_count": null,
   "metadata": {},
   "outputs": [
    {
     "name": "stdout",
     "output_type": "stream",
     "text": [
      "[<Record relationshipType='REVIEWED'>,\n",
      " <Record relationshipType='BREWED'>,\n",
      " <Record relationshipType='IN'>,\n",
      " <Record relationshipType='HAS_STYLE'>,\n",
      " <Record relationshipType='POSTED'>]\n"
     ]
    }
   ],
   "source": [
    "query = \"\"\"\n",
    "        CALL db.relationshipTypes();\n",
    "       \"\"\"\n",
    "\n",
    "result = execute_read(driver, query)\n",
    "\n",
    "pprint(result)"
   ]
  },
  {
   "cell_type": "code",
   "execution_count": 37,
   "metadata": {},
   "outputs": [],
   "source": [
    "relationships = ['REVIEWED','BREWED','IN','HAS_STYLE','POSTED']"
   ]
  },
  {
   "cell_type": "code",
   "execution_count": null,
   "metadata": {},
   "outputs": [
    {
     "name": "stdout",
     "output_type": "stream",
     "text": [
      "Relationship: REVIEWED, Count: 2537991\n",
      "Relationship: BREWED, Count: 358873\n",
      "Relationship: IN, Count: 62424\n",
      "Relationship: HAS_STYLE, Count: 358873\n",
      "Relationship: POSTED, Count: 2538044\n"
     ]
    }
   ],
   "source": [
    "for relationship in relationships:\n",
    "    query = f\"\"\"\n",
    "        MATCH ()-[r:{relationship}]->()\n",
    "        RETURN COUNT(r) AS count\n",
    "        \"\"\"\n",
    "    \n",
    "    result = execute_read(driver, query)\n",
    "    print(f\"Relationship: {relationship}, Count: {result[0]['count']}\")\n"
   ]
  },
  {
   "cell_type": "markdown",
   "metadata": {},
   "source": [
    "> Properties:"
   ]
  },
  {
   "cell_type": "code",
   "execution_count": null,
   "metadata": {},
   "outputs": [
    {
     "name": "stdout",
     "output_type": "stream",
     "text": [
      "[<Record propertyKey='name'>,\n",
      " <Record propertyKey='types'>,\n",
      " <Record propertyKey='notes'>,\n",
      " <Record propertyKey='state'>,\n",
      " <Record propertyKey='id'>,\n",
      " <Record propertyKey='abv'>,\n",
      " <Record propertyKey='retired'>,\n",
      " <Record propertyKey='availability'>,\n",
      " <Record propertyKey='brewery_id'>,\n",
      " <Record propertyKey='date'>,\n",
      " <Record propertyKey='score'>,\n",
      " <Record propertyKey='taste'>,\n",
      " <Record propertyKey='feel'>,\n",
      " <Record propertyKey='overall'>,\n",
      " <Record propertyKey='beer_id'>,\n",
      " <Record propertyKey='text'>,\n",
      " <Record propertyKey='smell'>,\n",
      " <Record propertyKey='look'>]\n"
     ]
    }
   ],
   "source": [
    "query = \"\"\"\n",
    "        CALL db.propertyKeys();\n",
    "        \"\"\"\n",
    "\n",
    "result = execute_read(driver, query)\n",
    "\n",
    "pprint(result)"
   ]
  },
  {
   "cell_type": "code",
   "execution_count": null,
   "metadata": {},
   "outputs": [],
   "source": [
    "properties = ['name','types','notes','state','id','abv','retired','availability',\\\n",
    "              'brewery_id','date','score','taste','feel','overall','beer_id',\\\n",
    "              'text','smell','look']"
   ]
  },
  {
   "cell_type": "markdown",
   "metadata": {},
   "source": [
    "## 1.2 What labels are connected by each relationship type?"
   ]
  },
  {
   "cell_type": "markdown",
   "metadata": {},
   "source": [
    "> Let's take a look at the schema:"
   ]
  },
  {
   "cell_type": "code",
   "execution_count": 9,
   "metadata": {},
   "outputs": [
    {
     "name": "stdout",
     "output_type": "stream",
     "text": [
      "[<Record nodes=[<Node element_id='-12' labels=frozenset({'REVIEWS'}) properties={'name': 'REVIEWS', 'indexes': ['id'], 'constraints': []}>, <Node element_id='-11' labels=frozenset({'BEERS'}) properties={'name': 'BEERS', 'indexes': ['id'], 'constraints': []}>, <Node element_id='-8' labels=frozenset({'COUNTRIES'}) properties={'name': 'COUNTRIES', 'indexes': ['name'], 'constraints': []}>, <Node element_id='-10' labels=frozenset({'BREWERIES'}) properties={'name': 'BREWERIES', 'indexes': ['id'], 'constraints': []}>, <Node element_id='-13' labels=frozenset({'STYLE'}) properties={'name': 'STYLE', 'indexes': ['name'], 'constraints': []}>, <Node element_id='-9' labels=frozenset({'CITIES'}) properties={'name': 'CITIES', 'indexes': ['name'], 'constraints': []}>, <Node element_id='-14' labels=frozenset({'USER'}) properties={'name': 'USER', 'indexes': ['name'], 'constraints': []}>] relationships=[<Relationship element_id='-9' nodes=(<Node element_id='-11' labels=frozenset({'BEERS'}) properties={'name': 'BEERS', 'indexes': ['id'], 'constraints': []}>, <Node element_id='-12' labels=frozenset({'REVIEWS'}) properties={'name': 'REVIEWS', 'indexes': ['id'], 'constraints': []}>) type='REVIEWED' properties={}>, <Relationship element_id='-10' nodes=(<Node element_id='-10' labels=frozenset({'BREWERIES'}) properties={'name': 'BREWERIES', 'indexes': ['id'], 'constraints': []}>, <Node element_id='-11' labels=frozenset({'BEERS'}) properties={'name': 'BEERS', 'indexes': ['id'], 'constraints': []}>) type='BREWED' properties={}>, <Relationship element_id='-12' nodes=(<Node element_id='-9' labels=frozenset({'CITIES'}) properties={'name': 'CITIES', 'indexes': ['name'], 'constraints': []}>, <Node element_id='-9' labels=frozenset({'CITIES'}) properties={'name': 'CITIES', 'indexes': ['name'], 'constraints': []}>) type='IN' properties={}>, <Relationship element_id='-13' nodes=(<Node element_id='-10' labels=frozenset({'BREWERIES'}) properties={'name': 'BREWERIES', 'indexes': ['id'], 'constraints': []}>, <Node element_id='-8' labels=frozenset({'COUNTRIES'}) properties={'name': 'COUNTRIES', 'indexes': ['name'], 'constraints': []}>) type='IN' properties={}>, <Relationship element_id='-14' nodes=(<Node element_id='-10' labels=frozenset({'BREWERIES'}) properties={'name': 'BREWERIES', 'indexes': ['id'], 'constraints': []}>, <Node element_id='-9' labels=frozenset({'CITIES'}) properties={'name': 'CITIES', 'indexes': ['name'], 'constraints': []}>) type='IN' properties={}>, <Relationship element_id='-11' nodes=(<Node element_id='-9' labels=frozenset({'CITIES'}) properties={'name': 'CITIES', 'indexes': ['name'], 'constraints': []}>, <Node element_id='-8' labels=frozenset({'COUNTRIES'}) properties={'name': 'COUNTRIES', 'indexes': ['name'], 'constraints': []}>) type='IN' properties={}>, <Relationship element_id='-15' nodes=(<Node element_id='-11' labels=frozenset({'BEERS'}) properties={'name': 'BEERS', 'indexes': ['id'], 'constraints': []}>, <Node element_id='-13' labels=frozenset({'STYLE'}) properties={'name': 'STYLE', 'indexes': ['name'], 'constraints': []}>) type='HAS_STYLE' properties={}>, <Relationship element_id='-16' nodes=(<Node element_id='-12' labels=frozenset({'REVIEWS'}) properties={'name': 'REVIEWS', 'indexes': ['id'], 'constraints': []}>, <Node element_id='-14' labels=frozenset({'USER'}) properties={'name': 'USER', 'indexes': ['name'], 'constraints': []}>) type='POSTED' properties={}>]>]\n"
     ]
    }
   ],
   "source": [
    "query = \"\"\"\n",
    "        CALL db.schema.visualization();\n",
    "        \"\"\"\n",
    "\n",
    "result = execute_read(driver, query)\n",
    "pprint(result)"
   ]
  },
  {
   "cell_type": "markdown",
   "metadata": {},
   "source": [
    "> By looking at the schema in the localhost we can see that there are these relationships:<br>\n",
    "> [BREWERIES]--'BREWED'-->[BEERS]<br>\n",
    "> [BEERS]--'HAS_STYLE'-->[STYLE]<br>\n",
    "> [CITIES]--'IN'-->[COUNTRIES]<br>\n",
    "> [CITIES]--'IN'-->[CITIES]<br>\n",
    "> [BREWERIES]--'IN'-->[COUNTRIES]<br>\n",
    "> [BREWERIES]--'IN'-->[CITIES]<br>\n",
    "> [REVIEWS]--'POSTED'-->[USER]<br>\n",
    "> [BEERS]--'REVIEWED'-->[REVIEWS]"
   ]
  },
  {
   "cell_type": "code",
   "execution_count": null,
   "metadata": {},
   "outputs": [
    {
     "name": "stdout",
     "output_type": "stream",
     "text": [
      "[<Record Start=['BREWERIES'] Relationship='BREWED' End=['BEERS'] COUNT(r)=358873>,\n",
      " <Record Start=['BEERS'] Relationship='HAS_STYLE' End=['STYLE'] COUNT(r)=358873>,\n",
      " <Record Start=['CITIES'] Relationship='IN' End=['COUNTRIES'] COUNT(r)=12077>,\n",
      " <Record Start=['BREWERIES'] Relationship='IN' End=['CITIES'] COUNT(r)=50347>,\n",
      " <Record Start=['REVIEWS'] Relationship='POSTED' End=['USER'] COUNT(r)=2538044>,\n",
      " <Record Start=['BEERS'] Relationship='REVIEWED' End=['REVIEWS'] COUNT(r)=2537991>]\n"
     ]
    }
   ],
   "source": [
    "query = \"\"\"\n",
    "        MATCH (a)-[r]->(b)\n",
    "        RETURN DISTINCT labels(a) AS Start, type(r) AS Relationship, labels(b) AS End, COUNT(r)\n",
    "        ORDER BY Relationship;\n",
    "        \"\"\"\n",
    "\n",
    "result = execute_read(driver, query)\n",
    "\n",
    "pprint(result)"
   ]
  },
  {
   "cell_type": "markdown",
   "metadata": {},
   "source": [
    "> But when we check for existing relationships in the our database and their count, the relationships [CITIES]--'IN'-->[CITIES] and [BREWERIES]--'IN'-->[COUNTRIES] don't show up, and as we can see below, there are no instances of these relationships."
   ]
  },
  {
   "cell_type": "code",
   "execution_count": null,
   "metadata": {},
   "outputs": [
    {
     "name": "stdout",
     "output_type": "stream",
     "text": [
      "[<Record COUNT(r)=0>]\n"
     ]
    }
   ],
   "source": [
    "query = \"\"\"\n",
    "        MATCH (c1:CITIES)-[r:IN]->(c2:CITIES) RETURN COUNT(r);\n",
    "        \"\"\"\n",
    "\n",
    "result = execute_read(driver, query)\n",
    "\n",
    "pprint(result)"
   ]
  },
  {
   "cell_type": "code",
   "execution_count": null,
   "metadata": {},
   "outputs": [
    {
     "name": "stdout",
     "output_type": "stream",
     "text": [
      "[<Record COUNT(r)=0>]\n"
     ]
    }
   ],
   "source": [
    "query = \"\"\"\n",
    "        MATCH (c1:BREWERIES)-[r:IN]->(c2:COUNTRIES) RETURN COUNT(r);\n",
    "        \"\"\"\n",
    "\n",
    "result = execute_read(driver, query)\n",
    "\n",
    "pprint(result)"
   ]
  },
  {
   "cell_type": "markdown",
   "metadata": {},
   "source": [
    "> Not sure if it makes sense to have <br>\n",
    "[REVIEWS]--POSTED-->[USER] and <br>\n",
    "[BEERS]--'REVIEWED-->[REVIEWES].<br>\n",
    "We should look into reversing the direction of these relationships. Or changing the relationship names to REVIEWED_BY and POSTED_BY."
   ]
  },
  {
   "cell_type": "markdown",
   "metadata": {},
   "source": [
    "## 1.3 What properties does each label have?"
   ]
  },
  {
   "cell_type": "code",
   "execution_count": null,
   "metadata": {},
   "outputs": [
    {
     "name": "stdout",
     "output_type": "stream",
     "text": [
      "[<Record Label=':`BEERS`' Properties=['name', 'notes', 'state', 'id', 'abv', 'retired', 'availability', 'brewery_id']>,\n",
      " <Record Label=':`BREWERIES`' Properties=['name', 'types', 'notes', 'state', 'id']>,\n",
      " <Record Label=':`CITIES`' Properties=['name']>,\n",
      " <Record Label=':`COUNTRIES`' Properties=['name']>,\n",
      " <Record Label=':`REVIEWS`' Properties=['id', 'date', 'score', 'taste', 'feel', 'overall', 'beer_id', 'text', 'smell', 'look']>,\n",
      " <Record Label=':`STYLE`' Properties=['name']>,\n",
      " <Record Label=':`USER`' Properties=['name']>]\n"
     ]
    }
   ],
   "source": [
    "query = \"\"\"\n",
    "        CALL db.schema.nodeTypeProperties()\n",
    "        YIELD nodeType, propertyName\n",
    "        RETURN nodeType AS Label, COLLECT(propertyName) AS Properties\n",
    "        ORDER BY Label;\n",
    "        \"\"\"\n",
    "\n",
    "result = execute_read(driver, query)\n",
    "\n",
    "pprint(result)"
   ]
  },
  {
   "cell_type": "markdown",
   "metadata": {},
   "source": [
    "> Let's just take a look at the max and min values of reviews:"
   ]
  },
  {
   "cell_type": "code",
   "execution_count": null,
   "metadata": {},
   "outputs": [
    {
     "name": "stdout",
     "output_type": "stream",
     "text": [
      "Score: score\n",
      "[<Record min_score=1.0 max_score=5.0>]\n",
      "\n",
      "\n",
      "\n",
      "Score: taste\n",
      "[<Record min_taste=1.0 max_taste=5.0>]\n",
      "\n",
      "\n",
      "\n",
      "Score: feel\n",
      "[<Record min_feel=1.0 max_feel=5.0>]\n",
      "\n",
      "\n",
      "\n",
      "Score: overall\n",
      "[<Record min_overall=1.0 max_overall=5.0>]\n",
      "\n",
      "\n",
      "\n",
      "Score: smell\n",
      "[<Record min_smell=1.0 max_smell=5.0>]\n",
      "\n",
      "\n",
      "\n",
      "Score: look\n",
      "[<Record min_look=1.0 max_look=5.0>]\n",
      "\n",
      "\n",
      "\n"
     ]
    }
   ],
   "source": [
    "review_scores = ['score', 'taste', 'feel', 'overall','smell', 'look']\n",
    "\n",
    "for score in review_scores:\n",
    "    query = f\"\"\"\n",
    "        MATCH (r:REVIEWS)\n",
    "        WHERE r.{score} <> 'nan' AND r.{score} IS NOT NULL\n",
    "        RETURN \n",
    "            MIN(TOFLOAT(r.{score})) AS min_{score}, \n",
    "            MAX(TOFLOAT(r.{score})) AS max_{score}\n",
    "    \"\"\"\n",
    "    result = execute_read(driver, query)\n",
    "    print(f\"Score: {score}\")\n",
    "    pprint(result)\n",
    "    print(\"\\n\\n\")\n"
   ]
  },
  {
   "cell_type": "markdown",
   "metadata": {},
   "source": [
    "# Question 2"
   ]
  },
  {
   "cell_type": "markdown",
   "metadata": {},
   "source": [
    "## 2.1 Isolated Nodes"
   ]
  },
  {
   "cell_type": "markdown",
   "metadata": {},
   "source": [
    "> Let's start by removing isolated nodes"
   ]
  },
  {
   "cell_type": "code",
   "execution_count": null,
   "metadata": {},
   "outputs": [
    {
     "name": "stdout",
     "output_type": "stream",
     "text": [
      "[<Record TotalNodeCount=3065906>]\n"
     ]
    }
   ],
   "source": [
    "query = \"\"\"\n",
    "        MATCH (n)\n",
    "        RETURN COUNT(n) AS total_nodes;\n",
    "        \"\"\"\n",
    "result = execute_read(driver, query)\n",
    "pprint(result)"
   ]
  },
  {
   "cell_type": "code",
   "execution_count": null,
   "metadata": {},
   "outputs": [
    {
     "name": "stderr",
     "output_type": "stream",
     "text": [
      "Received notification from DBMS server: {severity: WARNING} {code: Neo.ClientNotification.Statement.FeatureDeprecationWarning} {category: } {title: This feature is deprecated and will be removed in future versions.} {description: Coercion of list to boolean is deprecated. Please consider using `NOT isEmpty(...)` instead.} {position: line: 3, column: 27, offset: 37} for query: '\\n        MATCH (n)\\n        WHERE NOT (n)-[]-()\\n        RETURN labels(n) AS NodeLabel, COUNT(n) AS IsolatedNodeCount\\n        ORDER BY IsolatedNodeCount DESC\\n'\n"
     ]
    },
    {
     "name": "stdout",
     "output_type": "stream",
     "text": [
      "[]\n"
     ]
    }
   ],
   "source": [
    "query = \"\"\"\n",
    "        MATCH (n)\n",
    "        WHERE NOT (n)-[]-()\n",
    "        RETURN labels(n) AS NodeLabel, COUNT(n) AS isolated_node_count\n",
    "        ORDER BY isolated_node_count DESC;\n",
    "        \"\"\"\n",
    "result = execute_read(driver, query)\n",
    "pprint(result)"
   ]
  },
  {
   "cell_type": "code",
   "execution_count": null,
   "metadata": {},
   "outputs": [],
   "source": [
    "query = \"\"\"\n",
    "        MATCH (n)\n",
    "        WHERE NOT (n)-[]-()\n",
    "        DELETE n\n",
    "        RETURN count(n);\n",
    "        \"\"\"\n",
    "result = execute_write(driver, query)\n",
    "pprint(result)"
   ]
  },
  {
   "cell_type": "code",
   "execution_count": null,
   "metadata": {},
   "outputs": [],
   "source": [
    "query = \"\"\"\n",
    "        MATCH (n)\n",
    "        RETURN COUNT(n) AS total_nodes;\n",
    "        \"\"\"\n",
    "result = execute_read(driver, query)\n",
    "pprint(result)"
   ]
  },
  {
   "cell_type": "markdown",
   "metadata": {},
   "source": [
    "## 2.2 Unique values"
   ]
  },
  {
   "cell_type": "markdown",
   "metadata": {},
   "source": [
    "> Let's take a look a the unique values of each property and check for inconsistencies:"
   ]
  },
  {
   "cell_type": "code",
   "execution_count": 31,
   "metadata": {},
   "outputs": [],
   "source": [
    "node_properties = {\n",
    "    \"BEERS\": [\"notes\", \"name\", \"state\", \"id\", \"retired\", \"availability\", \"brewery_id\"],\n",
    "    \"BREWERIES\": [\"notes\", \"types\", \"id\", \"name\", \"state\"],\n",
    "    \"CITIES\": [\"name\"],\n",
    "    \"COUNTRIES\": [\"name\"],\n",
    "    \"REVIEWS\": [\"text\", \"smell\", \"look\", \"taste\", \"feel\", \"overall\", \"beer_id\", \"id\", \"date\", \"score\"],\n",
    "    \"STYLE\": [\"name\"],\n",
    "    \"USER\": [\"name\"]\n",
    "}"
   ]
  },
  {
   "cell_type": "code",
   "execution_count": null,
   "metadata": {},
   "outputs": [
    {
     "name": "stdout",
     "output_type": "stream",
     "text": [
      "Label: BEERS, Property: notes\n",
      "[<Record notes='No notes at this time.' Count=309078>,\n",
      " <Record notes='nan' Count=46>,\n",
      " <Record notes='Single-Hop IPA' Count=26>,\n",
      " <Record notes='Brewed at De Proefbrouwerij.' Count=24>,\n",
      " <Record notes=' No notes at this time.' Count=23>,\n",
      " <Record notes='30 IBU' Count=22>,\n",
      " <Record notes='Permutation is our experimental series of small batch offerings, showcasing the unique visions and innovative concepts developed by our brewing and cellar crew.' Count=19>,\n",
      " <Record notes='20 IBU' Count=19>,\n",
      " <Record notes='70 IBU' Count=19>,\n",
      " <Record notes='The Intervals series is a platform that allows our brewers to experience and study the ingredients that we use in brewing. As we develop new flavors and experience those nuances we can share that with others. From single hop varieties to alternate grains we want you to learn with us! Experiment, learn, repeat!' Count=18>]\n",
      "\n",
      "\n",
      "\n",
      "Label: BEERS, Property: name\n",
      "[<Record name='Oktoberfest' Count=755>,\n",
      " <Record name='IPA' Count=633>,\n",
      " <Record name='Pale Ale' Count=620>,\n",
      " <Record name='Hefeweizen' Count=477>,\n",
      " <Record name='Oatmeal Stout' Count=443>,\n",
      " <Record name='Porter' Count=372>,\n",
      " <Record name='Saison' Count=361>,\n",
      " <Record name='India Pale Ale' Count=308>,\n",
      " <Record name='Pilsner' Count=301>,\n",
      " <Record name='Imperial Stout' Count=272>]\n",
      "\n",
      "\n",
      "\n",
      "Label: BEERS, Property: state\n",
      "[<Record state='nan' Count=60726>,\n",
      " <Record state='CA' Count=33649>,\n",
      " <Record state='PA' Count=17083>,\n",
      " <Record state='NY' Count=14572>,\n",
      " <Record state='CO' Count=14182>,\n",
      " <Record state='MI' Count=12690>,\n",
      " <Record state='IL' Count=12444>,\n",
      " <Record state='FL' Count=11898>,\n",
      " <Record state='GB2' Count=11390>,\n",
      " <Record state='WA' Count=10902>]\n",
      "\n",
      "\n",
      "\n",
      "Label: BEERS, Property: id\n",
      "[<Record id='82352' Count=1>,\n",
      " <Record id='214879' Count=1>,\n",
      " <Record id='320009' Count=1>,\n",
      " <Record id='246438' Count=1>,\n",
      " <Record id='8036' Count=1>,\n",
      " <Record id='108605' Count=1>,\n",
      " <Record id='345382' Count=1>,\n",
      " <Record id='255286' Count=1>,\n",
      " <Record id='29556' Count=1>,\n",
      " <Record id='202522' Count=1>]\n",
      "\n",
      "\n",
      "\n",
      "Label: BEERS, Property: retired\n",
      "[<Record retired='f' Count=240480>, <Record retired='t' Count=118393>]\n",
      "\n",
      "\n",
      "\n",
      "Label: BEERS, Property: availability\n",
      "[<Record availability=' Rotating' Count=98776>,\n",
      " <Record availability=' Limited (brewed once)' Count=72047>,\n",
      " <Record availability=' Year-round' Count=56800>,\n",
      " <Record availability='Rotating' Count=48002>,\n",
      " <Record availability='Limited (brewed once)' Count=34798>,\n",
      " <Record availability='Year-round' Count=19744>,\n",
      " <Record availability=' Winter' Count=6427>,\n",
      " <Record availability=' Fall' Count=5908>,\n",
      " <Record availability=' Summer' Count=5136>,\n",
      " <Record availability=' Spring' Count=3349>]\n",
      "\n",
      "\n",
      "\n",
      "Label: BEERS, Property: brewery_id\n",
      "[<Record brewery_id='1550' Count=1229>,\n",
      " <Record brewery_id='28383' Count=1225>,\n",
      " <Record brewery_id='17981' Count=1043>,\n",
      " <Record brewery_id='1146' Count=922>,\n",
      " <Record brewery_id='13307' Count=898>,\n",
      " <Record brewery_id='6045' Count=786>,\n",
      " <Record brewery_id='147' Count=736>,\n",
      " <Record brewery_id='16866' Count=723>,\n",
      " <Record brewery_id='1337' Count=652>,\n",
      " <Record brewery_id='140' Count=650>]\n",
      "\n",
      "\n",
      "\n",
      "Label: BREWERIES, Property: notes\n",
      "[<Record notes='No notes at this time.' Count=46475>,\n",
      " <Record notes='Hours:' Count=136>,\n",
      " <Record notes='nan' Count=85>,\n",
      " <Record notes=' No notes at this time.' Count=74>,\n",
      " <Record notes='Hours: ' Count=68>,\n",
      " <Record notes='OWNED BY ANHEUSER-BUSCH INBEV' Count=18>,\n",
      " <Record notes='On-premise brewing:' Count=16>,\n",
      " <Record notes='Per Omaha City Ordinance, as of October 1st 2006, this establishment is non-smoking throughout.' Count=15>,\n",
      " <Record notes='Hours' Count=13>,\n",
      " <Record notes='Opening hours:' Count=11>]\n",
      "\n",
      "\n",
      "\n",
      "Label: BREWERIES, Property: types\n",
      "[<Record types='Bar, Eatery' Count=13573>,\n",
      " <Record types='Store' Count=9726>,\n",
      " <Record types='Brewery' Count=8005>,\n",
      " <Record types='Brewery, Bar, Eatery' Count=2801>,\n",
      " <Record types='Bar, Eatery, Beer-to-go' Count=2789>,\n",
      " <Record types='Brewery, Bar, Beer-to-go' Count=2670>,\n",
      " <Record types='Bar' Count=2466>,\n",
      " <Record types='Brewery, Bar, Eatery, Beer-to-go' Count=2370>,\n",
      " <Record types='Brewery, Bar' Count=1360>,\n",
      " <Record types='Bar, Beer-to-go' Count=1258>]\n",
      "\n",
      "\n",
      "\n",
      "Label: BREWERIES, Property: id\n",
      "[<Record id='32541' Count=1>,\n",
      " <Record id='44736' Count=1>,\n",
      " <Record id='23372' Count=1>,\n",
      " <Record id='35328' Count=1>,\n",
      " <Record id='31561' Count=1>,\n",
      " <Record id='35975' Count=1>,\n",
      " <Record id='5618' Count=1>,\n",
      " <Record id='30916' Count=1>,\n",
      " <Record id='41278' Count=1>,\n",
      " <Record id='19730' Count=1>]\n",
      "\n",
      "\n",
      "\n",
      "Label: BREWERIES, Property: name\n",
      "[<Record name='Whole Foods Market' Count=162>,\n",
      " <Record name='Total Wine & More' Count=147>,\n",
      " <Record name='Cost Plus World Market' Count=118>,\n",
      " <Record name='Mellow Mushroom' Count=114>,\n",
      " <Record name=\"Trader Joe's\" Count=88>,\n",
      " <Record name='Old Chicago' Count=78>,\n",
      " <Record name=\"BJ's Restaurant & Brewhouse\" Count=68>,\n",
      " <Record name='World of Beer' Count=66>,\n",
      " <Record name='Yard House' Count=61>,\n",
      " <Record name='Wegmans' Count=58>]\n",
      "\n",
      "\n",
      "\n",
      "Label: BREWERIES, Property: state\n",
      "[<Record state='nan' Count=11271>,\n",
      " <Record state='CA' Count=3638>,\n",
      " <Record state='PA' Count=2454>,\n",
      " <Record state='NY' Count=2284>,\n",
      " <Record state='GB2' Count=2152>,\n",
      " <Record state='FL' Count=1595>,\n",
      " <Record state='IL' Count=1551>,\n",
      " <Record state='OH' Count=1518>,\n",
      " <Record state='MA' Count=1372>,\n",
      " <Record state='TX' Count=1342>]\n",
      "\n",
      "\n",
      "\n",
      "Label: CITIES, Property: name\n",
      "[<Record name='Thousand Palms' Count=1>,\n",
      " <Record name='Plant City' Count=1>,\n",
      " <Record name='Oklahoma City' Count=1>,\n",
      " <Record name='Brighton' Count=1>,\n",
      " <Record name='Seattle' Count=1>,\n",
      " <Record name='Mona Vale' Count=1>,\n",
      " <Record name='Riccione (RN)' Count=1>,\n",
      " <Record name='Belfast' Count=1>,\n",
      " <Record name='Destin' Count=1>,\n",
      " <Record name='Erpe-Mere' Count=1>]\n",
      "\n",
      "\n",
      "\n",
      "Label: COUNTRIES, Property: name\n",
      "[<Record name='US' Count=1>,\n",
      " <Record name='GB' Count=1>,\n",
      " <Record name='AU' Count=1>,\n",
      " <Record name='IT' Count=1>,\n",
      " <Record name='CA' Count=1>,\n",
      " <Record name='GR' Count=1>,\n",
      " <Record name='FR' Count=1>,\n",
      " <Record name='AT' Count=1>,\n",
      " <Record name='ES' Count=1>,\n",
      " <Record name='BE' Count=1>]\n",
      "\n",
      "\n",
      "\n",
      "Label: REVIEWS, Property: text\n",
      "[<Record text='\\xa0\\xa0' Count=1701899>,\n",
      " <Record text='\\xa0\\xa0 0%' Count=21785>,\n",
      " <Record text='\\xa0\\xa0 You had this beer. Write a review.' Count=705>,\n",
      " <Record text='\\xa0\\xa0 On tap at the brewery' Count=26>,\n",
      " <Record text='\\xa0\\xa0 C+ / ABOVE AVERAGE' Count=23>,\n",
      " <Record text='\\xa0\\xa0 Sampled from bottle' Count=22>,\n",
      " <Record text='\\xa0\\xa0 C / AVERAGE' Count=22>,\n",
      " <Record text='\\xa0\\xa0 On tap at brewery.' Count=21>,\n",
      " <Record text='\\xa0\\xa0 B- / WORTHY' Count=21>,\n",
      " <Record text=None Count=19>]\n",
      "\n",
      "\n",
      "\n",
      "Label: REVIEWS, Property: smell\n",
      "[<Record smell='nan' Count=1060483>,\n",
      " <Record smell='4.0' Count=392963>,\n",
      " <Record smell='3.5' Count=219353>,\n",
      " <Record smell='4.5' Count=204325>,\n",
      " <Record smell='4.25' Count=182230>,\n",
      " <Record smell='3.75' Count=164031>,\n",
      " <Record smell='3.0' Count=94814>,\n",
      " <Record smell='5.0' Count=54486>,\n",
      " <Record smell='4.75' Count=50008>,\n",
      " <Record smell='3.25' Count=43082>]\n",
      "\n",
      "\n",
      "\n"
     ]
    }
   ],
   "source": [
    "for label, properties in node_properties.items():\n",
    "    for property in properties:\n",
    "        query = f\"\"\"\n",
    "            MATCH (n:{label})\n",
    "            RETURN DISTINCT n.{property} AS {property}, COUNT(n) AS Count\n",
    "            ORDER BY Count DESC\n",
    "            LIMIT 10\n",
    "        \"\"\"\n",
    "        result = execute_read(driver, query)\n",
    "        print(f\"Label: {label}, Property: {property}\")\n",
    "        pprint(result)\n",
    "        print(\"\\n\\n\")"
   ]
  },
  {
   "cell_type": "markdown",
   "metadata": {},
   "source": [
    "### 2.2.1 Remove leading and trailing blank spaces"
   ]
  },
  {
   "cell_type": "markdown",
   "metadata": {},
   "source": [
    "> **1.** We'll start by removing leading and trailing blank spaces. By checking first what properties have those blank spaces. Which are: BEERS[notes,availability] and BREWERIES[notes]"
   ]
  },
  {
   "cell_type": "code",
   "execution_count": null,
   "metadata": {},
   "outputs": [],
   "source": [
    "for node, properties in node_properties.items():\n",
    "    for prop in properties:\n",
    "        print(f\"Checking outter white spaces for: {prop} in {node}\")\n",
    "        query = f\"\"\"\n",
    "                MATCH (n:{node})\n",
    "                WHERE n.{prop} =~ \"^\\s.*|.*\\s$\"\n",
    "                RETURN count(n) AS NodeCount\n",
    "        \"\"\"\n",
    "        result = execute_read(driver, query)\n",
    "        pprint(result)"
   ]
  },
  {
   "cell_type": "code",
   "execution_count": 9,
   "metadata": {},
   "outputs": [
    {
     "name": "stdout",
     "output_type": "stream",
     "text": [
      "Deleting outter white spaces for: notes in BEERS\n",
      "[<Record NodeCount=2287>]\n",
      "Deleting outter white spaces for: availability in BEERS\n",
      "[<Record NodeCount=248467>]\n",
      "Deleting outter white spaces for: notes in BREWERIES\n",
      "[<Record NodeCount=315>]\n"
     ]
    }
   ],
   "source": [
    "white_space_nodes_prop = {\n",
    "    \"BEERS\": [\"notes\", \"availability\"],\n",
    "    \"BREWERIES\": [\"notes\"]\n",
    "}\n",
    "\n",
    "for node, properties in white_space_nodes_prop.items():\n",
    "    for prop in properties:\n",
    "        print(f\"Deleting outter white spaces for: {prop} in {node}\")\n",
    "        query = f\"\"\"\n",
    "                MATCH (n:{node})\n",
    "                WHERE n.{prop} =~ \"^\\s.*|.*\\s$\"\n",
    "                SET n.{prop} = TRIM(n.{prop})\n",
    "                RETURN count(n) AS NodeCount\n",
    "        \"\"\"\n",
    "        result = execute_write(driver, query)\n",
    "        pprint(result)"
   ]
  },
  {
   "cell_type": "markdown",
   "metadata": {},
   "source": [
    "### 2.2.2 Remove '\\xa0' from REVIEWS"
   ]
  },
  {
   "cell_type": "markdown",
   "metadata": {},
   "source": [
    "> **2.** Remove '\\xa0', which represents non breaking spaces, a space character that prevents line breaks. For a more consistent formatting."
   ]
  },
  {
   "cell_type": "code",
   "execution_count": null,
   "metadata": {},
   "outputs": [
    {
     "name": "stdout",
     "output_type": "stream",
     "text": [
      "[<Record Count=2536660>]\n"
     ]
    }
   ],
   "source": [
    "# query = \"\"\"\n",
    "#         MATCH (r:REVIEWS)\n",
    "#         WHERE r.text=~ '.*\\\\xa0.*' \n",
    "#         RETURN COUNT(r) AS Count\n",
    "# \"\"\"\n",
    "# result = execute_read(driver, query)\n",
    "# pprint(result)"
   ]
  },
  {
   "cell_type": "markdown",
   "metadata": {},
   "source": [
    "> <strong style = 'color:red'>Takes a long time to run, but it works:</strong>"
   ]
  },
  {
   "cell_type": "code",
   "execution_count": null,
   "metadata": {},
   "outputs": [],
   "source": [
    "# loop = 0\n",
    "# while True:\n",
    "#         query = f\"\"\"\n",
    "#         MATCH (r:REVIEWS)\n",
    "#         WHERE r.text IS NOT NULL AND r.text CONTAINS '\\xa0'\n",
    "#         WITH r LIMIT 10000\n",
    "#         SET r.text = TRIM(REPLACE(r.text, '\\xa0', ''))\n",
    "#         RETURN COUNT(r) AS Count;\n",
    "\n",
    "#         \"\"\"\n",
    "#         result = execute_write(driver, query)\n",
    "#         count = result[0]['Count']\n",
    "#         loop+=1\n",
    "#         if count==0:\n",
    "#                 break\n",
    "#         pprint(f'Loop number {loop}')"
   ]
  },
  {
   "cell_type": "code",
   "execution_count": null,
   "metadata": {},
   "outputs": [],
   "source": [
    "# query = \"\"\"\n",
    "#         MATCH (r:REVIEWS)\n",
    "#         WHERE r.text=~ '.*\\\\xa0.*' \n",
    "#         RETURN COUNT(r) AS Count\n",
    "# \"\"\"\n",
    "# result = execute_read(driver, query)\n",
    "# pprint(result)"
   ]
  },
  {
   "cell_type": "markdown",
   "metadata": {},
   "source": [
    "## 2.3 Check for inconsistencies and redundancies"
   ]
  },
  {
   "cell_type": "markdown",
   "metadata": {},
   "source": [
    "### 2.3.1 Property state in BEERS and BREWERIES"
   ]
  },
  {
   "cell_type": "markdown",
   "metadata": {},
   "source": [
    "> Both BREWERIES and BEERS have the property 'state', we'll check if the BEER and its' BREWER have the same state. "
   ]
  },
  {
   "cell_type": "code",
   "execution_count": null,
   "metadata": {},
   "outputs": [
    {
     "name": "stdout",
     "output_type": "stream",
     "text": [
      "[<Record count=358873>]\n"
     ]
    }
   ],
   "source": [
    "# Check the number of relationships between beers and breweries\n",
    "query = \"\"\"\n",
    "    MATCH (a:BREWERIES)-[r:BREWED]->(b:BEERS)\n",
    "    RETURN COUNT(r) AS count\n",
    "\"\"\"\n",
    "result = execute_read(driver, query)\n",
    "pprint(result)"
   ]
  },
  {
   "cell_type": "markdown",
   "metadata": {},
   "source": [
    "> Each beer is brewed by only one brewery:"
   ]
  },
  {
   "cell_type": "code",
   "execution_count": null,
   "metadata": {},
   "outputs": [
    {
     "name": "stdout",
     "output_type": "stream",
     "text": [
      "[<Record count=0>]\n"
     ]
    }
   ],
   "source": [
    "# Check the number of beers that have been brewed by more than one brewery\n",
    "query = \"\"\"\n",
    "    MATCH (a:BREWERIES)-[r:BREWED]->(b:BEERS)\n",
    "    WITH b, COUNT(DISTINCT a) AS breweryCount\n",
    "    WHERE breweryCount > 1\n",
    "    RETURN COUNT(b) AS count\n",
    "\"\"\"\n",
    "result = execute_read(driver, query)\n",
    "pprint(result)\n"
   ]
  },
  {
   "cell_type": "markdown",
   "metadata": {},
   "source": [
    "> Only 132 have different values in state. Which are all the same cases: missing value in BEERS, but has value 'UT' in BREWERIES."
   ]
  },
  {
   "cell_type": "code",
   "execution_count": null,
   "metadata": {},
   "outputs": [
    {
     "name": "stdout",
     "output_type": "stream",
     "text": [
      "[]\n"
     ]
    }
   ],
   "source": [
    "#Check the number of beers and breweries that don't have the same state\n",
    "query = \"\"\"\n",
    "    MATCH (a:BREWERIES)-[r:BREWED]->(b:BEERS)\n",
    "    WHERE NOT a.state = b.state \n",
    "    RETURN a.state , b.state, Count(r) AS count\n",
    "\"\"\"\n",
    "result = execute_read(driver, query)\n",
    "pprint(result)\n"
   ]
  },
  {
   "cell_type": "markdown",
   "metadata": {},
   "source": [
    "> We'll change the 'nan' properties in BEERS to 'UT'. "
   ]
  },
  {
   "cell_type": "code",
   "execution_count": null,
   "metadata": {},
   "outputs": [
    {
     "name": "stdout",
     "output_type": "stream",
     "text": [
      "[<Record number_of_states_changed=0>]\n"
     ]
    }
   ],
   "source": [
    "query = \"\"\"\n",
    "    MATCH (a:BREWERIES)-[r:BREWED]->(b:BEERS)\n",
    "    WHERE b.state IS NULL OR a.state <> b.state\n",
    "    SET b.state = a.state\n",
    "    RETURN count(*) AS number_of_states_changed\n",
    "\"\"\"\n",
    "result = execute_write(driver, query)\n",
    "pprint(result) \n"
   ]
  },
  {
   "cell_type": "markdown",
   "metadata": {},
   "source": [
    "> <strong style='color:red'>Should we transform this property into a label:state?</strong>"
   ]
  },
  {
   "cell_type": "markdown",
   "metadata": {},
   "source": [
    "### 2.3.2 Property abv in BEERS"
   ]
  },
  {
   "cell_type": "code",
   "execution_count": null,
   "metadata": {},
   "outputs": [
    {
     "name": "stdout",
     "output_type": "stream",
     "text": [
      "[<Record name='water' abv=100.0>,\n",
      " <Record name='Radiohead - OK Computer' abv=100.0>,\n",
      " <Record name=\"Earache: World's Shortest Album\" abv=100.0>,\n",
      " <Record name='Dark Reckoning' abv=80.0>,\n",
      " <Record name='Snake Venom' abv=67.5>,\n",
      " <Record name='series 3' abv=66.0>,\n",
      " <Record name='Armageddon' abv=65.0>,\n",
      " <Record name='Start The Future' abv=60.0>,\n",
      " <Record name='Schorschbräu Schorschbock 57%' abv=57.5>,\n",
      " <Record name='Belgian Pale Ale' abv=56.0>]\n"
     ]
    }
   ],
   "source": [
    "# Check for the top 10 beers with the highest ABV\n",
    "query = \"\"\"\n",
    "    MATCH (b:BEERS)\n",
    "    WHERE b.abv <> 'nan'\n",
    "    RETURN b.name AS name, TOFLOAT(b.abv) AS abv\n",
    "    ORDER BY abv DESC\n",
    "    LIMIT 10\n",
    "\"\"\"\n",
    "result = execute_read(driver, query)  \n",
    "pprint(result)\n"
   ]
  },
  {
   "cell_type": "markdown",
   "metadata": {},
   "source": [
    "> As stated above, the strongest alcohol is Snake Venom. So we'll remove all of the others that appear above. "
   ]
  },
  {
   "cell_type": "code",
   "execution_count": null,
   "metadata": {},
   "outputs": [
    {
     "name": "stdout",
     "output_type": "stream",
     "text": [
      "[]\n"
     ]
    }
   ],
   "source": [
    "# Remove the beers with an abv greater than 67.5, and use DETACH as they have relationships with other nodes\n",
    "query = \"\"\"\n",
    "    MATCH (b:BEERS)  \n",
    "    WHERE TOFLOAT(b.abv) > 67.5  \n",
    "    DETACH DELETE b;\n",
    "\"\"\"\n",
    "result = execute_write(driver, query)\n",
    "pprint(result) \n"
   ]
  },
  {
   "cell_type": "code",
   "execution_count": null,
   "metadata": {},
   "outputs": [
    {
     "name": "stdout",
     "output_type": "stream",
     "text": [
      "[<Record name='Snake Venom' abv=67.5>,\n",
      " <Record name='series 3' abv=66.0>,\n",
      " <Record name='Armageddon' abv=65.0>,\n",
      " <Record name='Start The Future' abv=60.0>,\n",
      " <Record name='Schorschbräu Schorschbock 57%' abv=57.5>,\n",
      " <Record name='Belgian Pale Ale' abv=56.0>,\n",
      " <Record name='The End Of History' abv=55.0>,\n",
      " <Record name='Dark Streets of London' abv=52.0>,\n",
      " <Record name='Obilix' abv=45.0>,\n",
      " <Record name='Schorschbräu Schorschbock 43%' abv=43.0>]\n"
     ]
    }
   ],
   "source": [
    "# Let's take a look again at the top 10 beers with the highest ABV\n",
    "query = \"\"\"\n",
    "    MATCH (b:BEERS)\n",
    "    WHERE b.abv <> 'nan'\n",
    "    RETURN b.name AS name, TOFLOAT(b.abv) AS abv\n",
    "    ORDER BY abv DESC\n",
    "    LIMIT 10\n",
    "\"\"\"\n",
    "result = execute_read(driver, query)  \n",
    "pprint(result)\n"
   ]
  },
  {
   "cell_type": "markdown",
   "metadata": {},
   "source": [
    "### 2.3.3 Remove the property brewery_id"
   ]
  },
  {
   "cell_type": "markdown",
   "metadata": {},
   "source": [
    "> As we have seen above, each beer is connected to only one brewery. But we should check if the brewery_id property of the beer is the same as the brewery to which it's connected to."
   ]
  },
  {
   "cell_type": "code",
   "execution_count": 12,
   "metadata": {},
   "outputs": [
    {
     "name": "stdout",
     "output_type": "stream",
     "text": [
      "[<Record count=0>]\n"
     ]
    }
   ],
   "source": [
    "# Check if the brewery connected is the same as brewery_id\n",
    "query = \"\"\"\n",
    "    MATCH (a:BREWERIES)-[r:BREWED]->(b:BEERS)\n",
    "    WHERE TOSTRING(b.brewery_id) <> TOSTRING(a.id) \n",
    "    OR b.brewery_id = 'nan' OR b.brewery_id IS NULL\n",
    "    RETURN COUNT(r) AS count\n",
    "\"\"\"\n",
    "result = execute_read(driver, query)\n",
    "pprint(result)"
   ]
  },
  {
   "cell_type": "markdown",
   "metadata": {},
   "source": [
    "> It's redundant to have brewery_id and have the BEERS connected to BREWERIES. Since these values are the same, we can just remove the property brewery_id."
   ]
  },
  {
   "cell_type": "code",
   "execution_count": 13,
   "metadata": {},
   "outputs": [
    {
     "name": "stdout",
     "output_type": "stream",
     "text": [
      "[<Record count=358869>]\n"
     ]
    }
   ],
   "source": [
    "# Remove the property brewery_id from the beers\n",
    "query = \"\"\"\n",
    "    MATCH (b:BEERS)\n",
    "    REMOVE b.brewery_id\n",
    "    RETURN COUNT(b) AS count\n",
    "\"\"\"\n",
    "result = execute_write(driver, query)\n",
    "pprint(result)"
   ]
  },
  {
   "cell_type": "markdown",
   "metadata": {},
   "source": [
    "### 2.3.4 Remove the property beer_id"
   ]
  },
  {
   "cell_type": "code",
   "execution_count": null,
   "metadata": {},
   "outputs": [
    {
     "name": "stdout",
     "output_type": "stream",
     "text": [
      "[<Record count=2537991>]\n"
     ]
    }
   ],
   "source": [
    "# Check if the beer connected to the review is the same as the beer_id\n",
    "query = \"\"\"\n",
    "    MATCH (a:REVIEWS)<-[r:REVIEWED]-(b:BEERS)\n",
    "    WHERE b.id <> a.beer_id\n",
    "    RETURN COUNT(r) AS count\n",
    "    \"\"\"\n",
    "result = execute_read(driver, query)\n",
    "pprint(result)"
   ]
  },
  {
   "cell_type": "markdown",
   "metadata": {},
   "source": [
    "> Same logic as brewery_id, we will remove beer_id to prevent inconsistencies."
   ]
  },
  {
   "cell_type": "code",
   "execution_count": null,
   "metadata": {},
   "outputs": [
    {
     "name": "stderr",
     "output_type": "stream",
     "text": [
      "Transaction failed and will be retried in 0.9698022167226413s (There is not enough memory to perform the current task. Please try increasing 'dbms.memory.heap.max_size' in the neo4j configuration (normally in 'conf/neo4j.conf' or, if you are using Neo4j Desktop, found through the user interface) or if you are running an embedded installation increase the heap by using '-Xmx' command line flag, and then restart the database.)\n"
     ]
    }
   ],
   "source": [
    "# Remove the property beer_id from the reviews\n",
    "query = \"\"\"\n",
    "    MATCH (r:REVIEWS)\n",
    "    REMOVE r.beer_id\n",
    "    RETURN COUNT(r) AS count\n",
    "\"\"\"\n",
    "result = execute_write(driver, query)\n",
    "pprint(result)"
   ]
  },
  {
   "cell_type": "code",
   "execution_count": 9,
   "metadata": {},
   "outputs": [
    {
     "name": "stdout",
     "output_type": "stream",
     "text": [
      "'Loop number 1, Removed 100000 properties'\n",
      "'Loop number 2, Removed 100000 properties'\n",
      "'Loop number 3, Removed 100000 properties'\n",
      "'Loop number 4, Removed 100000 properties'\n",
      "'Loop number 5, Removed 100000 properties'\n",
      "'Loop number 6, Removed 100000 properties'\n",
      "'Loop number 7, Removed 100000 properties'\n",
      "'Loop number 8, Removed 100000 properties'\n",
      "'Loop number 9, Removed 100000 properties'\n",
      "'Loop number 10, Removed 100000 properties'\n",
      "'Loop number 11, Removed 100000 properties'\n",
      "'Loop number 12, Removed 100000 properties'\n",
      "'Loop number 13, Removed 100000 properties'\n",
      "'Loop number 14, Removed 100000 properties'\n",
      "'Loop number 15, Removed 100000 properties'\n",
      "'Loop number 16, Removed 100000 properties'\n",
      "'Loop number 17, Removed 100000 properties'\n",
      "'Loop number 18, Removed 48044 properties'\n",
      "'Loop number 19, Removed 0 properties'\n"
     ]
    }
   ],
   "source": [
    "loop = 0\n",
    "while True:\n",
    "    query = \"\"\"\n",
    "    MATCH (r:REVIEWS) \n",
    "    WHERE r.beer_id IS NOT NULL \n",
    "    WITH r LIMIT 100000\n",
    "    REMOVE r.beer_id\n",
    "    RETURN COUNT(r) AS Count\n",
    "    \"\"\"\n",
    "    result = execute_write(driver, query)\n",
    "    count = result[0]['Count']\n",
    "    \n",
    "    loop += 1\n",
    "    pprint(f'Loop number {loop}, Removed {count} properties')\n",
    "\n",
    "    if count == 0:\n",
    "        break\n",
    "\n"
   ]
  },
  {
   "cell_type": "markdown",
   "metadata": {},
   "source": [
    "## 2.4 Missing values"
   ]
  },
  {
   "cell_type": "code",
   "execution_count": null,
   "metadata": {},
   "outputs": [
    {
     "name": "stdout",
     "output_type": "stream",
     "text": [
      "Label: BEERS\n",
      "[<Record key='abv' EmptyValuesCount=38797>,\n",
      " <Record key='state' EmptyValuesCount=60726>]\n",
      "\n",
      "\n",
      "Label: BREWERIES\n",
      "[<Record key='state' EmptyValuesCount=11271>]\n",
      "\n",
      "\n",
      "Label: CITIES\n",
      "[<Record key='name' EmptyValuesCount=1>]\n",
      "\n",
      "\n",
      "Label: COUNTRIES\n",
      "[<Record key='name' EmptyValuesCount=1>]\n",
      "\n",
      "\n",
      "Label: REVIEWS\n",
      "[<Record key='feel' EmptyValuesCount=1060483>,\n",
      " <Record key='look' EmptyValuesCount=1060483>,\n",
      " <Record key='overall' EmptyValuesCount=1060483>,\n",
      " <Record key='smell' EmptyValuesCount=1060483>,\n",
      " <Record key='taste' EmptyValuesCount=1060483>]\n",
      "\n",
      "\n",
      "Label: STYLE\n",
      "[<Record key='name' EmptyValuesCount=1>]\n",
      "\n",
      "\n",
      "Label: USER\n",
      "[<Record key='name' EmptyValuesCount=1>]\n",
      "\n",
      "\n"
     ]
    }
   ],
   "source": [
    "# We will start by checking NULL values and 'nan' values in all properties\n",
    "nodes = [\"BEERS\", \"BREWERIES\", \"CITIES\", \"COUNTRIES\", \"REVIEWS\", \"STYLE\", \"USER\"]\n",
    "\n",
    "for node in nodes: \n",
    "    query = f\"\"\"\n",
    "            MATCH (n:{node})\n",
    "            UNWIND keys(n) AS key\n",
    "            WITH key\n",
    "            WHERE n[key] IS NULL OR n[key] = 'nan'\n",
    "            RETURN key, count(*) AS EmptyValuesCount\n",
    "            ORDER BY key\n",
    "    \"\"\"\n",
    "    result = execute_read(driver, query)\n",
    "    print(f\"Label: {node}\")\n",
    "    pprint(result)\n",
    "    print(\"\\n\")"
   ]
  },
  {
   "cell_type": "markdown",
   "metadata": {},
   "source": [
    "\n",
    "> **BEERS**: There are missing values in abv (alcohol by volume) but we will leave it as it is. We changed some of the 'nan' values of state above, but there are still missing values, but we will leave it as it is too.\n",
    "\n",
    "> **BREWERIES**: Missing values in state, but we'll leave it as it is. \n",
    "\n",
    "> **CITIES**: There is a 'nan' city connected to lots of different BREWERIES and COUNTRIES, we will remove this node, as it doesn't make sense for that many countries to be connected to it.\n",
    "\n",
    "> **COUNTRIES**: There are 2 cities connected to a country with name 'nan', which are: Windhoek and Swakopmund. Both located in Namimbia, so we've decided to change it. \n",
    "\n",
    "> **STYLE**: Ony has one beer related to it: American Three Threads. We'll delete this node.\n",
    "\n",
    "> **USER**: no name, but has reviews.\n",
    "\n",
    "> **REVIEWS**: has NULL values in some of the ratings, but it has values score.\n",
    "\n",
    "> Convert all 'nan' to NULL, as converting it to null will remove those properties from the node and will save more space.\n"
   ]
  },
  {
   "cell_type": "markdown",
   "metadata": {},
   "source": [
    "### 2.4.1 Missing value in CITIES"
   ]
  },
  {
   "cell_type": "markdown",
   "metadata": {},
   "source": [
    ">There are 19 countries, and 58 breweries connected to the 'nan' city. We will remove this node, as it is most likely these relationships are wrong and it's an inconsistency."
   ]
  },
  {
   "cell_type": "code",
   "execution_count": null,
   "metadata": {},
   "outputs": [
    {
     "name": "stdout",
     "output_type": "stream",
     "text": [
      "[<Record connected_labels=['BREWERIES'] Count=58>,\n",
      " <Record connected_labels=['COUNTRIES'] Count=19>]\n"
     ]
    }
   ],
   "source": [
    "# Check for labels connected to the city with the name 'nan'\n",
    "query = \"\"\"\n",
    "    MATCH (c:CITIES)-[r]-(b)\n",
    "    WHERE c.name = 'nan'\n",
    "    RETURN DISTINCT labels(b) AS connected_labels, COUNT(r) AS Count\n",
    "\n",
    "    \"\"\"\n",
    "result = execute_read(driver, query)\n",
    "pprint(result)\n"
   ]
  },
  {
   "cell_type": "code",
   "execution_count": null,
   "metadata": {},
   "outputs": [],
   "source": [
    "# Delete the node\n",
    "query = \"\"\"\n",
    "   MATCH (c:CITIES)\n",
    "    WHERE c.name = 'nan'\n",
    "    DETACH DELETE c;\n",
    "    \"\"\"\n",
    "result = execute_write(driver, query)"
   ]
  },
  {
   "cell_type": "markdown",
   "metadata": {},
   "source": [
    "### 2.4.2 Missing value in COUNTRY"
   ]
  },
  {
   "cell_type": "code",
   "execution_count": null,
   "metadata": {},
   "outputs": [
    {
     "name": "stdout",
     "output_type": "stream",
     "text": [
      "[<Record b=<Node element_id='9005' labels=frozenset({'CITIES'}) properties={'name': 'Swakopmund'}>>,\n",
      " <Record b=<Node element_id='4423' labels=frozenset({'CITIES'}) properties={'name': 'Windhoek'}>>]\n"
     ]
    }
   ],
   "source": [
    "# Check for cities connected to the 'nan' country\n",
    "query = \"\"\"\n",
    "            MATCH (c:COUNTRIES)--(b:CITIES)\n",
    "            WHERE c.name = 'nan' OR c.name IS NULL\n",
    "            RETURN b\n",
    "    \"\"\"\n",
    "result = execute_read(driver, query)\n",
    "pprint(result)\n"
   ]
  },
  {
   "cell_type": "markdown",
   "metadata": {},
   "source": [
    "> Both these cities belong to the country of Namibia."
   ]
  },
  {
   "cell_type": "code",
   "execution_count": 26,
   "metadata": {},
   "outputs": [
    {
     "name": "stdout",
     "output_type": "stream",
     "text": [
      "[]\n"
     ]
    }
   ],
   "source": [
    "# Change 'nan' country name to Namibia\n",
    "query = f\"\"\"\n",
    "        MATCH (c:COUNTRIES)\n",
    "        WHERE c.name IS NULL or c.name = 'nan'\n",
    "        SET c.name = 'Namibia'\n",
    "        RETURN c\n",
    "    \"\"\"\n",
    "result = execute_write(driver, query)\n",
    "print(result)"
   ]
  },
  {
   "cell_type": "code",
   "execution_count": 27,
   "metadata": {},
   "outputs": [
    {
     "name": "stdout",
     "output_type": "stream",
     "text": [
      "[<Record c=<Node element_id='133' labels=frozenset({'COUNTRIES'}) properties={'name': 'Namibia'}>>]\n"
     ]
    }
   ],
   "source": [
    "query = f\"\"\"\n",
    "        MATCH (c:COUNTRIES)\n",
    "        WHERE c.name='Namibia'\n",
    "        RETURN c\n",
    "    \"\"\"\n",
    "result = execute_read(driver, query)\n",
    "pprint(result)"
   ]
  },
  {
   "cell_type": "markdown",
   "metadata": {},
   "source": [
    "### 2.4.3 Missing value in STYLE"
   ]
  },
  {
   "cell_type": "code",
   "execution_count": null,
   "metadata": {},
   "outputs": [
    {
     "name": "stdout",
     "output_type": "stream",
     "text": [
      "[<Record b=<Node element_id='269155' labels=frozenset({'BEERS'}) properties={'notes': 'No notes at this time.', 'abv': 'nan', 'name': 'American Three Threads', 'retired': 't', 'availability': 'Limited (brewed once)', 'brewery_id': '14', 'state': 'MA', 'id': '24360'}>>]\n"
     ]
    }
   ],
   "source": [
    "# Check for beers connected to the 'nan' style\n",
    "query = \"\"\"\n",
    "            MATCH (s:STYLE)--(b:BEERS)\n",
    "            WHERE s.name = 'nan'\n",
    "            RETURN b\n",
    "    \"\"\"\n",
    "result = execute_read(driver, query)\n",
    "pprint(result)\n"
   ]
  },
  {
   "cell_type": "markdown",
   "metadata": {},
   "source": [
    "> There is only one beer connected to the Style with value 'nan', let's check if it is connected to any other beer, or if there are other beers with the same name."
   ]
  },
  {
   "cell_type": "code",
   "execution_count": null,
   "metadata": {},
   "outputs": [
    {
     "name": "stdout",
     "output_type": "stream",
     "text": [
      "[]\n"
     ]
    }
   ],
   "source": [
    "# Do beers have more than 1 style? \n",
    "\n",
    "query = \"\"\"\n",
    "        MATCH (b:BEERS)-[:HAS_STYLE]->(s:STYLE)\n",
    "        WITH b, COUNT(s) AS styles_count\n",
    "        WHERE styles_count > 1\n",
    "        RETURN b.name AS beer_name, styles_count\n",
    "    \"\"\"\n",
    "result = execute_read(driver, query)\n",
    "pprint(result)"
   ]
  },
  {
   "cell_type": "markdown",
   "metadata": {},
   "source": [
    "> Each beer is connected to only 1 style."
   ]
  },
  {
   "cell_type": "code",
   "execution_count": null,
   "metadata": {},
   "outputs": [
    {
     "name": "stdout",
     "output_type": "stream",
     "text": [
      "[<Record n=<Node element_id='269155' labels=frozenset({'BEERS'}) properties={'notes': 'No notes at this time.', 'abv': 'nan', 'name': 'American Three Threads', 'retired': 't', 'availability': 'Limited (brewed once)', 'brewery_id': '14', 'state': 'MA', 'id': '24360'}>>]\n"
     ]
    }
   ],
   "source": [
    "# Check for other beers with the name 'American Three Threads'\n",
    "query = \"\"\"\n",
    "            MATCH (n:BEERS)\n",
    "            WHERE n.name = 'American Three Threads'\n",
    "            RETURN n\n",
    "    \"\"\"\n",
    "result = execute_read(driver, query)\n",
    "pprint(result)\n"
   ]
  },
  {
   "cell_type": "markdown",
   "metadata": {},
   "source": [
    "> There only exists one beer named 'American Three Threads'. Since the 'nan' style node isn't providing any value, we will delete this node."
   ]
  },
  {
   "cell_type": "code",
   "execution_count": 33,
   "metadata": {},
   "outputs": [],
   "source": [
    "# Delete the style node with the name 'nan'\n",
    "query = \"\"\"\n",
    "   MATCH (s:STYLE)\n",
    "    WHERE s.name = 'nan'\n",
    "    DETACH DELETE s;\n",
    "    \"\"\"\n",
    "result = execute_write(driver, query)"
   ]
  },
  {
   "cell_type": "markdown",
   "metadata": {},
   "source": [
    "### 2.4.4 Missing value in USER"
   ]
  },
  {
   "cell_type": "code",
   "execution_count": null,
   "metadata": {},
   "outputs": [
    {
     "name": "stdout",
     "output_type": "stream",
     "text": [
      "[<Record r=<Node element_id='593150' labels=frozenset({'REVIEWS'}) properties={'date': '2011-09-11', 'score': '3.46', 'taste': '3.5', 'feel': '4.0', 'overall': '3.5', 'beer_id': '62110', 'text': \"Appearance - On the darker side of yellow and very clear. Lot of carbonation bubbles visible and a pretty persistent head. Smell - Grainy sweetness, hay, a bit of sponge toffee, and floral hops. A bit sweeter smelling than any kolsch I've tried. Mouthfeel - light to medium bodied, a little stickiness, and amply carbonated. Taste - A bit of grainy sweetness, just a touch of bitterness, some swwet malts through the middle with a faint metalic taste and a nearly clean finish. This is a pretty good beer, and a great warm weather session beer, but it is not quite as crisp and clean as the best examples of this style.\", 'id': '172065', 'smell': '3.0', 'look': '4.0'}>>,\n",
      " <Record r=<Node element_id='9480237' labels=frozenset({'REVIEWS'}) properties={'date': '2012-07-24', 'score': '4.75', 'taste': 'nan', 'feel': 'nan', 'overall': 'nan', 'beer_id': '79091', 'text': '\\xa0\\xa0 You had this beer. Write a review.', 'id': '9059152', 'smell': 'nan', 'look': 'nan'}>>,\n",
      " <Record r=<Node element_id='9469930' labels=frozenset({'REVIEWS'}) properties={'date': '2012-08-23', 'score': '3.0', 'taste': 'nan', 'feel': 'nan', 'overall': 'nan', 'beer_id': '57285', 'text': '\\xa0\\xa0 You had this beer. Write a review.', 'id': '9048845', 'smell': 'nan', 'look': 'nan'}>>,\n",
      " <Record r=<Node element_id='9446778' labels=frozenset({'REVIEWS'}) properties={'date': '2008-04-22', 'score': '2.97', 'taste': '2.0', 'feel': '4.0', 'overall': '3.0', 'beer_id': '46509', 'text': '\\xa0\\xa0 22oz. bottle Slightly hazy, pale gold. Medium sized head, composed of medium bubbles. White in color. No legs, some lacing. Scent was quite promising. Spicy, citrus, Belgian character. Sugary sweetness and some coriander. Taste was a let down. Citrus and sweet, with a bit of salt? Crackery middle. Not much here, lacks complexity. Herbal bittering at the finish. Light in body. Medium carbonation. Dry. Not too impressed. Taste very simplistic and, frankly, lacking. Lawnmower beer. \\xa0', 'id': '9025693', 'smell': '4.0', 'look': '3.5'}>>,\n",
      " <Record r=<Node element_id='9445315' labels=frozenset({'REVIEWS'}) properties={'date': '2012-10-16', 'score': '3.25', 'taste': 'nan', 'feel': 'nan', 'overall': 'nan', 'beer_id': '60642', 'text': '\\xa0\\xa0 You had this beer. Write a review.', 'id': '9024230', 'smell': 'nan', 'look': 'nan'}>>,\n",
      " <Record r=<Node element_id='9440140' labels=frozenset({'REVIEWS'}) properties={'date': '2012-02-04', 'score': '3.47', 'taste': '3.5', 'feel': '3.5', 'overall': '3.5', 'beer_id': '46426', 'text': '\\xa0\\xa0 Pours a deep burgundy, bordering on black, with a loose beige head that dies quite quickly. A tricky nose to decifer. Biscuits came to my mind straight away, then plum jam. A slight umami note is there aswell. Not very smoky or potent for a smoked beer. Salted caramel, soy sauce, a little smoke comes through in the finish. Mouthfeel is really tidy by comparison. Big and chewy, without being overbearing, not over carbonated, this is the nicest part of the beer. Tasted a little tame to me, nothing really jumped out and wowed me here like some other de molen beers. \\xa0', 'id': '9019055', 'smell': '3.5', 'look': '3.0'}>>,\n",
      " <Record r=<Node element_id='9399102' labels=frozenset({'REVIEWS'}) properties={'date': '2012-10-07', 'score': '4.25', 'taste': 'nan', 'feel': 'nan', 'overall': 'nan', 'beer_id': '45653', 'text': '\\xa0\\xa0 You had this beer. Write a review.', 'id': '8978017', 'smell': 'nan', 'look': 'nan'}>>,\n",
      " <Record r=<Node element_id='9289910' labels=frozenset({'REVIEWS'}) properties={'date': '2012-11-08', 'score': '5.0', 'taste': 'nan', 'feel': 'nan', 'overall': 'nan', 'beer_id': '62911', 'text': '\\xa0\\xa0 You had this beer. Write a review.', 'id': '8868825', 'smell': 'nan', 'look': 'nan'}>>,\n",
      " <Record r=<Node element_id='9267556' labels=frozenset({'REVIEWS'}) properties={'date': '2012-01-06', 'score': '3.8', 'taste': 'nan', 'feel': 'nan', 'overall': 'nan', 'beer_id': '77121', 'text': \"\\xa0\\xa0 On-tap at the BFI's Riverside cafe. This is a very unique holiday seasonal. It has the strength of an English ale, but the yeasty flavour profiule of a Belgian abbey beer. The beer is dark brown with a persistent white head. It is full bodied with flavours of prune and caramel with a gentle bitterness and hops flavours, and strong herbal quality from yarrow. \\xa0\", 'id': '8846471', 'smell': 'nan', 'look': 'nan'}>>,\n",
      " <Record r=<Node element_id='9260961' labels=frozenset({'REVIEWS'}) properties={'date': '2011-08-23', 'score': '3.42', 'taste': '3.5', 'feel': '3.0', 'overall': '3.5', 'beer_id': '43084', 'text': \"\\xa0\\xa0 Appearance - Pale golden with a small head that doesn't last for long. Smell - Floral with honey, lemon and fruit. Bready malts beneath. Taste - A bit of buttered bread, some fruit and citrus. Crisp carbonation makes it refreshing. Not overly complex or bold, but nice and refreshing. \\xa0\", 'id': '8839876', 'smell': '3.5', 'look': '3.0'}>>,\n",
      " <Record r=<Node element_id='9259034' labels=frozenset({'REVIEWS'}) properties={'date': '2007-06-21', 'score': '2.88', 'taste': '2.5', 'feel': '3.0', 'overall': '2.5', 'beer_id': '43010', 'text': \"\\xa0\\xa0 12oz. bottle. 2007 version. Poured a clear, light gold color. Small, creamy, white head. Belgian character in the nose -- earthy and citrus. Spicy, maybe pepper and coriander. Floral notes. Appealing. Taste was all about sweet candi sugar. Alcohol, quite noticeable, was next. Bready in the middle. Finished with some floral/herbal notes. Didn't seem to be particularly complex or put together very well. Medium body. Low to medium carbonation, increasing would improve, IMO. Not dry at all. To me, fits within style, just not a very good attempt. Too sweet and hot, and not particularly well integrated. The bottle suggested aging, and it certainly couldn't hurt. \\xa0\", 'id': '8837949', 'smell': '3.5', 'look': '4.0'}>>,\n",
      " <Record r=<Node element_id='9232087' labels=frozenset({'REVIEWS'}) properties={'date': '2012-02-27', 'score': '4.0', 'taste': 'nan', 'feel': 'nan', 'overall': 'nan', 'beer_id': '67274', 'text': '\\xa0\\xa0 You had this beer. Write a review.', 'id': '8811002', 'smell': 'nan', 'look': 'nan'}>>,\n",
      " <Record r=<Node element_id='9226195' labels=frozenset({'REVIEWS'}) properties={'date': '2012-09-25', 'score': '3.25', 'taste': 'nan', 'feel': 'nan', 'overall': 'nan', 'beer_id': '55590', 'text': '\\xa0\\xa0 You had this beer. Write a review.', 'id': '8805110', 'smell': 'nan', 'look': 'nan'}>>,\n",
      " <Record r=<Node element_id='9211459' labels=frozenset({'REVIEWS'}) properties={'date': '2012-10-30', 'score': '3.75', 'taste': 'nan', 'feel': 'nan', 'overall': 'nan', 'beer_id': '78552', 'text': '\\xa0\\xa0 You had this beer. Write a review.', 'id': '8790374', 'smell': 'nan', 'look': 'nan'}>>,\n",
      " <Record r=<Node element_id='9214983' labels=frozenset({'REVIEWS'}) properties={'date': '2013-02-18', 'score': '4.0', 'taste': 'nan', 'feel': 'nan', 'overall': 'nan', 'beer_id': '52529', 'text': '\\xa0\\xa0 You had this beer. Write a review.', 'id': '8793898', 'smell': 'nan', 'look': 'nan'}>>,\n",
      " <Record r=<Node element_id='9201816' labels=frozenset({'REVIEWS'}) properties={'date': '2012-11-08', 'score': '4.0', 'taste': 'nan', 'feel': 'nan', 'overall': 'nan', 'beer_id': '63152', 'text': '\\xa0\\xa0 You had this beer. Write a review.', 'id': '8780731', 'smell': 'nan', 'look': 'nan'}>>,\n",
      " <Record r=<Node element_id='9199893' labels=frozenset({'REVIEWS'}) properties={'date': '2012-03-21', 'score': '3.5', 'taste': 'nan', 'feel': 'nan', 'overall': 'nan', 'beer_id': '41821', 'text': '\\xa0\\xa0 You had this beer. Write a review.', 'id': '8778808', 'smell': 'nan', 'look': 'nan'}>>,\n",
      " <Record r=<Node element_id='9176970' labels=frozenset({'REVIEWS'}) properties={'date': '2012-09-24', 'score': '4.25', 'taste': 'nan', 'feel': 'nan', 'overall': 'nan', 'beer_id': '41626', 'text': '\\xa0\\xa0 You had this beer. Write a review.', 'id': '8755885', 'smell': 'nan', 'look': 'nan'}>>,\n",
      " <Record r=<Node element_id='9176594' labels=frozenset({'REVIEWS'}) properties={'date': '2012-12-23', 'score': '4.25', 'taste': 'nan', 'feel': 'nan', 'overall': 'nan', 'beer_id': '41626', 'text': '\\xa0\\xa0 You had this beer. Write a review.', 'id': '8755509', 'smell': 'nan', 'look': 'nan'}>>,\n",
      " <Record r=<Node element_id='9164910' labels=frozenset({'REVIEWS'}) properties={'date': '2008-07-18', 'score': '3.48', 'taste': '3.5', 'feel': '3.0', 'overall': '3.5', 'beer_id': '41609', 'text': \"\\xa0\\xa0 22oz. bottle. Clear, black liquid. Looked orange at the edges when held up to light. Medium sized, dark tan head. Minimal lacing and legs. Roasty aroma, some chocolate as well. Something sweet/fruity in there I can't identify. Taste was mostly bitter, a combination of hops and roast. Sweet, wheat bread in the middle, hard to pick out from the bitter. Light to medium body. Low to medium carbonation, could pick up a bit. Not particulary dry. Very much a session beer. Taste character of a stout, with the mouthfeel of a lager. \\xa0\", 'id': '8743825', 'smell': '3.5', 'look': '4.0'}>>,\n",
      " <Record r=<Node element_id='9100912' labels=frozenset({'REVIEWS'}) properties={'date': '2012-01-26', 'score': '3.0', 'taste': 'nan', 'feel': 'nan', 'overall': 'nan', 'beer_id': '40568', 'text': '\\xa0\\xa0 You had this beer. Write a review.', 'id': '8679827', 'smell': 'nan', 'look': 'nan'}>>,\n",
      " <Record r=<Node element_id='9100982' labels=frozenset({'REVIEWS'}) properties={'date': '2012-12-28', 'score': '3.0', 'taste': 'nan', 'feel': 'nan', 'overall': 'nan', 'beer_id': '72291', 'text': '\\xa0\\xa0 You had this beer. Write a review.', 'id': '8679897', 'smell': 'nan', 'look': 'nan'}>>,\n",
      " <Record r=<Node element_id='9087173' labels=frozenset({'REVIEWS'}) properties={'date': '2013-01-25', 'score': '4.0', 'taste': 'nan', 'feel': 'nan', 'overall': 'nan', 'beer_id': '74966', 'text': '\\xa0\\xa0 You had this beer. Write a review.', 'id': '8666088', 'smell': 'nan', 'look': 'nan'}>>,\n",
      " <Record r=<Node element_id='9079350' labels=frozenset({'REVIEWS'}) properties={'date': '2012-11-11', 'score': '5.0', 'taste': 'nan', 'feel': 'nan', 'overall': 'nan', 'beer_id': '64228', 'text': '\\xa0\\xa0 You had this beer. Write a review.', 'id': '8658265', 'smell': 'nan', 'look': 'nan'}>>,\n",
      " <Record r=<Node element_id='9080793' labels=frozenset({'REVIEWS'}) properties={'date': '2012-09-21', 'score': '4.75', 'taste': 'nan', 'feel': 'nan', 'overall': 'nan', 'beer_id': '64228', 'text': '\\xa0\\xa0 You had this beer. Write a review.', 'id': '8659708', 'smell': 'nan', 'look': 'nan'}>>,\n",
      " <Record r=<Node element_id='9079275' labels=frozenset({'REVIEWS'}) properties={'date': '2013-02-20', 'score': '3.75', 'taste': 'nan', 'feel': 'nan', 'overall': 'nan', 'beer_id': '49299', 'text': '\\xa0\\xa0 You had this beer. Write a review.', 'id': '8658190', 'smell': 'nan', 'look': 'nan'}>>,\n",
      " <Record r=<Node element_id='9074554' labels=frozenset({'REVIEWS'}) properties={'date': '2016-08-22', 'score': '3.35', 'taste': '3.5', 'feel': '3.0', 'overall': '3.5', 'beer_id': '77769', 'text': \"\\xa0\\xa0 Packs a punch at 8%. Floral and a bit spicy from the ginger. With sour and spicy notes it's an interesting blend and break from the usual.\", 'id': '8653469', 'smell': '3.0', 'look': '3.75'}>>,\n",
      " <Record r=<Node element_id='9061127' labels=frozenset({'REVIEWS'}) properties={'date': '2012-07-05', 'score': '3.5', 'taste': 'nan', 'feel': 'nan', 'overall': 'nan', 'beer_id': '55081', 'text': '\\xa0\\xa0 You had this beer. Write a review.', 'id': '8640042', 'smell': 'nan', 'look': 'nan'}>>,\n",
      " <Record r=<Node element_id='9061535' labels=frozenset({'REVIEWS'}) properties={'date': '2011-11-25', 'score': '3.06', 'taste': '3.0', 'feel': '3.0', 'overall': '3.0', 'beer_id': '60708', 'text': '\\xa0\\xa0 Appearance - brilliant gold with a slight head that quickly fades away. Smell - lightly bready Marris Otter malt aromas, some bright honeyed fruit, mineral, and musty, leafy hops. Flavour - Thin malts, lots of leafy and herbal English hops, and a mineral aftertaste. \\xa0', 'id': '8640450', 'smell': '3.0', 'look': '4.0'}>>,\n",
      " <Record r=<Node element_id='9053088' labels=frozenset({'REVIEWS'}) properties={'date': '2013-06-16', 'score': '2.5', 'taste': 'nan', 'feel': 'nan', 'overall': 'nan', 'beer_id': '49092', 'text': '\\xa0\\xa0 You had this beer. Write a review.', 'id': '8632003', 'smell': 'nan', 'look': 'nan'}>>,\n",
      " <Record r=<Node element_id='9059172' labels=frozenset({'REVIEWS'}) properties={'date': '2012-09-11', 'score': '3.5', 'taste': 'nan', 'feel': 'nan', 'overall': 'nan', 'beer_id': '55081', 'text': '\\xa0\\xa0 You had this beer. Write a review.', 'id': '8638087', 'smell': 'nan', 'look': 'nan'}>>,\n",
      " <Record r=<Node element_id='9056885' labels=frozenset({'REVIEWS'}) properties={'date': '2013-01-01', 'score': '3.0', 'taste': 'nan', 'feel': 'nan', 'overall': 'nan', 'beer_id': '87338', 'text': '\\xa0\\xa0 You had this beer. Write a review.', 'id': '8635800', 'smell': 'nan', 'look': 'nan'}>>,\n",
      " <Record r=<Node element_id='9055440' labels=frozenset({'REVIEWS'}) properties={'date': '2013-01-29', 'score': '3.75', 'taste': 'nan', 'feel': 'nan', 'overall': 'nan', 'beer_id': '55081', 'text': '\\xa0\\xa0 You had this beer. Write a review.', 'id': '8634355', 'smell': 'nan', 'look': 'nan'}>>,\n",
      " <Record r=<Node element_id='9049433' labels=frozenset({'REVIEWS'}) properties={'date': '2013-11-18', 'score': '4.5', 'taste': 'nan', 'feel': 'nan', 'overall': 'nan', 'beer_id': '64228', 'text': '\\xa0\\xa0 You had this beer. Write a review.', 'id': '8628348', 'smell': 'nan', 'look': 'nan'}>>,\n",
      " <Record r=<Node element_id='9037186' labels=frozenset({'REVIEWS'}) properties={'date': '2014-05-27', 'score': '3.75', 'taste': 'nan', 'feel': 'nan', 'overall': 'nan', 'beer_id': '55081', 'text': '\\xa0\\xa0 You had this beer. Write a review.', 'id': '8616101', 'smell': 'nan', 'look': 'nan'}>>,\n",
      " <Record r=<Node element_id='8989576' labels=frozenset({'REVIEWS'}) properties={'date': '2007-10-25', 'score': '4.27', 'taste': '4.5', 'feel': '4.0', 'overall': '4.5', 'beer_id': '38591', 'text': \"\\xa0\\xa0 12oz. bottle received in trade from chefboy812 - Thanks! Hazy, orange/yellow liquid. Large, rocky, off-white head. Grassy & earthy. Herbal. Peppery. Not much sweet/malt balance in this beer. I think I'm going to like it... Taste is much more bitter than sweet, composed of grapefruit and grass. Malt does show up as a biscuity middle. Provides excellent support for the hops, without taking anything away from them. Nice lingering bitterness in the aftertaste. As I drink, there is some, slight, sweetness in the middle. I think someone spilled a little sugar on the grapefruit. Alcohol is exceptionally well hidden. Medium body. Medium + carbonation. Quite dry. ABV warming very noticeable. I've been looking forward to trying this beer for over a year, and I'm happy to say that it didn't disappoint. If you like hops, go get some of this now! \\xa0\", 'id': '8568491', 'smell': '4.0', 'look': '3.5'}>>,\n",
      " <Record r=<Node element_id='8977052' labels=frozenset({'REVIEWS'}) properties={'date': '2012-10-20', 'score': '4.0', 'taste': 'nan', 'feel': 'nan', 'overall': 'nan', 'beer_id': '46606', 'text': '\\xa0\\xa0 You had this beer. Write a review.', 'id': '8555967', 'smell': 'nan', 'look': 'nan'}>>,\n",
      " <Record r=<Node element_id='8954231' labels=frozenset({'REVIEWS'}) properties={'date': '2011-07-07', 'score': '4.25', 'taste': '4.5', 'feel': '4.5', 'overall': '4.0', 'beer_id': '50176', 'text': \"\\xa0\\xa0 a-jet black stout, pours with a two finger head. Laces down the glass. s-coffee, chocolate, and tons of roasted malts. This Yeti smells like regular Yeti, but richer and more intense. t-like biting into a high cacao content bar o'chocolate. There is some bitterness, slight sweetness and a lot of chocolate taste. The malts come right in behind the chocolate taste. Coffee is next to hit the palate. After this, in the back of the mouth is the pepper taste. It is slightly warming, and lingers in the finish for a few. Good balance to all the flavors. The profile works well together. m-rich and creamy, rolls over the toung really well. Carbonation is done well to support the mouth feel. o-first time trying this variant of Yeti. I enjoyed this a lot. The spice was good, and added some intresting finishing flavors to the beer. I think this would do well with some aging. I'll have to find a few more bottles to set in the cellar. \\xa0\", 'id': '8533146', 'smell': '4.0', 'look': '4.0'}>>,\n",
      " <Record r=<Node element_id='8958581' labels=frozenset({'REVIEWS'}) properties={'date': '2012-11-08', 'score': '5.0', 'taste': 'nan', 'feel': 'nan', 'overall': 'nan', 'beer_id': '38101', 'text': '\\xa0\\xa0 You had this beer. Write a review.', 'id': '8537496', 'smell': 'nan', 'look': 'nan'}>>,\n",
      " <Record r=<Node element_id='8954543' labels=frozenset({'REVIEWS'}) properties={'date': '2012-03-06', 'score': '3.5', 'taste': 'nan', 'feel': 'nan', 'overall': 'nan', 'beer_id': '71954', 'text': '\\xa0\\xa0 You had this beer. Write a review.', 'id': '8533458', 'smell': 'nan', 'look': 'nan'}>>,\n",
      " <Record r=<Node element_id='8933171' labels=frozenset({'REVIEWS'}) properties={'date': '2012-05-01', 'score': '2.0', 'taste': 'nan', 'feel': 'nan', 'overall': 'nan', 'beer_id': '72401', 'text': '\\xa0\\xa0 You had this beer. Write a review.', 'id': '8512086', 'smell': 'nan', 'look': 'nan'}>>,\n",
      " <Record r=<Node element_id='8924343' labels=frozenset({'REVIEWS'}) properties={'date': '2007-09-17', 'score': '3.58', 'taste': '3.5', 'feel': '4.0', 'overall': '3.5', 'beer_id': '37326', 'text': \"\\xa0\\xa0 22oz. bottle Poured a slightly hazy, light orange liquid. Formed a small, off-whtie head, creamy in consistency. Not much lacing or legs. Citrus and spice greeted the nose, think it was coriander. Sweet, cotton candy like. Touch of Belgian funk. Reminds me a bit of a saison. Sweet over bitter in taste. The bitter side picked up as the beer warmed, but it always seemed tilted towards a sweet flavor. Somewhat fruity, maybe a very sweet orange and still hints of cotton candy. Herbal hopping at finish and into the aftertaste. Some tea flavors. Medium in body. Medium + carbonation. Almost seems to evaporate in the mouth. Sweeter than most saisons, so not a good comparison. A little like some tripels I've tried. Not blown away by this one. \\xa0\", 'id': '8503258', 'smell': '3.5', 'look': '4.0'}>>,\n",
      " <Record r=<Node element_id='8918577' labels=frozenset({'REVIEWS'}) properties={'date': '2011-07-18', 'score': '4.74', 'taste': '5.0', 'feel': '4.0', 'overall': '4.5', 'beer_id': '71123', 'text': \"\\xa0\\xa0 a-deep red color with an initial one finger head that goes away as fast as it was poured. Nice lively carbonation. No lacing down the glass. The color is fitting for the Cab barrels and cherries that this beer has sat in for the last two years. s-as soon as I popped the top, the smell hit my nose. There is some muted funk, grapes, wine, sour apple, cherries, and some oak on the nose. I know this sounds like a lot, but it comes out as the beer warms. Smell is a powerful part of this beer. Lots of things happening in this nose, glad it's in a snifter. t-WOW! Beautiful expression of flavors layered in this beer. The beer begins with some sour and little funk right up front. It opens to some cherries and wood mid way through. The beer has a lot of sour fruits in here, and the apples are making their presence known. There is a cider taste in the finish. This beer will crush your palate. The finish went on for a good 5 mins. Beer finishes with some tannic notes. m-the mouth feel is crisp. The carbonation is right on with the beer. This beer has good body. o-Avery knocked it out of the park with this beer. I think their barrel aged beers just keep getting better and better. Great job with all of the great flavors blending in so well with this beer. It is not just sour and then more sour. There are a lot of things going on in here. I found a lot more flavors in the bottom half of the beer that was warmer than the first half. \\xa0\", 'id': '8497492', 'smell': '5.0', 'look': '4.0'}>>,\n",
      " <Record r=<Node element_id='8888284' labels=frozenset({'REVIEWS'}) properties={'date': '2012-04-08', 'score': '4.0', 'taste': 'nan', 'feel': 'nan', 'overall': 'nan', 'beer_id': '43455', 'text': '\\xa0\\xa0 You had this beer. Write a review.', 'id': '8467199', 'smell': 'nan', 'look': 'nan'}>>,\n",
      " <Record r=<Node element_id='8875487' labels=frozenset({'REVIEWS'}) properties={'date': '2011-11-21', 'score': '5.0', 'taste': 'nan', 'feel': 'nan', 'overall': 'nan', 'beer_id': '36672', 'text': '\\xa0\\xa0 You had this beer. Write a review.', 'id': '8454402', 'smell': 'nan', 'look': 'nan'}>>,\n",
      " <Record r=<Node element_id='8864369' labels=frozenset({'REVIEWS'}) properties={'date': '2007-06-08', 'score': '3.88', 'taste': '4.0', 'feel': '4.0', 'overall': '4.0', 'beer_id': '36670', 'text': '\\xa0\\xa0 On tap at Friscos in Columbia. Dark gold. Clear. Medium sized, creamy, light tan head. Very hoppy, citrus in character. Very little malt contribution. Maybe bread/cracker in middle? Very hoppy, bitter much more than sweet. Taste follows aroma. Other hoppy beers from Stoudts have tended to be too balanced or even too malty for my taste. This one is much more to my liking. Hops were citrus and herbal in character. Malt was very mild, perhaps a touch of honey? Medium in body. Medium to high carbonation. Dry. Winner in my book! Nice & hoppy, but not too heavy (body or alcohol). Could be a troublemaker though, I had no idea this was 7%. \\xa0', 'id': '8443284', 'smell': '3.5', 'look': '4.0'}>>,\n",
      " <Record r=<Node element_id='8853996' labels=frozenset({'REVIEWS'}) properties={'date': '2011-08-26', 'score': '3.77', 'taste': '4.0', 'feel': '3.5', 'overall': '4.0', 'beer_id': '67692', 'text': \"\\xa0\\xa0 This is a tasty, easy drinking IPA. It always appears cloudy to me. I don't know if it is unfiltered, or is prone to chill haze. As a former homebrewer, cloudy doesn't really bother me. Copper color typical of style. Limited aroma hops. Nose is a balance of citrus and malt. This is not a very flavorful West Coast IPA, but it is extremely well balanced. Overall this is a really nice beer. It is very consistent, and always delivers a good West Coast IPA experience without being a hop bomb. I should add that I like hop bombs. \\xa0\", 'id': '8432911', 'smell': '3.5', 'look': '3.0'}>>,\n",
      " <Record r=<Node element_id='8851866' labels=frozenset({'REVIEWS'}) properties={'date': '2011-12-03', 'score': '4.0', 'taste': 'nan', 'feel': 'nan', 'overall': 'nan', 'beer_id': '47795', 'text': '\\xa0\\xa0 You had this beer. Write a review.', 'id': '8430781', 'smell': 'nan', 'look': 'nan'}>>,\n",
      " <Record r=<Node element_id='8833277' labels=frozenset({'REVIEWS'}) properties={'date': '2013-02-16', 'score': '4.0', 'taste': 'nan', 'feel': 'nan', 'overall': 'nan', 'beer_id': '47317', 'text': '\\xa0\\xa0 You had this beer. Write a review.', 'id': '8412192', 'smell': 'nan', 'look': 'nan'}>>,\n",
      " <Record r=<Node element_id='8824182' labels=frozenset({'REVIEWS'}) properties={'date': '2012-09-11', 'score': '3.0', 'taste': 'nan', 'feel': 'nan', 'overall': 'nan', 'beer_id': '36010', 'text': '\\xa0\\xa0 You had this beer. Write a review.', 'id': '8403097', 'smell': 'nan', 'look': 'nan'}>>,\n",
      " <Record r=<Node element_id='8807545' labels=frozenset({'REVIEWS'}) properties={'date': '2012-11-29', 'score': '4.0', 'taste': 'nan', 'feel': 'nan', 'overall': 'nan', 'beer_id': '70530', 'text': '\\xa0\\xa0 You had this beer. Write a review.', 'id': '8386460', 'smell': 'nan', 'look': 'nan'}>>,\n",
      " <Record r=<Node element_id='8796136' labels=frozenset({'REVIEWS'}) properties={'date': '2007-05-18', 'score': '4.15', 'taste': '4.5', 'feel': '4.0', 'overall': '4.5', 'beer_id': '35754', 'text': '\\xa0\\xa0 12oz. bottle. Just sitting there saying \"I double dog dare you....\" Here we go... Pour is nothing special. Slightly hazy, amber liquid. Large, creamy, ivory colored head. Pretty good legs. Aroma starts to growl a bit. Pine and grapefruit. Grass and earthiness. Not much sweet about this one! Taste, well the bite is worse than the bark. Much more bitter than sweet. Grass and grapefruit. Decent amount of balance though, with a strong sweet taste seeming to hit me more at the finish. Alcohol is clearly present, and the hops linger nicely, continuing to gnaw away at your palate. Medium to heavy in body (it is a double dog...). Lowish carbonation, but to be expected with ABV. Quite dry. Alcohol warming hits quick. This is a bit of a pit bull, and reminds me a little bit of Devil Dancer. A nice rough and tumble beer, which I\\'ll be sure to buy more of. \\xa0', 'id': '8375051', 'smell': '3.5', 'look': '3.5'}>>,\n",
      " <Record r=<Node element_id='8791617' labels=frozenset({'REVIEWS'}) properties={'date': '2012-09-10', 'score': '3.75', 'taste': 'nan', 'feel': 'nan', 'overall': 'nan', 'beer_id': '35754', 'text': '\\xa0\\xa0 You had this beer. Write a review.', 'id': '8370532', 'smell': 'nan', 'look': 'nan'}>>,\n",
      " <Record r=<Node element_id='8748336' labels=frozenset({'REVIEWS'}) properties={'date': '2012-03-05', 'score': '1.0', 'taste': 'nan', 'feel': 'nan', 'overall': 'nan', 'beer_id': '50830', 'text': '\\xa0\\xa0 You had this beer. Write a review.', 'id': '8327251', 'smell': 'nan', 'look': 'nan'}>>,\n",
      " <Record r=<Node element_id='8745086' labels=frozenset({'REVIEWS'}) properties={'date': '2012-02-11', 'score': '4.0', 'taste': 'nan', 'feel': 'nan', 'overall': 'nan', 'beer_id': '61686', 'text': '\\xa0\\xa0 You had this beer. Write a review.', 'id': '8324001', 'smell': 'nan', 'look': 'nan'}>>,\n",
      " <Record r=<Node element_id='8737285' labels=frozenset({'REVIEWS'}) properties={'date': '2012-02-27', 'score': '1.0', 'taste': 'nan', 'feel': 'nan', 'overall': 'nan', 'beer_id': '45086', 'text': '\\xa0\\xa0 You had this beer. Write a review.', 'id': '8316200', 'smell': 'nan', 'look': 'nan'}>>,\n",
      " <Record r=<Node element_id='8708350' labels=frozenset({'REVIEWS'}) properties={'date': '2007-09-07', 'score': '3.79', 'taste': '4.0', 'feel': '4.0', 'overall': '4.0', 'beer_id': '34833', 'text': '\\xa0\\xa0 12oz. bottle Clear, dark brown with amber highlights. Large, creamy, light tan head. Good lacing and legs. Scents of fruit - cherries and raisins. Bubblegum. Overall, a bit muted. Taste was more sweet than bitter, even through finish. Bubblegum, again, not sure where I am getting that from. Raisins, dark fruits - cherries. A bit port like. Alcohol, just noticeable. Spices - cinammon. Touch of herbal hops. Whole lot going on! Medium to heavy body. Medium + carbonation. A bit drying. Velvety smooth texture. A big ol malt bomb! Not really my thing, but very well done and something I can enjoy every now and then. \\xa0', 'id': '8287265', 'smell': '3.0', 'look': '4.5'}>>,\n",
      " <Record r=<Node element_id='8693475' labels=frozenset({'REVIEWS'}) properties={'date': '2012-10-22', 'score': '4.75', 'taste': 'nan', 'feel': 'nan', 'overall': 'nan', 'beer_id': '49720', 'text': '\\xa0\\xa0 You had this beer. Write a review.', 'id': '8272390', 'smell': 'nan', 'look': 'nan'}>>,\n",
      " <Record r=<Node element_id='8672244' labels=frozenset({'REVIEWS'}) properties={'date': '2012-11-26', 'score': '3.0', 'taste': 'nan', 'feel': 'nan', 'overall': 'nan', 'beer_id': '87000', 'text': '\\xa0\\xa0 You had this beer. Write a review.', 'id': '8251159', 'smell': 'nan', 'look': 'nan'}>>,\n",
      " <Record r=<Node element_id='8680903' labels=frozenset({'REVIEWS'}) properties={'date': '2012-04-30', 'score': '5.0', 'taste': 'nan', 'feel': 'nan', 'overall': 'nan', 'beer_id': '48387', 'text': '\\xa0\\xa0 You had this beer. Write a review.', 'id': '8259818', 'smell': 'nan', 'look': 'nan'}>>,\n",
      " <Record r=<Node element_id='8621577' labels=frozenset({'REVIEWS'}) properties={'date': '2012-12-30', 'score': '3.75', 'taste': 'nan', 'feel': 'nan', 'overall': 'nan', 'beer_id': '84194', 'text': '\\xa0\\xa0 You had this beer. Write a review.', 'id': '8200492', 'smell': 'nan', 'look': 'nan'}>>,\n",
      " <Record r=<Node element_id='8596752' labels=frozenset({'REVIEWS'}) properties={'date': '2012-10-22', 'score': '4.0', 'taste': 'nan', 'feel': 'nan', 'overall': 'nan', 'beer_id': '81388', 'text': '\\xa0\\xa0 You had this beer. Write a review.', 'id': '8175667', 'smell': 'nan', 'look': 'nan'}>>,\n",
      " <Record r=<Node element_id='8563316' labels=frozenset({'REVIEWS'}) properties={'date': '2013-01-08', 'score': '2.5', 'taste': 'nan', 'feel': 'nan', 'overall': 'nan', 'beer_id': '87028', 'text': '\\xa0\\xa0 You had this beer. Write a review.', 'id': '8142231', 'smell': 'nan', 'look': 'nan'}>>,\n",
      " <Record r=<Node element_id='8551627' labels=frozenset({'REVIEWS'}) properties={'date': '2011-06-08', 'score': '4.48', 'taste': '4.5', 'feel': '4.0', 'overall': '4.5', 'beer_id': '53703', 'text': \"\\xa0\\xa0 Appearance - This beer looks beautiful in the galss. It's deep amber-pink with a rich, rocky white head. Retention is good and it leaves nice lacing. Smell - The hibiscus and rose really come through; their perfume-like scent, vanilla, and black pepper mingle with the sour apple and leather funk of the wild yeasts. Mouthfeel - light to medium bodied with good carbonation. Taste - Floral with apples, oak, sweet malt, faint pepper, characteristic JP sourness and a bit of mineral water on the finish. \\xa0\", 'id': '8130542', 'smell': '4.5', 'look': '5.0'}>>,\n",
      " <Record r=<Node element_id='8506396' labels=frozenset({'REVIEWS'}) properties={'date': '2012-09-01', 'score': '3.0', 'taste': 'nan', 'feel': 'nan', 'overall': 'nan', 'beer_id': '66137', 'text': '\\xa0\\xa0 You had this beer. Write a review.', 'id': '8085311', 'smell': 'nan', 'look': 'nan'}>>,\n",
      " <Record r=<Node element_id='8483128' labels=frozenset({'REVIEWS'}) properties={'date': '2012-03-24', 'score': '4.5', 'taste': 'nan', 'feel': 'nan', 'overall': 'nan', 'beer_id': '35626', 'text': '\\xa0\\xa0 You had this beer. Write a review.', 'id': '8062043', 'smell': 'nan', 'look': 'nan'}>>,\n",
      " <Record r=<Node element_id='8484580' labels=frozenset({'REVIEWS'}) properties={'date': '2012-01-28', 'score': '3.08', 'taste': '3.5', 'feel': '3.0', 'overall': '3.0', 'beer_id': '61119', 'text': \"\\xa0\\xa0 Bottled 14/1/12, poured into a leffe glass Hazy amber orange with small tidy head, minimal lacing. Caramel malt, cardboard, earthy/musty hops, pear skin. A little bit of a mess on the nose. More sweet caramel malt, some metallic bitterness, fairly tame. Nothing really exciting here. It has this strange buttery/creaminess that antagonises the crisp dryness. Reminds me of feral white in this section. Average. I won't be buying this again. \\xa0\", 'id': '8063495', 'smell': '2.5', 'look': '3.0'}>>,\n",
      " <Record r=<Node element_id='8436761' labels=frozenset({'REVIEWS'}) properties={'date': '2012-10-21', 'score': '4.5', 'taste': 'nan', 'feel': 'nan', 'overall': 'nan', 'beer_id': '55862', 'text': '\\xa0\\xa0 You had this beer. Write a review.', 'id': '8015676', 'smell': 'nan', 'look': 'nan'}>>,\n",
      " <Record r=<Node element_id='8412651' labels=frozenset({'REVIEWS'}) properties={'date': '2011-09-27', 'score': '4.2', 'taste': '4.5', 'feel': '4.0', 'overall': '4.0', 'beer_id': '52361', 'text': '\\xa0\\xa0 Appearance - bright amber with a finger of sticky white head. Good retention and lacing. Smell - Resinous and hoppy aromas of pine and grapefruit with a candied orange-like malt sweetness just beneath. Taste - Huge hops and malt flavours. This is a big beer, even by DIPA standards. Sweet orange flavours come first, followed by a bruising bitterness through the middle, caramel sweetness, and even more, lingering bitterness on the finish with a little booziness. Long after the sip is swallowed I am left with bitterness in the back of the throat and a lingering citrus sweetness on the lips. \\xa0', 'id': '7991566', 'smell': '4.0', 'look': '4.0'}>>,\n",
      " <Record r=<Node element_id='8386967' labels=frozenset({'REVIEWS'}) properties={'date': '2012-09-11', 'score': '3.25', 'taste': 'nan', 'feel': 'nan', 'overall': 'nan', 'beer_id': '40177', 'text': '\\xa0\\xa0 You had this beer. Write a review.', 'id': '7965882', 'smell': 'nan', 'look': 'nan'}>>,\n",
      " <Record r=<Node element_id='8326306' labels=frozenset({'REVIEWS'}) properties={'date': '2013-02-19', 'score': '4.75', 'taste': 'nan', 'feel': 'nan', 'overall': 'nan', 'beer_id': '86131', 'text': '\\xa0\\xa0 You had this beer. Write a review.', 'id': '7905221', 'smell': 'nan', 'look': 'nan'}>>,\n",
      " <Record r=<Node element_id='8263441' labels=frozenset({'REVIEWS'}) properties={'date': '2012-09-11', 'score': '2.5', 'taste': 'nan', 'feel': 'nan', 'overall': 'nan', 'beer_id': '74390', 'text': '\\xa0\\xa0 You had this beer. Write a review.', 'id': '7842356', 'smell': 'nan', 'look': 'nan'}>>,\n",
      " <Record r=<Node element_id='8216954' labels=frozenset({'REVIEWS'}) properties={'date': '2012-02-18', 'score': '3.5', 'taste': 'nan', 'feel': 'nan', 'overall': 'nan', 'beer_id': '77480', 'text': '\\xa0\\xa0 You had this beer. Write a review.', 'id': '7795869', 'smell': 'nan', 'look': 'nan'}>>,\n",
      " <Record r=<Node element_id='8215954' labels=frozenset({'REVIEWS'}) properties={'date': '2012-06-06', 'score': '5.0', 'taste': 'nan', 'feel': 'nan', 'overall': 'nan', 'beer_id': '37158', 'text': '\\xa0\\xa0 You had this beer. Write a review.', 'id': '7794869', 'smell': 'nan', 'look': 'nan'}>>,\n",
      " <Record r=<Node element_id='8172121' labels=frozenset({'REVIEWS'}) properties={'date': '2012-10-30', 'score': '3.75', 'taste': 'nan', 'feel': 'nan', 'overall': 'nan', 'beer_id': '84693', 'text': '\\xa0\\xa0 You had this beer. Write a review.', 'id': '7751036', 'smell': 'nan', 'look': 'nan'}>>,\n",
      " <Record r=<Node element_id='8161141' labels=frozenset({'REVIEWS'}) properties={'date': '2012-02-18', 'score': '4.64', 'taste': '4.5', 'feel': '5.0', 'overall': '4.5', 'beer_id': '35738', 'text': \"\\xa0\\xa0 A: more yellow than orange, not great head retention or lacing S: sweet grassy piney hops, smells awesome, 5.0+ T: Surprisingly smooth for an 8% DIPA, plenty of hops with a sweet barley tang, finishes citrus and alcohol. M: well carbonated, soft O: Very good beer. I'm always pleasantly surprised with the smoothness in most Lagunitas IPAs. Not really hop stoopid, More like hop struggling with 9th grade algebra. \\xa0\", 'id': '7740056', 'smell': '5.0', 'look': '4.0'}>>,\n",
      " <Record r=<Node element_id='8135688' labels=frozenset({'REVIEWS'}) properties={'date': '2014-03-01', 'score': '2.0', 'taste': 'nan', 'feel': 'nan', 'overall': 'nan', 'beer_id': '87278', 'text': '\\xa0\\xa0 You had this beer. Write a review.', 'id': '7714603', 'smell': 'nan', 'look': 'nan'}>>,\n",
      " <Record r=<Node element_id='8085411' labels=frozenset({'REVIEWS'}) properties={'date': '2011-07-30', 'score': '2.6', 'taste': '2.5', 'feel': '3.5', 'overall': '2.5', 'beer_id': '67635', 'text': '\\xa0\\xa0 Appearance - copper-coloured with a small head that dissipates to a thin ring nearly instantaneously. Smell - The aroma is very sweet with butterscotch dominating over some vanilla and a bit of raisin. Taste - Like the smell, the taste is heavy on butterscotch upfront with an odd boozey fruit finish. There is very little bitterness or acid to balance the big, sweet flavours. This beer was not terrible after the first few sips, but as I continued through the bottle it became increasingly cloying. The butterscotch flavours are too dominant and the beer lacks balance. \\xa0', 'id': '7664326', 'smell': '2.5', 'look': '2.5'}>>,\n",
      " <Record r=<Node element_id='8051656' labels=frozenset({'REVIEWS'}) properties={'date': '2008-07-18', 'score': '3.82', 'taste': '4.0', 'feel': '4.0', 'overall': '4.0', 'beer_id': '38805', 'text': '\\xa0\\xa0 22oz. bottle Poured a hazy, orange-brown. Formed a small, light tan, head. No lacing, minimal legs. Pretty mild aroma. Grass & pine, not much else for me. Nicely bitter, follows aroma, pine & grass. Crackery middle. Long, lingering, bitter finish. Medium in body. Low to medium carbonation. Very dry. Nothing sweet about this one! Very good for the hophead, perhaps lacking balance for others. \\xa0', 'id': '7630571', 'smell': '3.5', 'look': '3.0'}>>,\n",
      " <Record r=<Node element_id='8036524' labels=frozenset({'REVIEWS'}) properties={'date': '2013-02-06', 'score': '4.5', 'taste': 'nan', 'feel': 'nan', 'overall': 'nan', 'beer_id': '37795', 'text': '\\xa0\\xa0 You had this beer. Write a review.', 'id': '7615439', 'smell': 'nan', 'look': 'nan'}>>,\n",
      " <Record r=<Node element_id='8007659' labels=frozenset({'REVIEWS'}) properties={'date': '2012-02-27', 'score': '3.0', 'taste': 'nan', 'feel': 'nan', 'overall': 'nan', 'beer_id': '33832', 'text': '\\xa0\\xa0 You had this beer. Write a review.', 'id': '7586574', 'smell': 'nan', 'look': 'nan'}>>,\n",
      " <Record r=<Node element_id='8002804' labels=frozenset({'REVIEWS'}) properties={'date': '2012-03-02', 'score': '3.0', 'taste': 'nan', 'feel': 'nan', 'overall': 'nan', 'beer_id': '33822', 'text': '\\xa0\\xa0 You had this beer. Write a review.', 'id': '7581719', 'smell': 'nan', 'look': 'nan'}>>,\n",
      " <Record r=<Node element_id='8006824' labels=frozenset({'REVIEWS'}) properties={'date': '2013-01-01', 'score': '4.25', 'taste': 'nan', 'feel': 'nan', 'overall': 'nan', 'beer_id': '33832', 'text': '\\xa0\\xa0 You had this beer. Write a review.', 'id': '7585739', 'smell': 'nan', 'look': 'nan'}>>,\n",
      " <Record r=<Node element_id='7995259' labels=frozenset({'REVIEWS'}) properties={'date': '2012-01-08', 'score': '4.12', 'taste': '4.0', 'feel': '4.0', 'overall': '4.0', 'beer_id': '43579', 'text': \"\\xa0\\xa0 Poured a pale golden orange with a small bright white head. This beer is very clear with a little lacing. On the nose it's all about the passionfruit, in fact it reminds me of the soft drink 'passiona'. When you delve deeper into the beer pineapple, resin and biscuit becomes apparent. The beer is really 'juicy', almost like punch. There's citrus, some pine bitterness, more passionfruit - it's really delicious. Perhaps a little sweet, I would prefer a little more dryness. Overall I really enjoyed this beer, and have enjoyed it many times before. Easily the best ipa made in Australia \\xa0\", 'id': '7574174', 'smell': '4.5', 'look': '4.0'}>>,\n",
      " <Record r=<Node element_id='7970004' labels=frozenset({'REVIEWS'}) properties={'date': '2012-02-18', 'score': '3.86', 'taste': '4.0', 'feel': '3.5', 'overall': '4.0', 'beer_id': '33629', 'text': \"\\xa0\\xa0 Pours black with a huge dark brown rocky head, heaps of lacing and great retention. Nose is burnt toast initially with touches of vanilla and chocolate milk. Heaps of fresh piney hops. On the palate theres rich cocoa nibs upfront, plenty of overroasted coffee too. Half way through the beer I got the most distinct flavour of peanut butter, but it faded as quickly as it appeared - very unusual. The beer has a deep rich and complex mix of charred malt and hoppy bitterness. Overall a decent imperial stout, certainly the hoppiest I've tried. I wonder whether this beer could stand up to a year in the cellar. \\xa0\", 'id': '7548919', 'smell': '3.5', 'look': '4.5'}>>,\n",
      " <Record r=<Node element_id='7947513' labels=frozenset({'REVIEWS'}) properties={'date': '2006-11-30', 'score': '4.05', 'taste': '4.0', 'feel': '4.5', 'overall': '4.0', 'beer_id': '33500', 'text': '\\xa0\\xa0 Amber-gold in color, some haze. Large off white head. Belgian yeastiness, sweetness - candi sugar? Floral & spicy. There is a whole lot of stuff going on in this beer. Flavor leans towards a spicy citrus arrangment. Not very sweet, malt character is more bread like. Hops are quite noticeable, definately a hoppy Belgian. Finish throws alcohol and spice at you. Maybe coriander and cloves. Medium in body, with medium + carbonation. Drying, but in a good way. Overall, quite good. I am very glad I stumbled across this and hope to do so again. I will also be trying to figure out how to get the version from Brooklyn. \\xa0', 'id': '7526428', 'smell': '4.0', 'look': '4.0'}>>,\n",
      " <Record r=<Node element_id='7931356' labels=frozenset({'REVIEWS'}) properties={'date': '2011-12-07', 'score': '3.57', 'taste': '3.5', 'feel': '3.0', 'overall': '3.5', 'beer_id': '52961', 'text': '\\xa0\\xa0 Appearance - burnt amber in colour with beautiful cap of white head that dissipates fairly quickly. Smell - very biscuity with a mild spicy hop character and a dry minerality. Taste and Mouthfeel - Medium-light bodied and aggressively carbonated. A little bit on the thin side. Flavours of biscuit, mineral, very light caramel, mineral water, and a trace of bitterness on the finish. \\xa0', 'id': '7510271', 'smell': '4.0', 'look': '3.5'}>>,\n",
      " <Record r=<Node element_id='7924373' labels=frozenset({'REVIEWS'}) properties={'date': '2012-12-30', 'score': '3.25', 'taste': 'nan', 'feel': 'nan', 'overall': 'nan', 'beer_id': '33394', 'text': '\\xa0\\xa0 You had this beer. Write a review.', 'id': '7503288', 'smell': 'nan', 'look': 'nan'}>>,\n",
      " <Record r=<Node element_id='7904844' labels=frozenset({'REVIEWS'}) properties={'date': '2014-05-08', 'score': '4.0', 'taste': 'nan', 'feel': 'nan', 'overall': 'nan', 'beer_id': '95386', 'text': '\\xa0\\xa0 You had this beer. Write a review.', 'id': '7483759', 'smell': 'nan', 'look': 'nan'}>>,\n",
      " <Record r=<Node element_id='7873768' labels=frozenset({'REVIEWS'}) properties={'date': '2012-02-27', 'score': '3.5', 'taste': 'nan', 'feel': 'nan', 'overall': 'nan', 'beer_id': '70602', 'text': '\\xa0\\xa0 You had this beer. Write a review.', 'id': '7452683', 'smell': 'nan', 'look': 'nan'}>>,\n",
      " <Record r=<Node element_id='7870849' labels=frozenset({'REVIEWS'}) properties={'date': '2012-02-27', 'score': '4.5', 'taste': 'nan', 'feel': 'nan', 'overall': 'nan', 'beer_id': '66507', 'text': '\\xa0\\xa0 You had this beer. Write a review.', 'id': '7449764', 'smell': 'nan', 'look': 'nan'}>>,\n",
      " <Record r=<Node element_id='7851405' labels=frozenset({'REVIEWS'}) properties={'date': '2006-10-03', 'score': '2.68', 'taste': 'nan', 'feel': 'nan', 'overall': 'nan', 'beer_id': '33043', 'text': '\\xa0\\xa0 16oz. bottle. Crystal clear, pale yellow, small white head. A good looking beer. Aroma almost non-existent, faint smell of hops, hard to characterize, some earthiness. Taste is very mild, again some hop bitterness, a bit of malt balance - slightly sweet. Very light in body, medium to high carbonation, and slightly drying. Overall, quite refreshing but bland. Lawnmower beer. \\xa0', 'id': '7430320', 'smell': 'nan', 'look': 'nan'}>>,\n",
      " <Record r=<Node element_id='7834363' labels=frozenset({'REVIEWS'}) properties={'date': '2007-04-09', 'score': '4.3', 'taste': '4.5', 'feel': '4.0', 'overall': '4.5', 'beer_id': '35328', 'text': '\\xa0\\xa0 25oz. bottle. Corked and caged. Mostly clear, golden color. Large, creamy, white colored head. Aroma was honey & citrus. Lots of spice, coriander and clove, I believe. Grassy and herbal, with just a bit of earthiness thrown in there. Not a typical saison nose, but nothing wrong with it. First impression of taste was spicy - back to the coriander and clove. Second thought was it tasted like flowers smell. After that, I discovered a very well balanced beer, with sweet coming in just a bit in front of the bitter. Candi sugar balanced by grass, with bitterness mainly in the finish/aftertaste. Alcohol was there, and came on stronger as temperature increased. Light to medium in body. Medium + in carbonation. Dry. Overall, one of the better American Belgian styles (I thought). Very drinkable, very potent. Well balanced. Only complaint would be that the spices could be toned down a notch. \\xa0', 'id': '7413278', 'smell': '4.0', 'look': '4.0'}>>,\n",
      " <Record r=<Node element_id='7829543' labels=frozenset({'REVIEWS'}) properties={'date': '2012-11-08', 'score': '3.5', 'taste': 'nan', 'feel': 'nan', 'overall': 'nan', 'beer_id': '78417', 'text': '\\xa0\\xa0 You had this beer. Write a review.', 'id': '7408458', 'smell': 'nan', 'look': 'nan'}>>,\n",
      " <Record r=<Node element_id='7825413' labels=frozenset({'REVIEWS'}) properties={'date': '2013-01-15', 'score': '4.25', 'taste': 'nan', 'feel': 'nan', 'overall': 'nan', 'beer_id': '40057', 'text': '\\xa0\\xa0 You had this beer. Write a review.', 'id': '7404328', 'smell': 'nan', 'look': 'nan'}>>,\n",
      " <Record r=<Node element_id='7818527' labels=frozenset({'REVIEWS'}) properties={'date': '2007-05-01', 'score': '3.85', 'taste': '4.0', 'feel': '4.0', 'overall': '4.0', 'beer_id': '32701', 'text': '\\xa0\\xa0 At the pub, 4/21. Poured a hazy, orange-yellow color. Had a medium sized, off-white head. Aroma was pretty mild. Grassy and fruity. Bitter over sweet, but not a real hop bomb. Biscuity. Then the hops came in - herbal, grassy and citrusy. Bitterness lingers nicely. Medium in body, with medium to low carbonation. Rather dry. Overall, a great beer to sip while scanning the coolers. Quite nice, and would probably be a regular for me if it was in MD or I was in AZ. \\xa0', 'id': '7397442', 'smell': '3.5', 'look': '3.5'}>>,\n",
      " <Record r=<Node element_id='7814337' labels=frozenset({'REVIEWS'}) properties={'date': '2011-07-02', 'score': '2.91', 'taste': '3.0', 'feel': '3.0', 'overall': '3.0', 'beer_id': '32532', 'text': \"\\xa0\\xa0 Appearance - Very bright and clear pale gold with a two finger white head that dimishes quickly but has decent retention. Lots of fine bubbles. Smell - sweet grassy and corn aromas with a hint of spicy and floral European hops. Mouthfeel - moderatley carbonated. Taste - sweet hay, grassy, sweet pilsner malts, and a little bitterness. A bit of floral hops sweetness, but just a bit. Finishes corn-sweet and oddly reminiscent of club soda. This isn't a bad beer, but its nothing special. It reminds me of a lot of the mass-produced Czech pilsners; easy to drink, refreshing, but not particularly memorable. \\xa0\", 'id': '7393252', 'smell': '2.5', 'look': '3.5'}>>,\n",
      " <Record r=<Node element_id='7804250' labels=frozenset({'REVIEWS'}) properties={'date': '2013-02-23', 'score': '4.25', 'taste': 'nan', 'feel': 'nan', 'overall': 'nan', 'beer_id': '60694', 'text': '\\xa0\\xa0 You had this beer. Write a review.', 'id': '7383165', 'smell': 'nan', 'look': 'nan'}>>,\n",
      " <Record r=<Node element_id='7809832' labels=frozenset({'REVIEWS'}) properties={'date': '2007-09-07', 'score': '4.03', 'taste': '4.0', 'feel': '4.0', 'overall': '4.0', 'beer_id': '32435', 'text': '\\xa0\\xa0 750ml bottle Crystal clear, red/gold color. Medium to large, creamy, light tan head with a touch of pink. Legs, but no lacing. Winelike - chardonay. Sweet, maybe some raisins. Coriander and some orange. Sweet more than bitter, cotton candy like, maybe some honey. Belgianesque. Orange. Medium + body, with a heavy to viscous body. Medium to high carbonation. Refreshing. Very different. I like it, despite my devotion to the hop. I bet this would go great with Turkey Day. Looks a bit like Mad Elf. Incredibly complex. \\xa0', 'id': '7388747', 'smell': '4.0', 'look': '4.5'}>>,\n",
      " <Record r=<Node element_id='7797956' labels=frozenset({'REVIEWS'}) properties={'date': '2012-12-27', 'score': '5.0', 'taste': 'nan', 'feel': 'nan', 'overall': 'nan', 'beer_id': '85624', 'text': '\\xa0\\xa0 You had this beer. Write a review.', 'id': '7376871', 'smell': 'nan', 'look': 'nan'}>>,\n",
      " <Record r=<Node element_id='7755498' labels=frozenset({'REVIEWS'}) properties={'date': '2006-07-27', 'score': '3.95', 'taste': '4.0', 'feel': '3.5', 'overall': '4.0', 'beer_id': '30928', 'text': '\\xa0\\xa0 Dark brown in color, with ruby highlights when I held it up to the light. Almost opaque. Modest tan head hung around briefly after the pour. \"Typical\" Belgian aroma, some barnyard, some sugar/sweet aromas, spice (clove?). Very appealing and it improved as it warmed. Slight metallic and alcohol notes as well. Flavor was quite complex, toast/coffee hints at start, a raisin/grape taste in the center with some alcohol/medicinal bits thrown in, and a finish of hop bittering (fairly mild). Finally, I think I picked up licorice in the aftertaste. Mouthfeel was medium body, low carb, some alcohol warming and a little bit of diacetyl like slickness. I found this to be very drinkable, moreso the warmer it go. I bought a good bit to cellar and am interested in how that works out. \\xa0', 'id': '7334413', 'smell': '4.0', 'look': '4.0'}>>,\n",
      " <Record r=<Node element_id='7743390' labels=frozenset({'REVIEWS'}) properties={'date': '2012-10-11', 'score': '4.75', 'taste': 'nan', 'feel': 'nan', 'overall': 'nan', 'beer_id': '80458', 'text': '\\xa0\\xa0 You had this beer. Write a review.', 'id': '7322305', 'smell': 'nan', 'look': 'nan'}>>,\n",
      " <Record r=<Node element_id='7746094' labels=frozenset({'REVIEWS'}) properties={'date': '2007-03-05', 'score': '3.56', 'taste': '3.5', 'feel': '3.5', 'overall': '3.5', 'beer_id': '30656', 'text': '\\xa0\\xa0 12oz. bottle Crystal clear mahogany with ruby highlights. Medium sized, light brown head. Smells of caramel, some roast, peach and a hint of coffee. Taste is biscuity, with caramel and peaches on top. Hops come through as a grassy character. Mild roast bitterness. Just a hint of coffee in aftertaste. Medium body. Low carbonation (seems too low). Just a bit drying. Nice, a good session beer for this time of year. Strong flavors and a bit of body. Very tasty. \\xa0', 'id': '7325009', 'smell': '3.5', 'look': '4.5'}>>,\n",
      " <Record r=<Node element_id='7745651' labels=frozenset({'REVIEWS'}) properties={'date': '2012-03-05', 'score': '4.0', 'taste': 'nan', 'feel': 'nan', 'overall': 'nan', 'beer_id': '30628', 'text': '\\xa0\\xa0 You had this beer. Write a review.', 'id': '7324566', 'smell': 'nan', 'look': 'nan'}>>,\n",
      " <Record r=<Node element_id='7710229' labels=frozenset({'REVIEWS'}) properties={'date': '2006-08-15', 'score': '3.21', 'taste': '3.0', 'feel': '3.5', 'overall': '3.5', 'beer_id': '29543', 'text': '\\xa0\\xa0 22oz. bottle. An excellent looking beer, clear deep amber color with a fairly large off white head. Aroma was a little disappointing, in that I really had to work to pick up the hops (faint citrus and grass). Seemed like the malt was much more predominant. I also picked up an earthy type of smell. Taste was similar, with a very strong malt character, which was a bit more balanced than the aroma in the hops department. Still, much less hoppy than I was expecting. Light to medium body, medium carbonation and drying mouthfeel. Overall, a well balanced beer, but not the best example of an IPA IMO. \\xa0', 'id': '7289144', 'smell': '3.0', 'look': '4.0'}>>,\n",
      " <Record r=<Node element_id='7695220' labels=frozenset({'REVIEWS'}) properties={'date': '2007-09-06', 'score': '3.27', 'taste': '3.0', 'feel': '3.0', 'overall': '3.0', 'beer_id': '29078', 'text': \"\\xa0\\xa0 12oz. bottle courtesy of BlindPig - Thanks! Hazy, dirty amber colored liquid. Quite a bit of sediment. Large, creamy, light tan head. Some lacing, not much legs. Aroma was quite tasty. Grapefruit, peaches and caramel (big time as it warmed). Biscuity. All the smells I love in an IPA/DIPA. Taste was pretty hoppy right from the start, but was supported by a strong, caramel malt backbone. Pretty well balanced. Nice lingering hoppiness at the finish and in the aftertaste. Alcohol noticeable near the finish. Medium + body. Medium carbonation. Rather dry. Overall, OK, but doesn't wow me. I look back over my notes, and it's hard to put my finger on what I don't like. Perhaps it's too balanced, when I like the hops to be a bit stronger. The alcohol could be better hidden. In the end, seems pretty well made, just not to my taste. \\xa0\", 'id': '7274135', 'smell': '4.0', 'look': '3.5'}>>,\n",
      " <Record r=<Node element_id='7687969' labels=frozenset({'REVIEWS'}) properties={'date': '2006-12-08', 'score': '2.63', 'taste': '2.5', 'feel': '3.5', 'overall': '2.5', 'beer_id': '28940', 'text': \"\\xa0\\xa0 12oz. bottle Hazy, orange-brown color. Primarily white head. Aroma was tart and citrusy. Then came a yeasty/vegetal scent. Finished with an earthy kind of smell. This increased as it warmed and it was not a positive thing. Taste followed first part of aroma, tart and citrusy (grapefruit). This lingered well into aftertaste and was not pleasant (sour more than bitter). A bread/yeast flavor was present at the middle and towards the end. Body was light to medium, and carbonation seemed to be medium+. It was fairly drying. Overall, this beer seemed very out of character to me. Lagers shoudn't be hazy, bocks shouldn't have the malt profile overshadowed by anything, and the mouthfeel seemed too light and overcarbonated. Regardless of stylistic accuracy or lack, I didn't like the beer. \\xa0\", 'id': '7266884', 'smell': '2.5', 'look': '3.0'}>>,\n",
      " <Record r=<Node element_id='7644920' labels=frozenset({'REVIEWS'}) properties={'date': '2006-11-06', 'score': '3.23', 'taste': '3.0', 'feel': '3.5', 'overall': '3.0', 'beer_id': '28176', 'text': '\\xa0\\xa0 12oz. bottle purchased at Papago in Phoenix. Slightly hazy, straw yellow in color. Huge white head - looked like whipped cream. Lots of lacing as I drank. Aroma was floral hops, rather mild, with spices thrown in. Missing the barnyard/yeast scent. A bit of citrus as well. Tart and citrusy, too much so for my taste. Not much sweet to balance, either. Spicy, but I could not characterize. This is my second Jolly Pumpkin beer, and both have been too tart for me. Please note that this is different from bitter. Body was light and highly carbonated. Fairly dry finish. Overall, OK, but too tart. Very drinkable, just not to my taste. \\xa0', 'id': '7223835', 'smell': '3.5', 'look': '4.0'}>>,\n",
      " <Record r=<Node element_id='7606693' labels=frozenset({'REVIEWS'}) properties={'date': '2012-07-18', 'score': '4.5', 'taste': 'nan', 'feel': 'nan', 'overall': 'nan', 'beer_id': '36594', 'text': '\\xa0\\xa0 You had this beer. Write a review.', 'id': '7185608', 'smell': 'nan', 'look': 'nan'}>>,\n",
      " <Record r=<Node element_id='7601428' labels=frozenset({'REVIEWS'}) properties={'date': '2012-05-30', 'score': '3.5', 'taste': 'nan', 'feel': 'nan', 'overall': 'nan', 'beer_id': '46070', 'text': '\\xa0\\xa0 You had this beer. Write a review.', 'id': '7180343', 'smell': 'nan', 'look': 'nan'}>>,\n",
      " <Record r=<Node element_id='7607705' labels=frozenset({'REVIEWS'}) properties={'date': '2007-05-09', 'score': '3.41', 'taste': '3.5', 'feel': '3.5', 'overall': '3.5', 'beer_id': '27599', 'text': '\\xa0\\xa0 On tap at the Flying Saucer, Addison, TX. Slightly hazy, deep amber/brown. Medium sized, creamy, ivory colored head. Scent was mainly bread dough, with a touch of floral/herbal notes. Unpleasant medicinal aroma, which mellowed a bit as the beer warmed. Bitter more than sweet, balances some as the beer warms. Medicinal/phenol flavor picked up on in scent carries into taste, not very pleasant. Similar to the scent, this improves as the beer warms. An herbal/grassy bitterness is in the finish and aftertaste. Touch of caramel. Finally, roast notes - fairly mild, tie into the bitterness. Medium in body. Low carbonation - could be increased a bit IMO. Fairly dry. Not impressed at the start, but it improved considerably as the temperature increased. Nice balance, would drink again. \\xa0', 'id': '7186620', 'smell': '3.0', 'look': '4.0'}>>,\n",
      " <Record r=<Node element_id='7503078' labels=frozenset({'REVIEWS'}) properties={'date': '2013-02-19', 'score': '4.5', 'taste': 'nan', 'feel': 'nan', 'overall': 'nan', 'beer_id': '88062', 'text': '\\xa0\\xa0 You had this beer. Write a review.', 'id': '7081993', 'smell': 'nan', 'look': 'nan'}>>,\n",
      " <Record r=<Node element_id='7487946' labels=frozenset({'REVIEWS'}) properties={'date': '2012-09-11', 'score': '2.75', 'taste': 'nan', 'feel': 'nan', 'overall': 'nan', 'beer_id': '49935', 'text': '\\xa0\\xa0 You had this beer. Write a review.', 'id': '7066861', 'smell': 'nan', 'look': 'nan'}>>,\n",
      " <Record r=<Node element_id='7486009' labels=frozenset({'REVIEWS'}) properties={'date': '2011-06-26', 'score': '3.92', 'taste': '4.0', 'feel': '3.5', 'overall': '4.0', 'beer_id': '46896', 'text': '\\xa0\\xa0 Appearance - clear pale copper with a persistent small white head. Smell - pine aromas dominate with a touch of citrus and rich caramel malt. Mouthfeel - medium bodied with high carbonation. Taste - Lots of hops flavour without much bitterness; mostly citrus and pine with a little bit of burnt sugar malt flavour, but finishes relatively dry. Very well-balanced. This is a very good IPA. For the price, it is probably the best value beer out there. \\xa0', 'id': '7064924', 'smell': '4.0', 'look': '3.5'}>>,\n",
      " <Record r=<Node element_id='7475962' labels=frozenset({'REVIEWS'}) properties={'date': '2011-07-11', 'score': '3.98', 'taste': '4.0', 'feel': '3.5', 'overall': '4.0', 'beer_id': '69489', 'text': '\\xa0\\xa0 Appearance - Clear golden amber with a huge, dense white head that lasts forever. Leaves beautiful Brussels lace. Smell - Spicy and aromatic Belgian yeast slightly overshadows the hops. Subtle aromas of banana and bubblegum; stronger notes of cloves and mint, with a touch of resinous citrus peel hops and just the faintest hint of caramel. Taste - Echoes the aroma to some degree; definitely lots of spicy clove and lemon peel, ripe fruit, exotic yeast, and a dry mineral finish. \\xa0', 'id': '7054877', 'smell': '4.0', 'look': '4.5'}>>,\n",
      " <Record r=<Node element_id='7472023' labels=frozenset({'REVIEWS'}) properties={'date': '2012-11-08', 'score': '4.25', 'taste': 'nan', 'feel': 'nan', 'overall': 'nan', 'beer_id': '36727', 'text': '\\xa0\\xa0 You had this beer. Write a review.', 'id': '7050938', 'smell': 'nan', 'look': 'nan'}>>,\n",
      " <Record r=<Node element_id='7469097' labels=frozenset({'REVIEWS'}) properties={'date': '2009-03-15', 'score': '4.1', 'taste': '4.0', 'feel': '4.0', 'overall': '4.5', 'beer_id': '25755', 'text': \"\\xa0\\xa0 A - Poured a light amber color with about an inch of head. Extremely clear and clean look. This beer left lacing the entire length of the glass. S - Smelled very citrusy, possibly grapefruit but heavy hop presence. T - Strong hop flavor with some malt balance. The hop flavor doesn't slap you in the face quit like a Hopslam. M - If you love IPAs, this one is a keeper. I loved it! A very tolerable bitter presence with plenty of citrus notes to accent. D - Could be a session beer. The bitterness is what draws me to this beer yet it is not so overpowering that I only want one. It would be very easy to enjoy one after the next. \\xa0\", 'id': '7048012', 'smell': '4.0', 'look': '4.0'}>>,\n",
      " <Record r=<Node element_id='7468135' labels=frozenset({'REVIEWS'}) properties={'date': '2012-05-28', 'score': '4.5', 'taste': 'nan', 'feel': 'nan', 'overall': 'nan', 'beer_id': '25755', 'text': '\\xa0\\xa0 You had this beer. Write a review.', 'id': '7047050', 'smell': 'nan', 'look': 'nan'}>>,\n",
      " <Record r=<Node element_id='7452681' labels=frozenset({'REVIEWS'}) properties={'date': '2012-07-29', 'score': '4.25', 'taste': 'nan', 'feel': 'nan', 'overall': 'nan', 'beer_id': '34085', 'text': '\\xa0\\xa0 You had this beer. Write a review.', 'id': '7031596', 'smell': 'nan', 'look': 'nan'}>>,\n",
      " <Record r=<Node element_id='7453934' labels=frozenset({'REVIEWS'}) properties={'date': '2007-03-07', 'score': '3.8', 'taste': '4.0', 'feel': '3.5', 'overall': '4.0', 'beer_id': '34085', 'text': '\\xa0\\xa0 22oz. bottle. Hazy, golden color. Medium sized, off white head. Summit & Nugget hops bring the flavor in at 101 IBUs. Grapefruit, grass and pine. Smells like a hop bomb....No malt balance in aroma. It is, it is a hop bomb! No confusion with an American barleywine. Grapefruit and pine. Hops supported by a cracker-like malt. A bit of a soapy aftertaste? Medium + in body. Medium + carbonation. Dry as can be. Soap is back as a mouth-coating feeling. I like the taste, but this one is kind of rough. Unbalanced is a bit of an understatement. \\xa0', 'id': '7032849', 'smell': '3.5', 'look': '3.5'}>>,\n",
      " <Record r=<Node element_id='7450111' labels=frozenset({'REVIEWS'}) properties={'date': '2012-12-01', 'score': '3.5', 'taste': 'nan', 'feel': 'nan', 'overall': 'nan', 'beer_id': '76440', 'text': '\\xa0\\xa0 You had this beer. Write a review.', 'id': '7029026', 'smell': 'nan', 'look': 'nan'}>>,\n",
      " <Record r=<Node element_id='7450254' labels=frozenset({'REVIEWS'}) properties={'date': '2012-09-08', 'score': '4.0', 'taste': 'nan', 'feel': 'nan', 'overall': 'nan', 'beer_id': '76440', 'text': '\\xa0\\xa0 You had this beer. Write a review.', 'id': '7029169', 'smell': 'nan', 'look': 'nan'}>>,\n",
      " <Record r=<Node element_id='7434979' labels=frozenset({'REVIEWS'}) properties={'date': '2013-02-20', 'score': '2.25', 'taste': 'nan', 'feel': 'nan', 'overall': 'nan', 'beer_id': '88052', 'text': '\\xa0\\xa0 You had this beer. Write a review.', 'id': '7013894', 'smell': 'nan', 'look': 'nan'}>>,\n",
      " <Record r=<Node element_id='7422479' labels=frozenset({'REVIEWS'}) properties={'date': '2012-02-27', 'score': '3.5', 'taste': 'nan', 'feel': 'nan', 'overall': 'nan', 'beer_id': '43231', 'text': '\\xa0\\xa0 You had this beer. Write a review.', 'id': '7001394', 'smell': 'nan', 'look': 'nan'}>>,\n",
      " <Record r=<Node element_id='7428057' labels=frozenset({'REVIEWS'}) properties={'date': '2008-04-14', 'score': '4.14', 'taste': '4.5', 'feel': '4.0', 'overall': '4.0', 'beer_id': '25265', 'text': '\\xa0\\xa0 22oz. bottle Very hazy, dirty tan/brown. Small, off white head. A bit lifeless, with lots of sediment in the bottle. Grapefruit and oranges in a big way as I inhale. Hint of alcohol. Some sweetness, caramel? Taste is hoppy! Back to grapefruit and oranges. Alcohol seems hotter than 7% on label. Caramel and pine become more distinct as it warms. Nice lingering bitterness. Medium body. Low carbonation. Dry. I was not very excited by the appearance, but the taste really picked the beer up. A well-balanced hop bomb! \\xa0', 'id': '7006972', 'smell': '4.0', 'look': '3.0'}>>,\n",
      " <Record r=<Node element_id='7413167' labels=frozenset({'REVIEWS'}) properties={'date': '2007-09-06', 'score': '4.0', 'taste': '4.0', 'feel': '4.0', 'overall': '4.0', 'beer_id': '28179', 'text': '\\xa0\\xa0 Growler in trade from scthaden -- Thanks! Hazy, light golden color. Very small, white head. Stirs up to a creamy, medium sized cap. No legs, OK lacing. Smell is Belgian -- citrus (lemon), spice (coriander and pepper) and earthiness. Taste is more tart than sweet initially, may be too cold. Grassy and herbal. Light alcohol. Citrus - lemons and oranges. Spicy - more pepper at finish. Never really did sweeten much, despite coming up in temperature. Medium body. Medium carbonation despite appearance. Dry. Very good. Easy to drink and most enjoyable on a hot Baltimore summer evening. \\xa0', 'id': '6992082', 'smell': '4.0', 'look': '4.0'}>>,\n",
      " <Record r=<Node element_id='7398664' labels=frozenset({'REVIEWS'}) properties={'date': '2012-09-29', 'score': '4.75', 'taste': 'nan', 'feel': 'nan', 'overall': 'nan', 'beer_id': '24905', 'text': '\\xa0\\xa0 You had this beer. Write a review.', 'id': '6977579', 'smell': 'nan', 'look': 'nan'}>>,\n",
      " <Record r=<Node element_id='7394598' labels=frozenset({'REVIEWS'}) properties={'date': '2007-07-13', 'score': '3.59', 'taste': '3.5', 'feel': '3.5', 'overall': '3.5', 'beer_id': '24896', 'text': '\\xa0\\xa0 12oz. bottle Hazy, light amber in color. Medium, light tan head, rocky. Good lacing. Aroma was grassy and biscuity. Fruit & floral elements. Very sweet smell - caramel. A bit of grapefruit. Bitter more than sweet, but nice balance. Grapefruit, but mild. Some oranges as well. Caramel, but quite mild. Medium body. Medium carbonation. Dry. A bit of graininess in texture. Quite good. I would love to try this fresh or on tap. \\xa0', 'id': '6973513', 'smell': '4.0', 'look': '3.0'}>>,\n",
      " <Record r=<Node element_id='7390720' labels=frozenset({'REVIEWS'}) properties={'date': '2006-07-08', 'score': '3.8', 'taste': '3.5', 'feel': '4.0', 'overall': '4.0', 'beer_id': '24836', 'text': '\\xa0\\xa0 Poured from a 12 oz. bottle. Very light gold, crystal clear. Small head despite vigorous pour. The aroma was slightly hoppy, a bit of malt, and pear. Flavor was more hops than malt, but you did get a slight sweet taste in there. Overall, very well balanced. Light and drinkable, low carbonation, dry finish. An excellent summer beer. \\xa0', 'id': '6969635', 'smell': '4.0', 'look': '4.0'}>>,\n",
      " <Record r=<Node element_id='7383723' labels=frozenset({'REVIEWS'}) properties={'date': '2007-03-07', 'score': '3.1', 'taste': '3.0', 'feel': '2.5', 'overall': '3.0', 'beer_id': '30118', 'text': '\\xa0\\xa0 750ml bottle. Bottled on 4/14/06 Clear amber color. Medium, light tan head which faded quite quickly. Nice legs, viscous appearance to fluid. Aroma reminded me of grapes & honey. Then, it hit me, that it really smelled like a grape Jolly Rancher. This subsided some as it warmed. Began to pick up caramel, and really ripe cantaloupe. Taste was very sweet, grape flavored cotton candy. Little, if any, bitter balance. Maybe just a touch of grassy/herbal character near the finish. Some caramel. Medium bodied. Medium + carbonation. Not drying. Mouth coating sweetness, almost cloying. OA, too sweet for me. Interesting, but not something I would try again. \\xa0', 'id': '6962638', 'smell': '3.5', 'look': '3.5'}>>,\n",
      " <Record r=<Node element_id='7362038' labels=frozenset({'REVIEWS'}) properties={'date': '2008-02-26', 'score': '3.53', 'taste': '3.5', 'feel': '3.5', 'overall': '3.5', 'beer_id': '24447', 'text': '\\xa0\\xa0 12oz. bottle Clear, dark gold liquid. Small, ivory colored head. Pumpkin pie, not overpowering though. Spicy and peppery as well. Taste is spicy. Bitter more than sweet. Touch of caramel. Biscuity/grainy middle. Grassy finish. Medium in body and carbonation. Sweet more than dry. Overall, pretty good. Not too heavy, but spicier than I like. \\xa0', 'id': '6940953', 'smell': '3.5', 'look': '4.0'}>>,\n",
      " <Record r=<Node element_id='7334934' labels=frozenset({'REVIEWS'}) properties={'date': '2012-09-22', 'score': '4.0', 'taste': 'nan', 'feel': 'nan', 'overall': 'nan', 'beer_id': '65347', 'text': '\\xa0\\xa0 You had this beer. Write a review.', 'id': '6913849', 'smell': 'nan', 'look': 'nan'}>>,\n",
      " <Record r=<Node element_id='7338261' labels=frozenset({'REVIEWS'}) properties={'date': '2012-04-14', 'score': '3.0', 'taste': 'nan', 'feel': 'nan', 'overall': 'nan', 'beer_id': '67617', 'text': '\\xa0\\xa0 You had this beer. Write a review.', 'id': '6917176', 'smell': 'nan', 'look': 'nan'}>>,\n",
      " <Record r=<Node element_id='7333627' labels=frozenset({'REVIEWS'}) properties={'date': '2014-03-29', 'score': '3.5', 'taste': 'nan', 'feel': 'nan', 'overall': 'nan', 'beer_id': '65347', 'text': '\\xa0\\xa0 You had this beer. Write a review.', 'id': '6912542', 'smell': 'nan', 'look': 'nan'}>>,\n",
      " <Record r=<Node element_id='7335564' labels=frozenset({'REVIEWS'}) properties={'date': '2012-07-23', 'score': '4.5', 'taste': 'nan', 'feel': 'nan', 'overall': 'nan', 'beer_id': '24059', 'text': '\\xa0\\xa0 You had this beer. Write a review.', 'id': '6914479', 'smell': 'nan', 'look': 'nan'}>>,\n",
      " <Record r=<Node element_id='7291709' labels=frozenset({'REVIEWS'}) properties={'date': '2012-03-29', 'score': '4.5', 'taste': 'nan', 'feel': 'nan', 'overall': 'nan', 'beer_id': '23506', 'text': '\\xa0\\xa0 You had this beer. Write a review.', 'id': '6870624', 'smell': 'nan', 'look': 'nan'}>>,\n",
      " <Record r=<Node element_id='7299099' labels=frozenset({'REVIEWS'}) properties={'date': '2012-09-01', 'score': '2.0', 'taste': 'nan', 'feel': 'nan', 'overall': 'nan', 'beer_id': '23535', 'text': '\\xa0\\xa0 You had this beer. Write a review.', 'id': '6878014', 'smell': 'nan', 'look': 'nan'}>>,\n",
      " <Record r=<Node element_id='7286275' labels=frozenset({'REVIEWS'}) properties={'date': '2012-11-11', 'score': '3.75', 'taste': 'nan', 'feel': 'nan', 'overall': 'nan', 'beer_id': '23494', 'text': '\\xa0\\xa0 You had this beer. Write a review.', 'id': '6865190', 'smell': 'nan', 'look': 'nan'}>>,\n",
      " <Record r=<Node element_id='7271727' labels=frozenset({'REVIEWS'}) properties={'date': '2012-11-01', 'score': '4.5', 'taste': 'nan', 'feel': 'nan', 'overall': 'nan', 'beer_id': '77299', 'text': '\\xa0\\xa0 You had this beer. Write a review.', 'id': '6850642', 'smell': 'nan', 'look': 'nan'}>>,\n",
      " <Record r=<Node element_id='7257822' labels=frozenset({'REVIEWS'}) properties={'date': '2006-06-16', 'score': '3.82', 'taste': '4.0', 'feel': '4.0', 'overall': '4.0', 'beer_id': '24217', 'text': '\\xa0\\xa0 My second Fantome, and a very different experience. Poured a hazy yellow color, with a monstrous head which took it\\'s own sweet time to drop. Aroma to me was very much citrus, with some earthy/yeast (Belgium?) thing going on. Wasn\\'t sure what to expect given the \"warning\" about the bitterness, but found it to be overstated compared to what we can get in IPAs. Taste was fairly bitter at first, but then the malt came through towards the end. After a few sips, even the bitterness seemed to smooth out. Mouthfeel was dry, but it just left me wanting more. A very drinkable beer. I intend to try this one again, as I had an Eisbock first, and they don\\'t pair very well. \\xa0', 'id': '6836737', 'smell': '3.5', 'look': '3.0'}>>,\n",
      " <Record r=<Node element_id='7256562' labels=frozenset({'REVIEWS'}) properties={'date': '2012-09-09', 'score': '3.75', 'taste': 'nan', 'feel': 'nan', 'overall': 'nan', 'beer_id': '74634', 'text': '\\xa0\\xa0 You had this beer. Write a review.', 'id': '6835477', 'smell': 'nan', 'look': 'nan'}>>,\n",
      " <Record r=<Node element_id='7239880' labels=frozenset({'REVIEWS'}) properties={'date': '2007-04-09', 'score': '3.03', 'taste': '2.5', 'feel': '3.5', 'overall': '3.0', 'beer_id': '22791', 'text': '\\xa0\\xa0 12oz. bottle Hazy, orange/gold in color. Modest, off-white head. Hoppy aroma, citrus & flowers. Peach, honey & caramel. Smells very tasty. Hops moreso than malt, but good balance. Flavor follows aroma, in that hops are most evident. Grassy/bitter in aftertaste, not entirely pleasant. Malt character is crackery. Some sort of chemical sweetness (think Sweet & Low aftertaste) in there - mellowed as I drank. Pepper and herbal notes. Light bodied, with medium carbonation. Fairly dry. OK. Taste loses a few points because of chemical flavor. Not one I would hurry back to. \\xa0', 'id': '6818795', 'smell': '3.5', 'look': '4.0'}>>,\n",
      " <Record r=<Node element_id='7238539' labels=frozenset({'REVIEWS'}) properties={'date': '2011-06-18', 'score': '4.42', 'taste': '4.5', 'feel': '4.0', 'overall': '4.5', 'beer_id': '22790', 'text': '\\xa0\\xa0 a-looks nice with a half inch head (tall pour not the beers fault). Lively carbonation and good lacing down the glass. s-nicely balanced hops with some faint malt. Some pine and grapefruit. Not overly big on the nose, but nice. t-taste like Pliny light. Not a dig, but rather a single IPA version of the great DIPA. Taste like it smells and is a beer I could have a few of in one sitting. Really easy to drink with some good depth of flavor. m-lighter, but feels great. Good carbonation and lively feel. o-I wish I could get this beer everywhere. The beer is a nice everyday IPA that is well constructed. Solid example of the style. As usual Vinnie and crew kick ass. \\xa0', 'id': '6817454', 'smell': '4.5', 'look': '4.0'}>>,\n",
      " <Record r=<Node element_id='7215966' labels=frozenset({'REVIEWS'}) properties={'date': '2006-10-03', 'score': '3.88', 'taste': '4.0', 'feel': '3.5', 'overall': '5.0', 'beer_id': '22484', 'text': '\\xa0\\xa0 Pair of pliers squeezing a hop - Hop Juice as the name - kinda sets a high level of expectation for the hop profile.... 22oz. bomber. Poured a slightly hazy, orange-gold color. Developed a medium sized, light tan head. The aroma was quite mild and consisted mainly of hops, pine and mint. Based on the bottle, I would have expected a much stronger hop blast. Flavor was very good, with the malt and the hops balanced nicely. Malt character was biscuity and husky, with the hops coming in the citrus variety. Hops flavors lingered long into the aftertaste. This was a \"light\" beer for it\\'s style, coming in as something less than medium bodied. The carbonation was pretty low, and, IMO, could be punched up a bit. This was a very drinkable beer, and the ABV was hidden extremely well. My only complaint is that it didn\\'t really live up to the expectations created by the label. \\xa0', 'id': '6794881', 'smell': '3.0', 'look': '3.5'}>>,\n",
      " <Record r=<Node element_id='7214246' labels=frozenset({'REVIEWS'}) properties={'date': '2012-09-15', 'score': '4.5', 'taste': 'nan', 'feel': 'nan', 'overall': 'nan', 'beer_id': '22478', 'text': '\\xa0\\xa0 You had this beer. Write a review.', 'id': '6793161', 'smell': 'nan', 'look': 'nan'}>>,\n",
      " <Record r=<Node element_id='7220984' labels=frozenset({'REVIEWS'}) properties={'date': '2007-03-26', 'score': '3.5', 'taste': '3.5', 'feel': '3.0', 'overall': '3.0', 'beer_id': '34004', 'text': '\\xa0\\xa0 750ml bottle. \"Ale brewed with honey and curaco orange peel\" Poured a hazy, glowing golden orange color. Large, creamy, off-white head. Some lacing. Orange scent for sure. Some barnyard/funkiness. Coriander? Honey/cotton candy/candi sugar. Spicy & citrusy right out of the gate. Moderates some as the beer warms. Sweet follows closely behind - fruit, pineapple, tropical flavors, and flowery. Lingers into aftertaste. Pepper at finish. Medium in body. High carbonation, too much IMO. Dry. Overall, not a bad saison, but there are many I have liked better at half the price. \\xa0', 'id': '6799899', 'smell': '4.0', 'look': '4.0'}>>,\n",
      " <Record r=<Node element_id='7215617' labels=frozenset({'REVIEWS'}) properties={'date': '2011-08-01', 'score': '3.78', 'taste': '3.5', 'feel': '3.5', 'overall': '4.0', 'beer_id': '22484', 'text': '\\xa0\\xa0 Appearance - Beautiful bright orange-gold with a large, frothy head that has good retention and lacing. Smell - Deep and rich caramel and honey malt flavours layered with resinous hops. While there are hoppy pine and grapefruit aromas, they are well-integrated with the sweet malt. This is not nearly the hop assault I expected, but is still very hoppy. Taste - Starts with honey and caramel leading in to a nice, intensely bitter middle, followed by resinous, piney finish. \\xa0', 'id': '6794532', 'smell': '4.0', 'look': '4.5'}>>,\n",
      " <Record r=<Node element_id='7207817' labels=frozenset({'REVIEWS'}) properties={'date': '2012-08-10', 'score': '4.75', 'taste': 'nan', 'feel': 'nan', 'overall': 'nan', 'beer_id': '22381', 'text': '\\xa0\\xa0 You had this beer. Write a review.', 'id': '6786732', 'smell': 'nan', 'look': 'nan'}>>,\n",
      " <Record r=<Node element_id='7200990' labels=frozenset({'REVIEWS'}) properties={'date': '2013-01-16', 'score': '4.25', 'taste': 'nan', 'feel': 'nan', 'overall': 'nan', 'beer_id': '22343', 'text': '\\xa0\\xa0 You had this beer. Write a review.', 'id': '6779905', 'smell': 'nan', 'look': 'nan'}>>,\n",
      " <Record r=<Node element_id='7162743' labels=frozenset({'REVIEWS'}) properties={'date': '2014-03-03', 'score': '4.5', 'taste': 'nan', 'feel': 'nan', 'overall': 'nan', 'beer_id': '21950', 'text': '\\xa0\\xa0 You had this beer. Write a review.', 'id': '6741658', 'smell': 'nan', 'look': 'nan'}>>,\n",
      " <Record r=<Node element_id='7165686' labels=frozenset({'REVIEWS'}) properties={'date': '2007-01-29', 'score': '3.96', 'taste': '4.0', 'feel': '4.5', 'overall': '4.0', 'beer_id': '21950', 'text': \"\\xa0\\xa0 12oz bottle courtesy of bobbyc881. Poured an opaque, black fluid. Holding up to light reveals nothing. Modest head the color of coffee with 2 creamers. As I was nearing the bottom, it finally showed itself as clear and dark mahogany in color. Aroma was enticing. Chocolate, alcohol, dark fruits (raisins & cherries). Initially, little, if any, coffee scent. This did pick up with some warmth. Coffee definately present in the taste. Comes through most strongly in aftertaste, and fades some as you drink. Alcohol is there as well, but doesn't club you. Fairly sweet, initially - vanilla, molasses and fruit. Roast flavors are pretty mild. Maybe some licorice. Finally, a bit of pepper at finish. Medium - heavy in mouthfeel. Low carbonation. Fairly dry, this builds as you drink it. Smooth and creamy, may have more carbonation than it appears. Surprisingly easy to drink. Not sessionable, but you could certainly do a couple-three without investing hours of your time. Very good, I enjoyed immensley. \\xa0\", 'id': '6744601', 'smell': '3.5', 'look': '4.5'}>>,\n",
      " <Record r=<Node element_id='7157846' labels=frozenset({'REVIEWS'}) properties={'date': '2012-11-08', 'score': '3.5', 'taste': 'nan', 'feel': 'nan', 'overall': 'nan', 'beer_id': '60420', 'text': '\\xa0\\xa0 You had this beer. Write a review.', 'id': '6736761', 'smell': 'nan', 'look': 'nan'}>>,\n",
      " <Record r=<Node element_id='7133012' labels=frozenset({'REVIEWS'}) properties={'date': '2012-05-28', 'score': '3.75', 'taste': 'nan', 'feel': 'nan', 'overall': 'nan', 'beer_id': '29602', 'text': '\\xa0\\xa0 You had this beer. Write a review.', 'id': '6711927', 'smell': 'nan', 'look': 'nan'}>>,\n",
      " <Record r=<Node element_id='7132625' labels=frozenset({'REVIEWS'}) properties={'date': '2013-02-20', 'score': '2.75', 'taste': 'nan', 'feel': 'nan', 'overall': 'nan', 'beer_id': '29602', 'text': '\\xa0\\xa0 You had this beer. Write a review.', 'id': '6711540', 'smell': 'nan', 'look': 'nan'}>>,\n",
      " <Record r=<Node element_id='7133091' labels=frozenset({'REVIEWS'}) properties={'date': '2012-04-06', 'score': '3.75', 'taste': 'nan', 'feel': 'nan', 'overall': 'nan', 'beer_id': '29602', 'text': '\\xa0\\xa0 You had this beer. Write a review.', 'id': '6712006', 'smell': 'nan', 'look': 'nan'}>>,\n",
      " <Record r=<Node element_id='7132678' labels=frozenset({'REVIEWS'}) properties={'date': '2013-01-16', 'score': '3.5', 'taste': 'nan', 'feel': 'nan', 'overall': 'nan', 'beer_id': '29602', 'text': '\\xa0\\xa0 You had this beer. Write a review.', 'id': '6711593', 'smell': 'nan', 'look': 'nan'}>>,\n",
      " <Record r=<Node element_id='7113683' labels=frozenset({'REVIEWS'}) properties={'date': '2006-10-03', 'score': '4.1', 'taste': '4.0', 'feel': '4.0', 'overall': '4.5', 'beer_id': '29209', 'text': '\\xa0\\xa0 12oz. bottle. Poured an amber/orange, faintly hazy. Large light tan head formed, and faded quickly. Hops are what the smell is all about. Very citrusy, lemon and orange. Malt definately secondary, with a taste of honey. Flavor follows the aroma, but citrus is now grapefruit like. Bitterness present at the start and lingers long into the aftertaste. Malt still cowering in the corner, but manages to contribute a bit of a honey/wheat bread flavor. Body is light to medium, with medium carbonation. Quite drying, but in a good way. Overall, a damn fine IPA. Not as good as I remember it (but that was on tap in Seattle, so probably just a bit more fresh). Wish this was available in MD, so I could drink it routinely. \\xa0', 'id': '6692598', 'smell': '4.0', 'look': '4.0'}>>,\n",
      " <Record r=<Node element_id='7117782' labels=frozenset({'REVIEWS'}) properties={'date': '2010-05-21', 'score': '3.8', 'taste': '4.0', 'feel': '3.5', 'overall': '4.0', 'beer_id': '21639', 'text': \"\\xa0\\xa0 Poured into a wine glass. This had a thick fluffy head, which turned into a lingering ring of foam around the glass. Clear, bright gold and well carbonated. Smelled like bananna and carmel. Tastes similar, with some almond flavors mixed in. Sweetness dissipates from the palate quickly, and there is hop bitterness in the finish. The mouthfeel is smooth, with enough carbonation to create a peppery feeling. Drinkability is good. I wouldn't mind having two, which I don't usually do for beers over 6%. The sweetness is not prohibitive. \\xa0\", 'id': '6696697', 'smell': '3.5', 'look': '3.5'}>>,\n",
      " <Record r=<Node element_id='7112583' labels=frozenset({'REVIEWS'}) properties={'date': '2012-11-29', 'score': '4.0', 'taste': 'nan', 'feel': 'nan', 'overall': 'nan', 'beer_id': '29209', 'text': '\\xa0\\xa0 You had this beer. Write a review.', 'id': '6691498', 'smell': 'nan', 'look': 'nan'}>>,\n",
      " <Record r=<Node element_id='7114092' labels=frozenset({'REVIEWS'}) properties={'date': '2010-05-20', 'score': '3.12', 'taste': '2.5', 'feel': '3.0', 'overall': '4.0', 'beer_id': '21614', 'text': \"\\xa0\\xa0 This has a very crisp, clean appearance. Light gold in color. The small head fades quickly. Has mild bitterness with some bready flavors. Could be more crisp. Medium-high carbonation. This is decent. I probably wouldn't buy this again, but considering the price I have no regrets. \\xa0\", 'id': '6693007', 'smell': '3.5', 'look': '3.0'}>>,\n",
      " <Record r=<Node element_id='7094817' labels=frozenset({'REVIEWS'}) properties={'date': '2007-01-23', 'score': '3.81', 'taste': '4.0', 'feel': '3.5', 'overall': '4.5', 'beer_id': '27677', 'text': '\\xa0\\xa0 Poured into glass with medium head and a nice amber color. Mild, sweet caramel flavor with just a hint of hops. Some fruit flavor too. Very easy drinking. It won\\'t blow your socks off, but it\\'s certainly solid enough. I could see myself drinking many more of these. Looking forward to trying other from this brewer. PS - my name has nothing to with the founder of this brewery who also happens to have the nickname \"voodoo\" according to their website. I\\'m in no way affiliated, it\\'s a coincidence. \\xa0', 'id': '6673732', 'smell': '3.0', 'look': '4.0'}>>,\n",
      " <Record r=<Node element_id='7082686' labels=frozenset({'REVIEWS'}) properties={'date': '2007-06-21', 'score': '2.55', 'taste': '2.0', 'feel': '3.0', 'overall': '2.0', 'beer_id': '35207', 'text': '\\xa0\\xa0 12oz. bottle. Poured a hazy, red/orange color. Medium sized, rocky, light tan head. \"Brewed with cherry juice\" -- OK. Aroma is fairly mild. Slightly sweet, maybe cherry. Herbal and grassy. Pucker Factor of about 9 out of 10 for the taste. All about cherry flavor and incredible tartness. Nothing sweet in this one. Grass at the finish and in the aftertaste. I like bitter beer, but this is too much. Light bodied. Medium carbonation. Dry. Overall, not for me. Too one dimensional. All I got was sour. \\xa0', 'id': '6661601', 'smell': '3.5', 'look': '3.5'}>>,\n",
      " <Record r=<Node element_id='7074284' labels=frozenset({'REVIEWS'}) properties={'date': '2007-09-06', 'score': '4.2', 'taste': '4.5', 'feel': '4.0', 'overall': '4.0', 'beer_id': '21096', 'text': '\\xa0\\xa0 22oz. bottle Primarily clear, dark golden/light amber color. Medium sized, rocky, off white head. Great lacing, OK legs. Aroma is very sweet, peaches and tropical fruits. Caramel and pine as well. Taste is a WOW, they really brought the hops. Biscuits and caramel in the middle, which pick up as the beer warms. Overall, much more bitter than sweet. Nice, lingering bitterness in the aftertaste, mainly grapefruit. Medium + in body. Medium carbonation. Dry. Very nice DIPA. Not top shelf, and a bit out of balance, but a great hop bomb. Give me more! \\xa0', 'id': '6653199', 'smell': '4.0', 'look': '4.0'}>>,\n",
      " <Record r=<Node element_id='7063379' labels=frozenset({'REVIEWS'}) properties={'date': '2013-11-02', 'score': '4.0', 'taste': 'nan', 'feel': 'nan', 'overall': 'nan', 'beer_id': '20954', 'text': '\\xa0\\xa0 You had this beer. Write a review.', 'id': '6642294', 'smell': 'nan', 'look': 'nan'}>>,\n",
      " <Record r=<Node element_id='7057875' labels=frozenset({'REVIEWS'}) properties={'date': '2012-12-25', 'score': '2.75', 'taste': 'nan', 'feel': 'nan', 'overall': 'nan', 'beer_id': '20905', 'text': '\\xa0\\xa0 You had this beer. Write a review.', 'id': '6636790', 'smell': 'nan', 'look': 'nan'}>>,\n",
      " <Record r=<Node element_id='7013576' labels=frozenset({'REVIEWS'}) properties={'date': '2012-12-04', 'score': '3.75', 'taste': 'nan', 'feel': 'nan', 'overall': 'nan', 'beer_id': '20478', 'text': '\\xa0\\xa0 You had this beer. Write a review.', 'id': '6592491', 'smell': 'nan', 'look': 'nan'}>>,\n",
      " <Record r=<Node element_id='7014982' labels=frozenset({'REVIEWS'}) properties={'date': '2007-12-10', 'score': '3.54', 'taste': '3.5', 'feel': '3.0', 'overall': '3.5', 'beer_id': '20478', 'text': '\\xa0\\xa0 12oz. bottle. Thanks to Alexgash for the opportunity! Hazy, dark yellow fluid. Very small head, what little exists appears to be off-white in color. Beer is very still. Bit of legs, no lacing. Very hoppy aroma, pine & citrus (lemon). Some grapefruit as it warms a bit. Taste is more bitter than sweet, with pine and citrus taking center stage. Crackery middle. Touch of sweetness as it warms up. Spicy finish. Medium in body. Low carbonation. Dry. Overall, like the flavor, but carbonation needed to be picked up a bit. I have a second bottle to try, and I will see if that is any different. Not bad, but plenty of other nice, hoppy ales out there. \\xa0', 'id': '6593897', 'smell': '4.0', 'look': '3.0'}>>,\n",
      " <Record r=<Node element_id='7004653' labels=frozenset({'REVIEWS'}) properties={'date': '2012-12-04', 'score': '4.0', 'taste': 'nan', 'feel': 'nan', 'overall': 'nan', 'beer_id': '39129', 'text': '\\xa0\\xa0 You had this beer. Write a review.', 'id': '6583568', 'smell': 'nan', 'look': 'nan'}>>,\n",
      " <Record r=<Node element_id='7008810' labels=frozenset({'REVIEWS'}) properties={'date': '2014-03-22', 'score': '4.25', 'taste': 'nan', 'feel': 'nan', 'overall': 'nan', 'beer_id': '87756', 'text': '\\xa0\\xa0 You had this beer. Write a review.', 'id': '6587725', 'smell': 'nan', 'look': 'nan'}>>,\n",
      " <Record r=<Node element_id='6981923' labels=frozenset({'REVIEWS'}) properties={'date': '2011-12-24', 'score': '2.3', 'taste': '2.0', 'feel': '2.0', 'overall': '2.0', 'beer_id': '20168', 'text': \"\\xa0\\xa0 Grabbed this bottle out of a friends fridge the other day. Usually enjoy a nice IPA, not this one. The citrus taste is overwhelming to me, really hard to pick up on any other flavors, even the hops are masked. Almost tasted grapefruit-ish, which I didn't care fore and just all around acidic. Won't try again, but then again, its just not my style! \\xa0\", 'id': '6560838', 'smell': '3.0', 'look': '3.0'}>>,\n",
      " <Record r=<Node element_id='6971190' labels=frozenset({'REVIEWS'}) properties={'date': '2012-02-27', 'score': '3.0', 'taste': 'nan', 'feel': 'nan', 'overall': 'nan', 'beer_id': '19992', 'text': '\\xa0\\xa0 You had this beer. Write a review.', 'id': '6550105', 'smell': 'nan', 'look': 'nan'}>>,\n",
      " <Record r=<Node element_id='6955710' labels=frozenset({'REVIEWS'}) properties={'date': '2012-01-15', 'score': '4.5', 'taste': 'nan', 'feel': 'nan', 'overall': 'nan', 'beer_id': '19794', 'text': '\\xa0\\xa0 You had this beer. Write a review.', 'id': '6534625', 'smell': 'nan', 'look': 'nan'}>>,\n",
      " <Record r=<Node element_id='6948608' labels=frozenset({'REVIEWS'}) properties={'date': '2012-05-13', 'score': '4.5', 'taste': 'nan', 'feel': 'nan', 'overall': 'nan', 'beer_id': '19667', 'text': '\\xa0\\xa0 You had this beer. Write a review.', 'id': '6527523', 'smell': 'nan', 'look': 'nan'}>>,\n",
      " <Record r=<Node element_id='6921627' labels=frozenset({'REVIEWS'}) properties={'date': '2012-11-08', 'score': '1.75', 'taste': 'nan', 'feel': 'nan', 'overall': 'nan', 'beer_id': '84000', 'text': '\\xa0\\xa0 You had this beer. Write a review.', 'id': '6500542', 'smell': 'nan', 'look': 'nan'}>>,\n",
      " <Record r=<Node element_id='6914177' labels=frozenset({'REVIEWS'}) properties={'date': '2012-03-30', 'score': '2.5', 'taste': 'nan', 'feel': 'nan', 'overall': 'nan', 'beer_id': '19216', 'text': '\\xa0\\xa0 You had this beer. Write a review.', 'id': '6493092', 'smell': 'nan', 'look': 'nan'}>>,\n",
      " <Record r=<Node element_id='6892431' labels=frozenset({'REVIEWS'}) properties={'date': '2007-04-30', 'score': '3.77', 'taste': '4.0', 'feel': '3.0', 'overall': '3.5', 'beer_id': '36518', 'text': \"\\xa0\\xa0 Fells Point Location Clear, mahogany in color. No head after original pour. A strong swirl produces a tiny, light brown swirl of bubbles. Smells as sweet as you could want. Honey, ice wine, port, cherries....you want to pour this over your dessert! Taste is more sweet than bitter by a long shot. Cherries & oranges. Caramel, but thinned out. Grassy & herbal at the finish, maybe a bit of pepper. Coating, but light -- really seems like it should have a heavier body. No carbonation, essentially. Drying from ABV, which is apparent from the first sip. Overall, very intersting. Didn't know style and would have guessed an English barley wine rather than a dopplebock. A nice sipper! \\xa0\", 'id': '6471346', 'smell': '4.0', 'look': '3.5'}>>,\n",
      " <Record r=<Node element_id='6873046' labels=frozenset({'REVIEWS'}) properties={'date': '2007-04-25', 'score': '4.53', 'taste': '4.5', 'feel': '4.5', 'overall': '4.5', 'beer_id': '21690', 'text': \"\\xa0\\xa0 On tap at Capone's 4/18/07. Clear, true-gold in color. Modest, off-white head. Lacing minimal, some legs. Aroma is grapefruit, peaches and honey. Smelled pine in my growler of Elder a few months ago, but didn't get that as much here. Tasting this side by side with Elder, and Younger doesn't smell as sweet. Taste was grapefruit, big time. Younger has stronger hop bite than Elder. Biscuity, but covered in grapefruit jam. Well balanced, but still screams with hops, if that makes any sense. A bit sweeter than the Elder, and a more noticeable ABV. Grass and pepper at finish. Medium to medium + in body. Carbonation seemed medium. Immediate feel of alcohol warming in Elder, alcohol warming with Younger when you pick up the glass... Very, very good. If I wasn't drinking it side by side with Elder, I would probably have no complaints at all. As it stands, it is a touch sweeter and, to my taste, quite a bit hotter. I would happily drink this until I fell over, but when it came time to fill my growler, I took the Elder home with me. \\xa0\", 'id': '6451961', 'smell': '4.5', 'look': '5.0'}>>,\n",
      " <Record r=<Node element_id='6877555' labels=frozenset({'REVIEWS'}) properties={'date': '2007-10-08', 'score': '4.75', 'taste': '5.0', 'feel': '5.0', 'overall': '4.5', 'beer_id': '18850', 'text': \"\\xa0\\xa0 12oz. bottle, brewed 2/16/05. Hazy initially, but cleared considerably even as I drank. Dark brown, with lots of ruby highlights. Small, creamy, light brown head. No lacing, but quite leggy. Chocolate& caramel greet the nose. Some roast notes (faint). Smells very rich. Just a bit of tartness, cherries, I think. Dark fruits, plums, raisins and figs. Smells like a malt bomb! It is! It is! It is a malt bomb! And I'm damn happy to be the target! Sweet, almost port-like in taste. Dark fruits and chocolate come out first, followed by some caramel. Roast notes, again quite faint. Alcohol there, but well hidden. Tea flavors. Herbal bitterness at the finish, more noticeable in aftertaste, provides just a bit of balance. Heavy and coating in body. Low to almost no carbonation. Alcohol warming present with first sip. Very rich and smooth. Touch of drying near finish, probably related to alcohol content. Not really sure how something like this could be improved! I'm a certified hop head, but this malt bomb was one of the most delicious beers I've ever drank. \\xa0\", 'id': '6456470', 'smell': '4.5', 'look': '4.5'}>>,\n",
      " <Record r=<Node element_id='6868451' labels=frozenset({'REVIEWS'}) properties={'date': '2012-10-23', 'score': '4.5', 'taste': 'nan', 'feel': 'nan', 'overall': 'nan', 'beer_id': '22189', 'text': '\\xa0\\xa0 You had this beer. Write a review.', 'id': '6447366', 'smell': 'nan', 'look': 'nan'}>>,\n",
      " <Record r=<Node element_id='6868873' labels=frozenset({'REVIEWS'}) properties={'date': '2012-03-05', 'score': '1.0', 'taste': 'nan', 'feel': 'nan', 'overall': 'nan', 'beer_id': '22189', 'text': '\\xa0\\xa0 You had this beer. Write a review.', 'id': '6447788', 'smell': 'nan', 'look': 'nan'}>>,\n",
      " <Record r=<Node element_id='6855699' labels=frozenset({'REVIEWS'}) properties={'date': '2013-02-05', 'score': '4.0', 'taste': 'nan', 'feel': 'nan', 'overall': 'nan', 'beer_id': '18698', 'text': '\\xa0\\xa0 You had this beer. Write a review.', 'id': '6434614', 'smell': 'nan', 'look': 'nan'}>>,\n",
      " <Record r=<Node element_id='6859389' labels=frozenset({'REVIEWS'}) properties={'date': '2014-03-08', 'score': '4.5', 'taste': 'nan', 'feel': 'nan', 'overall': 'nan', 'beer_id': '71969', 'text': '\\xa0\\xa0 You had this beer. Write a review.', 'id': '6438304', 'smell': 'nan', 'look': 'nan'}>>,\n",
      " <Record r=<Node element_id='6843486' labels=frozenset({'REVIEWS'}) properties={'date': '2011-12-14', 'score': '4.0', 'taste': 'nan', 'feel': 'nan', 'overall': 'nan', 'beer_id': '41789', 'text': '\\xa0\\xa0', 'id': '6422401', 'smell': 'nan', 'look': 'nan'}>>,\n",
      " <Record r=<Node element_id='6827754' labels=frozenset({'REVIEWS'}) properties={'date': '2006-07-31', 'score': '3.55', 'taste': '3.5', 'feel': '4.0', 'overall': '3.5', 'beer_id': '18305', 'text': '\\xa0\\xa0 12oz. bottle. Very pale yellow in color, with a slight haze. Very large, white head. Aroma was fresh baked bread, pepper, and lemon. Sweet at start in a bready kind of way, with a very mild hop bite (nip?) at finish, again somewhat lemony. Light bodied and refreshing with medium to high carbonation. A very easy to drink summer beer, but I would grab the Sunshine Pils from their line up for this purpose. \\xa0', 'id': '6406669', 'smell': '3.5', 'look': '3.5'}>>,\n",
      " <Record r=<Node element_id='6791640' labels=frozenset({'REVIEWS'}) properties={'date': '2012-12-12', 'score': '4.25', 'taste': 'nan', 'feel': 'nan', 'overall': 'nan', 'beer_id': '63515', 'text': '\\xa0\\xa0 You had this beer. Write a review.', 'id': '6370555', 'smell': 'nan', 'look': 'nan'}>>,\n",
      " <Record r=<Node element_id='6783167' labels=frozenset({'REVIEWS'}) properties={'date': '2012-02-27', 'score': '3.0', 'taste': 'nan', 'feel': 'nan', 'overall': 'nan', 'beer_id': '17627', 'text': '\\xa0\\xa0 You had this beer. Write a review.', 'id': '6362082', 'smell': 'nan', 'look': 'nan'}>>,\n",
      " <Record r=<Node element_id='6776335' labels=frozenset({'REVIEWS'}) properties={'date': '2014-03-14', 'score': '4.75', 'taste': 'nan', 'feel': 'nan', 'overall': 'nan', 'beer_id': '58914', 'text': '\\xa0\\xa0 You had this beer. Write a review.', 'id': '6355250', 'smell': 'nan', 'look': 'nan'}>>,\n",
      " <Record r=<Node element_id='6765161' labels=frozenset({'REVIEWS'}) properties={'date': '2013-01-15', 'score': '3.75', 'taste': 'nan', 'feel': 'nan', 'overall': 'nan', 'beer_id': '17497', 'text': '\\xa0\\xa0 You had this beer. Write a review.', 'id': '6344076', 'smell': 'nan', 'look': 'nan'}>>,\n",
      " <Record r=<Node element_id='6762980' labels=frozenset({'REVIEWS'}) properties={'date': '2012-06-19', 'score': '3.77', 'taste': '4.0', 'feel': '3.5', 'overall': '4.0', 'beer_id': '57908', 'text': \"\\xa0\\xa0 12oz bottle from an eight-week-old 6pk. Poured into 300mL Brasserie D'Achouffe tulip. A- Surprisingly light blonde/golden hue, crystal clear without a trace of haze or floaties. Couldn't coax much head, but still ended up with some statistically significant lacing. S- The usual citrus notes from american (D)IPAs along with a slightly sweet, honey-like aroma. Bits of sweet tea. T- Tart citrus. Very drinkable. Hints of honey/sweet tea with a very light semi-sweet malty/bready backbone. finish is a tad bitter with some nice citrus-honey and floral notes. M- Surprisingly light. Clean finish. Not a lot of depth or complexity relative to some other DIPAs. Fine carbonation, bit of oily coating up front while still feeling crisp. Very smooth. O- Disturbingly refreshing and easy-drinking for an american DIPA. The relatively light body and clean/crisp finish makes it feel more like an amped up brit IPA. \\xa0\", 'id': '6341895', 'smell': '3.5', 'look': '3.0'}>>,\n",
      " <Record r=<Node element_id='6765901' labels=frozenset({'REVIEWS'}) properties={'date': '2007-09-06', 'score': '3.58', 'taste': '3.5', 'feel': '4.0', 'overall': '3.5', 'beer_id': '17497', 'text': '\\xa0\\xa0 22oz. bottle Crystal clear, pale gold in color. Small to medium white head. Creamy. Aromas included grapefruit, grassy and herbs. Bit of earthiness. Some sweetness came in to play as it warmed up. Bitter more than sweet, herbal in character. Biscuity, very dry, in the middle. A tropical fruit like sweetness came up as it warmed. Light in body. Medium to high carbonation. Refreshing. Very good, a most enjoyable beer. Not your typical wheat, closer to GumballHead. \\xa0', 'id': '6344816', 'smell': '3.5', 'look': '4.0'}>>,\n",
      " <Record r=<Node element_id='6736917' labels=frozenset({'REVIEWS'}) properties={'date': '2014-03-05', 'score': '4.25', 'taste': 'nan', 'feel': 'nan', 'overall': 'nan', 'beer_id': '99873', 'text': '\\xa0\\xa0 You had this beer. Write a review.', 'id': '6315832', 'smell': 'nan', 'look': 'nan'}>>,\n",
      " <Record r=<Node element_id='6730760' labels=frozenset({'REVIEWS'}) properties={'date': '2012-07-05', 'score': '4.25', 'taste': 'nan', 'feel': 'nan', 'overall': 'nan', 'beer_id': '64750', 'text': '\\xa0\\xa0 You had this beer. Write a review.', 'id': '6309675', 'smell': 'nan', 'look': 'nan'}>>,\n",
      " <Record r=<Node element_id='6703247' labels=frozenset({'REVIEWS'}) properties={'date': '2014-03-29', 'score': '4.5', 'taste': 'nan', 'feel': 'nan', 'overall': 'nan', 'beer_id': '20445', 'text': '\\xa0\\xa0 You had this beer. Write a review.', 'id': '6282162', 'smell': 'nan', 'look': 'nan'}>>,\n",
      " <Record r=<Node element_id='6704112' labels=frozenset({'REVIEWS'}) properties={'date': '2013-01-31', 'score': '4.25', 'taste': 'nan', 'feel': 'nan', 'overall': 'nan', 'beer_id': '20445', 'text': '\\xa0\\xa0 You had this beer. Write a review.', 'id': '6283027', 'smell': 'nan', 'look': 'nan'}>>,\n",
      " <Record r=<Node element_id='6696661' labels=frozenset({'REVIEWS'}) properties={'date': '2012-11-20', 'score': '5.0', 'taste': 'nan', 'feel': 'nan', 'overall': 'nan', 'beer_id': '16814', 'text': '\\xa0\\xa0 You had this beer. Write a review.', 'id': '6275576', 'smell': 'nan', 'look': 'nan'}>>,\n",
      " <Record r=<Node element_id='6697015' labels=frozenset({'REVIEWS'}) properties={'date': '2012-08-15', 'score': '5.0', 'taste': 'nan', 'feel': 'nan', 'overall': 'nan', 'beer_id': '16814', 'text': '\\xa0\\xa0 You had this beer. Write a review.', 'id': '6275930', 'smell': 'nan', 'look': 'nan'}>>,\n",
      " <Record r=<Node element_id='6674954' labels=frozenset({'REVIEWS'}) properties={'date': '2012-09-11', 'score': '3.5', 'taste': 'nan', 'feel': 'nan', 'overall': 'nan', 'beer_id': '59811', 'text': '\\xa0\\xa0 You had this beer. Write a review.', 'id': '6253869', 'smell': 'nan', 'look': 'nan'}>>,\n",
      " <Record r=<Node element_id='6677194' labels=frozenset({'REVIEWS'}) properties={'date': '2012-01-26', 'score': '3.5', 'taste': 'nan', 'feel': 'nan', 'overall': 'nan', 'beer_id': '16741', 'text': '\\xa0\\xa0 You had this beer. Write a review.', 'id': '6256109', 'smell': 'nan', 'look': 'nan'}>>,\n",
      " <Record r=<Node element_id='6661656' labels=frozenset({'REVIEWS'}) properties={'date': '2012-07-18', 'score': '4.0', 'taste': 'nan', 'feel': 'nan', 'overall': 'nan', 'beer_id': '42887', 'text': '\\xa0\\xa0 You had this beer. Write a review.', 'id': '6240571', 'smell': 'nan', 'look': 'nan'}>>,\n",
      " <Record r=<Node element_id='6664372' labels=frozenset({'REVIEWS'}) properties={'date': '2011-12-14', 'score': '4.0', 'taste': 'nan', 'feel': 'nan', 'overall': 'nan', 'beer_id': '48888', 'text': '\\xa0\\xa0', 'id': '6243287', 'smell': 'nan', 'look': 'nan'}>>,\n",
      " <Record r=<Node element_id='6650297' labels=frozenset({'REVIEWS'}) properties={'date': '2012-06-16', 'score': '4.5', 'taste': 'nan', 'feel': 'nan', 'overall': 'nan', 'beer_id': '22352', 'text': '\\xa0\\xa0 You had this beer. Write a review.', 'id': '6229212', 'smell': 'nan', 'look': 'nan'}>>,\n",
      " <Record r=<Node element_id='6642290' labels=frozenset({'REVIEWS'}) properties={'date': '2012-05-13', 'score': '3.0', 'taste': 'nan', 'feel': 'nan', 'overall': 'nan', 'beer_id': '16471', 'text': '\\xa0\\xa0 You had this beer. Write a review.', 'id': '6221205', 'smell': 'nan', 'look': 'nan'}>>,\n",
      " <Record r=<Node element_id='6642865' labels=frozenset({'REVIEWS'}) properties={'date': '2006-07-05', 'score': '3.57', 'taste': '3.5', 'feel': '4.0', 'overall': '3.0', 'beer_id': '16471', 'text': '\\xa0\\xa0 12 oz. bottle. True gold in color, very clear. Moderate head with a strong pour. Aroma was excellent, with the hops coming through as a pine scent, then some nice malt/yeast aroma. Taste was pretty good as well, with a balance between the malt and the hops, although the hops did come on a little stronger. Mouthfeel was lively and well carbonated. Unfortunately, for me, something intangible is missing, and I did not perceive this as something I wanted more of. The only thing I could put my finger on was that I like the malt to be less noticeable in this style. \\xa0', 'id': '6221780', 'smell': '4.0', 'look': '3.5'}>>,\n",
      " <Record r=<Node element_id='6623731' labels=frozenset({'REVIEWS'}) properties={'date': '2008-07-18', 'score': '3.63', 'taste': '3.5', 'feel': '3.5', 'overall': '4.0', 'beer_id': '24201', 'text': '\\xa0\\xa0 12 oz. can, courtesy of kkipple - Thanks! Poured a mostly clear, amber color. Formed a modest, light tan head. Aroma consisted of caramel and wheat bread. Some peaches in there. Earthy & grassy. Taste was herbal & grasssy hops, nicely balanced by wheat bread & honey center. Touch medicinal in the finish, not a positive. Medium in body. Medium carbonation. Not very dry. Very drinkable, nicely balanced. Pretty good beer, overall. \\xa0', 'id': '6202646', 'smell': '3.5', 'look': '4.0'}>>,\n",
      " <Record r=<Node element_id='6622489' labels=frozenset({'REVIEWS'}) properties={'date': '2006-10-26', 'score': '3.6', 'taste': '3.5', 'feel': '3.0', 'overall': '3.5', 'beer_id': '16159', 'text': \"\\xa0\\xa0 12oz. bottle. 40.63 IBU Slightly hazy, orange/straw color. Modest, off-white head. Very hoppy aroma - grapefruit. Honey and caramel accented it nicely. Very strong hop flavor - not sure I am buying IBU count. Sweet balance comes in quickly, reminds me of sweetened grapefruit juice. Long aftertaste of lingering hop flavor and an unpleasant medicinal note. Carbonation was huge, led to a creamy mouthfeel/texture. Body seemed to be medium, but hard to tell with carb. Fairly sweet/wet finish. I liked the flavor of this beer, but the mouthfeel and the aftertaste didn't do it for me. If I want a hop fix, other places to get it. \\xa0\", 'id': '6201404', 'smell': '4.0', 'look': '4.0'}>>,\n",
      " <Record r=<Node element_id='6618149' labels=frozenset({'REVIEWS'}) properties={'date': '2007-07-13', 'score': '3.55', 'taste': '3.5', 'feel': '4.0', 'overall': '3.5', 'beer_id': '16106', 'text': '\\xa0\\xa0 12oz. can Clear, straw yellow in color. Medium, rocky, white colored head. Spicy/herbal/floral scent with bread dough underlying. Bitter more than sweet. Corn, but very faint. Balanced with spicy and herbal notes. Bread dough as base again. Light in body. Medium + carbonation. Dry. Very sessionable. Will have to get some more of this. A lager that will give you a nice little hop fix. Might be a bit crisp/unbalanced for non-hopheads. \\xa0', 'id': '6197064', 'smell': '3.5', 'look': '3.5'}>>,\n",
      " <Record r=<Node element_id='6619980' labels=frozenset({'REVIEWS'}) properties={'date': '2007-09-06', 'score': '3.8', 'taste': '4.0', 'feel': '3.0', 'overall': '3.5', 'beer_id': '16115', 'text': '\\xa0\\xa0 12oz. bottle \"Dry Hopped Dark Ale Made With Rye\" -- mmm! Clear, dark brown, not quite opaque, sports some red highlights. Medium sized, light tan, creamy head. No lacing, minimal, if any, legs. Aroma was spicy, rye? Chocolate. Phenols and alcohol. Taste was more bitter than sweet, mainly due to roast and citrus flavors. Chocolate surfaced. Finish was spicy and peppery. Medium in body. Carbonation was medium to high, and I think they could turn it down a bit and improve this beer. Fairly dry. Overall, quite good, and refreshingly different. I have bought some more so I can try this a few more times. \\xa0', 'id': '6198895', 'smell': '4.0', 'look': '4.0'}>>,\n",
      " <Record r=<Node element_id='6592229' labels=frozenset({'REVIEWS'}) properties={'date': '2007-03-05', 'score': '4.33', 'taste': '4.5', 'feel': '4.0', 'overall': '4.5', 'beer_id': '15881', 'text': '\\xa0\\xa0 12oz. bottle. A clear, deep gold-amber colored fluid filled my glass, and was topped by a large, creamy off-white head. Very lively carbonation. Bottle tells me the hops are Nugget, Warrior & Tomahawk, and that it is 93ish IBUs. Pine & grapefruit almost exclusively in the aroma. A bit of bread for the hops to sit on. Pineapple and tropical fruits as it warmed (pointed out by non-beer drinking wife who has a much better nose than I do). Taste is grapefruit, with a better balance than the aroma suggests. However, this beer is about the hops, make no mistake. Bit of biscuity character. Faint sweetness after about half the glass, maybe oranges. Alcohol very well hidden. Medium + in body. Medium carbonation. Refreshing, and a bit drying. Very smooth. Easy to drink despite hop level and ABV. Reminds me just a bit of Two Hearted. For me, dangerously sessionable. \\xa0', 'id': '6171144', 'smell': '4.0', 'look': '4.5'}>>,\n",
      " <Record r=<Node element_id='6588671' labels=frozenset({'REVIEWS'}) properties={'date': '2013-02-05', 'score': '4.5', 'taste': 'nan', 'feel': 'nan', 'overall': 'nan', 'beer_id': '15881', 'text': '\\xa0\\xa0 You had this beer. Write a review.', 'id': '6167586', 'smell': 'nan', 'look': 'nan'}>>,\n",
      " <Record r=<Node element_id='6586700' labels=frozenset({'REVIEWS'}) properties={'date': '2014-03-02', 'score': '3.5', 'taste': 'nan', 'feel': 'nan', 'overall': 'nan', 'beer_id': '15881', 'text': '\\xa0\\xa0 You had this beer. Write a review.', 'id': '6165615', 'smell': 'nan', 'look': 'nan'}>>,\n",
      " <Record r=<Node element_id='6575941' labels=frozenset({'REVIEWS'}) properties={'date': '2012-10-30', 'score': '4.0', 'taste': 'nan', 'feel': 'nan', 'overall': 'nan', 'beer_id': '15813', 'text': '\\xa0\\xa0 You had this beer. Write a review.', 'id': '6154856', 'smell': 'nan', 'look': 'nan'}>>,\n",
      " <Record r=<Node element_id='6562286' labels=frozenset({'REVIEWS'}) properties={'date': '2012-12-04', 'score': '3.75', 'taste': 'nan', 'feel': 'nan', 'overall': 'nan', 'beer_id': '17538', 'text': '\\xa0\\xa0 You had this beer. Write a review.', 'id': '6141201', 'smell': 'nan', 'look': 'nan'}>>,\n",
      " <Record r=<Node element_id='6543296' labels=frozenset({'REVIEWS'}) properties={'date': '2006-09-11', 'score': '3.12', 'taste': '3.0', 'feel': '3.0', 'overall': '3.0', 'beer_id': '16146', 'text': \"\\xa0\\xa0 12oz. bottle. Light brown with some copper. Slightly cloudy. Essentially, no head formed, the foam scraps were light tan. Aroma was very malty, coming through as molasses. Other scents included alcohol/phenol and raisins. No hops to be found. Taste stayed in character with the smell. Pretty sweet, with alcohol/medicinal notes in the middle. Hops showed up as some bitterness in the finish. Body was medium and carbonation was light. The beer had a smooth, coating feel to it. Finish was drying. Overall, OK, but not my favorite alt and I probably wouldn't buy it again. \\xa0\", 'id': '6122211', 'smell': '3.5', 'look': '3.0'}>>,\n",
      " <Record r=<Node element_id='6534519' labels=frozenset({'REVIEWS'}) properties={'date': '2006-07-08', 'score': '2.92', 'taste': '3.0', 'feel': '2.5', 'overall': '3.0', 'beer_id': '51959', 'text': '\\xa0\\xa0 12 oz. bottle. Appearance was pale gold, with faint orange tone, slightly hazy. No head despite strong pour. Looked flat. The smell was primarily apple and a hint of wax? Taste was slightly sweet/fruity at first, then the hops came through, and it finished almost peppery. The mouthfeel was almost flat and somewhat drying. It was fairly drinkable, but it seemed to have more bite than you would expect from the style. \\xa0', 'id': '6113434', 'smell': '3.0', 'look': '2.5'}>>,\n",
      " <Record r=<Node element_id='6540496' labels=frozenset({'REVIEWS'}) properties={'date': '2013-02-18', 'score': '4.5', 'taste': 'nan', 'feel': 'nan', 'overall': 'nan', 'beer_id': '72626', 'text': '\\xa0\\xa0 You had this beer. Write a review.', 'id': '6119411', 'smell': 'nan', 'look': 'nan'}>>,\n",
      " <Record r=<Node element_id='6515014' labels=frozenset({'REVIEWS'}) properties={'date': '2012-04-14', 'score': '1.0', 'taste': 'nan', 'feel': 'nan', 'overall': 'nan', 'beer_id': '30282', 'text': '\\xa0\\xa0 You had this beer. Write a review.', 'id': '6093929', 'smell': 'nan', 'look': 'nan'}>>,\n",
      " <Record r=<Node element_id='6514696' labels=frozenset({'REVIEWS'}) properties={'date': '2012-10-24', 'score': '1.0', 'taste': 'nan', 'feel': 'nan', 'overall': 'nan', 'beer_id': '30282', 'text': '\\xa0\\xa0 You had this beer. Write a review.', 'id': '6093611', 'smell': 'nan', 'look': 'nan'}>>,\n",
      " <Record r=<Node element_id='6514883' labels=frozenset({'REVIEWS'}) properties={'date': '2012-07-21', 'score': '3.75', 'taste': 'nan', 'feel': 'nan', 'overall': 'nan', 'beer_id': '30282', 'text': '\\xa0\\xa0 You had this beer. Write a review.', 'id': '6093798', 'smell': 'nan', 'look': 'nan'}>>,\n",
      " <Record r=<Node element_id='6505664' labels=frozenset({'REVIEWS'}) properties={'date': '2006-09-11', 'score': '3.37', 'taste': '3.5', 'feel': '2.5', 'overall': '3.5', 'beer_id': '27688', 'text': '\\xa0\\xa0 12oz. bottle. Light brown with copper highlights. Slightly cloudy. A small head forms on pouring and departs very quickly. Aroma is very hoppy, and consists of mint and pine. Malt was quite mild, and had a hint of honey. Taste was very hoppy - citrus and pine. As with aroma, malt was mild. Finish was quite bitter. Mouthfeel was of medium body, quite acidic - almost astringent, and highly carbonated. Overall, a decent beer, but it seemed overly hoppy for the style. \\xa0', 'id': '6084579', 'smell': '3.5', 'look': '3.0'}>>,\n",
      " <Record r=<Node element_id='6493486' labels=frozenset({'REVIEWS'}) properties={'date': '2011-08-30', 'score': '3.41', 'taste': '3.5', 'feel': '3.5', 'overall': '3.5', 'beer_id': '71387', 'text': \"\\xa0\\xa0 On tap at Gambrinus in London, Ontario. Pale golden with a persistent white head, and leaves incredible lacing as it recedes. Aromas are somewhat weak, but present grassy hops, a bit of citrus, and moderate malt. Flavours are very nice but restrained; more citrus and grassy hops, enough malt for balance. This one isn't going to blow you away, but is a slolid, well-balanced IPA. \\xa0\", 'id': '6072401', 'smell': '3.0', 'look': '4.0'}>>,\n",
      " <Record r=<Node element_id='6485890' labels=frozenset({'REVIEWS'}) properties={'date': '2013-01-06', 'score': '4.0', 'taste': 'nan', 'feel': 'nan', 'overall': 'nan', 'beer_id': '14712', 'text': '\\xa0\\xa0 You had this beer. Write a review.', 'id': '6064805', 'smell': 'nan', 'look': 'nan'}>>,\n",
      " <Record r=<Node element_id='6486135' labels=frozenset({'REVIEWS'}) properties={'date': '2012-09-08', 'score': '4.0', 'taste': 'nan', 'feel': 'nan', 'overall': 'nan', 'beer_id': '14712', 'text': '\\xa0\\xa0 You had this beer. Write a review.', 'id': '6065050', 'smell': 'nan', 'look': 'nan'}>>,\n",
      " <Record r=<Node element_id='6465986' labels=frozenset({'REVIEWS'}) properties={'date': '2007-12-10', 'score': '4.08', 'taste': '4.0', 'feel': '4.5', 'overall': '4.0', 'beer_id': '14505', 'text': '\\xa0\\xa0 0% 17oz. bottle Opaque, dark black, even when held up to light. Large, creamy tan colored head. Lots of lacing. Scents of chocolate and caramel. Coffee. Alcohol. Spicy -- clove seemed dominant. Taste was, initially, mild coffee. Chocolate and caramel really picked up as it warmed. Dark fruits. Alcohol. Bitter at the finish, herbal and peppery. Medium + in body. Coating and sticky almost. Low to medium perceived carbonation. Silky mouthfeel. Pretty dry, probably more due to alcohol. Very good! An excellent winter beer. \\xa0', 'id': '6044901', 'smell': '4.0', 'look': '4.5'}>>,\n",
      " <Record r=<Node element_id='6442874' labels=frozenset({'REVIEWS'}) properties={'date': '2011-08-26', 'score': '4.34', 'taste': '4.5', 'feel': '5.0', 'overall': '4.5', 'beer_id': '68809', 'text': \"\\xa0\\xa0 On tap at the First Street Alehouse in Livermore, close to the source. This is a dark pale. I'm not really certain how one should look, but it was just short of opaque. Like all Drake's beers, there is an appreciable hop aroma. Hops are backed up by roasty malt aroma. Taste was delicious and unexpected. I was expecting it to be a much stronger flavored beer. It tastes like a roasty pale, which is exactly what it is. Mouthfeel is exceptional. Thick and rich but not too much. Just right. I really hope Drake's makes this one again. \\xa0\", 'id': '6021789', 'smell': '4.0', 'look': '3.0'}>>,\n",
      " <Record r=<Node element_id='6449651' labels=frozenset({'REVIEWS'}) properties={'date': '2013-01-19', 'score': '3.5', 'taste': 'nan', 'feel': 'nan', 'overall': 'nan', 'beer_id': '68347', 'text': '\\xa0\\xa0 You had this beer. Write a review.', 'id': '6028566', 'smell': 'nan', 'look': 'nan'}>>,\n",
      " <Record r=<Node element_id='6445325' labels=frozenset({'REVIEWS'}) properties={'date': '2009-12-20', 'score': '3.95', 'taste': '4.0', 'feel': '4.5', 'overall': '3.5', 'beer_id': '37197', 'text': \"\\xa0\\xa0 Poured from a bottle. Zero head on mine unless forced and then didn't but a few minutes. Mouth feel was quite good, medium to thick and highly viscous, easily coating my entire mouth. Smells of chocolate and coffee as expected, not much else. As for the taste, the alcohol is hidden remarkably well. Chocolate and coffee showing up here as wellas toasted malts. Very light carbonation. After thoroughly enjoying the subtle comlexity of Lost Abbel's 10 Commanments I was hoping for something more complex. Overall pretty disappointing, I'd rather be drinking an Old Rasputin. \\xa0\", 'id': '6024240', 'smell': '4.0', 'look': '4.0'}>>,\n",
      " <Record r=<Node element_id='6427368' labels=frozenset({'REVIEWS'}) properties={'date': '2012-10-22', 'score': '4.0', 'taste': 'nan', 'feel': 'nan', 'overall': 'nan', 'beer_id': '13906', 'text': '\\xa0\\xa0 You had this beer. Write a review.', 'id': '6006283', 'smell': 'nan', 'look': 'nan'}>>,\n",
      " <Record r=<Node element_id='6421195' labels=frozenset({'REVIEWS'}) properties={'date': '2012-05-26', 'score': '4.25', 'taste': 'nan', 'feel': 'nan', 'overall': 'nan', 'beer_id': '13860', 'text': '\\xa0\\xa0 You had this beer. Write a review.', 'id': '6000110', 'smell': 'nan', 'look': 'nan'}>>,\n",
      " <Record r=<Node element_id='6402793' labels=frozenset({'REVIEWS'}) properties={'date': '2011-07-19', 'score': '4.2', 'taste': '4.5', 'feel': '4.0', 'overall': '4.0', 'beer_id': '70155', 'text': \"\\xa0\\xa0 a-pours black typical of Yeti. Tan head that lingers and gives some lacing down the glass. s-roasted malts, some muted coffee and chocolate. Has some really muted notes of fruit on the nose. t-the Belgian yeast makes this stout a little lighter in taste and perks it up a little. Still had that classic Yeti stout taste, but has some fruit behind it now. I think this is a nice version of Yeti. m-just as viscous as Yeti, but has a little lighter feel to it. Carbonation is just right as usual with GD beers. o-intresting beer, with a slight twist. I think I'll buy a few of these for the summer. Nice addition to the line up of great stouts. \\xa0\", 'id': '5981708', 'smell': '4.0', 'look': '4.0'}>>,\n",
      " <Record r=<Node element_id='6411078' labels=frozenset({'REVIEWS'}) properties={'date': '2006-12-08', 'score': '4.67', 'taste': '4.5', 'feel': '5.0', 'overall': '4.5', 'beer_id': '42664', 'text': \"\\xa0\\xa0 Enjoyed a 2005 vintage at The Rover, looked like an 11oz. bottle. You have to ask for it, as it isn't really displayed. Opaque black, viscous fluid. Large dark tan head. Head faded fast, but was easily stirred up again. Great legs. Scents of raisins, blackstrap molasses and ginger bread. Most often, I get port when I smell a stout, this time it was more like scotch - maybe the barrel aging? Alcohol popped up occasionally, but not too much so. Bittersweet chocolate. Taste was vanilla and smoke. Throw in some cherries, dark of course. Here comes the scotch. Now a bit of licorice. I am really not doing this beer the justice it deserves.... Finish me off with just a bit of hop bitterness at the end. Light bodied (just kidding). Heavy as they come, no doubt. Hard to figure out carbonation, it seems low, but beer comes across as almost creamy. Probably more carbonation there than you can easily perceive with a beer of this heft. Alcohol warming starts to make it's appearance very quickly. Overall, a fantastic beer. Shame that it's production is only 500 liters annually and that it doesn't appear to make it out of Sweden. \\xa0\", 'id': '5989993', 'smell': '5.0', 'look': '4.5'}>>,\n",
      " <Record r=<Node element_id='6375390' labels=frozenset({'REVIEWS'}) properties={'date': '2013-02-08', 'score': '4.5', 'taste': 'nan', 'feel': 'nan', 'overall': 'nan', 'beer_id': '56270', 'text': '\\xa0\\xa0 You had this beer. Write a review.', 'id': '5954305', 'smell': 'nan', 'look': 'nan'}>>,\n",
      " <Record r=<Node element_id='6353972' labels=frozenset({'REVIEWS'}) properties={'date': '2012-03-17', 'score': '4.0', 'taste': 'nan', 'feel': 'nan', 'overall': 'nan', 'beer_id': '55412', 'text': '\\xa0\\xa0 You had this beer. Write a review.', 'id': '5932887', 'smell': 'nan', 'look': 'nan'}>>,\n",
      " <Record r=<Node element_id='6353719' labels=frozenset({'REVIEWS'}) properties={'date': '2012-10-31', 'score': '4.25', 'taste': 'nan', 'feel': 'nan', 'overall': 'nan', 'beer_id': '55412', 'text': '\\xa0\\xa0 You had this beer. Write a review.', 'id': '5932634', 'smell': 'nan', 'look': 'nan'}>>,\n",
      " <Record r=<Node element_id='6360166' labels=frozenset({'REVIEWS'}) properties={'date': '2011-12-14', 'score': '5.0', 'taste': 'nan', 'feel': 'nan', 'overall': 'nan', 'beer_id': '70309', 'text': '\\xa0\\xa0', 'id': '5939081', 'smell': 'nan', 'look': 'nan'}>>,\n",
      " <Record r=<Node element_id='6347786' labels=frozenset({'REVIEWS'}) properties={'date': '2011-12-03', 'score': '4.0', 'taste': 'nan', 'feel': 'nan', 'overall': 'nan', 'beer_id': '61137', 'text': '\\xa0\\xa0 You had this beer. Write a review.', 'id': '5926701', 'smell': 'nan', 'look': 'nan'}>>,\n",
      " <Record r=<Node element_id='6343915' labels=frozenset({'REVIEWS'}) properties={'date': '2011-07-15', 'score': '4.55', 'taste': '4.5', 'feel': '5.0', 'overall': '4.5', 'beer_id': '12770', 'text': \"\\xa0\\xa0 Batch 64 a-pretty, cloudy, lofty head, lively carbonation. s-I am getting chardonnay, fruit, pear, cloves, little spice. t-cloves, some spice, fruit. Has a clean finish, and some bitterness at the end. m-prickly carbonation, really nice bubbles. Had a dry finish to the mouth feel. Really well done bottle conditioning. o-great beer and the price is right too. I'll drop one in the cellar and see what it does in a few years! \\xa0\", 'id': '5922830', 'smell': '4.5', 'look': '4.5'}>>,\n",
      " <Record r=<Node element_id='6333622' labels=frozenset({'REVIEWS'}) properties={'date': '2006-09-11', 'score': '3.85', 'taste': '4.0', 'feel': '4.0', 'overall': '4.0', 'beer_id': '12690', 'text': '\\xa0\\xa0 Big ceramic bottle. Pale yellow and slightly hazy. Large white head. Hops are first impression, citrus and floral. Malt came next, a supporting role, earthy and bread-like. Flavor was similar, with the hops driving. Now I am getting floral and grassy, maybe a hint of grapefruit. Some sweetness, bread/yeast in character, shows up in the middle. Finish is a bit acidic. Light in body, medium carbonation and quite drying. Overall, an excellent beer. I will enjoy more of these despite the price. \\xa0', 'id': '5912537', 'smell': '3.5', 'look': '3.5'}>>,\n",
      " <Record r=<Node element_id='6322703' labels=frozenset({'REVIEWS'}) properties={'date': '2011-09-13', 'score': '4.08', 'taste': '4.0', 'feel': '4.5', 'overall': '4.0', 'beer_id': '12544', 'text': '\\xa0\\xa0 Appearance - bright gold and very clear with a finger of white, and very long-lived, head. Smell - Lots of spicy Czech hops and delicately sweet grains. Mouthfeel - light bodied but mouth-filling andgently carbonated. Excellent texture. Taste - Bready and grainy with lots of spicy Czech hops. Hoppy but not really bitter. Finishes crisp and clean. \\xa0', 'id': '5901618', 'smell': '4.0', 'look': '4.5'}>>,\n",
      " <Record r=<Node element_id='6320758' labels=frozenset({'REVIEWS'}) properties={'date': '2010-11-03', 'score': '3.33', 'taste': '3.5', 'feel': '2.5', 'overall': '3.0', 'beer_id': '37102', 'text': \"\\xa0\\xa0 Light copper pour. Generous hops knock down the head pretty fast. Sharp hop nose. Little malt in the nose. Taste falls a little flat. I would prefer a little more malt in the balance, and the hop flavor is not fresh. Mouthfeel is light. Really lacks body The beer is drinkable. I drink it whenever I'm at BJ's. This beer used to be really good. BJ's switched to centralized brewing instead of on-site, and the quality suffered. Just to be clear, I asked after the brewing because the quality was sliding, I'm not just making assumptions. \\xa0\", 'id': '5899673', 'smell': '3.5', 'look': '4.0'}>>,\n",
      " <Record r=<Node element_id='6295943' labels=frozenset({'REVIEWS'}) properties={'date': '2012-09-01', 'score': '4.0', 'taste': 'nan', 'feel': 'nan', 'overall': 'nan', 'beer_id': '59760', 'text': '\\xa0\\xa0 You had this beer. Write a review.', 'id': '5874858', 'smell': 'nan', 'look': 'nan'}>>,\n",
      " <Record r=<Node element_id='6276700' labels=frozenset({'REVIEWS'}) properties={'date': '2014-05-05', 'score': '4.0', 'taste': 'nan', 'feel': 'nan', 'overall': 'nan', 'beer_id': '12013', 'text': '\\xa0\\xa0 You had this beer. Write a review.', 'id': '5855615', 'smell': 'nan', 'look': 'nan'}>>,\n",
      " <Record r=<Node element_id='6270412' labels=frozenset({'REVIEWS'}) properties={'date': '2013-02-19', 'score': '4.0', 'taste': 'nan', 'feel': 'nan', 'overall': 'nan', 'beer_id': '11960', 'text': '\\xa0\\xa0 You had this beer. Write a review.', 'id': '5849327', 'smell': 'nan', 'look': 'nan'}>>,\n",
      " <Record r=<Node element_id='6264847' labels=frozenset({'REVIEWS'}) properties={'date': '2012-12-04', 'score': '4.0', 'taste': 'nan', 'feel': 'nan', 'overall': 'nan', 'beer_id': '11922', 'text': '\\xa0\\xa0 You had this beer. Write a review.', 'id': '5843762', 'smell': 'nan', 'look': 'nan'}>>,\n",
      " <Record r=<Node element_id='6253896' labels=frozenset({'REVIEWS'}) properties={'date': '2013-12-01', 'score': '3.5', 'taste': 'nan', 'feel': 'nan', 'overall': 'nan', 'beer_id': '11819', 'text': '\\xa0\\xa0 You had this beer. Write a review.', 'id': '5832811', 'smell': 'nan', 'look': 'nan'}>>,\n",
      " <Record r=<Node element_id='6245465' labels=frozenset({'REVIEWS'}) properties={'date': '2012-12-30', 'score': '5.0', 'taste': 'nan', 'feel': 'nan', 'overall': 'nan', 'beer_id': '11757', 'text': '\\xa0\\xa0 You had this beer. Write a review.', 'id': '5824380', 'smell': 'nan', 'look': 'nan'}>>,\n",
      " <Record r=<Node element_id='6248105' labels=frozenset({'REVIEWS'}) properties={'date': '2011-12-22', 'score': '4.0', 'taste': 'nan', 'feel': 'nan', 'overall': 'nan', 'beer_id': '11757', 'text': '\\xa0\\xa0 You had this beer. Write a review.', 'id': '5827020', 'smell': 'nan', 'look': 'nan'}>>,\n",
      " <Record r=<Node element_id='6243037' labels=frozenset({'REVIEWS'}) properties={'date': '2013-06-15', 'score': '4.0', 'taste': 'nan', 'feel': 'nan', 'overall': 'nan', 'beer_id': '11757', 'text': '\\xa0\\xa0 You had this beer. Write a review.', 'id': '5821952', 'smell': 'nan', 'look': 'nan'}>>,\n",
      " <Record r=<Node element_id='6246735' labels=frozenset({'REVIEWS'}) properties={'date': '2012-08-26', 'score': '4.75', 'taste': 'nan', 'feel': 'nan', 'overall': 'nan', 'beer_id': '11757', 'text': '\\xa0\\xa0 You had this beer. Write a review.', 'id': '5825650', 'smell': 'nan', 'look': 'nan'}>>,\n",
      " <Record r=<Node element_id='6246004' labels=frozenset({'REVIEWS'}) properties={'date': '2012-11-11', 'score': '4.5', 'taste': 'nan', 'feel': 'nan', 'overall': 'nan', 'beer_id': '11757', 'text': '\\xa0\\xa0 You had this beer. Write a review.', 'id': '5824919', 'smell': 'nan', 'look': 'nan'}>>,\n",
      " <Record r=<Node element_id='6245854' labels=frozenset({'REVIEWS'}) properties={'date': '2012-11-23', 'score': '4.75', 'taste': 'nan', 'feel': 'nan', 'overall': 'nan', 'beer_id': '11757', 'text': '\\xa0\\xa0 You had this beer. Write a review.', 'id': '5824769', 'smell': 'nan', 'look': 'nan'}>>,\n",
      " <Record r=<Node element_id='6242257' labels=frozenset({'REVIEWS'}) properties={'date': '2011-04-22', 'score': '4.47', 'taste': '4.5', 'feel': '4.5', 'overall': '4.5', 'beer_id': '42079', 'text': '\\xa0\\xa0 Pours hazy golden orange with a huge rocky white head. The nose is full of spicy and earthy European hops hovering over bread, yeast, and saison-like aromas of banana and clove with that distinctive Belgian sour cider note hiding in the background. On the palette it is soft and powdery with subtle fruit followed by a nice bracing bitter backbone and a clean lingering finish of soft yeast, bitter hops and a pleasant subtle tartness. \\xa0', 'id': '5821172', 'smell': '4.5', 'look': '4.0'}>>,\n",
      " <Record r=<Node element_id='6224869' labels=frozenset({'REVIEWS'}) properties={'date': '2012-07-04', 'score': '2.5', 'taste': 'nan', 'feel': 'nan', 'overall': 'nan', 'beer_id': '11583', 'text': '\\xa0\\xa0 You had this beer. Write a review.', 'id': '5803784', 'smell': 'nan', 'look': 'nan'}>>,\n",
      " <Record r=<Node element_id='6226393' labels=frozenset({'REVIEWS'}) properties={'date': '2012-04-17', 'score': '4.75', 'taste': 'nan', 'feel': 'nan', 'overall': 'nan', 'beer_id': '53486', 'text': '\\xa0\\xa0 You had this beer. Write a review.', 'id': '5805308', 'smell': 'nan', 'look': 'nan'}>>,\n",
      " <Record r=<Node element_id='6224671' labels=frozenset({'REVIEWS'}) properties={'date': '2006-06-16', 'score': '3.73', 'taste': '4.0', 'feel': '3.5', 'overall': '3.5', 'beer_id': '11582', 'text': '\\xa0\\xa0 Dark brown with ruby tints. Head was non-existent despite a strong pour. The aroma was raisins with a slight whiff of alcohol. Taste was similar, with some toast and pepper at the end. Very smooth mouthfeel, with the carbonation making it almost creamy. A very good brew, would probably enjoy more in the winter, and would probably not want to drink too many. \\xa0', 'id': '5803586', 'smell': '3.5', 'look': '4.0'}>>,\n",
      " <Record r=<Node element_id='6230724' labels=frozenset({'REVIEWS'}) properties={'date': '2012-03-06', 'score': '4.0', 'taste': 'nan', 'feel': 'nan', 'overall': 'nan', 'beer_id': '20756', 'text': '\\xa0\\xa0 You had this beer. Write a review.', 'id': '5809639', 'smell': 'nan', 'look': 'nan'}>>,\n",
      " <Record r=<Node element_id='6195044' labels=frozenset({'REVIEWS'}) properties={'date': '2012-03-28', 'score': '3.75', 'taste': 'nan', 'feel': 'nan', 'overall': 'nan', 'beer_id': '11105', 'text': '\\xa0\\xa0 You had this beer. Write a review.', 'id': '5773959', 'smell': 'nan', 'look': 'nan'}>>,\n",
      " <Record r=<Node element_id='6201009' labels=frozenset({'REVIEWS'}) properties={'date': '2012-06-06', 'score': '4.0', 'taste': 'nan', 'feel': 'nan', 'overall': 'nan', 'beer_id': '75204', 'text': '\\xa0\\xa0 You had this beer. Write a review.', 'id': '5779924', 'smell': 'nan', 'look': 'nan'}>>,\n",
      " <Record r=<Node element_id='6187538' labels=frozenset({'REVIEWS'}) properties={'date': '2012-04-16', 'score': '4.25', 'taste': 'nan', 'feel': 'nan', 'overall': 'nan', 'beer_id': '52041', 'text': '\\xa0\\xa0 You had this beer. Write a review.', 'id': '5766453', 'smell': 'nan', 'look': 'nan'}>>,\n",
      " <Record r=<Node element_id='6170900' labels=frozenset({'REVIEWS'}) properties={'date': '2012-11-11', 'score': '5.0', 'taste': 'nan', 'feel': 'nan', 'overall': 'nan', 'beer_id': '10672', 'text': '\\xa0\\xa0 You had this beer. Write a review.', 'id': '5749815', 'smell': 'nan', 'look': 'nan'}>>,\n",
      " <Record r=<Node element_id='6153539' labels=frozenset({'REVIEWS'}) properties={'date': '2012-01-06', 'score': '4.02', 'taste': '4.0', 'feel': '4.0', 'overall': '3.5', 'beer_id': '77120', 'text': '\\xa0\\xa0 Purchased from the brewery on December 31. It was the only Pale Ale available that day. Appearance - slightly hazy and golden-yellow with a moderately-sized and persistent white head. This is an excellent pale ale - full of juicy, fruity hops flavours (pineapple, citrus, and mango) with a solid bitter backbone, and balancing, sweet caramel malts. \\xa0', 'id': '5732454', 'smell': '4.5', 'look': '4.0'}>>,\n",
      " <Record r=<Node element_id='6143925' labels=frozenset({'REVIEWS'}) properties={'date': '2013-08-12', 'score': '4.0', 'taste': 'nan', 'feel': 'nan', 'overall': 'nan', 'beer_id': '10482', 'text': '\\xa0\\xa0 You had this beer. Write a review.', 'id': '5722840', 'smell': 'nan', 'look': 'nan'}>>,\n",
      " <Record r=<Node element_id='6132852' labels=frozenset({'REVIEWS'}) properties={'date': '2012-07-11', 'score': '4.0', 'taste': 'nan', 'feel': 'nan', 'overall': 'nan', 'beer_id': '10365', 'text': '\\xa0\\xa0 You had this beer. Write a review.', 'id': '5711767', 'smell': 'nan', 'look': 'nan'}>>,\n",
      " <Record r=<Node element_id='6137376' labels=frozenset({'REVIEWS'}) properties={'date': '2013-02-18', 'score': '4.0', 'taste': 'nan', 'feel': 'nan', 'overall': 'nan', 'beer_id': '77589', 'text': '\\xa0\\xa0 You had this beer. Write a review.', 'id': '5716291', 'smell': 'nan', 'look': 'nan'}>>,\n",
      " <Record r=<Node element_id='6126066' labels=frozenset({'REVIEWS'}) properties={'date': '2012-08-06', 'score': '4.0', 'taste': 'nan', 'feel': 'nan', 'overall': 'nan', 'beer_id': '40051', 'text': '\\xa0\\xa0 You had this beer. Write a review.', 'id': '5704981', 'smell': 'nan', 'look': 'nan'}>>,\n",
      " <Record r=<Node element_id='6114410' labels=frozenset({'REVIEWS'}) properties={'date': '2013-02-18', 'score': '4.75', 'taste': 'nan', 'feel': 'nan', 'overall': 'nan', 'beer_id': '10293', 'text': '\\xa0\\xa0 You had this beer. Write a review.', 'id': '5693325', 'smell': 'nan', 'look': 'nan'}>>,\n",
      " <Record r=<Node element_id='6116650' labels=frozenset({'REVIEWS'}) properties={'date': '2012-04-25', 'score': '4.0', 'taste': 'nan', 'feel': 'nan', 'overall': 'nan', 'beer_id': '69453', 'text': '\\xa0\\xa0 You had this beer. Write a review.', 'id': '5695565', 'smell': 'nan', 'look': 'nan'}>>,\n",
      " <Record r=<Node element_id='6096236' labels=frozenset({'REVIEWS'}) properties={'date': '2012-03-30', 'score': '4.0', 'taste': 'nan', 'feel': 'nan', 'overall': 'nan', 'beer_id': '47440', 'text': '\\xa0\\xa0 You had this beer. Write a review.', 'id': '5675151', 'smell': 'nan', 'look': 'nan'}>>,\n",
      " <Record r=<Node element_id='6085126' labels=frozenset({'REVIEWS'}) properties={'date': '2012-12-27', 'score': '4.25', 'taste': 'nan', 'feel': 'nan', 'overall': 'nan', 'beer_id': '86189', 'text': '\\xa0\\xa0 You had this beer. Write a review.', 'id': '5664041', 'smell': 'nan', 'look': 'nan'}>>,\n",
      " <Record r=<Node element_id='6076714' labels=frozenset({'REVIEWS'}) properties={'date': '2012-12-27', 'score': '2.0', 'taste': 'nan', 'feel': 'nan', 'overall': 'nan', 'beer_id': '86393', 'text': '\\xa0\\xa0 You had this beer. Write a review.', 'id': '5655629', 'smell': 'nan', 'look': 'nan'}>>,\n",
      " <Record r=<Node element_id='6078311' labels=frozenset({'REVIEWS'}) properties={'date': '2013-01-19', 'score': '4.0', 'taste': 'nan', 'feel': 'nan', 'overall': 'nan', 'beer_id': '9900', 'text': '\\xa0\\xa0 You had this beer. Write a review.', 'id': '5657226', 'smell': 'nan', 'look': 'nan'}>>,\n",
      " <Record r=<Node element_id='6079130' labels=frozenset({'REVIEWS'}) properties={'date': '2007-03-12', 'score': '3.7', 'taste': '3.5', 'feel': '4.0', 'overall': '3.5', 'beer_id': '9900', 'text': '\\xa0\\xa0 12oz. bottle Clear, light brown/copper color. Modest, light tan head, faded fast. Aroma showed off coffee & roast. Bit of sweet, burnt caramel. Faintly earthy. Leather & smoke. Taste was bitter &gt; sweet. Very dark chocolate and/or espresso. Roast & toast notes. Some hops at finish, but pretty mild. Some dark fruits, again mild. Pepper. Medium in body. Medium carbonation. Dryer than expected. Very nice overall. Nice & sessionable. Browns are not my favorite style, but this was quite good. \\xa0', 'id': '5658045', 'smell': '4.0', 'look': '4.0'}>>,\n",
      " <Record r=<Node element_id='6078421' labels=frozenset({'REVIEWS'}) properties={'date': '2012-10-02', 'score': '2.0', 'taste': 'nan', 'feel': 'nan', 'overall': 'nan', 'beer_id': '9900', 'text': '\\xa0\\xa0 You had this beer. Write a review.', 'id': '5657336', 'smell': 'nan', 'look': 'nan'}>>,\n",
      " <Record r=<Node element_id='6076669' labels=frozenset({'REVIEWS'}) properties={'date': '2013-01-02', 'score': '3.5', 'taste': 'nan', 'feel': 'nan', 'overall': 'nan', 'beer_id': '86393', 'text': '\\xa0\\xa0 You had this beer. Write a review.', 'id': '5655584', 'smell': 'nan', 'look': 'nan'}>>,\n",
      " <Record r=<Node element_id='6056342' labels=frozenset({'REVIEWS'}) properties={'date': '2012-06-16', 'score': '3.75', 'taste': 'nan', 'feel': 'nan', 'overall': 'nan', 'beer_id': '9689', 'text': '\\xa0\\xa0 You had this beer. Write a review.', 'id': '5635257', 'smell': 'nan', 'look': 'nan'}>>,\n",
      " <Record r=<Node element_id='6056451' labels=frozenset({'REVIEWS'}) properties={'date': '2012-02-27', 'score': '3.5', 'taste': 'nan', 'feel': 'nan', 'overall': 'nan', 'beer_id': '9689', 'text': '\\xa0\\xa0 You had this beer. Write a review.', 'id': '5635366', 'smell': 'nan', 'look': 'nan'}>>,\n",
      " <Record r=<Node element_id='6041701' labels=frozenset({'REVIEWS'}) properties={'date': '2007-05-09', 'score': '3.63', 'taste': '3.5', 'feel': '3.0', 'overall': '3.5', 'beer_id': '9565', 'text': \"\\xa0\\xa0 500ml bottle. Clear dark mahogany in color. Lots of ruby tones. Large, rocky, light brown head. Mainly flowery in aroma. Hint of port and chocolate. Grassy and herbal. Overall, a very sweet aroma. Taste is more bitter than sweet. Coffee and roast notes dominate. Hops are there, but fairly mild. Grassy/herbal in character. Not much port in taste. A hint of dark fruits. I've drank a good bit of port over the years, and I'm pretty sure I would pick it up if there was much of it in here. Medium - in body. Felt thin. Medium carbonation. Not particularly dry. OK, easy to drink and rather sessionable, but nothing I would hurry back for. \\xa0\", 'id': '5620616', 'smell': '4.0', 'look': '4.5'}>>,\n",
      " <Record r=<Node element_id='6048119' labels=frozenset({'REVIEWS'}) properties={'date': '2013-02-25', 'score': '4.25', 'taste': 'nan', 'feel': 'nan', 'overall': 'nan', 'beer_id': '9630', 'text': '\\xa0\\xa0 You had this beer. Write a review.', 'id': '5627034', 'smell': 'nan', 'look': 'nan'}>>,\n",
      " <Record r=<Node element_id='6044052' labels=frozenset({'REVIEWS'}) properties={'date': '2007-01-02', 'score': '3.41', 'taste': '3.5', 'feel': '3.5', 'overall': '3.5', 'beer_id': '9590', 'text': '\\xa0\\xa0 12oz. bottle, received as part of a beer of the month club. Crystal clear, light copper color. Medium size, light tan head. Very mild aroma. Bit of caramel and some grassy hops. Taste is much more hoppy than aroma lets on. Citrus and herbal character. Biscuity in the middle. Overall taste is more sweet than anything else. Caramel and wheat bread? Medium in body and carbonation. Fairly drying. Quite good and very sessionable. Nice winter offering. \\xa0', 'id': '5622967', 'smell': '3.0', 'look': '4.0'}>>,\n",
      " <Record r=<Node element_id='6039950' labels=frozenset({'REVIEWS'}) properties={'date': '2013-01-19', 'score': '4.0', 'taste': 'nan', 'feel': 'nan', 'overall': 'nan', 'beer_id': '88693', 'text': '\\xa0\\xa0 You had this beer. Write a review.', 'id': '5618865', 'smell': 'nan', 'look': 'nan'}>>,\n",
      " <Record r=<Node element_id='6038306' labels=frozenset({'REVIEWS'}) properties={'date': '2013-01-01', 'score': '4.0', 'taste': 'nan', 'feel': 'nan', 'overall': 'nan', 'beer_id': '58340', 'text': '\\xa0\\xa0 You had this beer. Write a review.', 'id': '5617221', 'smell': 'nan', 'look': 'nan'}>>,\n",
      " <Record r=<Node element_id='6019875' labels=frozenset({'REVIEWS'}) properties={'date': '2007-07-13', 'score': '2.73', 'taste': '2.5', 'feel': '2.5', 'overall': '2.0', 'beer_id': '20206', 'text': '\\xa0\\xa0 12oz. bottle Clear, orange brown fluid. Huge rocky, light tan head with gentle pour. Lacing as foam subsides. Aroma has roast notes and grassy/herbal tones. Earthiness. Spicy. Caramel. Something sweet in there as well. Taste is very well hopped, much more bitter than sweet. Very different from aroma. Grassy & lingering at the finish. Light body, probably heavier than it seems based on the high carbonation. High carbonation - big pfft on opening. Huge head and significant \"zip\" in the taste. IMO, carbonation needs to be toned down quite a bit. Quite dry. Didn\\'t know style when I tried it, but was pretty sure it wasn\\'t an English Brown Ale - way too hoppy. I am having trouble getting past the carbonation and the hops. Both could be toned down to allow other aspects of the beer to shine through. \\xa0', 'id': '5598790', 'smell': '3.5', 'look': '4.0'}>>,\n",
      " <Record r=<Node element_id='5990146' labels=frozenset({'REVIEWS'}) properties={'date': '2012-02-27', 'score': '4.0', 'taste': 'nan', 'feel': 'nan', 'overall': 'nan', 'beer_id': '9171', 'text': '\\xa0\\xa0 You had this beer. Write a review.', 'id': '5569061', 'smell': 'nan', 'look': 'nan'}>>,\n",
      " <Record r=<Node element_id='5980234' labels=frozenset({'REVIEWS'}) properties={'date': '2012-08-27', 'score': '4.25', 'taste': 'nan', 'feel': 'nan', 'overall': 'nan', 'beer_id': '9086', 'text': '\\xa0\\xa0 You had this beer. Write a review.', 'id': '5559149', 'smell': 'nan', 'look': 'nan'}>>,\n",
      " <Record r=<Node element_id='5974423' labels=frozenset({'REVIEWS'}) properties={'date': '2007-09-10', 'score': '3.35', 'taste': '3.5', 'feel': '3.0', 'overall': '3.0', 'beer_id': '9077', 'text': '\\xa0\\xa0 11.2 oz. bottle Slightly hazy, honey/amber color. Medium sized, off-whtie ehad. Sweet, honey like aroma. Some Belgian funk. Grapes and chardonay. Well balanced, herbal finish. Not very sweet at all. Caramel and citrus, both very mild. Medium to light body. Medium carbonation. Refreshing. Overall, OK. Plenty others out there I would drink first, but I would probably drink it if offered. \\xa0', 'id': '5553338', 'smell': '3.5', 'look': '3.5'}>>,\n",
      " <Record r=<Node element_id='5980202' labels=frozenset({'REVIEWS'}) properties={'date': '2012-09-08', 'score': '3.0', 'taste': 'nan', 'feel': 'nan', 'overall': 'nan', 'beer_id': '9086', 'text': '\\xa0\\xa0 You had this beer. Write a review.', 'id': '5559117', 'smell': 'nan', 'look': 'nan'}>>,\n",
      " <Record r=<Node element_id='5954601' labels=frozenset({'REVIEWS'}) properties={'date': '2012-11-23', 'score': '5.0', 'taste': 'nan', 'feel': 'nan', 'overall': 'nan', 'beer_id': '8951', 'text': '\\xa0\\xa0 You had this beer. Write a review.', 'id': '5533516', 'smell': 'nan', 'look': 'nan'}>>,\n",
      " <Record r=<Node element_id='5951138' labels=frozenset({'REVIEWS'}) properties={'date': '2007-09-05', 'score': '3.95', 'taste': '4.0', 'feel': '3.5', 'overall': '4.0', 'beer_id': '8944', 'text': '\\xa0\\xa0 32oz. growler received in trade from njhcnwk - Thanks! Opaque, black/brown liquid with mahogany/ruby at edges when held up to light. No head to speak of. No lacing, some legs. Aromas of bourbon/alcohol. Dark fruits, mainly dark cherries. Some smoke? Overall, smells like it should be sweet. Initially, sweet, with a mild citrus finish. Well balanced with bitterness from citrus and some roast. Alcohol. Port like flavor profile, except for the citrus finish. Raisins. Bourbon. Hint of smoke. Medium to full bodied. Low to no carbonation. Very dry. Mouthcoating. ABV warmth, as others have mentioned, seems higher than ABV warrants. Impressive RIS. Not my favorite, but very well done. In this type of beer, I prefer them to lean towards the sweeter side. Nicely complex. \\xa0', 'id': '5530053', 'smell': '4.0', 'look': '4.0'}>>,\n",
      " <Record r=<Node element_id='5945334' labels=frozenset({'REVIEWS'}) properties={'date': '2011-06-27', 'score': '4.7', 'taste': '5.0', 'feel': '4.5', 'overall': '4.5', 'beer_id': '8919', 'text': \"\\xa0\\xa0 Ultra fresh can consumed six days after canning. a-pretty two finger cloud like head. Great red color. Laces the entire way down the glass. s-fresh hops and some nice malts. Has some grapefruit, and some sweet malt smell. t-beautiful mix of hops and malts in this red. Does not drink like a big 8%+ beer, could have a few before the alcohol sneeks up on you. Has some citrus and pine with the nice malts. Well balanced beer. When this was Gordon, it was one of the beers that got me into IPA's. m-rich and yummy. Feels sticky and refreshing all at the same time. o-I am in love with this beer, and am happy to have it so fresh year round. Great cross between a red and an IPA. I don't think there is anything Imperial about it other then the alcohol content. \\xa0\", 'id': '5524249', 'smell': '4.5', 'look': '4.5'}>>,\n",
      " <Record r=<Node element_id='5944709' labels=frozenset({'REVIEWS'}) properties={'date': '2012-09-01', 'score': '3.5', 'taste': 'nan', 'feel': 'nan', 'overall': 'nan', 'beer_id': '8919', 'text': '\\xa0\\xa0 You had this beer. Write a review.', 'id': '5523624', 'smell': 'nan', 'look': 'nan'}>>,\n",
      " <Record r=<Node element_id='5950724' labels=frozenset({'REVIEWS'}) properties={'date': '2013-01-27', 'score': '5.0', 'taste': 'nan', 'feel': 'nan', 'overall': 'nan', 'beer_id': '37389', 'text': '\\xa0\\xa0 You had this beer. Write a review.', 'id': '5529639', 'smell': 'nan', 'look': 'nan'}>>,\n",
      " <Record r=<Node element_id='5942152' labels=frozenset({'REVIEWS'}) properties={'date': '2006-10-27', 'score': '3.18', 'taste': '3.0', 'feel': '3.0', 'overall': '3.0', 'beer_id': '8917', 'text': \"\\xa0\\xa0 12oz. bottle. Clear, true gold in color. Medium sized light tan head. Aroma had grapefruit, pine and grass in it as well as a yeasty/doughy aroma. Taste was primarily hops, citrus in character - oranges and lemons. Malt was fairly mild, hard to characterize, and seemed to show in the middle. Faint alcohol present. A sweet aftertaste that I didn't care for very much. Medium in body. Carbonation seemed fairly big, and led to a rather acidic mouthfeel. Very dry finish. OK, I wouldn't turn it down if offered, but neither would I seek it out. \\xa0\", 'id': '5521067', 'smell': '3.5', 'look': '4.0'}>>,\n",
      " <Record r=<Node element_id='5944697' labels=frozenset({'REVIEWS'}) properties={'date': '2012-09-10', 'score': '4.0', 'taste': 'nan', 'feel': 'nan', 'overall': 'nan', 'beer_id': '8919', 'text': '\\xa0\\xa0 You had this beer. Write a review.', 'id': '5523612', 'smell': 'nan', 'look': 'nan'}>>,\n",
      " <Record r=<Node element_id='5931748' labels=frozenset({'REVIEWS'}) properties={'date': '2012-11-29', 'score': '4.75', 'taste': 'nan', 'feel': 'nan', 'overall': 'nan', 'beer_id': '29619', 'text': '\\xa0\\xa0 You had this beer. Write a review.', 'id': '5510663', 'smell': 'nan', 'look': 'nan'}>>,\n",
      " <Record r=<Node element_id='5936080' labels=frozenset({'REVIEWS'}) properties={'date': '2012-11-08', 'score': '3.5', 'taste': 'nan', 'feel': 'nan', 'overall': 'nan', 'beer_id': '33243', 'text': '\\xa0\\xa0 You had this beer. Write a review.', 'id': '5514995', 'smell': 'nan', 'look': 'nan'}>>,\n",
      " <Record r=<Node element_id='5931793' labels=frozenset({'REVIEWS'}) properties={'date': '2012-11-18', 'score': '5.0', 'taste': 'nan', 'feel': 'nan', 'overall': 'nan', 'beer_id': '29619', 'text': '\\xa0\\xa0 You had this beer. Write a review.', 'id': '5510708', 'smell': 'nan', 'look': 'nan'}>>,\n",
      " <Record r=<Node element_id='5935700' labels=frozenset({'REVIEWS'}) properties={'date': '2012-07-18', 'score': '4.75', 'taste': 'nan', 'feel': 'nan', 'overall': 'nan', 'beer_id': '33243', 'text': '\\xa0\\xa0 You had this beer. Write a review.', 'id': '5514615', 'smell': 'nan', 'look': 'nan'}>>,\n",
      " <Record r=<Node element_id='5938901' labels=frozenset({'REVIEWS'}) properties={'date': '2007-11-07', 'score': '3.73', 'taste': '4.0', 'feel': '3.5', 'overall': '3.5', 'beer_id': '8902', 'text': \"\\xa0\\xa0 On tap at The Brewer's Art. Never would have guessed Belgian Dark Ale. As others have mentioned, think porter or brown. Clear, dark brown liquid. Medium sized, light tan head. Decent lacing as I drank. Aroma was fairly mild, or my rosemary & garlic fries had ruined my sense of smell....probably the latter. Mild roast notes and some herbal hoppiness. Maybe a touch of chocolate. Taste gave me some roast notes and a touch of dark wheat bread. Got a bit of yeast, but it wasn't very Belgianesque. Finish was herbal/spicy hops. Body was light to medium, and could have been heavier. Medium carbonation. Quite refreshing. Easy to drink and quite tasty. Good session ale. \\xa0\", 'id': '5517816', 'smell': '3.5', 'look': '4.0'}>>,\n",
      " <Record r=<Node element_id='5937013' labels=frozenset({'REVIEWS'}) properties={'date': '2007-09-17', 'score': '4.07', 'taste': '4.0', 'feel': '4.0', 'overall': '4.5', 'beer_id': '33243', 'text': '\\xa0\\xa0 22oz. bottle Hazy, light brown/orange liquid. Medium to large, creamy, light tan colored head. Some lacing, no legs. Biscuity and caramel aromas. Grapefruit and grass come through next. Other citrus aromas in there as well -- lemon. Taste is much more bitter than sweet, big pine and grass. This moderates some with increasing temperature to the point that it gains a nice balance. Solid malt backbone breaks through the hops - caramel and biscuity. Alcohol well hidden, just a hint shows up near the finish. Medium + in body. Medium - in carbonation, could pick up a bit. Not as dry as I expected, but still pretty arid. A very good IPA. Very drinkable despite ABV. \\xa0', 'id': '5515928', 'smell': '4.0', 'look': '3.5'}>>,\n",
      " <Record r=<Node element_id='5935442' labels=frozenset({'REVIEWS'}) properties={'date': '2014-03-07', 'score': '4.0', 'taste': 'nan', 'feel': 'nan', 'overall': 'nan', 'beer_id': '8870', 'text': '\\xa0\\xa0 You had this beer. Write a review.', 'id': '5514357', 'smell': 'nan', 'look': 'nan'}>>,\n",
      " <Record r=<Node element_id='5930721' labels=frozenset({'REVIEWS'}) properties={'date': '2013-04-09', 'score': '4.5', 'taste': 'nan', 'feel': 'nan', 'overall': 'nan', 'beer_id': '29619', 'text': '\\xa0\\xa0 You had this beer. Write a review.', 'id': '5509636', 'smell': 'nan', 'look': 'nan'}>>,\n",
      " <Record r=<Node element_id='5928015' labels=frozenset({'REVIEWS'}) properties={'date': '2014-02-17', 'score': '4.75', 'taste': 'nan', 'feel': 'nan', 'overall': 'nan', 'beer_id': '29619', 'text': '\\xa0\\xa0 You had this beer. Write a review.', 'id': '5506930', 'smell': 'nan', 'look': 'nan'}>>,\n",
      " <Record r=<Node element_id='5904864' labels=frozenset({'REVIEWS'}) properties={'date': '2011-06-20', 'score': '3.67', 'taste': '4.0', 'feel': '3.5', 'overall': '3.5', 'beer_id': '8682', 'text': '\\xa0\\xa0 Appearance - cloudy pale orange with a decent white head. Smell - sweet wheat malt with prominent coriander and orange aromas and a bit of musty hops. Mouthfeel - Light to medium bodied, medium carbonation. Taste - Echoes the aroma upfront with sweet wheat malt, coriander and ornage. Finishes clean with a lingering orange juice flavour and a light spiciness. \\xa0', 'id': '5483779', 'smell': '3.5', 'look': '3.0'}>>,\n",
      " <Record r=<Node element_id='5875458' labels=frozenset({'REVIEWS'}) properties={'date': '2012-11-16', 'score': '3.5', 'taste': 'nan', 'feel': 'nan', 'overall': 'nan', 'beer_id': '19314', 'text': '\\xa0\\xa0 You had this beer. Write a review.', 'id': '5454373', 'smell': 'nan', 'look': 'nan'}>>,\n",
      " <Record r=<Node element_id='5869006' labels=frozenset({'REVIEWS'}) properties={'date': '2007-07-13', 'score': '2.73', 'taste': '2.5', 'feel': '3.0', 'overall': '2.5', 'beer_id': '8316', 'text': '\\xa0\\xa0 12oz. bottle Hazy, orange gold in color. Modest, creamy, ivory colored head. Smell gives up citrus and a sweet, caramel scent. Some sort of smell like artifical sweetner in the background. Taste of citrus. Biscuity. Grassy, lingering well into aftertaste. A bit out of balance. Medium body. Medium carbonation. Dry. Seemed out of balance for style. Not terribly interesting in that bitter is about all I get out of the taste. \\xa0', 'id': '5447921', 'smell': '3.0', 'look': '3.5'}>>,\n",
      " <Record r=<Node element_id='5858405' labels=frozenset({'REVIEWS'}) properties={'date': '2012-07-11', 'score': '3.5', 'taste': 'nan', 'feel': 'nan', 'overall': 'nan', 'beer_id': '8205', 'text': '\\xa0\\xa0 You had this beer. Write a review.', 'id': '5437320', 'smell': 'nan', 'look': 'nan'}>>,\n",
      " <Record r=<Node element_id='5840175' labels=frozenset({'REVIEWS'}) properties={'date': '2012-11-08', 'score': '4.0', 'taste': 'nan', 'feel': 'nan', 'overall': 'nan', 'beer_id': '8012', 'text': '\\xa0\\xa0 You had this beer. Write a review.', 'id': '5419090', 'smell': 'nan', 'look': 'nan'}>>,\n",
      " <Record r=<Node element_id='5829649' labels=frozenset({'REVIEWS'}) properties={'date': '2012-12-23', 'score': '5.0', 'taste': 'nan', 'feel': 'nan', 'overall': 'nan', 'beer_id': '7971', 'text': '\\xa0\\xa0 You had this beer. Write a review.', 'id': '5408564', 'smell': 'nan', 'look': 'nan'}>>,\n",
      " <Record r=<Node element_id='5830041' labels=frozenset({'REVIEWS'}) properties={'date': '2012-10-18', 'score': '4.75', 'taste': 'nan', 'feel': 'nan', 'overall': 'nan', 'beer_id': '7971', 'text': '\\xa0\\xa0 You had this beer. Write a review.', 'id': '5408956', 'smell': 'nan', 'look': 'nan'}>>,\n",
      " <Record r=<Node element_id='5829349' labels=frozenset({'REVIEWS'}) properties={'date': '2013-01-29', 'score': '4.25', 'taste': 'nan', 'feel': 'nan', 'overall': 'nan', 'beer_id': '7971', 'text': '\\xa0\\xa0 You had this beer. Write a review.', 'id': '5408264', 'smell': 'nan', 'look': 'nan'}>>,\n",
      " <Record r=<Node element_id='5829830' labels=frozenset({'REVIEWS'}) properties={'date': '2012-11-20', 'score': '4.25', 'taste': 'nan', 'feel': 'nan', 'overall': 'nan', 'beer_id': '7971', 'text': '\\xa0\\xa0 You had this beer. Write a review.', 'id': '5408745', 'smell': 'nan', 'look': 'nan'}>>,\n",
      " <Record r=<Node element_id='5830878' labels=frozenset({'REVIEWS'}) properties={'date': '2012-05-03', 'score': '4.75', 'taste': 'nan', 'feel': 'nan', 'overall': 'nan', 'beer_id': '7971', 'text': '\\xa0\\xa0 You had this beer. Write a review.', 'id': '5409793', 'smell': 'nan', 'look': 'nan'}>>,\n",
      " <Record r=<Node element_id='5826459' labels=frozenset({'REVIEWS'}) properties={'date': '2014-02-11', 'score': '4.75', 'taste': 'nan', 'feel': 'nan', 'overall': 'nan', 'beer_id': '7971', 'text': '\\xa0\\xa0 You had this beer. Write a review.', 'id': '5405374', 'smell': 'nan', 'look': 'nan'}>>,\n",
      " <Record r=<Node element_id='5809270' labels=frozenset({'REVIEWS'}) properties={'date': '2007-01-02', 'score': '3.23', 'taste': '3.0', 'feel': '3.5', 'overall': '3.0', 'beer_id': '7804', 'text': \"\\xa0\\xa0 16oz. bottle. Santa in a jar on the label. I admit it, I bought it for the label.... Poured a clear copper color. Formed a large, off-white head. Aroma was floral and grassy. Spices of pepper and coriander showed up. Caramel and earthiness were the backbone. In the taste, the spicing came across rather heavy, with nutmeg being the strongest. Caramel showed up next, moving into a biscuity/grainy type of character. Finish was very peppery, with some clove as well. Light in body, moderate carbonation. Pretty refreshing. Overall, didn't dislike, but probably wouldn't seek out again. Santa was pickled in too much spice for my taste. \\xa0\", 'id': '5388185', 'smell': '3.5', 'look': '4.0'}>>,\n",
      " <Record r=<Node element_id='5797364' labels=frozenset({'REVIEWS'}) properties={'date': '2010-06-10', 'score': '3.74', 'taste': '4.0', 'feel': '4.0', 'overall': '4.5', 'beer_id': '57243', 'text': '\\xa0\\xa0 Poured into a tulip glass Brown-red in appearance with a small head. Strong hop aroma, with grapefruit rind and wood. This particular variety of hop has a very distinct smell, and it took a little bit of getting used to. Taste was at first more malty than I expected - sour cherry, oak. Finishes with a crisp, dry bitterness. Very interesting. Med-heavy carbonation works well here. Good balance between flavor and drinkability. \\xa0', 'id': '5376279', 'smell': '2.5', 'look': '4.0'}>>,\n",
      " <Record r=<Node element_id='5780213' labels=frozenset({'REVIEWS'}) properties={'date': '2007-07-13', 'score': '2.73', 'taste': '2.5', 'feel': '3.0', 'overall': '2.5', 'beer_id': '7594', 'text': \"\\xa0\\xa0 12oz. bottle Slight haze, amber in color. Medium sized, creamy, ivory colored head. Smells very sweet, mainly caramel. Bit of bubblegum? Phenols and grass. Taste is citrus/bitter more than sweet, very different than the aroma. Just a touch of biscuit in the middle. Floral/rosy and medicinal. Seems out of balance to me. Medium in body. Medium - carbonation. Dry. More bitter than usual for style. Not something I'll be going back to. \\xa0\", 'id': '5359128', 'smell': '3.0', 'look': '3.5'}>>,\n",
      " <Record r=<Node element_id='5759528' labels=frozenset({'REVIEWS'}) properties={'date': '2012-12-01', 'score': '3.5', 'taste': 'nan', 'feel': 'nan', 'overall': 'nan', 'beer_id': '25608', 'text': '\\xa0\\xa0 You had this beer. Write a review.', 'id': '5338443', 'smell': 'nan', 'look': 'nan'}>>,\n",
      " <Record r=<Node element_id='5753639' labels=frozenset({'REVIEWS'}) properties={'date': '2012-12-07', 'score': '4.0', 'taste': 'nan', 'feel': 'nan', 'overall': 'nan', 'beer_id': '16385', 'text': '\\xa0\\xa0 You had this beer. Write a review.', 'id': '5332554', 'smell': 'nan', 'look': 'nan'}>>,\n",
      " <Record r=<Node element_id='5746245' labels=frozenset({'REVIEWS'}) properties={'date': '2007-09-07', 'score': '3.18', 'taste': '3.0', 'feel': '3.0', 'overall': '3.0', 'beer_id': '7395', 'text': \"\\xa0\\xa0 22oz. bottle True gold/amber in color, clear. Large, creamy, light tan head. No lacing or legs. Aroma was biscuity with caramel. Earthy and herbal notes. Citrus, but fairly mild. Big citrus taste up front - lemon. Grassy finish. Bitter more than sweet. Seems a bit unbalanced. No aftertaste. Medium body, thins out quickly. Medium + carbonation -- could be toned down. Not very dry. Not terribly impressive. Easy to drink, but just doesn't wow me. \\xa0\", 'id': '5325160', 'smell': '3.5', 'look': '4.0'}>>,\n",
      " <Record r=<Node element_id='5737878' labels=frozenset({'REVIEWS'}) properties={'date': '2012-02-27', 'score': '3.0', 'taste': 'nan', 'feel': 'nan', 'overall': 'nan', 'beer_id': '29393', 'text': '\\xa0\\xa0 You had this beer. Write a review.', 'id': '5316793', 'smell': 'nan', 'look': 'nan'}>>,\n",
      " <Record r=<Node element_id='5740708' labels=frozenset({'REVIEWS'}) properties={'date': '2012-12-04', 'score': '3.75', 'taste': 'nan', 'feel': 'nan', 'overall': 'nan', 'beer_id': '7348', 'text': '\\xa0\\xa0 You had this beer. Write a review.', 'id': '5319623', 'smell': 'nan', 'look': 'nan'}>>,\n",
      " <Record r=<Node element_id='5730938' labels=frozenset({'REVIEWS'}) properties={'date': '2013-02-20', 'score': '1.25', 'taste': 'nan', 'feel': 'nan', 'overall': 'nan', 'beer_id': '7313', 'text': '\\xa0\\xa0 You had this beer. Write a review.', 'id': '5309853', 'smell': 'nan', 'look': 'nan'}>>,\n",
      " <Record r=<Node element_id='5731015' labels=frozenset({'REVIEWS'}) properties={'date': '2012-08-28', 'score': '4.5', 'taste': 'nan', 'feel': 'nan', 'overall': 'nan', 'beer_id': '7313', 'text': '\\xa0\\xa0 You had this beer. Write a review.', 'id': '5309930', 'smell': 'nan', 'look': 'nan'}>>,\n",
      " <Record r=<Node element_id='5712684' labels=frozenset({'REVIEWS'}) properties={'date': '2007-07-26', 'score': '3.97', 'taste': '4.0', 'feel': '4.0', 'overall': '4.0', 'beer_id': '99069', 'text': '\\xa0\\xa0 12oz. bottle, courtesy of msubulldog25 Poured a slightly hazy, dark orange/gold color. Medium sized, rocky, ivory colored head. Aroma was peaches and pine. Caramel showed up as well. Smells like a tasty IPA/DIPA. Taste had a very nice balance. Biscuity. Pine in the hops, with some citrus as well. Bit of caramel and peach. Bitterness lingers nicely. Medium in body. Medium carbonation. Refreshing. Very good, and being organic is a nice bonus. Think of a milder Nugget Nectar, and you have a good idea of this beer. \\xa0', 'id': '5291599', 'smell': '4.0', 'look': '3.5'}>>,\n",
      " <Record r=<Node element_id='5693225' labels=frozenset({'REVIEWS'}) properties={'date': '2012-10-23', 'score': '4.5', 'taste': 'nan', 'feel': 'nan', 'overall': 'nan', 'beer_id': '83920', 'text': '\\xa0\\xa0 You had this beer. Write a review.', 'id': '5272140', 'smell': 'nan', 'look': 'nan'}>>,\n",
      " <Record r=<Node element_id='5689840' labels=frozenset({'REVIEWS'}) properties={'date': '2012-09-15', 'score': '3.5', 'taste': 'nan', 'feel': 'nan', 'overall': 'nan', 'beer_id': '45844', 'text': '\\xa0\\xa0 You had this beer. Write a review.', 'id': '5268755', 'smell': 'nan', 'look': 'nan'}>>,\n",
      " <Record r=<Node element_id='5674804' labels=frozenset({'REVIEWS'}) properties={'date': '2012-03-06', 'score': '4.0', 'taste': 'nan', 'feel': 'nan', 'overall': 'nan', 'beer_id': '6752', 'text': '\\xa0\\xa0 You had this beer. Write a review.', 'id': '5253719', 'smell': 'nan', 'look': 'nan'}>>,\n",
      " <Record r=<Node element_id='5677404' labels=frozenset({'REVIEWS'}) properties={'date': '2012-01-15', 'score': '4.5', 'taste': 'nan', 'feel': 'nan', 'overall': 'nan', 'beer_id': '6803', 'text': '\\xa0\\xa0 You had this beer. Write a review.', 'id': '5256319', 'smell': 'nan', 'look': 'nan'}>>,\n",
      " <Record r=<Node element_id='5669099' labels=frozenset({'REVIEWS'}) properties={'date': '2011-06-23', 'score': '3.34', 'taste': '3.0', 'feel': '3.0', 'overall': '3.5', 'beer_id': '6715', 'text': '\\xa0\\xa0 Appearance - pale golden yellow with a small white head that quickly dissapears without a trace. Very fine bubbles. Smell - nice subdued floral hops aroma with sweet bready malt. Mouthfeel - light bodied, moderately carbonated and crisp. Taste - Sweet pilsner malt, a touch of bitterness, and herbal noble hops. A touch on the wwtery side, but good. \\xa0', 'id': '5248014', 'smell': '4.0', 'look': '3.0'}>>,\n",
      " <Record r=<Node element_id='5650823' labels=frozenset({'REVIEWS'}) properties={'date': '2013-01-06', 'score': '4.5', 'taste': 'nan', 'feel': 'nan', 'overall': 'nan', 'beer_id': '38470', 'text': '\\xa0\\xa0 You had this beer. Write a review.', 'id': '5229738', 'smell': 'nan', 'look': 'nan'}>>,\n",
      " <Record r=<Node element_id='5646526' labels=frozenset({'REVIEWS'}) properties={'date': '2006-09-05', 'score': '3.61', 'taste': '4.0', 'feel': '3.5', 'overall': '3.5', 'beer_id': '6590', 'text': '\\xa0\\xa0 On tap at Brix in Jacksonville Beach. A clear, copper colored brew with a small off-white head which faded rather fast. Beer was served quite cold, so aroma was muted. Flavor was a pine/citrus hop for the most part, with enough malt to balance it, but still leave it in the hop-lovers camp. Body was medium, as was the carbonation. Refreshing and slightly drying. Overall a very drinkable APA, which sneaks up on being an IPA. \\xa0', 'id': '5225441', 'smell': '3.0', 'look': '4.0'}>>,\n",
      " <Record r=<Node element_id='5624041' labels=frozenset({'REVIEWS'}) properties={'date': '2009-06-30', 'score': '3.87', 'taste': '4.0', 'feel': '3.0', 'overall': '4.0', 'beer_id': '6427', 'text': '\\xa0\\xa0 Sunset Red poured from growler into Bells pint glass, gotta love Kalamazoo beers! Appearance was typical dark amber with slight lacing covering my pint glass. First thing you notice when smelling the beer is a roastyness that I have not experinced much with this style, and made me think that this would be a perfect beer for a chilly fall afternoon at Waldo Stadium. The taste conveys this roasted flavor which I have found I enjoy, also a good amount of malt is present with just enough of hop bitterrnes to balance the beer and not make it a malt bomb. I found this amber ale to be exceptionally drinkable, but somewhat scary when not knowing what the ABV is, but I would be shocked if it was over 6%. \\xa0', 'id': '5202956', 'smell': '4.0', 'look': '3.5'}>>,\n",
      " <Record r=<Node element_id='5611492' labels=frozenset({'REVIEWS'}) properties={'date': '2012-01-06', 'score': '3.83', 'taste': '4.0', 'feel': '3.5', 'overall': '4.0', 'beer_id': '6341', 'text': \"\\xa0\\xa0 On cask at a Fuller's pub in south London. Very light golden colour with a quickly-dissipating head. It is light bodied, as one would expect from such a low-alcohol session ale. Flavours are still fairly impressive, though - bread, grain, and floral hops with a delicate, subtle bitterness. Extremely drinkable and refreshing while still providing satisfying flavour. \\xa0\", 'id': '5190407', 'smell': '3.5', 'look': '4.0'}>>,\n",
      " <Record r=<Node element_id='5619190' labels=frozenset({'REVIEWS'}) properties={'date': '2012-08-15', 'score': '3.75', 'taste': 'nan', 'feel': 'nan', 'overall': 'nan', 'beer_id': '70288', 'text': '\\xa0\\xa0 You had this beer. Write a review.', 'id': '5198105', 'smell': 'nan', 'look': 'nan'}>>,\n",
      " <Record r=<Node element_id='5584282' labels=frozenset({'REVIEWS'}) properties={'date': '2012-09-29', 'score': '4.25', 'taste': 'nan', 'feel': 'nan', 'overall': 'nan', 'beer_id': '85625', 'text': '\\xa0\\xa0 You had this beer. Write a review.', 'id': '5163197', 'smell': 'nan', 'look': 'nan'}>>,\n",
      " <Record r=<Node element_id='5576176' labels=frozenset({'REVIEWS'}) properties={'date': '2012-05-01', 'score': '4.0', 'taste': 'nan', 'feel': 'nan', 'overall': 'nan', 'beer_id': '6156', 'text': '\\xa0\\xa0 You had this beer. Write a review.', 'id': '5155091', 'smell': 'nan', 'look': 'nan'}>>,\n",
      " <Record r=<Node element_id='5568070' labels=frozenset({'REVIEWS'}) properties={'date': '2007-12-18', 'score': '4.03', 'taste': '4.0', 'feel': '4.0', 'overall': '4.0', 'beer_id': '6088', 'text': '\\xa0\\xa0 12oz. bottle Clear, deep mahogany with lots of ruby highlights. Medium sized, creamy, tan colored head. Not much legs, OK lacing. Aromas of chocolate and caramel. Oatmeal. Hint of coffee, more as it warmed. Bitter more than sweet. Bittersweet chocolate. Touch of hops, maybe pine, mainly at the finish. Spicy as well. Some roast notes. Biscuity middle. Medium body. Medium to low carbonation, almost creamy. Dry. Overall, very tasty. Excellent mouthfeel and great balance. \\xa0', 'id': '5146985', 'smell': '4.0', 'look': '4.5'}>>,\n",
      " <Record r=<Node element_id='5562455' labels=frozenset({'REVIEWS'}) properties={'date': '2013-01-16', 'score': '4.75', 'taste': 'nan', 'feel': 'nan', 'overall': 'nan', 'beer_id': '6073', 'text': '\\xa0\\xa0 You had this beer. Write a review.', 'id': '5141370', 'smell': 'nan', 'look': 'nan'}>>,\n",
      " <Record r=<Node element_id='5562088' labels=frozenset({'REVIEWS'}) properties={'date': '2014-03-02', 'score': '3.0', 'taste': 'nan', 'feel': 'nan', 'overall': 'nan', 'beer_id': '6073', 'text': '\\xa0\\xa0 You had this beer. Write a review.', 'id': '5141003', 'smell': 'nan', 'look': 'nan'}>>,\n",
      " <Record r=<Node element_id='5553817' labels=frozenset({'REVIEWS'}) properties={'date': '2012-11-21', 'score': '4.25', 'taste': 'nan', 'feel': 'nan', 'overall': 'nan', 'beer_id': '46251', 'text': '\\xa0\\xa0 You had this beer. Write a review.', 'id': '5132732', 'smell': 'nan', 'look': 'nan'}>>,\n",
      " <Record r=<Node element_id='5555871' labels=frozenset({'REVIEWS'}) properties={'date': '2006-11-08', 'score': '3.56', 'taste': '3.5', 'feel': '3.5', 'overall': '3.5', 'beer_id': '5970', 'text': \"\\xa0\\xa0 12oz. bottle Golden and clear, with a large, ivory colored head. Seemed predominantly malty in aroma. Bread and honey. Some fruit/phenol aromas in the background. Taste was bready/biscuity. Some toffee like sweetness was present as well. Finish finally brought the hops, which were floral and grassy. Finish also seemed a bit husky/grainy. Medium bodied, almost chewy. Seems heavier than it probably is because of the texture/graininess. Carbonation was medium, and it had a sweetish finish. I prefer a bigger hop profile, but that is personal preference and not a style flaw for this beer. It was pretty good, and easy to drink, but I probably won't have it again. \\xa0\", 'id': '5134786', 'smell': '3.5', 'look': '4.5'}>>,\n",
      " <Record r=<Node element_id='5551145' labels=frozenset({'REVIEWS'}) properties={'date': '2012-09-11', 'score': '3.75', 'taste': 'nan', 'feel': 'nan', 'overall': 'nan', 'beer_id': '5948', 'text': '\\xa0\\xa0 You had this beer. Write a review.', 'id': '5130060', 'smell': 'nan', 'look': 'nan'}>>,\n",
      " <Record r=<Node element_id='5545607' labels=frozenset({'REVIEWS'}) properties={'date': '2012-02-27', 'score': '2.5', 'taste': 'nan', 'feel': 'nan', 'overall': 'nan', 'beer_id': '6510', 'text': '\\xa0\\xa0 You had this beer. Write a review.', 'id': '5124522', 'smell': 'nan', 'look': 'nan'}>>,\n",
      " <Record r=<Node element_id='5531409' labels=frozenset({'REVIEWS'}) properties={'date': '2013-01-14', 'score': '3.25', 'taste': 'nan', 'feel': 'nan', 'overall': 'nan', 'beer_id': '5748', 'text': '\\xa0\\xa0 You had this beer. Write a review.', 'id': '5110324', 'smell': 'nan', 'look': 'nan'}>>,\n",
      " <Record r=<Node element_id='5533853' labels=frozenset({'REVIEWS'}) properties={'date': '2012-07-18', 'score': '4.75', 'taste': 'nan', 'feel': 'nan', 'overall': 'nan', 'beer_id': '5753', 'text': '\\xa0\\xa0 You had this beer. Write a review.', 'id': '5112768', 'smell': 'nan', 'look': 'nan'}>>,\n",
      " <Record r=<Node element_id='5534612' labels=frozenset({'REVIEWS'}) properties={'date': '2006-10-26', 'score': '3.68', 'taste': '3.5', 'feel': '4.0', 'overall': '4.0', 'beer_id': '5753', 'text': '\\xa0\\xa0 On tap at the Yardhouse, 10/24/06. Amber in color and slightly hazy. Medium sized light tan head. Aroma was mostly hops of the citrus variety. Malt was quite subdued initially. Taste was well balanced. Starts and ends hoppy (oranges). Malt shows up in middle as caramel. Bit of phenol as taste in there. Aftertaste is a lingering sweetness. Light bodied and medium carbonation. Finish is sweet. Quite good, easy session beer. I would happily drink again, especially on a 90 degree plus Phoenix fall day... \\xa0', 'id': '5113527', 'smell': '3.5', 'look': '4.0'}>>,\n",
      " <Record r=<Node element_id='5506050' labels=frozenset({'REVIEWS'}) properties={'date': '2012-11-10', 'score': '2.5', 'taste': 'nan', 'feel': 'nan', 'overall': 'nan', 'beer_id': '7560', 'text': '\\xa0\\xa0 You had this beer. Write a review.', 'id': '5084965', 'smell': 'nan', 'look': 'nan'}>>,\n",
      " <Record r=<Node element_id='5498876' labels=frozenset({'REVIEWS'}) properties={'date': '2012-09-08', 'score': '4.0', 'taste': 'nan', 'feel': 'nan', 'overall': 'nan', 'beer_id': '5554', 'text': '\\xa0\\xa0 You had this beer. Write a review.', 'id': '5077791', 'smell': 'nan', 'look': 'nan'}>>,\n",
      " <Record r=<Node element_id='5484211' labels=frozenset({'REVIEWS'}) properties={'date': '2012-12-04', 'score': '4.5', 'taste': 'nan', 'feel': 'nan', 'overall': 'nan', 'beer_id': '5441', 'text': '\\xa0\\xa0 You had this beer. Write a review.', 'id': '5063126', 'smell': 'nan', 'look': 'nan'}>>,\n",
      " <Record r=<Node element_id='5484208' labels=frozenset({'REVIEWS'}) properties={'date': '2012-12-05', 'score': '1.0', 'taste': 'nan', 'feel': 'nan', 'overall': 'nan', 'beer_id': '5441', 'text': '\\xa0\\xa0 You had this beer. Write a review.', 'id': '5063123', 'smell': 'nan', 'look': 'nan'}>>,\n",
      " <Record r=<Node element_id='5474583' labels=frozenset({'REVIEWS'}) properties={'date': '2008-09-12', 'score': '3.17', 'taste': '3.0', 'feel': '2.5', 'overall': '3.5', 'beer_id': '5412', 'text': '\\xa0\\xa0 Not an amazing beer but certainly worth the value. The color is pale and clear and the bubbles surface continuously from the bottom. The carbonation is heavy but the head disappeared quickly. Some slight alcohol can be smelled. The beer tasts like a pilsner, light with a carbonated edge and some hops notes but nothing too impressive. This is not a hoppy pilsner. It is a beer that is easy to drink and can be refreshing in the summer but would not be a first choice year round. \\xa0', 'id': '5053498', 'smell': '3.5', 'look': '3.0'}>>,\n",
      " <Record r=<Node element_id='5464931' labels=frozenset({'REVIEWS'}) properties={'date': '2012-09-01', 'score': '3.25', 'taste': 'nan', 'feel': 'nan', 'overall': 'nan', 'beer_id': '66028', 'text': '\\xa0\\xa0 You had this beer. Write a review.', 'id': '5043846', 'smell': 'nan', 'look': 'nan'}>>,\n",
      " <Record r=<Node element_id='5467752' labels=frozenset({'REVIEWS'}) properties={'date': '2012-10-23', 'score': '4.25', 'taste': 'nan', 'feel': 'nan', 'overall': 'nan', 'beer_id': '5385', 'text': '\\xa0\\xa0 You had this beer. Write a review.', 'id': '5046667', 'smell': 'nan', 'look': 'nan'}>>,\n",
      " <Record r=<Node element_id='5455380' labels=frozenset({'REVIEWS'}) properties={'date': '2012-09-05', 'score': '3.0', 'taste': 'nan', 'feel': 'nan', 'overall': 'nan', 'beer_id': '5317', 'text': '\\xa0\\xa0 You had this beer. Write a review.', 'id': '5034295', 'smell': 'nan', 'look': 'nan'}>>,\n",
      " <Record r=<Node element_id='5430715' labels=frozenset({'REVIEWS'}) properties={'date': '2012-11-08', 'score': '3.75', 'taste': 'nan', 'feel': 'nan', 'overall': 'nan', 'beer_id': '82578', 'text': '\\xa0\\xa0 You had this beer. Write a review.', 'id': '5009630', 'smell': 'nan', 'look': 'nan'}>>,\n",
      " <Record r=<Node element_id='5418918' labels=frozenset({'REVIEWS'}) properties={'date': '2012-06-09', 'score': '3.75', 'taste': 'nan', 'feel': 'nan', 'overall': 'nan', 'beer_id': '9478', 'text': '\\xa0\\xa0 You had this beer. Write a review.', 'id': '4997833', 'smell': 'nan', 'look': 'nan'}>>,\n",
      " <Record r=<Node element_id='5419071' labels=frozenset({'REVIEWS'}) properties={'date': '2012-04-16', 'score': '4.25', 'taste': 'nan', 'feel': 'nan', 'overall': 'nan', 'beer_id': '9478', 'text': '\\xa0\\xa0 You had this beer. Write a review.', 'id': '4997986', 'smell': 'nan', 'look': 'nan'}>>,\n",
      " <Record r=<Node element_id='5418076' labels=frozenset({'REVIEWS'}) properties={'date': '2013-01-15', 'score': '3.75', 'taste': 'nan', 'feel': 'nan', 'overall': 'nan', 'beer_id': '9478', 'text': '\\xa0\\xa0 You had this beer. Write a review.', 'id': '4996991', 'smell': 'nan', 'look': 'nan'}>>,\n",
      " <Record r=<Node element_id='5419101' labels=frozenset({'REVIEWS'}) properties={'date': '2012-04-14', 'score': '3.5', 'taste': 'nan', 'feel': 'nan', 'overall': 'nan', 'beer_id': '9478', 'text': '\\xa0\\xa0 You had this beer. Write a review.', 'id': '4998016', 'smell': 'nan', 'look': 'nan'}>>,\n",
      " <Record r=<Node element_id='5420747' labels=frozenset({'REVIEWS'}) properties={'date': '2012-12-23', 'score': '4.0', 'taste': 'nan', 'feel': 'nan', 'overall': 'nan', 'beer_id': '30420', 'text': '\\xa0\\xa0 You had this beer. Write a review.', 'id': '4999662', 'smell': 'nan', 'look': 'nan'}>>,\n",
      " <Record r=<Node element_id='5403558' labels=frozenset({'REVIEWS'}) properties={'date': '2006-08-15', 'score': '3.23', 'taste': '3.0', 'feel': '3.5', 'overall': '3.0', 'beer_id': '5036', 'text': '\\xa0\\xa0 12oz. bottle. A very appetizing beer in appearance. Clear gold-amber, with a moderate off white head. Aroma was malt, of the caramel-molasses variety and very little hop. Taste brought the hops, which were still well balanced by the malt. Beer was light to medium in body (seemed \"heavy\" for a pale ale), with medium carbonation. Overall, it was a well made beer, and easy to drink, but the taste was just a bit too bland for my liking. \\xa0', 'id': '4982473', 'smell': '3.5', 'look': '4.0'}>>,\n",
      " <Record r=<Node element_id='5408090' labels=frozenset({'REVIEWS'}) properties={'date': '2007-05-09', 'score': '4.0', 'taste': '4.0', 'feel': '4.0', 'overall': '4.0', 'beer_id': '5057', 'text': '\\xa0\\xa0 750ml bottle. Hazy gold/yellow/light orange in color. Large, rocky, off-white head. Aromas of melons and other tropical fruits. Spice - clove, coriander, pepper, others? Bananas. Sweet - floral and honey. Not much of the \"typical\" Belgian scent. 1st impression of taste is very tart - citrus and herbal. Not much sweet initially, but changes as it warms. Seems to have characteristics of melons and flowers. Bananas. Crackery. Bit of alcohol, but very well hidden. Lingering bitterness in finish and aftertaste -- herbal and grassy. Spices show up again at the finish, clove and pepper being what I could distinguish. Light in body. Medium to high carbonation. Fairly dry. Alcohol warming noticeable quickly. More tart and citrus than I remember from when I first tried it almost a year ago. Tasty and refreshing. Still trying to beat Hiver and Black Ghost. This one gets close, but falls just a hair short. Like most Fantomes, complex as hell! \\xa0', 'id': '4987005', 'smell': '4.0', 'look': '4.0'}>>,\n",
      " <Record r=<Node element_id='5406194' labels=frozenset({'REVIEWS'}) properties={'date': '2012-11-11', 'score': '4.75', 'taste': 'nan', 'feel': 'nan', 'overall': 'nan', 'beer_id': '45329', 'text': '\\xa0\\xa0 You had this beer. Write a review.', 'id': '4985109', 'smell': 'nan', 'look': 'nan'}>>,\n",
      " <Record r=<Node element_id='5399194' labels=frozenset({'REVIEWS'}) properties={'date': '2007-09-05', 'score': '3.81', 'taste': '4.0', 'feel': '4.5', 'overall': '4.0', 'beer_id': '4975', 'text': '\\xa0\\xa0 On tap at OBBS. Clear, straw yellow with a small white head. Some lacing as I drank. Fairly mild aroma. Touch of citrus and bread. Nice balance, perhaps a bit more hop/citrus than a Kolsch should have, but still very mild. Citrus/lemon, touch of sweet flavor, bread. Light and crisp body. Medium carbonation. Very refreshing. Excellent, light, summer beer. \\xa0', 'id': '4978109', 'smell': '3.0', 'look': '4.0'}>>,\n",
      " <Record r=<Node element_id='5375826' labels=frozenset({'REVIEWS'}) properties={'date': '2012-09-09', 'score': '4.25', 'taste': 'nan', 'feel': 'nan', 'overall': 'nan', 'beer_id': '75798', 'text': '\\xa0\\xa0 You had this beer. Write a review.', 'id': '4954741', 'smell': 'nan', 'look': 'nan'}>>,\n",
      " <Record r=<Node element_id='5378523' labels=frozenset({'REVIEWS'}) properties={'date': '2012-05-28', 'score': '2.75', 'taste': 'nan', 'feel': 'nan', 'overall': 'nan', 'beer_id': '73965', 'text': '\\xa0\\xa0 You had this beer. Write a review.', 'id': '4957438', 'smell': 'nan', 'look': 'nan'}>>,\n",
      " <Record r=<Node element_id='5376138' labels=frozenset({'REVIEWS'}) properties={'date': '2012-11-29', 'score': '4.5', 'taste': 'nan', 'feel': 'nan', 'overall': 'nan', 'beer_id': '4773', 'text': '\\xa0\\xa0 You had this beer. Write a review.', 'id': '4955053', 'smell': 'nan', 'look': 'nan'}>>,\n",
      " <Record r=<Node element_id='5380507' labels=frozenset({'REVIEWS'}) properties={'date': '2006-11-30', 'score': '3.63', 'taste': '3.5', 'feel': '3.0', 'overall': '3.5', 'beer_id': '34069', 'text': \"\\xa0\\xa0 12oz. bottle. Crystal clear, light brown to copper color. Large, rocky, tan head on top. Very malty, with some balance from the hops which were grassy. Earthy and spicy. A bit of alcohol popped in as well. Malt was dominant and biscuity in character. Hops put in a good show at the finish. Again grassy in character. Phenolic, almost medicinal taste, but not problematic. Beer was almost like a scottish ale (didn't know it was one when reviewing....). Spice and pepper at finish. Medium + in body. Carbonation seemed higher than needed, almost made beer too zingy. Somewhat drying. A very good winter beer. I enjoyed it. Mouthfeel and probably overall would have scored higher if it was just a bit less carbonated. \\xa0\", 'id': '4959422', 'smell': '4.0', 'look': '4.5'}>>,\n",
      " <Record r=<Node element_id='5355899' labels=frozenset({'REVIEWS'}) properties={'date': '2007-05-09', 'score': '2.88', 'taste': '2.5', 'feel': '3.5', 'overall': '3.0', 'beer_id': '25749', 'text': '\\xa0\\xa0 12oz. bottle. I purchased this recently from a reputable store. Hard to imagine it is retired. Clear, very dark amber color. Medium to large, light brown head. A bit hazy. Very malty - caramel comes through in the nose in a large way. Flowery scents are present as well. Not much else for me. Taste is sweet more than bitter, with caramel and biscuits as the dominant tastes. Just a bit of bitterness at the finish, the taste of which becomes less appealing as the beer warms. Balance of the beer as a whole improves somewhat with warming. Medium + in body. Medium carbonation. Very refreshing. IMO, more malty and less hoppy than an amber should be if reviewing to style, not my personal favorite either. Balance seems a bit out of whack. If you are looking for a very malty beer, this might not be a bad call. \\xa0', 'id': '4934814', 'smell': '3.0', 'look': '3.5'}>>,\n",
      " <Record r=<Node element_id='5324916' labels=frozenset({'REVIEWS'}) properties={'date': '2012-05-26', 'score': '4.25', 'taste': 'nan', 'feel': 'nan', 'overall': 'nan', 'beer_id': '64583', 'text': '\\xa0\\xa0 You had this beer. Write a review.', 'id': '4903831', 'smell': 'nan', 'look': 'nan'}>>,\n",
      " <Record r=<Node element_id='5321492' labels=frozenset({'REVIEWS'}) properties={'date': '2013-06-18', 'score': '3.5', 'taste': 'nan', 'feel': 'nan', 'overall': 'nan', 'beer_id': '4202', 'text': '\\xa0\\xa0 You had this beer. Write a review.', 'id': '4900407', 'smell': 'nan', 'look': 'nan'}>>,\n",
      " <Record r=<Node element_id='5326918' labels=frozenset({'REVIEWS'}) properties={'date': '2006-09-22', 'score': '3.63', 'taste': '3.5', 'feel': '3.5', 'overall': '4.0', 'beer_id': '27514', 'text': '\\xa0\\xa0 12oz. bottle. A clear amber to dark brown appearance. Large, light tan head. Aroma was hops (pine), very small malt presence showing some bread and fruit. Taste was again hops first, but citrusy. Malt was more noticeable, and came through as bread and some chocolate. Would have been better if malt was a bit more dominant. Body was medium, carbonation was high and it was rather drying. Overall, pretty good, the sum was greater than the parts. I would be happy to drink this again. \\xa0', 'id': '4905833', 'smell': '3.5', 'look': '4.0'}>>,\n",
      " <Record r=<Node element_id='5292905' labels=frozenset({'REVIEWS'}) properties={'date': '2012-02-27', 'score': '4.0', 'taste': 'nan', 'feel': 'nan', 'overall': 'nan', 'beer_id': '4083', 'text': '\\xa0\\xa0 You had this beer. Write a review.', 'id': '4871820', 'smell': 'nan', 'look': 'nan'}>>,\n",
      " <Record r=<Node element_id='5292843' labels=frozenset({'REVIEWS'}) properties={'date': '2012-03-09', 'score': '3.0', 'taste': 'nan', 'feel': 'nan', 'overall': 'nan', 'beer_id': '4083', 'text': '\\xa0\\xa0 You had this beer. Write a review.', 'id': '4871758', 'smell': 'nan', 'look': 'nan'}>>,\n",
      " <Record r=<Node element_id='5291048' labels=frozenset({'REVIEWS'}) properties={'date': '2012-09-26', 'score': '3.75', 'taste': 'nan', 'feel': 'nan', 'overall': 'nan', 'beer_id': '4083', 'text': '\\xa0\\xa0 You had this beer. Write a review.', 'id': '4869963', 'smell': 'nan', 'look': 'nan'}>>,\n",
      " <Record r=<Node element_id='5287085' labels=frozenset({'REVIEWS'}) properties={'date': '2014-03-07', 'score': '5.0', 'taste': 'nan', 'feel': 'nan', 'overall': 'nan', 'beer_id': '4083', 'text': '\\xa0\\xa0 You had this beer. Write a review.', 'id': '4866000', 'smell': 'nan', 'look': 'nan'}>>,\n",
      " <Record r=<Node element_id='5283034' labels=frozenset({'REVIEWS'}) properties={'date': '2007-11-21', 'score': '3.38', 'taste': '3.5', 'feel': '3.5', 'overall': '3.5', 'beer_id': '4073', 'text': '\\xa0\\xa0 12oz. bottle. Clear, light gold in color. Very large, very creamy, just off white head. Great lacing. Quite a bit of sediment with the final pour. Scent was spicy and earthy, with pine coming through. Quite subdued. Taste was nicely balanced. Sweet wheat bread, with citrusy hops. Spicy finish. Light to medium body. Medium + carbonation, very tingly. Not particularly dry. Tasty, good summer beer. Decent balance with plenty of hop flavor. \\xa0', 'id': '4861949', 'smell': '3.0', 'look': '3.5'}>>,\n",
      " <Record r=<Node element_id='5266445' labels=frozenset({'REVIEWS'}) properties={'date': '2006-10-09', 'score': '3.65', 'taste': '3.5', 'feel': '3.5', 'overall': '3.5', 'beer_id': '3968', 'text': '\\xa0\\xa0 On tap at the brewpub. Arrived in the glass as a hazy, golden colored liquid, with a large white head. The aromas were just what I look for in an IPA. Grapefruit, pine, and a little bit of honey. Taste was quite hoppy, mainly pine and grass. Malt was subdued at the start, but came on as the beer warmed. A bit of caramel in the center, and some pepper at the finish. Overall, nicely balanced. It was fairly light for an IPA. Carbonation also seemed a bit low. Finish was dry. In total, a good IPA, and one I would drink again. Not the top shelf, however. \\xa0', 'id': '4845360', 'smell': '4.0', 'look': '4.0'}>>,\n",
      " <Record r=<Node element_id='5268082' labels=frozenset({'REVIEWS'}) properties={'date': '2012-01-15', 'score': '2.5', 'taste': 'nan', 'feel': 'nan', 'overall': 'nan', 'beer_id': '3970', 'text': '\\xa0\\xa0 You had this beer. Write a review.', 'id': '4846997', 'smell': 'nan', 'look': 'nan'}>>,\n",
      " <Record r=<Node element_id='5265257' labels=frozenset({'REVIEWS'}) properties={'date': '2012-09-11', 'score': '3.5', 'taste': 'nan', 'feel': 'nan', 'overall': 'nan', 'beer_id': '3968', 'text': '\\xa0\\xa0 You had this beer. Write a review.', 'id': '4844172', 'smell': 'nan', 'look': 'nan'}>>,\n",
      " <Record r=<Node element_id='5253957' labels=frozenset({'REVIEWS'}) properties={'date': '2012-04-08', 'score': '4.0', 'taste': 'nan', 'feel': 'nan', 'overall': 'nan', 'beer_id': '3951', 'text': '\\xa0\\xa0 You had this beer. Write a review.', 'id': '4832872', 'smell': 'nan', 'look': 'nan'}>>,\n",
      " <Record r=<Node element_id='5252402' labels=frozenset({'REVIEWS'}) properties={'date': '2014-03-08', 'score': '3.5', 'taste': 'nan', 'feel': 'nan', 'overall': 'nan', 'beer_id': '3951', 'text': '\\xa0\\xa0 You had this beer. Write a review.', 'id': '4831317', 'smell': 'nan', 'look': 'nan'}>>,\n",
      " <Record r=<Node element_id='5255782' labels=frozenset({'REVIEWS'}) properties={'date': '2006-09-06', 'score': '3.08', 'taste': '3.0', 'feel': '3.5', 'overall': '3.0', 'beer_id': '3951', 'text': \"\\xa0\\xa0 12oz. bottle. Poured a gold-amber in color with a little haze. Large light tan head formed. Aroma was hops, pine & grapefruit variety, and molasses. Taste was similar, with hops coming first, followed by some malt/sweetness in the middle. Hops were citrus at start and floral at the finish. Apricots never made an appearance in either the aroma or the taste. Body was medium, as was the carbonation. This beer was OK, but nothing special. Many better IPA's in my opinion. \\xa0\", 'id': '4834697', 'smell': '3.0', 'look': '3.5'}>>,\n",
      " <Record r=<Node element_id='5237324' labels=frozenset({'REVIEWS'}) properties={'date': '2012-09-19', 'score': '4.5', 'taste': 'nan', 'feel': 'nan', 'overall': 'nan', 'beer_id': '3877', 'text': '\\xa0\\xa0 You had this beer. Write a review.', 'id': '4816239', 'smell': 'nan', 'look': 'nan'}>>,\n",
      " <Record r=<Node element_id='5232115' labels=frozenset({'REVIEWS'}) properties={'date': '2006-08-10', 'score': '3.11', 'taste': '3.0', 'feel': '4.0', 'overall': '3.5', 'beer_id': '3857', 'text': '\\xa0\\xa0 12oz. bottle. Poured a light gold, perfectly clear color (odd for an unfiltered wheat). Moderate white head. Aroma was mainly bread/yeast, with a faint whiff of bananas. Flavor was very bland, sweet malt/bread at start, spicy in the middle, and a very small hop bite in the finish. Mouthfeel was light in body, highly carbonated, and very refreshing. This is a good summer beer, but it is pretty bland. There are more interesting wheat beers out there. \\xa0', 'id': '4811030', 'smell': '2.5', 'look': '3.5'}>>,\n",
      " <Record r=<Node element_id='5229271' labels=frozenset({'REVIEWS'}) properties={'date': '2013-01-29', 'score': '4.0', 'taste': 'nan', 'feel': 'nan', 'overall': 'nan', 'beer_id': '3842', 'text': '\\xa0\\xa0 You had this beer. Write a review.', 'id': '4808186', 'smell': 'nan', 'look': 'nan'}>>,\n",
      " <Record r=<Node element_id='5223848' labels=frozenset({'REVIEWS'}) properties={'date': '2013-01-05', 'score': '2.5', 'taste': 'nan', 'feel': 'nan', 'overall': 'nan', 'beer_id': '3829', 'text': '\\xa0\\xa0 You had this beer. Write a review.', 'id': '4802763', 'smell': 'nan', 'look': 'nan'}>>,\n",
      " <Record r=<Node element_id='5210437' labels=frozenset({'REVIEWS'}) properties={'date': '2012-02-27', 'score': '2.5', 'taste': 'nan', 'feel': 'nan', 'overall': 'nan', 'beer_id': '3734', 'text': '\\xa0\\xa0 You had this beer. Write a review.', 'id': '4789352', 'smell': 'nan', 'look': 'nan'}>>,\n",
      " <Record r=<Node element_id='5193359' labels=frozenset({'REVIEWS'}) properties={'date': '2007-01-02', 'score': '2.71', 'taste': '2.5', 'feel': '2.5', 'overall': '2.5', 'beer_id': '3649', 'text': \"\\xa0\\xa0 12oz. bottle. Very clear, copper brown in color. Large, light tan head. Aroma faint. Caramel, bit of wheat bread and a grassy/herbal finish. Crackers and very mild caramel flavor. Overall, flavor very weak. Aftertaste unpleasant, medicinal/plastic. Body seems to be light to medium, feels thin. Carbonation is low. For me, this beer just didn't do it. Faint aroma, very mild flavors, and thin mouthfeel. In fairness, I did drink a 3F Robert the Bruce prior to this beer, and I really enjoyed it. This beer may have suffered in comparison. However, I have tried 5 different beers by ABC, and none of the others have done much for me either. This is the last for a while. \\xa0\", 'id': '4772274', 'smell': '3.0', 'look': '4.0'}>>,\n",
      " <Record r=<Node element_id='5189821' labels=frozenset({'REVIEWS'}) properties={'date': '2012-07-15', 'score': '4.75', 'taste': 'nan', 'feel': 'nan', 'overall': 'nan', 'beer_id': '3635', 'text': '\\xa0\\xa0 You had this beer. Write a review.', 'id': '4768736', 'smell': 'nan', 'look': 'nan'}>>,\n",
      " <Record r=<Node element_id='5189766' labels=frozenset({'REVIEWS'}) properties={'date': '2012-09-24', 'score': '4.25', 'taste': 'nan', 'feel': 'nan', 'overall': 'nan', 'beer_id': '3635', 'text': '\\xa0\\xa0 You had this beer. Write a review.', 'id': '4768681', 'smell': 'nan', 'look': 'nan'}>>,\n",
      " <Record r=<Node element_id='5189608' labels=frozenset({'REVIEWS'}) properties={'date': '2013-01-29', 'score': '4.5', 'taste': 'nan', 'feel': 'nan', 'overall': 'nan', 'beer_id': '3635', 'text': '\\xa0\\xa0 You had this beer. Write a review.', 'id': '4768523', 'smell': 'nan', 'look': 'nan'}>>,\n",
      " <Record r=<Node element_id='5171728' labels=frozenset({'REVIEWS'}) properties={'date': '2012-10-30', 'score': '3.75', 'taste': 'nan', 'feel': 'nan', 'overall': 'nan', 'beer_id': '75230', 'text': '\\xa0\\xa0 You had this beer. Write a review.', 'id': '4750643', 'smell': 'nan', 'look': 'nan'}>>,\n",
      " <Record r=<Node element_id='5176769' labels=frozenset({'REVIEWS'}) properties={'date': '2012-10-04', 'score': '3.25', 'taste': 'nan', 'feel': 'nan', 'overall': 'nan', 'beer_id': '3558', 'text': '\\xa0\\xa0 You had this beer. Write a review.', 'id': '4755684', 'smell': 'nan', 'look': 'nan'}>>,\n",
      " <Record r=<Node element_id='5146261' labels=frozenset({'REVIEWS'}) properties={'date': '2013-02-01', 'score': '3.0', 'taste': 'nan', 'feel': 'nan', 'overall': 'nan', 'beer_id': '80735', 'text': '\\xa0\\xa0 You had this beer. Write a review.', 'id': '4725176', 'smell': 'nan', 'look': 'nan'}>>,\n",
      " <Record r=<Node element_id='5148738' labels=frozenset({'REVIEWS'}) properties={'date': '2013-01-12', 'score': '4.25', 'taste': 'nan', 'feel': 'nan', 'overall': 'nan', 'beer_id': '3434', 'text': '\\xa0\\xa0 You had this beer. Write a review.', 'id': '4727653', 'smell': 'nan', 'look': 'nan'}>>,\n",
      " <Record r=<Node element_id='5149793' labels=frozenset({'REVIEWS'}) properties={'date': '2012-03-26', 'score': '4.5', 'taste': 'nan', 'feel': 'nan', 'overall': 'nan', 'beer_id': '3434', 'text': '\\xa0\\xa0 You had this beer. Write a review.', 'id': '4728708', 'smell': 'nan', 'look': 'nan'}>>,\n",
      " <Record r=<Node element_id='5149088' labels=frozenset({'REVIEWS'}) properties={'date': '2012-10-18', 'score': '2.5', 'taste': 'nan', 'feel': 'nan', 'overall': 'nan', 'beer_id': '3434', 'text': '\\xa0\\xa0 You had this beer. Write a review.', 'id': '4728003', 'smell': 'nan', 'look': 'nan'}>>,\n",
      " <Record r=<Node element_id='5148953' labels=frozenset({'REVIEWS'}) properties={'date': '2012-12-04', 'score': '4.0', 'taste': 'nan', 'feel': 'nan', 'overall': 'nan', 'beer_id': '3434', 'text': '\\xa0\\xa0 You had this beer. Write a review.', 'id': '4727868', 'smell': 'nan', 'look': 'nan'}>>,\n",
      " <Record r=<Node element_id='5142039' labels=frozenset({'REVIEWS'}) properties={'date': '2011-09-11', 'score': '3.5', 'taste': '3.5', 'feel': '3.5', 'overall': '3.5', 'beer_id': '3425', 'text': '\\xa0\\xa0 Appearance - Cloudy orange with a thick and rocky head that hangs around for a long time. Smell - sweet wheat and caramel malt aromas with banana and very subtle spice. Taste - Echo of the sweet malt aromas, a bit of citrus, banana, and mineral. Enjoyable and highly drinakble. \\xa0', 'id': '4720954', 'smell': '3.5', 'look': '3.5'}>>,\n",
      " <Record r=<Node element_id='5139443' labels=frozenset({'REVIEWS'}) properties={'date': '2007-04-30', 'score': '3.18', 'taste': '3.0', 'feel': '3.0', 'overall': '3.0', 'beer_id': '3408', 'text': '\\xa0\\xa0 12oz. bottle. Clear brown at the edges, otherwise opaque, even when held against light. Medium sized, creamy brown head. Aromas of flowers, chocolate and oatmeal greet the nose. Taste is more towards bitter, but pretty well balanced, overall. Coffee and roast notes most prevalent. Just a bit grassy, lingers into aftertaste. Medium body and medium carbonation. Quite dry. OK, but nothing spectacular. \\xa0', 'id': '4718358', 'smell': '3.5', 'look': '4.0'}>>,\n",
      " <Record r=<Node element_id='5125811' labels=frozenset({'REVIEWS'}) properties={'date': '2012-09-11', 'score': '4.0', 'taste': 'nan', 'feel': 'nan', 'overall': 'nan', 'beer_id': '3323', 'text': '\\xa0\\xa0 You had this beer. Write a review.', 'id': '4704726', 'smell': 'nan', 'look': 'nan'}>>,\n",
      " <Record r=<Node element_id='5113254' labels=frozenset({'REVIEWS'}) properties={'date': '2007-03-19', 'score': '4.17', 'taste': '4.5', 'feel': '4.0', 'overall': '4.0', 'beer_id': '14916', 'text': \"\\xa0\\xa0 12 oz. bottle. Slightly hazy, golden fluid, with a large, rocky, white head. Pine tree in a bottle. Just a hint of biscuity/bready aroma pops through the leaves occasionally. The taste is grapefruit juice. After a bit of temperature increase, I get a little bit of biscuity flavor and some honey in there. Maybe some peaches. Pepper and peppermint at the finish. The bitterness lingers nicely into the aftertaste. In case you didn't pick up on it - this beer is about the hops, balanced it ain't! Medium in body. Medium + carbonation. Quite drying. Alcohol warmth hits you rather fast. Very Nice. I had this the first time about a year ago, and didn't care for it much. Thought I would try it again following my conversion to a hophead. Glad I did and would strongly recommend it. \\xa0\", 'id': '4692169', 'smell': '4.0', 'look': '3.5'}>>,\n",
      " <Record r=<Node element_id='5115583' labels=frozenset({'REVIEWS'}) properties={'date': '2013-01-19', 'score': '3.75', 'taste': 'nan', 'feel': 'nan', 'overall': 'nan', 'beer_id': '20524', 'text': '\\xa0\\xa0 You had this beer. Write a review.', 'id': '4694498', 'smell': 'nan', 'look': 'nan'}>>,\n",
      " <Record r=<Node element_id='5102857' labels=frozenset({'REVIEWS'}) properties={'date': '2014-04-06', 'score': '4.75', 'taste': 'nan', 'feel': 'nan', 'overall': 'nan', 'beer_id': '44764', 'text': '\\xa0\\xa0 You had this beer. Write a review.', 'id': '4681772', 'smell': 'nan', 'look': 'nan'}>>,\n",
      " <Record r=<Node element_id='5087800' labels=frozenset({'REVIEWS'}) properties={'date': '2012-10-16', 'score': '4.0', 'taste': 'nan', 'feel': 'nan', 'overall': 'nan', 'beer_id': '8995', 'text': '\\xa0\\xa0 You had this beer. Write a review.', 'id': '4666715', 'smell': 'nan', 'look': 'nan'}>>,\n",
      " <Record r=<Node element_id='5074182' labels=frozenset({'REVIEWS'}) properties={'date': '2014-02-09', 'score': '3.25', 'taste': 'nan', 'feel': 'nan', 'overall': 'nan', 'beer_id': '87749', 'text': '\\xa0\\xa0 You had this beer. Write a review.', 'id': '4653097', 'smell': 'nan', 'look': 'nan'}>>,\n",
      " <Record r=<Node element_id='5077171' labels=frozenset({'REVIEWS'}) properties={'date': '2012-05-13', 'score': '3.5', 'taste': 'nan', 'feel': 'nan', 'overall': 'nan', 'beer_id': '3041', 'text': '\\xa0\\xa0 You had this beer. Write a review.', 'id': '4656086', 'smell': 'nan', 'look': 'nan'}>>,\n",
      " <Record r=<Node element_id='5073284' labels=frozenset({'REVIEWS'}) properties={'date': '2006-12-14', 'score': '4.08', 'taste': '4.0', 'feel': '4.5', 'overall': '4.0', 'beer_id': '3016', 'text': \"\\xa0\\xa0 Had a 2003 vintage at The Bishop's Arms in Sweden. Opaque. I held it up to a fairly bright light, and could only pick up mahogany/ruby at the edges. Small, light brown head. Nose comes on to you from a foot away. Chocolate, cherries, coffee, molasses and a hint of alcohol. Roasted malt is first impression for me. Then chocolate. Coffee pops in after that. Fruit is fairly subdued, but I think I am getting some raisins and figs. Slightly medicinal. Not as complex as Narke Stormaktsporter or Stone. Heavy body and coating. Carbonation seems quite low. Not drying. Alcohol warming comes on pretty fast. Another really good stout/porter from Sweden. As a side note, probably the warmest beer I have ever been served, not that this was a bad thing. \\xa0\", 'id': '4652199', 'smell': '4.0', 'look': '4.5'}>>,\n",
      " <Record r=<Node element_id='5065552' labels=frozenset({'REVIEWS'}) properties={'date': '2007-11-07', 'score': '3.62', 'taste': '3.5', 'feel': '4.0', 'overall': '4.0', 'beer_id': '2963', 'text': '\\xa0\\xa0 12oz. bottle Slightly hazy, orange/yellow color. Small, off-white head. Bit of legs, no lacing. Not very appealing, visually. Scent seemed very restrained. After some deep inhalations, I got caramel/toffee, fruits - figs and raisins, and a slight herbal aroma. Taste was more sweet than bitter, green raisins and some other fruits, not your typical dark fruit medley, though. Touch of caramel and very sweet wheat bread. Herbal at finish, fairly mild, some alcohol and pepper. Medium + body. Coating. Low carbonation. Very \"wet\". Alcohol noticeable as heat at the finish. My guess on ABV was 7-8%, so I was a little high, but this one does have some heat to it. It seems to lack the complexity of a dark dopplebock, but it is easier to drink, and a bit more bitter as well. Not bad at all, I would be happy to have again. \\xa0', 'id': '4644467', 'smell': '3.5', 'look': '3.0'}>>,\n",
      " <Record r=<Node element_id='5048604' labels=frozenset({'REVIEWS'}) properties={'date': '2007-06-08', 'score': '4.45', 'taste': '4.5', 'feel': '4.0', 'overall': '4.5', 'beer_id': '2899', 'text': '\\xa0\\xa0 17oz. bottle. Dark copper in color. Crystal clear. Large, creamy, light brown head. Aroma is very rich and bread-like. Coffee and caramel, which get bigger as the beer warms. Very sweet after 15 minutes or so. Touch of herbal flavor. Fruits - raisins. Taste follows aroma in that it is fairly sweet to start, but moves even more in that direction as it warms. Coffee, very mild. Herbal notes, also mild. Sweet caramel. Raisins. ABV noticeable, mainly at the finish. Medium body, lighter than I expected. Low to medium carbonation. Very sweet. Faithful to style, and quite drinkable. Not a session beer, but you could put a few of these away before the ABV got to you. An excellent beer. \\xa0', 'id': '4627519', 'smell': '4.5', 'look': '4.5'}>>,\n",
      " <Record r=<Node element_id='5040992' labels=frozenset({'REVIEWS'}) properties={'date': '2012-01-29', 'score': '3.82', 'taste': '4.0', 'feel': '3.5', 'overall': '3.5', 'beer_id': '2874', 'text': '\\xa0\\xa0 Bomber poured into a chimay glass Hazy deep amber with bright ruby highlights. Small creamy beige head that dies quickly. Aromas rich with dried fruits - figs and raisins in particular, lots of brown sugar aswell. Theres toffee in there somewhere, and definitely some herbal hop notes. On the palate a bitterness emerges thats complex and satisfying, a combination between a charred malt character and resiny hops. Theres chewy caramel aswell, although I think the extra effort invested in the bitterness should be noted. Overall I really enjoyed this beer, because I love the style. Nothing amazing, just a solid, textbook barleywine. \\xa0', 'id': '4619907', 'smell': '4.0', 'look': '3.5'}>>,\n",
      " <Record r=<Node element_id='5028465' labels=frozenset({'REVIEWS'}) properties={'date': '2013-01-09', 'score': '4.0', 'taste': 'nan', 'feel': 'nan', 'overall': 'nan', 'beer_id': '2810', 'text': '\\xa0\\xa0 You had this beer. Write a review.', 'id': '4607380', 'smell': 'nan', 'look': 'nan'}>>,\n",
      " <Record r=<Node element_id='5011480' labels=frozenset({'REVIEWS'}) properties={'date': '2012-12-12', 'score': '4.0', 'taste': 'nan', 'feel': 'nan', 'overall': 'nan', 'beer_id': '2751', 'text': '\\xa0\\xa0 You had this beer. Write a review.', 'id': '4590395', 'smell': 'nan', 'look': 'nan'}>>,\n",
      " <Record r=<Node element_id='5019634' labels=frozenset({'REVIEWS'}) properties={'date': '2012-09-07', 'score': '2.75', 'taste': 'nan', 'feel': 'nan', 'overall': 'nan', 'beer_id': '2768', 'text': '\\xa0\\xa0 You had this beer. Write a review.', 'id': '4598549', 'smell': 'nan', 'look': 'nan'}>>,\n",
      " <Record r=<Node element_id='5014679' labels=frozenset({'REVIEWS'}) properties={'date': '2007-09-05', 'score': '3.82', 'taste': '4.0', 'feel': '4.0', 'overall': '4.0', 'beer_id': '2751', 'text': '\\xa0\\xa0 22oz. bottle Cloudy, dark orange. Modest, off white head. Minimal lacing and legs. Aroma was grapefruit and honey. Earthiness and grass in there as well. Bitter more than sweet, with grapefruit and grass leading the way. Decent biscuity middle. Good balance, but tilted towards the hops. Honey and caramel in there as it warmed. Medium body. Medium carbonation. Dry. Very good, I enjoyed this one. \\xa0', 'id': '4593594', 'smell': '3.5', 'look': '3.0'}>>,\n",
      " <Record r=<Node element_id='5012325' labels=frozenset({'REVIEWS'}) properties={'date': '2012-04-08', 'score': '4.25', 'taste': 'nan', 'feel': 'nan', 'overall': 'nan', 'beer_id': '2751', 'text': '\\xa0\\xa0 You had this beer. Write a review.', 'id': '4591240', 'smell': 'nan', 'look': 'nan'}>>,\n",
      " <Record r=<Node element_id='5011506' labels=frozenset({'REVIEWS'}) properties={'date': '2012-12-04', 'score': '5.0', 'taste': 'nan', 'feel': 'nan', 'overall': 'nan', 'beer_id': '2751', 'text': '\\xa0\\xa0 You had this beer. Write a review.', 'id': '4590421', 'smell': 'nan', 'look': 'nan'}>>,\n",
      " <Record r=<Node element_id='5012170' labels=frozenset({'REVIEWS'}) properties={'date': '2012-05-26', 'score': '5.0', 'taste': 'nan', 'feel': 'nan', 'overall': 'nan', 'beer_id': '2751', 'text': '\\xa0\\xa0 You had this beer. Write a review.', 'id': '4591085', 'smell': 'nan', 'look': 'nan'}>>,\n",
      " <Record r=<Node element_id='5005647' labels=frozenset({'REVIEWS'}) properties={'date': '2007-09-17', 'score': '3.62', 'taste': '3.5', 'feel': '3.5', 'overall': '3.5', 'beer_id': '2749', 'text': '\\xa0\\xa0 22oz. bottle courtesy of flexabull - Thanks! Hazy, orange liquid, capped by a small to medium, creamy, off-white head. Some lacing and legs as the beer vanished. Aromas of caramel, peaches and pine. Smells sweet, overall. Some pepper and maybe some mint in there as well. Quite sweet at first, then the hops bite well. Hops seem to be grassy in character. Fruity, peaches, then caramel. A very strong malt presence. Biscuity. The beer seemed to get more bitter as it warmed, still grassy in character. Medium + body. Medium, at best, carbonation -- could pick up some. Not very dry, would prefer it moreso. In general, initially too sweet for my taste, but that did improve. Pretty solid DIPA, just not to my taste. \\xa0', 'id': '4584562', 'smell': '4.0', 'look': '3.5'}>>,\n",
      " <Record r=<Node element_id='4994496' labels=frozenset({'REVIEWS'}) properties={'date': '2007-07-26', 'score': '3.73', 'taste': '4.0', 'feel': '4.0', 'overall': '4.0', 'beer_id': '2679', 'text': '\\xa0\\xa0 22oz. bottle. Clear, orange/gold in color. Large, rocky, ivory colored head. Not much lacing or legs. Scent was fairly mild and simple. Bitter more than sweet, pine being dominant, some earthiness. Taste was nicely balanced. Malty and bready with decent hops at the finish. Hop character was herbal/grassy. Body was medium, as was carbonation. Very refreshing and easy to drink. Quite tasty. My preference runs to more hops, but since a bitter is supposed to be balanced, this was well done. Somewhat simple, but ideal for session drinking. \\xa0', 'id': '4573411', 'smell': '3.0', 'look': '3.5'}>>,\n",
      " <Record r=<Node element_id='4999549' labels=frozenset({'REVIEWS'}) properties={'date': '2012-01-23', 'score': '3.5', 'taste': 'nan', 'feel': 'nan', 'overall': 'nan', 'beer_id': '2709', 'text': '\\xa0\\xa0 You had this beer. Write a review.', 'id': '4578464', 'smell': 'nan', 'look': 'nan'}>>,\n",
      " <Record r=<Node element_id='4984357' labels=frozenset({'REVIEWS'}) properties={'date': '2006-08-15', 'score': '3.85', 'taste': '4.0', 'feel': '4.0', 'overall': '4.0', 'beer_id': '2656', 'text': '\\xa0\\xa0 750ml bottle. A cloudy yellow-orange pour, slightly hazy, with a large rocky off-white head. The head subsided fairly quickly and left a reasonable amount of lacing. Nose is citrus, primarily lemon, a faint earthiness, and some scent of apple. The taste was, surprise, rather bitter (grapefruit). I also picked up a melon like flavor that I have only tasted in Fantome before. Towards the middle, there is a phenol/medicinal taste, and finally pepper in the finish. Very light and highly carbonated, quite drying. Highly drinkable, another nice hoppy Belgian. \\xa0', 'id': '4563272', 'smell': '3.5', 'look': '3.5'}>>,\n",
      " <Record r=<Node element_id='4966568' labels=frozenset({'REVIEWS'}) properties={'date': '2012-01-15', 'score': '3.5', 'taste': 'nan', 'feel': 'nan', 'overall': 'nan', 'beer_id': '2566', 'text': '\\xa0\\xa0 You had this beer. Write a review.', 'id': '4545483', 'smell': 'nan', 'look': 'nan'}>>,\n",
      " <Record r=<Node element_id='4970826' labels=frozenset({'REVIEWS'}) properties={'date': '2012-04-24', 'score': '4.0', 'taste': 'nan', 'feel': 'nan', 'overall': 'nan', 'beer_id': '3397', 'text': '\\xa0\\xa0 You had this beer. Write a review.', 'id': '4549741', 'smell': 'nan', 'look': 'nan'}>>,\n",
      " <Record r=<Node element_id='4949502' labels=frozenset({'REVIEWS'}) properties={'date': '2013-02-01', 'score': '5.0', 'taste': 'nan', 'feel': 'nan', 'overall': 'nan', 'beer_id': '2512', 'text': '\\xa0\\xa0 You had this beer. Write a review.', 'id': '4528417', 'smell': 'nan', 'look': 'nan'}>>,\n",
      " <Record r=<Node element_id='4950042' labels=frozenset({'REVIEWS'}) properties={'date': '2012-09-24', 'score': '3.25', 'taste': 'nan', 'feel': 'nan', 'overall': 'nan', 'beer_id': '2512', 'text': '\\xa0\\xa0 You had this beer. Write a review.', 'id': '4528957', 'smell': 'nan', 'look': 'nan'}>>,\n",
      " <Record r=<Node element_id='4950430' labels=frozenset({'REVIEWS'}) properties={'date': '2012-04-30', 'score': '5.0', 'taste': 'nan', 'feel': 'nan', 'overall': 'nan', 'beer_id': '2512', 'text': '\\xa0\\xa0 You had this beer. Write a review.', 'id': '4529345', 'smell': 'nan', 'look': 'nan'}>>,\n",
      " <Record r=<Node element_id='4945307' labels=frozenset({'REVIEWS'}) properties={'date': '2006-08-02', 'score': '3.2', 'taste': '3.0', 'feel': '3.5', 'overall': '3.0', 'beer_id': '24395', 'text': '\\xa0\\xa0 12oz. bottle. Poured a light brown/pale orange color with almost no head. Picked up sugary malt, molasses and some alcohol in aroma. Taste was all sweet at first (molasses, bread, tawny port character) and then a distinct split to bitterness at end. These melded somewhat as the brew warmed, but a little too schizophrenic for me. Mouthfeel was slick, medium bodied, with little carbonation. Drinkability was fairly easy despite ABV, but not really to my taste. \\xa0', 'id': '4524222', 'smell': '3.5', 'look': '3.5'}>>,\n",
      " <Record r=<Node element_id='4933014' labels=frozenset({'REVIEWS'}) properties={'date': '2007-01-02', 'score': '3.0', 'taste': '3.0', 'feel': '2.5', 'overall': '2.5', 'beer_id': '2489', 'text': '\\xa0\\xa0 12oz. bottle. Slightly hazy, dark amber color. Large, rocky, light tan head. Lots of lacing. Smell was sweet, with caramel and fruit at the forefront. Fruit seemed to be peaches. Hints of Belgian earthiness in there. Just a touch of grass scent, but very mild. Taste was very sweet, and right in line with aroma. Honey drenched peaches and pears. Touch of medicinal/phenolic taste in the middle, not appealing. Finish, like the scent, offered just a bit of bitterness. Medium + in body. Low to medium carbonation. Not drying, but mouthcoating, almost to the point of being cloying. For me, this beer was way too sweet. From what I understand about the style, this interpretation is a bit off the mark. Not one I will return to. \\xa0', 'id': '4511929', 'smell': '3.5', 'look': '3.5'}>>,\n",
      " <Record r=<Node element_id='4940839' labels=frozenset({'REVIEWS'}) properties={'date': '2011-12-04', 'score': '3.93', 'taste': '4.0', 'feel': '4.5', 'overall': '4.0', 'beer_id': '2508', 'text': '\\xa0\\xa0 Appearance - ruby brown with a persistent creamy head. Smell - Caramelized sugar and ripe plums, yeast, a touch of booze. Taste - More plum, molasses, and a minerally bitterness. Mouthfeel - medium bodied with strong carbonation. Very fine carbonation gives this a creamy/crisp texture that matches perfectly with the flavours. \\xa0', 'id': '4519754', 'smell': '3.5', 'look': '4.0'}>>,\n",
      " <Record r=<Node element_id='4939074' labels=frozenset({'REVIEWS'}) properties={'date': '2008-04-25', 'score': '4.85', 'taste': '5.0', 'feel': '5.0', 'overall': '5.0', 'beer_id': '7520', 'text': \"\\xa0\\xa0 2007 Vintage Opaque, black as motor oil with a couple hundred thousand miles on it. Perhaps a hint of red/brown at edges when held up to light....maybe just the flames of hell? Poured thick, you have to shake the bottle a bit to get it out. A small ring of dark brown bubbles formed around the edge of the glass. Scent that first struck me was molasses. This was followed by quite a bit of roast character. A large dark fruit presence hit next, port-like. Alcohol/bourbon seemed to round out the scent. Taste was more sweet than bitter, guess a year of age allowed the hops to calm down. Probably try one fresh this year to see the difference. Dark chocolate and coffee. Molasses again. Lots of dark fruits. Just a hint of soy, especially as it got close to room temperature. Alcohol taste was surprisingly subdued. Relatively mild herbal bittering at the finish. Mouthfeel was fantastic. Thick, velvety smooth body. Minimal carbonation. Quite sweet. Alcohol starts to warm you up quickly. An exceptional stout. Complex, great flavor, and an incredible mouthfeel, which is not a beer characteristic I had ever noticed as much as I did with this beer other than carbonation level. This beer may be hyped, but it doesn't disappoint. \\xa0\", 'id': '4517989', 'smell': '4.5', 'look': '4.5'}>>,\n",
      " <Record r=<Node element_id='4930778' labels=frozenset({'REVIEWS'}) properties={'date': '2011-05-11', 'score': '3.53', 'taste': '3.5', 'feel': '3.5', 'overall': '3.5', 'beer_id': '2479', 'text': '\\xa0\\xa0 Appearance - deep tawney-brown with red highlights and a nice bit of head. Smell - Much less intense than I expected. A little bit of sour cherry and a little bit of balsamic vinegar and caramel, but very soft, with a subtle sweet smell and a hint of vanilla. Very well carbonated. Taste - Again, very soft and leaning more towards sweet than sour. A slight cherry flavour is present, but overall very restrained and reserved. Nowhere near as sour or complex as I expected from this style. \\xa0', 'id': '4509693', 'smell': '3.5', 'look': '4.0'}>>,\n",
      " <Record r=<Node element_id='4919401' labels=frozenset({'REVIEWS'}) properties={'date': '2012-10-30', 'score': '4.25', 'taste': 'nan', 'feel': 'nan', 'overall': 'nan', 'beer_id': '2430', 'text': '\\xa0\\xa0 You had this beer. Write a review.', 'id': '4498316', 'smell': 'nan', 'look': 'nan'}>>,\n",
      " <Record r=<Node element_id='4912254' labels=frozenset({'REVIEWS'}) properties={'date': '2012-02-06', 'score': '4.0', 'taste': 'nan', 'feel': 'nan', 'overall': 'nan', 'beer_id': '2403', 'text': '\\xa0\\xa0 You had this beer. Write a review.', 'id': '4491169', 'smell': 'nan', 'look': 'nan'}>>,\n",
      " <Record r=<Node element_id='4915574' labels=frozenset({'REVIEWS'}) properties={'date': '2006-07-25', 'score': '3.47', 'taste': '3.5', 'feel': '3.5', 'overall': '3.5', 'beer_id': '2410', 'text': '\\xa0\\xa0 16 oz. bottle. Poured a slightly cloudy, pale yellow color with a modest off white head. Aroma was honey and citrus. Taste was a nice balance of malt & hops, with the hops primarily coming into play during the finish in a citrus kind of way. Mouthfeel was light, carbonation seemed to be low to medium, and it was just slightly drying. A very drinkable beer on a summer evening. \\xa0', 'id': '4494489', 'smell': '3.5', 'look': '3.0'}>>,\n",
      " <Record r=<Node element_id='4919503' labels=frozenset({'REVIEWS'}) properties={'date': '2011-08-01', 'score': '4.33', 'taste': '4.0', 'feel': '4.5', 'overall': '4.5', 'beer_id': '2430', 'text': '\\xa0\\xa0 Appearance - Hazy and pale straw with an incredible head. The foam is puffy, white, durable, and leaves amazing lacing. Smell - Very complex yeasty aroma that includes musty banana, grass, earth, stone, honey, vanilla, nutmeg, and stonefruit. Mouthfeel - Creamy and mouthfilling with a nice spike of carbonation. Taste - Just as complex as the aroma. Malty, but not sweet. Apple and other fruity, Belgian yeast esters through the middle, a bit of spice, and a dry finish that has just enough bitterness to balance everything out. \\xa0', 'id': '4498418', 'smell': '4.5', 'look': '5.0'}>>,\n",
      " <Record r=<Node element_id='4911993' labels=frozenset({'REVIEWS'}) properties={'date': '2013-02-11', 'score': '4.25', 'taste': 'nan', 'feel': 'nan', 'overall': 'nan', 'beer_id': '2403', 'text': '\\xa0\\xa0 You had this beer. Write a review.', 'id': '4490908', 'smell': 'nan', 'look': 'nan'}>>,\n",
      " <Record r=<Node element_id='4918328' labels=frozenset({'REVIEWS'}) properties={'date': '2012-03-05', 'score': '3.5', 'taste': 'nan', 'feel': 'nan', 'overall': 'nan', 'beer_id': '46417', 'text': '\\xa0\\xa0 0% You had this beer. Write a review.', 'id': '4497243', 'smell': 'nan', 'look': 'nan'}>>,\n",
      " <Record r=<Node element_id='4909831' labels=frozenset({'REVIEWS'}) properties={'date': '2012-04-27', 'score': '4.5', 'taste': 'nan', 'feel': 'nan', 'overall': 'nan', 'beer_id': '2400', 'text': '\\xa0\\xa0 You had this beer. Write a review.', 'id': '4488746', 'smell': 'nan', 'look': 'nan'}>>,\n",
      " <Record r=<Node element_id='4905374' labels=frozenset({'REVIEWS'}) properties={'date': '2013-01-01', 'score': '4.75', 'taste': 'nan', 'feel': 'nan', 'overall': 'nan', 'beer_id': '2392', 'text': '\\xa0\\xa0 You had this beer. Write a review.', 'id': '4484289', 'smell': 'nan', 'look': 'nan'}>>,\n",
      " <Record r=<Node element_id='4899976' labels=frozenset({'REVIEWS'}) properties={'date': '2012-04-14', 'score': '3.25', 'taste': 'nan', 'feel': 'nan', 'overall': 'nan', 'beer_id': '66368', 'text': '\\xa0\\xa0 You had this beer. Write a review.', 'id': '4478891', 'smell': 'nan', 'look': 'nan'}>>,\n",
      " <Record r=<Node element_id='4890497' labels=frozenset({'REVIEWS'}) properties={'date': '2012-04-14', 'score': '3.0', 'taste': 'nan', 'feel': 'nan', 'overall': 'nan', 'beer_id': '52042', 'text': '\\xa0\\xa0 You had this beer. Write a review.', 'id': '4469412', 'smell': 'nan', 'look': 'nan'}>>,\n",
      " <Record r=<Node element_id='4874654' labels=frozenset({'REVIEWS'}) properties={'date': '2012-09-07', 'score': '3.0', 'taste': 'nan', 'feel': 'nan', 'overall': 'nan', 'beer_id': '2280', 'text': '\\xa0\\xa0 You had this beer. Write a review.', 'id': '4453569', 'smell': 'nan', 'look': 'nan'}>>,\n",
      " <Record r=<Node element_id='4874847' labels=frozenset({'REVIEWS'}) properties={'date': '2012-04-14', 'score': '1.0', 'taste': 'nan', 'feel': 'nan', 'overall': 'nan', 'beer_id': '2280', 'text': '\\xa0\\xa0 You had this beer. Write a review.', 'id': '4453762', 'smell': 'nan', 'look': 'nan'}>>,\n",
      " <Record r=<Node element_id='4871855' labels=frozenset({'REVIEWS'}) properties={'date': '2007-12-10', 'score': '3.68', 'taste': '3.5', 'feel': '4.0', 'overall': '4.0', 'beer_id': '2272', 'text': '\\xa0\\xa0 12oz. bottle Clear, chestnut color with ruby tones. Small, light tan head composed of medium sized bubbles. Aroma included yeast and was very fruity -- dark mainly, raisins and figs came to mind. Hints of coffee and chocolate. Earthy. Taste was more sweet than bitter. Fruity, like aroma, raisins and prunes. Light caramel. Chocolate. Touch of herbal bitterness at finish. Medium in body. Low to medium carbonation. Sweet. Quite good. Not the biggest malt fan, but this was very tasty. Just enough bitterness to contrast the overall sweet malt profile. Very drinkable, perhaps dangerously so with the ABV. \\xa0', 'id': '4450770', 'smell': '3.5', 'look': '4.0'}>>,\n",
      " <Record r=<Node element_id='4870957' labels=frozenset({'REVIEWS'}) properties={'date': '2006-09-05', 'score': '2.71', 'taste': '2.5', 'feel': '3.0', 'overall': '3.0', 'beer_id': '2270', 'text': \"\\xa0\\xa0 On tap at Lynch's in Jacksonville Beach. Pale yellow in color, modest off-white head. I remembered this fondly from many years back, and had been meaning to try it again. My mistake. Aroma was very light, mainly some malt. Flavor was very bland, a little bit of hops was about all I picked up. Mouthfeel was fine, quite light with medium carbonation, no drying or astringency. Overall, might work as a lawnmower beer, but much too bland for my taste nowadays. \\xa0\", 'id': '4449872', 'smell': '2.5', 'look': '3.5'}>>,\n",
      " <Record r=<Node element_id='4855015' labels=frozenset({'REVIEWS'}) properties={'date': '2011-11-28', 'score': '3.7', 'taste': '4.0', 'feel': '3.5', 'overall': '3.5', 'beer_id': '2250', 'text': '\\xa0\\xa0 Appearance - toes the line between amber and brown with ruby highlights. Off-white head has decent retention. Smell - Light aromas of roasted malt and dark fruit and a slight metallic smell. Taste and Mouthfeel - Light bodied, but a bit slick, and very strongly carbonated. Flavours of plum, lightly roasted malt, bread, and subtle bitterness. \\xa0', 'id': '4433930', 'smell': '3.5', 'look': '3.5'}>>,\n",
      " <Record r=<Node element_id='4847120' labels=frozenset({'REVIEWS'}) properties={'date': '2007-06-25', 'score': '3.68', 'taste': '4.0', 'feel': '3.0', 'overall': '3.5', 'beer_id': '2219', 'text': '\\xa0\\xa0 12oz. bottle received in a beer of the month club. Poured a clear, light copper color. Large, creamy, ivory head. Malt and caramel greeted the nose. Yeast/bread dough were there as well. Herbal/spicy notes including pepper were present. Well balanced. Sweet was caramel and wheat bread. Bitter was mainly at the finish - herbal/grassy. Notes of coffee/roast showed up in the middle. Light to medium body. Medium + carbonation. A bit dry. A grainy texture cost it a point in the texture category. Overally, pretty good. Easy to drink, nice overall flavor, and sufficient hops to give me a small fix. \\xa0', 'id': '4426035', 'smell': '3.5', 'look': '4.0'}>>,\n",
      " <Record r=<Node element_id='4836300' labels=frozenset({'REVIEWS'}) properties={'date': '2012-03-27', 'score': '4.5', 'taste': 'nan', 'feel': 'nan', 'overall': 'nan', 'beer_id': '2189', 'text': '\\xa0\\xa0 You had this beer. Write a review.', 'id': '4415215', 'smell': 'nan', 'look': 'nan'}>>,\n",
      " <Record r=<Node element_id='4832044' labels=frozenset({'REVIEWS'}) properties={'date': '2012-10-16', 'score': '3.5', 'taste': 'nan', 'feel': 'nan', 'overall': 'nan', 'beer_id': '48178', 'text': '\\xa0\\xa0 You had this beer. Write a review.', 'id': '4410959', 'smell': 'nan', 'look': 'nan'}>>,\n",
      " <Record r=<Node element_id='4836349' labels=frozenset({'REVIEWS'}) properties={'date': '2011-04-19', 'score': '2.38', 'taste': '2.0', 'feel': '3.0', 'overall': '2.5', 'beer_id': '2189', 'text': '\\xa0\\xa0 Aroma - Very pale yellow with a nice little head that quickly dissipates. Aroma - Bready malt aromas with a touch of hops. Not much going on here, really. Flavour - Bready, sweet, only the slightest note of hops, not enough bitterness to balance it out. Mediocre at best. I have enjoyed this on tap in the past, so either it is not as good in the can or my palate has improved. \\xa0', 'id': '4415264', 'smell': '2.5', 'look': '3.0'}>>,\n",
      " <Record r=<Node element_id='4831711' labels=frozenset({'REVIEWS'}) properties={'date': '2008-04-22', 'score': '3.35', 'taste': '3.0', 'feel': '4.0', 'overall': '3.5', 'beer_id': '31117', 'text': '\\xa0\\xa0 12oz. bottle Poured a hazy, dark gold with lots of orange. Medium sized, ivory colored, creamy head. Decent lacing and some legs. Aroma gave me peaches and citrus and honey and wheat for balance. Taste offered some nice hops, seemed rather floral. Hops were not too big. Biscuity middle. Bit of caramel. Other fruit flavors contributed to a taste that seemed rather sweet, overall. Medium body, lighter than I expected. Medium carbonation. Fairly dry. Pretty good overall. Not a Nugget Nectar, which is probably my favorite \"big red\", but I would certainly drink again. As my only complaint, it was a bit sweeter, more malt influenced than I care for. \\xa0', 'id': '4410626', 'smell': '3.5', 'look': '3.5'}>>,\n",
      " <Record r=<Node element_id='4835781' labels=frozenset({'REVIEWS'}) properties={'date': '2011-09-12', 'score': '4.2', 'taste': '4.5', 'feel': '4.0', 'overall': '4.0', 'beer_id': '2188', 'text': '\\xa0\\xa0 Appearance - Very dark black with a large tan head that dissipates fairly quickly to a lingering ring. Smell - lots of chocolate and coffee roasted malt flavours with some toffee, dried fruit, sweet tobacco, and earthy hops. Mouthfeel - medium bodies, smooth and creamy texture, with moderate carbonation. Taste - Echo of the chocolate and coffee, dark bread, nice strong bitterness, and a dry bitter finish. \\xa0', 'id': '4414696', 'smell': '4.0', 'look': '4.0'}>>,\n",
      " <Record r=<Node element_id='4840233' labels=frozenset({'REVIEWS'}) properties={'date': '2006-12-20', 'score': '3.7', 'taste': '3.5', 'feel': '4.0', 'overall': '3.5', 'beer_id': '2204', 'text': '\\xa0\\xa0 750ml bottle. Clear, mahogany color with a lot of ruby in it. Large tan head. Nice legs. Belgian scent (earthy). Spices - corander and orange. Caramel and chocolate. A bit of alcohol. Hoppy - citrus/orange/herbal which lingers into aftertaste. Raisins, bittersweet chocolate. A cracker/bread taste in the middle. Alcohol well hidden, but does pop through. A bit of a medicinal note. Finally, some pepper at the finish. Medium + in body, with medium carbonation. Rather drying. Alcohol warming starts early. Quite complex, I probably only \"got\" about half of what was going on (maybe giving myself too much credit). Enjoyed it, but not as much as the Hiver version. \\xa0', 'id': '4419148', 'smell': '4.0', 'look': '4.0'}>>,\n",
      " <Record r=<Node element_id='4829228' labels=frozenset({'REVIEWS'}) properties={'date': '2007-03-14', 'score': '3.8', 'taste': '4.0', 'feel': '3.5', 'overall': '4.0', 'beer_id': '6518', 'text': '\\xa0\\xa0 12oz. can Moderately hazy, dark orange/tan in color. Large, ivory colored, creamy head. Scent seemed rather subdued. I picked up pine and crackers. Not much else. Taste turned it up a bit. Peaches & honey, floating in a sea of hops - pine resin. Nice balance, but hops win the day. Biscuity support. Pepper at finish. Medium bodied. Medium to high carbonation - to me, they could tone it down just a bit. Almost biting. Fairly dry. Overall, I enjoyed it very much. If the ABV was closer to 5%, this would be a fantastic session beer. As it stands, I will just have to enjoy shorter sessions! A nicely hopped pale ale. \\xa0', 'id': '4408143', 'smell': '3.5', 'look': '3.5'}>>,\n",
      " <Record r=<Node element_id='4826907' labels=frozenset({'REVIEWS'}) properties={'date': '2012-09-10', 'score': '4.0', 'taste': 'nan', 'feel': 'nan', 'overall': 'nan', 'beer_id': '6518', 'text': '\\xa0\\xa0 You had this beer. Write a review.', 'id': '4405822', 'smell': 'nan', 'look': 'nan'}>>,\n",
      " <Record r=<Node element_id='4812038' labels=frozenset({'REVIEWS'}) properties={'date': '2013-02-23', 'score': '4.75', 'taste': 'nan', 'feel': 'nan', 'overall': 'nan', 'beer_id': '2137', 'text': '\\xa0\\xa0 You had this beer. Write a review.', 'id': '4390953', 'smell': 'nan', 'look': 'nan'}>>,\n",
      " <Record r=<Node element_id='4795996' labels=frozenset({'REVIEWS'}) properties={'date': '2012-04-24', 'score': '4.75', 'taste': 'nan', 'feel': 'nan', 'overall': 'nan', 'beer_id': '2093', 'text': '\\xa0\\xa0 You had this beer. Write a review.', 'id': '4374911', 'smell': 'nan', 'look': 'nan'}>>,\n",
      " <Record r=<Node element_id='4773442' labels=frozenset({'REVIEWS'}) properties={'date': '2007-05-18', 'score': '4.6', 'taste': '4.5', 'feel': '4.5', 'overall': '5.0', 'beer_id': '7597', 'text': \"\\xa0\\xa0 22oz. bomber. Courtesy of blindpig or drseamus - can't remember which trade came in first! Crystal clear, dark gold fluid. Medium sized, creamy, ivory colored head. Great lacing. Nose was grapefruit, caramel and peaches. Delightful. Taste was grapefruit and pine. Nice biscuity middle, covered in honey and caramel. Great balance for a hop monster. Grassy at finish. Alcohol well hidden throughout. Medium + in body. Low to medium carbonation. Very dry. Incredibly drinkable for the kick in the head I know it is. Not sure if I prefer this or the Exponential. I believe Expo is a bit sweeter and I know it is a good bit hotter. Whatever! Just glad I have 2 more bombers of this to work through. \\xa0\", 'id': '4352357', 'smell': '4.5', 'look': '4.5'}>>,\n",
      " <Record r=<Node element_id='4765536' labels=frozenset({'REVIEWS'}) properties={'date': '2011-11-20', 'score': '5.0', 'taste': 'nan', 'feel': 'nan', 'overall': 'nan', 'beer_id': '38799', 'text': '\\xa0\\xa0 You had this beer. Write a review.', 'id': '4344451', 'smell': 'nan', 'look': 'nan'}>>,\n",
      " <Record r=<Node element_id='4765117' labels=frozenset({'REVIEWS'}) properties={'date': '2012-12-25', 'score': '2.0', 'taste': 'nan', 'feel': 'nan', 'overall': 'nan', 'beer_id': '86083', 'text': '\\xa0\\xa0 You had this beer. Write a review.', 'id': '4344032', 'smell': 'nan', 'look': 'nan'}>>,\n",
      " <Record r=<Node element_id='4754145' labels=frozenset({'REVIEWS'}) properties={'date': '2014-05-05', 'score': '4.5', 'taste': 'nan', 'feel': 'nan', 'overall': 'nan', 'beer_id': '19960', 'text': '\\xa0\\xa0 You had this beer. Write a review.', 'id': '4333060', 'smell': 'nan', 'look': 'nan'}>>,\n",
      " <Record r=<Node element_id='4757690' labels=frozenset({'REVIEWS'}) properties={'date': '2012-12-04', 'score': '5.0', 'taste': 'nan', 'feel': 'nan', 'overall': 'nan', 'beer_id': '19960', 'text': '\\xa0\\xa0 You had this beer. Write a review.', 'id': '4336605', 'smell': 'nan', 'look': 'nan'}>>,\n",
      " <Record r=<Node element_id='4757933' labels=frozenset({'REVIEWS'}) properties={'date': '2012-09-10', 'score': '5.0', 'taste': 'nan', 'feel': 'nan', 'overall': 'nan', 'beer_id': '19960', 'text': '\\xa0\\xa0 You had this beer. Write a review.', 'id': '4336848', 'smell': 'nan', 'look': 'nan'}>>,\n",
      " <Record r=<Node element_id='4749123' labels=frozenset({'REVIEWS'}) properties={'date': '2011-05-22', 'score': '3.0', 'taste': '3.0', 'feel': '3.0', 'overall': '3.0', 'beer_id': '5132', 'text': '\\xa0\\xa0 Appearance - red-brown with a slight froth that hangs around for a short time, then dissapears. Smell - roasted malt, a bit of spice, bread. Mouthfeel - medium body and high carbonation. Taste - The predominant flavour is roasted malt with a little bit of hops bitterness and backdrop of fruity rye. An interesting contrast of roast and fruit. \\xa0', 'id': '4328038', 'smell': '3.0', 'look': '3.0'}>>,\n",
      " <Record r=<Node element_id='4737739' labels=frozenset({'REVIEWS'}) properties={'date': '2012-12-27', 'score': '3.0', 'taste': 'nan', 'feel': 'nan', 'overall': 'nan', 'beer_id': '14309', 'text': '\\xa0\\xa0 You had this beer. Write a review.', 'id': '4316654', 'smell': 'nan', 'look': 'nan'}>>,\n",
      " <Record r=<Node element_id='4702279' labels=frozenset({'REVIEWS'}) properties={'date': '2014-03-14', 'score': '4.5', 'taste': 'nan', 'feel': 'nan', 'overall': 'nan', 'beer_id': '73539', 'text': '\\xa0\\xa0 You had this beer. Write a review.', 'id': '4281194', 'smell': 'nan', 'look': 'nan'}>>,\n",
      " <Record r=<Node element_id='4695668' labels=frozenset({'REVIEWS'}) properties={'date': '2010-05-16', 'score': '4.32', 'taste': '4.5', 'feel': '4.5', 'overall': '4.5', 'beer_id': '5253', 'text': '\\xa0\\xa0 750ml bottle topped with a strange plastic seal inside the crown cap. Freshness date on cap reads: \"F 50 05/2013\" 6% ABV and different color scheme on label than the sample picture shown. A: Cap pries off with a pretty loud pop. Pours a hazy golden amber with a medium soapy head which dissipates very quickly to a thin ring around the glass. Spotty/minimal lacing. S: Loads of under-ripened strawberry! Slight chalky/limestone aroma. No real hop or malt presence. Just tons of under-ripened strawberry. At first the smell reminded me off Festina Peche from Dogfish Head. Quite a bit of lactic tartness. T: Under-ripened strawberries yet again. A little lemony tartness. Slight musty quality which makes me think this is more of a saison than a belgian pale. A little bitterness on the finish. Taste reminds me a lot of a lighter version of Fantome Saison. M: Medium to high carbonation on the palate. Pretty light palate weight. A nice level of acidity and a very dry finish. Very quaffable. D: Like a little brother of fantome saison. Very drinkable. Very refreshing. I could drink this beer anytime. Considering it\\'s priced the same as any other belgian 750 at about $9-$10 a bottle I\\'d say it\\'s an exceptional buy. Highly recommended. \\xa0', 'id': '4274583', 'smell': '4.0', 'look': '3.5'}>>,\n",
      " <Record r=<Node element_id='4685283' labels=frozenset({'REVIEWS'}) properties={'date': '2012-02-27', 'score': '3.5', 'taste': 'nan', 'feel': 'nan', 'overall': 'nan', 'beer_id': '69430', 'text': '\\xa0\\xa0 You had this beer. Write a review.', 'id': '4264198', 'smell': 'nan', 'look': 'nan'}>>,\n",
      " <Record r=<Node element_id='4663875' labels=frozenset({'REVIEWS'}) properties={'date': '2006-07-31', 'score': '3.38', 'taste': '3.5', 'feel': '3.5', 'overall': '3.5', 'beer_id': '6322', 'text': '\\xa0\\xa0 12oz. bottle. Poured a dark gold/amber color. Very clear. Developed a large off white head. Aroma was earthy, with the hops coming through as a pine/grass scent. Flavor was much more malty than aroma suggested, with a nice balance of the hops throughout. Finish is \"piney\". Beer was medium in body, with fairly high carbonation and slightly drying. Overall, a pretty good beer, kinda a light version of Nugget Nectar (much better, unfortunately not available year round). \\xa0', 'id': '4242790', 'smell': '3.0', 'look': '3.5'}>>,\n",
      " <Record r=<Node element_id='4644170' labels=frozenset({'REVIEWS'}) properties={'date': '2013-11-23', 'score': '4.5', 'taste': 'nan', 'feel': 'nan', 'overall': 'nan', 'beer_id': '49058', 'text': '\\xa0\\xa0 You had this beer. Write a review.', 'id': '4223085', 'smell': 'nan', 'look': 'nan'}>>,\n",
      " <Record r=<Node element_id='4633115' labels=frozenset({'REVIEWS'}) properties={'date': '2011-06-18', 'score': '1.78', 'taste': '2.0', 'feel': '2.0', 'overall': '1.5', 'beer_id': '4477', 'text': '\\xa0\\xa0 Appearance - pale yellow with a fair bit of foam. Smell - sweet corn with a bit of hops, which is more hops aroma than you get in most other Canadian macro lagers. Mouthfeel - very light bodies with spiky, harsh carbonation. Tatse - easy drinking, sweet, a bit of floaral hops, and a dryish finish. Extremely drinkable, but not a whole lot of flavour. \\xa0', 'id': '4212030', 'smell': '1.5', 'look': '2.0'}>>,\n",
      " <Record r=<Node element_id='4629000' labels=frozenset({'REVIEWS'}) properties={'date': '2012-01-06', 'score': '3.87', 'taste': '3.5', 'feel': '3.5', 'overall': '4.0', 'beer_id': '71315', 'text': '\\xa0\\xa0 Pours pale gold with a very persistent head. The body is light-medium and moderately carbonated. The aroma is intensely fruity - gooseberry and grapefruit domiate. The flavour is similar, but less intense. Strong fruity hops dominate and present a smooth, well-integrated bitterness. \\xa0', 'id': '4207915', 'smell': '4.5', 'look': '4.0'}>>,\n",
      " <Record r=<Node element_id='4616263' labels=frozenset({'REVIEWS'}) properties={'date': '2012-12-03', 'score': '3.5', 'taste': 'nan', 'feel': 'nan', 'overall': 'nan', 'beer_id': '58017', 'text': '\\xa0\\xa0 You had this beer. Write a review.', 'id': '4195178', 'smell': 'nan', 'look': 'nan'}>>,\n",
      " <Record r=<Node element_id='4608900' labels=frozenset({'REVIEWS'}) properties={'date': '2012-11-23', 'score': '4.0', 'taste': 'nan', 'feel': 'nan', 'overall': 'nan', 'beer_id': '34791', 'text': '\\xa0\\xa0 You had this beer. Write a review.', 'id': '4187815', 'smell': 'nan', 'look': 'nan'}>>,\n",
      " <Record r=<Node element_id='4600438' labels=frozenset({'REVIEWS'}) properties={'date': '2012-01-28', 'score': '4.17', 'taste': '4.5', 'feel': '4.0', 'overall': '4.0', 'beer_id': '55605', 'text': '\\xa0\\xa0 Appearance - very pale gold with a persistent, fluffy white head. Smell - a little bit of grain and a lot ot tropical fruit. Pineapple, citrus, and tangy kiwi with a fruity, white wine character. Taste - Again, a bit of grain and a lot of tropical fruit, but the flavours do not come off as fruity, and certainly not sweet. The tropical fruits of the aroma are present in the flavour, but are accompanied by solid bitterness, and an interesting tar-like note. \\xa0', 'id': '4179353', 'smell': '4.0', 'look': '3.5'}>>,\n",
      " <Record r=<Node element_id='4587678' labels=frozenset({'REVIEWS'}) properties={'date': '2012-04-24', 'score': '3.5', 'taste': 'nan', 'feel': 'nan', 'overall': 'nan', 'beer_id': '55243', 'text': '\\xa0\\xa0 You had this beer. Write a review.', 'id': '4166593', 'smell': 'nan', 'look': 'nan'}>>,\n",
      " <Record r=<Node element_id='4586051' labels=frozenset({'REVIEWS'}) properties={'date': '2012-02-27', 'score': '4.0', 'taste': 'nan', 'feel': 'nan', 'overall': 'nan', 'beer_id': '74714', 'text': '\\xa0\\xa0 You had this beer. Write a review.', 'id': '4164966', 'smell': 'nan', 'look': 'nan'}>>,\n",
      " <Record r=<Node element_id='4574005' labels=frozenset({'REVIEWS'}) properties={'date': '2008-01-02', 'score': '3.22', 'taste': 'nan', 'feel': 'nan', 'overall': 'nan', 'beer_id': '25430', 'text': '\\xa0\\xa0 Served in a pilsner glass on tap at the brewery in Los Gatos: A - Standard pilsner clarity, straw gold color with one finger of airy foam top head. retention is holding. S - Crisp malts, grassy, citrus T - Light malt flavor, slight sweetness, herbal citrus with small traces of alcohol. M - Faint hop aftertaste. Nice and light. D - Very drinkable, perfect for a light meal as decent pilsner. \\xa0', 'id': '4152920', 'smell': 'nan', 'look': 'nan'}>>,\n",
      " <Record r=<Node element_id='4551365' labels=frozenset({'REVIEWS'}) properties={'date': '2012-12-04', 'score': '4.5', 'taste': 'nan', 'feel': 'nan', 'overall': 'nan', 'beer_id': '35036', 'text': '\\xa0\\xa0 You had this beer. Write a review.', 'id': '4130280', 'smell': 'nan', 'look': 'nan'}>>,\n",
      " <Record r=<Node element_id='4553728' labels=frozenset({'REVIEWS'}) properties={'date': '2007-11-21', 'score': '4.35', 'taste': '4.5', 'feel': '4.5', 'overall': '4.5', 'beer_id': '35036', 'text': '\\xa0\\xa0 0% 12oz. bottle courtesy of Alexgash -- Thanks! Pretty clear, dark red/copper in color. Hard pour yielded a modest, sand colored head which vanished quickly. Composed of very small bubbles. Bit of legs, not much lace. Aroma was BOURBON! Woodsy and earthy. Some vanilla. Taste was bourbon. Sweet more than bitter, raisins, dark cherries. Hints of chocolate and roast. Decent bittering at the finish, grassy and herbal. Medium + body. Medium carbonation, which was more than I expected. Dry. Alcohol says hello very quickly. Maybe too much bourbon/barrel? Nah! Damn fine beer. I sampled this on Dark Lord Day and have been really looking forward to enjoying a whole one. Will enjoy my others as the weather gets cooler. \\xa0', 'id': '4132643', 'smell': '4.0', 'look': '4.0'}>>,\n",
      " <Record r=<Node element_id='4526649' labels=frozenset({'REVIEWS'}) properties={'date': '2008-02-26', 'score': '3.45', 'taste': '3.5', 'feel': '4.0', 'overall': '3.0', 'beer_id': '36653', 'text': '\\xa0\\xa0 12oz. bottle, courtesy of hoppymeal - Thanks! Poured a hazy, golden orange color. Formed a small, sand colored head. Not much lacing, some legs. Big pine/spruce aroma. Medicinal/alcohol scent was fairly strong. Earthiness. Taste was BIG. Hops, caramel action and bourbon. Vanilla/oak sweetness. Pine - resiny. Alcohol. LIngering piny bitterness at the end. Medium to full in body, almost coating. Low carbonation. Drying. Very complex, just not sure I like the vanilla/oak with the pine flavors. Extremely interesting (no pun intended). A collaboration between these guys and DFH would be pretty scary.... \\xa0', 'id': '4105564', 'smell': '3.5', 'look': '3.5'}>>,\n",
      " <Record r=<Node element_id='4516998' labels=frozenset({'REVIEWS'}) properties={'date': '2007-03-05', 'score': '4.21', 'taste': '4.0', 'feel': '4.5', 'overall': '4.5', 'beer_id': '3158', 'text': '\\xa0\\xa0 22oz. bottle Crystal clear, dark copper color. Light tan head - large and rocky. Lively carbonation. Very citrusy aroma. Slightly sweet as well, caramel, peach & pineapple. Sweeter than expected taste. Hops rather subdued. Rye comes through mildly. Biscuity. As temperature increases, fruit flavors (peach & pineapple) come out along with some caramel. ABV very well hidden, just a hint comes through. Excellent balance. As I drink, a peppery taste starts to build up. Medium bodied. Low to medium carbonation. Drying, but smooth and very drinkable. An excellent beer! I prefer more hops, but this is incredibly well balanced. Rye adds a nice little extra. Sessionable, but ABV would get you. \\xa0', 'id': '4095913', 'smell': '4.0', 'look': '5.0'}>>,\n",
      " <Record r=<Node element_id='4518644' labels=frozenset({'REVIEWS'}) properties={'date': '2012-04-18', 'score': '5.0', 'taste': 'nan', 'feel': 'nan', 'overall': 'nan', 'beer_id': '80475', 'text': '\\xa0\\xa0 You had this beer. Write a review.', 'id': '4097559', 'smell': 'nan', 'look': 'nan'}>>,\n",
      " <Record r=<Node element_id='4512929' labels=frozenset({'REVIEWS'}) properties={'date': '2012-08-10', 'score': '4.5', 'taste': 'nan', 'feel': 'nan', 'overall': 'nan', 'beer_id': '3158', 'text': '\\xa0\\xa0 You had this beer. Write a review.', 'id': '4091844', 'smell': 'nan', 'look': 'nan'}>>,\n",
      " <Record r=<Node element_id='4462352' labels=frozenset({'REVIEWS'}) properties={'date': '2012-08-14', 'score': '4.5', 'taste': 'nan', 'feel': 'nan', 'overall': 'nan', 'beer_id': '17060', 'text': '\\xa0\\xa0 You had this beer. Write a review.', 'id': '4041267', 'smell': 'nan', 'look': 'nan'}>>,\n",
      " <Record r=<Node element_id='4450521' labels=frozenset({'REVIEWS'}) properties={'date': '2012-12-30', 'score': '4.25', 'taste': 'nan', 'feel': 'nan', 'overall': 'nan', 'beer_id': '71405', 'text': '\\xa0\\xa0 You had this beer. Write a review.', 'id': '4029436', 'smell': 'nan', 'look': 'nan'}>>,\n",
      " <Record r=<Node element_id='4446794' labels=frozenset({'REVIEWS'}) properties={'date': '2007-06-11', 'score': '3.8', 'taste': '3.5', 'feel': '4.0', 'overall': '4.0', 'beer_id': '12993', 'text': '\\xa0\\xa0 500ml bottle Clear, straw yellow color. Medium sized, creamy, white to off-white head. Spicy, peppery, floral and herbal. Malt fairly subdued in nose. Nice balance, hoppy & some sweet. Honeyed wheat bread. Hops mainly at finish - herbal, pepper & other spices. Light to medium body. Medium + carbonation. Somewhat dry. A good beer. Nice taste profile and relatively light. \\xa0', 'id': '4025709', 'smell': '4.0', 'look': '4.0'}>>,\n",
      " <Record r=<Node element_id='4449699' labels=frozenset({'REVIEWS'}) properties={'date': '2012-05-13', 'score': '4.75', 'taste': 'nan', 'feel': 'nan', 'overall': 'nan', 'beer_id': '9557', 'text': '\\xa0\\xa0 You had this beer. Write a review.', 'id': '4028614', 'smell': 'nan', 'look': 'nan'}>>,\n",
      " <Record r=<Node element_id='4435211' labels=frozenset({'REVIEWS'}) properties={'date': '2013-01-14', 'score': '4.25', 'taste': 'nan', 'feel': 'nan', 'overall': 'nan', 'beer_id': '2269', 'text': '\\xa0\\xa0 You had this beer. Write a review.', 'id': '4014126', 'smell': 'nan', 'look': 'nan'}>>,\n",
      " <Record r=<Node element_id='4414603' labels=frozenset({'REVIEWS'}) properties={'date': '2014-01-21', 'score': '3.5', 'taste': 'nan', 'feel': 'nan', 'overall': 'nan', 'beer_id': '100992', 'text': '\\xa0\\xa0 You had this beer. Write a review.', 'id': '3993518', 'smell': 'nan', 'look': 'nan'}>>,\n",
      " <Record r=<Node element_id='4419543' labels=frozenset({'REVIEWS'}) properties={'date': '2014-04-06', 'score': '4.0', 'taste': 'nan', 'feel': 'nan', 'overall': 'nan', 'beer_id': '44763', 'text': '\\xa0\\xa0 You had this beer. Write a review.', 'id': '3998458', 'smell': 'nan', 'look': 'nan'}>>,\n",
      " <Record r=<Node element_id='4408449' labels=frozenset({'REVIEWS'}) properties={'date': '2012-09-01', 'score': '3.75', 'taste': 'nan', 'feel': 'nan', 'overall': 'nan', 'beer_id': '48911', 'text': '\\xa0\\xa0 You had this beer. Write a review.', 'id': '3987364', 'smell': 'nan', 'look': 'nan'}>>,\n",
      " <Record r=<Node element_id='4399619' labels=frozenset({'REVIEWS'}) properties={'date': '2011-09-03', 'score': '3.75', 'taste': '3.5', 'feel': '3.5', 'overall': '4.0', 'beer_id': '55694', 'text': '\\xa0\\xa0 Appearance - Very clear golden with lots of carbonation bubbles. Large and long-lasting rocky head. Smell - Big hops aromas of passionfruit and pine, sweet caramel coming through as well. Taste - Not quite as good as the aroma suggests it could be. Fruity hops with a nice amount of bitterness and a solid malt background. \\xa0', 'id': '3978534', 'smell': '4.0', 'look': '4.0'}>>,\n",
      " <Record r=<Node element_id='4345399' labels=frozenset({'REVIEWS'}) properties={'date': '2012-04-14', 'score': '3.5', 'taste': 'nan', 'feel': 'nan', 'overall': 'nan', 'beer_id': '54904', 'text': '\\xa0\\xa0 You had this beer. Write a review.', 'id': '3924314', 'smell': 'nan', 'look': 'nan'}>>,\n",
      " <Record r=<Node element_id='4339421' labels=frozenset({'REVIEWS'}) properties={'date': '2011-04-19', 'score': '4.1', 'taste': '4.0', 'feel': '3.5', 'overall': '4.0', 'beer_id': '37774', 'text': '\\xa0\\xa0 Appearance - Bright straw orange, hazy, large frothy head that dissipates quickly. Aroma - Bright lemon zest and floral hops aroma with subtle banana esters, none of the typical clove, fruit. Silky smooth mouthfeel. Flavour is tart lemon zest and apple, smooth banana, and mild spice. \\xa0', 'id': '3918336', 'smell': '4.5', 'look': '4.5'}>>,\n",
      " <Record r=<Node element_id='4340410' labels=frozenset({'REVIEWS'}) properties={'date': '2007-11-07', 'score': '3.77', 'taste': '3.5', 'feel': '4.0', 'overall': '4.0', 'beer_id': '37774', 'text': \"\\xa0\\xa0 17oz. bottle I believe After final pour, a very hazy, brown/yellow liquid filled my glass. Capped by a large, creamy, white head. Aroma was herbal, with a strong scent of clove. Floral notes and citrus - orange. Taste was a pretty big burst of hops, citrus up front and grassy at the finish. More bitter than sweet. Clove flavor was quite strong. Other herbal notes I can't name. Yeasty/crackery in the middle. Sweetens a bit with some warmth, but not significantly. Alcohol very well hidden. Medium body. Medium + carbonation (not as much as expected vs. head from pour -- very big, almost an overflow). Very refreshing. Very interesting, a super hoppy wheat. I did like the absence/suppression of banana flavors, but that might be a draw back if you are concerned about style purity. \\xa0\", 'id': '3919325', 'smell': '4.0', 'look': '3.5'}>>,\n",
      " <Record r=<Node element_id='4321228' labels=frozenset({'REVIEWS'}) properties={'date': '2011-09-21', 'score': '4.3', 'taste': 'nan', 'feel': 'nan', 'overall': 'nan', 'beer_id': '72271', 'text': '\\xa0\\xa0 Appearance - cloudy yellow with a small whiet head. Smell - Very softly sour with an undercurrent of sweetness, and a hint of spice. Taste - Tart lemon and a wheat-like soft sweetness, subtle nutmeg, yeast. This is not as sharp I a expected a beer brewed with sumac to be. It was tart, but balanced, with a slightly wild character. More than anything, this reminded me of a Lambic Blanche. \\xa0', 'id': '3900143', 'smell': 'nan', 'look': 'nan'}>>,\n",
      " <Record r=<Node element_id='4326496' labels=frozenset({'REVIEWS'}) properties={'date': '2007-07-02', 'score': '3.73', 'taste': '4.0', 'feel': '4.0', 'overall': '4.0', 'beer_id': '29675', 'text': '\\xa0\\xa0 12 oz. bottle. Best Before 9/21/07. Clear, medium gold color. Medium, off-white rocky head. Smell was very mild. Citrus and earth. Some spice, reminded me of rye just a bit. Taste was bitter more than sweet. Seemed like citrus and some roast flavors. Lingers well into aftertaste. Not much in the way of sweet, perhaps wheat bread. I let it warm up, and there wasn\\'t much change. Light body, almost too thin. Medium carbonation. Dry. Overall, easy to drink. Quite refreshing and tasty on a hot Texas summer night. Good flavor for a \"light\" beer. Not terribly complex, but it isn\\'t supposed to be. \\xa0', 'id': '3905411', 'smell': '3.0', 'look': '3.5'}>>,\n",
      " <Record r=<Node element_id='4330825' labels=frozenset({'REVIEWS'}) properties={'date': '2012-02-08', 'score': '3.89', 'taste': '3.5', 'feel': '4.0', 'overall': '4.0', 'beer_id': '69899', 'text': \"\\xa0\\xa0 330ml bottle drank from a duvel glass Pours clear and burnt orange with a crisp and oily large white head, excellent retention. Passionfruit is dominate on the nose, mandarins aswell. Bananas and pineapple are also noted. Delicious. A lot less hop character on the palate, I feel the maltiness makes the beer a little sweet. Caramel and mandarin are present, and a little more passionfruit. The finish has a light, simple bitterness. Mouthfeel is great, light, crisp and very easy to drink. This is one of those beers that I wish I could buy by the 6pack. This is easily the best Mikkeller single hop beer I've tried so far, very refreshing. My only qualm is that I feel it's missing some hop character on the palate, perhaps that's down the hop variety. \\xa0\", 'id': '3909740', 'smell': '4.5', 'look': '3.5'}>>,\n",
      " <Record r=<Node element_id='4291147' labels=frozenset({'REVIEWS'}) properties={'date': '2012-01-18', 'score': '3.5', 'taste': 'nan', 'feel': 'nan', 'overall': 'nan', 'beer_id': '67238', 'text': '\\xa0\\xa0 You had this beer. Write a review.', 'id': '3870062', 'smell': 'nan', 'look': 'nan'}>>,\n",
      " <Record r=<Node element_id='4290358' labels=frozenset({'REVIEWS'}) properties={'date': '2012-12-04', 'score': '1.25', 'taste': 'nan', 'feel': 'nan', 'overall': 'nan', 'beer_id': '67238', 'text': '\\xa0\\xa0 You had this beer. Write a review.', 'id': '3869273', 'smell': 'nan', 'look': 'nan'}>>,\n",
      " <Record r=<Node element_id='4287979' labels=frozenset({'REVIEWS'}) properties={'date': '2011-07-17', 'score': '2.03', 'taste': '1.5', 'feel': '2.5', 'overall': '2.0', 'beer_id': '2843', 'text': '\\xa0\\xa0 From 12 oz bottle. Pours a caramel cider like color. Smells of yeast and sweet apples. Excessively carbonated and taste strongly of apple cider with lemony notes. The theme here being apple cider. Cloyingly sweet, would never have guessed this was intended to be an ESB. \\xa0', 'id': '3866894', 'smell': '2.5', 'look': '3.0'}>>,\n",
      " <Record r=<Node element_id='4286707' labels=frozenset({'REVIEWS'}) properties={'date': '2007-06-08', 'score': '3.8', 'taste': '4.0', 'feel': '3.5', 'overall': '4.0', 'beer_id': '26487', 'text': \"\\xa0\\xa0 On tap at the Ram. Hazy, orange/amber in color. Medium, creamy, light tan head. Not much lacing or legs. Served pretty cold, so aroma was muted. Decent whiff of citrus. Taste was very good, nice hop blast right out of the gate. Citrus, maybe a bit of pine. A bit out of balance, in that the malt seemed very shy. Could have been a function of the temperature of the beer, but didn't seem to change a lot as I drank it. Fine with me, I lean more towards hops than malt, anyway. Mouthfeel was light to medium in body. Carbonation was medium as well. Fairly dry. I drank a few of these over the course of our dinner. Went down easy, and I didn't get tired of them. A bit high in alcohol for a session beer, but otherwise, worked for me. \\xa0\", 'id': '3865622', 'smell': '3.5', 'look': '3.5'}>>,\n",
      " <Record r=<Node element_id='4277697' labels=frozenset({'REVIEWS'}) properties={'date': '2011-08-29', 'score': '4.42', 'taste': '4.5', 'feel': '4.0', 'overall': '4.5', 'beer_id': '30764', 'text': '\\xa0\\xa0 a-nice brown with a nice fluffy head to it. Has good lacing down the sides. s-big coffee and malt flavors come to the front on the nose. t-taste like a nice cup of iced joe with some maltiness behind it. Started off the morning with this beer. The coffee stays on the toung for a while, and has a nice finish. m-little thin, but good. o-great mainstay of the Surly line up. Was really impressed with the balance between coffee and brown ale. \\xa0', 'id': '3856612', 'smell': '4.5', 'look': '4.0'}>>,\n",
      " <Record r=<Node element_id='4262376' labels=frozenset({'REVIEWS'}) properties={'date': '2007-10-22', 'score': '3.05', 'taste': '3.0', 'feel': '3.5', 'overall': '3.0', 'beer_id': '27286', 'text': \"\\xa0\\xa0 22oz. bottle Hazy, dirty orange/brown. Large, light tan creamy head. Pretty decent lacing. Scent was earthy, minty, herbal and pine. Malt was pretty much AWOL. Taste was bitter more than sweet. Consisted of herbs, citrus (lemon), some floral notes and grass. Overall, quite a bit lacking in balance. Mint. Alcohol. Medium in body. Big carbonation (popped the cap and was greeted by a gusher), could certainly tone down. Almost astringent. Alcohol warming starts immediately, almost just by looking at it. Overall, not crazy about this one. Lacks balance (usually, I'm pretty tolerant about this). Alcohol seems excessive. Bitterness verges on unpleasant, quality of taste more than amount, if that makes any sense. \\xa0\", 'id': '3841291', 'smell': '3.0', 'look': '3.0'}>>,\n",
      " <Record r=<Node element_id='4252808' labels=frozenset({'REVIEWS'}) properties={'date': '2014-03-07', 'score': '3.25', 'taste': 'nan', 'feel': 'nan', 'overall': 'nan', 'beer_id': '83457', 'text': '\\xa0\\xa0 You had this beer. Write a review.', 'id': '3831723', 'smell': 'nan', 'look': 'nan'}>>,\n",
      " <Record r=<Node element_id='4250823' labels=frozenset({'REVIEWS'}) properties={'date': '2012-07-11', 'score': '4.25', 'taste': 'nan', 'feel': 'nan', 'overall': 'nan', 'beer_id': '38676', 'text': '\\xa0\\xa0 You had this beer. Write a review.', 'id': '3829738', 'smell': 'nan', 'look': 'nan'}>>,\n",
      " <Record r=<Node element_id='4250829' labels=frozenset({'REVIEWS'}) properties={'date': '2011-09-14', 'score': '3.83', 'taste': '4.0', 'feel': '3.5', 'overall': '4.0', 'beer_id': '38676', 'text': '\\xa0\\xa0 Appearance - dark brown with ruby highlights. Initially the head is large and frothy, with bubbles visibly breaking the suface of the foam. It dissipates to a persistent cap. Smell - roasted malt, coffee, earth, hazelnuts. Taste - light roasted malt flavour, some nuttyness, plum. Finishes moderately bitter and dry. \\xa0', 'id': '3829744', 'smell': '3.5', 'look': '4.0'}>>,\n",
      " <Record r=<Node element_id='4226470' labels=frozenset({'REVIEWS'}) properties={'date': '2011-12-31', 'score': '3.45', 'taste': '3.5', 'feel': '3.0', 'overall': '3.5', 'beer_id': '75356', 'text': \"\\xa0\\xa0 330ml bottle poured into a tulip A: Pale hazy golden with a large fluffy white head. Minimal lacing S: Not as pungent as I would have liked. Firstly I get herbal notes then it changes to pine needles, a little grass and caramel. Maybe a little citrus in there too. T: Again I get herbal flavours first, then it changes to some grapefruit, then I get a long pine bitterness that becomes quite dry in the finish. This dryness I found to be the most enjoyable part of this beer. M: Medium thin body with decent carbonation, nothing to blow your socks off. O: To be honest I was expecting more from this beer. I've enjoyed most of hopdogs other offerings, but sadly this beer didnt wow me. Also I'm no entirely sure why this beer is listed as a rye beer, if you didn't tell me it had rye in the recipe, I would have assumed it was a regular American ipa. \\xa0\", 'id': '3805385', 'smell': '3.5', 'look': '3.5'}>>,\n",
      " <Record r=<Node element_id='4217240' labels=frozenset({'REVIEWS'}) properties={'date': '2012-11-21', 'score': '4.25', 'taste': 'nan', 'feel': 'nan', 'overall': 'nan', 'beer_id': '83125', 'text': '\\xa0\\xa0 You had this beer. Write a review.', 'id': '3796155', 'smell': 'nan', 'look': 'nan'}>>,\n",
      " <Record r=<Node element_id='4192613' labels=frozenset({'REVIEWS'}) properties={'date': '2012-12-23', 'score': '2.75', 'taste': 'nan', 'feel': 'nan', 'overall': 'nan', 'beer_id': '5488', 'text': '\\xa0\\xa0 You had this beer. Write a review.', 'id': '3771528', 'smell': 'nan', 'look': 'nan'}>>,\n",
      " <Record r=<Node element_id='4192934' labels=frozenset({'REVIEWS'}) properties={'date': '2012-09-22', 'score': '4.25', 'taste': 'nan', 'feel': 'nan', 'overall': 'nan', 'beer_id': '5488', 'text': '\\xa0\\xa0 You had this beer. Write a review.', 'id': '3771849', 'smell': 'nan', 'look': 'nan'}>>,\n",
      " <Record r=<Node element_id='4196183' labels=frozenset({'REVIEWS'}) properties={'date': '2012-03-05', 'score': '4.0', 'taste': 'nan', 'feel': 'nan', 'overall': 'nan', 'beer_id': '2045', 'text': '\\xa0\\xa0 You had this beer. Write a review.', 'id': '3775098', 'smell': 'nan', 'look': 'nan'}>>,\n",
      " <Record r=<Node element_id='4197548' labels=frozenset({'REVIEWS'}) properties={'date': '2012-09-09', 'score': '2.0', 'taste': 'nan', 'feel': 'nan', 'overall': 'nan', 'beer_id': '48385', 'text': '\\xa0\\xa0 You had this beer. Write a review.', 'id': '3776463', 'smell': 'nan', 'look': 'nan'}>>,\n",
      " <Record r=<Node element_id='4190316' labels=frozenset({'REVIEWS'}) properties={'date': '2012-12-28', 'score': '4.25', 'taste': 'nan', 'feel': 'nan', 'overall': 'nan', 'beer_id': '73999', 'text': '\\xa0\\xa0 You had this beer. Write a review.', 'id': '3769231', 'smell': 'nan', 'look': 'nan'}>>,\n",
      " <Record r=<Node element_id='4188915' labels=frozenset({'REVIEWS'}) properties={'date': '2006-11-17', 'score': '3.18', 'taste': '3.0', 'feel': '3.0', 'overall': '3.0', 'beer_id': '19425', 'text': \"\\xa0\\xa0 22oz. bottle Clear amber color. Medium, off-white head, which faded quickly. A caramel malt bomb with some molasses thrown in if you missed the caramel. Grapes and alcohol were present as well. Taste followed aroma. Vinous and port like, with a hot alcohol character. Hop bitterness showed up at the very end. Spicy finish as well. Could have used a bit more hops for balance. Heavy/chewy in character, with low carbonation. Did I mention it was hot? Despite ABV, not terribly drying. Overall, I am not sure we need an imperial O-Fest. While I appreciate pushing the style, an important characteristic of these beers is drinkability. Kudos to Avery for trying, but this one won't make it into my rotation. \\xa0\", 'id': '3767830', 'smell': '3.5', 'look': '4.0'}>>,\n",
      " <Record r=<Node element_id='4181771' labels=frozenset({'REVIEWS'}) properties={'date': '2012-04-30', 'score': '1.0', 'taste': 'nan', 'feel': 'nan', 'overall': 'nan', 'beer_id': '41702', 'text': '\\xa0\\xa0 You had this beer. Write a review.', 'id': '3760686', 'smell': 'nan', 'look': 'nan'}>>,\n",
      " <Record r=<Node element_id='4190285' labels=frozenset({'REVIEWS'}) properties={'date': '2013-01-23', 'score': '2.25', 'taste': 'nan', 'feel': 'nan', 'overall': 'nan', 'beer_id': '73999', 'text': '\\xa0\\xa0 You had this beer. Write a review.', 'id': '3769200', 'smell': 'nan', 'look': 'nan'}>>,\n",
      " <Record r=<Node element_id='4162809' labels=frozenset({'REVIEWS'}) properties={'date': '2007-05-11', 'score': '4.35', 'taste': '4.5', 'feel': '4.5', 'overall': '4.5', 'beer_id': '28203', 'text': '\\xa0\\xa0 16oz. can courtesy of JeffKrenner at DLD. Clear, true amber color. Large, light tan head. Creamy. Great lacing and OK legs. Earthy aroma with lots of pine, grapefruit and grass. Bit of honey to sweeten it. Grapefruit is initial taste. Nicely balanced overall. Crackery center. Great bitterness in aftertaste. Delicious. Medium body. Low to medium carbonation. Very refreshing. A great IPA. Well balanced and very easy to drink. Please distribute to MD!! It felt like my glass was empty way too soon after I started drinking. \\xa0', 'id': '3741724', 'smell': '4.0', 'look': '4.0'}>>,\n",
      " <Record r=<Node element_id='4165533' labels=frozenset({'REVIEWS'}) properties={'date': '2008-04-24', 'score': '3.8', 'taste': '3.5', 'feel': '4.0', 'overall': '4.0', 'beer_id': '6962', 'text': \"\\xa0\\xa0 22oz. bottle Clear, true gold in color. Large, just off white, bubbly head. Decent lacing, not much legs. Citrus aroma, pretty light though. Grapefruit, mainly. Grass. Touch of earthiness and some sweet/fruity stuff going on. Taste was much more bitter than sweet, grapefruit and grass. Not very balanced, but I am OK with that. Hint of herbal/medicinal taste, which, fortunately, didn't detract from the experience. Medium body. Medium to high carbonation. Pretty dry. Definately one for hopheads, as balance isn't really what this beer is about. A generous hop fix at a somewhat reasonable ABV. \\xa0\", 'id': '3744448', 'smell': '4.0', 'look': '4.0'}>>,\n",
      " <Record r=<Node element_id='4144822' labels=frozenset({'REVIEWS'}) properties={'date': '2006-11-06', 'score': '3.11', 'taste': '3.0', 'feel': '3.5', 'overall': '3.0', 'beer_id': '2011', 'text': '\\xa0\\xa0 On tap at the Hofbrau in Vegas, 11/4/06. Clear gold color, with a large white head. Smell was fairly mild, hops were light and floral and malt came across as a mild caramel. Taste was mainly malt, caramel again dominating. Hops came through as a nice balance. Light in body with medium carbonation. A bit drying, but just enough to keep you drinking it. Overall, not terribly impressed. Drinkable, but nothing I would seek out. \\xa0', 'id': '3723737', 'smell': '3.0', 'look': '4.0'}>>,\n",
      " <Record r=<Node element_id='4146814' labels=frozenset({'REVIEWS'}) properties={'date': '2011-05-04', 'score': '4.47', 'taste': '4.5', 'feel': '4.5', 'overall': '4.5', 'beer_id': '2013', 'text': \"\\xa0\\xa0 Appearance - cloudy pale orange-yellow with a creamy head that dissipates, but never dissappears. Smell - The smell is initially dominated by a strange yet very familiar smell; it's oddly savoury for a beer, but seems to belong. It's coriander! It's probably been in every Wit I've ever had, but never in such quantity. Orange peel, soft yeast smells, vanilla and malt mingle with the coriander in a very complex smell. Taste - Echoes the smell with a touch less coriander, more orange, and a lingering dry finish of vanilla, clove, and a soft lingering tingle from the carbnonation. This is a very different, and very tasty beer. \\xa0\", 'id': '3725729', 'smell': '4.5', 'look': '4.0'}>>,\n",
      " <Record r=<Node element_id='4147342' labels=frozenset({'REVIEWS'}) properties={'date': '2006-08-15', 'score': '2.8', 'taste': '2.5', 'feel': '3.0', 'overall': '3.0', 'beer_id': '2013', 'text': '\\xa0\\xa0 Poured a hazy pale gold, with lots of floaties. Large white head stuck around for a while. Aroma was sweet and spicy, some hops of the citrus variety were present. Taste was quite spicy and citrus-lemon, almost to the point of sour. There was a mild sweet taste in the middle, and a medium hop bite at the finish. I did not particularly care for the taste. Mouthfeel was a little slick (soapy?), fairly light, with medium carbonation and drying. It was an OK beer, fairly refreshing, but definately not to my taste. \\xa0', 'id': '3726257', 'smell': '3.0', 'look': '3.0'}>>,\n",
      " <Record r=<Node element_id='4139430' labels=frozenset({'REVIEWS'}) properties={'date': '2007-05-27', 'score': '2.73', 'taste': '3.0', 'feel': '2.5', 'overall': '2.5', 'beer_id': '2008', 'text': '\\xa0\\xa0 12oz. bottle Slightly hazy, golden color. Large, rocky, off-white head. Aroma was yeast and bread dough. Touch of toffee. Citrus - mild. Floral notes. Bitter more than sweet, herbal and grassy. Crackery middle. Toffee again, picks up as temp increases. Herbal and grassy at finish. Decent balance. Light to medium body. Low carbonation, needs more. Refreshing. OK, nothing special. As previously noted, could use more carbonation. \\xa0', 'id': '3718345', 'smell': '2.5', 'look': '3.0'}>>,\n",
      " <Record r=<Node element_id='4129257' labels=frozenset({'REVIEWS'}) properties={'date': '2007-10-08', 'score': '4.77', 'taste': '5.0', 'feel': '4.5', 'overall': '5.0', 'beer_id': '7401', 'text': \"\\xa0\\xa0 25oz. bottle Hazy, glowing, light orange. Large, rocky, white colored head. Decent lacing, not much legs. Smell was very fruity, pineapple, mango, other tropicals. Citrus and some spice, maybe clove. Hint of Belgian funkiness. Bit of banana. Taste was alcohol and other phenols, with clove coming through. More bitter than sweet, mainly citrus. Some sweetness in the middle, bubblegum/candi sugar. Herbal bitterness at the finish and in the aftertaste. Pepper. Medium body. Medium + carbonation, not overdone, makes it a bit creamy. Somewhat dry, but very refreshing. An excellent saison, certainly worthy of it's place in the top 100! Probably one of the best I've ever had. \\xa0\", 'id': '3708172', 'smell': '4.5', 'look': '4.0'}>>,\n",
      " <Record r=<Node element_id='4127762' labels=frozenset({'REVIEWS'}) properties={'date': '2011-12-28', 'score': '2.78', 'taste': '2.5', 'feel': '2.5', 'overall': '3.0', 'beer_id': '16190', 'text': \"\\xa0\\xa0 Bottle served in a duvel tulip A: Pale yellow with the faintest orange, fairly clear, 1 finger of white head, average carbonation. S: Sweet caramel, yeast, banana, a little butter?? Sweet bread, and a tiny medicinal note. T: Really sweet. Citrus notes, white bread, yeast, the faintest lemon in there too. M: This is going to sound weird, but it starts out crisp and finishes kind of buttery... It really annoys me. O: This beer is a little average, I definitely won't pay money for this again. \\xa0\", 'id': '3706677', 'smell': '3.0', 'look': '3.5'}>>,\n",
      " <Record r=<Node element_id='4120231' labels=frozenset({'REVIEWS'}) properties={'date': '2012-10-16', 'score': '3.0', 'taste': 'nan', 'feel': 'nan', 'overall': 'nan', 'beer_id': '29981', 'text': '\\xa0\\xa0 You had this beer. Write a review.', 'id': '3699146', 'smell': 'nan', 'look': 'nan'}>>,\n",
      " <Record r=<Node element_id='4121001' labels=frozenset({'REVIEWS'}) properties={'date': '2012-11-21', 'score': '3.0', 'taste': 'nan', 'feel': 'nan', 'overall': 'nan', 'beer_id': '1964', 'text': '\\xa0\\xa0 You had this beer. Write a review.', 'id': '3699916', 'smell': 'nan', 'look': 'nan'}>>,\n",
      " <Record r=<Node element_id='4103361' labels=frozenset({'REVIEWS'}) properties={'date': '2012-06-26', 'score': '1.0', 'taste': 'nan', 'feel': 'nan', 'overall': 'nan', 'beer_id': '1946', 'text': '\\xa0\\xa0 You had this beer. Write a review.', 'id': '3682276', 'smell': 'nan', 'look': 'nan'}>>,\n",
      " <Record r=<Node element_id='4075249' labels=frozenset({'REVIEWS'}) properties={'date': '2013-03-01', 'score': '2.0', 'taste': 'nan', 'feel': 'nan', 'overall': 'nan', 'beer_id': '2851', 'text': '\\xa0\\xa0 You had this beer. Write a review.', 'id': '3654164', 'smell': 'nan', 'look': 'nan'}>>,\n",
      " <Record r=<Node element_id='4055802' labels=frozenset({'REVIEWS'}) properties={'date': '2012-10-11', 'score': '5.0', 'taste': 'nan', 'feel': 'nan', 'overall': 'nan', 'beer_id': '1914', 'text': '\\xa0\\xa0 You had this beer. Write a review.', 'id': '3634717', 'smell': 'nan', 'look': 'nan'}>>,\n",
      " <Record r=<Node element_id='4056279' labels=frozenset({'REVIEWS'}) properties={'date': '2012-03-05', 'score': '4.5', 'taste': 'nan', 'feel': 'nan', 'overall': 'nan', 'beer_id': '1914', 'text': '\\xa0\\xa0 You had this beer. Write a review.', 'id': '3635194', 'smell': 'nan', 'look': 'nan'}>>,\n",
      " <Record r=<Node element_id='4058239' labels=frozenset({'REVIEWS'}) properties={'date': '2006-07-12', 'score': '3.26', 'taste': '3.5', 'feel': '3.0', 'overall': '3.0', 'beer_id': '1914', 'text': \"\\xa0\\xa0 Opened a 12 oz. bottle and poured a dark brown with red tints liquid. Head was modest and did not stick around long. Aroma was very earthy (fresh turned soil), mixed with malt sweetness (caramel) and some coffee. Taste was malt, bittersweet chocolate, and coffee. There was a good bit of hop bitterness at the finish and some pepper. I was not crazy about the mouthfeel, body was medium, and it was drying and seemed overly carbonated. I was surprised by the amount of warming I felt given an ABV of 5.5%. I felt that it was fairly drinkable, but not terribly thirst quenching. If I didn't know better, I would have thought this was a schwarzbier. \\xa0\", 'id': '3637154', 'smell': '3.0', 'look': '4.0'}>>,\n",
      " <Record r=<Node element_id='4051512' labels=frozenset({'REVIEWS'}) properties={'date': '2012-01-06', 'score': '3.82', 'taste': '4.0', 'feel': '4.0', 'overall': '4.0', 'beer_id': '2296', 'text': '\\xa0\\xa0 Guest tap at the Royal Oak Brewing Company. Medium-dark brown in colour with no head. Big malt flavours of chocolate and roasted grain with a hint of caramel. Spicy and herabl hops provide a balancing bitterness and counterpoint to the malt, but not a lot of hops flavour. Finished drier than one would expect. A nice pint. \\xa0', 'id': '3630427', 'smell': '3.5', 'look': '3.0'}>>,\n",
      " <Record r=<Node element_id='4050461' labels=frozenset({'REVIEWS'}) properties={'date': '2012-03-05', 'score': '4.5', 'taste': 'nan', 'feel': 'nan', 'overall': 'nan', 'beer_id': '1912', 'text': '\\xa0\\xa0 You had this beer. Write a review.', 'id': '3629376', 'smell': 'nan', 'look': 'nan'}>>,\n",
      " <Record r=<Node element_id='4038407' labels=frozenset({'REVIEWS'}) properties={'date': '2012-01-26', 'score': '2.5', 'taste': 'nan', 'feel': 'nan', 'overall': 'nan', 'beer_id': '1907', 'text': '\\xa0\\xa0 You had this beer. Write a review.', 'id': '3617322', 'smell': 'nan', 'look': 'nan'}>>,\n",
      " <Record r=<Node element_id='4031820' labels=frozenset({'REVIEWS'}) properties={'date': '2006-11-17', 'score': '3.71', 'taste': '3.5', 'feel': '4.0', 'overall': '4.0', 'beer_id': '1904', 'text': '\\xa0\\xa0 12oz. bottle Clear, dark gold in color. Medium off-white head. Quite hoppy, mostly pine. Backbone of caramel, yeast and bread. A bit of mint. Some earthy characteristics. Taste provided a nice hop flavor of grapefruit, which lingered well into the aftertaste. Bready/biscuity in the middle, with a bit of sweet caramel. ABV was very well hidden. Seemed fairly light and easy to drink. Carbonation was medium to high. A dry finish, which was mostly smooth, but a little bit grainy. Very good and highly drinkable. It can sneak up on you, because the ABV is so well integrated. Not sure why this is a seasonal winter warmer, since it is such a traditional IPA. \\xa0', 'id': '3610735', 'smell': '3.5', 'look': '4.5'}>>,\n",
      " <Record r=<Node element_id='4026433' labels=frozenset({'REVIEWS'}) properties={'date': '2014-02-28', 'score': '4.75', 'taste': 'nan', 'feel': 'nan', 'overall': 'nan', 'beer_id': '4318', 'text': '\\xa0\\xa0 You had this beer. Write a review.', 'id': '3605348', 'smell': 'nan', 'look': 'nan'}>>,\n",
      " <Record r=<Node element_id='4023746' labels=frozenset({'REVIEWS'}) properties={'date': '2012-01-06', 'score': '4.3', 'taste': '4.5', 'feel': '4.0', 'overall': '4.5', 'beer_id': '14706', 'text': \"\\xa0\\xa0 On cask at the Jolly Butcher's in north London. Very dark brown and ruby tinted with a solid, persistent cap of white froth. Full-bodied texture and an intense flavour profile similar to a barley wine. Big malt flavours of roasted barley, dark fruits, caramel, and licorice with a spicy dry finish. \\xa0\", 'id': '3602661', 'smell': '4.0', 'look': '4.0'}>>,\n",
      " <Record r=<Node element_id='4011951' labels=frozenset({'REVIEWS'}) properties={'date': '2012-05-07', 'score': '4.5', 'taste': 'nan', 'feel': 'nan', 'overall': 'nan', 'beer_id': '3085', 'text': '\\xa0\\xa0 You had this beer. Write a review.', 'id': '3590866', 'smell': 'nan', 'look': 'nan'}>>,\n",
      " <Record r=<Node element_id='3985623' labels=frozenset({'REVIEWS'}) properties={'date': '2012-12-23', 'score': '3.0', 'taste': 'nan', 'feel': 'nan', 'overall': 'nan', 'beer_id': '1881', 'text': '\\xa0\\xa0 You had this beer. Write a review.', 'id': '3564538', 'smell': 'nan', 'look': 'nan'}>>,\n",
      " <Record r=<Node element_id='3985600' labels=frozenset({'REVIEWS'}) properties={'date': '2012-12-27', 'score': '4.25', 'taste': 'nan', 'feel': 'nan', 'overall': 'nan', 'beer_id': '1881', 'text': '\\xa0\\xa0 You had this beer. Write a review.', 'id': '3564515', 'smell': 'nan', 'look': 'nan'}>>,\n",
      " <Record r=<Node element_id='3970004' labels=frozenset({'REVIEWS'}) properties={'date': '2012-06-10', 'score': '3.5', 'taste': 'nan', 'feel': 'nan', 'overall': 'nan', 'beer_id': '1862', 'text': '\\xa0\\xa0 You had this beer. Write a review.', 'id': '3548919', 'smell': 'nan', 'look': 'nan'}>>,\n",
      " <Record r=<Node element_id='3943696' labels=frozenset({'REVIEWS'}) properties={'date': '2012-03-27', 'score': '2.5', 'taste': 'nan', 'feel': 'nan', 'overall': 'nan', 'beer_id': '1837', 'text': '\\xa0\\xa0 You had this beer. Write a review.', 'id': '3522611', 'smell': 'nan', 'look': 'nan'}>>,\n",
      " <Record r=<Node element_id='3936318' labels=frozenset({'REVIEWS'}) properties={'date': '2012-10-30', 'score': '3.5', 'taste': 'nan', 'feel': 'nan', 'overall': 'nan', 'beer_id': '22505', 'text': '\\xa0\\xa0 You had this beer. Write a review.', 'id': '3515233', 'smell': 'nan', 'look': 'nan'}>>,\n",
      " <Record r=<Node element_id='3939691' labels=frozenset({'REVIEWS'}) properties={'date': '2006-12-19', 'score': '3.85', 'taste': '4.0', 'feel': '4.0', 'overall': '4.0', 'beer_id': '22505', 'text': \"\\xa0\\xa0 12oz. bottle. Hazy amber liquid. Large, light tan head. Quite rocky. Moderate lacing. Aroma was mainly citrus - lemon and grapefruit. Some grassy notes in there as well. A bit of honey if you really put your nose into it. After most of the glass, malt became more apparent, and the honey character picks up. A breadlike scent also comes out to play. Taste follows scent, and is quite hoppy. Citrus and grass are the players, and are much stronger in flavor than the scent would indicate. Malt is there, but hard to characterize. Definately not a starring role. Alcohol pops through occasionally, but is pretty mild. I felt that it could have been a bit better balanced. Medium bodied, with similar carbonation. Not very drying, but it does keep you sipping. Balanced, it's not, but if you like hops, get some of this. Very good. \\xa0\", 'id': '3518606', 'smell': '3.5', 'look': '3.5'}>>,\n",
      " <Record r=<Node element_id='3913767' labels=frozenset({'REVIEWS'}) properties={'date': '2006-11-06', 'score': '3.23', 'taste': '3.0', 'feel': '3.5', 'overall': '3.0', 'beer_id': '8116', 'text': '\\xa0\\xa0 On tap at Hofbrau in Vegas, 11/4/06. A decent looking beer. Clear, dark brown with some orange tint. Minimal head, what I could see was light tan. Aroma was all about the malt. Also picked up some caramel and dark fruits. No hops to be found. Spicy, though. Taste was similar to aroma, flavor was more like molasses (a bit) and raisins, in particular. I did pick up some hops, just as a bit of balance. Medium + in body, with light carbonation. Finish was quite sweet. Overall, an OK beer, but not something I would seek out again. \\xa0', 'id': '3492682', 'smell': '3.5', 'look': '4.0'}>>,\n",
      " <Record r=<Node element_id='3916560' labels=frozenset({'REVIEWS'}) properties={'date': '2007-05-09', 'score': '3.98', 'taste': '4.0', 'feel': '4.0', 'overall': '4.5', 'beer_id': '1808', 'text': '\\xa0\\xa0 12oz. bottle. Hazy, pale yellow in color. Large, creamy white head. Lot of carb. action going on. A recognizable Belgian aroma greets you upon lifting the glass. Coriander and other spices are present, along with a bit of citrus. Some floral notes are in there as well. Taste is sweet more than bitter, maybe watered down honey as the primary \"sweetner\". Nicely balanced though, and seems more hoppy than your average Belgian. Floral and grassy notes float around, covered in those spices you get in the nose. Just a bit of pepper at the finish. Very light in body. Medium + carbonation -- very peppy. Not too dry, and very refreshing. A great summer/session beer. Fairly complex flavor profile for that type of beer. Incredibly easy to drink. \\xa0', 'id': '3495475', 'smell': '3.5', 'look': '4.0'}>>,\n",
      " <Record r=<Node element_id='3910564' labels=frozenset({'REVIEWS'}) properties={'date': '2013-06-15', 'score': '4.0', 'taste': 'nan', 'feel': 'nan', 'overall': 'nan', 'beer_id': '16909', 'text': '\\xa0\\xa0 You had this beer. Write a review.', 'id': '3489479', 'smell': 'nan', 'look': 'nan'}>>,\n",
      " <Record r=<Node element_id='3907789' labels=frozenset({'REVIEWS'}) properties={'date': '2011-10-25', 'score': '3.48', 'taste': '3.5', 'feel': '3.0', 'overall': '3.5', 'beer_id': '57656', 'text': '\\xa0\\xa0 Appearance - Very clear, very pale yellow with a nice, long-lasting head. Good lacing. Smell - somewhat faint smell of wheat and citrus-floral hops with a touch of pineapple juice. Nothing \"off,\" but nothing that stands out. Mouthfeel - a tad overcarbonated for an almost abrasive texture. Taste - very faint wheat malt flavour and bitter hops with a faint hint of pineapple. \\xa0', 'id': '3486704', 'smell': '3.5', 'look': '4.0'}>>,\n",
      " <Record r=<Node element_id='3905798' labels=frozenset({'REVIEWS'}) properties={'date': '2007-11-20', 'score': '4.23', 'taste': '4.5', 'feel': '4.0', 'overall': '4.0', 'beer_id': '1792', 'text': \"\\xa0\\xa0 12oz bottle Clear, rich, copper color. Smallish, ivory head. Not much lacing, pretty good legs. Aromas included toffee and melon. Very sweet overall. Molasses, tea, pine & herbs. Strong malt backbone, but not what aroma leads you to expect. Something like Arrogant Bastard. Bitter more than sweet, but sweet taste starts to come up as the temperature increases. Fruits - figs, raisins, and cherries. Biscuity center. Tea flavors and some very mild roast notes. Bitterness (pine and grass) lingers nicely in finish and aftertaste. Medium to full in body. Coating. Medium + in carbonation, much more than expected -- not too much though. Dry. Yeah, I'll have another! Not really sure why it's taken me this long to have a first one....Really well balanced, very enjoyable beer! \\xa0\", 'id': '3484713', 'smell': '4.0', 'look': '4.5'}>>,\n",
      " <Record r=<Node element_id='3900075' labels=frozenset({'REVIEWS'}) properties={'date': '2012-03-27', 'score': '4.5', 'taste': 'nan', 'feel': 'nan', 'overall': 'nan', 'beer_id': '1790', 'text': '\\xa0\\xa0 You had this beer. Write a review.', 'id': '3478990', 'smell': 'nan', 'look': 'nan'}>>,\n",
      " <Record r=<Node element_id='3887891' labels=frozenset({'REVIEWS'}) properties={'date': '2007-03-05', 'score': '4.28', 'taste': '4.5', 'feel': '4.5', 'overall': '4.0', 'beer_id': '1769', 'text': '\\xa0\\xa0 22oz. bottle. My first smoked porter. 2005 Vintage Appears clear, very dark copper/brown. Almost opaque. Medium sized, light brown head. Smoke is primary aroma, actually cedar. This tones down as it warms. Molasses and caramel come out. A bit of plastic?? Not positive. Roast character, obviously. Taste follows aroma with respect to the smoke. Sweet is next impression, again cedar & molasses. Roast notes, and a bit of coffee at the finish. Some grassy/herbal bittering. Medium in body. Medium in carbonation. Drying from smoke & hops. Very smooth. Not an everyday beer in my opinion, but very good. I would certainly drink this again. Might try it with Mexican food. \\xa0', 'id': '3466806', 'smell': '4.0', 'look': '4.5'}>>,\n",
      " <Record r=<Node element_id='3876821' labels=frozenset({'REVIEWS'}) properties={'date': '2012-05-03', 'score': '5.0', 'taste': 'nan', 'feel': 'nan', 'overall': 'nan', 'beer_id': '32286', 'text': '\\xa0\\xa0 You had this beer. Write a review.', 'id': '3455736', 'smell': 'nan', 'look': 'nan'}>>,\n",
      " <Record r=<Node element_id='3867399' labels=frozenset({'REVIEWS'}) properties={'date': '2012-09-15', 'score': '4.0', 'taste': 'nan', 'feel': 'nan', 'overall': 'nan', 'beer_id': '1745', 'text': '\\xa0\\xa0 You had this beer. Write a review.', 'id': '3446314', 'smell': 'nan', 'look': 'nan'}>>,\n",
      " <Record r=<Node element_id='3865044' labels=frozenset({'REVIEWS'}) properties={'date': '2012-12-04', 'score': '3.0', 'taste': 'nan', 'feel': 'nan', 'overall': 'nan', 'beer_id': '4389', 'text': '\\xa0\\xa0 You had this beer. Write a review.', 'id': '3443959', 'smell': 'nan', 'look': 'nan'}>>,\n",
      " <Record r=<Node element_id='3857479' labels=frozenset({'REVIEWS'}) properties={'date': '2011-07-31', 'score': '4.45', 'taste': '4.5', 'feel': '4.0', 'overall': '4.5', 'beer_id': '38180', 'text': \"\\xa0\\xa0 Bomber dated 7/14/11, consumed 7/31/11. a-nice deep golden hue, good two finger head. Great lacing down the glass. Head retention is good. s-beautiful nose on this beer. The hops are there with some wood in the aroma. There is citrus and pine too. Slight amount of grapefruit, not too many fruit smells, but some. t-good hop taste with a refreshing finish. The beer has some decent bitterness to it, but it balanced out with some malts. Not as flowery on the taste, but there is some wood and tannic wang to the beer. A clean finish makes you want to take another sip of this beer. Fresh, and tasty. m-wish it had a little more sticky feel, but it is clean. Enjoyed. o-I am so happy this brewery came to Colorado. I bought a bomber because I did not know how I would like their regular IPA, but I love it. To me it's right there with Odell, Avery, and other great IPA's. Cannot wait to try Double Jack. \\xa0\", 'id': '3436394', 'smell': '4.5', 'look': '4.5'}>>,\n",
      " <Record r=<Node element_id='3836618' labels=frozenset({'REVIEWS'}) properties={'date': '2012-01-03', 'score': '4.0', 'taste': 'nan', 'feel': 'nan', 'overall': 'nan', 'beer_id': '1717', 'text': '\\xa0\\xa0 You had this beer. Write a review.', 'id': '3415533', 'smell': 'nan', 'look': 'nan'}>>,\n",
      " <Record r=<Node element_id='3835332' labels=frozenset({'REVIEWS'}) properties={'date': '2013-02-18', 'score': '4.75', 'taste': 'nan', 'feel': 'nan', 'overall': 'nan', 'beer_id': '85822', 'text': '\\xa0\\xa0 You had this beer. Write a review.', 'id': '3414247', 'smell': 'nan', 'look': 'nan'}>>,\n",
      " <Record r=<Node element_id='3839384' labels=frozenset({'REVIEWS'}) properties={'date': '2013-01-13', 'score': '1.0', 'taste': 'nan', 'feel': 'nan', 'overall': 'nan', 'beer_id': '1719', 'text': '\\xa0\\xa0 You had this beer. Write a review.', 'id': '3418299', 'smell': 'nan', 'look': 'nan'}>>,\n",
      " <Record r=<Node element_id='3813079' labels=frozenset({'REVIEWS'}) properties={'date': '2012-01-26', 'score': '4.0', 'taste': 'nan', 'feel': 'nan', 'overall': 'nan', 'beer_id': '1708', 'text': '\\xa0\\xa0 You had this beer. Write a review.', 'id': '3391994', 'smell': 'nan', 'look': 'nan'}>>,\n",
      " <Record r=<Node element_id='3811352' labels=frozenset({'REVIEWS'}) properties={'date': '2013-01-29', 'score': '4.75', 'taste': 'nan', 'feel': 'nan', 'overall': 'nan', 'beer_id': '1708', 'text': '\\xa0\\xa0 You had this beer. Write a review.', 'id': '3390267', 'smell': 'nan', 'look': 'nan'}>>,\n",
      " <Record r=<Node element_id='3811197' labels=frozenset({'REVIEWS'}) properties={'date': '2013-02-19', 'score': '4.75', 'taste': 'nan', 'feel': 'nan', 'overall': 'nan', 'beer_id': '1708', 'text': '\\xa0\\xa0 You had this beer. Write a review.', 'id': '3390112', 'smell': 'nan', 'look': 'nan'}>>,\n",
      " <Record r=<Node element_id='3812126' labels=frozenset({'REVIEWS'}) properties={'date': '2012-08-26', 'score': '4.75', 'taste': 'nan', 'feel': 'nan', 'overall': 'nan', 'beer_id': '1708', 'text': '\\xa0\\xa0 You had this beer. Write a review.', 'id': '3391041', 'smell': 'nan', 'look': 'nan'}>>,\n",
      " <Record r=<Node element_id='3763053' labels=frozenset({'REVIEWS'}) properties={'date': '2012-05-28', 'score': '4.25', 'taste': 'nan', 'feel': 'nan', 'overall': 'nan', 'beer_id': '53886', 'text': '\\xa0\\xa0 You had this beer. Write a review.', 'id': '3341968', 'smell': 'nan', 'look': 'nan'}>>,\n",
      " <Record r=<Node element_id='3735477' labels=frozenset({'REVIEWS'}) properties={'date': '2012-09-07', 'score': '3.5', 'taste': 'nan', 'feel': 'nan', 'overall': 'nan', 'beer_id': '36327', 'text': '\\xa0\\xa0 You had this beer. Write a review.', 'id': '3314392', 'smell': 'nan', 'look': 'nan'}>>,\n",
      " <Record r=<Node element_id='3724502' labels=frozenset({'REVIEWS'}) properties={'date': '2006-10-26', 'score': '3.95', 'taste': '4.0', 'feel': '3.5', 'overall': '4.0', 'beer_id': '1630', 'text': '\\xa0\\xa0 12oz. bottle. First experience with Geary Clear amber to copper color. Small tan head. Aroma was sweet, pears, peaches, caramel and maple syrup. Hint of floral hops. Some mint and just a whiff of alcohol. Taste has a nice hop bite, unexpected from aroma. Grassy and pine. Big, sweet malt middle - caramel. Almost like a highly hopped barleywine, but lighter. Some pear and raisin in the taste and a bit of pepper at the finish. Body was medium plus. Carbonation was high, and gave it a bit of zip. Texture in mouth was coating and finish was dry. Very good beer, looking forward to more of this as it gets colder. Not something I would think of drinking more than 2 or 3 at a time. \\xa0', 'id': '3303417', 'smell': '4.0', 'look': '4.0'}>>,\n",
      " <Record r=<Node element_id='3714930' labels=frozenset({'REVIEWS'}) properties={'date': '2012-02-27', 'score': '4.5', 'taste': 'nan', 'feel': 'nan', 'overall': 'nan', 'beer_id': '59151', 'text': '\\xa0\\xa0 You had this beer. Write a review.', 'id': '3293845', 'smell': 'nan', 'look': 'nan'}>>,\n",
      " <Record r=<Node element_id='3714228' labels=frozenset({'REVIEWS'}) properties={'date': '2012-12-03', 'score': '4.25', 'taste': 'nan', 'feel': 'nan', 'overall': 'nan', 'beer_id': '59151', 'text': '\\xa0\\xa0 You had this beer. Write a review.', 'id': '3293143', 'smell': 'nan', 'look': 'nan'}>>,\n",
      " <Record r=<Node element_id='3685055' labels=frozenset({'REVIEWS'}) properties={'date': '2012-04-08', 'score': '4.0', 'taste': 'nan', 'feel': 'nan', 'overall': 'nan', 'beer_id': '1587', 'text': '\\xa0\\xa0 You had this beer. Write a review.', 'id': '3263970', 'smell': 'nan', 'look': 'nan'}>>,\n",
      " <Record r=<Node element_id='3690292' labels=frozenset({'REVIEWS'}) properties={'date': '2006-11-30', 'score': '3.53', 'taste': '3.5', 'feel': '3.0', 'overall': '3.0', 'beer_id': '1591', 'text': '\\xa0\\xa0 12oz. bottle Crystal clear, dark mahogany color. Huge, rocky, light tan head. Smell was very Belgian like. Bananas, bubblegum and clove. Taste was a left turn from aroma. Coffee and roast character, faint, but initial impression. Moved to dark wheat bread, and very little in the way of sweet. Citrus hop finish, just a bit. Some pepper too. Surprisingly light for style. Carbonation was quite low. Seemed more drying than I would like and a bit acidic. Pretty easy to drink, and I liked the flavor. However, the mouthfeel holds this one back. Could get a bit annoying after a couple. \\xa0', 'id': '3269207', 'smell': '4.0', 'look': '4.5'}>>,\n",
      " <Record r=<Node element_id='3684666' labels=frozenset({'REVIEWS'}) properties={'date': '2012-08-29', 'score': '3.0', 'taste': 'nan', 'feel': 'nan', 'overall': 'nan', 'beer_id': '1587', 'text': '\\xa0\\xa0 You had this beer. Write a review.', 'id': '3263581', 'smell': 'nan', 'look': 'nan'}>>,\n",
      " <Record r=<Node element_id='3685216' labels=frozenset({'REVIEWS'}) properties={'date': '2012-02-28', 'score': '2.52', 'taste': '2.0', 'feel': '4.0', 'overall': '3.0', 'beer_id': '1587', 'text': \"\\xa0\\xa0 Poured from a bottle into a weizen glass. A: Golden, light, fairly transparent. The head is minimal. The carbonation gives an appearance of champagne with the color of apple juice. S: Sweet grape smell. T: Very strong muscat flavor. The saffron is lost in the beer. The honey flavor comes through in the end. It reminds me a dry wine. M: Very carbonated. Larger bubbles, it is not a smooth beer. Normally, this would disagree with me but it works well with the other senses. O: 3/5, although I do lean toward Tripels and IPAs. It was worth trying but not one of Dogfish Head's better beers. There is too much grape, giving a wine taste without a sweet finish. The carbonation was the most pleasant part of the glass. \\xa0\", 'id': '3264131', 'smell': '2.0', 'look': '4.0'}>>,\n",
      " <Record r=<Node element_id='3679724' labels=frozenset({'REVIEWS'}) properties={'date': '2006-12-22', 'score': '4.2', 'taste': '4.5', 'feel': '4.0', 'overall': '4.0', 'beer_id': '9365', 'text': '\\xa0\\xa0 22oz. bottle Wow - first overflow pour in a loooong time. Huge light tan head, very rocky. Beer itself is slightly hazy, orange/gold in color. Laced very well. Grapefruit hits you right off the bat. Maybe a bit of lemon and grass as well. A little later, you start to get some honey and caramel notes. Taste is, wait for it...., GRAPEFRUIT. Very dominant initially, and never left center stage, but you also start to get honey, caramel and biscuity notes as the beer picked up some temperature. Medium + in body and just a bit grainy in texture. Feels very appropriate for this beer. Huge carbonation, big zing in taste, perhaps a bit too much. Dry as it gets. This is my kind of IPA. No balance and no prisoners. A grapefruit/hop blast with just enough of a nod to the malt to provide some balance. There are a lot of DIPAs on the market that would be embarassed if compared to this beer. As a final note, the beer did become a bit more balanced towards the end, but whether that was a result of temperature or my palate being char-broiled is hard to say. \\xa0', 'id': '3258639', 'smell': '4.0', 'look': '4.0'}>>,\n",
      " <Record r=<Node element_id='3649663' labels=frozenset({'REVIEWS'}) properties={'date': '2012-07-03', 'score': '4.5', 'taste': 'nan', 'feel': 'nan', 'overall': 'nan', 'beer_id': '60846', 'text': '\\xa0\\xa0 You had this beer. Write a review.', 'id': '3228578', 'smell': 'nan', 'look': 'nan'}>>,\n",
      " <Record r=<Node element_id='3640157' labels=frozenset({'REVIEWS'}) properties={'date': '2012-09-13', 'score': '3.75', 'taste': 'nan', 'feel': 'nan', 'overall': 'nan', 'beer_id': '36056', 'text': '\\xa0\\xa0 You had this beer. Write a review.', 'id': '3219072', 'smell': 'nan', 'look': 'nan'}>>,\n",
      " <Record r=<Node element_id='3640311' labels=frozenset({'REVIEWS'}) properties={'date': '2012-11-10', 'score': '4.25', 'taste': 'nan', 'feel': 'nan', 'overall': 'nan', 'beer_id': '80794', 'text': '\\xa0\\xa0 You had this beer. Write a review.', 'id': '3219226', 'smell': 'nan', 'look': 'nan'}>>,\n",
      " <Record r=<Node element_id='3634473' labels=frozenset({'REVIEWS'}) properties={'date': '2007-02-27', 'score': '4.42', 'taste': '4.5', 'feel': '4.0', 'overall': '4.5', 'beer_id': '1558', 'text': \"22oz. bomber Hazy, burnt orange in color. Large, rocky, ivory head. Aroma was mainly grapefruit. Crackers, caramel and peaches showed flashes in a sea of grapefruit juice. A very hoppy beer! Grapefruit, grass and pine. Sweetness was a mix of bubblegum and sugared grapefruit. Wheat bread with honey. Touch of alcohol (less than expected from ABV). Other fruit flavors included orange and peach. Medium+ in body. Medium carbonation. Just a bit drying. Alcohol warming starts pretty quickly. An excellent DIPA. I had it a while ago and didn't remember how good it was. This one has about 1 year of age on it, and it's very hoppy. I am going to have to have to grab a fresh one on my next trip to Chicago.\", 'id': '3213388', 'smell': '4.5', 'look': '4.0'}>>,\n",
      " <Record r=<Node element_id='3623027' labels=frozenset({'REVIEWS'}) properties={'date': '2006-09-05', 'score': '3.68', 'taste': '3.5', 'feel': '4.0', 'overall': '4.0', 'beer_id': '1556', 'text': '16oz. bottle at Paradise Alley in Jacksonville Beach. Dark brown (almost to the point of being opaque), but clear at the edges. Minimal head. Best before date of 6/2005 on the bottle. I will learn to look at these things before drinking the beer.... Aroma was roasted malt and something slightly sweet. No hops to speak of. Taste was reflective of above, a very mild brown ale. A hard to define, light sweet taste (seaweed?). An equally mild hop finish. Medium in body and carbonation, very refreshing. Out of date or not, an enjoyable ale, but there are better ones out there.', 'id': '3201942', 'smell': '3.5', 'look': '4.0'}>>,\n",
      " <Record r=<Node element_id='3611832' labels=frozenset({'REVIEWS'}) properties={'date': '2012-09-20', 'score': '1.0', 'taste': 'nan', 'feel': 'nan', 'overall': 'nan', 'beer_id': '81199', 'text': 'You had this beer. Write a review.', 'id': '3190747', 'smell': 'nan', 'look': 'nan'}>>,\n",
      " <Record r=<Node element_id='3610281' labels=frozenset({'REVIEWS'}) properties={'date': '2012-10-18', 'score': '3.0', 'taste': 'nan', 'feel': 'nan', 'overall': 'nan', 'beer_id': '1543', 'text': 'You had this beer. Write a review.', 'id': '3189196', 'smell': 'nan', 'look': 'nan'}>>,\n",
      " <Record r=<Node element_id='3601002' labels=frozenset({'REVIEWS'}) properties={'date': '2012-09-15', 'score': '3.25', 'taste': 'nan', 'feel': 'nan', 'overall': 'nan', 'beer_id': '57252', 'text': 'You had this beer. Write a review.', 'id': '3179917', 'smell': 'nan', 'look': 'nan'}>>,\n",
      " <Record r=<Node element_id='3589663' labels=frozenset({'REVIEWS'}) properties={'date': '2013-01-13', 'score': '1.0', 'taste': 'nan', 'feel': 'nan', 'overall': 'nan', 'beer_id': '1524', 'text': 'You had this beer. Write a review.', 'id': '3168578', 'smell': 'nan', 'look': 'nan'}>>,\n",
      " <Record r=<Node element_id='3589610' labels=frozenset({'REVIEWS'}) properties={'date': '2013-02-20', 'score': '1.0', 'taste': 'nan', 'feel': 'nan', 'overall': 'nan', 'beer_id': '1524', 'text': 'You had this beer. Write a review.', 'id': '3168525', 'smell': 'nan', 'look': 'nan'}>>,\n",
      " <Record r=<Node element_id='3590167' labels=frozenset({'REVIEWS'}) properties={'date': '2012-01-15', 'score': '1.5', 'taste': 'nan', 'feel': 'nan', 'overall': 'nan', 'beer_id': '1524', 'text': 'You had this beer. Write a review.', 'id': '3169082', 'smell': 'nan', 'look': 'nan'}>>,\n",
      " <Record r=<Node element_id='3576278' labels=frozenset({'REVIEWS'}) properties={'date': '2012-01-14', 'score': '4.17', 'taste': '4.5', 'feel': '4.0', 'overall': '4.0', 'beer_id': '1505', 'text': 'On tap at, of all places, Detroit Metro Airport. It is hazy orange in colour with a long-lasting, creamy white head. The aroma is hops-dominated, with tons of citrus and pine moderated by rich caramel malt. The flavour is as hoppy as one would expect from the aroma, but not over the top. Pine and grapefruit dominate, but the bitterness is kept in check by the sweet caramel malt. Exceedingly hoppy in flavour, but not exceedingly bitter.', 'id': '3155193', 'smell': '4.0', 'look': '3.5'}>>,\n",
      " <Record r=<Node element_id='3574701' labels=frozenset({'REVIEWS'}) properties={'date': '2006-11-29', 'score': '2.44', 'taste': '2.0', 'feel': '3.0', 'overall': '2.5', 'beer_id': '1503', 'text': \"12oz. bottle Clear gold in color, medium sized white head. Not much aroma, seemed to be more malt than hops. Taste followed aroma. I prefer hoppier beers, and this one certainly wasn't. Cracker kind of taste characterized the malt character. Hops faintly pine. Left an aftertaste I really didn't like. Mouthfeel was light in body, with medium to high carbonation. Sweet/wet finish. Overall, I just don't like this beer. Lack of hops and an unpleasant aftertaste pretty much finished this off for me. I had tried it some time ago and didn't like it, then decided to give it another go. Unfortunately, first impression was accurate.\", 'id': '3153616', 'smell': '2.5', 'look': '4.0'}>>,\n",
      " <Record r=<Node element_id='3573752' labels=frozenset({'REVIEWS'}) properties={'date': '2007-09-05', 'score': '3.41', 'taste': '3.5', 'feel': '3.5', 'overall': '3.5', 'beer_id': '24887', 'text': \"On tap at OBBS Black, virtually opaque liquid, even when held up to light. Light brown, medium sized, creamy head. A good bit of lacing as I drank. Aroma showed coffee and roast notes, maybe a touch of citrus bitterness. Fairly mild. Taste was more bitter than sweet. Again, coffee and roast notes were the primary flavors. Finish was a mild citrus flavor. Medium body, seemed a bit thin. Medium to low carbonation. Actually, rather refreshing. Texture seemed just a bit gritty/husky, but this wasn't unpleasant, just something I noticed. Overall, a slightly heavier, more roasted version of the brown ale I tried. I think it would have been better if it had gone further down the path towards a heavier stout.\", 'id': '3152667', 'smell': '3.0', 'look': '4.0'}>>,\n",
      " <Record r=<Node element_id='3549343' labels=frozenset({'REVIEWS'}) properties={'date': '2012-09-07', 'score': '2.75', 'taste': 'nan', 'feel': 'nan', 'overall': 'nan', 'beer_id': '1484', 'text': 'You had this beer. Write a review.', 'id': '3128258', 'smell': 'nan', 'look': 'nan'}>>,\n",
      " <Record r=<Node element_id='3537578' labels=frozenset({'REVIEWS'}) properties={'date': '2011-05-11', 'score': '4.03', 'taste': '4.0', 'feel': '4.0', 'overall': '4.0', 'beer_id': '2703', 'text': 'Appearance - clear bright copper with two inches of frothy off-white head that leaves beautiful lacing all the way down the glass. Smell - very fruity malt character with a nice balance of floral hops. Taste - starts sweet and fruity, perfectly balanced in the middle between sweet malt and mildly bitter, earthy hops, and with a lingering herbal, earthy aftertaste.', 'id': '3116493', 'smell': '4.0', 'look': '4.5'}>>,\n",
      " <Record r=<Node element_id='3526423' labels=frozenset({'REVIEWS'}) properties={'date': '2012-03-26', 'score': '3.0', 'taste': 'nan', 'feel': 'nan', 'overall': 'nan', 'beer_id': '46849', 'text': 'You had this beer. Write a review.', 'id': '3105338', 'smell': 'nan', 'look': 'nan'}>>,\n",
      " <Record r=<Node element_id='3513526' labels=frozenset({'REVIEWS'}) properties={'date': '2012-11-07', 'score': '4.75', 'taste': 'nan', 'feel': 'nan', 'overall': 'nan', 'beer_id': '1446', 'text': 'You had this beer. Write a review.', 'id': '3092441', 'smell': 'nan', 'look': 'nan'}>>,\n",
      " <Record r=<Node element_id='3515151' labels=frozenset({'REVIEWS'}) properties={'date': '2006-11-30', 'score': '4.35', 'taste': '4.5', 'feel': '4.5', 'overall': '4.5', 'beer_id': '1446', 'text': \"12oz. bottle. Light brown in color with ruby highlights. Quite hazy. Large light brown head, which faded fast, but was easy to stir up again. Port like, vinous and raisiny greets the nose. Some caramel and toast, an earthy scent. Smelling it made me feel like I was square in the sights of a big-ass malt bomb. This is not entirely comfortable for a hop-head. And, bombs away....Sweet, molasses, bit of coffee, toast and roast notes. Alcohol faintly at first, then a bit more assertive. Raisins, back to yeast/bread and some port. Hops were there, but struggling to put in an appearance. Showed up just a bit in the middle and finish, provided a touch of balance to the overall sweetness. Screw the bomb, hops or not, I'll die happy. Body was heavy, you might say chewy. Low carbonation which seemed entirely appropriate. Not drying, except for a bit in the finish. More of a sweet/juicy type finish. Overall, quite wonderful. A hell of a winter warmer, just don't get too close to the fire. Had some characteristics of a Belgian Strong Dark Ale or a Quad. Happy to drink many more, just have to do it in multiple sittings. A session beer this ain't!\", 'id': '3094066', 'smell': '4.0', 'look': '4.0'}>>,\n",
      " <Record r=<Node element_id='3507318' labels=frozenset({'REVIEWS'}) properties={'date': '2009-03-26', 'score': '4.32', 'taste': '4.5', 'feel': '4.0', 'overall': '4.0', 'beer_id': '1444', 'text': 'Very dark in color, and pour resembles motor oil as many good stouts do. Hard pour created about 3 fingers worth of head in standard pint glass. Lacing is strong with every sip noticeable on my glass. Smell immediately reminds me of roasted coffee, with hints of raisins and chocolate. Taste is not a let down, as my nose is spot on with my tongue with a good amount of sweetness, and a wee bit of smokeyness that makes this stout an even easier drinker. As a hop-head I find myself more and more attracted to stouts as a night-cap as my palate continues to evolve, but my brain does not, as this beer has a shocking 10.5% ABV.', 'id': '3086233', 'smell': '4.5', 'look': '4.0'}>>,\n",
      " <Record r=<Node element_id='3495946' labels=frozenset({'REVIEWS'}) properties={'date': '2011-04-22', 'score': '3.42', 'taste': '3.5', 'feel': '3.0', 'overall': '3.5', 'beer_id': '49728', 'text': 'Appearance - Pours a pale sparkling straw colour with a thick white fluffy head. Aroma -Spicy hops with lemon, cider, and a bit of cork. Fruity and complex. Very clean and refreshing flavour with light citrus, honey, and a soft, creamy mouthfeel. Very drinkable.', 'id': '3074861', 'smell': '3.5', 'look': '3.0'}>>,\n",
      " <Record r=<Node element_id='3496401' labels=frozenset({'REVIEWS'}) properties={'date': '2013-02-18', 'score': '5.0', 'taste': 'nan', 'feel': 'nan', 'overall': 'nan', 'beer_id': '55914', 'text': 'You had this beer. Write a review.', 'id': '3075316', 'smell': 'nan', 'look': 'nan'}>>,\n",
      " <Record r=<Node element_id='3482949' labels=frozenset({'REVIEWS'}) properties={'date': '2013-01-13', 'score': '4.5', 'taste': 'nan', 'feel': 'nan', 'overall': 'nan', 'beer_id': '1421', 'text': 'You had this beer. Write a review.', 'id': '3061864', 'smell': 'nan', 'look': 'nan'}>>,\n",
      " <Record r=<Node element_id='3468050' labels=frozenset({'REVIEWS'}) properties={'date': '2014-01-23', 'score': '4.5', 'taste': 'nan', 'feel': 'nan', 'overall': 'nan', 'beer_id': '1402', 'text': 'You had this beer. Write a review.', 'id': '3046965', 'smell': 'nan', 'look': 'nan'}>>,\n",
      " <Record r=<Node element_id='3453689' labels=frozenset({'REVIEWS'}) properties={'date': '2012-02-27', 'score': '2.5', 'taste': 'nan', 'feel': 'nan', 'overall': 'nan', 'beer_id': '1390', 'text': 'You had this beer. Write a review.', 'id': '3032604', 'smell': 'nan', 'look': 'nan'}>>,\n",
      " <Record r=<Node element_id='3453745' labels=frozenset({'REVIEWS'}) properties={'date': '2012-01-15', 'score': '1.5', 'taste': 'nan', 'feel': 'nan', 'overall': 'nan', 'beer_id': '1390', 'text': 'You had this beer. Write a review.', 'id': '3032660', 'smell': 'nan', 'look': 'nan'}>>,\n",
      " <Record r=<Node element_id='3460068' labels=frozenset({'REVIEWS'}) properties={'date': '2012-06-06', 'score': '3.5', 'taste': 'nan', 'feel': 'nan', 'overall': 'nan', 'beer_id': '57695', 'text': 'You had this beer. Write a review.', 'id': '3038983', 'smell': 'nan', 'look': 'nan'}>>,\n",
      " <Record r=<Node element_id='3444740' labels=frozenset({'REVIEWS'}) properties={'date': '2013-01-01', 'score': '4.25', 'taste': 'nan', 'feel': 'nan', 'overall': 'nan', 'beer_id': '1385', 'text': 'You had this beer. Write a review.', 'id': '3023655', 'smell': 'nan', 'look': 'nan'}>>,\n",
      " <Record r=<Node element_id='3446261' labels=frozenset({'REVIEWS'}) properties={'date': '2012-01-15', 'score': '4.5', 'taste': 'nan', 'feel': 'nan', 'overall': 'nan', 'beer_id': '1385', 'text': 'You had this beer. Write a review.', 'id': '3025176', 'smell': 'nan', 'look': 'nan'}>>,\n",
      " <Record r=<Node element_id='3446387' labels=frozenset({'REVIEWS'}) properties={'date': '2011-12-28', 'score': '3.92', 'taste': '4.0', 'feel': '3.5', 'overall': '4.0', 'beer_id': '1385', 'text': \"330ml bottle into a duvel tulip A: Pale, hazy and golden with a large, soapy white pillow for a head (duvel tulip makes it that much bigger) and vigorous carbonation. S: Sweet yeast esters, banana and apple come to mind, a little alcohol comes through and the tiniest amount of earthy pepper in the background rounds it out. T: Banana! This beer reminds me a nice hefe with Belgian yeast. There is the slightest citric tartness in there, with some grass notes, coriander seeds and of course a little bit of that good ol' Belgian 'funk' (I'm pretty sure they brush their teeth with it over there). M: The carbonation really adds to this beers appeal, you can feel the tiny bubbles exploding with belgiany goodness on your palate. O: This beer (along with duvel) are the abc of Belgian Strong Pales. An absolute must try.\", 'id': '3025302', 'smell': '4.0', 'look': '3.5'}>>,\n",
      " <Record r=<Node element_id='3445762' labels=frozenset({'REVIEWS'}) properties={'date': '2012-05-03', 'score': '3.75', 'taste': 'nan', 'feel': 'nan', 'overall': 'nan', 'beer_id': '1385', 'text': 'You had this beer. Write a review.', 'id': '3024677', 'smell': 'nan', 'look': 'nan'}>>,\n",
      " <Record r=<Node element_id='3444893' labels=frozenset({'REVIEWS'}) properties={'date': '2012-11-09', 'score': '3.75', 'taste': 'nan', 'feel': 'nan', 'overall': 'nan', 'beer_id': '1385', 'text': 'You had this beer. Write a review.', 'id': '3023808', 'smell': 'nan', 'look': 'nan'}>>,\n",
      " <Record r=<Node element_id='3408906' labels=frozenset({'REVIEWS'}) properties={'date': '2006-11-07', 'score': '4.17', 'taste': '4.5', 'feel': '4.0', 'overall': '4.0', 'beer_id': '1370', 'text': \"22oz. bottle Hazy and dark yellow. Small off white head. Nice aroma, grapefruit and honey. Some bread/grain in there as well. A serious pale ale from a taste perspective. Great hop start which lingers into the aftertaste, mainly grapefruit. Malty middle, reminds me of sweet wheat bread. Very well balanced. Seems a bit grainy at finish, but doesn't detract. Medium in body with medium carbonation. Refreshing finish, only a bit dry. Again, the feel of huskiness/graininess. Overall, an excellent pale ale. Very close to an IPA, but very easy to drink. Wish it was easier for me to get.\", 'id': '2987821', 'smell': '4.0', 'look': '3.5'}>>,\n",
      " <Record r=<Node element_id='3396099' labels=frozenset({'REVIEWS'}) properties={'date': '2012-07-01', 'score': '2.75', 'taste': 'nan', 'feel': 'nan', 'overall': 'nan', 'beer_id': '1352', 'text': 'You had this beer. Write a review.', 'id': '2975014', 'smell': 'nan', 'look': 'nan'}>>,\n",
      " <Record r=<Node element_id='3396411' labels=frozenset({'REVIEWS'}) properties={'date': '2012-02-27', 'score': '4.0', 'taste': 'nan', 'feel': 'nan', 'overall': 'nan', 'beer_id': '1352', 'text': 'You had this beer. Write a review.', 'id': '2975326', 'smell': 'nan', 'look': 'nan'}>>,\n",
      " <Record r=<Node element_id='3388789' labels=frozenset({'REVIEWS'}) properties={'date': '2013-06-15', 'score': '3.5', 'taste': 'nan', 'feel': 'nan', 'overall': 'nan', 'beer_id': '1351', 'text': 'You had this beer. Write a review.', 'id': '2967704', 'smell': 'nan', 'look': 'nan'}>>,\n",
      " <Record r=<Node element_id='3389303' labels=frozenset({'REVIEWS'}) properties={'date': '2013-01-15', 'score': '3.25', 'taste': 'nan', 'feel': 'nan', 'overall': 'nan', 'beer_id': '1351', 'text': 'You had this beer. Write a review.', 'id': '2968218', 'smell': 'nan', 'look': 'nan'}>>,\n",
      " <Record r=<Node element_id='3381923' labels=frozenset({'REVIEWS'}) properties={'date': '2012-02-28', 'score': '4.5', 'taste': 'nan', 'feel': 'nan', 'overall': 'nan', 'beer_id': '57912', 'text': 'You had this beer. Write a review.', 'id': '2960838', 'smell': 'nan', 'look': 'nan'}>>,\n",
      " <Record r=<Node element_id='3377382' labels=frozenset({'REVIEWS'}) properties={'date': '2013-01-11', 'score': '4.75', 'taste': 'nan', 'feel': 'nan', 'overall': 'nan', 'beer_id': '86060', 'text': 'You had this beer. Write a review.', 'id': '2956297', 'smell': 'nan', 'look': 'nan'}>>,\n",
      " <Record r=<Node element_id='3365389' labels=frozenset({'REVIEWS'}) properties={'date': '2013-02-20', 'score': '1.0', 'taste': 'nan', 'feel': 'nan', 'overall': 'nan', 'beer_id': '1341', 'text': 'You had this beer. Write a review.', 'id': '2944304', 'smell': 'nan', 'look': 'nan'}>>,\n",
      " <Record r=<Node element_id='3369435' labels=frozenset({'REVIEWS'}) properties={'date': '2012-02-27', 'score': '3.0', 'taste': 'nan', 'feel': 'nan', 'overall': 'nan', 'beer_id': '1344', 'text': 'You had this beer. Write a review.', 'id': '2948350', 'smell': 'nan', 'look': 'nan'}>>,\n",
      " <Record r=<Node element_id='3365857' labels=frozenset({'REVIEWS'}) properties={'date': '2012-04-14', 'score': '1.0', 'taste': 'nan', 'feel': 'nan', 'overall': 'nan', 'beer_id': '1341', 'text': 'You had this beer. Write a review.', 'id': '2944772', 'smell': 'nan', 'look': 'nan'}>>,\n",
      " <Record r=<Node element_id='3365628' labels=frozenset({'REVIEWS'}) properties={'date': '2012-09-15', 'score': '4.0', 'taste': 'nan', 'feel': 'nan', 'overall': 'nan', 'beer_id': '1341', 'text': 'You had this beer. Write a review.', 'id': '2944543', 'smell': 'nan', 'look': 'nan'}>>,\n",
      " <Record r=<Node element_id='3365955' labels=frozenset({'REVIEWS'}) properties={'date': '2012-02-27', 'score': '3.0', 'taste': 'nan', 'feel': 'nan', 'overall': 'nan', 'beer_id': '1341', 'text': 'You had this beer. Write a review.', 'id': '2944870', 'smell': 'nan', 'look': 'nan'}>>,\n",
      " <Record r=<Node element_id='3344687' labels=frozenset({'REVIEWS'}) properties={'date': '2013-01-29', 'score': '2.0', 'taste': 'nan', 'feel': 'nan', 'overall': 'nan', 'beer_id': '1331', 'text': 'You had this beer. Write a review.', 'id': '2923602', 'smell': 'nan', 'look': 'nan'}>>,\n",
      " <Record r=<Node element_id='3345120' labels=frozenset({'REVIEWS'}) properties={'date': '2012-09-10', 'score': '3.0', 'taste': 'nan', 'feel': 'nan', 'overall': 'nan', 'beer_id': '1331', 'text': 'You had this beer. Write a review.', 'id': '2924035', 'smell': 'nan', 'look': 'nan'}>>,\n",
      " <Record r=<Node element_id='3344623' labels=frozenset({'REVIEWS'}) properties={'date': '2013-02-20', 'score': '2.5', 'taste': 'nan', 'feel': 'nan', 'overall': 'nan', 'beer_id': '1331', 'text': 'You had this beer. Write a review.', 'id': '2923538', 'smell': 'nan', 'look': 'nan'}>>,\n",
      " <Record r=<Node element_id='3345318' labels=frozenset({'REVIEWS'}) properties={'date': '2012-07-30', 'score': '3.5', 'taste': 'nan', 'feel': 'nan', 'overall': 'nan', 'beer_id': '1331', 'text': 'You had this beer. Write a review.', 'id': '2924233', 'smell': 'nan', 'look': 'nan'}>>,\n",
      " <Record r=<Node element_id='3343136' labels=frozenset({'REVIEWS'}) properties={'date': '2014-04-14', 'score': '4.75', 'taste': 'nan', 'feel': 'nan', 'overall': 'nan', 'beer_id': '1331', 'text': 'You had this beer. Write a review.', 'id': '2922051', 'smell': 'nan', 'look': 'nan'}>>,\n",
      " <Record r=<Node element_id='3346980' labels=frozenset({'REVIEWS'}) properties={'date': '2010-09-07', 'score': '2.18', 'taste': '2.0', 'feel': '1.5', 'overall': '3.0', 'beer_id': '1331', 'text': \"Blue collar water, this beer can be consumed warm or cold as it doesn't have much taste at either extreme. A cold one can be refreshing after a long day on the farm, a warm mug full can be choked down on a college night. Appearance: Same going in as it is coming out, A medium yellow color. Pours with a finger of head, leaves little lacing Smell: Smells of a frat party- cheap malts and mild hops Taste: Always goes down smooth, warm or cold Mouth feel: Similar to that of water Drinkability: The smooth flow of this american favorite gives it a 3. Overall this beer tends to be a forgotten favorite, an ol friend that should be revisited after a long hot day of work.\", 'id': '2925895', 'smell': '2.0', 'look': '2.5'}>>,\n",
      " <Record r=<Node element_id='3323665' labels=frozenset({'REVIEWS'}) properties={'date': '2012-02-27', 'score': '3.5', 'taste': 'nan', 'feel': 'nan', 'overall': 'nan', 'beer_id': '1320', 'text': 'You had this beer. Write a review.', 'id': '2902580', 'smell': 'nan', 'look': 'nan'}>>,\n",
      " <Record r=<Node element_id='3322770' labels=frozenset({'REVIEWS'}) properties={'date': '2012-11-10', 'score': '2.25', 'taste': 'nan', 'feel': 'nan', 'overall': 'nan', 'beer_id': '1320', 'text': 'You had this beer. Write a review.', 'id': '2901685', 'smell': 'nan', 'look': 'nan'}>>,\n",
      " <Record r=<Node element_id='3330761' labels=frozenset({'REVIEWS'}) properties={'date': '2012-11-11', 'score': '2.75', 'taste': 'nan', 'feel': 'nan', 'overall': 'nan', 'beer_id': '1323', 'text': 'You had this beer. Write a review.', 'id': '2909676', 'smell': 'nan', 'look': 'nan'}>>,\n",
      " <Record r=<Node element_id='3322293' labels=frozenset({'REVIEWS'}) properties={'date': '2013-03-03', 'score': '2.25', 'taste': 'nan', 'feel': 'nan', 'overall': 'nan', 'beer_id': '1320', 'text': 'You had this beer. Write a review.', 'id': '2901208', 'smell': 'nan', 'look': 'nan'}>>,\n",
      " <Record r=<Node element_id='3322909' labels=frozenset({'REVIEWS'}) properties={'date': '2012-09-10', 'score': '3.0', 'taste': 'nan', 'feel': 'nan', 'overall': 'nan', 'beer_id': '1320', 'text': 'You had this beer. Write a review.', 'id': '2901824', 'smell': 'nan', 'look': 'nan'}>>,\n",
      " <Record r=<Node element_id='3304144' labels=frozenset({'REVIEWS'}) properties={'date': '2012-10-15', 'score': '3.0', 'taste': 'nan', 'feel': 'nan', 'overall': 'nan', 'beer_id': '4831', 'text': 'You had this beer. Write a review.', 'id': '2883059', 'smell': 'nan', 'look': 'nan'}>>,\n",
      " <Record r=<Node element_id='3296377' labels=frozenset({'REVIEWS'}) properties={'date': '2012-02-27', 'score': '3.0', 'taste': 'nan', 'feel': 'nan', 'overall': 'nan', 'beer_id': '1299', 'text': 'You had this beer. Write a review.', 'id': '2875292', 'smell': 'nan', 'look': 'nan'}>>,\n",
      " <Record r=<Node element_id='3291047' labels=frozenset({'REVIEWS'}) properties={'date': '2012-03-27', 'score': '4.0', 'taste': 'nan', 'feel': 'nan', 'overall': 'nan', 'beer_id': '1295', 'text': 'You had this beer. Write a review.', 'id': '2869962', 'smell': 'nan', 'look': 'nan'}>>,\n",
      " <Record r=<Node element_id='3264681' labels=frozenset({'REVIEWS'}) properties={'date': '2012-02-27', 'score': '3.5', 'taste': 'nan', 'feel': 'nan', 'overall': 'nan', 'beer_id': '1276', 'text': 'You had this beer. Write a review.', 'id': '2843596', 'smell': 'nan', 'look': 'nan'}>>,\n",
      " <Record r=<Node element_id='3264140' labels=frozenset({'REVIEWS'}) properties={'date': '2012-12-01', 'score': '3.0', 'taste': 'nan', 'feel': 'nan', 'overall': 'nan', 'beer_id': '1276', 'text': 'You had this beer. Write a review.', 'id': '2843055', 'smell': 'nan', 'look': 'nan'}>>,\n",
      " <Record r=<Node element_id='3243494' labels=frozenset({'REVIEWS'}) properties={'date': '2012-04-14', 'score': '3.0', 'taste': 'nan', 'feel': 'nan', 'overall': 'nan', 'beer_id': '49044', 'text': 'You had this beer. Write a review.', 'id': '2822409', 'smell': 'nan', 'look': 'nan'}>>,\n",
      " <Record r=<Node element_id='3248101' labels=frozenset({'REVIEWS'}) properties={'date': '2012-04-28', 'score': '3.5', 'taste': 'nan', 'feel': 'nan', 'overall': 'nan', 'beer_id': '1256', 'text': 'You had this beer. Write a review.', 'id': '2827016', 'smell': 'nan', 'look': 'nan'}>>,\n",
      " <Record r=<Node element_id='3248728' labels=frozenset({'REVIEWS'}) properties={'date': '2009-07-24', 'score': '4.37', 'taste': '4.5', 'feel': '4.5', 'overall': '4.0', 'beer_id': '1256', 'text': \"bottle poured into glass, my buddy was always telling me about this because he knew i liked hefe's boy was he right, i love this stuff Appearance - pours a typical hefe with lingering head and respectable lacing Smell - complex and bananay Taste- delicious hefe style with noticeable banana flavour with other fruit and spices Mouthfeel - light a slippery, not too much carbonation Drinkability - like other hefes great on summer afternoons or something to have with your dessert\", 'id': '2827643', 'smell': '4.5', 'look': '4.0'}>>,\n",
      " <Record r=<Node element_id='3231134' labels=frozenset({'REVIEWS'}) properties={'date': '2014-03-14', 'score': '5.0', 'taste': 'nan', 'feel': 'nan', 'overall': 'nan', 'beer_id': '57259', 'text': 'You had this beer. Write a review.', 'id': '2810049', 'smell': 'nan', 'look': 'nan'}>>,\n",
      " <Record r=<Node element_id='3212979' labels=frozenset({'REVIEWS'}) properties={'date': '2012-04-29', 'score': '5.0', 'taste': 'nan', 'feel': 'nan', 'overall': 'nan', 'beer_id': '1212', 'text': 'You had this beer. Write a review.', 'id': '2791894', 'smell': 'nan', 'look': 'nan'}>>,\n",
      " <Record r=<Node element_id='3212272' labels=frozenset({'REVIEWS'}) properties={'date': '2012-09-10', 'score': '3.25', 'taste': 'nan', 'feel': 'nan', 'overall': 'nan', 'beer_id': '1212', 'text': 'You had this beer. Write a review.', 'id': '2791187', 'smell': 'nan', 'look': 'nan'}>>,\n",
      " <Record r=<Node element_id='3211188' labels=frozenset({'REVIEWS'}) properties={'date': '2013-01-13', 'score': '4.75', 'taste': 'nan', 'feel': 'nan', 'overall': 'nan', 'beer_id': '1212', 'text': 'You had this beer. Write a review.', 'id': '2790103', 'smell': 'nan', 'look': 'nan'}>>,\n",
      " <Record r=<Node element_id='3211634' labels=frozenset({'REVIEWS'}) properties={'date': '2012-11-25', 'score': '3.25', 'taste': 'nan', 'feel': 'nan', 'overall': 'nan', 'beer_id': '1212', 'text': 'You had this beer. Write a review.', 'id': '2790549', 'smell': 'nan', 'look': 'nan'}>>,\n",
      " <Record r=<Node element_id='3215721' labels=frozenset({'REVIEWS'}) properties={'date': '2012-11-21', 'score': '5.0', 'taste': 'nan', 'feel': 'nan', 'overall': 'nan', 'beer_id': '69316', 'text': 'You had this beer. Write a review.', 'id': '2794636', 'smell': 'nan', 'look': 'nan'}>>,\n",
      " <Record r=<Node element_id='3217746' labels=frozenset({'REVIEWS'}) properties={'date': '2012-12-16', 'score': '1.0', 'taste': 'nan', 'feel': 'nan', 'overall': 'nan', 'beer_id': '1213', 'text': 'You had this beer. Write a review.', 'id': '2796661', 'smell': 'nan', 'look': 'nan'}>>,\n",
      " <Record r=<Node element_id='3212257' labels=frozenset({'REVIEWS'}) properties={'date': '2012-09-15', 'score': '5.0', 'taste': 'nan', 'feel': 'nan', 'overall': 'nan', 'beer_id': '1212', 'text': 'You had this beer. Write a review.', 'id': '2791172', 'smell': 'nan', 'look': 'nan'}>>,\n",
      " <Record r=<Node element_id='3202829' labels=frozenset({'REVIEWS'}) properties={'date': '2008-02-18', 'score': '3.88', 'taste': '4.0', 'feel': '4.0', 'overall': '4.0', 'beer_id': '14954', 'text': 'On tap at Town Hall in Minnesota, 1/15/08. Clear, copper color. Light tan head. Legs, but no lacing. Aroma was sweet, reminded me of vanilla and bourbon. Taste was a malt bomb (excuse me, wheat). Much more sweet than bitter. Vanilla, raisins, bourbon notes. Herbal bitterness at finish in an effort to balance. Low carbonation. Full body. Sweet. Very nice change up, more like a port than a beer. I had a 6oz. serving, and that was just right.', 'id': '2781744', 'smell': '3.5', 'look': '4.0'}>>,\n",
      " <Record r=<Node element_id='3199920' labels=frozenset({'REVIEWS'}) properties={'date': '2012-01-30', 'score': '3.92', 'taste': '4.0', 'feel': '3.5', 'overall': '4.0', 'beer_id': '74540', 'text': '330ml bottle poured into a Mikkeller glass Clear pale golden with crisp, oily bright white head. A little lacing. Delicious nose. Fresh cut grass, pineapple, mandarin, apple peel. Funky wet hay aswell. Malty sweetness upfront, vibrant barnyard straw. Then the hops take the flavour to a nice bitter interlude before a nice long peppery finish. Mouthfeel is well constructed-thin and over-carbonated. I would have prefered a slightly dryer finish. So cool to see some Australian brewers collaborating abroad. A really nicely balanced brew.', 'id': '2778835', 'smell': '4.0', 'look': '3.5'}>>,\n",
      " <Record r=<Node element_id='3184750' labels=frozenset({'REVIEWS'}) properties={'date': '2012-02-27', 'score': '2.0', 'taste': 'nan', 'feel': 'nan', 'overall': 'nan', 'beer_id': '1207', 'text': 'You had this beer. Write a review.', 'id': '2763665', 'smell': 'nan', 'look': 'nan'}>>,\n",
      " <Record r=<Node element_id='3181085' labels=frozenset({'REVIEWS'}) properties={'date': '2012-02-27', 'score': '2.0', 'taste': 'nan', 'feel': 'nan', 'overall': 'nan', 'beer_id': '1183', 'text': 'You had this beer. Write a review.', 'id': '2760000', 'smell': 'nan', 'look': 'nan'}>>,\n",
      " <Record r=<Node element_id='3179065' labels=frozenset({'REVIEWS'}) properties={'date': '2012-04-08', 'score': '3.75', 'taste': 'nan', 'feel': 'nan', 'overall': 'nan', 'beer_id': '1180', 'text': 'You had this beer. Write a review.', 'id': '2757980', 'smell': 'nan', 'look': 'nan'}>>,\n",
      " <Record r=<Node element_id='3178232' labels=frozenset({'REVIEWS'}) properties={'date': '2012-09-29', 'score': '4.0', 'taste': 'nan', 'feel': 'nan', 'overall': 'nan', 'beer_id': '1180', 'text': 'You had this beer. Write a review.', 'id': '2757147', 'smell': 'nan', 'look': 'nan'}>>,\n",
      " <Record r=<Node element_id='3180998' labels=frozenset({'REVIEWS'}) properties={'date': '2010-05-20', 'score': '3.54', 'taste': '4.0', 'feel': '3.5', 'overall': '3.0', 'beer_id': '1180', 'text': \"Poured this into a wine glass to have with dinner. Almost no head, with some fome around the edges of the glass. Very thick. Smells like sweet strawberries and watermelon. The fruit hides the alcohol very well. Tastes like grape, lemon zest, strawberries and plum. This is very sweet, but the sugar is backed up by rich flavors. Mouthfeel and drinkability are OK. I don't think I would enjoy this as much by itself. However, this was a perfect compliment to peanut sauce and curry.\", 'id': '2759913', 'smell': '3.5', 'look': '2.5'}>>,\n",
      " <Record r=<Node element_id='3179077' labels=frozenset({'REVIEWS'}) properties={'date': '2012-04-04', 'score': '5.0', 'taste': 'nan', 'feel': 'nan', 'overall': 'nan', 'beer_id': '1180', 'text': 'You had this beer. Write a review.', 'id': '2757992', 'smell': 'nan', 'look': 'nan'}>>,\n",
      " <Record r=<Node element_id='3176058' labels=frozenset({'REVIEWS'}) properties={'date': '2006-11-06', 'score': '3.73', 'taste': '4.0', 'feel': '3.5', 'overall': '3.5', 'beer_id': '31613', 'text': \"On tap at Papago in Phoenix, 11/1/06. Pretty much opaque, ruby/brown around edges when held up against light. Small light brown head. Legs aplenty when swirled. Aroma pretty mild, but smoke in bar was making it hard to get a good whiff. What I could pick up was port like, mainly raisins, some spices and alcohol. Taste was confusing at first, had I gotten a stout or a barleywine? Turns out, neither, but I didn't know that at the time. Roast flavors combined with a dark fruit, port like sweetness. Raisins again. Alcohol was evident, but worked well overall. Hops were pretty mild, a little bite at the finish along with some pepper. Very complex. Very full bodied, with what seemed like medium + carbonation. Chewy and slick. If flawed, it would be that the carbonation seemed a bit high for the style. Overall, quite a ride. I would happily drink again, but I think there are better barleywines/strong ales out there such as Old Ruffian and Arrogant Bastard.\", 'id': '2754973', 'smell': '3.5', 'look': '4.0'}>>,\n",
      " <Record r=<Node element_id='3164901' labels=frozenset({'REVIEWS'}) properties={'date': '2012-11-21', 'score': '5.0', 'taste': 'nan', 'feel': 'nan', 'overall': 'nan', 'beer_id': '46562', 'text': 'You had this beer. Write a review.', 'id': '2743816', 'smell': 'nan', 'look': 'nan'}>>,\n",
      " <Record r=<Node element_id='3142615' labels=frozenset({'REVIEWS'}) properties={'date': '2006-11-06', 'score': '4.75', 'taste': '5.0', 'feel': '5.0', 'overall': '4.5', 'beer_id': '1160', 'text': \"22oz. bomber, 2006 version. Purchased from Lee's Discount Liquors in Vegas. Poured an opaque, viscous liquid. Looked like motor oil after about 100,000 miles. Small brown head which faded rather quickly. Nice legs after a swirl. Aroma was raisins & plums, faint herbal hops, licorice and a little whiff of alcohol. Taste was roasted grain, coffee, dark chocolate. Hop bitterness at the finish was complimented by a lingering coffee taste. A bit sweet to begin with, more of what started in the aroma - raisins and plums. Alcohol was there, but quite well hidden. Body was thick and chewy, with very low carbonation. Sweetish finish, but it was also a little drying, if that makes any sense. Overall, my review cannot do this beer justice. Very complex and incredible. I look forward to my next one. I strongly encourage a slow drink, because the flavor profile changes quite a bit across the temperature spectrum.\", 'id': '2721530', 'smell': '4.5', 'look': '4.5'}>>,\n",
      " <Record r=<Node element_id='3147020' labels=frozenset({'REVIEWS'}) properties={'date': '2012-11-23', 'score': '4.25', 'taste': 'nan', 'feel': 'nan', 'overall': 'nan', 'beer_id': '1161', 'text': 'You had this beer. Write a review.', 'id': '2725935', 'smell': 'nan', 'look': 'nan'}>>,\n",
      " <Record r=<Node element_id='3124090' labels=frozenset({'REVIEWS'}) properties={'date': '2012-04-14', 'score': '3.25', 'taste': 'nan', 'feel': 'nan', 'overall': 'nan', 'beer_id': '1158', 'text': 'You had this beer. Write a review.', 'id': '2703005', 'smell': 'nan', 'look': 'nan'}>>,\n",
      " <Record r=<Node element_id='3113500' labels=frozenset({'REVIEWS'}) properties={'date': '2012-04-08', 'score': '3.5', 'taste': 'nan', 'feel': 'nan', 'overall': 'nan', 'beer_id': '1153', 'text': 'You had this beer. Write a review.', 'id': '2692415', 'smell': 'nan', 'look': 'nan'}>>,\n",
      " <Record r=<Node element_id='3101868' labels=frozenset({'REVIEWS'}) properties={'date': '2007-05-29', 'score': '3.65', 'taste': '3.5', 'feel': '4.0', 'overall': '4.0', 'beer_id': '33806', 'text': '12oz. bottle Poured a slightly hazy, orange gold color. Topped with a medium sized, creamy, off-white head. Malty and sweet hit the nose. Fruity -grapes. Caramel. Slight medicinal/herbal scent. Sweet, but decent bittering to offset. Raisiny. Honeyed wheat bread. Herbal notes. Grassy bitterness at finish. Medium + body. Medium carbonation. Refreshing. A nice strong ale. Enjoyable sipper. Good dessert.', 'id': '2680783', 'smell': '3.5', 'look': '3.5'}>>,\n",
      " <Record r=<Node element_id='3091979' labels=frozenset({'REVIEWS'}) properties={'date': '2013-01-15', 'score': '4.0', 'taste': 'nan', 'feel': 'nan', 'overall': 'nan', 'beer_id': '1119', 'text': 'You had this beer. Write a review.', 'id': '2670894', 'smell': 'nan', 'look': 'nan'}>>,\n",
      " <Record r=<Node element_id='3093647' labels=frozenset({'REVIEWS'}) properties={'date': '2007-04-30', 'score': '3.48', 'taste': '3.5', 'feel': '3.0', 'overall': '3.5', 'beer_id': '22648', 'text': \"Fells Point Location Deep, dark mahogany in color. Large, light brown head. Looks a lot like their Bad Moon Porter. Smell is mainly roast notes, with just a bit of sweet. Chocolate and coffee. Taste is similar to aroma - roast notes and coffee. More bitter than sweet. Herbal and grassy at finish. Light to medium in body. Medium carbonation. A bit thin, but not overly so for style. Fairly dry. Overall, not the best dry stout I've ever had, but fairly solid.\", 'id': '2672562', 'smell': '3.5', 'look': '4.0'}>>,\n",
      " <Record r=<Node element_id='3084762' labels=frozenset({'REVIEWS'}) properties={'date': '2013-01-12', 'score': '4.0', 'taste': 'nan', 'feel': 'nan', 'overall': 'nan', 'beer_id': '1118', 'text': 'You had this beer. Write a review.', 'id': '2663677', 'smell': 'nan', 'look': 'nan'}>>,\n",
      " <Record r=<Node element_id='3085187' labels=frozenset({'REVIEWS'}) properties={'date': '2012-09-11', 'score': '4.0', 'taste': 'nan', 'feel': 'nan', 'overall': 'nan', 'beer_id': '1118', 'text': 'You had this beer. Write a review.', 'id': '2664102', 'smell': 'nan', 'look': 'nan'}>>,\n",
      " <Record r=<Node element_id='3073472' labels=frozenset({'REVIEWS'}) properties={'date': '2013-01-14', 'score': '3.5', 'taste': 'nan', 'feel': 'nan', 'overall': 'nan', 'beer_id': '1963', 'text': 'You had this beer. Write a review.', 'id': '2652387', 'smell': 'nan', 'look': 'nan'}>>,\n",
      " <Record r=<Node element_id='3064979' labels=frozenset({'REVIEWS'}) properties={'date': '2012-03-06', 'score': '4.5', 'taste': 'nan', 'feel': 'nan', 'overall': 'nan', 'beer_id': '36163', 'text': 'You had this beer. Write a review.', 'id': '2643894', 'smell': 'nan', 'look': 'nan'}>>,\n",
      " <Record r=<Node element_id='3059180' labels=frozenset({'REVIEWS'}) properties={'date': '2011-11-24', 'score': '4.0', 'taste': 'nan', 'feel': 'nan', 'overall': 'nan', 'beer_id': '1094', 'text': 'You had this beer. Write a review.', 'id': '2638095', 'smell': 'nan', 'look': 'nan'}>>,\n",
      " <Record r=<Node element_id='3058114' labels=frozenset({'REVIEWS'}) properties={'date': '2012-09-05', 'score': '4.25', 'taste': 'nan', 'feel': 'nan', 'overall': 'nan', 'beer_id': '1094', 'text': 'You had this beer. Write a review.', 'id': '2637029', 'smell': 'nan', 'look': 'nan'}>>,\n",
      " <Record r=<Node element_id='3058099' labels=frozenset({'REVIEWS'}) properties={'date': '2012-09-11', 'score': '3.5', 'taste': 'nan', 'feel': 'nan', 'overall': 'nan', 'beer_id': '1094', 'text': 'You had this beer. Write a review.', 'id': '2637014', 'smell': 'nan', 'look': 'nan'}>>,\n",
      " <Record r=<Node element_id='3048628' labels=frozenset({'REVIEWS'}) properties={'date': '2011-08-22', 'score': '3.92', 'taste': '4.0', 'feel': '3.5', 'overall': '4.0', 'beer_id': '1093', 'text': 'Very pale for an IPA, almost yellow, with a thin but persistent head. The aroma is pure floral and citrus hops with a touch of fruit. The flavour is all hops as well, more floral and citrus, not resinous or overly bitter, with the slightest hint of caramel malt. No trace of the high ABV is detectable.', 'id': '2627543', 'smell': '4.0', 'look': '3.5'}>>,\n",
      " <Record r=<Node element_id='3041645' labels=frozenset({'REVIEWS'}) properties={'date': '2014-02-11', 'score': '4.5', 'taste': 'nan', 'feel': 'nan', 'overall': 'nan', 'beer_id': '1093', 'text': 'You had this beer. Write a review.', 'id': '2620560', 'smell': 'nan', 'look': 'nan'}>>,\n",
      " <Record r=<Node element_id='3051021' labels=frozenset({'REVIEWS'}) properties={'date': '2012-11-21', 'score': '3.25', 'taste': 'nan', 'feel': 'nan', 'overall': 'nan', 'beer_id': '2782', 'text': 'You had this beer. Write a review.', 'id': '2629936', 'smell': 'nan', 'look': 'nan'}>>,\n",
      " <Record r=<Node element_id='3044744' labels=frozenset({'REVIEWS'}) properties={'date': '2013-02-26', 'score': '4.5', 'taste': 'nan', 'feel': 'nan', 'overall': 'nan', 'beer_id': '1093', 'text': 'You had this beer. Write a review.', 'id': '2623659', 'smell': 'nan', 'look': 'nan'}>>,\n",
      " <Record r=<Node element_id='3045911' labels=frozenset({'REVIEWS'}) properties={'date': '2012-09-17', 'score': '5.0', 'taste': 'nan', 'feel': 'nan', 'overall': 'nan', 'beer_id': '1093', 'text': 'You had this beer. Write a review.', 'id': '2624826', 'smell': 'nan', 'look': 'nan'}>>,\n",
      " <Record r=<Node element_id='3045942' labels=frozenset({'REVIEWS'}) properties={'date': '2012-09-11', 'score': '4.25', 'taste': 'nan', 'feel': 'nan', 'overall': 'nan', 'beer_id': '1093', 'text': 'You had this beer. Write a review.', 'id': '2624857', 'smell': 'nan', 'look': 'nan'}>>,\n",
      " <Record r=<Node element_id='3044881' labels=frozenset({'REVIEWS'}) properties={'date': '2013-02-10', 'score': '4.0', 'taste': 'nan', 'feel': 'nan', 'overall': 'nan', 'beer_id': '1093', 'text': 'You had this beer. Write a review.', 'id': '2623796', 'smell': 'nan', 'look': 'nan'}>>,\n",
      " <Record r=<Node element_id='3036943' labels=frozenset({'REVIEWS'}) properties={'date': '2011-09-11', 'score': '3.85', 'taste': 'nan', 'feel': 'nan', 'overall': 'nan', 'beer_id': '71707', 'text': \"On tap at Gambrinus in London, Ontario. Appearance - hazy orange with a thin, but persistent head. Leaves great sheets of lacing as it recedes. Smell - A little bit of caramel and some fruity hops. Not the typical citrus and floral of most IPAs, but those aren't characteristsics of Pacific Gem hops. Overall the aroma is nice, but not as intense as I like to see in an IPA. Taste - Deep toffee malt sweetness and berry-like hops fruitiness withy a nice bracing bitterness throughout. Finishes a little on the sweet side with a pleasantly lingering bitter aftertaste. Overall, this a a very good IPA. The Pacific Gem hops are different and very good.\", 'id': '2615858', 'smell': 'nan', 'look': 'nan'}>>,\n",
      " <Record r=<Node element_id='3033359' labels=frozenset({'REVIEWS'}) properties={'date': '2011-06-02', 'score': '3.88', 'taste': '4.0', 'feel': '4.0', 'overall': '4.0', 'beer_id': '24884', 'text': 'Appearance - Hazy orange-copper with a cm of frothy head that lingers. Smell – Nice resinous pine smell with a nice dose of grapefruit, a touch of honey. Taste – resinous and bitter hops with a rich, malty backdrop. Pine, honey and malt. Full-flavoured, but very drinkable for an IIPA.', 'id': '2612274', 'smell': '3.5', 'look': '4.0'}>>,\n",
      " <Record r=<Node element_id='3040450' labels=frozenset({'REVIEWS'}) properties={'date': '2014-05-08', 'score': '5.0', 'taste': 'nan', 'feel': 'nan', 'overall': 'nan', 'beer_id': '1093', 'text': 'You had this beer. Write a review.', 'id': '2619365', 'smell': 'nan', 'look': 'nan'}>>,\n",
      " <Record r=<Node element_id='3028698' labels=frozenset({'REVIEWS'}) properties={'date': '2013-01-14', 'score': '4.0', 'taste': 'nan', 'feel': 'nan', 'overall': 'nan', 'beer_id': '28593', 'text': 'You had this beer. Write a review.', 'id': '2607613', 'smell': 'nan', 'look': 'nan'}>>,\n",
      " <Record r=<Node element_id='3022930' labels=frozenset({'REVIEWS'}) properties={'date': '2013-02-20', 'score': '2.75', 'taste': 'nan', 'feel': 'nan', 'overall': 'nan', 'beer_id': '39908', 'text': 'You had this beer. Write a review.', 'id': '2601845', 'smell': 'nan', 'look': 'nan'}>>,\n",
      " <Record r=<Node element_id='3017731' labels=frozenset({'REVIEWS'}) properties={'date': '2012-02-27', 'score': '3.5', 'taste': 'nan', 'feel': 'nan', 'overall': 'nan', 'beer_id': '1071', 'text': 'You had this beer. Write a review.', 'id': '2596646', 'smell': 'nan', 'look': 'nan'}>>,\n",
      " <Record r=<Node element_id='3014850' labels=frozenset({'REVIEWS'}) properties={'date': '2012-12-02', 'score': '3.75', 'taste': 'nan', 'feel': 'nan', 'overall': 'nan', 'beer_id': '1068', 'text': 'You had this beer. Write a review.', 'id': '2593765', 'smell': 'nan', 'look': 'nan'}>>,\n",
      " <Record r=<Node element_id='3002198' labels=frozenset({'REVIEWS'}) properties={'date': '2012-12-30', 'score': '4.5', 'taste': 'nan', 'feel': 'nan', 'overall': 'nan', 'beer_id': '1056', 'text': 'You had this beer. Write a review.', 'id': '2581113', 'smell': 'nan', 'look': 'nan'}>>,\n",
      " <Record r=<Node element_id='3002162' labels=frozenset({'REVIEWS'}) properties={'date': '2013-01-06', 'score': '4.75', 'taste': 'nan', 'feel': 'nan', 'overall': 'nan', 'beer_id': '1056', 'text': 'You had this beer. Write a review.', 'id': '2581077', 'smell': 'nan', 'look': 'nan'}>>,\n",
      " <Record r=<Node element_id='3002124' labels=frozenset({'REVIEWS'}) properties={'date': '2012-12-04', 'score': '4.0', 'taste': 'nan', 'feel': 'nan', 'overall': 'nan', 'beer_id': '1056', 'text': 'You had this beer. Write a review.', 'id': '2581039', 'smell': 'nan', 'look': 'nan'}>>,\n",
      " <Record r=<Node element_id='2995268' labels=frozenset({'REVIEWS'}) properties={'date': '2012-12-27', 'score': '5.0', 'taste': 'nan', 'feel': 'nan', 'overall': 'nan', 'beer_id': '1054', 'text': 'You had this beer. Write a review.', 'id': '2574183', 'smell': 'nan', 'look': 'nan'}>>,\n",
      " <Record r=<Node element_id='2995884' labels=frozenset({'REVIEWS'}) properties={'date': '2012-03-05', 'score': '4.5', 'taste': 'nan', 'feel': 'nan', 'overall': 'nan', 'beer_id': '1054', 'text': 'You had this beer. Write a review.', 'id': '2574799', 'smell': 'nan', 'look': 'nan'}>>,\n",
      " <Record r=<Node element_id='2989265' labels=frozenset({'REVIEWS'}) properties={'date': '2013-01-19', 'score': '4.0', 'taste': 'nan', 'feel': 'nan', 'overall': 'nan', 'beer_id': '51019', 'text': 'You had this beer. Write a review.', 'id': '2568180', 'smell': 'nan', 'look': 'nan'}>>,\n",
      " <Record r=<Node element_id='2972527' labels=frozenset({'REVIEWS'}) properties={'date': '2013-03-02', 'score': '5.0', 'taste': 'nan', 'feel': 'nan', 'overall': 'nan', 'beer_id': '60992', 'text': 'You had this beer. Write a review.', 'id': '2551442', 'smell': 'nan', 'look': 'nan'}>>,\n",
      " <Record r=<Node element_id='2973728' labels=frozenset({'REVIEWS'}) properties={'date': '2011-11-03', 'score': '3.53', 'taste': '3.5', 'feel': '3.5', 'overall': '3.5', 'beer_id': '1944', 'text': \"This beer is a very light golden colour with visible fine carbonation bubbles and a thin but persistent froth. Its aromas are of grain, grass, and a touch of fruit. Overall a very clean aroma. It's light bodied and well-carbonated with flavours of lemonbread, grain, and apple, with very slight bitterness and a hint of spicy hops. A very clean and easy drinking beer. Exactly what one would expect of the style.\", 'id': '2552643', 'smell': '3.5', 'look': '4.0'}>>,\n",
      " <Record r=<Node element_id='2961963' labels=frozenset({'REVIEWS'}) properties={'date': '2012-02-02', 'score': '3.8', 'taste': '3.5', 'feel': '4.0', 'overall': '4.0', 'beer_id': '1013', 'text': \"12oz poured in to a chimay glass Deep black and oily with a thick fluffy 2cm dark brown head. Nice retention. Aromas of rich dark cocoa, herbal hop notes and charcoal. There's an air of milky vanilla aswell. The flavours are more of the same, some sweet milky chocolate and a considerable hoppy pine contribution. On the back end there's a nice toasted malty bitterness. No hint of the alcohol. Mouthfeel is rich and full, low carbonation - pretty standard for the style. This is nice imperial stout, not much wow factor, but enjoyable nonetheless.\", 'id': '2540878', 'smell': '4.0', 'look': '4.0'}>>,\n",
      " <Record r=<Node element_id='2969059' labels=frozenset({'REVIEWS'}) properties={'date': '2013-01-04', 'score': '3.75', 'taste': 'nan', 'feel': 'nan', 'overall': 'nan', 'beer_id': '1017', 'text': 'You had this beer. Write a review.', 'id': '2547974', 'smell': 'nan', 'look': 'nan'}>>,\n",
      " <Record r=<Node element_id='2953078' labels=frozenset({'REVIEWS'}) properties={'date': '2009-07-22', 'score': '4.1', 'taste': '4.5', 'feel': '4.0', 'overall': '3.5', 'beer_id': '2319', 'text': 'Bottle poured into a Glass Smell - an aroma that makes you want to try it, very feint not what i was expecting but maybe due to my nose being slightly plugged Appearance - pours thick brown with thick three fingered hazelnut heat that takes a few minutes to calm to a finger Taste - sweet and think, a hint of molasses, i like every sip more than the one before, this brew is quickly growing on me, mildly bitter after taste, definatly complex but not at the point of too much of a good thing, definatly a beer to try on multiple occasions Mouthfeel - on the thick side but smooth, carbonation and spices tickle the tongue Drinkability when i poured it i thought i was not going to like it and my first sip made me think it was a mistake but going through this beer opened my eyes, although the higher ABV makes it something you would not consume in as high quantitys', 'id': '2531993', 'smell': '4.0', 'look': '4.0'}>>,\n",
      " <Record r=<Node element_id='2931858' labels=frozenset({'REVIEWS'}) properties={'date': '2012-11-11', 'score': '4.5', 'taste': 'nan', 'feel': 'nan', 'overall': 'nan', 'beer_id': '3833', 'text': 'You had this beer. Write a review.', 'id': '2510773', 'smell': 'nan', 'look': 'nan'}>>,\n",
      " <Record r=<Node element_id='2921027' labels=frozenset({'REVIEWS'}) properties={'date': '2011-12-14', 'score': '4.0', 'taste': 'nan', 'feel': 'nan', 'overall': 'nan', 'beer_id': '1003', 'text': '', 'id': '2499942', 'smell': 'nan', 'look': 'nan'}>>,\n",
      " <Record r=<Node element_id='2912425' labels=frozenset({'REVIEWS'}) properties={'date': '2012-12-02', 'score': '3.75', 'taste': 'nan', 'feel': 'nan', 'overall': 'nan', 'beer_id': '86866', 'text': 'You had this beer. Write a review.', 'id': '2491340', 'smell': 'nan', 'look': 'nan'}>>,\n",
      " <Record r=<Node element_id='2915148' labels=frozenset({'REVIEWS'}) properties={'date': '2012-10-17', 'score': '3.25', 'taste': 'nan', 'feel': 'nan', 'overall': 'nan', 'beer_id': '17498', 'text': 'You had this beer. Write a review.', 'id': '2494063', 'smell': 'nan', 'look': 'nan'}>>,\n",
      " <Record r=<Node element_id='2904375' labels=frozenset({'REVIEWS'}) properties={'date': '2013-01-07', 'score': '5.0', 'taste': 'nan', 'feel': 'nan', 'overall': 'nan', 'beer_id': '1257', 'text': 'You had this beer. Write a review.', 'id': '2483290', 'smell': 'nan', 'look': 'nan'}>>,\n",
      " <Record r=<Node element_id='2899081' labels=frozenset({'REVIEWS'}) properties={'date': '2012-04-14', 'score': '4.25', 'taste': 'nan', 'feel': 'nan', 'overall': 'nan', 'beer_id': '65579', 'text': 'You had this beer. Write a review.', 'id': '2477996', 'smell': 'nan', 'look': 'nan'}>>,\n",
      " <Record r=<Node element_id='2885360' labels=frozenset({'REVIEWS'}) properties={'date': '2007-07-13', 'score': '4.0', 'taste': '4.0', 'feel': '4.0', 'overall': '4.0', 'beer_id': '17112', 'text': \"12oz. bottle, 2nd effort with this beer. Slightly hazy, orange/yellow color. No real head to speak of. Aroma was of earth, pine and caramel. Fairly strong scent. Taste was pine initially, followed by alcohol. Alcohol was quite strong, and could be turned down some without losing anything. Caramel and peaches came through next. Malt picks up a bit as temperature increases, wheat bread. Grassy at finish. Medium to full body. Low to medium carbonation. Dry. Overall, very good. Still not sure if it is a slam, but it will certainly get your attention. I'm guessing my last review was on an older bottle.\", 'id': '2464275', 'smell': '4.0', 'look': '4.0'}>>,\n",
      " <Record r=<Node element_id='2882896' labels=frozenset({'REVIEWS'}) properties={'date': '2011-04-20', 'score': '4.42', 'taste': '4.5', 'feel': '4.0', 'overall': '4.5', 'beer_id': '17112', 'text': 'Huge hoppy aromas emerge from the thin white head of this bright golden ale. Citrus dominates with undertones of pine, honey, caramel malt, and cinnamon. Taste is smoother that one would expect, with lots of malt to balance out a strong hops bitterness.', 'id': '2461811', 'smell': '4.5', 'look': '4.0'}>>,\n",
      " <Record r=<Node element_id='2859246' labels=frozenset({'REVIEWS'}) properties={'date': '2014-03-08', 'score': '2.75', 'taste': 'nan', 'feel': 'nan', 'overall': 'nan', 'beer_id': '14368', 'text': 'You had this beer. Write a review.', 'id': '2438161', 'smell': 'nan', 'look': 'nan'}>>,\n",
      " <Record r=<Node element_id='2842829' labels=frozenset({'REVIEWS'}) properties={'date': '2010-08-11', 'score': '2.48', 'taste': '2.0', 'feel': '2.5', 'overall': '2.5', 'beer_id': '935', 'text': \"Overall not really impressed or really put off by this beer. It's a decent pilsner. I could have a few of these and not be too upset. Appearance is reasonable. Head disipated immediately. Smell - is mildly hoppy. definitely German. Taste is kind of mundane. This was the lowest point for me. Overall just kind of boring. But sometimes that's okay.\", 'id': '2421744', 'smell': '3.0', 'look': '3.5'}>>,\n",
      " <Record r=<Node element_id='2825064' labels=frozenset({'REVIEWS'}) properties={'date': '2012-12-17', 'score': '3.75', 'taste': 'nan', 'feel': 'nan', 'overall': 'nan', 'beer_id': '921', 'text': 'You had this beer. Write a review.', 'id': '2403979', 'smell': 'nan', 'look': 'nan'}>>,\n",
      " <Record r=<Node element_id='2805461' labels=frozenset({'REVIEWS'}) properties={'date': '2012-12-04', 'score': '3.25', 'taste': 'nan', 'feel': 'nan', 'overall': 'nan', 'beer_id': '28882', 'text': 'You had this beer. Write a review.', 'id': '2384376', 'smell': 'nan', 'look': 'nan'}>>,\n",
      " <Record r=<Node element_id='2781365' labels=frozenset({'REVIEWS'}) properties={'date': '2012-08-06', 'score': '3.25', 'taste': 'nan', 'feel': 'nan', 'overall': 'nan', 'beer_id': '2231', 'text': 'You had this beer. Write a review.', 'id': '2360280', 'smell': 'nan', 'look': 'nan'}>>,\n",
      " <Record r=<Node element_id='2773648' labels=frozenset({'REVIEWS'}) properties={'date': '2011-08-15', 'score': '3.47', 'taste': '3.5', 'feel': '3.5', 'overall': '3.5', 'beer_id': '27842', 'text': 'Appearance - slightly hazy orange with an average sized head that has decent retention. Smell - Definitely has the hops upfront. Fruity and hoppy with some sweetness lurking beneath. Taste - Bitter upfront with a mild sweetness through the middle, finishes a touch minerally and very bitter.', 'id': '2352563', 'smell': '3.5', 'look': '3.0'}>>,\n",
      " <Record r=<Node element_id='2769271' labels=frozenset({'REVIEWS'}) properties={'date': '2012-03-27', 'score': '4.0', 'taste': 'nan', 'feel': 'nan', 'overall': 'nan', 'beer_id': '867', 'text': 'You had this beer. Write a review.', 'id': '2348186', 'smell': 'nan', 'look': 'nan'}>>,\n",
      " <Record r=<Node element_id='2756662' labels=frozenset({'REVIEWS'}) properties={'date': '2013-06-15', 'score': '4.5', 'taste': 'nan', 'feel': 'nan', 'overall': 'nan', 'beer_id': '52723', 'text': 'You had this beer. Write a review.', 'id': '2335577', 'smell': 'nan', 'look': 'nan'}>>,\n",
      " <Record r=<Node element_id='2755943' labels=frozenset({'REVIEWS'}) properties={'date': '2007-12-10', 'score': '3.6', 'taste': '3.5', 'feel': '3.0', 'overall': '3.5', 'beer_id': '39334', 'text': '12oz. bottle courtesy of nflmvp - - Thanks! Opaque, black/brown liquid. Some visibility at edges when held up to light. Small, brown head. Pretty good legs and lacing. Aroma was very intense chocolate. Coffee came in second. Other scents included black cherries, earth and alcohol. Taste was composed, again, of chocolate. Alcohol/bourbon was very noticeable, could turn down/hide better. Coffee and roast notes. Herbal bitterness at finish. Medium to full bodied. An unpleasant chalky/grainy texture came through, was expecting it to be smoother. Medium + carbonation. Pretty dry. Overall, very good, but not top tier. If the mouthfeel was improved by removing whatever is causing the texture issue, and the taste complexity was increased (too much chocolate and alcohol), it would be better.', 'id': '2334858', 'smell': '4.0', 'look': '4.0'}>>,\n",
      " <Record r=<Node element_id='2754330' labels=frozenset({'REVIEWS'}) properties={'date': '2012-10-21', 'score': '3.0', 'taste': 'nan', 'feel': 'nan', 'overall': 'nan', 'beer_id': '69447', 'text': 'You had this beer. Write a review.', 'id': '2333245', 'smell': 'nan', 'look': 'nan'}>>,\n",
      " <Record r=<Node element_id='2742925' labels=frozenset({'REVIEWS'}) properties={'date': '2012-09-11', 'score': '3.5', 'taste': 'nan', 'feel': 'nan', 'overall': 'nan', 'beer_id': '846', 'text': 'You had this beer. Write a review.', 'id': '2321840', 'smell': 'nan', 'look': 'nan'}>>,\n",
      " <Record r=<Node element_id='2749752' labels=frozenset({'REVIEWS'}) properties={'date': '2014-05-04', 'score': '5.0', 'taste': 'nan', 'feel': 'nan', 'overall': 'nan', 'beer_id': '5428', 'text': 'You had this beer. Write a review.', 'id': '2328667', 'smell': 'nan', 'look': 'nan'}>>,\n",
      " <Record r=<Node element_id='2748915' labels=frozenset({'REVIEWS'}) properties={'date': '2012-02-27', 'score': '2.5', 'taste': 'nan', 'feel': 'nan', 'overall': 'nan', 'beer_id': '848', 'text': 'You had this beer. Write a review.', 'id': '2327830', 'smell': 'nan', 'look': 'nan'}>>,\n",
      " <Record r=<Node element_id='2734813' labels=frozenset({'REVIEWS'}) properties={'date': '2012-09-10', 'score': '2.5', 'taste': 'nan', 'feel': 'nan', 'overall': 'nan', 'beer_id': '837', 'text': 'You had this beer. Write a review.', 'id': '2313728', 'smell': 'nan', 'look': 'nan'}>>,\n",
      " <Record r=<Node element_id='2739666' labels=frozenset({'REVIEWS'}) properties={'date': '2012-06-17', 'score': '2.5', 'taste': 'nan', 'feel': 'nan', 'overall': 'nan', 'beer_id': '57402', 'text': 'You had this beer. Write a review.', 'id': '2318581', 'smell': 'nan', 'look': 'nan'}>>,\n",
      " <Record r=<Node element_id='2735388' labels=frozenset({'REVIEWS'}) properties={'date': '2012-04-14', 'score': '1.0', 'taste': 'nan', 'feel': 'nan', 'overall': 'nan', 'beer_id': '837', 'text': 'You had this beer. Write a review.', 'id': '2314303', 'smell': 'nan', 'look': 'nan'}>>,\n",
      " <Record r=<Node element_id='2734553' labels=frozenset({'REVIEWS'}) properties={'date': '2013-02-06', 'score': '3.0', 'taste': 'nan', 'feel': 'nan', 'overall': 'nan', 'beer_id': '837', 'text': 'You had this beer. Write a review.', 'id': '2313468', 'smell': 'nan', 'look': 'nan'}>>,\n",
      " <Record r=<Node element_id='2734643' labels=frozenset({'REVIEWS'}) properties={'date': '2012-12-30', 'score': '2.0', 'taste': 'nan', 'feel': 'nan', 'overall': 'nan', 'beer_id': '837', 'text': 'You had this beer. Write a review.', 'id': '2313558', 'smell': 'nan', 'look': 'nan'}>>,\n",
      " <Record r=<Node element_id='2722889' labels=frozenset({'REVIEWS'}) properties={'date': '2012-09-07', 'score': '3.0', 'taste': 'nan', 'feel': 'nan', 'overall': 'nan', 'beer_id': '833', 'text': 'You had this beer. Write a review.', 'id': '2301804', 'smell': 'nan', 'look': 'nan'}>>,\n",
      " <Record r=<Node element_id='2707744' labels=frozenset({'REVIEWS'}) properties={'date': '2012-07-18', 'score': '4.0', 'taste': 'nan', 'feel': 'nan', 'overall': 'nan', 'beer_id': '814', 'text': 'You had this beer. Write a review.', 'id': '2286659', 'smell': 'nan', 'look': 'nan'}>>,\n",
      " <Record r=<Node element_id='2690802' labels=frozenset({'REVIEWS'}) properties={'date': '2013-01-14', 'score': '4.75', 'taste': 'nan', 'feel': 'nan', 'overall': 'nan', 'beer_id': '808', 'text': 'You had this beer. Write a review.', 'id': '2269717', 'smell': 'nan', 'look': 'nan'}>>,\n",
      " <Record r=<Node element_id='2675409' labels=frozenset({'REVIEWS'}) properties={'date': '2011-06-26', 'score': '4.03', 'taste': '4.0', 'feel': '4.0', 'overall': '4.0', 'beer_id': '794', 'text': 'Appearance - slightly hazy bright copper with a solid finger of persistent rocky white head. Very fine carbonation bubbles. Great lacing. Smell - Soft caramel, peach, mineral, floral hops. Mouthfeel - smooth and mouth filling, but still somehwat crisp and refreshing. Taste - Bready caramel, fruit, very subdued and integrated hops flavours.', 'id': '2254324', 'smell': '4.0', 'look': '4.5'}>>,\n",
      " <Record r=<Node element_id='2675666' labels=frozenset({'REVIEWS'}) properties={'date': '2012-04-23', 'score': '4.0', 'taste': 'nan', 'feel': 'nan', 'overall': 'nan', 'beer_id': '6108', 'text': 'You had this beer. Write a review.', 'id': '2254581', 'smell': 'nan', 'look': 'nan'}>>,\n",
      " <Record r=<Node element_id='2672466' labels=frozenset({'REVIEWS'}) properties={'date': '2013-02-11', 'score': '4.0', 'taste': 'nan', 'feel': 'nan', 'overall': 'nan', 'beer_id': '6108', 'text': 'You had this beer. Write a review.', 'id': '2251381', 'smell': 'nan', 'look': 'nan'}>>,\n",
      " <Record r=<Node element_id='2674294' labels=frozenset({'REVIEWS'}) properties={'date': '2012-09-17', 'score': '4.5', 'taste': 'nan', 'feel': 'nan', 'overall': 'nan', 'beer_id': '6108', 'text': 'You had this beer. Write a review.', 'id': '2253209', 'smell': 'nan', 'look': 'nan'}>>,\n",
      " <Record r=<Node element_id='2673273' labels=frozenset({'REVIEWS'}) properties={'date': '2012-12-17', 'score': '4.75', 'taste': 'nan', 'feel': 'nan', 'overall': 'nan', 'beer_id': '6108', 'text': 'You had this beer. Write a review.', 'id': '2252188', 'smell': 'nan', 'look': 'nan'}>>,\n",
      " <Record r=<Node element_id='2675423' labels=frozenset({'REVIEWS'}) properties={'date': '2012-05-28', 'score': '4.0', 'taste': 'nan', 'feel': 'nan', 'overall': 'nan', 'beer_id': '6108', 'text': 'You had this beer. Write a review.', 'id': '2254338', 'smell': 'nan', 'look': 'nan'}>>,\n",
      " <Record r=<Node element_id='2657923' labels=frozenset({'REVIEWS'}) properties={'date': '2007-01-02', 'score': '3.96', 'taste': '4.0', 'feel': '4.5', 'overall': '4.0', 'beer_id': '782', 'text': '16oz. bottle Deep, dark mahogany. Lots of ruby highlights. Clear, as far as I can tell. Tan head, moderate in size. Nice legs on the swirl. Aromas of dark fruits, cherries and raisins most distinct. Licorice and tar. Phenolic. Leads you to expect a sweetish beer. Taste is very complex. Smoke & tar. Roasted malt/burnt toast, with a bit of coffee. Alcohol and a hint of chocolate (very dark and bittersweet). More bitter than sweet, but that evolved as the beer warmed. Blackstrap molasses in the middle. Finish seemed to be herbal/grassy. Heavy and creamy in body. Carbonation was medium. More than a bit drying. Alcohol warming apparent early. Hell of an RIS, and easy to see why this is viewed as a benchmark for the style.', 'id': '2236838', 'smell': '3.5', 'look': '4.5'}>>,\n",
      " <Record r=<Node element_id='2659259' labels=frozenset({'REVIEWS'}) properties={'date': '2006-05-23', 'score': '3.2', 'taste': '3.5', 'feel': '3.0', 'overall': '3.0', 'beer_id': '23621', 'text': 'Enjoyed a 12 oz. bottle at a friends house. Drank from bottle (sorry) so no opinion on appearance. Smell was malty and taste was malty sweet. Mouthfeel was again average with a good balance of carbonation. Alcohol was well hidden (never would have guessed 6.9 ABV), and drinkability was high. My first Maibock, so take review with a grain of salt. I will try this style again, but I prefer something with more hops.', 'id': '2238174', 'smell': '3.0', 'look': '3.0'}>>,\n",
      " <Record r=<Node element_id='2649179' labels=frozenset({'REVIEWS'}) properties={'date': '2006-07-05', 'score': '3.51', 'taste': '3.5', 'feel': '3.5', 'overall': '4.0', 'beer_id': '778', 'text': 'Poured a clear straw yellow, decent size head. Aroma was very mild, I only picked up a slight hop scent, maybe citrus? Taste was very well balanced, with a slightly bitter dominance. The mouthfeel was very smooth, carbonation added a nice crispness to it overall. An easy to drink beer that I enjoyed while working the grill.', 'id': '2228094', 'smell': '3.0', 'look': '4.0'}>>,\n",
      " <Record r=<Node element_id='2616537' labels=frozenset({'REVIEWS'}) properties={'date': '2007-05-26', 'score': '3.85', 'taste': '4.0', 'feel': '3.5', 'overall': '3.5', 'beer_id': '36090', 'text': \"12.7 oz. bottle Beautiful dark brown/ruby colored body. Small, creamy, light tan head. Modest lacing as I drank. Aroma reminded me of wine, somewhat. Earthy, Belgian funk, cherries, very tart. Taste is quite sour, be prepared. Cherries, citrus. Some sweet deep down in the taste, hard to define, maybe sweetened grapefruit juice?? Vinegar? A bit of salt in aftertaste, maybe some herbal flavor. Medium body. Low to medium carbonation, could pick up a touch. Quite dry. I am relatively inexperienced with lambics, but this was a nice take on the style. It is a bit heavier than the few others I have tried, those have approached airiness. Nice though, a sipper that would probably pair well with desserts. This brewery does interesting stuff, and I've enjoyed their experiments. I'll keep watching/drinking them!\", 'id': '2195452', 'smell': '4.0', 'look': '4.0'}>>,\n",
      " <Record r=<Node element_id='2619034' labels=frozenset({'REVIEWS'}) properties={'date': '2012-06-18', 'score': '5.0', 'taste': 'nan', 'feel': 'nan', 'overall': 'nan', 'beer_id': '754', 'text': 'You had this beer. Write a review.', 'id': '2197949', 'smell': 'nan', 'look': 'nan'}>>,\n",
      " <Record r=<Node element_id='2604724' labels=frozenset({'REVIEWS'}) properties={'date': '2013-01-06', 'score': '3.75', 'taste': 'nan', 'feel': 'nan', 'overall': 'nan', 'beer_id': '78055', 'text': '0% You had this beer. Write a review.', 'id': '2183639', 'smell': 'nan', 'look': 'nan'}>>,\n",
      " <Record r=<Node element_id='2590606' labels=frozenset({'REVIEWS'}) properties={'date': '2011-06-04', 'score': '3.95', 'taste': '4.0', 'feel': '3.5', 'overall': '4.0', 'beer_id': '740', 'text': 'a-pretty brown with a two inch white head. Laces really well, s-malt, with some hops hanging back. Grains, and hops mingle well with the malted grain aroma winning out. t-well balanced, and refreshing malt and hop presence. Does great for what Odell is looking for in this beer, a nice drinking amber ale. m-little thin, but it works with this beer, o-great job with a session beer that easy to drink, but makes you think some during the pint.', 'id': '2169521', 'smell': '4.0', 'look': '4.0'}>>,\n",
      " <Record r=<Node element_id='2573737' labels=frozenset({'REVIEWS'}) properties={'date': '2013-06-15', 'score': '5.0', 'taste': 'nan', 'feel': 'nan', 'overall': 'nan', 'beer_id': '731', 'text': 'You had this beer. Write a review.', 'id': '2152652', 'smell': 'nan', 'look': 'nan'}>>,\n",
      " <Record r=<Node element_id='2574774' labels=frozenset({'REVIEWS'}) properties={'date': '2012-11-29', 'score': '4.75', 'taste': 'nan', 'feel': 'nan', 'overall': 'nan', 'beer_id': '731', 'text': 'You had this beer. Write a review.', 'id': '2153689', 'smell': 'nan', 'look': 'nan'}>>,\n",
      " <Record r=<Node element_id='2578719' labels=frozenset({'REVIEWS'}) properties={'date': '2012-07-16', 'score': '3.25', 'taste': 'nan', 'feel': 'nan', 'overall': 'nan', 'beer_id': '66707', 'text': 'You had this beer. Write a review.', 'id': '2157634', 'smell': 'nan', 'look': 'nan'}>>,\n",
      " <Record r=<Node element_id='2562593' labels=frozenset({'REVIEWS'}) properties={'date': '2011-10-12', 'score': '4.08', 'taste': '4.0', 'feel': '4.5', 'overall': '4.0', 'beer_id': '727', 'text': \"On tap at Bangers & Lace in Chicago. Appearance - ruby-tinted dark brown with a smnall, frothy cap. Smell - Dominated by a smooth smokiness. It is the kind of smokiness you would encounter in a nice smoked cheddar or sausage; it's dominant, but not overpowering. There is a hint of malt sweetness in there, too, but it's all about the smoke. Mouthfeel - Full bodied and nicely carbonated for a very smooth and creamy texture. Taste - The smoke is upfront again, but not as dominant as in the smell. Sweet malts and a hint of hops bitterness provide some balance. I enjoyed this beer. I'm not sure I woud want to drink it all the time, but is is unique and very well-made.\", 'id': '2141508', 'smell': '4.0', 'look': '4.5'}>>,\n",
      " <Record r=<Node element_id='2570806' labels=frozenset({'REVIEWS'}) properties={'date': '2014-05-27', 'score': '5.0', 'taste': 'nan', 'feel': 'nan', 'overall': 'nan', 'beer_id': '731', 'text': 'You had this beer. Write a review.', 'id': '2149721', 'smell': 'nan', 'look': 'nan'}>>,\n",
      " <Record r=<Node element_id='2559848' labels=frozenset({'REVIEWS'}) properties={'date': '2006-09-27', 'score': '3.03', 'taste': '2.5', 'feel': '4.0', 'overall': '3.5', 'beer_id': '726', 'text': \"12oz. bottle. Poured a light brown/dark gold color, clear. Medium size off-white head which faded fast. Aroma was hops first, with an orange scent, followed by a more subdued bread-like malt. Taste was similar, with hops prevailing over the malt. Hops were present at start and lingered into the aftertaste, but not in a good way. Aftertaste was a husky bitterness that I didn't care for. Other notes in the taste were a buttery flavor in the middle and some spice/pepper towards the finish. Mouthfeel was light + in body, with a slick texture. Carbonation was medium and it was actually quite refreshing. Overall, an OK beer but I've had better.\", 'id': '2138763', 'smell': '3.0', 'look': '3.5'}>>,\n",
      " <Record r=<Node element_id='2548964' labels=frozenset({'REVIEWS'}) properties={'date': '2012-01-15', 'score': '2.5', 'taste': 'nan', 'feel': 'nan', 'overall': 'nan', 'beer_id': '718', 'text': 'You had this beer. Write a review.', 'id': '2127879', 'smell': 'nan', 'look': 'nan'}>>,\n",
      " <Record r=<Node element_id='2542143' labels=frozenset({'REVIEWS'}) properties={'date': '2012-12-04', 'score': '4.25', 'taste': 'nan', 'feel': 'nan', 'overall': 'nan', 'beer_id': '16079', 'text': 'You had this beer. Write a review.', 'id': '2121058', 'smell': 'nan', 'look': 'nan'}>>,\n",
      " <Record r=<Node element_id='2548875' labels=frozenset({'REVIEWS'}) properties={'date': '2012-04-06', 'score': '1.25', 'taste': 'nan', 'feel': 'nan', 'overall': 'nan', 'beer_id': '718', 'text': 'You had this beer. Write a review.', 'id': '2127790', 'smell': 'nan', 'look': 'nan'}>>,\n",
      " <Record r=<Node element_id='2516646' labels=frozenset({'REVIEWS'}) properties={'date': '2013-01-29', 'score': '3.75', 'taste': 'nan', 'feel': 'nan', 'overall': 'nan', 'beer_id': '7850', 'text': 'You had this beer. Write a review.', 'id': '2095561', 'smell': 'nan', 'look': 'nan'}>>,\n",
      " <Record r=<Node element_id='2511887' labels=frozenset({'REVIEWS'}) properties={'date': '2012-09-22', 'score': '3.75', 'taste': 'nan', 'feel': 'nan', 'overall': 'nan', 'beer_id': '19424', 'text': 'You had this beer. Write a review.', 'id': '2090802', 'smell': 'nan', 'look': 'nan'}>>,\n",
      " <Record r=<Node element_id='2509446' labels=frozenset({'REVIEWS'}) properties={'date': '2012-05-23', 'score': '1.0', 'taste': 'nan', 'feel': 'nan', 'overall': 'nan', 'beer_id': '695', 'text': 'You had this beer. Write a review.', 'id': '2088361', 'smell': 'nan', 'look': 'nan'}>>,\n",
      " <Record r=<Node element_id='2509843' labels=frozenset({'REVIEWS'}) properties={'date': '2012-03-05', 'score': '4.0', 'taste': 'nan', 'feel': 'nan', 'overall': 'nan', 'beer_id': '695', 'text': 'You had this beer. Write a review.', 'id': '2088758', 'smell': 'nan', 'look': 'nan'}>>,\n",
      " <Record r=<Node element_id='2510010' labels=frozenset({'REVIEWS'}) properties={'date': '2012-01-22', 'score': '4.21', 'taste': '4.0', 'feel': '4.5', 'overall': '4.5', 'beer_id': '695', 'text': \"Duvel poured into duvel glass, go figure Crystal clear, huge fluffy pillow for a head that settles to a rocky centimeter, leaving plenty of lacing behind. Apple peel. Candied orange. Very fruity in general to begin with. As the beer warms I get notes of gingerbread, toffee and straw. The apple is again prominent, but both sweet and sour apple notes. This beer is extremely balanced, with a tangy dry finish. Long after I've swallowed I can taste sweet biscuits. Delicious beer. Must try. It's beers like this that make Belgium famous for beer.\", 'id': '2088925', 'smell': '4.0', 'look': '5.0'}>>,\n",
      " <Record r=<Node element_id='2495749' labels=frozenset({'REVIEWS'}) properties={'date': '2013-01-19', 'score': '4.25', 'taste': 'nan', 'feel': 'nan', 'overall': 'nan', 'beer_id': '58493', 'text': 'You had this beer. Write a review.', 'id': '2074664', 'smell': 'nan', 'look': 'nan'}>>,\n",
      " <Record r=<Node element_id='2481800' labels=frozenset({'REVIEWS'}) properties={'date': '2013-02-18', 'score': '4.75', 'taste': 'nan', 'feel': 'nan', 'overall': 'nan', 'beer_id': '2668', 'text': 'You had this beer. Write a review.', 'id': '2060715', 'smell': 'nan', 'look': 'nan'}>>,\n",
      " <Record r=<Node element_id='2488904' labels=frozenset({'REVIEWS'}) properties={'date': '2014-02-19', 'score': '3.75', 'taste': 'nan', 'feel': 'nan', 'overall': 'nan', 'beer_id': '692', 'text': 'You had this beer. Write a review.', 'id': '2067819', 'smell': 'nan', 'look': 'nan'}>>,\n",
      " <Record r=<Node element_id='2466785' labels=frozenset({'REVIEWS'}) properties={'date': '2012-08-26', 'score': '4.75', 'taste': 'nan', 'feel': 'nan', 'overall': 'nan', 'beer_id': '680', 'text': 'You had this beer. Write a review.', 'id': '2045700', 'smell': 'nan', 'look': 'nan'}>>,\n",
      " <Record r=<Node element_id='2466815' labels=frozenset({'REVIEWS'}) properties={'date': '2012-08-06', 'score': '4.0', 'taste': 'nan', 'feel': 'nan', 'overall': 'nan', 'beer_id': '680', 'text': 'You had this beer. Write a review.', 'id': '2045730', 'smell': 'nan', 'look': 'nan'}>>,\n",
      " <Record r=<Node element_id='2456444' labels=frozenset({'REVIEWS'}) properties={'date': '2007-07-13', 'score': '3.97', 'taste': '4.0', 'feel': '4.0', 'overall': '4.0', 'beer_id': '674', 'text': '12oz. bottle Hazy, dark brown/orange color. Meidum sized, creamy, light tan head. Nice lacing as I drank. Aroma screams \"MALT\". Then, some grass and floral notes come through. Earthy and a hint of chocolate. Taste is well balanced, but, despite the aroma, comes across as more bitter than sweet. Phenolic. Touch of caramel. Grassy bitterness at finish and lingering into the aftertaste. Medium in body. Very \"tingly\" carbonation, more than expected based on pour. Dry. Very enjoyable. More bitter than I usually expect from a Belgian.', 'id': '2035359', 'smell': '4.0', 'look': '3.5'}>>,\n",
      " <Record r=<Node element_id='2455086' labels=frozenset({'REVIEWS'}) properties={'date': '2012-12-27', 'score': '4.0', 'taste': 'nan', 'feel': 'nan', 'overall': 'nan', 'beer_id': '674', 'text': 'You had this beer. Write a review.', 'id': '2034001', 'smell': 'nan', 'look': 'nan'}>>,\n",
      " <Record r=<Node element_id='2442011' labels=frozenset({'REVIEWS'}) properties={'date': '2013-02-01', 'score': '5.0', 'taste': 'nan', 'feel': 'nan', 'overall': 'nan', 'beer_id': '672', 'text': 'You had this beer. Write a review.', 'id': '2020926', 'smell': 'nan', 'look': 'nan'}>>,\n",
      " <Record r=<Node element_id='2443601' labels=frozenset({'REVIEWS'}) properties={'date': '2012-03-05', 'score': '4.5', 'taste': 'nan', 'feel': 'nan', 'overall': 'nan', 'beer_id': '672', 'text': 'You had this beer. Write a review.', 'id': '2022516', 'smell': 'nan', 'look': 'nan'}>>,\n",
      " <Record r=<Node element_id='2450277' labels=frozenset({'REVIEWS'}) properties={'date': '2007-02-16', 'score': '3.55', 'taste': '3.5', 'feel': '4.0', 'overall': '3.5', 'beer_id': '25005', 'text': \"On tap during the 2007 Max's 72 Hours of Belgium Hazy, pale yellow in color, with a small off white head. Aromas included citrus, Belgian barnyard, yeast/bread dough and apple. Taste was quite sweet. Vanilla, apples, grapes. A bit of sour/tart in the finish, but quite mild. Just a touch of alcohol. Mouthfeel was light to medium. Carbonation was medium + . Refreshing. Hard to characterize. Some aspects of a saison, some of a trippel, and maybe a wild wheat. Enjoyable, but not something I would rush back to try again.\", 'id': '2029192', 'smell': '3.5', 'look': '3.5'}>>,\n",
      " <Record r=<Node element_id='2446317' labels=frozenset({'REVIEWS'}) properties={'date': '2011-08-11', 'score': '4.62', 'taste': '4.5', 'feel': '4.5', 'overall': '4.5', 'beer_id': '6305', 'text': 'Bottled on December 12, 2009 Appearance - Large white frothy head over a bright, slightly hazy orange-amber beer. Plentiful carbonation is visible. Smell - A woodsy, sour smell is detectable a foot from the glass. The aroma is very complex with a sweaty, dank cellar funk; wood; and a bitter-sour, almost grapefruit smell. Mouthfeel and Taste: Tingley, ample carbonation and a medium body highlight the musty sourness. It is tart, but not sharp. The sourness is smooth with lemon rind flavours, chalk, and overripe fruit. It is quite vinous with a tannic, bitter sour grapefruit finish.', 'id': '2025232', 'smell': '5.0', 'look': '4.5'}>>,\n",
      " <Record r=<Node element_id='2432491' labels=frozenset({'REVIEWS'}) properties={'date': '2014-03-14', 'score': '4.25', 'taste': 'nan', 'feel': 'nan', 'overall': 'nan', 'beer_id': '35685', 'text': 'You had this beer. Write a review.', 'id': '2011406', 'smell': 'nan', 'look': 'nan'}>>,\n",
      " <Record r=<Node element_id='2436991' labels=frozenset({'REVIEWS'}) properties={'date': '2013-01-13', 'score': '1.0', 'taste': 'nan', 'feel': 'nan', 'overall': 'nan', 'beer_id': '670', 'text': 'You had this beer. Write a review.', 'id': '2015906', 'smell': 'nan', 'look': 'nan'}>>,\n",
      " <Record r=<Node element_id='2437049' labels=frozenset({'REVIEWS'}) properties={'date': '2012-11-11', 'score': '3.75', 'taste': 'nan', 'feel': 'nan', 'overall': 'nan', 'beer_id': '670', 'text': 'You had this beer. Write a review.', 'id': '2015964', 'smell': 'nan', 'look': 'nan'}>>,\n",
      " <Record r=<Node element_id='2421728' labels=frozenset({'REVIEWS'}) properties={'date': '2007-06-20', 'score': '4.23', 'taste': '4.5', 'feel': '4.0', 'overall': '4.0', 'beer_id': '15589', 'text': '500ml bottle acquired in a trade with scthaden -- Thanks! Deep, dark, clear mahogany color with ruby highlights. Small, creamy, light brown head. Very herbal on the nose, surprisingly so for the style, I thought. Yeasty. Taste was initially pretty hoppy, herbal and grassy. Big malt presence - caramel and fruits. Bit of chocolate. Sweetness picked up as the beer warmed. Medium to full bodied. Low carbonation. Not drying. Good, but not Andechser quality. Seems a bit too hoppy for the style, but I like it that way.', 'id': '2000643', 'smell': '4.0', 'look': '4.5'}>>,\n",
      " <Record r=<Node element_id='2422444' labels=frozenset({'REVIEWS'}) properties={'date': '2013-01-27', 'score': '3.75', 'taste': 'nan', 'feel': 'nan', 'overall': 'nan', 'beer_id': '87383', 'text': 'You had this beer. Write a review.', 'id': '2001359', 'smell': 'nan', 'look': 'nan'}>>,\n",
      " <Record r=<Node element_id='2415826' labels=frozenset({'REVIEWS'}) properties={'date': '2012-03-06', 'score': '4.0', 'taste': 'nan', 'feel': 'nan', 'overall': 'nan', 'beer_id': '48330', 'text': 'You had this beer. Write a review.', 'id': '1994741', 'smell': 'nan', 'look': 'nan'}>>,\n",
      " <Record r=<Node element_id='2421073' labels=frozenset({'REVIEWS'}) properties={'date': '2012-04-15', 'score': '4.25', 'taste': 'nan', 'feel': 'nan', 'overall': 'nan', 'beer_id': '58960', 'text': 'You had this beer. Write a review.', 'id': '1999988', 'smell': 'nan', 'look': 'nan'}>>,\n",
      " <Record r=<Node element_id='2402972' labels=frozenset({'REVIEWS'}) properties={'date': '2013-02-23', 'score': '4.25', 'taste': 'nan', 'feel': 'nan', 'overall': 'nan', 'beer_id': '650', 'text': 'You had this beer. Write a review.', 'id': '1981887', 'smell': 'nan', 'look': 'nan'}>>,\n",
      " <Record r=<Node element_id='2408305' labels=frozenset({'REVIEWS'}) properties={'date': '2012-02-27', 'score': '1.5', 'taste': 'nan', 'feel': 'nan', 'overall': 'nan', 'beer_id': '653', 'text': 'You had this beer. Write a review.', 'id': '1987220', 'smell': 'nan', 'look': 'nan'}>>,\n",
      " <Record r=<Node element_id='2403705' labels=frozenset({'REVIEWS'}) properties={'date': '2012-04-26', 'score': '4.25', 'taste': 'nan', 'feel': 'nan', 'overall': 'nan', 'beer_id': '650', 'text': 'You had this beer. Write a review.', 'id': '1982620', 'smell': 'nan', 'look': 'nan'}>>,\n",
      " <Record r=<Node element_id='2399249' labels=frozenset({'REVIEWS'}) properties={'date': '2007-12-10', 'score': '3.2', 'taste': '3.5', 'feel': '3.0', 'overall': '3.0', 'beer_id': '649', 'text': '12oz. bottle Hazy, dark orange/brown. Small, light tan head. Scent was malty and caramel as first impression. Pine hops came through next. Fairly mild overall. Taste was more bitter than sweet, pine and herbal elements. Some roast notes. Touch of caramel and wheat bread to balance out flavor profile. Medium body. Medium carbonation. Fairly dry. Overall, OK, but nothing special. Decent beer with slight tilt towards hops.', 'id': '1978164', 'smell': '3.0', 'look': '3.0'}>>,\n",
      " <Record r=<Node element_id='2396866' labels=frozenset({'REVIEWS'}) properties={'date': '2012-06-16', 'score': '3.5', 'taste': 'nan', 'feel': 'nan', 'overall': 'nan', 'beer_id': '79835', 'text': 'You had this beer. Write a review.', 'id': '1975781', 'smell': 'nan', 'look': 'nan'}>>,\n",
      " <Record r=<Node element_id='2381530' labels=frozenset({'REVIEWS'}) properties={'date': '2013-01-29', 'score': '4.5', 'taste': 'nan', 'feel': 'nan', 'overall': 'nan', 'beer_id': '645', 'text': '0% You had this beer. Write a review.', 'id': '1960445', 'smell': 'nan', 'look': 'nan'}>>,\n",
      " <Record r=<Node element_id='2384744' labels=frozenset({'REVIEWS'}) properties={'date': '2011-04-20', 'score': '5.0', 'taste': '5.0', 'feel': '5.0', 'overall': '5.0', 'beer_id': '645', 'text': 'I ordered this at Le Cirio in Brussels. Ruby-brown with a dense off-white head. Aromas of figs, cocoa, and herbal tea. Very full-bodied and creamy mouthfeel with an almost honey-like texture. Flavour is dark caramel-sweet with peppery spice upfront, followed by more figs, molasses, and a deep bready undercurrent. Complex and port-like but not overpowering. Westvletern 12 is reputed to be the best beer in the world in this style, but I think that reputation is likely enhanced by its rarity; I prefer Rochefort 10.', 'id': '1963659', 'smell': '5.0', 'look': '5.0'}>>,\n",
      " <Record r=<Node element_id='2390084' labels=frozenset({'REVIEWS'}) properties={'date': '2013-01-14', 'score': '4.5', 'taste': 'nan', 'feel': 'nan', 'overall': 'nan', 'beer_id': '646', 'text': 'You had this beer. Write a review.', 'id': '1968999', 'smell': 'nan', 'look': 'nan'}>>,\n",
      " <Record r=<Node element_id='2365850' labels=frozenset({'REVIEWS'}) properties={'date': '2013-01-13', 'score': '5.0', 'taste': 'nan', 'feel': 'nan', 'overall': 'nan', 'beer_id': '639', 'text': 'You had this beer. Write a review.', 'id': '1944765', 'smell': 'nan', 'look': 'nan'}>>,\n",
      " <Record r=<Node element_id='2351338' labels=frozenset({'REVIEWS'}) properties={'date': '2012-02-27', 'score': '2.5', 'taste': 'nan', 'feel': 'nan', 'overall': 'nan', 'beer_id': '12415', 'text': 'You had this beer. Write a review.', 'id': '1930253', 'smell': 'nan', 'look': 'nan'}>>,\n",
      " <Record r=<Node element_id='2346974' labels=frozenset({'REVIEWS'}) properties={'date': '2011-05-28', 'score': '3.97', 'taste': '4.0', 'feel': '4.0', 'overall': '4.0', 'beer_id': '43905', 'text': \"Appearance - pale golden colour with a quickly dissipating head that remains as a ring. Smell - Very aromatic; funky and fruity Belgian yeast aromas with bright citrus and grassy accents and a bit of spice. Lively and interesting. As it warms a bit the caramel malt emerges. Taste - fruity and yeasty with a strong bitter finish that leaves a lingering pine presence. This beer is really enjoyable. It's interesting that Stone uses the same recipe that it does for its IPA, but just changes the yeast. It is amazing to tatse how much the yeast affects the flavour of the final product.\", 'id': '1925889', 'smell': '4.0', 'look': '3.5'}>>,\n",
      " <Record r=<Node element_id='2335116' labels=frozenset({'REVIEWS'}) properties={'date': '2013-01-02', 'score': '1.0', 'taste': 'nan', 'feel': 'nan', 'overall': 'nan', 'beer_id': '622', 'text': 'You had this beer. Write a review.', 'id': '1914031', 'smell': 'nan', 'look': 'nan'}>>,\n",
      " <Record r=<Node element_id='2335349' labels=frozenset({'REVIEWS'}) properties={'date': '2012-09-01', 'score': '4.0', 'taste': 'nan', 'feel': 'nan', 'overall': 'nan', 'beer_id': '622', 'text': 'You had this beer. Write a review.', 'id': '1914264', 'smell': 'nan', 'look': 'nan'}>>,\n",
      " <Record r=<Node element_id='2337065' labels=frozenset({'REVIEWS'}) properties={'date': '2012-10-30', 'score': '4.25', 'taste': 'nan', 'feel': 'nan', 'overall': 'nan', 'beer_id': '15758', 'text': 'You had this beer. Write a review.', 'id': '1915980', 'smell': 'nan', 'look': 'nan'}>>,\n",
      " <Record r=<Node element_id='2335229' labels=frozenset({'REVIEWS'}) properties={'date': '2012-10-30', 'score': '4.25', 'taste': 'nan', 'feel': 'nan', 'overall': 'nan', 'beer_id': '622', 'text': 'You had this beer. Write a review.', 'id': '1914144', 'smell': 'nan', 'look': 'nan'}>>,\n",
      " <Record r=<Node element_id='2328013' labels=frozenset({'REVIEWS'}) properties={'date': '2009-09-19', 'score': '4.35', 'taste': '4.5', 'feel': '4.0', 'overall': '4.0', 'beer_id': '619', 'text': \"I had this out of the bottle, poured into a glass. The head was massive. I'm drinking it at Lake Tahoe, elevation 6300 ft. Does that effect the head? It was too much. Pouring as carefully as I could, I still created a head that was 50% the volume of the beer. I'm not dinging the beer because of this, because I don't know about the altitude. The color of the beer is a light copper. It is lighter than most copper colored beer. It looks great. Smell is hops. I imagine this is what it is like to crash your bike into a hop field. Once I stuck hops up my nose. This beer smells more strongly of hops than sticking hops up my nose. This flavor balance is tipped far in the hops directions. It is very bitter and finishes even more bitter with a great hop freshness. Malt is present, though fairly overwhelmed. This beer is very drinkable to me. The flavors are so strong that after a few it is still obvious that I'm drinking a delicious, flavorfull beer.\", 'id': '1906928', 'smell': '4.5', 'look': '4.5'}>>,\n",
      " <Record r=<Node element_id='2330107' labels=frozenset({'REVIEWS'}) properties={'date': '2012-01-15', 'score': '3.5', 'taste': 'nan', 'feel': 'nan', 'overall': 'nan', 'beer_id': '620', 'text': 'You had this beer. Write a review.', 'id': '1909022', 'smell': 'nan', 'look': 'nan'}>>,\n",
      " <Record r=<Node element_id='2304213' labels=frozenset({'REVIEWS'}) properties={'date': '2012-04-06', 'score': '2.0', 'taste': 'nan', 'feel': 'nan', 'overall': 'nan', 'beer_id': '607', 'text': 'You had this beer. Write a review.', 'id': '1883128', 'smell': 'nan', 'look': 'nan'}>>,\n",
      " <Record r=<Node element_id='2305400' labels=frozenset({'REVIEWS'}) properties={'date': '2011-06-04', 'score': '3.37', 'taste': '3.0', 'feel': '3.0', 'overall': '3.5', 'beer_id': '607', 'text': 'Had this on tap at the brewery, have had it many times--first time reviewing. This beer has a reason for its following. It is medium bodied and really easy to drink. Great session beer that has some depth to it. The look and smell are great with this beer. Lots of biscuit smell with malts and some tiny hops. The biscuit smell follows into the taste of the beer. Bready, and malty. Beer is a good summer patio beer.', 'id': '1884315', 'smell': '4.0', 'look': '3.5'}>>,\n",
      " <Record r=<Node element_id='2302178' labels=frozenset({'REVIEWS'}) properties={'date': '2012-09-30', 'score': '4.0', 'taste': 'nan', 'feel': 'nan', 'overall': 'nan', 'beer_id': '607', 'text': 'You had this beer. Write a review.', 'id': '1881093', 'smell': 'nan', 'look': 'nan'}>>,\n",
      " <Record r=<Node element_id='2301987' labels=frozenset({'REVIEWS'}) properties={'date': '2012-10-30', 'score': '4.25', 'taste': 'nan', 'feel': 'nan', 'overall': 'nan', 'beer_id': '607', 'text': 'You had this beer. Write a review.', 'id': '1880902', 'smell': 'nan', 'look': 'nan'}>>,\n",
      " <Record r=<Node element_id='2292216' labels=frozenset({'REVIEWS'}) properties={'date': '2007-07-13', 'score': '3.32', 'taste': '3.0', 'feel': '3.5', 'overall': '3.0', 'beer_id': '600', 'text': '12oz. bottle Hazy red colored liquid. Medium to large, light pink head. Vanished rather quickly. Aroma was very strong. Sweet cherry slushy. Hint of tartness. Taste was much more sweet than anything else. Flavors were cherries and honey. Medium body. Medium to high carbonation. Fairly refreshing. Overall, a nice cherry soda, but not what I would reach for when I want a beer. My wife, however, has fallen in love with the whole line of Lindemans.', 'id': '1871131', 'smell': '4.0', 'look': '3.5'}>>,\n",
      " <Record r=<Node element_id='2287655' labels=frozenset({'REVIEWS'}) properties={'date': '2013-02-01', 'score': '4.5', 'taste': 'nan', 'feel': 'nan', 'overall': 'nan', 'beer_id': '599', 'text': 'You had this beer. Write a review.', 'id': '1866570', 'smell': 'nan', 'look': 'nan'}>>,\n",
      " <Record r=<Node element_id='2286675' labels=frozenset({'REVIEWS'}) properties={'date': '2012-12-04', 'score': '4.25', 'taste': 'nan', 'feel': 'nan', 'overall': 'nan', 'beer_id': '77260', 'text': 'You had this beer. Write a review.', 'id': '1865590', 'smell': 'nan', 'look': 'nan'}>>,\n",
      " <Record r=<Node element_id='2282859' labels=frozenset({'REVIEWS'}) properties={'date': '2007-04-09', 'score': '3.43', 'taste': '3.5', 'feel': '3.5', 'overall': '3.0', 'beer_id': '598', 'text': '16 oz. bottle. Clear, dark gold color. Medium sized, white head. Lively carbonation. Aroma was peaches and roses. Taste was...peaches. Vitamin C/acidic/tartness in there. Herbal and grassy character as well - surprisingly bitter & lingering in the aftertaste. Some honey flavor. Medium body. High carbonation. Very sweet. Good if you like peach. My wife really enjoyed it. Not really my type of beer - more like a peach soda.', 'id': '1861774', 'smell': '3.5', 'look': '4.0'}>>,\n",
      " <Record r=<Node element_id='2272497' labels=frozenset({'REVIEWS'}) properties={'date': '2013-01-29', 'score': '3.75', 'taste': 'nan', 'feel': 'nan', 'overall': 'nan', 'beer_id': '1830', 'text': 'You had this beer. Write a review.', 'id': '1851412', 'smell': 'nan', 'look': 'nan'}>>,\n",
      " <Record r=<Node element_id='2277983' labels=frozenset({'REVIEWS'}) properties={'date': '2012-03-26', 'score': '4.25', 'taste': 'nan', 'feel': 'nan', 'overall': 'nan', 'beer_id': '66095', 'text': 'You had this beer. Write a review.', 'id': '1856898', 'smell': 'nan', 'look': 'nan'}>>,\n",
      " <Record r=<Node element_id='2267364' labels=frozenset({'REVIEWS'}) properties={'date': '2013-11-30', 'score': '4.5', 'taste': 'nan', 'feel': 'nan', 'overall': 'nan', 'beer_id': '593', 'text': 'You had this beer. Write a review.', 'id': '1846279', 'smell': 'nan', 'look': 'nan'}>>,\n",
      " <Record r=<Node element_id='2268296' labels=frozenset({'REVIEWS'}) properties={'date': '2012-12-23', 'score': '4.0', 'taste': 'nan', 'feel': 'nan', 'overall': 'nan', 'beer_id': '593', 'text': 'You had this beer. Write a review.', 'id': '1847211', 'smell': 'nan', 'look': 'nan'}>>,\n",
      " <Record r=<Node element_id='2266978' labels=frozenset({'REVIEWS'}) properties={'date': '2014-02-23', 'score': '4.5', 'taste': 'nan', 'feel': 'nan', 'overall': 'nan', 'beer_id': '593', 'text': 'You had this beer. Write a review.', 'id': '1845893', 'smell': 'nan', 'look': 'nan'}>>,\n",
      " <Record r=<Node element_id='2251128' labels=frozenset({'REVIEWS'}) properties={'date': '2012-09-10', 'score': '3.5', 'taste': 'nan', 'feel': 'nan', 'overall': 'nan', 'beer_id': '580', 'text': 'You had this beer. Write a review.', 'id': '1830043', 'smell': 'nan', 'look': 'nan'}>>,\n",
      " <Record r=<Node element_id='2251647' labels=frozenset({'REVIEWS'}) properties={'date': '2012-02-27', 'score': '2.0', 'taste': 'nan', 'feel': 'nan', 'overall': 'nan', 'beer_id': '580', 'text': 'You had this beer. Write a review.', 'id': '1830562', 'smell': 'nan', 'look': 'nan'}>>,\n",
      " <Record r=<Node element_id='2251410' labels=frozenset({'REVIEWS'}) properties={'date': '2012-04-14', 'score': '1.0', 'taste': 'nan', 'feel': 'nan', 'overall': 'nan', 'beer_id': '580', 'text': 'You had this beer. Write a review.', 'id': '1830325', 'smell': 'nan', 'look': 'nan'}>>,\n",
      " <Record r=<Node element_id='2245140' labels=frozenset({'REVIEWS'}) properties={'date': '2007-04-30', 'score': '3.6', 'taste': '3.5', 'feel': '3.0', 'overall': '3.5', 'beer_id': '577', 'text': '550ml bottle. 2006-07 Version. Crystal clear, dark amber liquid. Medium sized, creamy, ivory colored head. Scents of caramel, grass, alcohol (faint), cherries and spices (pepper and nutmeg). More sweet than bitter, but not by much. Herbal. Figs and cherries danced around a bit. Coriander. Touch of molasses. Pepper and maybe grass at the finish. Medium to medium + body. Fairly high carbonation as well, perhaps a bit too much. Dry. Nice winter warmer as winter hangs on here in Maryland into April. The spice flavor was a bit heavier than I care for, but was balanced nicely by the bittering. The carbonation could have been toned down as well. Very easy to drink, though.', 'id': '1824055', 'smell': '4.0', 'look': '4.0'}>>,\n",
      " <Record r=<Node element_id='2239445' labels=frozenset({'REVIEWS'}) properties={'date': '2014-01-23', 'score': '4.5', 'taste': 'nan', 'feel': 'nan', 'overall': 'nan', 'beer_id': '576', 'text': 'You had this beer. Write a review.', 'id': '1818360', 'smell': 'nan', 'look': 'nan'}>>,\n",
      " <Record r=<Node element_id='2234693' labels=frozenset({'REVIEWS'}) properties={'date': '2007-03-26', 'score': '3.85', 'taste': '4.0', 'feel': '3.5', 'overall': '3.5', 'beer_id': '573', 'text': '16oz. bottle Dark gold in color. Slightly hazy. Medium sized, off-white head. Peaches - 1st impression. Mild hops, very well balanced with malt. Bread/doughy smell. Melon. Nicely bitter, but not as aggressive as any of the U.S. versions I have tried. Hops are grassy/herbal in character. Not to do this beer an injustice, the hops certainly take center stage over the malt. Crackery flavor in the middle. Grassy at the finish, and lingering into the aftertaste. Based on my primarily U.S. experience, I would think of this as an ESB. I need to get out more... Medium in body and carbonation. Rather dry. Good, very sessionable. A nice, relatively mild IPA which I will enjoy again, I will just put it first in the lineup if I have any U.S. IPA to drink.', 'id': '1813608', 'smell': '4.0', 'look': '4.0'}>>,\n",
      " <Record r=<Node element_id='2232637' labels=frozenset({'REVIEWS'}) properties={'date': '2013-01-06', 'score': '4.25', 'taste': 'nan', 'feel': 'nan', 'overall': 'nan', 'beer_id': '573', 'text': 'You had this beer. Write a review.', 'id': '1811552', 'smell': 'nan', 'look': 'nan'}>>,\n",
      " <Record r=<Node element_id='2221145' labels=frozenset({'REVIEWS'}) properties={'date': '2012-09-11', 'score': '3.75', 'taste': 'nan', 'feel': 'nan', 'overall': 'nan', 'beer_id': '571', 'text': 'You had this beer. Write a review.', 'id': '1800060', 'smell': 'nan', 'look': 'nan'}>>,\n",
      " <Record r=<Node element_id='2221088' labels=frozenset({'REVIEWS'}) properties={'date': '2012-10-03', 'score': '4.5', 'taste': 'nan', 'feel': 'nan', 'overall': 'nan', 'beer_id': '571', 'text': 'You had this beer. Write a review.', 'id': '1800003', 'smell': 'nan', 'look': 'nan'}>>,\n",
      " <Record r=<Node element_id='2212901' labels=frozenset({'REVIEWS'}) properties={'date': '2014-03-14', 'score': '4.5', 'taste': 'nan', 'feel': 'nan', 'overall': 'nan', 'beer_id': '25383', 'text': 'You had this beer. Write a review.', 'id': '1791816', 'smell': 'nan', 'look': 'nan'}>>,\n",
      " <Record r=<Node element_id='2217257' labels=frozenset({'REVIEWS'}) properties={'date': '2014-01-23', 'score': '4.75', 'taste': 'nan', 'feel': 'nan', 'overall': 'nan', 'beer_id': '571', 'text': 'You had this beer. Write a review.', 'id': '1796172', 'smell': 'nan', 'look': 'nan'}>>,\n",
      " <Record r=<Node element_id='2218375' labels=frozenset({'REVIEWS'}) properties={'date': '2012-05-25', 'score': '1.75', 'taste': 'nan', 'feel': 'nan', 'overall': 'nan', 'beer_id': '1798', 'text': 'You had this beer. Write a review.', 'id': '1797290', 'smell': 'nan', 'look': 'nan'}>>,\n",
      " <Record r=<Node element_id='2220705' labels=frozenset({'REVIEWS'}) properties={'date': '2012-12-04', 'score': '5.0', 'taste': 'nan', 'feel': 'nan', 'overall': 'nan', 'beer_id': '571', 'text': 'You had this beer. Write a review.', 'id': '1799620', 'smell': 'nan', 'look': 'nan'}>>,\n",
      " <Record r=<Node element_id='2207972' labels=frozenset({'REVIEWS'}) properties={'date': '2012-09-10', 'score': '3.0', 'taste': 'nan', 'feel': 'nan', 'overall': 'nan', 'beer_id': '567', 'text': 'You had this beer. Write a review.', 'id': '1786887', 'smell': 'nan', 'look': 'nan'}>>,\n",
      " <Record r=<Node element_id='2208191' labels=frozenset({'REVIEWS'}) properties={'date': '2012-04-14', 'score': '2.0', 'taste': 'nan', 'feel': 'nan', 'overall': 'nan', 'beer_id': '567', 'text': 'You had this beer. Write a review.', 'id': '1787106', 'smell': 'nan', 'look': 'nan'}>>,\n",
      " <Record r=<Node element_id='2207966' labels=frozenset({'REVIEWS'}) properties={'date': '2012-09-15', 'score': '4.0', 'taste': 'nan', 'feel': 'nan', 'overall': 'nan', 'beer_id': '567', 'text': 'You had this beer. Write a review.', 'id': '1786881', 'smell': 'nan', 'look': 'nan'}>>,\n",
      " <Record r=<Node element_id='2199932' labels=frozenset({'REVIEWS'}) properties={'date': '2007-10-08', 'score': '3.47', 'taste': 'nan', 'feel': 'nan', 'overall': 'nan', 'beer_id': '39000', 'text': \"On tap at the brewpub. Poured a hazy, dirty orange brown color. Medium, creamy, off-white head formed. Big grapefruit aroma. Some biscuit/cracker scents in there as well. Taste followed aroma, grapefruit and a crackery middle. Grass at finish. Medium in body. Medium carbonation. Very dry. Overall, I liked this beer quite a bit. Good hop flavor, yet a relatively light body and, I'm assuming, alcohol content.\", 'id': '1778847', 'smell': 'nan', 'look': 'nan'}>>,\n",
      " <Record r=<Node element_id='2171752' labels=frozenset({'REVIEWS'}) properties={'date': '2007-06-21', 'score': '3.55', 'taste': '3.5', 'feel': '2.5', 'overall': '3.5', 'beer_id': '25348', 'text': \"12oz. bottle, best before August (07, I hope). Crystal clear, amber color. Medium sized, creamy, ivory head. Very lively. Not much in the way of lacing or legs. Aroma was strong. Pineapple and peach. Brown sugar and/or caramel. Oranges. Taste was more bitter than sweet. Biscuity in the middle. Peaches and just a hint of brown sugar. Grass at the finish. Light to medium in body, seems like it should be heavier. Medium or more carbonation, could be lighter. Quite dry. Very drinkable. Good hop flavor without an over the top ABV. Only complaint is the mouthfeel. The lack of body and xs carbonation don't do this beer any favors.\", 'id': '1750667', 'smell': '4.0', 'look': '4.0'}>>,\n",
      " <Record r=<Node element_id='2152821' labels=frozenset({'REVIEWS'}) properties={'date': '2011-11-24', 'score': '5.0', 'taste': 'nan', 'feel': 'nan', 'overall': 'nan', 'beer_id': '46146', 'text': 'You had this beer. Write a review.', 'id': '1731736', 'smell': 'nan', 'look': 'nan'}>>,\n",
      " <Record r=<Node element_id='2150740' labels=frozenset({'REVIEWS'}) properties={'date': '2012-03-05', 'score': '3.0', 'taste': 'nan', 'feel': 'nan', 'overall': 'nan', 'beer_id': '2046', 'text': 'You had this beer. Write a review.', 'id': '1729655', 'smell': 'nan', 'look': 'nan'}>>,\n",
      " <Record r=<Node element_id='2146939' labels=frozenset({'REVIEWS'}) properties={'date': '2014-03-27', 'score': '2.64', 'taste': '3.0', 'feel': '3.0', 'overall': '3.0', 'beer_id': '113602', 'text': \"The nose is a little strong, at first it really smells like cat piss. Giving it more time you start to take in the grapefruit and apricot. The pour has a nice amber color, mild cloudiness. Small head that diminishes quickly. Grapefruits hits first on tasting, while savoring on the tongue you can really taste the cascade hops. Finishes very smooth, surprising considering the citrusy punch this ale starts with. This is well outside my wheelhouse of galaxy hop IPA's, but a trip worth taking, and revisiting.\", 'id': '1725854', 'smell': '1.5', 'look': '3.0'}>>,\n",
      " <Record r=<Node element_id='2138865' labels=frozenset({'REVIEWS'}) properties={'date': '2008-04-14', 'score': '4.6', 'taste': '5.0', 'feel': '5.0', 'overall': '4.5', 'beer_id': '459', 'text': 'Fred, Batch #1, 12oz. bottle Poured a hazy, light brown color with some orange tones. No head to speak of, remnants of foam appear to be light tan. No lacing, decent legs. Smelled a lot like port - dark fruits, raisins, figs. Caramel and sweet wheat bread. Very faint touch of cardboard, and a ghost of herbal bitterness. Taste was more sweet than bitter. Touch of alcohol. Raisins, figs, again port would not be a bad description. Carmelized sugar. A bit more of the herbal bitterness at the end. Full body. No to low carbonation. Sweet moreso than dry. ABV warming at first sip. A great sipper and a fantastic dessert. I enjoyed it over an hour or so and it kept getting better. I tried a fresh version recently, and it had a much stronger hop character, and quite a bit more carbonation. I like it better with the age on it.', 'id': '1717780', 'smell': '4.0', 'look': '4.0'}>>,\n",
      " <Record r=<Node element_id='2112492' labels=frozenset({'REVIEWS'}) properties={'date': '2007-05-11', 'score': '1.44', 'taste': '1.0', 'feel': '3.0', 'overall': '1.0', 'beer_id': '2213', 'text': \"12oz. bottle. I tried really, really hard to keep an open mind, despite what I had read before... Poured a clear dark gold and formed a modest white head. Head faded fast, but other than that, so far, so good. Pepper exited the bottle and floated around in the fading head like a small green turd. Pepper was introduced to the trash can. They had a fine time together. Things start to slip as I smell the aroma. Spicy and peppery - OK, not bad. Bread dough - OK, that's normal. Vinegar - Houston, we may have a problem. And then the wheels come off -- first impression of taste is just a spicy/peppery flavor. If that is what they were going for, they nailed it. Unfortunately, that's really all that you get. I tried several sips, looking for other characteristics, and the only other thing I could pull out was yeasty/bread dough. Didn't work for me at all. I like hot and spicy stuff, but with the qualifier that it has to taste good as well. Light in body, with low to medium carbonation. Dry, I think. Mouthfeel was pretty good, other than the burning in my esophagus that I am pretty sure had nothing to do with alcohol. Overall, first drain pour in a while. I can get a similar experience by drinking the juice out of my jar of jalapeno slices in the fridge. I can't say I wasn't warned, but had to give it a try. I would bet that you could make an interesting pot of chili or beer cheese soup with this.\", 'id': '1691407', 'smell': '1.5', 'look': '3.0'}>>,\n",
      " <Record r=<Node element_id='2105812' labels=frozenset({'REVIEWS'}) properties={'date': '2012-07-01', 'score': '4.0', 'taste': 'nan', 'feel': 'nan', 'overall': 'nan', 'beer_id': '429', 'text': 'You had this beer. Write a review.', 'id': '1684727', 'smell': 'nan', 'look': 'nan'}>>,\n",
      " <Record r=<Node element_id='2105341' labels=frozenset({'REVIEWS'}) properties={'date': '2013-01-15', 'score': '3.75', 'taste': 'nan', 'feel': 'nan', 'overall': 'nan', 'beer_id': '429', 'text': 'You had this beer. Write a review.', 'id': '1684256', 'smell': 'nan', 'look': 'nan'}>>,\n",
      " <Record r=<Node element_id='2092166' labels=frozenset({'REVIEWS'}) properties={'date': '2012-12-09', 'score': '5.0', 'taste': 'nan', 'feel': 'nan', 'overall': 'nan', 'beer_id': '412', 'text': 'You had this beer. Write a review.', 'id': '1671081', 'smell': 'nan', 'look': 'nan'}>>,\n",
      " <Record r=<Node element_id='2093098' labels=frozenset({'REVIEWS'}) properties={'date': '2012-05-04', 'score': '4.5', 'taste': 'nan', 'feel': 'nan', 'overall': 'nan', 'beer_id': '412', 'text': 'You had this beer. Write a review.', 'id': '1672013', 'smell': 'nan', 'look': 'nan'}>>,\n",
      " <Record r=<Node element_id='2092201' labels=frozenset({'REVIEWS'}) properties={'date': '2012-11-29', 'score': '4.75', 'taste': 'nan', 'feel': 'nan', 'overall': 'nan', 'beer_id': '412', 'text': 'You had this beer. Write a review.', 'id': '1671116', 'smell': 'nan', 'look': 'nan'}>>,\n",
      " <Record r=<Node element_id='2076520' labels=frozenset({'REVIEWS'}) properties={'date': '2006-07-12', 'score': '3.41', 'taste': '3.5', 'feel': '3.5', 'overall': '3.5', 'beer_id': '677', 'text': 'Served in appropriate De Koninck glassware. Appearance was amber and very clear, with a fair size head. I did not pick up much from the aroma beyond the usual malt and hop mix, but neither seemed to predominate. The taste was well balanced, but hops seemd to come through more strongly. I picked up some spiciness in the finish. Mouthfeel was medium in body, with fairly high carbonation, and a drying finish. Very drinkable, as the dry taste keeps you coming back.', 'id': '1655435', 'smell': '3.0', 'look': '4.0'}>>,\n",
      " <Record r=<Node element_id='2045231' labels=frozenset({'REVIEWS'}) properties={'date': '2012-09-11', 'score': '3.5', 'taste': 'nan', 'feel': 'nan', 'overall': 'nan', 'beer_id': '387', 'text': 'You had this beer. Write a review.', 'id': '1624146', 'smell': 'nan', 'look': 'nan'}>>,\n",
      " <Record r=<Node element_id='2037574' labels=frozenset({'REVIEWS'}) properties={'date': '2007-04-10', 'score': '3.6', 'taste': '3.5', 'feel': '3.0', 'overall': '3.5', 'beer_id': '383', 'text': '12oz. bottle Clear mahogany color with lots of ruby tones in it. Small, light brown head. Some carb action going on. Very malty aroma. Primarily dark fruits and molasses. Taste still malt dominant, but much less so than nose. Molasses, crackers, wheat bread, some fruit. Hop bittering, rather mild and mainly present in aftertaste. Light and thin body. A bit grainy and chalky in texture. Carbonation seemed low to medium. Quite refreshing. From the label \"If you were going to spend eternity drinking beer, this would be the one\" - sets a pretty high bar. IMO, not bad, but misses the eternity mark. Fairly true to style, but could use a heavier body. My personal opinion is not enough hops, but I say that about almost every beer now....', 'id': '1616489', 'smell': '4.0', 'look': '4.0'}>>,\n",
      " <Record r=<Node element_id='2040949' labels=frozenset({'REVIEWS'}) properties={'date': '2014-02-19', 'score': '3.75', 'taste': 'nan', 'feel': 'nan', 'overall': 'nan', 'beer_id': '386', 'text': 'You had this beer. Write a review.', 'id': '1619864', 'smell': 'nan', 'look': 'nan'}>>,\n",
      " <Record r=<Node element_id='2039834' labels=frozenset({'REVIEWS'}) properties={'date': '2007-03-07', 'score': '4.15', 'taste': '4.5', 'feel': '3.5', 'overall': '4.0', 'beer_id': '385', 'text': '12oz. bottle Crystal clear, true golden color. Modest, off white head. Bread/dough aroma. Sweet wheat bread, but faint. Grassy & floral notes. Herbal & spicy, with a biscuity malt character. Very little sweet flavor, if any. Bitter lingers nicely. Light in body, with medium + carbonation (perhaps a bit too high). Dry. Excellent. A fine beer. Refreshing & sessionable. Not going to blow your mind with flavor or ABV, but a pleasure to drink. I think this is going to start me exploring this category again.', 'id': '1618749', 'smell': '4.0', 'look': '4.0'}>>,\n",
      " <Record r=<Node element_id='2023517' labels=frozenset({'REVIEWS'}) properties={'date': '2011-04-20', 'score': '3.5', 'taste': '3.5', 'feel': '3.5', 'overall': '3.5', 'beer_id': '55875', 'text': 'Was surprised to see this at the LCBO here in Windsor as they don’t often carry much BC beer. Appearance - This one poured deep amber with a small creamy head. Aroma - Sweet and hoppy aroma and flavour reminiscent of oranges, not the usual hoppy grapefruit. Flavour - Nice hop bite against a mild malty backdrop. Overall: not bad. I would gladly drink this beer again. I hope the LCBO gets more BC beer. It would be nice to see Phillips down here.', 'id': '1602432', 'smell': '3.5', 'look': '3.5'}>>,\n",
      " <Record r=<Node element_id='2022276' labels=frozenset({'REVIEWS'}) properties={'date': '2008-04-14', 'score': '4.35', 'taste': '4.5', 'feel': '4.5', 'overall': '4.5', 'beer_id': '3977', 'text': '22oz bottle. Clear, light gold in color. Formed a medium, off-white, creamy head. Decent lacing, minimal legs. Scents of grapefruit, oranges and tangerines. Honey. Spicy and peppery. Taste was more bitter than sweet, primarily grassy. Lingers nicely. Dry, crackery middle, moving towards biscuity as it warms. Grapefruit. Caramel and honey. Pepper at finish. Medium body. Medium to high carbonation. Quite dry. Very good, nice and dry. Balance is tilted towards hops, but very well done.', 'id': '1601191', 'smell': '4.0', 'look': '4.0'}>>,\n",
      " <Record r=<Node element_id='2010334' labels=frozenset({'REVIEWS'}) properties={'date': '2010-05-22', 'score': '3.83', 'taste': '4.0', 'feel': '3.5', 'overall': '4.0', 'beer_id': '355', 'text': \"Served in a 20 oz mug The first time I had Dead Guy I wasn't that impressed, but this was a totally different experience. It smelled faintly of raisins and hops - pretty good. I tasted mostly dark fruits and lime. It was a little bit on the sweet side, but I felt it was appropriate. The balance is excellent, making this highly drinkable.\", 'id': '1589249', 'smell': '3.5', 'look': '4.0'}>>,\n",
      " <Record r=<Node element_id='2005956' labels=frozenset({'REVIEWS'}) properties={'date': '2012-11-29', 'score': '4.25', 'taste': 'nan', 'feel': 'nan', 'overall': 'nan', 'beer_id': '355', 'text': 'You had this beer. Write a review.', 'id': '1584871', 'smell': 'nan', 'look': 'nan'}>>,\n",
      " <Record r=<Node element_id='2006564' labels=frozenset({'REVIEWS'}) properties={'date': '2012-09-11', 'score': '4.0', 'taste': 'nan', 'feel': 'nan', 'overall': 'nan', 'beer_id': '355', 'text': 'You had this beer. Write a review.', 'id': '1585479', 'smell': 'nan', 'look': 'nan'}>>,\n",
      " <Record r=<Node element_id='1992009' labels=frozenset({'REVIEWS'}) properties={'date': '2014-01-26', 'score': '4.0', 'taste': 'nan', 'feel': 'nan', 'overall': 'nan', 'beer_id': '353', 'text': 'You had this beer. Write a review.', 'id': '1570924', 'smell': 'nan', 'look': 'nan'}>>,\n",
      " <Record r=<Node element_id='1982953' labels=frozenset({'REVIEWS'}) properties={'date': '2012-10-30', 'score': '4.5', 'taste': 'nan', 'feel': 'nan', 'overall': 'nan', 'beer_id': '35732', 'text': 'You had this beer. Write a review.', 'id': '1561868', 'smell': 'nan', 'look': 'nan'}>>,\n",
      " <Record r=<Node element_id='1975974' labels=frozenset({'REVIEWS'}) properties={'date': '2012-12-23', 'score': '1.5', 'taste': 'nan', 'feel': 'nan', 'overall': 'nan', 'beer_id': '332', 'text': 'You had this beer. Write a review.', 'id': '1554889', 'smell': 'nan', 'look': 'nan'}>>,\n",
      " <Record r=<Node element_id='1976839' labels=frozenset({'REVIEWS'}) properties={'date': '2012-04-26', 'score': '3.25', 'taste': 'nan', 'feel': 'nan', 'overall': 'nan', 'beer_id': '332', 'text': 'You had this beer. Write a review.', 'id': '1555754', 'smell': 'nan', 'look': 'nan'}>>,\n",
      " <Record r=<Node element_id='1978067' labels=frozenset({'REVIEWS'}) properties={'date': '2008-09-26', 'score': '2.92', 'taste': '3.0', 'feel': '3.0', 'overall': '3.5', 'beer_id': '332', 'text': 'Looks a pale golden color. Little bit of head if poured straight down center of glass. Smells like corn. Taste is on the light side (it is a light beer) and is a bit watered down but does have some malty flavor and corn aroma. Mouthfeel is light and carbonated. It is not particulary strong in taste but is consumable. The drinkability is easy when it comes to doing projects around the house and you need a cold one. Not necessarily one you would impress friends with but easy to drink on summer days.', 'id': '1556982', 'smell': '2.5', 'look': '2.0'}>>,\n",
      " <Record r=<Node element_id='1977249' labels=frozenset({'REVIEWS'}) properties={'date': '2012-02-06', 'score': '2.0', 'taste': 'nan', 'feel': 'nan', 'overall': 'nan', 'beer_id': '332', 'text': 'You had this beer. Write a review.', 'id': '1556164', 'smell': 'nan', 'look': 'nan'}>>,\n",
      " <Record r=<Node element_id='1968196' labels=frozenset({'REVIEWS'}) properties={'date': '2012-12-10', 'score': '3.0', 'taste': 'nan', 'feel': 'nan', 'overall': 'nan', 'beer_id': '13005', 'text': 'You had this beer. Write a review.', 'id': '1547111', 'smell': 'nan', 'look': 'nan'}>>,\n",
      " <Record r=<Node element_id='1961033' labels=frozenset({'REVIEWS'}) properties={'date': '2012-09-11', 'score': '3.5', 'taste': 'nan', 'feel': 'nan', 'overall': 'nan', 'beer_id': '73864', 'text': 'You had this beer. Write a review.', 'id': '1539948', 'smell': 'nan', 'look': 'nan'}>>,\n",
      " <Record r=<Node element_id='1954195' labels=frozenset({'REVIEWS'}) properties={'date': '2013-02-19', 'score': '4.25', 'taste': 'nan', 'feel': 'nan', 'overall': 'nan', 'beer_id': '88889', 'text': 'You had this beer. Write a review.', 'id': '1533110', 'smell': 'nan', 'look': 'nan'}>>,\n",
      " <Record r=<Node element_id='1942524' labels=frozenset({'REVIEWS'}) properties={'date': '2012-08-26', 'score': '4.75', 'taste': 'nan', 'feel': 'nan', 'overall': 'nan', 'beer_id': '58048', 'text': 'You had this beer. Write a review.', 'id': '1521439', 'smell': 'nan', 'look': 'nan'}>>,\n",
      " <Record r=<Node element_id='1950344' labels=frozenset({'REVIEWS'}) properties={'date': '2011-07-08', 'score': '4.42', 'taste': '4.5', 'feel': '4.0', 'overall': '4.5', 'beer_id': '69669', 'text': 'On tap at the Hopleaf in Chicago. Appearance - Really nice, long-lasting, white head over a hazy, golden-orange brew. Smell - Gives off huge aromas of fruity citrus, pine, and floral - an explosion of hops. Nice bit of fruity Belgian yeast as well. Taste - Fruity and yeasty, with lots of sweet hops flavour; bitter enough for excellent balance without being overwhelming. This is a excellent Belgian IPA.', 'id': '1529259', 'smell': '4.5', 'look': '4.0'}>>,\n",
      " <Record r=<Node element_id='1934282' labels=frozenset({'REVIEWS'}) properties={'date': '2012-11-25', 'score': '4.0', 'taste': 'nan', 'feel': 'nan', 'overall': 'nan', 'beer_id': '2184', 'text': 'You had this beer. Write a review.', 'id': '1513197', 'smell': 'nan', 'look': 'nan'}>>,\n",
      " <Record r=<Node element_id='1939279' labels=frozenset({'REVIEWS'}) properties={'date': '2007-12-10', 'score': '3.2', 'taste': '3.0', 'feel': '3.5', 'overall': '3.0', 'beer_id': '310', 'text': '0% On tap at the Harpoon Tap Room in Logan airport. Crystal clear, chestnut brown with some orange highlights. Small, off-white head. Very still. Scents of nutmeg, and cinnamon. Smells very sweet. Molasses and caramel. Pumpkin pie. Some earthiness. Taste is quite spicy, a bit too much. Not as sweet as aroma would lead you to expect. Decent balance of bitterness (herbal and grassy mainly) in the finish & aftertaste. Sweet component is burnt sugar (beyond just carmelized). Some roast notes. Wheat bread in the middle. Medium body. Medium, at best, carbonation. Pretty dry. Too spicy, in my opinion. If that was toned down a bit, this would be a very enjoyable beer.', 'id': '1518194', 'smell': '3.5', 'look': '3.5'}>>,\n",
      " <Record r=<Node element_id='1925222' labels=frozenset({'REVIEWS'}) properties={'date': '2013-01-13', 'score': '3.0', 'taste': 'nan', 'feel': 'nan', 'overall': 'nan', 'beer_id': '299', 'text': 'You had this beer. Write a review.', 'id': '1504137', 'smell': 'nan', 'look': 'nan'}>>,\n",
      " <Record r=<Node element_id='1926131' labels=frozenset({'REVIEWS'}) properties={'date': '2012-08-07', 'score': '3.75', 'taste': 'nan', 'feel': 'nan', 'overall': 'nan', 'beer_id': '299', 'text': 'You had this beer. Write a review.', 'id': '1505046', 'smell': 'nan', 'look': 'nan'}>>,\n",
      " <Record r=<Node element_id='1925975' labels=frozenset({'REVIEWS'}) properties={'date': '2012-09-15', 'score': '4.0', 'taste': 'nan', 'feel': 'nan', 'overall': 'nan', 'beer_id': '299', 'text': 'You had this beer. Write a review.', 'id': '1504890', 'smell': 'nan', 'look': 'nan'}>>,\n",
      " <Record r=<Node element_id='1910288' labels=frozenset({'REVIEWS'}) properties={'date': '2007-10-22', 'score': '3.65', 'taste': '3.5', 'feel': '4.0', 'overall': '4.0', 'beer_id': '295', 'text': '12oz. bottle. \"A paler shade of ale\" is the description. Poured a relatively clear, dark amber fluid (pale?). It was capped by a smallish, creamy, off-white head. My first impression was a very mild scent of caramel. This was immediately followed by stronger citrus aromas, including pineapple and oranges. I believe there were floral notes in there as well. Taste was nicely balanced. Think of a slight spread of orange or pineapple marmalade on some wheat bread. Bittering lingers well in aftertaste, maybe some grass as well. Medium in body, medium in carbonation. Overall, pretty refreshing, just a bit dry in the finish. Easy to drink, mild overall. Pleasant and well balanced. I would certainly drink again.', 'id': '1489203', 'smell': '3.5', 'look': '3.5'}>>,\n",
      " <Record r=<Node element_id='1908022' labels=frozenset({'REVIEWS'}) properties={'date': '2006-09-21', 'score': '3.01', 'taste': '3.0', 'feel': '3.5', 'overall': '2.5', 'beer_id': '25880', 'text': \"12oz. bottle. Brewed with pumkin and spices (cinnamon, nutmeg, cardamon & cloves). A clear very dark copper/orange ale with a large light tan head. Aroma was all about the spice, mainly clove and nutmeg. The pumpkin was hiding quite effectively until almost the end of the beer. Hops were fairly strong, and the malt was barely noticeable with everything else going on. Finally, you got a definate whiff of alcohol. Taste moves away from the aroma, in that the malt was quite prevalent - a sweet dark bread type of flavor - this was easily the sweetest of the 4 pumpkin ales I tried in this session. The hops were secondary, but quite present at the finish. This, combined with the spices and a peppery aftertaste gave a pretty good bite at the end. Other tasting notes included alcohol/medicinal flavors, clove, and mint. To me, a pumpkin flavor was not really in the mix, but you picked it up a little in the aftertaste. The mouthfeel was medium in body, fairly light carbonation, and creamy. Alcohol made for a rather drying finish. Overall, I didn't care for the alcohol/medicinal notes and I think they tried to do a little too much with this one. Not sure we need an Imperial Pumkin Ale, but hats off to them for trying.\", 'id': '1486937', 'smell': '3.0', 'look': '4.0'}>>,\n",
      " <Record r=<Node element_id='1903414' labels=frozenset({'REVIEWS'}) properties={'date': '2013-06-15', 'score': '3.75', 'taste': 'nan', 'feel': 'nan', 'overall': 'nan', 'beer_id': '25880', 'text': 'You had this beer. Write a review.', 'id': '1482329', 'smell': 'nan', 'look': 'nan'}>>,\n",
      " <Record r=<Node element_id='1883129' labels=frozenset({'REVIEWS'}) properties={'date': '2012-03-27', 'score': '5.0', 'taste': 'nan', 'feel': 'nan', 'overall': 'nan', 'beer_id': '280', 'text': 'You had this beer. Write a review.', 'id': '1462044', 'smell': 'nan', 'look': 'nan'}>>,\n",
      " <Record r=<Node element_id='1890111' labels=frozenset({'REVIEWS'}) properties={'date': '2012-01-09', 'score': '4.5', 'taste': 'nan', 'feel': 'nan', 'overall': 'nan', 'beer_id': '283', 'text': 'You had this beer. Write a review.', 'id': '1469026', 'smell': 'nan', 'look': 'nan'}>>,\n",
      " <Record r=<Node element_id='1879457' labels=frozenset({'REVIEWS'}) properties={'date': '2012-11-08', 'score': '3.5', 'taste': 'nan', 'feel': 'nan', 'overall': 'nan', 'beer_id': '279', 'text': 'You had this beer. Write a review.', 'id': '1458372', 'smell': 'nan', 'look': 'nan'}>>,\n",
      " <Record r=<Node element_id='1879391' labels=frozenset({'REVIEWS'}) properties={'date': '2012-12-28', 'score': '3.5', 'taste': 'nan', 'feel': 'nan', 'overall': 'nan', 'beer_id': '279', 'text': 'You had this beer. Write a review.', 'id': '1458306', 'smell': 'nan', 'look': 'nan'}>>,\n",
      " <Record r=<Node element_id='1866052' labels=frozenset({'REVIEWS'}) properties={'date': '2012-12-23', 'score': '3.75', 'taste': 'nan', 'feel': 'nan', 'overall': 'nan', 'beer_id': '276', 'text': 'You had this beer. Write a review.', 'id': '1444967', 'smell': 'nan', 'look': 'nan'}>>,\n",
      " <Record r=<Node element_id='1863429' labels=frozenset({'REVIEWS'}) properties={'date': '2014-02-09', 'score': '5.0', 'taste': 'nan', 'feel': 'nan', 'overall': 'nan', 'beer_id': '276', 'text': 'You had this beer. Write a review.', 'id': '1442344', 'smell': 'nan', 'look': 'nan'}>>,\n",
      " <Record r=<Node element_id='1846945' labels=frozenset({'REVIEWS'}) properties={'date': '2011-07-27', 'score': '3.88', 'taste': '4.0', 'feel': '4.0', 'overall': '4.0', 'beer_id': '50276', 'text': 'Appearance - amber with a pinkish hue, moderately sized head that dies off quickly, but hangs around in a ring. Smell - Subtly spicy and floral with a yeasty fruitiness and a hint of tart apple. Mouthfeel - Well-carbonated, softly crisp. Taste - Floral and tart with a bit of apple and a chalky, dry quality. Finishes crisp and dry.', 'id': '1425860', 'smell': '3.5', 'look': '4.0'}>>,\n",
      " <Record r=<Node element_id='1834436' labels=frozenset({'REVIEWS'}) properties={'date': '2007-12-10', 'score': '3.3', 'taste': '3.5', 'feel': '3.0', 'overall': '3.5', 'beer_id': '255', 'text': '12oz. bottle Hazy, dirty orange in color. Small, off-white head. Aroma was mild grapefruit and honey. Very mild scent overall. Taste was more bitter than sweet. Grassy and lingering. Biscuity middle. Slight fruity flavor and a touch of caramel. Medium in body. Medium + carbonation. Dry. OK, pretty strong hops for style.', 'id': '1413351', 'smell': '3.0', 'look': '3.0'}>>,\n",
      " <Record r=<Node element_id='1822710' labels=frozenset({'REVIEWS'}) properties={'date': '2012-08-03', 'score': '4.25', 'taste': 'nan', 'feel': 'nan', 'overall': 'nan', 'beer_id': '248', 'text': 'You had this beer. Write a review.', 'id': '1401625', 'smell': 'nan', 'look': 'nan'}>>,\n",
      " <Record r=<Node element_id='1821749' labels=frozenset({'REVIEWS'}) properties={'date': '2012-12-04', 'score': '4.0', 'taste': 'nan', 'feel': 'nan', 'overall': 'nan', 'beer_id': '248', 'text': 'You had this beer. Write a review.', 'id': '1400664', 'smell': 'nan', 'look': 'nan'}>>,\n",
      " <Record r=<Node element_id='1830460' labels=frozenset({'REVIEWS'}) properties={'date': '2013-01-19', 'score': '4.25', 'taste': 'nan', 'feel': 'nan', 'overall': 'nan', 'beer_id': '79286', 'text': '0% You had this beer. Write a review.', 'id': '1409375', 'smell': 'nan', 'look': 'nan'}>>,\n",
      " <Record r=<Node element_id='1824857' labels=frozenset({'REVIEWS'}) properties={'date': '2010-07-29', 'score': '4.0', 'taste': '4.0', 'feel': '4.0', 'overall': '4.0', 'beer_id': '248', 'text': 'Poured an 11.2 bottle into a Chimay glass (my usual). Decent head and good appearance. Somewhat cloudy, light golden color. A pleasant tasting belgian beer for not much more than a good American beer. Plenty of value. I consider this one of my staple beers.', 'id': '1403772', 'smell': '4.0', 'look': '4.0'}>>,\n",
      " <Record r=<Node element_id='1812347' labels=frozenset({'REVIEWS'}) properties={'date': '2012-04-14', 'score': '1.25', 'taste': 'nan', 'feel': 'nan', 'overall': 'nan', 'beer_id': '246', 'text': 'You had this beer. Write a review.', 'id': '1391262', 'smell': 'nan', 'look': 'nan'}>>,\n",
      " <Record r=<Node element_id='1813062' labels=frozenset({'REVIEWS'}) properties={'date': '2012-01-15', 'score': '2.5', 'taste': 'nan', 'feel': 'nan', 'overall': 'nan', 'beer_id': '246', 'text': 'You had this beer. Write a review.', 'id': '1391977', 'smell': 'nan', 'look': 'nan'}>>,\n",
      " <Record r=<Node element_id='1819500' labels=frozenset({'REVIEWS'}) properties={'date': '2013-08-07', 'score': '4.0', 'taste': 'nan', 'feel': 'nan', 'overall': 'nan', 'beer_id': '248', 'text': 'You had this beer. Write a review.', 'id': '1398415', 'smell': 'nan', 'look': 'nan'}>>,\n",
      " <Record r=<Node element_id='1812727' labels=frozenset({'REVIEWS'}) properties={'date': '2012-02-27', 'score': '2.5', 'taste': 'nan', 'feel': 'nan', 'overall': 'nan', 'beer_id': '246', 'text': 'You had this beer. Write a review.', 'id': '1391642', 'smell': 'nan', 'look': 'nan'}>>,\n",
      " <Record r=<Node element_id='1782998' labels=frozenset({'REVIEWS'}) properties={'date': '2012-04-26', 'score': '2.25', 'taste': 'nan', 'feel': 'nan', 'overall': 'nan', 'beer_id': '233', 'text': 'You had this beer. Write a review.', 'id': '1361913', 'smell': 'nan', 'look': 'nan'}>>,\n",
      " <Record r=<Node element_id='1782643' labels=frozenset({'REVIEWS'}) properties={'date': '2013-02-20', 'score': '1.25', 'taste': 'nan', 'feel': 'nan', 'overall': 'nan', 'beer_id': '233', 'text': 'You had this beer. Write a review.', 'id': '1361558', 'smell': 'nan', 'look': 'nan'}>>,\n",
      " <Record r=<Node element_id='1787741' labels=frozenset({'REVIEWS'}) properties={'date': '2014-02-19', 'score': '4.0', 'taste': 'nan', 'feel': 'nan', 'overall': 'nan', 'beer_id': '234', 'text': 'You had this beer. Write a review.', 'id': '1366656', 'smell': 'nan', 'look': 'nan'}>>,\n",
      " <Record r=<Node element_id='1778783' labels=frozenset({'REVIEWS'}) properties={'date': '2012-09-15', 'score': '5.0', 'taste': 'nan', 'feel': 'nan', 'overall': 'nan', 'beer_id': '232', 'text': 'You had this beer. Write a review.', 'id': '1357698', 'smell': 'nan', 'look': 'nan'}>>,\n",
      " <Record r=<Node element_id='1780142' labels=frozenset({'REVIEWS'}) properties={'date': '2010-06-02', 'score': '4.0', 'taste': '4.0', 'feel': '4.0', 'overall': '4.0', 'beer_id': '232', 'text': \"I am older (58) and my taste for heavier beers has diminished. I am sensitive to acidy so I don't go for brews with a citrus flavor. I almost always eat when I drink, so I don't want a beer that overpowers my food. I am sensitive to brewing processes and some preservatives so I don't want a beer that makes me feel like crap or makes me pee 3 beers for every one I drink. I tend to drink beer at room temperature. I love Corona. It's not too heavy or filling. It doesn't overpower the food I am eating. I don't overpee when I drink it or suffer any ill effects. It goes down easy with a mild bitter after taste. It seems a little less carbonated then most beers. It's not at the top of my list, but it's my pick for a very drinkable everyday beer. If you agree with this review, you will also probably like Lionshead.\", 'id': '1359057', 'smell': '4.0', 'look': '4.0'}>>,\n",
      " <Record r=<Node element_id='1779569' labels=frozenset({'REVIEWS'}) properties={'date': '2012-01-26', 'score': '2.5', 'taste': 'nan', 'feel': 'nan', 'overall': 'nan', 'beer_id': '232', 'text': 'You had this beer. Write a review.', 'id': '1358484', 'smell': 'nan', 'look': 'nan'}>>,\n",
      " <Record r=<Node element_id='1763944' labels=frozenset({'REVIEWS'}) properties={'date': '2007-09-17', 'score': '4.28', 'taste': '4.5', 'feel': '3.5', 'overall': '4.5', 'beer_id': '22387', 'text': \"12oz. bottle Crystal clear, deep copper color. Great looking beer! Topped with a small to medium, light tan head. Rich and malty is my first impression of the aroma. Hops come across as herbal. A bit milder scent than I expected. Taste is an excellent balance of big hops and a strong malt backbone. Tastes of caramel, herbal and piney hops. Grass at the finish and lingering into the aftertaste. Medium + in body, rich and almost creamy. Medium + in carbonation as well, could turn downa notch. A bit dry, especially at the finish. Very drinkable, gives Nugget Nectar a run for it's money. Shame there isn't any fresh around to compare it to. This is a very well done imperial!\", 'id': '1342859', 'smell': '4.0', 'look': '4.5'}>>,\n",
      " <Record r=<Node element_id='1757730' labels=frozenset({'REVIEWS'}) properties={'date': '2012-09-23', 'score': '4.5', 'taste': 'nan', 'feel': 'nan', 'overall': 'nan', 'beer_id': '226', 'text': 'You had this beer. Write a review.', 'id': '1336645', 'smell': 'nan', 'look': 'nan'}>>,\n",
      " <Record r=<Node element_id='1760434' labels=frozenset({'REVIEWS'}) properties={'date': '2007-10-03', 'score': '4.38', 'taste': '4.5', 'feel': '4.5', 'overall': '4.5', 'beer_id': '226', 'text': \"On tap at Clark Street in Chicago Clear, mahogany colored liquid, filled with ruby highlights. Medium to large, creamy, light brown head. Coffee & smoke seemed to be the dominant aromas. A bit musty almost. None of this was bad... Taste was well balanced between the sweet & bitter components. Caramel and a touch of dark fruit, followed with grassy/herbal hops. Just a hint of alcohol, very faint. Medium body. Light to medium carbonation. Creamy mouthfeel. Very refreshing. This is an excellent beer. I haven't drank a lot of porters, so I am definitely not doing it justice in the description. Well deserving of it's ranking, and if you can get it, you should!\", 'id': '1339349', 'smell': '4.0', 'look': '4.5'}>>,\n",
      " <Record r=<Node element_id='1753299' labels=frozenset({'REVIEWS'}) properties={'date': '2011-04-20', 'score': '4.16', 'taste': '4.0', 'feel': '5.0', 'overall': '4.0', 'beer_id': '1545', 'text': 'Purchased this at de Bier Tempel in Brussels and had it in my hotel room, which was actually equipped with a bottle opener and a proper beer glass. This beer pours deep, ruby-tinted brown with a huge and dense fluffy white head. The nose is malty and complex, with notes of dark dried fruits, cocoa, honey, and faint spiciness. Mouthfeel is creamy and smooth, and the taste is complex with more dark fruit and caramel with almost port-like flavours. Alcohol is present and warming, but not hot despite the ABV of 11%. Probably not the best beer I’ve ever had, but damn good.', 'id': '1332214', 'smell': '4.0', 'look': '5.0'}>>,\n",
      " <Record r=<Node element_id='1754102' labels=frozenset({'REVIEWS'}) properties={'date': '2012-01-30', 'score': '5.0', 'taste': 'nan', 'feel': 'nan', 'overall': 'nan', 'beer_id': '67154', 'text': 'You had this beer. Write a review.', 'id': '1333017', 'smell': 'nan', 'look': 'nan'}>>,\n",
      " <Record r=<Node element_id='1757186' labels=frozenset({'REVIEWS'}) properties={'date': '2013-02-18', 'score': '4.75', 'taste': 'nan', 'feel': 'nan', 'overall': 'nan', 'beer_id': '226', 'text': 'You had this beer. Write a review.', 'id': '1336101', 'smell': 'nan', 'look': 'nan'}>>,\n",
      " <Record r=<Node element_id='1750068' labels=frozenset({'REVIEWS'}) properties={'date': '2012-11-11', 'score': '5.0', 'taste': 'nan', 'feel': 'nan', 'overall': 'nan', 'beer_id': '1545', 'text': 'You had this beer. Write a review.', 'id': '1328983', 'smell': 'nan', 'look': 'nan'}>>,\n",
      " <Record r=<Node element_id='1739151' labels=frozenset({'REVIEWS'}) properties={'date': '2012-07-04', 'score': '3.5', 'taste': 'nan', 'feel': 'nan', 'overall': 'nan', 'beer_id': '449', 'text': 'You had this beer. Write a review.', 'id': '1318066', 'smell': 'nan', 'look': 'nan'}>>,\n",
      " <Record r=<Node element_id='1739903' labels=frozenset({'REVIEWS'}) properties={'date': '2012-03-28', 'score': '4.0', 'taste': 'nan', 'feel': 'nan', 'overall': 'nan', 'beer_id': '449', 'text': 'You had this beer. Write a review.', 'id': '1318818', 'smell': 'nan', 'look': 'nan'}>>,\n",
      " <Record r=<Node element_id='1728962' labels=frozenset({'REVIEWS'}) properties={'date': '2011-12-09', 'score': '3.93', 'taste': '4.0', 'feel': '4.5', 'overall': '4.0', 'beer_id': '466', 'text': 'Appearance - bright and clear, golden straw in colour, persistent head that leaves incredible lacing. Smell - The aromas are subtle and well-balanced. The hops hit you first, but are not overwhelming. Floral aromas, light citrus, and just atouch of pine blend perfectly with delicate, biscuity malts and a whiff of alcohol. Taste and Mouthfeel - The texture is medium-bodied and almost creamy. Like the aroma, the flavours are perfeclty balanced. The malt flavour is just sweet enough to balance the hops, more biscuit and grai than caramel. The hops provide lots of floral, flavour and enough bitterness to make the beer crisp, and refreshing.', 'id': '1307877', 'smell': '3.5', 'look': '4.0'}>>,\n",
      " <Record r=<Node element_id='1719091' labels=frozenset({'REVIEWS'}) properties={'date': '2012-12-23', 'score': '4.5', 'taste': 'nan', 'feel': 'nan', 'overall': 'nan', 'beer_id': '221', 'text': 'You had this beer. Write a review.', 'id': '1298006', 'smell': 'nan', 'look': 'nan'}>>,\n",
      " <Record r=<Node element_id='1715316' labels=frozenset({'REVIEWS'}) properties={'date': '2012-12-14', 'score': '3.75', 'taste': 'nan', 'feel': 'nan', 'overall': 'nan', 'beer_id': '74123', 'text': 'You had this beer. Write a review.', 'id': '1294231', 'smell': 'nan', 'look': 'nan'}>>,\n",
      " <Record r=<Node element_id='1718715' labels=frozenset({'REVIEWS'}) properties={'date': '2013-10-21', 'score': '3.0', 'taste': 'nan', 'feel': 'nan', 'overall': 'nan', 'beer_id': '221', 'text': 'You had this beer. Write a review.', 'id': '1297630', 'smell': 'nan', 'look': 'nan'}>>,\n",
      " <Record r=<Node element_id='1699821' labels=frozenset({'REVIEWS'}) properties={'date': '2006-12-22', 'score': '3.97', 'taste': '4.0', 'feel': '4.0', 'overall': '4.0', 'beer_id': '2178', 'text': '12oz. bottle Hazy, deep amber color. Small, light tan head. Aromas of fruits, mainly cherries. Honey and caramel. Clove. Taste is sweet, again fruit and cherries. Malt seems to come through as caramel and wheat bread. Bit of medicinal/alcohol flavor in center. Hops at finish - floral and grassy. Medium in body. Carbonation is low to medium. Quite refreshing. Very good winter warmer. Nicely balanced and easy to drink.', 'id': '1278736', 'smell': '4.0', 'look': '3.5'}>>,\n",
      " <Record r=<Node element_id='1698513' labels=frozenset({'REVIEWS'}) properties={'date': '2012-12-11', 'score': '4.5', 'taste': 'nan', 'feel': 'nan', 'overall': 'nan', 'beer_id': '2178', 'text': 'You had this beer. Write a review.', 'id': '1277428', 'smell': 'nan', 'look': 'nan'}>>,\n",
      " <Record r=<Node element_id='1683549' labels=frozenset({'REVIEWS'}) properties={'date': '2006-08-09', 'score': '3.72', 'taste': '3.5', 'feel': '3.5', 'overall': '4.0', 'beer_id': '1304', 'text': \"12oz. bottle. Very mild haze, golden in color with some orange tones. Small off-white head, but may be a glassware issue (in a hotel). Aroma was malt and honey/molasses. I picked up a very slight hop smell, but I practically had to inhale the beer itself. The taste was sweet all the way through, tasting of apples and honey. You get a faint hit of hops in the finish/aftertaste, grassy in flavor. This beer reminded me a little bit of Bon Secours Biere Vivante because of the apples and honey, but it was not as sweet as Bon Secours. The mouthfeel was medium in body, low carbonation, and almost slick. This was a pretty good beer, and I might have liked it better if I hadn't drank Matilda first. It is dangerously drinkable for an 8% ABV.\", 'id': '1262464', 'smell': '4.0', 'look': '3.5'}>>,\n",
      " <Record r=<Node element_id='1672096' labels=frozenset({'REVIEWS'}) properties={'date': '2012-11-29', 'score': '4.5', 'taste': 'nan', 'feel': 'nan', 'overall': 'nan', 'beer_id': '198', 'text': 'You had this beer. Write a review.', 'id': '1251011', 'smell': 'nan', 'look': 'nan'}>>,\n",
      " <Record r=<Node element_id='1676848' labels=frozenset({'REVIEWS'}) properties={'date': '2012-02-27', 'score': '4.0', 'taste': 'nan', 'feel': 'nan', 'overall': 'nan', 'beer_id': '199', 'text': 'You had this beer. Write a review.', 'id': '1255763', 'smell': 'nan', 'look': 'nan'}>>,\n",
      " <Record r=<Node element_id='1672286' labels=frozenset({'REVIEWS'}) properties={'date': '2012-10-21', 'score': '4.25', 'taste': 'nan', 'feel': 'nan', 'overall': 'nan', 'beer_id': '198', 'text': 'You had this beer. Write a review.', 'id': '1251201', 'smell': 'nan', 'look': 'nan'}>>,\n",
      " <Record r=<Node element_id='1679945' labels=frozenset({'REVIEWS'}) properties={'date': '2006-08-18', 'score': '3.21', 'taste': '3.0', 'feel': '3.0', 'overall': '3.0', 'beer_id': '202', 'text': '12oz. bottle. Poured a beautiful clear, light amber with orange tones. Decent size, off-white head. Smell was mainly malt - caramel and molasses. Some hops of the citrus variety came through rather faintly. The taste was sweet at the start, but less so than the aroma would lead you to expect. As you hold the beer, you get alcohol/phenol/medicine taste in the middle. Sprinkled throughout are notes of toast, not quite burnt. The finish brings the hops (gently) and a slight pepper taste. Body was medium, as was the carbonation. The finish was drying, almost to the point of being astringent and there was some alcohol warming going on. Overall, a very interesting beer, but not really to my taste. The alcohol/medicinal flavor really did nothing for the total experience.', 'id': '1258860', 'smell': '3.5', 'look': '4.5'}>>,\n",
      " <Record r=<Node element_id='1657258' labels=frozenset({'REVIEWS'}) properties={'date': '2006-09-06', 'score': '4.12', 'taste': '4.0', 'feel': '3.5', 'overall': '5.0', 'beer_id': '30288', 'text': 'Bomber. An amber/orange color, hazy, with a large ivory colored head. Aroma was all grapefruit, maybe a hint of honey. Taste follows aroma, with the grapefruit being huge. This did tone down a little as the beer warmed. A big, sweet malt backbone in the middle carried all those hops. Body was medium, with low to medium carbonation. Seems like the carbonation could be punched up just a bit. A bit drying. This is one heck of a DIPA, and I will drink plenty more of it.', 'id': '1236173', 'smell': '4.0', 'look': '3.5'}>>,\n",
      " <Record r=<Node element_id='1653737' labels=frozenset({'REVIEWS'}) properties={'date': '2014-03-02', 'score': '2.75', 'taste': 'nan', 'feel': 'nan', 'overall': 'nan', 'beer_id': '30288', 'text': 'You had this beer. Write a review.', 'id': '1232652', 'smell': 'nan', 'look': 'nan'}>>,\n",
      " <Record r=<Node element_id='1622269' labels=frozenset({'REVIEWS'}) properties={'date': '2007-05-29', 'score': '3.78', 'taste': '4.0', 'feel': '4.0', 'overall': '3.5', 'beer_id': '6366', 'text': 'On tap at Town Hall Crystal clear, mahogany/copper color. Small, light tan head. No lacing, minimal legs. Very mild aroma. Malty & sweet - caramel. Some earthiness and maybe peat. Taste is smoky. More bitter than aroma would suggest. Grassy & herbal. Sweet is like tea with sugar. Touch of fruits. Medium in body. Low carbonation. Not too dry. Very nice, and seems quite true to style.', 'id': '1201184', 'smell': '3.5', 'look': '4.0'}>>,\n",
      " <Record r=<Node element_id='1620852' labels=frozenset({'REVIEWS'}) properties={'date': '2012-04-24', 'score': '4.0', 'taste': 'nan', 'feel': 'nan', 'overall': 'nan', 'beer_id': '171', 'text': 'You had this beer. Write a review.', 'id': '1199767', 'smell': 'nan', 'look': 'nan'}>>,\n",
      " <Record r=<Node element_id='1619776' labels=frozenset({'REVIEWS'}) properties={'date': '2013-01-29', 'score': '3.25', 'taste': 'nan', 'feel': 'nan', 'overall': 'nan', 'beer_id': '171', 'text': 'You had this beer. Write a review.', 'id': '1198691', 'smell': 'nan', 'look': 'nan'}>>,\n",
      " <Record r=<Node element_id='1616779' labels=frozenset({'REVIEWS'}) properties={'date': '2012-11-29', 'score': '4.25', 'taste': 'nan', 'feel': 'nan', 'overall': 'nan', 'beer_id': '40628', 'text': 'You had this beer. Write a review.', 'id': '1195694', 'smell': 'nan', 'look': 'nan'}>>,\n",
      " <Record r=<Node element_id='1605279' labels=frozenset({'REVIEWS'}) properties={'date': '2013-01-15', 'score': '4.25', 'taste': 'nan', 'feel': 'nan', 'overall': 'nan', 'beer_id': '28577', 'text': 'You had this beer. Write a review.', 'id': '1184194', 'smell': 'nan', 'look': 'nan'}>>,\n",
      " <Record r=<Node element_id='1606548' labels=frozenset({'REVIEWS'}) properties={'date': '2006-06-09', 'score': '1.8', 'taste': '1.5', 'feel': '3.0', 'overall': '1.5', 'beer_id': '156', 'text': \"Poured a dark gold/copper color with quite a bit of haze. Head settled quickly. Smell was at first malt, then rubbing alcohol. Taste was about the same, some sweetness on the front, followed by a blast of alcohol. As I struggled through the glass, I seemed to also get a grassy aftertaste. My final thought was that the beer left me feeling like I had gargled with alcohol. It seemed to improve a little bit as it warmed (taste mellowed), but it's also possible that my tastebuds were just pummeled into senselessness. Mouthfeel was OK (I think). Drinkability - well I didn't pour it out, but I am not happy that I have a second one. Are you beginning to get the idea I didn't like this beer? Looking at the other reviews, I may have gotten a skunked beer. Since I have a second, I will, as a service to beerkind, try it again.\", 'id': '1185463', 'smell': '2.0', 'look': '2.0'}>>,\n",
      " <Record r=<Node element_id='1599242' labels=frozenset({'REVIEWS'}) properties={'date': '2012-07-30', 'score': '4.75', 'taste': 'nan', 'feel': 'nan', 'overall': 'nan', 'beer_id': '155', 'text': 'You had this beer. Write a review.', 'id': '1178157', 'smell': 'nan', 'look': 'nan'}>>,\n",
      " <Record r=<Node element_id='1590728' labels=frozenset({'REVIEWS'}) properties={'date': '2012-12-19', 'score': '4.25', 'taste': 'nan', 'feel': 'nan', 'overall': 'nan', 'beer_id': '148', 'text': 'You had this beer. Write a review.', 'id': '1169643', 'smell': 'nan', 'look': 'nan'}>>,\n",
      " <Record r=<Node element_id='1542560' labels=frozenset({'REVIEWS'}) properties={'date': '2013-06-15', 'score': '5.0', 'taste': 'nan', 'feel': 'nan', 'overall': 'nan', 'beer_id': '132', 'text': 'You had this beer. Write a review.', 'id': '1121475', 'smell': 'nan', 'look': 'nan'}>>,\n",
      " <Record r=<Node element_id='1542791' labels=frozenset({'REVIEWS'}) properties={'date': '2012-10-16', 'score': '4.25', 'taste': 'nan', 'feel': 'nan', 'overall': 'nan', 'beer_id': '132', 'text': 'You had this beer. Write a review.', 'id': '1121706', 'smell': 'nan', 'look': 'nan'}>>,\n",
      " <Record r=<Node element_id='1547988' labels=frozenset({'REVIEWS'}) properties={'date': '2012-10-16', 'score': '4.25', 'taste': 'nan', 'feel': 'nan', 'overall': 'nan', 'beer_id': '134', 'text': 'You had this beer. Write a review.', 'id': '1126903', 'smell': 'nan', 'look': 'nan'}>>,\n",
      " <Record r=<Node element_id='1537115' labels=frozenset({'REVIEWS'}) properties={'date': '2012-10-16', 'score': '4.75', 'taste': 'nan', 'feel': 'nan', 'overall': 'nan', 'beer_id': '131', 'text': 'You had this beer. Write a review.', 'id': '1116030', 'smell': 'nan', 'look': 'nan'}>>,\n",
      " <Record r=<Node element_id='1533984' labels=frozenset({'REVIEWS'}) properties={'date': '2014-05-08', 'score': '4.0', 'taste': 'nan', 'feel': 'nan', 'overall': 'nan', 'beer_id': '131', 'text': 'You had this beer. Write a review.', 'id': '1112899', 'smell': 'nan', 'look': 'nan'}>>,\n",
      " <Record r=<Node element_id='1540224' labels=frozenset({'REVIEWS'}) properties={'date': '2006-09-26', 'score': '4.33', 'taste': '4.5', 'feel': '4.0', 'overall': '4.5', 'beer_id': '131', 'text': '12oz. bottle, about 1 year old. Clear, dark brown in color, with ruby highlights around edges. Large light brown head. Aroma was caramel and molasses, dark fruits, bread, roasted malt. No hops came out in the aroma, and there was a faint scent of alcohol. Taste was sweet, almost port-like, but not as strong in the grape/raisin flavor. Dark cherry bitterness in the aftertaste and a coffee flavor kept the overall sweetness in balance. Hops still AWOL. Body was medium plus, carbonation was medium and led to a pleasantly creamy brew. Alcohol warming kicks in about 1/4 of the way through the beer. This was quite good, and much sweeter than I remember it from a year ago, but with enough bitterness to balance. A lager barleywine?', 'id': '1119139', 'smell': '4.0', 'look': '4.5'}>>,\n",
      " <Record r=<Node element_id='1529322' labels=frozenset({'REVIEWS'}) properties={'date': '2007-01-02', 'score': '4.32', 'taste': '4.5', 'feel': '4.5', 'overall': '4.5', 'beer_id': '129', 'text': '12oz. bottle. Clear, dark gold color. Huge, off-white head. Great retention. After yeast pour, quite hazy. Licorice, floral notes (roses, I think). Medicinal. Earthy, Belgian yeast character. Sweet/fruity notes - apples? More bitter than sweet, grassy/herbal. Pepper and rye seem to show up. Little bit of apples and bubblegum. Licorice again. Really hard to describe, but very good. Light, almost effervescent. High carbonation. Drying. Original Belgina IPA? Another one of my first Belgian beers. Still fantastic. I could drink a lot of these....', 'id': '1108237', 'smell': '4.0', 'look': '3.5'}>>,\n",
      " <Record r=<Node element_id='1521312' labels=frozenset({'REVIEWS'}) properties={'date': '2011-08-17', 'score': '3.31', 'taste': '3.0', 'feel': '3.0', 'overall': '3.5', 'beer_id': '18649', 'text': \"On tap at Gambrinus in London, Ontario. Appearance - Hazy bright orange with a perfect inch of persistent creamy white head. Leaves beautiful lacing as it recedes. This is a really good-looking beer. Smell - Fruity and citrusy with a little yeast and grass. Fairly mild aroma for a saison. Taste and Mouthfeel - Very light bodied with medium carbonation. Taste is a bit on the thin side; dry and fruity with a bit of orange, grass, and wheat. This beer is light in body and flavour, and goes down very easy, but it's still flavourful and satsifying. It would make an excellent session beer.\", 'id': '1100227', 'smell': '3.5', 'look': '4.5'}>>,\n",
      " <Record r=<Node element_id='1518490' labels=frozenset({'REVIEWS'}) properties={'date': '2012-01-10', 'score': '3.5', 'taste': 'nan', 'feel': 'nan', 'overall': 'nan', 'beer_id': '117', 'text': 'You had this beer. Write a review.', 'id': '1097405', 'smell': 'nan', 'look': 'nan'}>>,\n",
      " <Record r=<Node element_id='1508513' labels=frozenset({'REVIEWS'}) properties={'date': '2006-07-05', 'score': '3.8', 'taste': '4.0', 'feel': '3.5', 'overall': '4.0', 'beer_id': '28549', 'text': '12 oz. bottle with a bottled on date of 3-8-06. Poured a clear, straw yellow color with about 3 fingers of head. Aroma was all about the hops, with a pepper & citrus quality. Taste was pretty much an extension of this, although the malt did make an appearance in the aftertaste. Warm and peppery at the finish. It was, to my taste, a little light on the carbonation and very astringent. I thought it was a very good beer, but it struck me as more of an IPA in character.', 'id': '1087428', 'smell': '3.5', 'look': '3.5'}>>,\n",
      " <Record r=<Node element_id='1509431' labels=frozenset({'REVIEWS'}) properties={'date': '2012-01-18', 'score': '4.0', 'taste': 'nan', 'feel': 'nan', 'overall': 'nan', 'beer_id': '108', 'text': 'You had this beer. Write a review.', 'id': '1088346', 'smell': 'nan', 'look': 'nan'}>>,\n",
      " <Record r=<Node element_id='1500094' labels=frozenset({'REVIEWS'}) properties={'date': '2012-04-24', 'score': '5.0', 'taste': 'nan', 'feel': 'nan', 'overall': 'nan', 'beer_id': '104', 'text': 'You had this beer. Write a review.', 'id': '1079009', 'smell': 'nan', 'look': 'nan'}>>,\n",
      " <Record r=<Node element_id='1500588' labels=frozenset({'REVIEWS'}) properties={'date': '2012-01-26', 'score': '2.5', 'taste': 'nan', 'feel': 'nan', 'overall': 'nan', 'beer_id': '104', 'text': 'You had this beer. Write a review.', 'id': '1079503', 'smell': 'nan', 'look': 'nan'}>>,\n",
      " <Record r=<Node element_id='1500142' labels=frozenset({'REVIEWS'}) properties={'date': '2012-04-14', 'score': '3.5', 'taste': 'nan', 'feel': 'nan', 'overall': 'nan', 'beer_id': '104', 'text': 'You had this beer. Write a review.', 'id': '1079057', 'smell': 'nan', 'look': 'nan'}>>,\n",
      " <Record r=<Node element_id='1487203' labels=frozenset({'REVIEWS'}) properties={'date': '2012-04-28', 'score': '3.75', 'taste': 'nan', 'feel': 'nan', 'overall': 'nan', 'beer_id': '103', 'text': 'You had this beer. Write a review.', 'id': '1066118', 'smell': 'nan', 'look': 'nan'}>>,\n",
      " <Record r=<Node element_id='1485574' labels=frozenset({'REVIEWS'}) properties={'date': '2007-02-01', 'score': '3.88', 'taste': '4.0', 'feel': '4.0', 'overall': '4.0', 'beer_id': '5653', 'text': \"12oz bottle. Poured a crystal clear, lively amber color. Showed a medium sized ivory head. Aroma was citrus and grass. Next up were caramel and wheat bread. Taste was initially citrus. Then a biscuity flavor with just a bit of caramel. Very well balanced with a tilt towards hoppy. Very small hint of sweet fruit. Grassy at finish. Medium in body. Medium carbonation. Refreshing, didn't seem at all drying. Just a bit grainy, texture-wise. A very good everyday/session beer. Rich and full flavored. A little short on hops, but everything seems that way to me now. I will be having more of this, and at 5 ABV that is easy to do.\", 'id': '1064489', 'smell': '3.5', 'look': '4.0'}>>,\n",
      " <Record r=<Node element_id='1478990' labels=frozenset({'REVIEWS'}) properties={'date': '2013-02-20', 'score': '1.75', 'taste': 'nan', 'feel': 'nan', 'overall': 'nan', 'beer_id': '832', 'text': 'You had this beer. Write a review.', 'id': '1057905', 'smell': 'nan', 'look': 'nan'}>>,\n",
      " <Record r=<Node element_id='1475073' labels=frozenset({'REVIEWS'}) properties={'date': '2012-04-26', 'score': '5.0', 'taste': 'nan', 'feel': 'nan', 'overall': 'nan', 'beer_id': '102', 'text': 'You had this beer. Write a review.', 'id': '1053988', 'smell': 'nan', 'look': 'nan'}>>,\n",
      " <Record r=<Node element_id='1474332' labels=frozenset({'REVIEWS'}) properties={'date': '2012-09-07', 'score': '3.5', 'taste': 'nan', 'feel': 'nan', 'overall': 'nan', 'beer_id': '102', 'text': 'You had this beer. Write a review.', 'id': '1053247', 'smell': 'nan', 'look': 'nan'}>>,\n",
      " <Record r=<Node element_id='1474498' labels=frozenset({'REVIEWS'}) properties={'date': '2012-09-11', 'score': '3.25', 'taste': 'nan', 'feel': 'nan', 'overall': 'nan', 'beer_id': '102', 'text': 'You had this beer. Write a review.', 'id': '1053413', 'smell': 'nan', 'look': 'nan'}>>,\n",
      " <Record r=<Node element_id='1454861' labels=frozenset({'REVIEWS'}) properties={'date': '2013-02-10', 'score': '4.5', 'taste': 'nan', 'feel': 'nan', 'overall': 'nan', 'beer_id': '48780', 'text': 'You had this beer. Write a review.', 'id': '1033776', 'smell': 'nan', 'look': 'nan'}>>,\n",
      " <Record r=<Node element_id='1459611' labels=frozenset({'REVIEWS'}) properties={'date': '2013-02-18', 'score': '4.0', 'taste': 'nan', 'feel': 'nan', 'overall': 'nan', 'beer_id': '101', 'text': 'You had this beer. Write a review.', 'id': '1038526', 'smell': 'nan', 'look': 'nan'}>>,\n",
      " <Record r=<Node element_id='1452866' labels=frozenset({'REVIEWS'}) properties={'date': '2013-01-01', 'score': '3.75', 'taste': 'nan', 'feel': 'nan', 'overall': 'nan', 'beer_id': '100', 'text': 'You had this beer. Write a review.', 'id': '1031781', 'smell': 'nan', 'look': 'nan'}>>,\n",
      " <Record r=<Node element_id='1443674' labels=frozenset({'REVIEWS'}) properties={'date': '2013-01-08', 'score': '3.75', 'taste': 'nan', 'feel': 'nan', 'overall': 'nan', 'beer_id': '99', 'text': 'You had this beer. Write a review.', 'id': '1022589', 'smell': 'nan', 'look': 'nan'}>>,\n",
      " <Record r=<Node element_id='1439334' labels=frozenset({'REVIEWS'}) properties={'date': '2007-07-13', 'score': '3.88', 'taste': '4.0', 'feel': '4.0', 'overall': '4.0', 'beer_id': '96', 'text': '12oz. bottle Not quite opaque, clear at edges. Deep dark brown/mahogany when held up to light. Medium sized, light brown, creamy head. Not much lacing or legs. Malt bomb - sweet overall. Chocolate & coffee. Roasted notes. Initially, more bitter than sweet, stays that way, but nicely balanced overall. Roast & coffee notes. Grassy/herbal hops compliment roast & coffee. Touch of smoke. Medium + body. Medium + carbonation. Not very dry. Very nicely done. Enjoyed it tremendously!', 'id': '1018249', 'smell': '3.5', 'look': '4.0'}>>,\n",
      " <Record r=<Node element_id='1440355' labels=frozenset({'REVIEWS'}) properties={'date': '2011-12-15', 'score': '4.17', 'taste': '4.0', 'feel': '4.5', 'overall': '4.0', 'beer_id': '652', 'text': 'Appearance - ruby-tinted dark brown in colour. A head begins to form, but disipates almost before I am fnished pouring. Smell - coriander, candied peel, sugarplum, and dark rum. Taste - Rich deep malts with dark fruit flavours, wood, coriander, and a bright orange note breaking through the darkness.', 'id': '1019270', 'smell': '4.5', 'look': '4.0'}>>,\n",
      " <Record r=<Node element_id='1430148' labels=frozenset({'REVIEWS'}) properties={'date': '2012-12-30', 'score': '4.0', 'taste': 'nan', 'feel': 'nan', 'overall': 'nan', 'beer_id': '92', 'text': 'You had this beer. Write a review.', 'id': '1009063', 'smell': 'nan', 'look': 'nan'}>>,\n",
      " <Record r=<Node element_id='1425741' labels=frozenset({'REVIEWS'}) properties={'date': '2014-04-24', 'score': '4.25', 'taste': 'nan', 'feel': 'nan', 'overall': 'nan', 'beer_id': '92', 'text': 'You had this beer. Write a review.', 'id': '1004656', 'smell': 'nan', 'look': 'nan'}>>,\n",
      " <Record r=<Node element_id='1429696' labels=frozenset({'REVIEWS'}) properties={'date': '2013-02-23', 'score': '2.75', 'taste': 'nan', 'feel': 'nan', 'overall': 'nan', 'beer_id': '92', 'text': 'You had this beer. Write a review.', 'id': '1008611', 'smell': 'nan', 'look': 'nan'}>>,\n",
      " <Record r=<Node element_id='1411127' labels=frozenset({'REVIEWS'}) properties={'date': '2011-11-20', 'score': '5.0', 'taste': 'nan', 'feel': 'nan', 'overall': 'nan', 'beer_id': '88', 'text': 'You had this beer. Write a review.', 'id': '990042', 'smell': 'nan', 'look': 'nan'}>>,\n",
      " <Record r=<Node element_id='1409276' labels=frozenset({'REVIEWS'}) properties={'date': '2012-11-23', 'score': '4.5', 'taste': 'nan', 'feel': 'nan', 'overall': 'nan', 'beer_id': '88', 'text': 'You had this beer. Write a review.', 'id': '988191', 'smell': 'nan', 'look': 'nan'}>>,\n",
      " <Record r=<Node element_id='1409524' labels=frozenset({'REVIEWS'}) properties={'date': '2012-09-15', 'score': '4.75', 'taste': 'nan', 'feel': 'nan', 'overall': 'nan', 'beer_id': '88', 'text': 'You had this beer. Write a review.', 'id': '988439', 'smell': 'nan', 'look': 'nan'}>>,\n",
      " <Record r=<Node element_id='1409372' labels=frozenset({'REVIEWS'}) properties={'date': '2012-10-30', 'score': '4.0', 'taste': 'nan', 'feel': 'nan', 'overall': 'nan', 'beer_id': '88', 'text': 'You had this beer. Write a review.', 'id': '988287', 'smell': 'nan', 'look': 'nan'}>>,\n",
      " <Record r=<Node element_id='1395618' labels=frozenset({'REVIEWS'}) properties={'date': '2012-12-04', 'score': '3.75', 'taste': 'nan', 'feel': 'nan', 'overall': 'nan', 'beer_id': '87', 'text': 'You had this beer. Write a review.', 'id': '974533', 'smell': 'nan', 'look': 'nan'}>>,\n",
      " <Record r=<Node element_id='1395511' labels=frozenset({'REVIEWS'}) properties={'date': '2013-03-03', 'score': '3.5', 'taste': 'nan', 'feel': 'nan', 'overall': 'nan', 'beer_id': '87', 'text': 'You had this beer. Write a review.', 'id': '974426', 'smell': 'nan', 'look': 'nan'}>>,\n",
      " <Record r=<Node element_id='1384330' labels=frozenset({'REVIEWS'}) properties={'date': '2012-10-30', 'score': '4.75', 'taste': 'nan', 'feel': 'nan', 'overall': 'nan', 'beer_id': '16403', 'text': 'You had this beer. Write a review.', 'id': '963245', 'smell': 'nan', 'look': 'nan'}>>,\n",
      " <Record r=<Node element_id='1385097' labels=frozenset({'REVIEWS'}) properties={'date': '2010-06-11', 'score': '4.03', 'taste': '4.0', 'feel': '4.5', 'overall': '4.5', 'beer_id': '4307', 'text': 'Served in a pint glass at the brewpub. Dark in appearance with a small, moderately sticky head. Smells and tastes aggressively hopped, with grapefruit rind and kiwi. Some dark fruit flavors come in but are clearly in the background. A good amount of carbonation gave this a very nice mouthfeel and drinkability, slightly pop-like. Good on a hot, sticky day.', 'id': '964012', 'smell': '3.5', 'look': '4.0'}>>,\n",
      " <Record r=<Node element_id='1373038' labels=frozenset({'REVIEWS'}) properties={'date': '2012-12-30', 'score': '4.5', 'taste': 'nan', 'feel': 'nan', 'overall': 'nan', 'beer_id': '38394', 'text': 'You had this beer. Write a review.', 'id': '951953', 'smell': 'nan', 'look': 'nan'}>>,\n",
      " <Record r=<Node element_id='1373176' labels=frozenset({'REVIEWS'}) properties={'date': '2012-12-01', 'score': '5.0', 'taste': 'nan', 'feel': 'nan', 'overall': 'nan', 'beer_id': '38394', 'text': 'You had this beer. Write a review.', 'id': '952091', 'smell': 'nan', 'look': 'nan'}>>,\n",
      " <Record r=<Node element_id='1365325' labels=frozenset({'REVIEWS'}) properties={'date': '2012-03-30', 'score': '3.0', 'taste': 'nan', 'feel': 'nan', 'overall': 'nan', 'beer_id': '27800', 'text': 'You had this beer. Write a review.', 'id': '944240', 'smell': 'nan', 'look': 'nan'}>>,\n",
      " <Record r=<Node element_id='1352117' labels=frozenset({'REVIEWS'}) properties={'date': '2012-10-30', 'score': '4.0', 'taste': 'nan', 'feel': 'nan', 'overall': 'nan', 'beer_id': '86496', 'text': '', 'id': '931032', 'smell': 'nan', 'look': 'nan'}>>,\n",
      " <Record r=<Node element_id='1351687' labels=frozenset({'REVIEWS'}) properties={'date': '2012-09-07', 'score': '2.25', 'taste': 'nan', 'feel': 'nan', 'overall': 'nan', 'beer_id': '66', 'text': 'You had this beer. Write a review.', 'id': '930602', 'smell': 'nan', 'look': 'nan'}>>,\n",
      " <Record r=<Node element_id='1352726' labels=frozenset({'REVIEWS'}) properties={'date': '2006-08-25', 'score': '3.83', 'taste': '4.0', 'feel': '3.5', 'overall': '4.0', 'beer_id': '67', 'text': '12oz. bottle. Poured clear, amber in color, with a large ivory colored head. Aroma was very much lemon/citrus, with little, if any, malt showing through. Taste was similar to aroma, with the citrus fairly well balanced by the malt. Very light in body, with medium-high carbonation and mildly drying. A very refreshing beer which I enjoyed on a muggy summer evening.', 'id': '931641', 'smell': '3.5', 'look': '4.0'}>>,\n",
      " <Record r=<Node element_id='1358263' labels=frozenset({'REVIEWS'}) properties={'date': '2012-11-22', 'score': '5.0', 'taste': 'nan', 'feel': 'nan', 'overall': 'nan', 'beer_id': '73', 'text': 'You had this beer. Write a review.', 'id': '937178', 'smell': 'nan', 'look': 'nan'}>>,\n",
      " <Record r=<Node element_id='1348408' labels=frozenset({'REVIEWS'}) properties={'date': '2012-03-28', 'score': '2.5', 'taste': 'nan', 'feel': 'nan', 'overall': 'nan', 'beer_id': '65', 'text': 'You had this beer. Write a review.', 'id': '927323', 'smell': 'nan', 'look': 'nan'}>>,\n",
      " <Record r=<Node element_id='1348519' labels=frozenset({'REVIEWS'}) properties={'date': '2012-02-27', 'score': '3.0', 'taste': 'nan', 'feel': 'nan', 'overall': 'nan', 'beer_id': '65', 'text': 'You had this beer. Write a review.', 'id': '927434', 'smell': 'nan', 'look': 'nan'}>>,\n",
      " <Record r=<Node element_id='1335699' labels=frozenset({'REVIEWS'}) properties={'date': '2008-01-02', 'score': '4.5', 'taste': '5.0', 'feel': '4.0', 'overall': '4.5', 'beer_id': '61', 'text': 'Poured into a glass from a 12oz. bottle A - Thick rich brown, with dark brown/ tan head. S - Sweet Malt, Bitter chocolate and light hoppy grass. T - A thick tasting porter with both sweet and bitter chocolate after taste, a wonderful flavor all the way through. M - Thick coat on tounge and mouth, light hop, rich malt, sweet on the lips. D - Extremely delicious and sweet, the favors and carbonation compliment each other perfectly. One of the best American Porters on the market.', 'id': '914614', 'smell': '4.0', 'look': '4.0'}>>,\n",
      " <Record r=<Node element_id='1333862' labels=frozenset({'REVIEWS'}) properties={'date': '2012-04-28', 'score': '4.75', 'taste': 'nan', 'feel': 'nan', 'overall': 'nan', 'beer_id': '61', 'text': 'You had this beer. Write a review.', 'id': '912777', 'smell': 'nan', 'look': 'nan'}>>,\n",
      " <Record r=<Node element_id='1333589' labels=frozenset({'REVIEWS'}) properties={'date': '2012-10-29', 'score': '5.0', 'taste': 'nan', 'feel': 'nan', 'overall': 'nan', 'beer_id': '61', 'text': 'You had this beer. Write a review.', 'id': '912504', 'smell': 'nan', 'look': 'nan'}>>,\n",
      " <Record r=<Node element_id='1326981' labels=frozenset({'REVIEWS'}) properties={'date': '2012-12-31', 'score': '4.5', 'taste': 'nan', 'feel': 'nan', 'overall': 'nan', 'beer_id': '59', 'text': 'You had this beer. Write a review.', 'id': '905896', 'smell': 'nan', 'look': 'nan'}>>,\n",
      " <Record r=<Node element_id='1327292' labels=frozenset({'REVIEWS'}) properties={'date': '2012-09-10', 'score': '3.0', 'taste': 'nan', 'feel': 'nan', 'overall': 'nan', 'beer_id': '59', 'text': 'You had this beer. Write a review.', 'id': '906207', 'smell': 'nan', 'look': 'nan'}>>,\n",
      " <Record r=<Node element_id='1311367' labels=frozenset({'REVIEWS'}) properties={'date': '2012-04-28', 'score': '4.0', 'taste': 'nan', 'feel': 'nan', 'overall': 'nan', 'beer_id': '63', 'text': 'You had this beer. Write a review.', 'id': '890282', 'smell': 'nan', 'look': 'nan'}>>,\n",
      " <Record r=<Node element_id='1315268' labels=frozenset({'REVIEWS'}) properties={'date': '2012-10-16', 'score': '3.25', 'taste': 'nan', 'feel': 'nan', 'overall': 'nan', 'beer_id': '47426', 'text': 'You had this beer. Write a review.', 'id': '894183', 'smell': 'nan', 'look': 'nan'}>>,\n",
      " <Record r=<Node element_id='1315669' labels=frozenset({'REVIEWS'}) properties={'date': '2012-10-20', 'score': '4.75', 'taste': 'nan', 'feel': 'nan', 'overall': 'nan', 'beer_id': '49286', 'text': 'You had this beer. Write a review.', 'id': '894584', 'smell': 'nan', 'look': 'nan'}>>,\n",
      " <Record r=<Node element_id='1310896' labels=frozenset({'REVIEWS'}) properties={'date': '2012-09-05', 'score': '4.25', 'taste': 'nan', 'feel': 'nan', 'overall': 'nan', 'beer_id': '63', 'text': 'You had this beer. Write a review.', 'id': '889811', 'smell': 'nan', 'look': 'nan'}>>,\n",
      " <Record r=<Node element_id='1291850' labels=frozenset({'REVIEWS'}) properties={'date': '2013-01-02', 'score': '1.0', 'taste': 'nan', 'feel': 'nan', 'overall': 'nan', 'beer_id': '34', 'text': 'You had this beer. Write a review.', 'id': '870765', 'smell': 'nan', 'look': 'nan'}>>,\n",
      " <Record r=<Node element_id='1292452' labels=frozenset({'REVIEWS'}) properties={'date': '2012-08-26', 'score': '4.5', 'taste': 'nan', 'feel': 'nan', 'overall': 'nan', 'beer_id': '34', 'text': 'You had this beer. Write a review.', 'id': '871367', 'smell': 'nan', 'look': 'nan'}>>,\n",
      " <Record r=<Node element_id='1292388' labels=frozenset({'REVIEWS'}) properties={'date': '2012-09-09', 'score': '4.5', 'taste': 'nan', 'feel': 'nan', 'overall': 'nan', 'beer_id': '34', 'text': 'You had this beer. Write a review.', 'id': '871303', 'smell': 'nan', 'look': 'nan'}>>,\n",
      " <Record r=<Node element_id='1291785' labels=frozenset({'REVIEWS'}) properties={'date': '2013-01-14', 'score': '4.0', 'taste': 'nan', 'feel': 'nan', 'overall': 'nan', 'beer_id': '34', 'text': 'You had this beer. Write a review.', 'id': '870700', 'smell': 'nan', 'look': 'nan'}>>,\n",
      " <Record r=<Node element_id='1289113' labels=frozenset({'REVIEWS'}) properties={'date': '2014-03-02', 'score': '3.0', 'taste': 'nan', 'feel': 'nan', 'overall': 'nan', 'beer_id': '34', 'text': 'You had this beer. Write a review.', 'id': '868028', 'smell': 'nan', 'look': 'nan'}>>,\n",
      " <Record r=<Node element_id='1283347' labels=frozenset({'REVIEWS'}) properties={'date': '2011-05-12', 'score': '4.2', 'taste': '4.5', 'feel': '4.0', 'overall': '4.0', 'beer_id': '33', 'text': '0% Appearance - I love the name of the beer, which translates to something like \"the damned,\" and the label which depicts a Quebecois folk tale about voyageurs who make a deal with the devil. The beer itself pours a hazy orange-brown with a nice dense head. Smell - fruity and spicy with hints of black tea, clove, orange peel and complex Belgian-style yeast. Just a hint of banana and alcohol. Taste - complex flavours of rich malt; tons of spice, just a hint of banana.', 'id': '862262', 'smell': '4.0', 'look': '4.0'}>>,\n",
      " <Record r=<Node element_id='1282421' labels=frozenset({'REVIEWS'}) properties={'date': '2012-09-24', 'score': '5.0', 'taste': 'nan', 'feel': 'nan', 'overall': 'nan', 'beer_id': '33', 'text': 'You had this beer. Write a review.', 'id': '861336', 'smell': 'nan', 'look': 'nan'}>>,\n",
      " <Record r=<Node element_id='1290438' labels=frozenset({'REVIEWS'}) properties={'date': '2013-06-16', 'score': '4.75', 'taste': 'nan', 'feel': 'nan', 'overall': 'nan', 'beer_id': '34', 'text': 'You had this beer. Write a review.', 'id': '869353', 'smell': 'nan', 'look': 'nan'}>>,\n",
      " <Record r=<Node element_id='1272081' labels=frozenset({'REVIEWS'}) properties={'date': '2012-09-24', 'score': '4.25', 'taste': 'nan', 'feel': 'nan', 'overall': 'nan', 'beer_id': '30', 'text': 'You had this beer. Write a review.', 'id': '850996', 'smell': 'nan', 'look': 'nan'}>>,\n",
      " <Record r=<Node element_id='1272908' labels=frozenset({'REVIEWS'}) properties={'date': '2011-08-08', 'score': '4.2', 'taste': '4.5', 'feel': '4.0', 'overall': '4.0', 'beer_id': '70220', 'text': \"Intresting story behind the name, you'll have to ask while in the tap room. a-nice amber color with inch head and lively carbonation. s-biscuts, some hops, and bready aromas. t-has good crisp malts, biscut, and good hops behind it all. I agree, that this is more complex then your average amber ale. Has a refreshing taste to it. m-clean and crisp, with some decent body. o-glad they brewed this again. Have not had this for years. Good pilot brew with some good qualities.\", 'id': '851823', 'smell': '4.0', 'look': '4.0'}>>,\n",
      " <Record r=<Node element_id='1268247' labels=frozenset({'REVIEWS'}) properties={'date': '2012-07-01', 'score': '3.0', 'taste': 'nan', 'feel': 'nan', 'overall': 'nan', 'beer_id': '23720', 'text': 'You had this beer. Write a review.', 'id': '847162', 'smell': 'nan', 'look': 'nan'}>>,\n",
      " <Record r=<Node element_id='1250130' labels=frozenset({'REVIEWS'}) properties={'date': '2012-04-14', 'score': '3.5', 'taste': 'nan', 'feel': 'nan', 'overall': 'nan', 'beer_id': '7', 'text': 'You had this beer. Write a review.', 'id': '829045', 'smell': 'nan', 'look': 'nan'}>>,\n",
      " <Record r=<Node element_id='1249611' labels=frozenset({'REVIEWS'}) properties={'date': '2013-02-23', 'score': '4.0', 'taste': 'nan', 'feel': 'nan', 'overall': 'nan', 'beer_id': '7', 'text': 'You had this beer. Write a review.', 'id': '828526', 'smell': 'nan', 'look': 'nan'}>>,\n",
      " <Record r=<Node element_id='1212097' labels=frozenset({'REVIEWS'}) properties={'date': '2012-10-30', 'score': '4.0', 'taste': 'nan', 'feel': 'nan', 'overall': 'nan', 'beer_id': '53453', 'text': 'You had this beer. Write a review.', 'id': '791012', 'smell': 'nan', 'look': 'nan'}>>,\n",
      " <Record r=<Node element_id='1212448' labels=frozenset({'REVIEWS'}) properties={'date': '2012-02-27', 'score': '3.0', 'taste': 'nan', 'feel': 'nan', 'overall': 'nan', 'beer_id': '53453', 'text': 'You had this beer. Write a review.', 'id': '791363', 'smell': 'nan', 'look': 'nan'}>>,\n",
      " <Record r=<Node element_id='1143988' labels=frozenset({'REVIEWS'}) properties={'date': '2012-12-02', 'score': '4.5', 'taste': 'nan', 'feel': 'nan', 'overall': 'nan', 'beer_id': '78927', 'text': 'You had this beer. Write a review.', 'id': '722903', 'smell': 'nan', 'look': 'nan'}>>,\n",
      " <Record r=<Node element_id='1136760' labels=frozenset({'REVIEWS'}) properties={'date': '2007-01-02', 'score': '3.68', 'taste': '3.5', 'feel': '4.0', 'overall': '4.0', 'beer_id': '2255', 'text': '12oz. bottle at The Onion in Houston. Hazy, deep gold color. Medium size, off-white head. Good lacing through end. Aroma hard to get as beer is pretty cold. Maybe rye, maybe my imagination. Some fruit, very light, maybe peach? Nicely bitter. Some caramel and biscuity flavors. Small touch of rye. Very little sweet in this beer. Medium in body and carbonation. A bit drying. Overall, quite nice. Good flavor. I could drink a few of these.', 'id': '715675', 'smell': '3.5', 'look': '4.0'}>>,\n",
      " <Record r=<Node element_id='1136577' labels=frozenset({'REVIEWS'}) properties={'date': '2012-07-18', 'score': '4.75', 'taste': 'nan', 'feel': 'nan', 'overall': 'nan', 'beer_id': '5328', 'text': 'You had this beer. Write a review.', 'id': '715492', 'smell': 'nan', 'look': 'nan'}>>,\n",
      " <Record r=<Node element_id='1122961' labels=frozenset({'REVIEWS'}) properties={'date': '2007-06-21', 'score': '3.15', 'taste': '3.0', 'feel': '3.0', 'overall': '3.0', 'beer_id': '16111', 'text': \"12oz. bottle. Out of the No Name BIF, if I remember right. Thanks drseamus! Hazy, true gold in color. Small, ivory colored head. Fairly still. No lacing, some legs on the swirl. Smells very sweet. Pine and caramel. Peaches covered in sugar. Taste is also quite sweet, even while still pretty cold. Is it a DIPA or a barleywine, that is the question....Sweet character is fruity, tropical style and caramel. Hops are there (herbal & floral), but struggle to stay with the sweetness. Alcohol is noticeable, but well managed for 10%. Medium + in body. Low carbonation - if possible, turning it up a bit would help. Not particularly dry. I'm not wild about this one. I like my DIPAs on the bitter side.\", 'id': '701876', 'smell': '3.5', 'look': '3.5'}>>,\n",
      " <Record r=<Node element_id='1107684' labels=frozenset({'REVIEWS'}) properties={'date': '2006-10-03', 'score': '3.55', 'taste': '3.5', 'feel': '4.0', 'overall': '3.5', 'beer_id': '1483', 'text': '12oz. bottle. Decided to try again based on recipe change. Poured a slightly hazy, orange gold color and generated a medium sized off-white head. Aroma has definately improved. Big grapefruit, maybe some pine. Malt is hiding, but I think I get a little bit of bread. Flavor profile is improved as well. Big hops, staying with grapefruit. A biscuity/flour type flavor for the malt. No sweetness, this is all about the bitter... Medium in body, with rather high carbonation. Very drying. Overall, a pretty good hop bomb, much improved over the old recipe. May have gone a little too far, in that it could use a bit more malt for balance.', 'id': '686599', 'smell': '3.5', 'look': '3.5'}>>,\n",
      " <Record r=<Node element_id='1069690' labels=frozenset({'REVIEWS'}) properties={'date': '2014-01-23', 'score': '4.0', 'taste': 'nan', 'feel': 'nan', 'overall': 'nan', 'beer_id': '40310', 'text': 'You had this beer. Write a review.', 'id': '648605', 'smell': 'nan', 'look': 'nan'}>>,\n",
      " <Record r=<Node element_id='1060810' labels=frozenset({'REVIEWS'}) properties={'date': '2012-08-07', 'score': '4.25', 'taste': 'nan', 'feel': 'nan', 'overall': 'nan', 'beer_id': '2302', 'text': 'You had this beer. Write a review.', 'id': '639725', 'smell': 'nan', 'look': 'nan'}>>,\n",
      " <Record r=<Node element_id='817500' labels=frozenset({'REVIEWS'}) properties={'date': '2013-01-25', 'score': '4.25', 'taste': 'nan', 'feel': 'nan', 'overall': 'nan', 'beer_id': '87151', 'text': 'You had this beer. Write a review.', 'id': '396415', 'smell': 'nan', 'look': 'nan'}>>,\n",
      " <Record r=<Node element_id='801234' labels=frozenset({'REVIEWS'}) properties={'date': '2014-03-02', 'score': '3.0', 'taste': 'nan', 'feel': 'nan', 'overall': 'nan', 'beer_id': '106539', 'text': 'You had this beer. Write a review.', 'id': '380149', 'smell': 'nan', 'look': 'nan'}>>,\n",
      " <Record r=<Node element_id='779655' labels=frozenset({'REVIEWS'}) properties={'date': '2012-09-07', 'score': '2.5', 'taste': 'nan', 'feel': 'nan', 'overall': 'nan', 'beer_id': '81723', 'text': 'You had this beer. Write a review.', 'id': '358570', 'smell': 'nan', 'look': 'nan'}>>,\n",
      " <Record r=<Node element_id='768687' labels=frozenset({'REVIEWS'}) properties={'date': '2012-12-26', 'score': '1.0', 'taste': 'nan', 'feel': 'nan', 'overall': 'nan', 'beer_id': '80702', 'text': 'You had this beer. Write a review.', 'id': '347602', 'smell': 'nan', 'look': 'nan'}>>,\n",
      " <Record r=<Node element_id='712966' labels=frozenset({'REVIEWS'}) properties={'date': '2012-11-08', 'score': '4.0', 'taste': 'nan', 'feel': 'nan', 'overall': 'nan', 'beer_id': '76816', 'text': 'You had this beer. Write a review.', 'id': '291881', 'smell': 'nan', 'look': 'nan'}>>,\n",
      " <Record r=<Node element_id='714646' labels=frozenset({'REVIEWS'}) properties={'date': '2012-02-27', 'score': '2.5', 'taste': 'nan', 'feel': 'nan', 'overall': 'nan', 'beer_id': '76816', 'text': 'You had this beer. Write a review.', 'id': '293561', 'smell': 'nan', 'look': 'nan'}>>,\n",
      " <Record r=<Node element_id='685916' labels=frozenset({'REVIEWS'}) properties={'date': '2013-01-23', 'score': '4.0', 'taste': 'nan', 'feel': 'nan', 'overall': 'nan', 'beer_id': '74986', 'text': 'You had this beer. Write a review.', 'id': '264831', 'smell': 'nan', 'look': 'nan'}>>,\n",
      " <Record r=<Node element_id='686120' labels=frozenset({'REVIEWS'}) properties={'date': '2013-01-19', 'score': '4.5', 'taste': 'nan', 'feel': 'nan', 'overall': 'nan', 'beer_id': '74986', 'text': 'You had this beer. Write a review.', 'id': '265035', 'smell': 'nan', 'look': 'nan'}>>,\n",
      " <Record r=<Node element_id='679385' labels=frozenset({'REVIEWS'}) properties={'date': '2014-02-23', 'score': '5.0', 'taste': 'nan', 'feel': 'nan', 'overall': 'nan', 'beer_id': '74986', 'text': 'You had this beer. Write a review.', 'id': '258300', 'smell': 'nan', 'look': 'nan'}>>,\n",
      " <Record r=<Node element_id='666505' labels=frozenset({'REVIEWS'}) properties={'date': '2012-03-28', 'score': '3.0', 'taste': 'nan', 'feel': 'nan', 'overall': 'nan', 'beer_id': '74759', 'text': 'You had this beer. Write a review.', 'id': '245420', 'smell': 'nan', 'look': 'nan'}>>,\n",
      " <Record r=<Node element_id='656335' labels=frozenset({'REVIEWS'}) properties={'date': '2012-07-18', 'score': '5.0', 'taste': 'nan', 'feel': 'nan', 'overall': 'nan', 'beer_id': '72964', 'text': 'You had this beer. Write a review.', 'id': '235250', 'smell': 'nan', 'look': 'nan'}>>,\n",
      " <Record r=<Node element_id='641965' labels=frozenset({'REVIEWS'}) properties={'date': '2012-11-02', 'score': '4.5', 'taste': 'nan', 'feel': 'nan', 'overall': 'nan', 'beer_id': '69943', 'text': 'You had this beer. Write a review.', 'id': '220880', 'smell': 'nan', 'look': 'nan'}>>,\n",
      " <Record r=<Node element_id='643742' labels=frozenset({'REVIEWS'}) properties={'date': '2011-07-31', 'score': '4.7', 'taste': '5.0', 'feel': '4.5', 'overall': '4.5', 'beer_id': '70102', 'text': \"a-pours a inky deep black with an off white head. Head remains capping off the beer. s-let the bottle warm for 20 mins before opening, I got smacked by the chocolate and rosted notes right away. There is some hint of orange that comes in and out of the nose for me. t-taste amazing. Has the chocolate right up front with a lot of roasted malts in the profile. Then the coffee, and bourbon come to the front. The oranges are very much in the background, but as it warms it becomes more pronounced. The chilies are only there on the finish, it adds a little heat (not like Chocolate Yeti with cayanne pepper, but it's in there). There is a beautiful chocolate finish. The hops bring some good balance into the mix. m-dang good. The carbonation is nice, brings out a lot of the flavors. This porter is right on the line with a stout, IMHO. o-I cannot wait to see what this beer does in my cellar. This beer had a lot going on with it now, and is tight. I think this is the best of this series that I have had. Well done.\", 'id': '222657', 'smell': '4.5', 'look': '4.5'}>>,\n",
      " <Record r=<Node element_id='641968' labels=frozenset({'REVIEWS'}) properties={'date': '2012-09-09', 'score': '3.75', 'taste': 'nan', 'feel': 'nan', 'overall': 'nan', 'beer_id': '69943', 'text': '0% You had this beer. Write a review.', 'id': '220883', 'smell': 'nan', 'look': 'nan'}>>,\n",
      " <Record r=<Node element_id='647051' labels=frozenset({'REVIEWS'}) properties={'date': '2011-08-09', 'score': '4.5', 'taste': '4.5', 'feel': '4.5', 'overall': '4.5', 'beer_id': '71419', 'text': 'a-slightly clouded with a creamy white head. Active carbonation and a good amount of lace going down the sides. Looks like a wit type beer. s-smells wonderful. Has a lot of an herbal lemon grass quality, smells of sage and critus hops. Really different smell to this beer. Again, like a IPA/wheat beer crossed. Has some peppery notes with some earth tones too. t-bright and refreshing with hops and a wheat quality. Great beer with a balance of hops and a lot of flavors that flash across the palate. This has a great amount of balance with the hops adding a little bit of bitterness on the finish. There are a lot of wheat beer taste in here as well. Finish is clean with a bit of lemon and bitterness at the end. m-med body, with the malts really taking a back seat on this beer. This beer has a great summer feel to it. Hops have a crispness that is fantastic. o-I am impressed with the quality of this brew. There is a lot going on, but the beer is refreshing and crisp. Amazing what these two brewers came up with. I will be getting this as long as I can find it!', 'id': '225966', 'smell': '4.5', 'look': '4.5'}>>,\n",
      " <Record r=<Node element_id='642402' labels=frozenset({'REVIEWS'}) properties={'date': '2012-01-26', 'score': '2.5', 'taste': 'nan', 'feel': 'nan', 'overall': 'nan', 'beer_id': '70008', 'text': 'You had this beer. Write a review.', 'id': '221317', 'smell': 'nan', 'look': 'nan'}>>,\n",
      " <Record r=<Node element_id='624471' labels=frozenset({'REVIEWS'}) properties={'date': '2012-11-11', 'score': '5.0', 'taste': 'nan', 'feel': 'nan', 'overall': 'nan', 'beer_id': '67951', 'text': 'You had this beer. Write a review.', 'id': '203386', 'smell': 'nan', 'look': 'nan'}>>,\n",
      " <Record r=<Node element_id='611529' labels=frozenset({'REVIEWS'}) properties={'date': '2012-04-14', 'score': '3.0', 'taste': 'nan', 'feel': 'nan', 'overall': 'nan', 'beer_id': '65333', 'text': 'You had this beer. Write a review.', 'id': '190444', 'smell': 'nan', 'look': 'nan'}>>,\n",
      " <Record r=<Node element_id='612327' labels=frozenset({'REVIEWS'}) properties={'date': '2012-04-14', 'score': '3.25', 'taste': 'nan', 'feel': 'nan', 'overall': 'nan', 'beer_id': '65580', 'text': 'You had this beer. Write a review.', 'id': '191242', 'smell': 'nan', 'look': 'nan'}>>,\n",
      " <Record r=<Node element_id='608241' labels=frozenset({'REVIEWS'}) properties={'date': '2014-05-08', 'score': '3.5', 'taste': 'nan', 'feel': 'nan', 'overall': 'nan', 'beer_id': '65113', 'text': 'You had this beer. Write a review.', 'id': '187156', 'smell': 'nan', 'look': 'nan'}>>,\n",
      " <Record r=<Node element_id='609506' labels=frozenset({'REVIEWS'}) properties={'date': '2012-05-26', 'score': '4.75', 'taste': 'nan', 'feel': 'nan', 'overall': 'nan', 'beer_id': '65180', 'text': 'You had this beer. Write a review.', 'id': '188421', 'smell': 'nan', 'look': 'nan'}>>,\n",
      " <Record r=<Node element_id='600483' labels=frozenset({'REVIEWS'}) properties={'date': '2011-04-20', 'score': '4.17', 'taste': '4.0', 'feel': '4.5', 'overall': '4.0', 'beer_id': '63893', 'text': 'Purchased at der Bier Tempel in Brussels and carried home in my luggage. Appearance - Pours hazy straw with a tall billowy white head. Aroma is typical Belgian dry sour apple, chalky sweetness, wet wood, subtle noble hops. Taste is soft, vaguely bready, and very smooth. Fruity with a hint of wildness and subtly bitter finish. Not nearly as intense as I anticipated, but complex and very easy to drink.', 'id': '179398', 'smell': '4.5', 'look': '4.0'}>>,\n",
      " <Record r=<Node element_id='469060' labels=frozenset({'REVIEWS'}) properties={'date': '2014-03-14', 'score': '3.75', 'taste': 'nan', 'feel': 'nan', 'overall': 'nan', 'beer_id': '74158', 'text': 'You had this beer. Write a review.', 'id': '47975', 'smell': 'nan', 'look': 'nan'}>>,\n",
      " <Record r=<Node element_id='467422' labels=frozenset({'REVIEWS'}) properties={'date': '2012-04-06', 'score': '3.0', 'taste': 'nan', 'feel': 'nan', 'overall': 'nan', 'beer_id': '76571', 'text': 'You had this beer. Write a review.', 'id': '46337', 'smell': 'nan', 'look': 'nan'}>>,\n",
      " <Record r=<Node element_id='471385' labels=frozenset({'REVIEWS'}) properties={'date': '2013-02-20', 'score': '4.0', 'taste': 'nan', 'feel': 'nan', 'overall': 'nan', 'beer_id': '58873', 'text': 'You had this beer. Write a review.', 'id': '50300', 'smell': 'nan', 'look': 'nan'}>>,\n",
      " <Record r=<Node element_id='487324' labels=frozenset({'REVIEWS'}) properties={'date': '2014-03-07', 'score': '4.0', 'taste': 'nan', 'feel': 'nan', 'overall': 'nan', 'beer_id': '48116', 'text': 'You had this beer. Write a review.', 'id': '66239', 'smell': 'nan', 'look': 'nan'}>>,\n",
      " <Record r=<Node element_id='501899' labels=frozenset({'REVIEWS'}) properties={'date': '2013-07-17', 'score': '5.0', 'taste': 'nan', 'feel': 'nan', 'overall': 'nan', 'beer_id': '48824', 'text': 'You had this beer. Write a review.', 'id': '80814', 'smell': 'nan', 'look': 'nan'}>>,\n",
      " <Record r=<Node element_id='507473' labels=frozenset({'REVIEWS'}) properties={'date': '2012-05-28', 'score': '3.75', 'taste': 'nan', 'feel': 'nan', 'overall': 'nan', 'beer_id': '48873', 'text': 'You had this beer. Write a review.', 'id': '86388', 'smell': 'nan', 'look': 'nan'}>>,\n",
      " <Record r=<Node element_id='520509' labels=frozenset({'REVIEWS'}) properties={'date': '2013-02-18', 'score': '4.5', 'taste': 'nan', 'feel': 'nan', 'overall': 'nan', 'beer_id': '49868', 'text': 'You had this beer. Write a review.', 'id': '99424', 'smell': 'nan', 'look': 'nan'}>>,\n",
      " <Record r=<Node element_id='523930' labels=frozenset({'REVIEWS'}) properties={'date': '2013-01-15', 'score': '3.75', 'taste': 'nan', 'feel': 'nan', 'overall': 'nan', 'beer_id': '50443', 'text': 'You had this beer. Write a review.', 'id': '102845', 'smell': 'nan', 'look': 'nan'}>>,\n",
      " <Record r=<Node element_id='536248' labels=frozenset({'REVIEWS'}) properties={'date': '2011-08-01', 'score': '4.42', 'taste': '4.5', 'feel': '4.0', 'overall': '4.5', 'beer_id': '50697', 'text': 'a-golden hue with a two finger head and lively carbonation. Lacing is good, as is head retention. s-big hops with a citrus overtone. There are a lot of tropical fruits too. Great nose for a DIPA. Smells a lot like Myrcenary. t-Good hop front and a decent malt backbone to balance out the bill. The bitterness is clean and refreshing. There is a good amount of the tropical fruits that make their presence known in the taste. Solid tasting DIPA. m-great carbonation that brings out the taste even more. Need more sticky to rate higher however. o-another solid brew from Firestone Walker. Great example of a DIPA. Will be having this in the fridge as a main stay.', 'id': '115163', 'smell': '4.5', 'look': '4.0'}>>,\n",
      " <Record r=<Node element_id='544893' labels=frozenset({'REVIEWS'}) properties={'date': '2012-09-01', 'score': '4.0', 'taste': 'nan', 'feel': 'nan', 'overall': 'nan', 'beer_id': '53502', 'text': 'You had this beer. Write a review.', 'id': '123808', 'smell': 'nan', 'look': 'nan'}>>,\n",
      " <Record r=<Node element_id='551417' labels=frozenset({'REVIEWS'}) properties={'date': '2012-02-27', 'score': '4.0', 'taste': 'nan', 'feel': 'nan', 'overall': 'nan', 'beer_id': '55191', 'text': 'You had this beer. Write a review.', 'id': '130332', 'smell': 'nan', 'look': 'nan'}>>,\n",
      " <Record r=<Node element_id='558817' labels=frozenset({'REVIEWS'}) properties={'date': '2012-11-29', 'score': '4.5', 'taste': 'nan', 'feel': 'nan', 'overall': 'nan', 'beer_id': '55564', 'text': 'You had this beer. Write a review.', 'id': '137732', 'smell': 'nan', 'look': 'nan'}>>,\n",
      " <Record r=<Node element_id='563749' labels=frozenset({'REVIEWS'}) properties={'date': '2013-06-16', 'score': '4.0', 'taste': 'nan', 'feel': 'nan', 'overall': 'nan', 'beer_id': '55939', 'text': 'You had this beer. Write a review.', 'id': '142664', 'smell': 'nan', 'look': 'nan'}>>,\n",
      " <Record r=<Node element_id='568577' labels=frozenset({'REVIEWS'}) properties={'date': '2011-12-14', 'score': '4.0', 'taste': 'nan', 'feel': 'nan', 'overall': 'nan', 'beer_id': '56259', 'text': '', 'id': '147492', 'smell': 'nan', 'look': 'nan'}>>]\n"
     ]
    }
   ],
   "source": [
    "# Check if it has any reviews connected to USER with 'nan' name\n",
    "query = \"\"\"\n",
    "            MATCH (u:USER)--(r:REVIEWS)\n",
    "            WHERE u.name = 'nan'\n",
    "            RETURN r\n",
    "    \"\"\"\n",
    "result = execute_read(driver, query)    \n",
    "pprint(result)"
   ]
  },
  {
   "cell_type": "markdown",
   "metadata": {},
   "source": [
    "> <strong style=\"color:red\">Since this user has a lot of reviews connected we can't just delete the user and its reviews. But what if we delete the user and keep the reviews? As they are still connected to the beers.</strong>"
   ]
  },
  {
   "cell_type": "markdown",
   "metadata": {},
   "source": [
    "### 2.4.5 Set all 'nan' to NULL"
   ]
  },
  {
   "cell_type": "markdown",
   "metadata": {},
   "source": [
    "> <strong style=\"color:red\">Remove CITIES, STYLE and USER because of what we did above. Verify!</style>"
   ]
  },
  {
   "cell_type": "code",
   "execution_count": null,
   "metadata": {},
   "outputs": [],
   "source": [
    "nodes = [\"BEERS\", \"BREWERIES\", \"CITIES\", \"COUNTRIES\", \"REVIEWS\", \"STYLE\", \"USER\"]"
   ]
  },
  {
   "cell_type": "code",
   "execution_count": null,
   "metadata": {},
   "outputs": [],
   "source": [
    "nan_values_dict = {\n",
    "    \"BEERS\": [\"abv\", \"notes\", \"state\"],\n",
    "    \"BREWERIES\": [\"notes\", \"state\"],\n",
    "    //\"CITIES\": [\"name\"],\n",
    "    \"REVIEWS\": [\"smell\", \"look\", \"taste\", \"feel\", \"overall\"],\n",
    "    //\"STYLE\": [\"name\"],\n",
    "    //\"USER\": [\"name\"]\n",
    "}\n",
    "\n",
    "for node, properties in nan_values_dict.items():\n",
    "    for prop in properties:\n",
    "        print(f\"Correcting missing {prop} in {node}\")\n",
    "        query = f\"\"\"\n",
    "                MATCH (n:{node})\n",
    "                WHERE n.{prop} = 'nan'\n",
    "                SET n.{prop} = NULL\n",
    "                RETURN count(*) AS number_of_values_changed\n",
    "        \"\"\"\n",
    "        result=execute_write(driver, query)\n",
    "        pprint(result)"
   ]
  },
  {
   "cell_type": "markdown",
   "metadata": {},
   "source": [
    "> We will also set 'No noted at this time.' to nan, as it doesn't represent anything. And logically it would make more sense."
   ]
  },
  {
   "cell_type": "code",
   "execution_count": null,
   "metadata": {},
   "outputs": [],
   "source": [
    "query = f\"\"\"\n",
    "    MATCH (n:BEERS)\n",
    "    WHERE n.notes = \"No notes at this time.\"\n",
    "    SET n.notes = NULL\n",
    "    RETURN count(*) AS number_of_values_changed\n",
    "    \"\"\"\n",
    "result = execute_write(driver, query)\n",
    "print(node)\n",
    "pprint(result)"
   ]
  },
  {
   "cell_type": "markdown",
   "metadata": {},
   "source": [
    "## 2.5 Duplicate values"
   ]
  },
  {
   "cell_type": "code",
   "execution_count": null,
   "metadata": {},
   "outputs": [
    {
     "name": "stdout",
     "output_type": "stream",
     "text": [
      "Reviews ID: None, Count: 19\n"
     ]
    }
   ],
   "source": [
    "query = \"\"\"\n",
    "    MATCH (r:REVIEWS)\n",
    "    WITH r.id AS reviews_id, COUNT(r) AS count\n",
    "    WHERE count > 1\n",
    "    RETURN reviews_id, count\n",
    "    ORDER BY count DESC;\n",
    "\"\"\"\n",
    "\n",
    "result = execute_read(driver, query)\n",
    "\n",
    "print(result)"
   ]
  },
  {
   "cell_type": "markdown",
   "metadata": {},
   "source": [
    "> 19 REVIEWS without ID, and also have no properties. "
   ]
  },
  {
   "cell_type": "code",
   "execution_count": 11,
   "metadata": {},
   "outputs": [
    {
     "name": "stdout",
     "output_type": "stream",
     "text": [
      "[<Record n=<Node element_id='921375' labels=frozenset() properties={}>>,\n",
      " <Record n=<Node element_id='921921' labels=frozenset() properties={}>>,\n",
      " <Record n=<Node element_id='922467' labels=frozenset() properties={}>>,\n",
      " <Record n=<Node element_id='923013' labels=frozenset() properties={}>>,\n",
      " <Record n=<Node element_id='923559' labels=frozenset() properties={}>>,\n",
      " <Record n=<Node element_id='924105' labels=frozenset() properties={}>>,\n",
      " <Record n=<Node element_id='924651' labels=frozenset() properties={}>>,\n",
      " <Record n=<Node element_id='925197' labels=frozenset() properties={}>>,\n",
      " <Record n=<Node element_id='925743' labels=frozenset() properties={}>>,\n",
      " <Record n=<Node element_id='926289' labels=frozenset() properties={}>>,\n",
      " <Record n=<Node element_id='926835' labels=frozenset() properties={}>>,\n",
      " <Record n=<Node element_id='927381' labels=frozenset() properties={}>>,\n",
      " <Record n=<Node element_id='927927' labels=frozenset() properties={}>>,\n",
      " <Record n=<Node element_id='928473' labels=frozenset() properties={}>>,\n",
      " <Record n=<Node element_id='929019' labels=frozenset() properties={}>>,\n",
      " <Record n=<Node element_id='929565' labels=frozenset() properties={}>>,\n",
      " <Record n=<Node element_id='930111' labels=frozenset() properties={}>>,\n",
      " <Record n=<Node element_id='930657' labels=frozenset() properties={}>>,\n",
      " <Record n=<Node element_id='931203' labels=frozenset() properties={}>>]\n"
     ]
    }
   ],
   "source": [
    "#There are 19 REVIEWS with no id property and have no info associated\n",
    "query = \"\"\"\n",
    "    MATCH (n:REVIEWS)\n",
    "    WHERE n.id IS NULL\n",
    "    RETURN n\n",
    "\"\"\"\n",
    "result = execute_read(driver, query)\n",
    "pprint(result)\n"
   ]
  },
  {
   "cell_type": "code",
   "execution_count": null,
   "metadata": {},
   "outputs": [],
   "source": [
    "to_delete=[921375,921921,922467,923013,923559,924105,924651,925197]"
   ]
  },
  {
   "cell_type": "code",
   "execution_count": 29,
   "metadata": {},
   "outputs": [
    {
     "name": "stdout",
     "output_type": "stream",
     "text": [
      "[]\n"
     ]
    }
   ],
   "source": [
    "#There are 19 REVIEWS with no id property and have no info associated\n",
    "query = \"\"\"\n",
    "    MATCH (n:REVIEWS)\n",
    "    WHERE ID(n)='931203'\n",
    "    RETURN n\n",
    "\"\"\"\n",
    "result = execute_read(driver, query)\n",
    "pprint(result)\n"
   ]
  },
  {
   "cell_type": "code",
   "execution_count": 10,
   "metadata": {},
   "outputs": [
    {
     "name": "stdout",
     "output_type": "stream",
     "text": [
      "[<Record count(n)=19>]\n"
     ]
    }
   ],
   "source": [
    "#This will be removed\n",
    "query = \"\"\"\n",
    "    MATCH (n:REVIEWS)\n",
    "    WHERE n.id IS NULL\n",
    "    DELETE n\n",
    "    RETURN count(n)\n",
    "\"\"\"\n",
    "result = execute_write(driver, query)\n",
    "pprint(result)"
   ]
  },
  {
   "cell_type": "code",
   "execution_count": 9,
   "metadata": {},
   "outputs": [],
   "source": [
    "query = \"\"\"\n",
    "    MATCH (b:BREWERIES)\n",
    "    WITH b.id AS beer_id, COUNT(b) AS count\n",
    "    WHERE count > 1\n",
    "    RETURN beer_id, count\n",
    "    ORDER BY count DESC;\n",
    "\"\"\"\n",
    "\n",
    "result = execute_read(driver, query)\n",
    "\n",
    "for record in result:\n",
    "    print(f\"Beer ID: {record['beer_id']}, Count: {record['count']}\")\n"
   ]
  },
  {
   "cell_type": "code",
   "execution_count": 32,
   "metadata": {},
   "outputs": [
    {
     "name": "stdout",
     "output_type": "stream",
     "text": [
      "Checking for duplicated values for 'id' in 'BEERS'\n",
      "[]\n",
      "\n",
      "\n",
      "Checking for duplicated values for 'name' in 'BEERS'\n",
      "[<Record name='Oktoberfest' count=755>,\n",
      " <Record name='IPA' count=633>,\n",
      " <Record name='Pale Ale' count=620>,\n",
      " <Record name='Hefeweizen' count=477>,\n",
      " <Record name='Oatmeal Stout' count=443>]\n",
      "\n",
      "\n",
      "-------------------------------\n",
      "Checking for duplicated values for 'id' in 'BREWERIES'\n",
      "[]\n",
      "\n",
      "\n",
      "Checking for duplicated values for 'name' in 'BREWERIES'\n",
      "[<Record name='Whole Foods Market' count=162>,\n",
      " <Record name='Total Wine & More' count=147>,\n",
      " <Record name='Cost Plus World Market' count=118>,\n",
      " <Record name='Mellow Mushroom' count=114>,\n",
      " <Record name=\"Trader Joe's\" count=88>]\n",
      "\n",
      "\n",
      "-------------------------------\n",
      "Checking for duplicated values for 'name' in 'CITIES'\n",
      "[]\n",
      "\n",
      "\n",
      "-------------------------------\n",
      "Checking for duplicated values for 'name' in 'COUNTRIES'\n",
      "[]\n",
      "\n",
      "\n",
      "-------------------------------\n",
      "Checking for duplicated values for 'id' in 'REVIEWS'\n",
      "[<Record id=None count=19>]\n",
      "\n",
      "\n",
      "-------------------------------\n",
      "Checking for duplicated values for 'name' in 'STYLE'\n",
      "[]\n",
      "\n",
      "\n",
      "-------------------------------\n",
      "Checking for duplicated values for 'name' in 'USER'\n",
      "[]\n",
      "\n",
      "\n",
      "-------------------------------\n"
     ]
    }
   ],
   "source": [
    "unique_properties = [\"id\", \"name\"]\n",
    "\n",
    "for node, properties in node_properties.items():\n",
    "    for prop in unique_properties:\n",
    "        if prop in properties: \n",
    "            print(f\"Checking for duplicated values for '{prop}' in '{node}'\")\n",
    "\n",
    "            query = f\"\"\"\n",
    "                    MATCH (n:{node})\n",
    "                    WITH TRIM(n.{prop}) AS {prop}, count(n) AS count\n",
    "                    WHERE count > 1\n",
    "                    RETURN {prop}, count\n",
    "                    ORDER BY count DESC\n",
    "                    LIMIT 5\n",
    "            \"\"\"\n",
    "            result = execute_read(driver, query)\n",
    "            pprint(result)\n",
    "            print(\"\\n\")\n",
    "    print(\"-------------------------------\")"
   ]
  },
  {
   "cell_type": "markdown",
   "metadata": {},
   "source": [
    "## 2.6 Invert relationship"
   ]
  },
  {
   "cell_type": "markdown",
   "metadata": {},
   "source": [
    "> Instead of actually reverting, we will change the name "
   ]
  },
  {
   "cell_type": "markdown",
   "metadata": {},
   "source": [
    "> Cervejas estão só conectadas a uma brewery? Se tiver + que uma então faz sentido existir brewery id? mas pode ser melhorado talvez pelo facto de procurar mos."
   ]
  }
 ],
 "metadata": {
  "hide_input": false,
  "kernelspec": {
   "display_name": "Python 3",
   "language": "python",
   "name": "python3"
  },
  "language_info": {
   "codemirror_mode": {
    "name": "ipython",
    "version": 3
   },
   "file_extension": ".py",
   "mimetype": "text/x-python",
   "name": "python",
   "nbconvert_exporter": "python",
   "pygments_lexer": "ipython3",
   "version": "3.11.9"
  },
  "toc": {
   "base_numbering": 1,
   "nav_menu": {},
   "number_sections": true,
   "sideBar": true,
   "skip_h1_title": false,
   "title_cell": "Table of Contents",
   "title_sidebar": "Contents",
   "toc_cell": false,
   "toc_position": {},
   "toc_section_display": true,
   "toc_window_display": false
  },
  "varInspector": {
   "cols": {
    "lenName": 16,
    "lenType": 16,
    "lenVar": 40
   },
   "kernels_config": {
    "python": {
     "delete_cmd_postfix": "",
     "delete_cmd_prefix": "del ",
     "library": "var_list.py",
     "varRefreshCmd": "print(var_dic_list())"
    },
    "r": {
     "delete_cmd_postfix": ") ",
     "delete_cmd_prefix": "rm(",
     "library": "var_list.r",
     "varRefreshCmd": "cat(var_dic_list()) "
    }
   },
   "types_to_exclude": [
    "module",
    "function",
    "builtin_function_or_method",
    "instance",
    "_Feature"
   ],
   "window_display": false
  }
 },
 "nbformat": 4,
 "nbformat_minor": 4
}
