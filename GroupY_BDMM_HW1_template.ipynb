{
 "cells": [
  {
   "cell_type": "markdown",
   "metadata": {},
   "source": [
    "# Big Data Modeling and Management Assigment - Homework 1"
   ]
  },
  {
   "cell_type": "markdown",
   "metadata": {},
   "source": [
    "# Submission\n",
    "\n",
    "GROUP NUMBER: **XXXXXX** - please add your group number into the file name\n",
    "\n",
    "GROUP MEMBERS:\n",
    "\n",
    "|STUDENT NAME|STUDENT NUMBER|\n",
    "|---|---|\n",
    "|Gaspar Pereira|XXXXXX|\n",
    "|Íris Moreira|XXXXXX|\n",
    "|Jude|XXXXXX|\n",
    "|Rita Wang|XXXXXX|"
   ]
  },
  {
   "cell_type": "markdown",
   "metadata": {},
   "source": [
    "## 🍺 The Beer project  🍺 \n",
    "\n",
    "As it was shown in classes, graph databases are a natural way of navegating related information. For this first project we will be taking a graph database to analyse beer and breweries!   \n",
    "\n",
    "The project datasets are based on [kaggle](https://www.kaggle.com/ehallmar/beers-breweries-and-beer-reviews), released by Evan Hallmark. \n",
    "\n",
    "### Problem description\n",
    "\n",
    "Imagine you are working in the Data Management department of Analytics company.\n",
    "Explore the database via python neo4j connector and/or the graphical tool in the NEO4J webpage. Answer the questions while adjusting the database to meet the needs of your colleagues.\n",
    "Please record and keep track of your database changes, and submit the file with all cells run and with the output shown.\n",
    "\n",
    "### Questions\n",
    "\n",
    "1. Explore the database: get familiar with current schema, elements and other important database parameters. [1 point]\n",
    "2. Adjust the database and mention reasoning behind: e.g. clean errors, remove redundancies, adjust schema as necessary. Visualize the final version of database schema. [4 points]a\n",
    "3. Analytics department requires the following information for the biweekly reporting: [5 points]\n",
    "    1. How many reviews has the beer with the most reviews?\n",
    "    2. Which three users wrote the most reviews about beers?\n",
    "    3. Find all beers that are described with following words: 'fruit', 'complex', 'nutty', 'dark'.\n",
    "    4. Which top three breweries produce the largest variety of beer styles?\n",
    "    5. Which country produces the most beer styles?\n",
    "4. Market Analysis department in your company accesses and updates the trends data on the daily basis. Given that, consider how you need to optimize the database and its performance so that the following queries are efficient. Measure performance to communicate your improvements using PROFILE before final query. Answer the following: [4 points]\n",
    "    1. Using ABV score, find five strongest beers, display their ABV score and the corresponding brewery? Keep in mind that the strongest known beer is Snake Venom, and deal with the error entries in the database.\n",
    "    2. Using the answer from question 2, find the top 5 distict beer styles with the highest average score of smell + feel that were reviewed by the third most productive user. Keep in mind that cleaning the database earlier should ensure correct results.\n",
    "5. Answer **two out of four** of the following questions using Graph Algorithms (gds): [NB: make sure to clear the graph before using it again] For the quarterly report, Analytics department the follownig information. [6 points]\n",
    "    1. Which two countries are most similiar when it comes to their top five most produced Beer styles?\n",
    "    2. Which beer is the most popular when considering the number of users who reviewed it? \n",
    "    3. Users are connected together by their reviews of beers, taking into consideration the \"smell\" score they assign as a weight, how many communities are formed from these relationships? How many users are in the three largest communities? \n",
    "    4. Which user is the most influential when it comes to reviews of distinct beers by style?\n",
    " \n",
    "### Groups  \n",
    "\n",
    "Groups should have 4 people maximum. Please mark which group you are here: https://shorturl.at/zE0QP \n",
    "\n",
    "### Submission      \n",
    "\n",
    "The code used to produce the results and to-the-point explations should be uploaded to moodle. They should have a clear reference to the group, either on the file name or on the document itself. Preferably one Jupyter notebook per group.\n",
    "\n",
    "Delivery date: Until the **midnight of March 18, 2025**\n",
    "\n",
    "### Evaluation   \n",
    "\n",
    "This will be 20% of the final grade.   \n",
    "Each solution will be evaluated on 2 components: correctness of results and efficiency of the query (based on database schema).  \n",
    "All code will go through plagiarism automated checks. Groups with the same code will undergo investigation."
   ]
  },
  {
   "cell_type": "markdown",
   "metadata": {},
   "source": [
    "## Loading the Database\n",
    "\n",
    "#### Be sure that you **don't have** the neo4j docker container from the classes running (you can Stop it in the desktop app or with the command \"`docker stop Neo4JLab`\")\n",
    "\n",
    "\n",
    "The default container does not have any data whatsoever, we will have to load a database into our docker image:\n",
    "- Download and unzip the `Neo4JHWData` file provided in Moodle.\n",
    "- Copy the path of the `Neo4JHWData` folder of the unziped file, e.g. `C:/PATH/Neo4JHWData/data`.\n",
    "- Download and unzip the `Neo4JPlugins` file provided in Moodle.\n",
    "- Copy the path of the `Neo4JPlugins` folder of the unziped file, e.g. `C:/PATH/Neo4Jplugins`.\n",
    "- Change the code below accordingly. As you might have noticed, you do not have a user called `nunoa`, please use the appropriate path that you got from the previous step. Be sure that you have a neo4j docker container running: \\\n",
    "\n",
    "`docker run --name Neo4JHW2025 -p 7474:7474 -p 7687:7687 -d -v \"c:\\PATH\\Neo4JPlugins\":/plugins -v \"c:\\PATH\\Neo4JHWData\\data\":/data --env NEO4J_AUTH=neo4j/test --env NEO4J_dbms_connector_https_advertised__address=\"localhost:7473\" --env NEO4J_dbms_connector_http_advertised__address=\"localhost:7474\" --env NEO4J_dbms_connector_bolt_advertised__address=\"localhost:7687\" --env NEO4J_dbms_security_procedures_unrestricted=gds.* --env NEO4J_dbms_security_procedures_allowlist=\"gds.*\" neo4j:4.4.5`\n",
    "\n",
    "- Since Neo4j is trying to recognize a new database folder, this might take a bit (let's say 3 minutes), so don't worry.\n",
    "\n",
    "If the neo4j browser fails to load gds plugins, run the following in the Command Prompt before creating the container again:\n",
    "`// Remove stopped containers //\n",
    "docker container prune -f\n",
    "// Remove unused images //\n",
    "docker image prune -a -f\n",
    "// Remove unused volumes //\n",
    "docker volume prune -f\n",
    "// Remove unused networks //\n",
    "docker network prune -f\n",
    "// Remove all unused resources in one command //\n",
    "docker system prune -a -f`"
   ]
  },
  {
   "cell_type": "code",
   "execution_count": null,
   "metadata": {},
   "outputs": [],
   "source": []
  },
  {
   "cell_type": "code",
   "execution_count": 1,
   "metadata": {
    "ExecuteTime": {
     "end_time": "2024-02-29T21:45:57.447501Z",
     "start_time": "2024-02-29T21:45:56.625014Z"
    }
   },
   "outputs": [],
   "source": [
    "from neo4j import GraphDatabase\n",
    "from pprint import pprint"
   ]
  },
  {
   "cell_type": "code",
   "execution_count": 2,
   "metadata": {
    "ExecuteTime": {
     "end_time": "2024-02-29T21:46:09.652569Z",
     "start_time": "2024-02-29T21:46:09.648166Z"
    }
   },
   "outputs": [],
   "source": [
    "NEO4J_URI=\"neo4j://localhost:7687\"\n",
    "NEO4J_USERNAME=\"neo4j\"\n",
    "NEO4J_PASSWORD=\"test\""
   ]
  },
  {
   "cell_type": "code",
   "execution_count": 3,
   "metadata": {
    "ExecuteTime": {
     "end_time": "2024-02-29T21:46:10.939324Z",
     "start_time": "2024-02-29T21:46:10.934651Z"
    }
   },
   "outputs": [],
   "source": [
    "driver = GraphDatabase.driver(NEO4J_URI, auth=(NEO4J_USERNAME, NEO4J_PASSWORD), )"
   ]
  },
  {
   "cell_type": "code",
   "execution_count": 4,
   "metadata": {
    "ExecuteTime": {
     "end_time": "2024-02-29T21:46:14.291655Z",
     "start_time": "2024-02-29T21:46:14.286865Z"
    }
   },
   "outputs": [],
   "source": [
    "def execute_read(driver, query):    \n",
    "    with driver.session(database=\"neo4j\") as session:\n",
    "        result = session.execute_read(lambda tx, query: list(tx.run(query)), query)\n",
    "    return result"
   ]
  },
  {
   "cell_type": "code",
   "execution_count": 5,
   "metadata": {},
   "outputs": [],
   "source": [
    "def execute_write(driver, query):\n",
    "    with driver.session(database=\"neo4j\") as session:\n",
    "        # Write transactions allow the driver to handle retries and transient errors\n",
    "        result = session.execute_write(lambda tx, query: list(tx.run(query)), query)\n",
    "    return result"
   ]
  },
  {
   "cell_type": "markdown",
   "metadata": {},
   "source": [
    "# Question 1: Exploring the database"
   ]
  },
  {
   "cell_type": "markdown",
   "metadata": {},
   "source": [
    "## 1.1 Labels, Relationships and Properties"
   ]
  },
  {
   "cell_type": "markdown",
   "metadata": {},
   "source": [
    "> Let's start by checking the labels in our database:"
   ]
  },
  {
   "cell_type": "code",
   "execution_count": 6,
   "metadata": {},
   "outputs": [
    {
     "name": "stdout",
     "output_type": "stream",
     "text": [
      "[<Record label='COUNTRIES'>,\n",
      " <Record label='CITIES'>,\n",
      " <Record label='BREWERIES'>,\n",
      " <Record label='BEERS'>,\n",
      " <Record label='REVIEWS'>,\n",
      " <Record label='STYLE'>,\n",
      " <Record label='USER'>]\n"
     ]
    }
   ],
   "source": [
    "query = \"\"\"\n",
    "       call db.labels();\n",
    "\t\t    \"\"\"\n",
    "\n",
    "result = execute_read(driver, query)\n",
    "\n",
    "pprint(result)"
   ]
  },
  {
   "cell_type": "code",
   "execution_count": 9,
   "metadata": {},
   "outputs": [],
   "source": [
    "labels = ['COUNTRIES','CITIES','BREWERIES','BEERS','REVIEWS','STYLE','USER']"
   ]
  },
  {
   "cell_type": "markdown",
   "metadata": {},
   "source": [
    "> Check the number of nodes for each label"
   ]
  },
  {
   "cell_type": "code",
   "execution_count": 15,
   "metadata": {},
   "outputs": [
    {
     "name": "stdout",
     "output_type": "stream",
     "text": [
      "Label: COUNTRIES, Count: 200\n",
      "Label: CITIES, Count: 11665\n",
      "Label: BREWERIES, Count: 50347\n",
      "Label: BEERS, Count: 358873\n",
      "Label: REVIEWS, Count: 2538063\n",
      "Label: STYLE, Count: 113\n",
      "Label: USER, Count: 106645\n"
     ]
    }
   ],
   "source": [
    "for label in labels:\n",
    "    query = f\"\"\"\n",
    "        MATCH (n:{label})\n",
    "        RETURN COUNT(n) AS count\n",
    "    \"\"\"\n",
    "    \n",
    "    result = execute_read(driver, query)\n",
    "    print(f\"Label: {label}, Count: {result[0]['count']}\")\n"
   ]
  },
  {
   "cell_type": "markdown",
   "metadata": {},
   "source": [
    "> Relationships:"
   ]
  },
  {
   "cell_type": "code",
   "execution_count": 39,
   "metadata": {},
   "outputs": [
    {
     "name": "stdout",
     "output_type": "stream",
     "text": [
      "[<Record relationshipType='REVIEWED'>,\n",
      " <Record relationshipType='BREWED'>,\n",
      " <Record relationshipType='IN'>,\n",
      " <Record relationshipType='HAS_STYLE'>,\n",
      " <Record relationshipType='POSTED'>]\n"
     ]
    }
   ],
   "source": [
    "query = \"\"\"\n",
    "        CALL db.relationshipTypes();\n",
    "    \"\"\"\n",
    "\n",
    "result = execute_read(driver, query)\n",
    "\n",
    "pprint(result)"
   ]
  },
  {
   "cell_type": "code",
   "execution_count": 37,
   "metadata": {},
   "outputs": [],
   "source": [
    "relationships = ['REVIEWED','BREWED','IN','HAS_STYLE','POSTED']"
   ]
  },
  {
   "cell_type": "code",
   "execution_count": 40,
   "metadata": {},
   "outputs": [
    {
     "name": "stdout",
     "output_type": "stream",
     "text": [
      "Relationship: REVIEWED, Count: 2537991\n",
      "Relationship: BREWED, Count: 358873\n",
      "Relationship: IN, Count: 62424\n",
      "Relationship: HAS_STYLE, Count: 358873\n",
      "Relationship: POSTED, Count: 2538044\n"
     ]
    }
   ],
   "source": [
    "for relationship in relationships:\n",
    "    query = f\"\"\"\n",
    "        MATCH ()-[r:{relationship}]->()\n",
    "        RETURN COUNT(r) AS count\n",
    "    \"\"\"\n",
    "    \n",
    "    result = execute_read(driver, query)\n",
    "    print(f\"Relationship: {relationship}, Count: {result[0]['count']}\")\n"
   ]
  },
  {
   "cell_type": "markdown",
   "metadata": {},
   "source": [
    "> Properties:"
   ]
  },
  {
   "cell_type": "code",
   "execution_count": 56,
   "metadata": {},
   "outputs": [
    {
     "name": "stdout",
     "output_type": "stream",
     "text": [
      "[<Record propertyKey='name'>,\n",
      " <Record propertyKey='types'>,\n",
      " <Record propertyKey='notes'>,\n",
      " <Record propertyKey='state'>,\n",
      " <Record propertyKey='id'>,\n",
      " <Record propertyKey='abv'>,\n",
      " <Record propertyKey='retired'>,\n",
      " <Record propertyKey='availability'>,\n",
      " <Record propertyKey='brewery_id'>,\n",
      " <Record propertyKey='date'>,\n",
      " <Record propertyKey='score'>,\n",
      " <Record propertyKey='taste'>,\n",
      " <Record propertyKey='feel'>,\n",
      " <Record propertyKey='overall'>,\n",
      " <Record propertyKey='beer_id'>,\n",
      " <Record propertyKey='text'>,\n",
      " <Record propertyKey='smell'>,\n",
      " <Record propertyKey='look'>]\n"
     ]
    }
   ],
   "source": [
    "query = \"\"\"\n",
    "        CALL db.propertyKeys();\n",
    "    \"\"\"\n",
    "\n",
    "result = execute_read(driver, query)\n",
    "\n",
    "pprint(result)"
   ]
  },
  {
   "cell_type": "code",
   "execution_count": 58,
   "metadata": {},
   "outputs": [],
   "source": [
    "properties = ['name','types','notes','state','id','abv','retired','availability',\\\n",
    "              'brewery_id','date','score','taste','feel','overall','beer_id',\\\n",
    "                'text','smell','look']"
   ]
  },
  {
   "cell_type": "markdown",
   "metadata": {},
   "source": [
    "## 1.2 What labels are connected by each relationship type?"
   ]
  },
  {
   "cell_type": "markdown",
   "metadata": {},
   "source": [
    "> Let's see if there are any relationships that don't make sense:"
   ]
  },
  {
   "cell_type": "code",
   "execution_count": 41,
   "metadata": {},
   "outputs": [
    {
     "name": "stdout",
     "output_type": "stream",
     "text": [
      "[<Record Start=['BREWERIES'] Relationship='BREWED' End=['BEERS'] COUNT(r)=358873>,\n",
      " <Record Start=['BEERS'] Relationship='HAS_STYLE' End=['STYLE'] COUNT(r)=358873>,\n",
      " <Record Start=['CITIES'] Relationship='IN' End=['COUNTRIES'] COUNT(r)=12077>,\n",
      " <Record Start=['BREWERIES'] Relationship='IN' End=['CITIES'] COUNT(r)=50347>,\n",
      " <Record Start=['REVIEWS'] Relationship='POSTED' End=['USER'] COUNT(r)=2538044>,\n",
      " <Record Start=['BEERS'] Relationship='REVIEWED' End=['REVIEWS'] COUNT(r)=2537991>]\n"
     ]
    }
   ],
   "source": [
    "query = \"\"\"\n",
    "        MATCH (a)-[r]->(b)\n",
    "        RETURN DISTINCT labels(a) AS Start, type(r) AS Relationship, labels(b) AS End, COUNT(r)\n",
    "        ORDER BY Relationship;\n",
    "\n",
    "\n",
    "    \"\"\"\n",
    "\n",
    "result = execute_read(driver, query)\n",
    "\n",
    "pprint(result)"
   ]
  },
  {
   "cell_type": "markdown",
   "metadata": {},
   "source": [
    "> Not sure if it makes sense to have <br>\n",
    "'REVIEWS'--POSTED-->'USER' and <br>\n",
    "'BEERS'--'REVIEWED-->'REVIEWES'.<br>\n",
    "We should look into reversing the direction of these relationships."
   ]
  },
  {
   "cell_type": "markdown",
   "metadata": {},
   "source": [
    "## 1.3 What properties does each label have?"
   ]
  },
  {
   "cell_type": "code",
   "execution_count": 9,
   "metadata": {},
   "outputs": [
    {
     "name": "stdout",
     "output_type": "stream",
     "text": [
      "[<Record Label=':`BEERS`' Properties=['name', 'notes', 'state', 'id', 'abv', 'retired', 'availability', 'brewery_id']>,\n",
      " <Record Label=':`BREWERIES`' Properties=['name', 'types', 'notes', 'state', 'id']>,\n",
      " <Record Label=':`CITIES`' Properties=['name']>,\n",
      " <Record Label=':`COUNTRIES`' Properties=['name']>,\n",
      " <Record Label=':`REVIEWS`' Properties=['id', 'date', 'score', 'taste', 'feel', 'overall', 'beer_id', 'text', 'smell', 'look']>,\n",
      " <Record Label=':`STYLE`' Properties=['name']>,\n",
      " <Record Label=':`USER`' Properties=['name']>]\n"
     ]
    }
   ],
   "source": [
    "query = \"\"\"\n",
    "        CALL db.schema.nodeTypeProperties()\n",
    "        YIELD nodeType, propertyName\n",
    "        RETURN nodeType AS Label, COLLECT(propertyName) AS Properties\n",
    "        ORDER BY Label;\n",
    "\n",
    "\n",
    "    \"\"\"\n",
    "\n",
    "result = execute_read(driver, query)\n",
    "\n",
    "pprint(result)"
   ]
  },
  {
   "cell_type": "markdown",
   "metadata": {},
   "source": [
    "# Question 2"
   ]
  },
  {
   "cell_type": "markdown",
   "metadata": {},
   "source": [
    "## 2.1 Isolated Nodes"
   ]
  },
  {
   "cell_type": "code",
   "execution_count": 7,
   "metadata": {},
   "outputs": [
    {
     "name": "stdout",
     "output_type": "stream",
     "text": [
      "[<Record TotalNodeCount=3065906>]\n"
     ]
    }
   ],
   "source": [
    "query = \"\"\"\n",
    "        MATCH (n)\n",
    "        RETURN COUNT(n) AS TotalNodeCount\n",
    "\"\"\"\n",
    "result = execute_read(driver, query)\n",
    "pprint(result)"
   ]
  },
  {
   "cell_type": "code",
   "execution_count": 8,
   "metadata": {},
   "outputs": [
    {
     "name": "stderr",
     "output_type": "stream",
     "text": [
      "Received notification from DBMS server: {severity: WARNING} {code: Neo.ClientNotification.Statement.FeatureDeprecationWarning} {category: } {title: This feature is deprecated and will be removed in future versions.} {description: Coercion of list to boolean is deprecated. Please consider using `NOT isEmpty(...)` instead.} {position: line: 3, column: 27, offset: 37} for query: '\\n        MATCH (n)\\n        WHERE NOT (n)-[]-()\\n        RETURN labels(n) AS NodeLabel, COUNT(n) AS IsolatedNodeCount\\n        ORDER BY IsolatedNodeCount DESC\\n'\n"
     ]
    },
    {
     "name": "stdout",
     "output_type": "stream",
     "text": [
      "[]\n"
     ]
    }
   ],
   "source": [
    "query = \"\"\"\n",
    "        MATCH (n)\n",
    "        WHERE NOT (n)-[]-()\n",
    "        RETURN labels(n) AS NodeLabel, COUNT(n) AS IsolatedNodeCount\n",
    "        ORDER BY IsolatedNodeCount DESC\n",
    "\"\"\"\n",
    "result = execute_read(driver, query)\n",
    "pprint(result)"
   ]
  },
  {
   "cell_type": "code",
   "execution_count": null,
   "metadata": {},
   "outputs": [],
   "source": [
    "query = \"\"\"\n",
    "        MATCH (n)\n",
    "        WHERE NOT (n)-[]-()\n",
    "        DELETE n\n",
    "        RETURN count(n)\n",
    "\"\"\"\n",
    "result = execute_write(driver, query)\n",
    "pprint(result)"
   ]
  },
  {
   "cell_type": "code",
   "execution_count": null,
   "metadata": {},
   "outputs": [],
   "source": [
    "query = \"\"\"\n",
    "        MATCH (n)\n",
    "        RETURN COUNT(n) AS TotalNodeCount\n",
    "\"\"\"\n",
    "result = execute_read(driver, query)\n",
    "pprint(result)"
   ]
  },
  {
   "cell_type": "markdown",
   "metadata": {},
   "source": [
    "## 2.2 Unique values"
   ]
  },
  {
   "cell_type": "code",
   "execution_count": 31,
   "metadata": {},
   "outputs": [],
   "source": [
    "node_properties = {\n",
    "    \"BEERS\": [\"notes\", \"name\", \"state\", \"id\", \"retired\", \"availability\", \"brewery_id\"],\n",
    "    \"BREWERIES\": [\"notes\", \"types\", \"id\", \"name\", \"state\"],\n",
    "    \"CITIES\": [\"name\"],\n",
    "    \"COUNTRIES\": [\"name\"],\n",
    "    \"REVIEWS\": [\"text\", \"smell\", \"look\", \"taste\", \"feel\", \"overall\", \"beer_id\", \"id\", \"date\", \"score\"],\n",
    "    \"STYLE\": [\"name\"],\n",
    "    \"USER\": [\"name\"]\n",
    "}"
   ]
  },
  {
   "cell_type": "code",
   "execution_count": null,
   "metadata": {},
   "outputs": [
    {
     "name": "stdout",
     "output_type": "stream",
     "text": [
      "Label: BEERS, Property: notes\n",
      "[<Record notes='No notes at this time.' Count=309078>,\n",
      " <Record notes='nan' Count=46>,\n",
      " <Record notes='Single-Hop IPA' Count=26>,\n",
      " <Record notes='Brewed at De Proefbrouwerij.' Count=24>,\n",
      " <Record notes=' No notes at this time.' Count=23>,\n",
      " <Record notes='30 IBU' Count=22>,\n",
      " <Record notes='Permutation is our experimental series of small batch offerings, showcasing the unique visions and innovative concepts developed by our brewing and cellar crew.' Count=19>,\n",
      " <Record notes='20 IBU' Count=19>,\n",
      " <Record notes='70 IBU' Count=19>,\n",
      " <Record notes='The Intervals series is a platform that allows our brewers to experience and study the ingredients that we use in brewing. As we develop new flavors and experience those nuances we can share that with others. From single hop varieties to alternate grains we want you to learn with us! Experiment, learn, repeat!' Count=18>]\n",
      "\n",
      "\n",
      "\n",
      "Label: BEERS, Property: name\n",
      "[<Record name='Oktoberfest' Count=755>,\n",
      " <Record name='IPA' Count=633>,\n",
      " <Record name='Pale Ale' Count=620>,\n",
      " <Record name='Hefeweizen' Count=477>,\n",
      " <Record name='Oatmeal Stout' Count=443>,\n",
      " <Record name='Porter' Count=372>,\n",
      " <Record name='Saison' Count=361>,\n",
      " <Record name='India Pale Ale' Count=308>,\n",
      " <Record name='Pilsner' Count=301>,\n",
      " <Record name='Imperial Stout' Count=272>]\n",
      "\n",
      "\n",
      "\n",
      "Label: BEERS, Property: state\n",
      "[<Record state='nan' Count=60726>,\n",
      " <Record state='CA' Count=33649>,\n",
      " <Record state='PA' Count=17083>,\n",
      " <Record state='NY' Count=14572>,\n",
      " <Record state='CO' Count=14182>,\n",
      " <Record state='MI' Count=12690>,\n",
      " <Record state='IL' Count=12444>,\n",
      " <Record state='FL' Count=11898>,\n",
      " <Record state='GB2' Count=11390>,\n",
      " <Record state='WA' Count=10902>]\n",
      "\n",
      "\n",
      "\n",
      "Label: BEERS, Property: id\n",
      "[<Record id='82352' Count=1>,\n",
      " <Record id='214879' Count=1>,\n",
      " <Record id='320009' Count=1>,\n",
      " <Record id='246438' Count=1>,\n",
      " <Record id='8036' Count=1>,\n",
      " <Record id='108605' Count=1>,\n",
      " <Record id='345382' Count=1>,\n",
      " <Record id='255286' Count=1>,\n",
      " <Record id='29556' Count=1>,\n",
      " <Record id='202522' Count=1>]\n",
      "\n",
      "\n",
      "\n",
      "Label: BEERS, Property: retired\n",
      "[<Record retired='f' Count=240480>, <Record retired='t' Count=118393>]\n",
      "\n",
      "\n",
      "\n",
      "Label: BEERS, Property: availability\n",
      "[<Record availability=' Rotating' Count=98776>,\n",
      " <Record availability=' Limited (brewed once)' Count=72047>,\n",
      " <Record availability=' Year-round' Count=56800>,\n",
      " <Record availability='Rotating' Count=48002>,\n",
      " <Record availability='Limited (brewed once)' Count=34798>,\n",
      " <Record availability='Year-round' Count=19744>,\n",
      " <Record availability=' Winter' Count=6427>,\n",
      " <Record availability=' Fall' Count=5908>,\n",
      " <Record availability=' Summer' Count=5136>,\n",
      " <Record availability=' Spring' Count=3349>]\n",
      "\n",
      "\n",
      "\n",
      "Label: BEERS, Property: brewery_id\n",
      "[<Record brewery_id='1550' Count=1229>,\n",
      " <Record brewery_id='28383' Count=1225>,\n",
      " <Record brewery_id='17981' Count=1043>,\n",
      " <Record brewery_id='1146' Count=922>,\n",
      " <Record brewery_id='13307' Count=898>,\n",
      " <Record brewery_id='6045' Count=786>,\n",
      " <Record brewery_id='147' Count=736>,\n",
      " <Record brewery_id='16866' Count=723>,\n",
      " <Record brewery_id='1337' Count=652>,\n",
      " <Record brewery_id='140' Count=650>]\n",
      "\n",
      "\n",
      "\n",
      "Label: BREWERIES, Property: notes\n",
      "[<Record notes='No notes at this time.' Count=46475>,\n",
      " <Record notes='Hours:' Count=136>,\n",
      " <Record notes='nan' Count=85>,\n",
      " <Record notes=' No notes at this time.' Count=74>,\n",
      " <Record notes='Hours: ' Count=68>,\n",
      " <Record notes='OWNED BY ANHEUSER-BUSCH INBEV' Count=18>,\n",
      " <Record notes='On-premise brewing:' Count=16>,\n",
      " <Record notes='Per Omaha City Ordinance, as of October 1st 2006, this establishment is non-smoking throughout.' Count=15>,\n",
      " <Record notes='Hours' Count=13>,\n",
      " <Record notes='Opening hours:' Count=11>]\n",
      "\n",
      "\n",
      "\n",
      "Label: BREWERIES, Property: types\n",
      "[<Record types='Bar, Eatery' Count=13573>,\n",
      " <Record types='Store' Count=9726>,\n",
      " <Record types='Brewery' Count=8005>,\n",
      " <Record types='Brewery, Bar, Eatery' Count=2801>,\n",
      " <Record types='Bar, Eatery, Beer-to-go' Count=2789>,\n",
      " <Record types='Brewery, Bar, Beer-to-go' Count=2670>,\n",
      " <Record types='Bar' Count=2466>,\n",
      " <Record types='Brewery, Bar, Eatery, Beer-to-go' Count=2370>,\n",
      " <Record types='Brewery, Bar' Count=1360>,\n",
      " <Record types='Bar, Beer-to-go' Count=1258>]\n",
      "\n",
      "\n",
      "\n",
      "Label: BREWERIES, Property: id\n",
      "[<Record id='32541' Count=1>,\n",
      " <Record id='44736' Count=1>,\n",
      " <Record id='23372' Count=1>,\n",
      " <Record id='35328' Count=1>,\n",
      " <Record id='31561' Count=1>,\n",
      " <Record id='35975' Count=1>,\n",
      " <Record id='5618' Count=1>,\n",
      " <Record id='30916' Count=1>,\n",
      " <Record id='41278' Count=1>,\n",
      " <Record id='19730' Count=1>]\n",
      "\n",
      "\n",
      "\n",
      "Label: BREWERIES, Property: name\n",
      "[<Record name='Whole Foods Market' Count=162>,\n",
      " <Record name='Total Wine & More' Count=147>,\n",
      " <Record name='Cost Plus World Market' Count=118>,\n",
      " <Record name='Mellow Mushroom' Count=114>,\n",
      " <Record name=\"Trader Joe's\" Count=88>,\n",
      " <Record name='Old Chicago' Count=78>,\n",
      " <Record name=\"BJ's Restaurant & Brewhouse\" Count=68>,\n",
      " <Record name='World of Beer' Count=66>,\n",
      " <Record name='Yard House' Count=61>,\n",
      " <Record name='Wegmans' Count=58>]\n",
      "\n",
      "\n",
      "\n",
      "Label: BREWERIES, Property: state\n",
      "[<Record state='nan' Count=11271>,\n",
      " <Record state='CA' Count=3638>,\n",
      " <Record state='PA' Count=2454>,\n",
      " <Record state='NY' Count=2284>,\n",
      " <Record state='GB2' Count=2152>,\n",
      " <Record state='FL' Count=1595>,\n",
      " <Record state='IL' Count=1551>,\n",
      " <Record state='OH' Count=1518>,\n",
      " <Record state='MA' Count=1372>,\n",
      " <Record state='TX' Count=1342>]\n",
      "\n",
      "\n",
      "\n",
      "Label: CITIES, Property: name\n",
      "[<Record name='Thousand Palms' Count=1>,\n",
      " <Record name='Plant City' Count=1>,\n",
      " <Record name='Oklahoma City' Count=1>,\n",
      " <Record name='Brighton' Count=1>,\n",
      " <Record name='Seattle' Count=1>,\n",
      " <Record name='Mona Vale' Count=1>,\n",
      " <Record name='Riccione (RN)' Count=1>,\n",
      " <Record name='Belfast' Count=1>,\n",
      " <Record name='Destin' Count=1>,\n",
      " <Record name='Erpe-Mere' Count=1>]\n",
      "\n",
      "\n",
      "\n",
      "Label: COUNTRIES, Property: name\n",
      "[<Record name='US' Count=1>,\n",
      " <Record name='GB' Count=1>,\n",
      " <Record name='AU' Count=1>,\n",
      " <Record name='IT' Count=1>,\n",
      " <Record name='CA' Count=1>,\n",
      " <Record name='GR' Count=1>,\n",
      " <Record name='FR' Count=1>,\n",
      " <Record name='AT' Count=1>,\n",
      " <Record name='ES' Count=1>,\n",
      " <Record name='BE' Count=1>]\n",
      "\n",
      "\n",
      "\n",
      "Label: REVIEWS, Property: text\n",
      "[<Record text='\\xa0\\xa0' Count=1701899>,\n",
      " <Record text='\\xa0\\xa0 0%' Count=21785>,\n",
      " <Record text='\\xa0\\xa0 You had this beer. Write a review.' Count=705>,\n",
      " <Record text='\\xa0\\xa0 On tap at the brewery' Count=26>,\n",
      " <Record text='\\xa0\\xa0 C+ / ABOVE AVERAGE' Count=23>,\n",
      " <Record text='\\xa0\\xa0 Sampled from bottle' Count=22>,\n",
      " <Record text='\\xa0\\xa0 C / AVERAGE' Count=22>,\n",
      " <Record text='\\xa0\\xa0 On tap at brewery.' Count=21>,\n",
      " <Record text='\\xa0\\xa0 B- / WORTHY' Count=21>,\n",
      " <Record text=None Count=19>]\n",
      "\n",
      "\n",
      "\n",
      "Label: REVIEWS, Property: smell\n",
      "[<Record smell='nan' Count=1060483>,\n",
      " <Record smell='4.0' Count=392963>,\n",
      " <Record smell='3.5' Count=219353>,\n",
      " <Record smell='4.5' Count=204325>,\n",
      " <Record smell='4.25' Count=182230>,\n",
      " <Record smell='3.75' Count=164031>,\n",
      " <Record smell='3.0' Count=94814>,\n",
      " <Record smell='5.0' Count=54486>,\n",
      " <Record smell='4.75' Count=50008>,\n",
      " <Record smell='3.25' Count=43082>]\n",
      "\n",
      "\n",
      "\n"
     ]
    }
   ],
   "source": [
    "for label, properties in node_properties.items():\n",
    "    for property in properties:\n",
    "        query = f\"\"\"\n",
    "            MATCH (n:{label})\n",
    "            RETURN DISTINCT n.{property} AS {property}, COUNT(n) AS Count\n",
    "            ORDER BY Count DESC\n",
    "            LIMIT 10\n",
    "        \"\"\"\n",
    "        result = execute_read(driver, query)\n",
    "        print(f\"Label: {label}, Property: {property}\")\n",
    "        pprint(result)\n",
    "        print(\"\\n\\n\")"
   ]
  },
  {
   "cell_type": "markdown",
   "metadata": {},
   "source": [
    "> **1.** Start by removing leading and trailing blank spaces. By checking first what properties have those blank spaces. Which will be BEERS[notes,availability], BREWERIES[notes]"
   ]
  },
  {
   "cell_type": "code",
   "execution_count": null,
   "metadata": {},
   "outputs": [],
   "source": [
    "for node, properties in node_properties.items():\n",
    "    for prop in properties:\n",
    "        print(f\"Checking outter white spaces for: {prop} in {node}\")\n",
    "        query = f\"\"\"\n",
    "                MATCH (n:{node})\n",
    "                WHERE n.{prop} =~ \"^\\s.*|.*\\s$\"\n",
    "                RETURN count(n) AS NodeCount\n",
    "        \"\"\"\n",
    "        result = execute_read(driver, query)\n",
    "        pprint(result)"
   ]
  },
  {
   "cell_type": "code",
   "execution_count": 9,
   "metadata": {},
   "outputs": [
    {
     "name": "stdout",
     "output_type": "stream",
     "text": [
      "Deleting outter white spaces for: notes in BEERS\n",
      "[<Record NodeCount=2287>]\n",
      "Deleting outter white spaces for: availability in BEERS\n",
      "[<Record NodeCount=248467>]\n",
      "Deleting outter white spaces for: notes in BREWERIES\n",
      "[<Record NodeCount=315>]\n"
     ]
    }
   ],
   "source": [
    "white_space_nodes_prop = {\n",
    "    \"BEERS\": [\"notes\", \"availability\"],\n",
    "    \"BREWERIES\": [\"notes\"]\n",
    "}\n",
    "\n",
    "for node, properties in white_space_nodes_prop.items():\n",
    "    for prop in properties:\n",
    "        print(f\"Deleting outter white spaces for: {prop} in {node}\")\n",
    "        query = f\"\"\"\n",
    "                MATCH (n:{node})\n",
    "                WHERE n.{prop} =~ \"^\\s.*|.*\\s$\"\n",
    "                SET n.{prop} = TRIM(n.{prop})\n",
    "                RETURN count(n) AS NodeCount\n",
    "        \"\"\"\n",
    "        result = execute_write(driver, query)\n",
    "        pprint(result)"
   ]
  },
  {
   "cell_type": "markdown",
   "metadata": {},
   "source": [
    "> **2.** Remove '\\xa0\\xa0', which represents non breaking spaces, due to consistency.  "
   ]
  },
  {
   "cell_type": "code",
   "execution_count": null,
   "metadata": {},
   "outputs": [
    {
     "name": "stdout",
     "output_type": "stream",
     "text": [
      "[<Record Count=2536660>]\n"
     ]
    }
   ],
   "source": [
    "# query = \"\"\"\n",
    "#         MATCH (r:REVIEWS)\n",
    "#         WHERE r.text=~ '\\xa0\\xa0.*'\n",
    "#         RETURN COUNT(r) AS Count\n",
    "# \"\"\"\n",
    "# result = execute_read(driver, query)\n",
    "# pprint(result)"
   ]
  },
  {
   "cell_type": "code",
   "execution_count": 25,
   "metadata": {},
   "outputs": [],
   "source": [
    "# query = \"\"\"\n",
    "#         MATCH (r:REVIEWS)\n",
    "#         SET r.text = REPLACE(r.text, '\\xa0\\xa0', '')\n",
    "#         RETURN COUNT(r) AS Count\n",
    "# \"\"\"\n",
    "# result = execute_write(driver, query)\n",
    "# pprint(result)"
   ]
  },
  {
   "cell_type": "markdown",
   "metadata": {},
   "source": [
    "## 2.3 Missing values"
   ]
  },
  {
   "cell_type": "code",
   "execution_count": 24,
   "metadata": {},
   "outputs": [
    {
     "name": "stdout",
     "output_type": "stream",
     "text": [
      "Label: BEERS\n",
      "[<Record key='abv' EmptyValuesCount=38797>,\n",
      " <Record key='state' EmptyValuesCount=60726>]\n",
      "\n",
      "\n",
      "Label: BREWERIES\n",
      "[<Record key='state' EmptyValuesCount=11271>]\n",
      "\n",
      "\n",
      "Label: CITIES\n",
      "[<Record key='name' EmptyValuesCount=1>]\n",
      "\n",
      "\n",
      "Label: COUNTRIES\n",
      "[<Record key='name' EmptyValuesCount=1>]\n",
      "\n",
      "\n",
      "Label: REVIEWS\n",
      "[<Record key='feel' EmptyValuesCount=1060483>,\n",
      " <Record key='look' EmptyValuesCount=1060483>,\n",
      " <Record key='overall' EmptyValuesCount=1060483>,\n",
      " <Record key='smell' EmptyValuesCount=1060483>,\n",
      " <Record key='taste' EmptyValuesCount=1060483>]\n",
      "\n",
      "\n",
      "Label: STYLE\n",
      "[<Record key='name' EmptyValuesCount=1>]\n",
      "\n",
      "\n",
      "Label: USER\n",
      "[<Record key='name' EmptyValuesCount=1>]\n",
      "\n",
      "\n"
     ]
    }
   ],
   "source": [
    "nodes = [\"BEERS\", \"BREWERIES\", \"CITIES\", \"COUNTRIES\", \"REVIEWS\", \"STYLE\", \"USER\"]\n",
    "\n",
    "for node in nodes: \n",
    "    query = f\"\"\"\n",
    "            MATCH (n:{node})\n",
    "            UNWIND keys(n) AS key\n",
    "            WITH key\n",
    "            WHERE n[key] IS NULL OR n[key] = 'nan'\n",
    "            RETURN key, count(*) AS EmptyValuesCount\n",
    "            ORDER BY key\n",
    "    \"\"\"\n",
    "    result = execute_read(driver, query)\n",
    "    print(f\"Label: {node}\")\n",
    "    pprint(result)\n",
    "    print(\"\\n\")"
   ]
  },
  {
   "cell_type": "markdown",
   "metadata": {},
   "source": [
    "> Concert nan to NULL\n",
    "\n",
    "> BEERS: missing values in abv and state, but we'll leave it as it is. \n",
    "\n",
    "> BREWERIES: missing values in state, but we'll leave it as it is. There are missing states, because those beers \n",
    "\n",
    "> COUNTRIES: There are 2 cities connected to the nan country, which are: Windhoek and Swakopmund,  which are both located in Namimbia. So we've decided to change it to Namimbia. There is also a nan city...\n",
    "\n",
    "> CITIES: nan city connected to lots of different BREWERIES and COUNTRIES, leave it as it is.\n",
    "\n",
    "> STYLE: Ony has one beer related to it: \tAmerican Three Threads. We'll leave it as it is.\n",
    "\n",
    "> USER: no name, but has reviews.\n",
    "\n",
    "> REVIEWS: has NULL values in some of the ratings, but it has values score."
   ]
  },
  {
   "cell_type": "code",
   "execution_count": null,
   "metadata": {},
   "outputs": [
    {
     "name": "stdout",
     "output_type": "stream",
     "text": [
      "[<Record n=<Node element_id='656' labels=frozenset({'CITIES'}) properties={'name': 'nan'}>>]\n"
     ]
    }
   ],
   "source": [
    "# query = \"\"\"\n",
    "#             MATCH (n:CITIES)\n",
    "#             WHERE n.name IS NULL OR n.name = 'nan'\n",
    "#             RETURN n\n",
    "#     \"\"\"\n",
    "# result = execute_read(driver, query)\n",
    "# pprint(result)\n"
   ]
  },
  {
   "cell_type": "code",
   "execution_count": null,
   "metadata": {},
   "outputs": [
    {
     "name": "stdout",
     "output_type": "stream",
     "text": [
      "[]\n"
     ]
    }
   ],
   "source": [
    "# query = \"\"\"\n",
    "#     MATCH (b:BEERS)\n",
    "#     WHERE NOT EXISTS { MATCH (b)-[:HAS_STYLE]->(:STYLE) }\n",
    "#     RETURN b\n",
    "# \"\"\"\n",
    "# result = execute_read(driver, query)\n",
    "# pprint(result)\n"
   ]
  },
  {
   "cell_type": "code",
   "execution_count": null,
   "metadata": {},
   "outputs": [
    {
     "name": "stdout",
     "output_type": "stream",
     "text": [
      "[<Record n=<Node element_id='269155' labels=frozenset({'BEERS'}) properties={'notes': 'No notes at this time.', 'abv': 'nan', 'name': 'American Three Threads', 'retired': 't', 'availability': 'Limited (brewed once)', 'brewery_id': '14', 'state': 'MA', 'id': '24360'}>>]\n"
     ]
    }
   ],
   "source": [
    "# query = \"\"\"\n",
    "#             MATCH (n:BEERS)\n",
    "#             WHERE n.name = 'American Three Threads'\n",
    "#             RETURN n\n",
    "#     \"\"\"\n",
    "# result = execute_read(driver, query)\n",
    "# pprint(result)\n"
   ]
  },
  {
   "cell_type": "markdown",
   "metadata": {},
   "source": [
    "> Set nan country to namibia"
   ]
  },
  {
   "cell_type": "code",
   "execution_count": 46,
   "metadata": {},
   "outputs": [
    {
     "name": "stdout",
     "output_type": "stream",
     "text": [
      "[]\n"
     ]
    }
   ],
   "source": [
    "query = \"\"\"\n",
    "            MATCH (c:COUNTRIES)\n",
    "            WHERE c.name IS NULL OR c.name = 'nan'\n",
    "            RETURN c\n",
    "    \"\"\"\n",
    "result = execute_read(driver, query)\n",
    "pprint(result)\n"
   ]
  },
  {
   "cell_type": "code",
   "execution_count": 55,
   "metadata": {},
   "outputs": [
    {
     "name": "stdout",
     "output_type": "stream",
     "text": [
      "[]\n"
     ]
    }
   ],
   "source": [
    "query = f\"\"\"\n",
    "        MATCH (c:COUNTRIES)\n",
    "        WHERE c.name IS NULL or c.name = 'nan'\n",
    "        SET c.name = 'Namibia'\n",
    "        RETURN c\n",
    "    \"\"\"\n",
    "result = execute_write(driver, query)\n",
    "print(result)"
   ]
  },
  {
   "cell_type": "code",
   "execution_count": 56,
   "metadata": {},
   "outputs": [
    {
     "name": "stdout",
     "output_type": "stream",
     "text": [
      "[<Record c=<Node element_id='133' labels=frozenset({'COUNTRIES'}) properties={'name': 'Namibia'}>>]\n"
     ]
    }
   ],
   "source": [
    "query = f\"\"\"\n",
    "        MATCH (c:COUNTRIES)\n",
    "        WHERE c.name='Namibia'\n",
    "        RETURN c\n",
    "    \"\"\"\n",
    "result = execute_read(driver, query)\n",
    "pprint(result)"
   ]
  },
  {
   "cell_type": "markdown",
   "metadata": {},
   "source": [
    "> SET all nan to NULL"
   ]
  },
  {
   "cell_type": "code",
   "execution_count": 6,
   "metadata": {},
   "outputs": [],
   "source": [
    "nodes = [\"BEERS\", \"BREWERIES\", \"CITIES\", \"COUNTRIES\", \"REVIEWS\", \"STYLE\", \"USER\"]\n"
   ]
  },
  {
   "cell_type": "markdown",
   "metadata": {},
   "source": [
    ">Change no notes at this time to NULL as well."
   ]
  },
  {
   "cell_type": "code",
   "execution_count": null,
   "metadata": {},
   "outputs": [],
   "source": [
    "nan_values_dict = {\n",
    "    \"BEERS\": [\"abv\", \"notes\", \"state\"],\n",
    "    \"BREWERIES\": [\"notes\", \"state\"],\n",
    "    \"CITIES\": [\"name\"],\n",
    "    \"REVIEWS\": [\"smell\", \"look\", \"taste\", \"feel\", \"overall\"],\n",
    "    \"STYLE\": [\"name\"],\n",
    "    \"USER\": [\"name\"]\n",
    "}\n",
    "\n",
    "for node, properties in nan_values_dict.items():\n",
    "    for prop in properties:\n",
    "        print(f\"Correcting missing {prop} in {node}\")\n",
    "        query = f\"\"\"\n",
    "                MATCH (n:{node})\n",
    "                WHERE n.{prop} = 'nan'\n",
    "                SET n.{prop} = NULL\n",
    "                RETURN count(*) AS CorrectValues\n",
    "        \"\"\"\n",
    "        result=execute_write(driver, query)\n",
    "        pprint(result)"
   ]
  },
  {
   "cell_type": "code",
   "execution_count": null,
   "metadata": {},
   "outputs": [
    {
     "ename": "CypherSyntaxError",
     "evalue": "{code: Neo.ClientError.Statement.SyntaxError} {message: Invalid input '[': expected \":\" (line 6, column 18 (offset: 135))\n\"            SET n[key] = NULL\"\n                  ^}",
     "output_type": "error",
     "traceback": [
      "\u001b[31m---------------------------------------------------------------------------\u001b[39m",
      "\u001b[31mCypherSyntaxError\u001b[39m                         Traceback (most recent call last)",
      "\u001b[36mCell\u001b[39m\u001b[36m \u001b[39m\u001b[32mIn[57]\u001b[39m\u001b[32m, line 12\u001b[39m\n\u001b[32m      3\u001b[39m \u001b[38;5;28;01mfor\u001b[39;00m node \u001b[38;5;129;01min\u001b[39;00m nodes: \n\u001b[32m      4\u001b[39m     query = \u001b[33mf\u001b[39m\u001b[33m\"\"\"\u001b[39m\n\u001b[32m      5\u001b[39m \u001b[33m            MATCH (n:\u001b[39m\u001b[38;5;132;01m{\u001b[39;00mnode\u001b[38;5;132;01m}\u001b[39;00m\u001b[33m)\u001b[39m\n\u001b[32m      6\u001b[39m \u001b[33m            UNWIND keys(n) AS key\u001b[39m\n\u001b[32m   (...)\u001b[39m\u001b[32m     10\u001b[39m \u001b[33m            RETURN key, count(*) AS EmptyValuesCount\u001b[39m\n\u001b[32m     11\u001b[39m \u001b[33m    \u001b[39m\u001b[33m\"\"\"\u001b[39m\n\u001b[32m---> \u001b[39m\u001b[32m12\u001b[39m     result = \u001b[43mexecute_write\u001b[49m\u001b[43m(\u001b[49m\u001b[43mdriver\u001b[49m\u001b[43m,\u001b[49m\u001b[43m \u001b[49m\u001b[43mquery\u001b[49m\u001b[43m)\u001b[49m\n\u001b[32m     13\u001b[39m     pprint(result)\n",
      "\u001b[36mCell\u001b[39m\u001b[36m \u001b[39m\u001b[32mIn[6]\u001b[39m\u001b[32m, line 4\u001b[39m, in \u001b[36mexecute_write\u001b[39m\u001b[34m(driver, query)\u001b[39m\n\u001b[32m      1\u001b[39m \u001b[38;5;28;01mdef\u001b[39;00m\u001b[38;5;250m \u001b[39m\u001b[34mexecute_write\u001b[39m(driver, query):\n\u001b[32m      2\u001b[39m     \u001b[38;5;28;01mwith\u001b[39;00m driver.session(database=\u001b[33m\"\u001b[39m\u001b[33mneo4j\u001b[39m\u001b[33m\"\u001b[39m) \u001b[38;5;28;01mas\u001b[39;00m session:\n\u001b[32m      3\u001b[39m         \u001b[38;5;66;03m# Write transactions allow the driver to handle retries and transient errors\u001b[39;00m\n\u001b[32m----> \u001b[39m\u001b[32m4\u001b[39m         result = \u001b[43msession\u001b[49m\u001b[43m.\u001b[49m\u001b[43mexecute_write\u001b[49m\u001b[43m(\u001b[49m\u001b[38;5;28;43;01mlambda\u001b[39;49;00m\u001b[43m \u001b[49m\u001b[43mtx\u001b[49m\u001b[43m,\u001b[49m\u001b[43m \u001b[49m\u001b[43mquery\u001b[49m\u001b[43m:\u001b[49m\u001b[43m \u001b[49m\u001b[38;5;28;43mlist\u001b[39;49m\u001b[43m(\u001b[49m\u001b[43mtx\u001b[49m\u001b[43m.\u001b[49m\u001b[43mrun\u001b[49m\u001b[43m(\u001b[49m\u001b[43mquery\u001b[49m\u001b[43m)\u001b[49m\u001b[43m)\u001b[49m\u001b[43m,\u001b[49m\u001b[43m \u001b[49m\u001b[43mquery\u001b[49m\u001b[43m)\u001b[49m\n\u001b[32m      5\u001b[39m     \u001b[38;5;28;01mreturn\u001b[39;00m result\n",
      "\u001b[36mFile \u001b[39m\u001b[32m~\\AppData\\Local\\Packages\\PythonSoftwareFoundation.Python.3.11_qbz5n2kfra8p0\\LocalCache\\local-packages\\Python311\\site-packages\\neo4j\\_sync\\work\\session.py:803\u001b[39m, in \u001b[36mSession.execute_write\u001b[39m\u001b[34m(self, transaction_function, *args, **kwargs)\u001b[39m\n\u001b[32m    750\u001b[39m \u001b[38;5;129m@NonConcurrentMethodChecker\u001b[39m._non_concurrent_method\n\u001b[32m    751\u001b[39m \u001b[38;5;28;01mdef\u001b[39;00m\u001b[38;5;250m \u001b[39m\u001b[34mexecute_write\u001b[39m(\n\u001b[32m    752\u001b[39m     \u001b[38;5;28mself\u001b[39m,\n\u001b[32m   (...)\u001b[39m\u001b[32m    757\u001b[39m     **kwargs: _P.kwargs,\n\u001b[32m    758\u001b[39m ) -> _R:\n\u001b[32m    759\u001b[39m \u001b[38;5;250m    \u001b[39m\u001b[33;03m\"\"\"\u001b[39;00m\n\u001b[32m    760\u001b[39m \u001b[33;03m    Execute a unit of work in a managed write transaction.\u001b[39;00m\n\u001b[32m    761\u001b[39m \n\u001b[32m   (...)\u001b[39m\u001b[32m    801\u001b[39m \u001b[33;03m    .. versionadded:: 5.0\u001b[39;00m\n\u001b[32m    802\u001b[39m \u001b[33;03m    \"\"\"\u001b[39;00m  \u001b[38;5;66;03m# noqa: E501 example code isn't too long\u001b[39;00m\n\u001b[32m--> \u001b[39m\u001b[32m803\u001b[39m     \u001b[38;5;28;01mreturn\u001b[39;00m \u001b[38;5;28;43mself\u001b[39;49m\u001b[43m.\u001b[49m\u001b[43m_run_transaction\u001b[49m\u001b[43m(\u001b[49m\n\u001b[32m    804\u001b[39m \u001b[43m        \u001b[49m\u001b[43mWRITE_ACCESS\u001b[49m\u001b[43m,\u001b[49m\n\u001b[32m    805\u001b[39m \u001b[43m        \u001b[49m\u001b[43mTelemetryAPI\u001b[49m\u001b[43m.\u001b[49m\u001b[43mTX_FUNC\u001b[49m\u001b[43m,\u001b[49m\n\u001b[32m    806\u001b[39m \u001b[43m        \u001b[49m\u001b[43mtransaction_function\u001b[49m\u001b[43m,\u001b[49m\n\u001b[32m    807\u001b[39m \u001b[43m        \u001b[49m\u001b[43margs\u001b[49m\u001b[43m,\u001b[49m\n\u001b[32m    808\u001b[39m \u001b[43m        \u001b[49m\u001b[43mkwargs\u001b[49m\u001b[43m,\u001b[49m\n\u001b[32m    809\u001b[39m \u001b[43m    \u001b[49m\u001b[43m)\u001b[49m\n",
      "\u001b[36mFile \u001b[39m\u001b[32m~\\AppData\\Local\\Packages\\PythonSoftwareFoundation.Python.3.11_qbz5n2kfra8p0\\LocalCache\\local-packages\\Python311\\site-packages\\neo4j\\_sync\\work\\session.py:583\u001b[39m, in \u001b[36mSession._run_transaction\u001b[39m\u001b[34m(self, access_mode, api, transaction_function, args, kwargs)\u001b[39m\n\u001b[32m    581\u001b[39m tx = \u001b[38;5;28mself\u001b[39m._transaction\n\u001b[32m    582\u001b[39m \u001b[38;5;28;01mtry\u001b[39;00m:\n\u001b[32m--> \u001b[39m\u001b[32m583\u001b[39m     result = \u001b[43mtransaction_function\u001b[49m\u001b[43m(\u001b[49m\u001b[43mtx\u001b[49m\u001b[43m,\u001b[49m\u001b[43m \u001b[49m\u001b[43m*\u001b[49m\u001b[43margs\u001b[49m\u001b[43m,\u001b[49m\u001b[43m \u001b[49m\u001b[43m*\u001b[49m\u001b[43m*\u001b[49m\u001b[43mkwargs\u001b[49m\u001b[43m)\u001b[49m\n\u001b[32m    584\u001b[39m \u001b[38;5;28;01mexcept\u001b[39;00m asyncio.CancelledError:\n\u001b[32m    585\u001b[39m     \u001b[38;5;66;03m# if cancellation callback has not been called yet:\u001b[39;00m\n\u001b[32m    586\u001b[39m     \u001b[38;5;28;01mif\u001b[39;00m \u001b[38;5;28mself\u001b[39m._transaction \u001b[38;5;129;01mis\u001b[39;00m \u001b[38;5;129;01mnot\u001b[39;00m \u001b[38;5;28;01mNone\u001b[39;00m:\n",
      "\u001b[36mCell\u001b[39m\u001b[36m \u001b[39m\u001b[32mIn[6]\u001b[39m\u001b[32m, line 4\u001b[39m, in \u001b[36mexecute_write.<locals>.<lambda>\u001b[39m\u001b[34m(tx, query)\u001b[39m\n\u001b[32m      1\u001b[39m \u001b[38;5;28;01mdef\u001b[39;00m\u001b[38;5;250m \u001b[39m\u001b[34mexecute_write\u001b[39m(driver, query):\n\u001b[32m      2\u001b[39m     \u001b[38;5;28;01mwith\u001b[39;00m driver.session(database=\u001b[33m\"\u001b[39m\u001b[33mneo4j\u001b[39m\u001b[33m\"\u001b[39m) \u001b[38;5;28;01mas\u001b[39;00m session:\n\u001b[32m      3\u001b[39m         \u001b[38;5;66;03m# Write transactions allow the driver to handle retries and transient errors\u001b[39;00m\n\u001b[32m----> \u001b[39m\u001b[32m4\u001b[39m         result = session.execute_write(\u001b[38;5;28;01mlambda\u001b[39;00m tx, query: \u001b[38;5;28mlist\u001b[39m(\u001b[43mtx\u001b[49m\u001b[43m.\u001b[49m\u001b[43mrun\u001b[49m\u001b[43m(\u001b[49m\u001b[43mquery\u001b[49m\u001b[43m)\u001b[49m), query)\n\u001b[32m      5\u001b[39m     \u001b[38;5;28;01mreturn\u001b[39;00m result\n",
      "\u001b[36mFile \u001b[39m\u001b[32m~\\AppData\\Local\\Packages\\PythonSoftwareFoundation.Python.3.11_qbz5n2kfra8p0\\LocalCache\\local-packages\\Python311\\site-packages\\neo4j\\_sync\\work\\transaction.py:206\u001b[39m, in \u001b[36mTransactionBase.run\u001b[39m\u001b[34m(self, query, parameters, **kwparameters)\u001b[39m\n\u001b[32m    203\u001b[39m \u001b[38;5;28mself\u001b[39m._results.append(result)\n\u001b[32m    205\u001b[39m parameters = \u001b[38;5;28mdict\u001b[39m(parameters \u001b[38;5;129;01mor\u001b[39;00m {}, **kwparameters)\n\u001b[32m--> \u001b[39m\u001b[32m206\u001b[39m \u001b[43mresult\u001b[49m\u001b[43m.\u001b[49m\u001b[43m_tx_ready_run\u001b[49m\u001b[43m(\u001b[49m\u001b[43mquery\u001b[49m\u001b[43m,\u001b[49m\u001b[43m \u001b[49m\u001b[43mparameters\u001b[49m\u001b[43m)\u001b[49m\n\u001b[32m    208\u001b[39m \u001b[38;5;28;01mreturn\u001b[39;00m result\n",
      "\u001b[36mFile \u001b[39m\u001b[32m~\\AppData\\Local\\Packages\\PythonSoftwareFoundation.Python.3.11_qbz5n2kfra8p0\\LocalCache\\local-packages\\Python311\\site-packages\\neo4j\\_sync\\work\\result.py:177\u001b[39m, in \u001b[36mResult._tx_ready_run\u001b[39m\u001b[34m(self, query, parameters)\u001b[39m\n\u001b[32m    173\u001b[39m \u001b[38;5;28;01mdef\u001b[39;00m\u001b[38;5;250m \u001b[39m\u001b[34m_tx_ready_run\u001b[39m(\u001b[38;5;28mself\u001b[39m, query, parameters):\n\u001b[32m    174\u001b[39m     \u001b[38;5;66;03m# BEGIN+RUN does not carry any extra on the RUN message.\u001b[39;00m\n\u001b[32m    175\u001b[39m     \u001b[38;5;66;03m# BEGIN {extra}\u001b[39;00m\n\u001b[32m    176\u001b[39m     \u001b[38;5;66;03m# RUN \"query\" {parameters} {extra}\u001b[39;00m\n\u001b[32m--> \u001b[39m\u001b[32m177\u001b[39m     \u001b[38;5;28;43mself\u001b[39;49m\u001b[43m.\u001b[49m\u001b[43m_run\u001b[49m\u001b[43m(\u001b[49m\u001b[43mquery\u001b[49m\u001b[43m,\u001b[49m\u001b[43m \u001b[49m\u001b[43mparameters\u001b[49m\u001b[43m,\u001b[49m\u001b[43m \u001b[49m\u001b[38;5;28;43;01mNone\u001b[39;49;00m\u001b[43m,\u001b[49m\u001b[43m \u001b[49m\u001b[38;5;28;43;01mNone\u001b[39;49;00m\u001b[43m,\u001b[49m\u001b[43m \u001b[49m\u001b[38;5;28;43;01mNone\u001b[39;49;00m\u001b[43m,\u001b[49m\u001b[43m \u001b[49m\u001b[38;5;28;43;01mNone\u001b[39;49;00m\u001b[43m,\u001b[49m\u001b[43m \u001b[49m\u001b[38;5;28;43;01mNone\u001b[39;49;00m\u001b[43m,\u001b[49m\u001b[43m \u001b[49m\u001b[38;5;28;43;01mNone\u001b[39;49;00m\u001b[43m)\u001b[49m\n",
      "\u001b[36mFile \u001b[39m\u001b[32m~\\AppData\\Local\\Packages\\PythonSoftwareFoundation.Python.3.11_qbz5n2kfra8p0\\LocalCache\\local-packages\\Python311\\site-packages\\neo4j\\_sync\\work\\result.py:236\u001b[39m, in \u001b[36mResult._run\u001b[39m\u001b[34m(self, query, parameters, db, imp_user, access_mode, bookmarks, notifications_min_severity, notifications_disabled_classifications)\u001b[39m\n\u001b[32m    234\u001b[39m \u001b[38;5;28mself\u001b[39m._pull()\n\u001b[32m    235\u001b[39m \u001b[38;5;28mself\u001b[39m._connection.send_all()\n\u001b[32m--> \u001b[39m\u001b[32m236\u001b[39m \u001b[38;5;28;43mself\u001b[39;49m\u001b[43m.\u001b[49m\u001b[43m_attach\u001b[49m\u001b[43m(\u001b[49m\u001b[43m)\u001b[49m\n",
      "\u001b[36mFile \u001b[39m\u001b[32m~\\AppData\\Local\\Packages\\PythonSoftwareFoundation.Python.3.11_qbz5n2kfra8p0\\LocalCache\\local-packages\\Python311\\site-packages\\neo4j\\_sync\\work\\result.py:430\u001b[39m, in \u001b[36mResult._attach\u001b[39m\u001b[34m(self)\u001b[39m\n\u001b[32m    428\u001b[39m \u001b[38;5;28;01mif\u001b[39;00m \u001b[38;5;28mself\u001b[39m._exhausted \u001b[38;5;129;01mis\u001b[39;00m \u001b[38;5;28;01mFalse\u001b[39;00m:\n\u001b[32m    429\u001b[39m     \u001b[38;5;28;01mwhile\u001b[39;00m \u001b[38;5;28mself\u001b[39m._attached \u001b[38;5;129;01mis\u001b[39;00m \u001b[38;5;28;01mFalse\u001b[39;00m:\n\u001b[32m--> \u001b[39m\u001b[32m430\u001b[39m         \u001b[38;5;28;43mself\u001b[39;49m\u001b[43m.\u001b[49m\u001b[43m_connection\u001b[49m\u001b[43m.\u001b[49m\u001b[43mfetch_message\u001b[49m\u001b[43m(\u001b[49m\u001b[43m)\u001b[49m\n",
      "\u001b[36mFile \u001b[39m\u001b[32m~\\AppData\\Local\\Packages\\PythonSoftwareFoundation.Python.3.11_qbz5n2kfra8p0\\LocalCache\\local-packages\\Python311\\site-packages\\neo4j\\_sync\\io\\_common.py:184\u001b[39m, in \u001b[36mConnectionErrorHandler.__getattr__.<locals>.outer.<locals>.inner\u001b[39m\u001b[34m(*args, **kwargs)\u001b[39m\n\u001b[32m    182\u001b[39m \u001b[38;5;28;01mdef\u001b[39;00m\u001b[38;5;250m \u001b[39m\u001b[34minner\u001b[39m(*args, **kwargs):\n\u001b[32m    183\u001b[39m     \u001b[38;5;28;01mtry\u001b[39;00m:\n\u001b[32m--> \u001b[39m\u001b[32m184\u001b[39m         \u001b[43mfunc\u001b[49m\u001b[43m(\u001b[49m\u001b[43m*\u001b[49m\u001b[43margs\u001b[49m\u001b[43m,\u001b[49m\u001b[43m \u001b[49m\u001b[43m*\u001b[49m\u001b[43m*\u001b[49m\u001b[43mkwargs\u001b[49m\u001b[43m)\u001b[49m\n\u001b[32m    185\u001b[39m     \u001b[38;5;28;01mexcept\u001b[39;00m (Neo4jError, ServiceUnavailable, SessionExpired) \u001b[38;5;28;01mas\u001b[39;00m exc:\n\u001b[32m    186\u001b[39m         \u001b[38;5;28;01massert\u001b[39;00m \u001b[38;5;129;01mnot\u001b[39;00m asyncio.iscoroutinefunction(\u001b[38;5;28mself\u001b[39m.__on_error)\n",
      "\u001b[36mFile \u001b[39m\u001b[32m~\\AppData\\Local\\Packages\\PythonSoftwareFoundation.Python.3.11_qbz5n2kfra8p0\\LocalCache\\local-packages\\Python311\\site-packages\\neo4j\\_sync\\io\\_bolt.py:864\u001b[39m, in \u001b[36mBolt.fetch_message\u001b[39m\u001b[34m(self)\u001b[39m\n\u001b[32m    860\u001b[39m \u001b[38;5;66;03m# Receive exactly one message\u001b[39;00m\n\u001b[32m    861\u001b[39m tag, fields = \u001b[38;5;28mself\u001b[39m.inbox.pop(\n\u001b[32m    862\u001b[39m     hydration_hooks=\u001b[38;5;28mself\u001b[39m.responses[\u001b[32m0\u001b[39m].hydration_hooks\n\u001b[32m    863\u001b[39m )\n\u001b[32m--> \u001b[39m\u001b[32m864\u001b[39m res = \u001b[38;5;28;43mself\u001b[39;49m\u001b[43m.\u001b[49m\u001b[43m_process_message\u001b[49m\u001b[43m(\u001b[49m\u001b[43mtag\u001b[49m\u001b[43m,\u001b[49m\u001b[43m \u001b[49m\u001b[43mfields\u001b[49m\u001b[43m)\u001b[49m\n\u001b[32m    865\u001b[39m \u001b[38;5;28mself\u001b[39m.idle_since = monotonic()\n\u001b[32m    866\u001b[39m \u001b[38;5;28;01mreturn\u001b[39;00m res\n",
      "\u001b[36mFile \u001b[39m\u001b[32m~\\AppData\\Local\\Packages\\PythonSoftwareFoundation.Python.3.11_qbz5n2kfra8p0\\LocalCache\\local-packages\\Python311\\site-packages\\neo4j\\_sync\\io\\_bolt4.py:498\u001b[39m, in \u001b[36mBolt4x0._process_message\u001b[39m\u001b[34m(self, tag, fields)\u001b[39m\n\u001b[32m    496\u001b[39m \u001b[38;5;28mself\u001b[39m._server_state_manager.state = BoltStates.FAILED\n\u001b[32m    497\u001b[39m \u001b[38;5;28;01mtry\u001b[39;00m:\n\u001b[32m--> \u001b[39m\u001b[32m498\u001b[39m     \u001b[43mresponse\u001b[49m\u001b[43m.\u001b[49m\u001b[43mon_failure\u001b[49m\u001b[43m(\u001b[49m\u001b[43msummary_metadata\u001b[49m\u001b[43m \u001b[49m\u001b[38;5;129;43;01mor\u001b[39;49;00m\u001b[43m \u001b[49m\u001b[43m{\u001b[49m\u001b[43m}\u001b[49m\u001b[43m)\u001b[49m\n\u001b[32m    499\u001b[39m \u001b[38;5;28;01mexcept\u001b[39;00m (ServiceUnavailable, DatabaseUnavailable):\n\u001b[32m    500\u001b[39m     \u001b[38;5;28;01mif\u001b[39;00m \u001b[38;5;28mself\u001b[39m.pool:\n",
      "\u001b[36mFile \u001b[39m\u001b[32m~\\AppData\\Local\\Packages\\PythonSoftwareFoundation.Python.3.11_qbz5n2kfra8p0\\LocalCache\\local-packages\\Python311\\site-packages\\neo4j\\_sync\\io\\_common.py:254\u001b[39m, in \u001b[36mResponse.on_failure\u001b[39m\u001b[34m(self, metadata)\u001b[39m\n\u001b[32m    252\u001b[39m handler = \u001b[38;5;28mself\u001b[39m.handlers.get(\u001b[33m\"\u001b[39m\u001b[33mon_summary\u001b[39m\u001b[33m\"\u001b[39m)\n\u001b[32m    253\u001b[39m Util.callback(handler)\n\u001b[32m--> \u001b[39m\u001b[32m254\u001b[39m \u001b[38;5;28;01mraise\u001b[39;00m \u001b[38;5;28mself\u001b[39m._hydrate_error(metadata)\n",
      "\u001b[31mCypherSyntaxError\u001b[39m: {code: Neo.ClientError.Statement.SyntaxError} {message: Invalid input '[': expected \":\" (line 6, column 18 (offset: 135))\n\"            SET n[key] = NULL\"\n                  ^}"
     ]
    }
   ],
   "source": [
    "query = f\"\"\"\n",
    "    MATCH (n:BEERS)\n",
    "    WHERE n.notes = \"No notes at this time.\"\n",
    "    SET n.notes = NULL\n",
    "    RETURN count(*) AS CorrectValues\n",
    "    \"\"\"\n",
    "result = execute_write(driver, query)\n",
    "print(node)\n",
    "pprint(result)"
   ]
  },
  {
   "cell_type": "markdown",
   "metadata": {},
   "source": [
    "## 2.4 Duplicate values"
   ]
  },
  {
   "cell_type": "code",
   "execution_count": null,
   "metadata": {},
   "outputs": [
    {
     "name": "stdout",
     "output_type": "stream",
     "text": [
      "Reviews ID: None, Count: 19\n"
     ]
    }
   ],
   "source": [
    "query = \"\"\"\n",
    "    MATCH (r:REVIEWS)\n",
    "    WITH r.id AS reviews_id, COUNT(r) AS count\n",
    "    WHERE count > 1\n",
    "    RETURN reviews_id, count\n",
    "    ORDER BY count DESC;\n",
    "\"\"\"\n",
    "\n",
    "result = execute_read(driver, query)\n",
    "\n",
    "print(result)\n"
   ]
  },
  {
   "cell_type": "markdown",
   "metadata": {},
   "source": [
    "> 19 REVIEWS without ID, and also have no properties. "
   ]
  },
  {
   "cell_type": "code",
   "execution_count": 11,
   "metadata": {},
   "outputs": [
    {
     "name": "stdout",
     "output_type": "stream",
     "text": [
      "[<Record n=<Node element_id='921375' labels=frozenset() properties={}>>,\n",
      " <Record n=<Node element_id='921921' labels=frozenset() properties={}>>,\n",
      " <Record n=<Node element_id='922467' labels=frozenset() properties={}>>,\n",
      " <Record n=<Node element_id='923013' labels=frozenset() properties={}>>,\n",
      " <Record n=<Node element_id='923559' labels=frozenset() properties={}>>,\n",
      " <Record n=<Node element_id='924105' labels=frozenset() properties={}>>,\n",
      " <Record n=<Node element_id='924651' labels=frozenset() properties={}>>,\n",
      " <Record n=<Node element_id='925197' labels=frozenset() properties={}>>,\n",
      " <Record n=<Node element_id='925743' labels=frozenset() properties={}>>,\n",
      " <Record n=<Node element_id='926289' labels=frozenset() properties={}>>,\n",
      " <Record n=<Node element_id='926835' labels=frozenset() properties={}>>,\n",
      " <Record n=<Node element_id='927381' labels=frozenset() properties={}>>,\n",
      " <Record n=<Node element_id='927927' labels=frozenset() properties={}>>,\n",
      " <Record n=<Node element_id='928473' labels=frozenset() properties={}>>,\n",
      " <Record n=<Node element_id='929019' labels=frozenset() properties={}>>,\n",
      " <Record n=<Node element_id='929565' labels=frozenset() properties={}>>,\n",
      " <Record n=<Node element_id='930111' labels=frozenset() properties={}>>,\n",
      " <Record n=<Node element_id='930657' labels=frozenset() properties={}>>,\n",
      " <Record n=<Node element_id='931203' labels=frozenset() properties={}>>]\n"
     ]
    }
   ],
   "source": [
    "#There are 19 REVIEWS with no id property and have no info associated\n",
    "query = \"\"\"\n",
    "    MATCH (n:REVIEWS)\n",
    "    WHERE n.id IS NULL\n",
    "    RETURN n\n",
    "\"\"\"\n",
    "result = execute_read(driver, query)\n",
    "pprint(result)\n"
   ]
  },
  {
   "cell_type": "code",
   "execution_count": null,
   "metadata": {},
   "outputs": [],
   "source": [
    "to_delete=[921375,921921,922467,923013,923559,924105,924651,925197]"
   ]
  },
  {
   "cell_type": "code",
   "execution_count": 29,
   "metadata": {},
   "outputs": [
    {
     "name": "stdout",
     "output_type": "stream",
     "text": [
      "[]\n"
     ]
    }
   ],
   "source": [
    "#There are 19 REVIEWS with no id property and have no info associated\n",
    "query = \"\"\"\n",
    "    MATCH (n:REVIEWS)\n",
    "    WHERE ID(n)='931203'\n",
    "    RETURN n\n",
    "\"\"\"\n",
    "result = execute_read(driver, query)\n",
    "pprint(result)\n"
   ]
  },
  {
   "cell_type": "code",
   "execution_count": 10,
   "metadata": {},
   "outputs": [
    {
     "name": "stdout",
     "output_type": "stream",
     "text": [
      "[<Record count(n)=19>]\n"
     ]
    }
   ],
   "source": [
    "#This will be removed\n",
    "query = \"\"\"\n",
    "    MATCH (n:REVIEWS)\n",
    "    WHERE n.id IS NULL\n",
    "    DELETE n\n",
    "    RETURN count(n)\n",
    "\"\"\"\n",
    "result = execute_write(driver, query)\n",
    "pprint(result)"
   ]
  },
  {
   "cell_type": "code",
   "execution_count": 9,
   "metadata": {},
   "outputs": [],
   "source": [
    "query = \"\"\"\n",
    "    MATCH (b:BREWERIES)\n",
    "    WITH b.id AS beer_id, COUNT(b) AS count\n",
    "    WHERE count > 1\n",
    "    RETURN beer_id, count\n",
    "    ORDER BY count DESC;\n",
    "\"\"\"\n",
    "\n",
    "result = execute_read(driver, query)\n",
    "\n",
    "for record in result:\n",
    "    print(f\"Beer ID: {record['beer_id']}, Count: {record['count']}\")\n"
   ]
  },
  {
   "cell_type": "code",
   "execution_count": 32,
   "metadata": {},
   "outputs": [
    {
     "name": "stdout",
     "output_type": "stream",
     "text": [
      "Checking for duplicated values for 'id' in 'BEERS'\n",
      "[]\n",
      "\n",
      "\n",
      "Checking for duplicated values for 'name' in 'BEERS'\n",
      "[<Record name='Oktoberfest' count=755>,\n",
      " <Record name='IPA' count=633>,\n",
      " <Record name='Pale Ale' count=620>,\n",
      " <Record name='Hefeweizen' count=477>,\n",
      " <Record name='Oatmeal Stout' count=443>]\n",
      "\n",
      "\n",
      "-------------------------------\n",
      "Checking for duplicated values for 'id' in 'BREWERIES'\n",
      "[]\n",
      "\n",
      "\n",
      "Checking for duplicated values for 'name' in 'BREWERIES'\n",
      "[<Record name='Whole Foods Market' count=162>,\n",
      " <Record name='Total Wine & More' count=147>,\n",
      " <Record name='Cost Plus World Market' count=118>,\n",
      " <Record name='Mellow Mushroom' count=114>,\n",
      " <Record name=\"Trader Joe's\" count=88>]\n",
      "\n",
      "\n",
      "-------------------------------\n",
      "Checking for duplicated values for 'name' in 'CITIES'\n",
      "[]\n",
      "\n",
      "\n",
      "-------------------------------\n",
      "Checking for duplicated values for 'name' in 'COUNTRIES'\n",
      "[]\n",
      "\n",
      "\n",
      "-------------------------------\n",
      "Checking for duplicated values for 'id' in 'REVIEWS'\n",
      "[<Record id=None count=19>]\n",
      "\n",
      "\n",
      "-------------------------------\n",
      "Checking for duplicated values for 'name' in 'STYLE'\n",
      "[]\n",
      "\n",
      "\n",
      "-------------------------------\n",
      "Checking for duplicated values for 'name' in 'USER'\n",
      "[]\n",
      "\n",
      "\n",
      "-------------------------------\n"
     ]
    }
   ],
   "source": [
    "unique_properties = [\"id\", \"name\"]\n",
    "\n",
    "for node, properties in node_properties.items():\n",
    "    for prop in unique_properties:\n",
    "        if prop in properties: \n",
    "            print(f\"Checking for duplicated values for '{prop}' in '{node}'\")\n",
    "\n",
    "            query = f\"\"\"\n",
    "                    MATCH (n:{node})\n",
    "                    WITH TRIM(n.{prop}) AS {prop}, count(n) AS count\n",
    "                    WHERE count > 1\n",
    "                    RETURN {prop}, count\n",
    "                    ORDER BY count DESC\n",
    "                    LIMIT 5\n",
    "            \"\"\"\n",
    "            result = execute_read(driver, query)\n",
    "            pprint(result)\n",
    "            print(\"\\n\")\n",
    "    print(\"-------------------------------\")"
   ]
  },
  {
   "cell_type": "markdown",
   "metadata": {},
   "source": [
    "## 2.5 Invert relationship"
   ]
  },
  {
   "cell_type": "markdown",
   "metadata": {},
   "source": [
    "> Instead of actually reverting, we will change the name "
   ]
  },
  {
   "cell_type": "markdown",
   "metadata": {},
   "source": [
    "> Ver se o state das breweries = state de beers. "
   ]
  },
  {
   "cell_type": "markdown",
   "metadata": {},
   "source": [
    "> Cervejas estão só conectadas a uma brewery? Se tiver + que uma então faz sentido existir brewery id? mas pode ser melhorado talvez pelo facto de procurar mos."
   ]
  }
 ],
 "metadata": {
  "hide_input": false,
  "kernelspec": {
   "display_name": "Python 3",
   "language": "python",
   "name": "python3"
  },
  "language_info": {
   "codemirror_mode": {
    "name": "ipython",
    "version": 3
   },
   "file_extension": ".py",
   "mimetype": "text/x-python",
   "name": "python",
   "nbconvert_exporter": "python",
   "pygments_lexer": "ipython3",
   "version": "3.11.9"
  },
  "toc": {
   "base_numbering": 1,
   "nav_menu": {},
   "number_sections": true,
   "sideBar": true,
   "skip_h1_title": false,
   "title_cell": "Table of Contents",
   "title_sidebar": "Contents",
   "toc_cell": false,
   "toc_position": {},
   "toc_section_display": true,
   "toc_window_display": false
  },
  "varInspector": {
   "cols": {
    "lenName": 16,
    "lenType": 16,
    "lenVar": 40
   },
   "kernels_config": {
    "python": {
     "delete_cmd_postfix": "",
     "delete_cmd_prefix": "del ",
     "library": "var_list.py",
     "varRefreshCmd": "print(var_dic_list())"
    },
    "r": {
     "delete_cmd_postfix": ") ",
     "delete_cmd_prefix": "rm(",
     "library": "var_list.r",
     "varRefreshCmd": "cat(var_dic_list()) "
    }
   },
   "types_to_exclude": [
    "module",
    "function",
    "builtin_function_or_method",
    "instance",
    "_Feature"
   ],
   "window_display": false
  }
 },
 "nbformat": 4,
 "nbformat_minor": 4
}
