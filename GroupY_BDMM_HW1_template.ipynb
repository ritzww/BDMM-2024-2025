{
 "cells": [
  {
   "cell_type": "markdown",
   "metadata": {},
   "source": [
    "# Big Data Modeling and Management Assigment - Homework 1"
   ]
  },
  {
   "cell_type": "markdown",
   "metadata": {},
   "source": [
    "# Submission\n",
    "\n",
    "GROUP MEMBERS:\n",
    "\n",
    "|STUDENT NAME|STUDENT NUMBER|\n",
    "|---|---|\n",
    "|Gaspar Pereira|20230984|\n",
    "|Íris Moreira|20240659|\n",
    "|Jude Gbenimako|20240700|\n",
    "|Rita Wang|20240551|"
   ]
  },
  {
   "cell_type": "markdown",
   "metadata": {},
   "source": [
    "## 🍺 The Beer project  🍺 \n",
    "\n",
    "As it was shown in classes, graph databases are a natural way of navegating related information. For this first project we will be taking a graph database to analyse beer and breweries!   \n",
    "\n",
    "The project datasets are based on [kaggle](https://www.kaggle.com/ehallmar/beers-breweries-and-beer-reviews), released by Evan Hallmark. \n",
    "\n",
    "### Problem description\n",
    "\n",
    "Imagine you are working in the Data Management department of Analytics company.\n",
    "Explore the database via python neo4j connector and/or the graphical tool in the NEO4J webpage. Answer the questions while adjusting the database to meet the needs of your colleagues.\n",
    "Please record and keep track of your database changes, and submit the file with all cells run and with the output shown.\n",
    "\n",
    "### Questions\n",
    "\n",
    "1. Explore the database: get familiar with current schema, elements and other important database parameters. [1 point]\n",
    "2. Adjust the database and mention reasoning behind: e.g. clean errors, remove redundancies, adjust schema as necessary. Visualize the final version of database schema. [4 points]\n",
    "3. Analytics department requires the following information for the biweekly reporting: [5 points]\n",
    "    1. How many reviews has the beer with the most reviews?\n",
    "    2. Which three users wrote the most reviews about beers?\n",
    "    3. Find all beers that are described with following words: 'fruit', 'complex', 'nutty', 'dark'.\n",
    "    4. Which top three breweries produce the largest variety of beer styles?\n",
    "    5. Which country produces the most beer styles?\n",
    "4. Market Analysis department in your company accesses and updates the trends data on the daily basis. Given that, consider how you need to optimize the database and its performance so that the following queries are efficient. Measure performance to communicate your improvements using PROFILE before final query. Answer the following: [4 points]\n",
    "    1. Using ABV score, find five strongest beers, display their ABV score and the corresponding brewery? Keep in mind that the strongest known beer is Snake Venom, and deal with the error entries in the database.\n",
    "    2. Using the answer from question 2, find the top 5 distict beer styles with the highest average score of smell + feel that were reviewed by the third most productive user. Keep in mind that cleaning the database earlier should ensure correct results.\n",
    "5. Answer **two out of four** of the following questions using Graph Algorithms (gds): [NB: make sure to clear the graph before using it again] For the quarterly report, Analytics department the follownig information. [6 points]\n",
    "    1. Which two countries are most similiar when it comes to their top five most produced Beer styles?\n",
    "    2. Which beer is the most popular when considering the number of users who reviewed it? \n",
    "    3. Users are connected together by their reviews of beers, taking into consideration the \"smell\" score they assign as a weight, how many communities are formed from these relationships? How many users are in the three largest communities? \n",
    "    4. Which user is the most influential when it comes to reviews of distinct beers by style?\n",
    " "
   ]
  },
  {
   "cell_type": "markdown",
   "metadata": {},
   "source": [
    "## Loading the Database\n"
   ]
  },
  {
   "cell_type": "code",
   "execution_count": 1,
   "metadata": {
    "ExecuteTime": {
     "end_time": "2024-02-29T21:45:57.447501Z",
     "start_time": "2024-02-29T21:45:56.625014Z"
    }
   },
   "outputs": [],
   "source": [
    "from neo4j import GraphDatabase\n",
    "from pprint import pprint"
   ]
  },
  {
   "cell_type": "code",
   "execution_count": 2,
   "metadata": {
    "ExecuteTime": {
     "end_time": "2024-02-29T21:46:09.652569Z",
     "start_time": "2024-02-29T21:46:09.648166Z"
    }
   },
   "outputs": [],
   "source": [
    "NEO4J_URI=\"neo4j://localhost:7687\"\n",
    "NEO4J_USERNAME=\"neo4j\"\n",
    "NEO4J_PASSWORD=\"test\""
   ]
  },
  {
   "cell_type": "code",
   "execution_count": 3,
   "metadata": {
    "ExecuteTime": {
     "end_time": "2024-02-29T21:46:10.939324Z",
     "start_time": "2024-02-29T21:46:10.934651Z"
    }
   },
   "outputs": [],
   "source": [
    "driver = GraphDatabase.driver(NEO4J_URI, auth=(NEO4J_USERNAME, NEO4J_PASSWORD), )"
   ]
  },
  {
   "cell_type": "code",
   "execution_count": 4,
   "metadata": {
    "ExecuteTime": {
     "end_time": "2024-02-29T21:46:14.291655Z",
     "start_time": "2024-02-29T21:46:14.286865Z"
    }
   },
   "outputs": [],
   "source": [
    "def execute_read(driver, query):    \n",
    "    with driver.session(database=\"neo4j\") as session:\n",
    "        result = session.execute_read(lambda tx, query: list(tx.run(query)), query)\n",
    "    return result"
   ]
  },
  {
   "cell_type": "code",
   "execution_count": 5,
   "metadata": {},
   "outputs": [],
   "source": [
    "def execute_write(driver, query):\n",
    "    with driver.session(database=\"neo4j\") as session:\n",
    "        # Write transactions allow the driver to handle retries and transient errors\n",
    "        result = session.execute_write(lambda tx, query: list(tx.run(query)), query)\n",
    "    return result"
   ]
  },
  {
   "cell_type": "markdown",
   "metadata": {},
   "source": [
    "# Question 1: Exploring the database"
   ]
  },
  {
   "cell_type": "markdown",
   "metadata": {},
   "source": [
    "## 1.1 Labels, Relationships and Properties"
   ]
  },
  {
   "cell_type": "markdown",
   "metadata": {},
   "source": [
    "> Let's start by checking the labels in our database:"
   ]
  },
  {
   "cell_type": "code",
   "execution_count": 8,
   "metadata": {},
   "outputs": [
    {
     "name": "stdout",
     "output_type": "stream",
     "text": [
      "[<Record label='COUNTRIES'>,\n",
      " <Record label='CITIES'>,\n",
      " <Record label='BREWERIES'>,\n",
      " <Record label='BEERS'>,\n",
      " <Record label='REVIEWS'>,\n",
      " <Record label='STYLE'>,\n",
      " <Record label='USER'>]\n"
     ]
    }
   ],
   "source": [
    "query = \"\"\"\n",
    "       call db.labels();\n",
    "       \"\"\"\n",
    "\n",
    "result = execute_read(driver, query)\n",
    "\n",
    "pprint(result)"
   ]
  },
  {
   "cell_type": "code",
   "execution_count": 14,
   "metadata": {},
   "outputs": [],
   "source": [
    "labels = ['COUNTRIES','CITIES','BREWERIES','BEERS','REVIEWS','STYLE','USER']"
   ]
  },
  {
   "cell_type": "markdown",
   "metadata": {},
   "source": [
    "> Check the number of nodes for each label"
   ]
  },
  {
   "cell_type": "code",
   "execution_count": 15,
   "metadata": {},
   "outputs": [
    {
     "name": "stdout",
     "output_type": "stream",
     "text": [
      "Label: COUNTRIES, Count: 400\n",
      "Label: CITIES, Count: 23330\n",
      "Label: BREWERIES, Count: 100694\n",
      "Label: BEERS, Count: 417746\n",
      "Label: REVIEWS, Count: 2549271\n",
      "Label: STYLE, Count: 113\n",
      "Label: USER, Count: 123935\n"
     ]
    }
   ],
   "source": [
    "for label in labels:\n",
    "    query = f\"\"\"\n",
    "        MATCH (n:{label})\n",
    "        RETURN COUNT(n) AS count\n",
    "        \"\"\"\n",
    "    \n",
    "    result = execute_read(driver, query)\n",
    "    print(f\"Label: {label}, Count: {result[0]['count']}\")\n"
   ]
  },
  {
   "cell_type": "markdown",
   "metadata": {},
   "source": [
    "> Relationships:"
   ]
  },
  {
   "cell_type": "code",
   "execution_count": 16,
   "metadata": {},
   "outputs": [
    {
     "name": "stdout",
     "output_type": "stream",
     "text": [
      "[<Record relationshipType='REVIEWED'>,\n",
      " <Record relationshipType='BREWED'>,\n",
      " <Record relationshipType='IN'>,\n",
      " <Record relationshipType='HAS_STYLE'>,\n",
      " <Record relationshipType='POSTED'>]\n"
     ]
    }
   ],
   "source": [
    "query = \"\"\"\n",
    "        CALL db.relationshipTypes();\n",
    "       \"\"\"\n",
    "\n",
    "result = execute_read(driver, query)\n",
    "\n",
    "pprint(result)"
   ]
  },
  {
   "cell_type": "code",
   "execution_count": 18,
   "metadata": {},
   "outputs": [],
   "source": [
    "relationships = ['REVIEWED','BREWED','IN','HAS_STYLE','POSTED']"
   ]
  },
  {
   "cell_type": "code",
   "execution_count": 19,
   "metadata": {},
   "outputs": [
    {
     "name": "stdout",
     "output_type": "stream",
     "text": [
      "Relationship: REVIEWED, Count: 2537991\n",
      "Relationship: BREWED, Count: 358873\n",
      "Relationship: IN, Count: 62424\n",
      "Relationship: HAS_STYLE, Count: 358873\n",
      "Relationship: POSTED, Count: 2538044\n"
     ]
    }
   ],
   "source": [
    "for relationship in relationships:\n",
    "    query = f\"\"\"\n",
    "        MATCH ()-[r:{relationship}]->()\n",
    "        RETURN COUNT(r) AS count\n",
    "        \"\"\"\n",
    "    \n",
    "    result = execute_read(driver, query)\n",
    "    print(f\"Relationship: {relationship}, Count: {result[0]['count']}\")\n"
   ]
  },
  {
   "cell_type": "markdown",
   "metadata": {},
   "source": [
    "> Properties:"
   ]
  },
  {
   "cell_type": "code",
   "execution_count": 20,
   "metadata": {},
   "outputs": [
    {
     "name": "stdout",
     "output_type": "stream",
     "text": [
      "[<Record propertyKey='name'>,\n",
      " <Record propertyKey='types'>,\n",
      " <Record propertyKey='notes'>,\n",
      " <Record propertyKey='state'>,\n",
      " <Record propertyKey='id'>,\n",
      " <Record propertyKey='abv'>,\n",
      " <Record propertyKey='retired'>,\n",
      " <Record propertyKey='availability'>,\n",
      " <Record propertyKey='brewery_id'>,\n",
      " <Record propertyKey='date'>,\n",
      " <Record propertyKey='score'>,\n",
      " <Record propertyKey='taste'>,\n",
      " <Record propertyKey='feel'>,\n",
      " <Record propertyKey='overall'>,\n",
      " <Record propertyKey='beer_id'>,\n",
      " <Record propertyKey='text'>,\n",
      " <Record propertyKey='smell'>,\n",
      " <Record propertyKey='look'>]\n"
     ]
    }
   ],
   "source": [
    "query = \"\"\"\n",
    "        CALL db.propertyKeys();\n",
    "        \"\"\"\n",
    "\n",
    "result = execute_read(driver, query)\n",
    "\n",
    "pprint(result)"
   ]
  },
  {
   "cell_type": "code",
   "execution_count": 21,
   "metadata": {},
   "outputs": [],
   "source": [
    "properties = ['name','types','notes','state','id','abv','retired','availability',\\\n",
    "              'brewery_id','date','score','taste','feel','overall','beer_id',\\\n",
    "              'text','smell','look']"
   ]
  },
  {
   "cell_type": "markdown",
   "metadata": {},
   "source": [
    "## 1.2 What labels are connected by each relationship type?"
   ]
  },
  {
   "cell_type": "markdown",
   "metadata": {},
   "source": [
    "> Let's take a look at the schema:"
   ]
  },
  {
   "cell_type": "code",
   "execution_count": 22,
   "metadata": {},
   "outputs": [
    {
     "name": "stdout",
     "output_type": "stream",
     "text": [
      "[<Record nodes=[<Node element_id='-5' labels=frozenset({'REVIEWS'}) properties={'name': 'REVIEWS', 'indexes': ['id'], 'constraints': []}>, <Node element_id='-4' labels=frozenset({'BEERS'}) properties={'name': 'BEERS', 'indexes': ['id'], 'constraints': []}>, <Node element_id='-1' labels=frozenset({'COUNTRIES'}) properties={'name': 'COUNTRIES', 'indexes': ['name'], 'constraints': []}>, <Node element_id='-3' labels=frozenset({'BREWERIES'}) properties={'name': 'BREWERIES', 'indexes': ['id'], 'constraints': []}>, <Node element_id='-6' labels=frozenset({'STYLE'}) properties={'name': 'STYLE', 'indexes': ['name'], 'constraints': []}>, <Node element_id='-2' labels=frozenset({'CITIES'}) properties={'name': 'CITIES', 'indexes': ['name'], 'constraints': []}>, <Node element_id='-7' labels=frozenset({'USER'}) properties={'name': 'USER', 'indexes': ['name'], 'constraints': []}>] relationships=[<Relationship element_id='-1' nodes=(<Node element_id='-4' labels=frozenset({'BEERS'}) properties={'name': 'BEERS', 'indexes': ['id'], 'constraints': []}>, <Node element_id='-5' labels=frozenset({'REVIEWS'}) properties={'name': 'REVIEWS', 'indexes': ['id'], 'constraints': []}>) type='REVIEWED' properties={}>, <Relationship element_id='-2' nodes=(<Node element_id='-3' labels=frozenset({'BREWERIES'}) properties={'name': 'BREWERIES', 'indexes': ['id'], 'constraints': []}>, <Node element_id='-4' labels=frozenset({'BEERS'}) properties={'name': 'BEERS', 'indexes': ['id'], 'constraints': []}>) type='BREWED' properties={}>, <Relationship element_id='-3' nodes=(<Node element_id='-2' labels=frozenset({'CITIES'}) properties={'name': 'CITIES', 'indexes': ['name'], 'constraints': []}>, <Node element_id='-1' labels=frozenset({'COUNTRIES'}) properties={'name': 'COUNTRIES', 'indexes': ['name'], 'constraints': []}>) type='IN' properties={}>, <Relationship element_id='-6' nodes=(<Node element_id='-3' labels=frozenset({'BREWERIES'}) properties={'name': 'BREWERIES', 'indexes': ['id'], 'constraints': []}>, <Node element_id='-2' labels=frozenset({'CITIES'}) properties={'name': 'CITIES', 'indexes': ['name'], 'constraints': []}>) type='IN' properties={}>, <Relationship element_id='-4' nodes=(<Node element_id='-2' labels=frozenset({'CITIES'}) properties={'name': 'CITIES', 'indexes': ['name'], 'constraints': []}>, <Node element_id='-2' labels=frozenset({'CITIES'}) properties={'name': 'CITIES', 'indexes': ['name'], 'constraints': []}>) type='IN' properties={}>, <Relationship element_id='-5' nodes=(<Node element_id='-3' labels=frozenset({'BREWERIES'}) properties={'name': 'BREWERIES', 'indexes': ['id'], 'constraints': []}>, <Node element_id='-1' labels=frozenset({'COUNTRIES'}) properties={'name': 'COUNTRIES', 'indexes': ['name'], 'constraints': []}>) type='IN' properties={}>, <Relationship element_id='-7' nodes=(<Node element_id='-4' labels=frozenset({'BEERS'}) properties={'name': 'BEERS', 'indexes': ['id'], 'constraints': []}>, <Node element_id='-6' labels=frozenset({'STYLE'}) properties={'name': 'STYLE', 'indexes': ['name'], 'constraints': []}>) type='HAS_STYLE' properties={}>, <Relationship element_id='-8' nodes=(<Node element_id='-5' labels=frozenset({'REVIEWS'}) properties={'name': 'REVIEWS', 'indexes': ['id'], 'constraints': []}>, <Node element_id='-7' labels=frozenset({'USER'}) properties={'name': 'USER', 'indexes': ['name'], 'constraints': []}>) type='POSTED' properties={}>]>]\n"
     ]
    }
   ],
   "source": [
    "query = \"\"\"\n",
    "        CALL db.schema.visualization();\n",
    "        \"\"\"\n",
    "\n",
    "result = execute_read(driver, query)\n",
    "pprint(result)"
   ]
  },
  {
   "cell_type": "markdown",
   "metadata": {},
   "source": [
    "> ADD IMAGE OF THE SCHEMA"
   ]
  },
  {
   "cell_type": "markdown",
   "metadata": {},
   "source": [
    "> By looking at the schema in the localhost we can see that there are these relationships:<br>\n",
    "> [BREWERIES]--'BREWED'-->[BEERS]<br>\n",
    "> [BEERS]--'HAS_STYLE'-->[STYLE]<br>\n",
    "> [CITIES]--'IN'-->[COUNTRIES]<br>\n",
    "> [CITIES]--'IN'-->[CITIES]<br>\n",
    "> [BREWERIES]--'IN'-->[COUNTRIES]<br>\n",
    "> [BREWERIES]--'IN'-->[CITIES]<br>\n",
    "> [REVIEWS]--'POSTED'-->[USER]<br>\n",
    "> [BEERS]--'REVIEWED'-->[REVIEWS]"
   ]
  },
  {
   "cell_type": "code",
   "execution_count": 23,
   "metadata": {},
   "outputs": [
    {
     "name": "stdout",
     "output_type": "stream",
     "text": [
      "[<Record Start=['BREWERIES'] Relationship='BREWED' End=['BEERS'] COUNT(r)=358873>,\n",
      " <Record Start=['BEERS'] Relationship='HAS_STYLE' End=['STYLE'] COUNT(r)=358873>,\n",
      " <Record Start=['CITIES'] Relationship='IN' End=['COUNTRIES'] COUNT(r)=12077>,\n",
      " <Record Start=['BREWERIES'] Relationship='IN' End=['CITIES'] COUNT(r)=50347>,\n",
      " <Record Start=['REVIEWS'] Relationship='POSTED' End=['USER'] COUNT(r)=2538044>,\n",
      " <Record Start=['BEERS'] Relationship='REVIEWED' End=['REVIEWS'] COUNT(r)=2537991>]\n"
     ]
    }
   ],
   "source": [
    "query = \"\"\"\n",
    "        MATCH (a)-[r]->(b)\n",
    "        RETURN DISTINCT labels(a) AS Start, type(r) AS Relationship, labels(b) AS End, COUNT(r)\n",
    "        ORDER BY Relationship;\n",
    "        \"\"\"\n",
    "\n",
    "result = execute_read(driver, query)\n",
    "\n",
    "pprint(result)"
   ]
  },
  {
   "cell_type": "markdown",
   "metadata": {},
   "source": [
    "> But when we check for existing relationships in the our database and their count, the relationships [CITIES]--'IN'-->[CITIES] and [BREWERIES]--'IN'-->[COUNTRIES] don't show up, and as we can see below, there are no instances of these relationships."
   ]
  },
  {
   "cell_type": "code",
   "execution_count": 24,
   "metadata": {},
   "outputs": [
    {
     "name": "stdout",
     "output_type": "stream",
     "text": [
      "[<Record COUNT(r)=0>]\n"
     ]
    }
   ],
   "source": [
    "query = \"\"\"\n",
    "        MATCH (c1:CITIES)-[r:IN]->(c2:CITIES) RETURN COUNT(r);\n",
    "        \"\"\"\n",
    "\n",
    "result = execute_read(driver, query)\n",
    "\n",
    "pprint(result)"
   ]
  },
  {
   "cell_type": "code",
   "execution_count": 25,
   "metadata": {},
   "outputs": [
    {
     "name": "stdout",
     "output_type": "stream",
     "text": [
      "[<Record COUNT(r)=0>]\n"
     ]
    }
   ],
   "source": [
    "query = \"\"\"\n",
    "        MATCH (c1:BREWERIES)-[r:IN]->(c2:COUNTRIES) RETURN COUNT(r);\n",
    "        \"\"\"\n",
    "\n",
    "result = execute_read(driver, query)\n",
    "\n",
    "pprint(result)"
   ]
  },
  {
   "cell_type": "markdown",
   "metadata": {},
   "source": [
    "> Not sure if it makes sense to have <br>\n",
    "[REVIEWS]--POSTED-->[USER] and <br>\n",
    "[BEERS]--'REVIEWED-->[REVIEWES].<br>\n",
    "We should look into reversing the direction of these relationships. Or changing the relationship names to REVIEWED_BY and POSTED_BY."
   ]
  },
  {
   "cell_type": "markdown",
   "metadata": {},
   "source": [
    "## 1.3 What properties does each label have?"
   ]
  },
  {
   "cell_type": "code",
   "execution_count": 26,
   "metadata": {},
   "outputs": [
    {
     "name": "stdout",
     "output_type": "stream",
     "text": [
      "[<Record Label=':`BEERS`' Properties=['name', 'notes', 'state', 'id', 'abv', 'retired', 'availability', 'brewery_id']>,\n",
      " <Record Label=':`BREWERIES`' Properties=['name', 'types', 'notes', 'state', 'id']>,\n",
      " <Record Label=':`CITIES`' Properties=['name']>,\n",
      " <Record Label=':`COUNTRIES`' Properties=['name']>,\n",
      " <Record Label=':`REVIEWS`' Properties=['id', 'date', 'score', 'taste', 'feel', 'overall', 'beer_id', 'text', 'smell', 'look']>,\n",
      " <Record Label=':`STYLE`' Properties=['name']>,\n",
      " <Record Label=':`USER`' Properties=['name']>]\n"
     ]
    }
   ],
   "source": [
    "query = \"\"\"\n",
    "        CALL db.schema.nodeTypeProperties()\n",
    "        YIELD nodeType, propertyName\n",
    "        RETURN nodeType AS Label, COLLECT(propertyName) AS Properties\n",
    "        ORDER BY Label;\n",
    "        \"\"\"\n",
    "\n",
    "result = execute_read(driver, query)\n",
    "\n",
    "pprint(result)"
   ]
  },
  {
   "cell_type": "markdown",
   "metadata": {},
   "source": [
    "> Let's just take a look at the max and min values of reviews:"
   ]
  },
  {
   "cell_type": "code",
   "execution_count": null,
   "metadata": {},
   "outputs": [
    {
     "name": "stdout",
     "output_type": "stream",
     "text": [
      "Score: score\n",
      "[<Record min_score=1.0 max_score=5.0>]\n",
      "\n",
      "\n",
      "\n",
      "Score: taste\n",
      "[<Record min_taste=1.0 max_taste=5.0>]\n",
      "\n",
      "\n",
      "\n",
      "Score: feel\n",
      "[<Record min_feel=1.0 max_feel=5.0>]\n",
      "\n",
      "\n",
      "\n",
      "Score: overall\n",
      "[<Record min_overall=1.0 max_overall=5.0>]\n",
      "\n",
      "\n",
      "\n",
      "Score: smell\n",
      "[<Record min_smell=1.0 max_smell=5.0>]\n",
      "\n",
      "\n",
      "\n",
      "Score: look\n",
      "[<Record min_look=1.0 max_look=5.0>]\n",
      "\n",
      "\n",
      "\n"
     ]
    }
   ],
   "source": [
    "review_scores = ['score', 'taste', 'feel', 'overall','smell', 'look']\n",
    "\n",
    "for score in review_scores:\n",
    "    query = f\"\"\"\n",
    "        MATCH (r:REVIEWS)\n",
    "        WHERE r.{score} <> 'nan' AND r.{score} IS NOT NULL\n",
    "        RETURN \n",
    "            MIN(TOFLOAT(r.{score})) AS min_{score}, \n",
    "            MAX(TOFLOAT(r.{score})) AS max_{score}\n",
    "    \"\"\"\n",
    "    result = execute_read(driver, query)\n",
    "    print(f\"Score: {score}\")\n",
    "    pprint(result)\n",
    "    print(\"\\n\\n\")\n"
   ]
  },
  {
   "cell_type": "markdown",
   "metadata": {},
   "source": [
    "## 1.4 Indexes"
   ]
  },
  {
   "cell_type": "markdown",
   "metadata": {},
   "source": [
    "> Let's check what indexes there are:"
   ]
  },
  {
   "cell_type": "code",
   "execution_count": 10,
   "metadata": {},
   "outputs": [
    {
     "name": "stdout",
     "output_type": "stream",
     "text": [
      "[<Record id=8 name='index_268c309e' state='ONLINE' populationPercent=100.0 uniqueness='NONUNIQUE' type='BTREE' entityType='NODE' labelsOrTypes=['STYLE'] properties=['name'] indexProvider='native-btree-1.0'>,\n",
      " <Record id=1 name='index_343aff4e' state='ONLINE' populationPercent=100.0 uniqueness='NONUNIQUE' type='LOOKUP' entityType='NODE' labelsOrTypes=None properties=None indexProvider='token-lookup-1.0'>,\n",
      " <Record id=3 name='index_476bd9ac' state='ONLINE' populationPercent=100.0 uniqueness='NONUNIQUE' type='BTREE' entityType='NODE' labelsOrTypes=['COUNTRIES'] properties=['name'] indexProvider='native-btree-1.0'>,\n",
      " <Record id=4 name='index_69b3ab56' state='ONLINE' populationPercent=100.0 uniqueness='NONUNIQUE' type='BTREE' entityType='NODE' labelsOrTypes=['CITIES'] properties=['name'] indexProvider='native-btree-1.0'>,\n",
      " <Record id=7 name='index_7d8f6eb8' state='ONLINE' populationPercent=100.0 uniqueness='NONUNIQUE' type='BTREE' entityType='NODE' labelsOrTypes=['REVIEWS'] properties=['id'] indexProvider='native-btree-1.0'>,\n",
      " <Record id=5 name='index_8281b4be' state='ONLINE' populationPercent=100.0 uniqueness='NONUNIQUE' type='BTREE' entityType='NODE' labelsOrTypes=['BREWERIES'] properties=['id'] indexProvider='native-btree-1.0'>,\n",
      " <Record id=6 name='index_ac86b32' state='ONLINE' populationPercent=100.0 uniqueness='NONUNIQUE' type='BTREE' entityType='NODE' labelsOrTypes=['BEERS'] properties=['id'] indexProvider='native-btree-1.0'>,\n",
      " <Record id=9 name='index_b84165c2' state='ONLINE' populationPercent=100.0 uniqueness='NONUNIQUE' type='BTREE' entityType='NODE' labelsOrTypes=['USER'] properties=['name'] indexProvider='native-btree-1.0'>,\n",
      " <Record id=2 name='index_f7700477' state='ONLINE' populationPercent=100.0 uniqueness='NONUNIQUE' type='LOOKUP' entityType='RELATIONSHIP' labelsOrTypes=None properties=None indexProvider='token-lookup-1.0'>]\n"
     ]
    }
   ],
   "source": [
    "query = \"\"\"\n",
    "SHOW INDEXES;\n",
    "       \"\"\"\n",
    "\n",
    "result = execute_read(driver, query)\n",
    "\n",
    "pprint(result)"
   ]
  },
  {
   "cell_type": "markdown",
   "metadata": {},
   "source": [
    "# Question 2"
   ]
  },
  {
   "cell_type": "markdown",
   "metadata": {},
   "source": [
    "## 2.1 Isolated Nodes"
   ]
  },
  {
   "cell_type": "markdown",
   "metadata": {},
   "source": [
    "> Let's start by removing isolated nodes"
   ]
  },
  {
   "cell_type": "code",
   "execution_count": 11,
   "metadata": {},
   "outputs": [
    {
     "name": "stdout",
     "output_type": "stream",
     "text": [
      "[<Record total_nodes=3215489>]\n"
     ]
    }
   ],
   "source": [
    "query = \"\"\"\n",
    "        MATCH (n)\n",
    "        RETURN COUNT(n) AS total_nodes;\n",
    "        \"\"\"\n",
    "result = execute_read(driver, query)\n",
    "pprint(result)"
   ]
  },
  {
   "cell_type": "code",
   "execution_count": 7,
   "metadata": {},
   "outputs": [
    {
     "name": "stderr",
     "output_type": "stream",
     "text": [
      "Received notification from DBMS server: {severity: WARNING} {code: Neo.ClientNotification.Statement.FeatureDeprecationWarning} {category: } {title: This feature is deprecated and will be removed in future versions.} {description: Coercion of list to boolean is deprecated. Please consider using `NOT isEmpty(...)` instead.} {position: line: 3, column: 27, offset: 37} for query: '\\n        MATCH (n)\\n        WHERE NOT (n)-[]-()\\n        RETURN labels(n) AS NodeLabel, COUNT(n) AS isolated_node_count\\n        ORDER BY isolated_node_count DESC;\\n        '\n"
     ]
    },
    {
     "name": "stdout",
     "output_type": "stream",
     "text": [
      "[<Record NodeLabel=['BEERS'] isolated_node_count=58873>,\n",
      " <Record NodeLabel=['BREWERIES'] isolated_node_count=50347>,\n",
      " <Record NodeLabel=['USER'] isolated_node_count=17290>,\n",
      " <Record NodeLabel=['CITIES'] isolated_node_count=11665>,\n",
      " <Record NodeLabel=['REVIEWS'] isolated_node_count=11208>,\n",
      " <Record NodeLabel=['COUNTRIES'] isolated_node_count=200>]\n"
     ]
    }
   ],
   "source": [
    "query = \"\"\"\n",
    "        MATCH (n)\n",
    "        WHERE NOT (n)-[]-()\n",
    "        RETURN labels(n) AS NodeLabel, COUNT(n) AS isolated_node_count\n",
    "        ORDER BY isolated_node_count DESC;\n",
    "        \"\"\"\n",
    "result = execute_read(driver, query)\n",
    "pprint(result)"
   ]
  },
  {
   "cell_type": "code",
   "execution_count": 12,
   "metadata": {},
   "outputs": [
    {
     "name": "stderr",
     "output_type": "stream",
     "text": [
      "Received notification from DBMS server: {severity: WARNING} {code: Neo.ClientNotification.Statement.FeatureDeprecationWarning} {category: } {title: This feature is deprecated and will be removed in future versions.} {description: Coercion of list to boolean is deprecated. Please consider using `NOT isEmpty(...)` instead.} {position: line: 3, column: 27, offset: 37} for query: '\\n        MATCH (n)\\n        WHERE NOT (n)-[]-()\\n        DELETE n\\n        RETURN count(n);\\n        '\n"
     ]
    },
    {
     "name": "stdout",
     "output_type": "stream",
     "text": [
      "[<Record count(n)=149583>]\n"
     ]
    }
   ],
   "source": [
    "query = \"\"\"\n",
    "        MATCH (n)\n",
    "        WHERE NOT (n)-[]-()\n",
    "        DELETE n\n",
    "        RETURN count(n);\n",
    "        \"\"\"\n",
    "result = execute_write(driver, query)\n",
    "pprint(result)"
   ]
  },
  {
   "cell_type": "code",
   "execution_count": 9,
   "metadata": {},
   "outputs": [
    {
     "name": "stdout",
     "output_type": "stream",
     "text": [
      "[<Record total_nodes=3065906>]\n"
     ]
    }
   ],
   "source": [
    "query = \"\"\"\n",
    "        MATCH (n)\n",
    "        RETURN COUNT(n) AS total_nodes;\n",
    "        \"\"\"\n",
    "result = execute_read(driver, query)\n",
    "pprint(result)"
   ]
  },
  {
   "cell_type": "markdown",
   "metadata": {},
   "source": [
    "## 2.2 Unique values"
   ]
  },
  {
   "cell_type": "markdown",
   "metadata": {},
   "source": [
    "> Let's take a look a the unique values of each property and check for inconsistencies:"
   ]
  },
  {
   "cell_type": "code",
   "execution_count": 13,
   "metadata": {},
   "outputs": [],
   "source": [
    "node_properties = {\n",
    "    \"BEERS\": [\"notes\", \"name\", \"state\", \"id\", \"retired\", \"availability\", \"brewery_id\"],\n",
    "    \"BREWERIES\": [\"notes\", \"types\", \"id\", \"name\", \"state\"],\n",
    "    \"CITIES\": [\"name\"],\n",
    "    \"COUNTRIES\": [\"name\"],\n",
    "    \"REVIEWS\": [\"text\", \"smell\", \"look\", \"taste\", \"feel\", \"overall\", \"beer_id\", \"id\", \"date\", \"score\"],\n",
    "    \"STYLE\": [\"name\"],\n",
    "    \"USER\": [\"name\"]\n",
    "}"
   ]
  },
  {
   "cell_type": "code",
   "execution_count": null,
   "metadata": {},
   "outputs": [
    {
     "name": "stdout",
     "output_type": "stream",
     "text": [
      "Label: BEERS, Property: notes\n",
      "[<Record notes='No notes at this time.' Count=309078>,\n",
      " <Record notes='nan' Count=46>,\n",
      " <Record notes='Single-Hop IPA' Count=26>,\n",
      " <Record notes='Brewed at De Proefbrouwerij.' Count=24>,\n",
      " <Record notes=' No notes at this time.' Count=23>,\n",
      " <Record notes='30 IBU' Count=22>,\n",
      " <Record notes='Permutation is our experimental series of small batch offerings, showcasing the unique visions and innovative concepts developed by our brewing and cellar crew.' Count=19>,\n",
      " <Record notes='20 IBU' Count=19>,\n",
      " <Record notes='70 IBU' Count=19>,\n",
      " <Record notes='The Intervals series is a platform that allows our brewers to experience and study the ingredients that we use in brewing. As we develop new flavors and experience those nuances we can share that with others. From single hop varieties to alternate grains we want you to learn with us! Experiment, learn, repeat!' Count=18>]\n",
      "\n",
      "\n",
      "\n",
      "Label: BEERS, Property: name\n",
      "[<Record name='Oktoberfest' Count=755>,\n",
      " <Record name='IPA' Count=633>,\n",
      " <Record name='Pale Ale' Count=620>,\n",
      " <Record name='Hefeweizen' Count=477>,\n",
      " <Record name='Oatmeal Stout' Count=443>,\n",
      " <Record name='Porter' Count=372>,\n",
      " <Record name='Saison' Count=361>,\n",
      " <Record name='India Pale Ale' Count=308>,\n",
      " <Record name='Pilsner' Count=301>,\n",
      " <Record name='Imperial Stout' Count=272>]\n",
      "\n",
      "\n",
      "\n",
      "Label: BEERS, Property: state\n",
      "[<Record state='nan' Count=60726>,\n",
      " <Record state='CA' Count=33649>,\n",
      " <Record state='PA' Count=17083>,\n",
      " <Record state='NY' Count=14572>,\n",
      " <Record state='CO' Count=14182>,\n",
      " <Record state='MI' Count=12690>,\n",
      " <Record state='IL' Count=12444>,\n",
      " <Record state='FL' Count=11898>,\n",
      " <Record state='GB2' Count=11390>,\n",
      " <Record state='WA' Count=10902>]\n",
      "\n",
      "\n",
      "\n",
      "Label: BEERS, Property: id\n",
      "[<Record id='82352' Count=1>,\n",
      " <Record id='214879' Count=1>,\n",
      " <Record id='320009' Count=1>,\n",
      " <Record id='246438' Count=1>,\n",
      " <Record id='8036' Count=1>,\n",
      " <Record id='108605' Count=1>,\n",
      " <Record id='345382' Count=1>,\n",
      " <Record id='255286' Count=1>,\n",
      " <Record id='29556' Count=1>,\n",
      " <Record id='202522' Count=1>]\n",
      "\n",
      "\n",
      "\n",
      "Label: BEERS, Property: retired\n",
      "[<Record retired='f' Count=240480>, <Record retired='t' Count=118393>]\n",
      "\n",
      "\n",
      "\n",
      "Label: BEERS, Property: availability\n",
      "[<Record availability=' Rotating' Count=98776>,\n",
      " <Record availability=' Limited (brewed once)' Count=72047>,\n",
      " <Record availability=' Year-round' Count=56800>,\n",
      " <Record availability='Rotating' Count=48002>,\n",
      " <Record availability='Limited (brewed once)' Count=34798>,\n",
      " <Record availability='Year-round' Count=19744>,\n",
      " <Record availability=' Winter' Count=6427>,\n",
      " <Record availability=' Fall' Count=5908>,\n",
      " <Record availability=' Summer' Count=5136>,\n",
      " <Record availability=' Spring' Count=3349>]\n",
      "\n",
      "\n",
      "\n",
      "Label: BEERS, Property: brewery_id\n",
      "[<Record brewery_id='1550' Count=1229>,\n",
      " <Record brewery_id='28383' Count=1225>,\n",
      " <Record brewery_id='17981' Count=1043>,\n",
      " <Record brewery_id='1146' Count=922>,\n",
      " <Record brewery_id='13307' Count=898>,\n",
      " <Record brewery_id='6045' Count=786>,\n",
      " <Record brewery_id='147' Count=736>,\n",
      " <Record brewery_id='16866' Count=723>,\n",
      " <Record brewery_id='1337' Count=652>,\n",
      " <Record brewery_id='140' Count=650>]\n",
      "\n",
      "\n",
      "\n",
      "Label: BREWERIES, Property: notes\n",
      "[<Record notes='No notes at this time.' Count=46475>,\n",
      " <Record notes='Hours:' Count=136>,\n",
      " <Record notes='nan' Count=85>,\n",
      " <Record notes=' No notes at this time.' Count=74>,\n",
      " <Record notes='Hours: ' Count=68>,\n",
      " <Record notes='OWNED BY ANHEUSER-BUSCH INBEV' Count=18>,\n",
      " <Record notes='On-premise brewing:' Count=16>,\n",
      " <Record notes='Per Omaha City Ordinance, as of October 1st 2006, this establishment is non-smoking throughout.' Count=15>,\n",
      " <Record notes='Hours' Count=13>,\n",
      " <Record notes='Opening hours:' Count=11>]\n",
      "\n",
      "\n",
      "\n",
      "Label: BREWERIES, Property: types\n",
      "[<Record types='Bar, Eatery' Count=13573>,\n",
      " <Record types='Store' Count=9726>,\n",
      " <Record types='Brewery' Count=8005>,\n",
      " <Record types='Brewery, Bar, Eatery' Count=2801>,\n",
      " <Record types='Bar, Eatery, Beer-to-go' Count=2789>,\n",
      " <Record types='Brewery, Bar, Beer-to-go' Count=2670>,\n",
      " <Record types='Bar' Count=2466>,\n",
      " <Record types='Brewery, Bar, Eatery, Beer-to-go' Count=2370>,\n",
      " <Record types='Brewery, Bar' Count=1360>,\n",
      " <Record types='Bar, Beer-to-go' Count=1258>]\n",
      "\n",
      "\n",
      "\n",
      "Label: BREWERIES, Property: id\n",
      "[<Record id='32541' Count=1>,\n",
      " <Record id='44736' Count=1>,\n",
      " <Record id='23372' Count=1>,\n",
      " <Record id='35328' Count=1>,\n",
      " <Record id='31561' Count=1>,\n",
      " <Record id='35975' Count=1>,\n",
      " <Record id='5618' Count=1>,\n",
      " <Record id='30916' Count=1>,\n",
      " <Record id='41278' Count=1>,\n",
      " <Record id='19730' Count=1>]\n",
      "\n",
      "\n",
      "\n",
      "Label: BREWERIES, Property: name\n",
      "[<Record name='Whole Foods Market' Count=162>,\n",
      " <Record name='Total Wine & More' Count=147>,\n",
      " <Record name='Cost Plus World Market' Count=118>,\n",
      " <Record name='Mellow Mushroom' Count=114>,\n",
      " <Record name=\"Trader Joe's\" Count=88>,\n",
      " <Record name='Old Chicago' Count=78>,\n",
      " <Record name=\"BJ's Restaurant & Brewhouse\" Count=68>,\n",
      " <Record name='World of Beer' Count=66>,\n",
      " <Record name='Yard House' Count=61>,\n",
      " <Record name='Wegmans' Count=58>]\n",
      "\n",
      "\n",
      "\n",
      "Label: BREWERIES, Property: state\n",
      "[<Record state='nan' Count=11271>,\n",
      " <Record state='CA' Count=3638>,\n",
      " <Record state='PA' Count=2454>,\n",
      " <Record state='NY' Count=2284>,\n",
      " <Record state='GB2' Count=2152>,\n",
      " <Record state='FL' Count=1595>,\n",
      " <Record state='IL' Count=1551>,\n",
      " <Record state='OH' Count=1518>,\n",
      " <Record state='MA' Count=1372>,\n",
      " <Record state='TX' Count=1342>]\n",
      "\n",
      "\n",
      "\n",
      "Label: CITIES, Property: name\n",
      "[<Record name='Thousand Palms' Count=1>,\n",
      " <Record name='Plant City' Count=1>,\n",
      " <Record name='Oklahoma City' Count=1>,\n",
      " <Record name='Brighton' Count=1>,\n",
      " <Record name='Seattle' Count=1>,\n",
      " <Record name='Mona Vale' Count=1>,\n",
      " <Record name='Riccione (RN)' Count=1>,\n",
      " <Record name='Belfast' Count=1>,\n",
      " <Record name='Destin' Count=1>,\n",
      " <Record name='Erpe-Mere' Count=1>]\n",
      "\n",
      "\n",
      "\n",
      "Label: COUNTRIES, Property: name\n",
      "[<Record name='US' Count=1>,\n",
      " <Record name='GB' Count=1>,\n",
      " <Record name='AU' Count=1>,\n",
      " <Record name='IT' Count=1>,\n",
      " <Record name='CA' Count=1>,\n",
      " <Record name='GR' Count=1>,\n",
      " <Record name='FR' Count=1>,\n",
      " <Record name='AT' Count=1>,\n",
      " <Record name='ES' Count=1>,\n",
      " <Record name='BE' Count=1>]\n",
      "\n",
      "\n",
      "\n",
      "Label: REVIEWS, Property: text\n",
      "[<Record text='\\xa0\\xa0' Count=1701899>,\n",
      " <Record text='\\xa0\\xa0 0%' Count=21785>,\n",
      " <Record text='\\xa0\\xa0 You had this beer. Write a review.' Count=705>,\n",
      " <Record text='\\xa0\\xa0 On tap at the brewery' Count=26>,\n",
      " <Record text='\\xa0\\xa0 C+ / ABOVE AVERAGE' Count=23>,\n",
      " <Record text='\\xa0\\xa0 Sampled from bottle' Count=22>,\n",
      " <Record text='\\xa0\\xa0 C / AVERAGE' Count=22>,\n",
      " <Record text='\\xa0\\xa0 On tap at brewery.' Count=21>,\n",
      " <Record text='\\xa0\\xa0 B- / WORTHY' Count=21>,\n",
      " <Record text=None Count=19>]\n",
      "\n",
      "\n",
      "\n",
      "Label: REVIEWS, Property: smell\n",
      "[<Record smell='nan' Count=1060483>,\n",
      " <Record smell='4.0' Count=392963>,\n",
      " <Record smell='3.5' Count=219353>,\n",
      " <Record smell='4.5' Count=204325>,\n",
      " <Record smell='4.25' Count=182230>,\n",
      " <Record smell='3.75' Count=164031>,\n",
      " <Record smell='3.0' Count=94814>,\n",
      " <Record smell='5.0' Count=54486>,\n",
      " <Record smell='4.75' Count=50008>,\n",
      " <Record smell='3.25' Count=43082>]\n",
      "\n",
      "\n",
      "\n",
      "Label: REVIEWS, Property: look\n",
      "[<Record look='nan' Count=1060483>,\n",
      " <Record look='4.0' Count=478984>,\n",
      " <Record look='4.5' Count=212619>,\n",
      " <Record look='3.5' Count=189229>,\n",
      " <Record look='4.25' Count=176749>,\n",
      " <Record look='3.75' Count=155618>,\n",
      " <Record look='3.0' Count=80612>,\n",
      " <Record look='5.0' Count=59443>,\n",
      " <Record look='4.75' Count=47898>,\n",
      " <Record look='3.25' Count=31315>]\n",
      "\n",
      "\n",
      "\n",
      "Label: REVIEWS, Property: taste\n",
      "[<Record taste='nan' Count=1060483>,\n",
      " <Record taste='4.0' Count=372249>,\n",
      " <Record taste='4.5' Count=238649>,\n",
      " <Record taste='3.5' Count=198038>,\n",
      " <Record taste='4.25' Count=191080>,\n",
      " <Record taste='3.75' Count=155142>,\n",
      " <Record taste='3.0' Count=81533>,\n",
      " <Record taste='5.0' Count=61893>,\n",
      " <Record taste='4.75' Count=59221>,\n",
      " <Record taste='3.25' Count=42353>]\n",
      "\n",
      "\n",
      "\n",
      "Label: REVIEWS, Property: feel\n",
      "[<Record feel='nan' Count=1060483>,\n",
      " <Record feel='4.0' Count=431163>,\n",
      " <Record feel='3.5' Count=209454>,\n",
      " <Record feel='4.5' Count=195217>,\n",
      " <Record feel='4.25' Count=174367>,\n",
      " <Record feel='3.75' Count=162730>,\n",
      " <Record feel='3.0' Count=97325>,\n",
      " <Record feel='5.0' Count=50937>,\n",
      " <Record feel='4.75' Count=45074>,\n",
      " <Record feel='3.25' Count=42194>]\n",
      "\n",
      "\n",
      "\n",
      "Label: REVIEWS, Property: overall\n",
      "[<Record overall='nan' Count=1060483>,\n",
      " <Record overall='4.0' Count=410261>,\n",
      " <Record overall='4.5' Count=222853>,\n",
      " <Record overall='3.5' Count=193663>,\n",
      " <Record overall='4.25' Count=192078>,\n",
      " <Record overall='3.75' Count=164243>,\n",
      " <Record overall='3.0' Count=79620>,\n",
      " <Record overall='5.0' Count=51820>,\n",
      " <Record overall='4.75' Count=51633>,\n",
      " <Record overall='3.25' Count=41613>]\n",
      "\n",
      "\n",
      "\n",
      "Label: REVIEWS, Property: beer_id\n",
      "[<Record beer_id='11757' Count=4833>,\n",
      " <Record beer_id='2093' Count=4394>,\n",
      " <Record beer_id='7971' Count=4218>,\n",
      " <Record beer_id='1093' Count=4174>,\n",
      " <Record beer_id='16814' Count=3974>,\n",
      " <Record beer_id='29619' Count=3962>,\n",
      " <Record beer_id='17112' Count=3844>,\n",
      " <Record beer_id='19960' Count=3711>,\n",
      " <Record beer_id='10672' Count=3615>,\n",
      " <Record beer_id='412' Count=3531>]\n",
      "\n",
      "\n",
      "\n",
      "Label: REVIEWS, Property: id\n",
      "[<Record id=None Count=19>,\n",
      " <Record id='3' Count=1>,\n",
      " <Record id='18' Count=1>,\n",
      " <Record id='6' Count=1>,\n",
      " <Record id='12' Count=1>,\n",
      " <Record id='14' Count=1>,\n",
      " <Record id='4' Count=1>,\n",
      " <Record id='28' Count=1>,\n",
      " <Record id='32' Count=1>,\n",
      " <Record id='2' Count=1>]\n",
      "\n",
      "\n",
      "\n",
      "Label: REVIEWS, Property: date\n",
      "[<Record date='2011-11-15' Count=4958>,\n",
      " <Record date='2011-11-14' Count=4849>,\n",
      " <Record date='2011-11-16' Count=2674>,\n",
      " <Record date='2014-07-20' Count=2532>,\n",
      " <Record date='2011-11-18' Count=2473>,\n",
      " <Record date='2014-10-26' Count=2445>,\n",
      " <Record date='2014-09-01' Count=2333>,\n",
      " <Record date='2011-11-17' Count=2332>,\n",
      " <Record date='2014-11-09' Count=2299>,\n",
      " <Record date='2014-08-03' Count=2286>]\n",
      "\n",
      "\n",
      "\n",
      "Label: REVIEWS, Property: score\n",
      "[<Record score='4.0' Count=287023>,\n",
      " <Record score='3.75' Count=171530>,\n",
      " <Record score='4.25' Count=169556>,\n",
      " <Record score='3.5' Count=144460>,\n",
      " <Record score='4.5' Count=141249>,\n",
      " <Record score='3.0' Count=73226>,\n",
      " <Record score='5.0' Count=64787>,\n",
      " <Record score='3.25' Count=59511>,\n",
      " <Record score='4.75' Count=56176>,\n",
      " <Record score='4.1' Count=21101>]\n",
      "\n",
      "\n",
      "\n",
      "Label: STYLE, Property: name\n",
      "[<Record name='Russian Imperial Stout' Count=1>,\n",
      " <Record name='Scottish Ale' Count=1>,\n",
      " <Record name='American Imperial Stout' Count=1>,\n",
      " <Record name='American Cream Ale' Count=1>,\n",
      " <Record name='Japanese Rice Lager' Count=1>,\n",
      " <Record name='American Lager' Count=1>,\n",
      " <Record name='American IPA' Count=1>,\n",
      " <Record name='German Bock' Count=1>,\n",
      " <Record name='English Stout' Count=1>,\n",
      " <Record name='English Oatmeal Stout' Count=1>]\n",
      "\n",
      "\n",
      "\n",
      "Label: USER, Property: name\n",
      "[<Record name='_dirty_' Count=1>,\n",
      " <Record name='CJDUBYA' Count=1>,\n",
      " <Record name='GratefulBeerGuy' Count=1>,\n",
      " <Record name='LukeGude' Count=1>,\n",
      " <Record name='jneff33' Count=1>,\n",
      " <Record name='yummybeer' Count=1>,\n",
      " <Record name='MFMB' Count=1>,\n",
      " <Record name='wwoj' Count=1>,\n",
      " <Record name='Rubenjr' Count=1>,\n",
      " <Record name='bluejacket74' Count=1>]\n",
      "\n",
      "\n",
      "\n"
     ]
    },
    {
     "ename": "",
     "evalue": "",
     "output_type": "error",
     "traceback": [
      "\u001b[1;31mThe Kernel crashed while executing code in the current cell or a previous cell. \n",
      "\u001b[1;31mPlease review the code in the cell(s) to identify a possible cause of the failure. \n",
      "\u001b[1;31mClick <a href='https://aka.ms/vscodeJupyterKernelCrash'>here</a> for more info. \n",
      "\u001b[1;31mView Jupyter <a href='command:jupyter.viewOutput'>log</a> for further details."
     ]
    }
   ],
   "source": [
    "for label, properties in node_properties.items():\n",
    "    for property in properties:\n",
    "        query = f\"\"\"\n",
    "            MATCH (n:{label})\n",
    "            RETURN DISTINCT n.{property} AS {property}, COUNT(n) AS Count\n",
    "            ORDER BY Count DESC\n",
    "            LIMIT 10\n",
    "        \"\"\"\n",
    "        result = execute_read(driver, query)\n",
    "        print(f\"Label: {label}, Property: {property}\")\n",
    "        pprint(result)\n",
    "        print(\"\\n\\n\")"
   ]
  },
  {
   "cell_type": "markdown",
   "metadata": {},
   "source": [
    "### 2.2.1 Remove leading and trailing blank spaces"
   ]
  },
  {
   "cell_type": "markdown",
   "metadata": {},
   "source": [
    "> **1.** We'll start by removing leading and trailing blank spaces. By checking first what properties have those blank spaces. Which are: BEERS[notes,availability] and BREWERIES[notes]"
   ]
  },
  {
   "cell_type": "code",
   "execution_count": null,
   "metadata": {},
   "outputs": [
    {
     "name": "stdout",
     "output_type": "stream",
     "text": [
      "Checking outter white spaces for: notes in BEERS\n"
     ]
    },
    {
     "name": "stdout",
     "output_type": "stream",
     "text": [
      "[<Record NodeCount=2287>]\n",
      "Checking outter white spaces for: name in BEERS\n",
      "[<Record NodeCount=0>]\n",
      "Checking outter white spaces for: state in BEERS\n",
      "[<Record NodeCount=0>]\n",
      "Checking outter white spaces for: id in BEERS\n",
      "[<Record NodeCount=0>]\n",
      "Checking outter white spaces for: retired in BEERS\n",
      "[<Record NodeCount=0>]\n",
      "Checking outter white spaces for: availability in BEERS\n",
      "[<Record NodeCount=248467>]\n",
      "Checking outter white spaces for: brewery_id in BEERS\n",
      "[<Record NodeCount=0>]\n",
      "Checking outter white spaces for: notes in BREWERIES\n",
      "[<Record NodeCount=315>]\n",
      "Checking outter white spaces for: types in BREWERIES\n",
      "[<Record NodeCount=0>]\n",
      "Checking outter white spaces for: id in BREWERIES\n",
      "[<Record NodeCount=0>]\n",
      "Checking outter white spaces for: name in BREWERIES\n",
      "[<Record NodeCount=0>]\n",
      "Checking outter white spaces for: state in BREWERIES\n",
      "[<Record NodeCount=0>]\n",
      "Checking outter white spaces for: name in CITIES\n",
      "[<Record NodeCount=0>]\n",
      "Checking outter white spaces for: name in COUNTRIES\n",
      "[<Record NodeCount=0>]\n",
      "Checking outter white spaces for: text in REVIEWS\n",
      "[<Record NodeCount=0>]\n",
      "Checking outter white spaces for: smell in REVIEWS\n",
      "[<Record NodeCount=0>]\n",
      "Checking outter white spaces for: look in REVIEWS\n",
      "[<Record NodeCount=0>]\n",
      "Checking outter white spaces for: taste in REVIEWS\n",
      "[<Record NodeCount=0>]\n",
      "Checking outter white spaces for: feel in REVIEWS\n"
     ]
    }
   ],
   "source": [
    "for node, properties in node_properties.items():\n",
    "    for prop in properties:\n",
    "        print(f\"Checking outter white spaces for: {prop} in {node}\")\n",
    "        query = f\"\"\"\n",
    "                MATCH (n:{node})\n",
    "                WHERE n.{prop} =~ \"^\\s.*|.*\\s$\"\n",
    "                RETURN count(n) AS NodeCount\n",
    "        \"\"\"\n",
    "        result = execute_read(driver, query)\n",
    "        pprint(result)"
   ]
  },
  {
   "cell_type": "code",
   "execution_count": 14,
   "metadata": {},
   "outputs": [
    {
     "name": "stdout",
     "output_type": "stream",
     "text": [
      "Deleting outter white spaces for: notes in BEERS\n",
      "[<Record NodeCount=2287>]\n",
      "Deleting outter white spaces for: availability in BEERS\n",
      "[<Record NodeCount=248467>]\n",
      "Deleting outter white spaces for: notes in BREWERIES\n",
      "[<Record NodeCount=315>]\n"
     ]
    }
   ],
   "source": [
    "white_space_nodes_prop = {\n",
    "    \"BEERS\": [\"notes\", \"availability\"],\n",
    "    \"BREWERIES\": [\"notes\"]\n",
    "}\n",
    "\n",
    "for node, properties in white_space_nodes_prop.items():\n",
    "    for prop in properties:\n",
    "        print(f\"Deleting outter white spaces for: {prop} in {node}\")\n",
    "        query = f\"\"\"\n",
    "                MATCH (n:{node})\n",
    "                WHERE n.{prop} =~ \"^\\s.*|.*\\s$\"\n",
    "                SET n.{prop} = TRIM(n.{prop})\n",
    "                RETURN count(n) AS NodeCount\n",
    "        \"\"\"\n",
    "        result = execute_write(driver, query)\n",
    "        pprint(result)"
   ]
  },
  {
   "cell_type": "markdown",
   "metadata": {},
   "source": [
    "### 2.2.2 Remove '\\xa0' from REVIEWS"
   ]
  },
  {
   "cell_type": "markdown",
   "metadata": {},
   "source": [
    "> **2.** Remove '\\xa0', which represents non breaking spaces, a space character that prevents line breaks. For a more consistent formatting."
   ]
  },
  {
   "cell_type": "code",
   "execution_count": null,
   "metadata": {},
   "outputs": [
    {
     "name": "stdout",
     "output_type": "stream",
     "text": [
      "[<Record Count=2536660>]\n"
     ]
    }
   ],
   "source": [
    "query = \"\"\"\n",
    "        MATCH (r:REVIEWS)\n",
    "        WHERE r.text=~ '.*\\\\xa0.*' \n",
    "        RETURN COUNT(r) AS Count\n",
    "\"\"\"\n",
    "result = execute_read(driver, query)\n",
    "pprint(result)"
   ]
  },
  {
   "cell_type": "code",
   "execution_count": 17,
   "metadata": {},
   "outputs": [
    {
     "name": "stdout",
     "output_type": "stream",
     "text": [
      "'Loop number 1. Cleaned 100000 reviews.'\n",
      "'Loop number 2. Cleaned 100000 reviews.'\n",
      "'Loop number 3. Cleaned 100000 reviews.'\n",
      "'Loop number 4. Cleaned 100000 reviews.'\n",
      "'Loop number 5. Cleaned 100000 reviews.'\n",
      "'Loop number 6. Cleaned 100000 reviews.'\n",
      "'Loop number 7. Cleaned 100000 reviews.'\n",
      "'Loop number 8. Cleaned 100000 reviews.'\n",
      "'Loop number 9. Cleaned 100000 reviews.'\n",
      "'Loop number 10. Cleaned 100000 reviews.'\n",
      "'Loop number 11. Cleaned 100000 reviews.'\n",
      "'Loop number 12. Cleaned 100000 reviews.'\n",
      "'Loop number 13. Cleaned 100000 reviews.'\n",
      "'Loop number 14. Cleaned 100000 reviews.'\n",
      "'Loop number 15. Cleaned 100000 reviews.'\n",
      "'Loop number 16. Cleaned 100000 reviews.'\n",
      "'Loop number 17. Cleaned 100000 reviews.'\n",
      "'Loop number 18. Cleaned 100000 reviews.'\n",
      "'Loop number 19. Cleaned 100000 reviews.'\n",
      "'Loop number 20. Cleaned 100000 reviews.'\n",
      "'Loop number 21. Cleaned 100000 reviews.'\n",
      "'Loop number 22. Cleaned 38044 reviews.'\n",
      "'Loop number 23. Cleaned 0 reviews.'\n"
     ]
    }
   ],
   "source": [
    "loop = 0\n",
    "while True:\n",
    "    query = \"\"\"\n",
    "    MATCH (r:REVIEWS)\n",
    "    WHERE r.text CONTAINS '\\xa0'\n",
    "    WITH r LIMIT 100000\n",
    "    SET r.text = TRIM(REPLACE(r.text, '\\xa0', ''))\n",
    "    RETURN COUNT(r) AS Count\n",
    "    \"\"\"\n",
    "    \n",
    "    result = execute_write(driver, query)\n",
    "    count = result[0]['Count']\n",
    "    \n",
    "    loop += 1\n",
    "    pprint(f'Loop number {loop}. Cleaned {count} reviews.')\n",
    "\n",
    "    if count == 0:\n",
    "        break\n"
   ]
  },
  {
   "cell_type": "code",
   "execution_count": 8,
   "metadata": {},
   "outputs": [
    {
     "name": "stdout",
     "output_type": "stream",
     "text": [
      "[<Record Count=0>]\n"
     ]
    }
   ],
   "source": [
    "query = \"\"\"\n",
    "        MATCH (r:REVIEWS)\n",
    "        WHERE r.text=~ '.*\\\\xa0.*' \n",
    "        RETURN COUNT(r) AS Count\n",
    "\"\"\"\n",
    "result = execute_read(driver, query)\n",
    "pprint(result)"
   ]
  },
  {
   "cell_type": "code",
   "execution_count": 15,
   "metadata": {},
   "outputs": [
    {
     "name": "stdout",
     "output_type": "stream",
     "text": [
      "[<Record r.text=''>,\n",
      " <Record r.text=''>,\n",
      " <Record r.text='0% 16 oz can. Funny story: As I finally walked in the doors after a 45 min wait in line and freezing temps the sweet sound of the Grateful Dead\\'s Sugar Magnolia greeted me from the TreeHouse sound system. The bottom of the can reads: \"Going where the wind goes, bloomin\\' like a red rose\" A white haze to the yellow and golden liquid. Thick and healthy, totally unfiltered. Brawny white foam cap, thick, all-white clumps. Huge lacing left over. The aroma has a very zesty citrus hop effect, mellon and mango, grainy earthiness, tropical fruit blend with a bitter to sweet effect, then a peppery kick at the end. Very aromatic. The flavor is just bursting with complex hops, zesty earthy tones, sweet orange, peppery malt, clean fresh feel and overall vibe. A crispy bite wakes you up, full and lush mouthfeel follows from a totally unfiltered expereince. The feel and flavor finishes with a fun, earthy, zesty dry bite. Tropical juicy, zesty citrus, zippy golden wheat malt, melons, rustic earthiness sums up the taste pretty well. Levels of complexity are deep. It\\'s an interesting ride for sure. Overall, this one stands somewhere near the top of the New England IPA\\'s.'>,\n",
      " <Record r.text='Classic TH NEIPA. Overflowing head and bouquet. Strong flavor but smoother than 8.2%. Maybe peach nose but overall a general citrus punch.'>,\n",
      " <Record r.text=''>,\n",
      " <Record r.text=''>,\n",
      " <Record r.text=''>,\n",
      " <Record r.text=''>,\n",
      " <Record r.text='From the tall boy can and enjoyed in a snifter via a friend from work---THANKS JUSTIN! This unique brown pours a deep muddy blackish brown with an excellent head of dark tan foam that subsides to a thick ring, modest pool, and features some nice sudsy lacing. Nose of coconut milk, cocoa, and light cola notes. Flavors lightly exceed the nose with deeply roasted coconut with dark cola and cocoa flavors with a touch of chicory note to it on the rear of the taste. Nice mouth feel; coating, medium carbonation, medium body, and a bitter malt finish with just of touch of herbal hops. Overall it is a nice unique little brew. Cheers'>,\n",
      " <Record r.text='Appearance: Pours a deep black, with tan head and very little lace. Aroma: Chocolate malts, coconut seeping in…pretty appealing. Taste: Rich! Sweet with plenty of coconut and cocoa, but with something different..a twist. There’s also a spiciness, like chicory in there…like a root beer spice. This one is really packed with deep flavor, rich and unusual. Not your father’s coconut brown ale, yes. Delicious, for sure!'>]\n"
     ]
    }
   ],
   "source": [
    "query = \"\"\"\n",
    "        MATCH (r:REVIEWS)\n",
    "        RETURN r.text\n",
    "        LIMIT 10;\n",
    "\"\"\"\n",
    "result = execute_read(driver, query)\n",
    "pprint(result)"
   ]
  },
  {
   "cell_type": "markdown",
   "metadata": {},
   "source": [
    "## 2.3 Check for inconsistencies and redundancies"
   ]
  },
  {
   "cell_type": "markdown",
   "metadata": {},
   "source": [
    "### 2.3.1 Property state in BEERS and BREWERIES"
   ]
  },
  {
   "cell_type": "markdown",
   "metadata": {},
   "source": [
    "> Both BREWERIES and BEERS have the property 'state', we'll check if the BEER and its' BREWER have the same state. "
   ]
  },
  {
   "cell_type": "markdown",
   "metadata": {},
   "source": [
    "> Each beer is brewed by only one brewery:"
   ]
  },
  {
   "cell_type": "code",
   "execution_count": null,
   "metadata": {},
   "outputs": [
    {
     "name": "stdout",
     "output_type": "stream",
     "text": [
      "[<Record count=0>]\n"
     ]
    }
   ],
   "source": [
    "# Check the number of beers that have been brewed by more than one brewery\n",
    "query = \"\"\"\n",
    "    MATCH (a:BREWERIES)-[r:BREWED]->(b:BEERS)\n",
    "    WITH b, COUNT(DISTINCT a) AS breweryCount\n",
    "    WHERE breweryCount > 1\n",
    "    RETURN COUNT(b) AS count\n",
    "\"\"\"\n",
    "result = execute_read(driver, query)\n",
    "pprint(result)\n"
   ]
  },
  {
   "cell_type": "markdown",
   "metadata": {},
   "source": [
    "> Only 132 have different values in state. Which are all the same cases: missing value in BEERS, but has value 'UT' in BREWERIES."
   ]
  },
  {
   "cell_type": "code",
   "execution_count": null,
   "metadata": {},
   "outputs": [
    {
     "name": "stdout",
     "output_type": "stream",
     "text": [
      "[<Record a.state='UT' b.state='nan' count=134>]\n"
     ]
    }
   ],
   "source": [
    "#Check the number of beers and breweries that don't have the same state\n",
    "query = \"\"\"\n",
    "    MATCH (a:BREWERIES)-[r:BREWED]->(b:BEERS)\n",
    "    WHERE NOT a.state = b.state \n",
    "    RETURN a.state , b.state, Count(r) AS count\n",
    "\"\"\"\n",
    "result = execute_read(driver, query)\n",
    "pprint(result)\n"
   ]
  },
  {
   "cell_type": "markdown",
   "metadata": {},
   "source": [
    "> We'll change the 'nan' properties in BEERS to 'UT'. "
   ]
  },
  {
   "cell_type": "code",
   "execution_count": 18,
   "metadata": {},
   "outputs": [
    {
     "name": "stdout",
     "output_type": "stream",
     "text": [
      "[<Record number_of_states_changed=134>]\n"
     ]
    }
   ],
   "source": [
    "query = \"\"\"\n",
    "    MATCH (a:BREWERIES)-[r:BREWED]->(b:BEERS)\n",
    "    WHERE b.state IS NULL OR a.state <> b.state\n",
    "    SET b.state = a.state\n",
    "    RETURN count(*) AS number_of_states_changed\n",
    "\"\"\"\n",
    "result = execute_write(driver, query)\n",
    "pprint(result) \n"
   ]
  },
  {
   "cell_type": "markdown",
   "metadata": {},
   "source": [
    "> It can be considered redundant to have the same property twice that saves the same information. We could turn it into a Label, but we'll leave it as it is."
   ]
  },
  {
   "cell_type": "markdown",
   "metadata": {},
   "source": [
    "### 2.3.2 Check for inconsistencies in brewery_id and beer_id"
   ]
  },
  {
   "cell_type": "markdown",
   "metadata": {},
   "source": [
    "> As we have seen above, each beer is connected to only one brewery. But we should check if the brewery_id property of the beer is the same as the brewery to which it's connected to. As we can see, there are no inconsistencies:"
   ]
  },
  {
   "cell_type": "code",
   "execution_count": null,
   "metadata": {},
   "outputs": [
    {
     "name": "stdout",
     "output_type": "stream",
     "text": [
      "[<Record count=0>]\n"
     ]
    }
   ],
   "source": [
    "# Check if the brewery connected is the same as brewery_id\n",
    "query = \"\"\"\n",
    "    MATCH (a:BREWERIES)-[r:BREWED]->(b:BEERS)\n",
    "    WHERE b.brewery_id <> a.id\n",
    "    OR b.brewery_id = 'nan' OR b.brewery_id IS NULL\n",
    "    RETURN COUNT(r) AS count\n",
    "\"\"\"\n",
    "result = execute_read(driver, query)\n",
    "pprint(result)"
   ]
  },
  {
   "cell_type": "markdown",
   "metadata": {},
   "source": [
    "> Same as before, the beer_id on the REVIEW matches the beer that it is connected to:"
   ]
  },
  {
   "cell_type": "code",
   "execution_count": null,
   "metadata": {},
   "outputs": [
    {
     "name": "stdout",
     "output_type": "stream",
     "text": [
      "[<Record count=0>]\n"
     ]
    }
   ],
   "source": [
    "# Check if the beer connected to the review is the same as the beer_id\n",
    "query = \"\"\"\n",
    "    MATCH (a:REVIEWS)<-[r:REVIEWED]-(b:BEERS)\n",
    "    WHERE b.id <> a.beer_id\n",
    "    RETURN COUNT(r) AS count\n",
    "    \"\"\"\n",
    "result = execute_read(driver, query)\n",
    "pprint(result)"
   ]
  },
  {
   "cell_type": "markdown",
   "metadata": {},
   "source": [
    "> No inconsistencies here."
   ]
  },
  {
   "cell_type": "markdown",
   "metadata": {},
   "source": [
    "## 2.4 Missing values"
   ]
  },
  {
   "cell_type": "code",
   "execution_count": null,
   "metadata": {},
   "outputs": [
    {
     "name": "stdout",
     "output_type": "stream",
     "text": [
      "Label: BEERS\n",
      "[<Record key='abv' EmptyValuesCount=38797>,\n",
      " <Record key='notes' EmptyValuesCount=46>,\n",
      " <Record key='state' EmptyValuesCount=60592>]\n",
      "\n",
      "\n",
      "Label: BREWERIES\n",
      "[<Record key='notes' EmptyValuesCount=85>,\n",
      " <Record key='state' EmptyValuesCount=11271>]\n",
      "\n",
      "\n",
      "Label: CITIES\n",
      "[<Record key='name' EmptyValuesCount=1>]\n",
      "\n",
      "\n",
      "Label: COUNTRIES\n",
      "[<Record key='name' EmptyValuesCount=1>]\n",
      "\n",
      "\n",
      "Label: REVIEWS\n",
      "[<Record key='feel' EmptyValuesCount=1060483>,\n",
      " <Record key='look' EmptyValuesCount=1060483>,\n",
      " <Record key='overall' EmptyValuesCount=1060483>,\n",
      " <Record key='smell' EmptyValuesCount=1060483>,\n",
      " <Record key='taste' EmptyValuesCount=1060483>]\n",
      "\n",
      "\n",
      "Label: STYLE\n",
      "[<Record key='name' EmptyValuesCount=1>]\n",
      "\n",
      "\n",
      "Label: USER\n",
      "[<Record key='name' EmptyValuesCount=1>]\n",
      "\n",
      "\n"
     ]
    }
   ],
   "source": [
    "# We will start by checking NULL values and 'nan' values in all properties\n",
    "nodes = [\"BEERS\", \"BREWERIES\", \"CITIES\", \"COUNTRIES\", \"REVIEWS\", \"STYLE\", \"USER\"]\n",
    "\n",
    "for node in nodes: \n",
    "    query = f\"\"\"\n",
    "            MATCH (n:{node})\n",
    "            UNWIND keys(n) AS key\n",
    "            WITH key\n",
    "            WHERE n[key] IS NULL OR n[key] = 'nan'\n",
    "            RETURN key, count(*) AS EmptyValuesCount\n",
    "            ORDER BY key\n",
    "    \"\"\"\n",
    "    result = execute_read(driver, query)\n",
    "    print(f\"Label: {node}\")\n",
    "    pprint(result)\n",
    "    print(\"\\n\")"
   ]
  },
  {
   "cell_type": "markdown",
   "metadata": {},
   "source": [
    "\n",
    "> **BEERS**: There are missing values in abv (alcohol by volume) but we will leave it as it is. We changed some of the 'nan' values of state above, but there are still missing values, but we will leave it as it is too.\n",
    "\n",
    "> **BREWERIES**: Missing values in state, but we'll leave it as it is. \n",
    "\n",
    "> **CITIES**: There is a 'nan' city connected to lots of different BREWERIES and COUNTRIES, we will remove this node, as it doesn't make sense for that many countries to be connected to it.\n",
    "\n",
    "> **COUNTRIES**: There are 2 cities connected to a country with name 'nan', which are: Windhoek and Swakopmund. Both located in Namimbia, so we've decided to change it. \n",
    "\n",
    "> **STYLE**: Ony has one beer related to it: American Three Threads. We'll delete this node.\n",
    "\n",
    "> **USER**: no name, but has reviews. We will leave it as it is.\n",
    "\n",
    "> **REVIEWS**: has NULL values in some of the ratings, but it has values score.\n",
    "\n",
    "> Convert all 'nan' to NULL, as converting it to null will remove those properties from the node and will save more space.\n"
   ]
  },
  {
   "cell_type": "markdown",
   "metadata": {},
   "source": [
    "### 2.4.1 Missing values in CITIES"
   ]
  },
  {
   "cell_type": "markdown",
   "metadata": {},
   "source": [
    ">There are 19 countries, and 58 breweries connected to the 'nan' city. We will remove this node, as it is most likely these relationships are wrong and it's an inconsistency."
   ]
  },
  {
   "cell_type": "code",
   "execution_count": null,
   "metadata": {},
   "outputs": [
    {
     "name": "stdout",
     "output_type": "stream",
     "text": [
      "[<Record connected_labels=['BREWERIES'] Count=58>,\n",
      " <Record connected_labels=['COUNTRIES'] Count=19>]\n"
     ]
    }
   ],
   "source": [
    "# Check for labels connected to the city with the name 'nan'\n",
    "query = \"\"\"\n",
    "    MATCH (c:CITIES)-[r]-(b)\n",
    "    WHERE c.name = 'nan'\n",
    "    RETURN DISTINCT labels(b) AS connected_labels, COUNT(r) AS Count\n",
    "\n",
    "    \"\"\"\n",
    "result = execute_read(driver, query)\n",
    "pprint(result)\n"
   ]
  },
  {
   "cell_type": "code",
   "execution_count": 19,
   "metadata": {},
   "outputs": [
    {
     "name": "stdout",
     "output_type": "stream",
     "text": [
      "[<Record number_of_nan_cities=1>]\n"
     ]
    }
   ],
   "source": [
    "# Delete the node\n",
    "query = \"\"\"\n",
    "   MATCH (c:CITIES)\n",
    "   WHERE c.name = 'nan'\n",
    "   DETACH DELETE c\n",
    "   RETURN COUNT(c) AS number_of_nan_cities\n",
    "    \"\"\"\n",
    "result = execute_write(driver, query)\n",
    "print(result)"
   ]
  },
  {
   "cell_type": "markdown",
   "metadata": {},
   "source": [
    "### 2.4.2 Missing value in COUNTRY"
   ]
  },
  {
   "cell_type": "code",
   "execution_count": null,
   "metadata": {},
   "outputs": [
    {
     "name": "stdout",
     "output_type": "stream",
     "text": [
      "[<Record b=<Node element_id='9005' labels=frozenset({'CITIES'}) properties={'name': 'Swakopmund'}>>,\n",
      " <Record b=<Node element_id='4423' labels=frozenset({'CITIES'}) properties={'name': 'Windhoek'}>>]\n"
     ]
    }
   ],
   "source": [
    "# Check for cities connected to the 'nan' country\n",
    "query = \"\"\"\n",
    "            MATCH (c:COUNTRIES)--(b:CITIES)\n",
    "            WHERE c.name = 'nan' OR c.name IS NULL\n",
    "            RETURN b\n",
    "    \"\"\"\n",
    "result = execute_read(driver, query)\n",
    "pprint(result)\n"
   ]
  },
  {
   "cell_type": "markdown",
   "metadata": {},
   "source": [
    "> Both these cities belong to the country of Namibia."
   ]
  },
  {
   "cell_type": "code",
   "execution_count": 20,
   "metadata": {},
   "outputs": [],
   "source": [
    "# Change 'nan' country name to Namibia\n",
    "query = f\"\"\"\n",
    "        MATCH (c:COUNTRIES)\n",
    "        WHERE c.name IS NULL or c.name = 'nan'\n",
    "        SET c.name = 'Namibia'\n",
    "    \"\"\"\n",
    "result = execute_write(driver, query)"
   ]
  },
  {
   "cell_type": "code",
   "execution_count": null,
   "metadata": {},
   "outputs": [
    {
     "name": "stdout",
     "output_type": "stream",
     "text": [
      "[<Record c=<Node element_id='133' labels=frozenset({'COUNTRIES'}) properties={'name': 'Namibia'}>>]\n"
     ]
    }
   ],
   "source": [
    "query = f\"\"\"\n",
    "        MATCH (c:COUNTRIES)\n",
    "        WHERE c.name='Namibia'\n",
    "        RETURN c\n",
    "    \"\"\"\n",
    "result = execute_read(driver, query)\n",
    "pprint(result)"
   ]
  },
  {
   "cell_type": "markdown",
   "metadata": {},
   "source": [
    "### 2.4.3 Missing value in STYLE"
   ]
  },
  {
   "cell_type": "code",
   "execution_count": null,
   "metadata": {},
   "outputs": [
    {
     "name": "stdout",
     "output_type": "stream",
     "text": [
      "[<Record b=<Node element_id='269155' labels=frozenset({'BEERS'}) properties={'notes': 'No notes at this time.', 'abv': 'nan', 'name': 'American Three Threads', 'retired': 't', 'availability': 'Limited (brewed once)', 'brewery_id': '14', 'state': 'MA', 'id': '24360'}>>]\n"
     ]
    }
   ],
   "source": [
    "# Check for beers connected to the 'nan' style\n",
    "query = \"\"\"\n",
    "            MATCH (s:STYLE)--(b:BEERS)\n",
    "            WHERE s.name = 'nan'\n",
    "            RETURN b\n",
    "    \"\"\"\n",
    "result = execute_read(driver, query)\n",
    "pprint(result)\n"
   ]
  },
  {
   "cell_type": "markdown",
   "metadata": {},
   "source": [
    "> There is only one beer connected to the Style with value 'nan', let's check if it is connected to any other beer, or if there are other beers with the same name."
   ]
  },
  {
   "cell_type": "code",
   "execution_count": null,
   "metadata": {},
   "outputs": [
    {
     "name": "stdout",
     "output_type": "stream",
     "text": [
      "[]\n"
     ]
    }
   ],
   "source": [
    "# Do beers have more than 1 style? \n",
    "\n",
    "query = \"\"\"\n",
    "        MATCH (b:BEERS)-[:HAS_STYLE]->(s:STYLE)\n",
    "        WITH b, COUNT(s) AS styles_count\n",
    "        WHERE styles_count > 1\n",
    "        RETURN b.name AS beer_name, styles_count\n",
    "    \"\"\"\n",
    "result = execute_read(driver, query)\n",
    "pprint(result)"
   ]
  },
  {
   "cell_type": "markdown",
   "metadata": {},
   "source": [
    "> Each beer is connected to only 1 style."
   ]
  },
  {
   "cell_type": "code",
   "execution_count": null,
   "metadata": {},
   "outputs": [
    {
     "name": "stdout",
     "output_type": "stream",
     "text": [
      "[<Record n=<Node element_id='269155' labels=frozenset({'BEERS'}) properties={'notes': 'No notes at this time.', 'abv': 'nan', 'name': 'American Three Threads', 'retired': 't', 'availability': 'Limited (brewed once)', 'brewery_id': '14', 'state': 'MA', 'id': '24360'}>>]\n"
     ]
    }
   ],
   "source": [
    "# Check for other beers with the name 'American Three Threads'\n",
    "query = \"\"\"\n",
    "            MATCH (n:BEERS)\n",
    "            WHERE n.name = 'American Three Threads'\n",
    "            RETURN n\n",
    "    \"\"\"\n",
    "result = execute_read(driver, query)\n",
    "pprint(result)\n"
   ]
  },
  {
   "cell_type": "markdown",
   "metadata": {},
   "source": [
    "> There only exists one beer named 'American Three Threads'. Since the 'nan' style node isn't providing any value, we will delete this node."
   ]
  },
  {
   "cell_type": "code",
   "execution_count": 21,
   "metadata": {},
   "outputs": [
    {
     "name": "stdout",
     "output_type": "stream",
     "text": [
      "[<Record number_of_nan_styles=1>]\n"
     ]
    }
   ],
   "source": [
    "# Delete the style node with the name 'nan'\n",
    "query = \"\"\"\n",
    "   MATCH (s:STYLE)\n",
    "    WHERE s.name = 'nan'\n",
    "    DETACH DELETE s\n",
    "    RETURN COUNT(s) AS number_of_nan_styles;\n",
    "    \"\"\"\n",
    "result = execute_write(driver, query)\n",
    "pprint(result)"
   ]
  },
  {
   "cell_type": "markdown",
   "metadata": {},
   "source": [
    "### 2.4.5 Set all 'nan' to NULL"
   ]
  },
  {
   "cell_type": "code",
   "execution_count": 22,
   "metadata": {},
   "outputs": [],
   "source": [
    "nodes = [\"BEERS\", \"BREWERIES\", \"USER\"]"
   ]
  },
  {
   "cell_type": "code",
   "execution_count": 23,
   "metadata": {},
   "outputs": [
    {
     "name": "stdout",
     "output_type": "stream",
     "text": [
      "Correcting missing abv in BEERS\n",
      "[<Record number_of_values_changed=38797>]\n",
      "Correcting missing notes in BEERS\n",
      "[<Record number_of_values_changed=46>]\n",
      "Correcting missing state in BEERS\n",
      "[<Record number_of_values_changed=60592>]\n",
      "Correcting missing notes in BREWERIES\n",
      "[<Record number_of_values_changed=85>]\n",
      "Correcting missing state in BREWERIES\n",
      "[<Record number_of_values_changed=11271>]\n",
      "Correcting missing name in USER\n",
      "[<Record number_of_values_changed=1>]\n"
     ]
    }
   ],
   "source": [
    "nan_values_dict = {\n",
    "    \"BEERS\": [\"abv\", \"notes\", \"state\"],\n",
    "    \"BREWERIES\": [\"notes\", \"state\"],\n",
    "    \"USER\": [\"name\"]\n",
    "}\n",
    "\n",
    "for node, properties in nan_values_dict.items():\n",
    "    for prop in properties:\n",
    "        print(f\"Correcting missing {prop} in {node}\")\n",
    "        query = f\"\"\"\n",
    "                MATCH (n:{node})\n",
    "                WHERE n.{prop} = 'nan'\n",
    "                SET n.{prop} = NULL\n",
    "                RETURN count(*) AS number_of_values_changed\n",
    "        \"\"\"\n",
    "        result=execute_write(driver, query)\n",
    "        pprint(result)"
   ]
  },
  {
   "cell_type": "code",
   "execution_count": null,
   "metadata": {},
   "outputs": [
    {
     "name": "stderr",
     "output_type": "stream",
     "text": [
      "Transaction failed and will be retried in 1.0651145572671588s (There is not enough memory to perform the current task. Please try increasing 'dbms.memory.heap.max_size' in the neo4j configuration (normally in 'conf/neo4j.conf' or, if you are using Neo4j Desktop, found through the user interface) or if you are running an embedded installation increase the heap by using '-Xmx' command line flag, and then restart the database.)\n"
     ]
    }
   ],
   "source": [
    "# Set NULL the scores in reviews that have nan separatly as it takes a lot of memory to run\n",
    "reviews_nan_prop = [\"smell\", \"look\", \"taste\", \"feel\", \"overall\", \"score\"]\n",
    "query = f\"\"\"\n",
    "        MATCH (n:REVIEWS)\n",
    "        WHERE n.smell = 'nan' OR n.look = 'nan' OR n.taste = 'nan' OR n.feel = 'nan' OR n.overall = 'nan' OR n.score = 'nan'\n",
    "        SET\n",
    "                n.smell = CASE WHEN n.smell = 'nan' THEN NULL END,\n",
    "                n.look = CASE WHEN n.look = 'nan' THEN NULL END,\n",
    "                n.taste = CASE WHEN n.taste = 'nan' THEN NULL END,\n",
    "                n.feel = CASE WHEN n.feel = 'nan' THEN NULL END,\n",
    "                n.overall = CASE WHEN n.overall = 'nan' THEN NULL END,\n",
    "                n.score = CASE WHEN n.score = 'nan' THEN NULL END\n",
    "        RETURN count(*) AS number_of_values_changed\n",
    "\"\"\"\n",
    "result = execute_write(driver, query)\n",
    "pprint(result)\n"
   ]
  },
  {
   "cell_type": "code",
   "execution_count": null,
   "metadata": {},
   "outputs": [],
   "source": [
    "# Set the review texts with no values to null\n",
    "batch = 100_000\n",
    "processed = 0\n",
    "while True:\n",
    "    query = f\"\"\"\n",
    "            MATCH (n:REVIEWS)\n",
    "            WHERE n.text = ''\n",
    "            WITH n LIMIT {batch}\n",
    "            SET n.text = NULL\n",
    "            RETURN count(n) AS number_of_values_changed\n",
    "    \"\"\"\n",
    "    result = execute_write(driver, query)\n",
    "    if result[0]['number_of_values_changed'] == 0:\n",
    "        break\n",
    "    processed += result[0]['number_of_values_changed']\n",
    "    print(f\"Processed {processed} nodes\")\n",
    "\n"
   ]
  },
  {
   "cell_type": "markdown",
   "metadata": {},
   "source": [
    "> We will also set 'No noted at this time.' to nan, as it doesn't represent anything. And logically it would make more sense and saves space."
   ]
  },
  {
   "cell_type": "code",
   "execution_count": null,
   "metadata": {},
   "outputs": [
    {
     "name": "stdout",
     "output_type": "stream",
     "text": [
      "REVIEWS\n",
      "[<Record number_of_values_changed=309097>]\n"
     ]
    }
   ],
   "source": [
    "query = f\"\"\"\n",
    "    MATCH (n:BEERS)\n",
    "    WHERE n.notes = \"No notes at this time.\"\n",
    "    SET n.notes = NULL\n",
    "    RETURN count(*) AS number_of_values_changed\n",
    "    \"\"\"\n",
    "result = execute_write(driver, query)\n",
    "print(node)\n",
    "pprint(result)"
   ]
  },
  {
   "cell_type": "markdown",
   "metadata": {},
   "source": [
    "## 2.5 Duplicate values"
   ]
  },
  {
   "cell_type": "code",
   "execution_count": null,
   "metadata": {},
   "outputs": [
    {
     "name": "stdout",
     "output_type": "stream",
     "text": [
      "Checking for duplicated values for 'id' in 'BEERS'\n",
      "[]\n",
      "\n",
      "\n",
      "Checking for duplicated values for 'name' in 'BEERS'\n",
      "[<Record name='Oktoberfest' count=755>,\n",
      " <Record name='IPA' count=633>,\n",
      " <Record name='Pale Ale' count=620>,\n",
      " <Record name='Hefeweizen' count=477>,\n",
      " <Record name='Oatmeal Stout' count=443>]\n",
      "\n",
      "\n",
      "-------------------------------\n",
      "Checking for duplicated values for 'id' in 'BREWERIES'\n",
      "[]\n",
      "\n",
      "\n",
      "Checking for duplicated values for 'name' in 'BREWERIES'\n",
      "[<Record name='Whole Foods Market' count=162>,\n",
      " <Record name='Total Wine & More' count=147>,\n",
      " <Record name='Cost Plus World Market' count=118>,\n",
      " <Record name='Mellow Mushroom' count=114>,\n",
      " <Record name=\"Trader Joe's\" count=88>]\n",
      "\n",
      "\n",
      "-------------------------------\n",
      "Checking for duplicated values for 'name' in 'CITIES'\n",
      "[]\n",
      "\n",
      "\n",
      "-------------------------------\n",
      "Checking for duplicated values for 'name' in 'COUNTRIES'\n",
      "[]\n",
      "\n",
      "\n",
      "-------------------------------\n",
      "Checking for duplicated values for 'id' in 'REVIEWS'\n",
      "[<Record id=None count=19>]\n",
      "\n",
      "\n",
      "-------------------------------\n",
      "Checking for duplicated values for 'name' in 'STYLE'\n",
      "[]\n",
      "\n",
      "\n",
      "-------------------------------\n",
      "Checking for duplicated values for 'name' in 'USER'\n",
      "[]\n",
      "\n",
      "\n",
      "-------------------------------\n"
     ]
    }
   ],
   "source": [
    "unique_properties = [\"id\", \"name\"]\n",
    "\n",
    "for node, properties in node_properties.items():\n",
    "    for prop in unique_properties:\n",
    "        if prop in properties: \n",
    "            print(f\"Checking for duplicated values for '{prop}' in '{node}'\")\n",
    "\n",
    "            query = f\"\"\"\n",
    "                    MATCH (n:{node})\n",
    "                    WITH TRIM(n.{prop}) AS {prop}, count(n) AS count\n",
    "                    WHERE count > 1\n",
    "                    RETURN {prop}, count\n",
    "                    ORDER BY count DESC\n",
    "                    LIMIT 5\n",
    "            \"\"\"\n",
    "            result = execute_read(driver, query)\n",
    "            pprint(result)\n",
    "            print(\"\\n\")\n",
    "    print(\"-------------------------------\")"
   ]
  },
  {
   "cell_type": "markdown",
   "metadata": {},
   "source": [
    "> Duplicates of names in BEERS and BREWERIES is ok. \n",
    "\n",
    "> There are 19 reviews that have no properties and no relationships, of which we tried to delete but couldn't."
   ]
  },
  {
   "cell_type": "code",
   "execution_count": null,
   "metadata": {},
   "outputs": [],
   "source": [
    "#There are 19 REVIEWS with no id property and have no info associated\n",
    "query = \"\"\"\n",
    "    MATCH (n:REVIEWS)\n",
    "    WHERE n.id IS NULL\n",
    "    RETURN n\n",
    "\"\"\"\n",
    "result = execute_read(driver, query)\n",
    "pprint(result)\n"
   ]
  },
  {
   "cell_type": "code",
   "execution_count": null,
   "metadata": {},
   "outputs": [
    {
     "name": "stdout",
     "output_type": "stream",
     "text": [
      "[<Record count(n)=19>]\n"
     ]
    }
   ],
   "source": [
    "#To remove the 19 reviews\n",
    "query = \"\"\"\n",
    "    MATCH (n:REVIEWS)\n",
    "    WHERE n.id IS NULL\n",
    "    DELETE n\n",
    "    RETURN count(n)\n",
    "\"\"\"\n",
    "result = execute_write(driver, query)\n",
    "pprint(result)"
   ]
  },
  {
   "cell_type": "code",
   "execution_count": null,
   "metadata": {},
   "outputs": [
    {
     "name": "stdout",
     "output_type": "stream",
     "text": [
      "[<Record n=<Node element_id='921375' labels=frozenset() properties={}>>,\n",
      " <Record n=<Node element_id='921921' labels=frozenset() properties={}>>,\n",
      " <Record n=<Node element_id='922467' labels=frozenset() properties={}>>,\n",
      " <Record n=<Node element_id='923013' labels=frozenset() properties={}>>,\n",
      " <Record n=<Node element_id='923559' labels=frozenset() properties={}>>,\n",
      " <Record n=<Node element_id='924105' labels=frozenset() properties={}>>,\n",
      " <Record n=<Node element_id='924651' labels=frozenset() properties={}>>,\n",
      " <Record n=<Node element_id='925197' labels=frozenset() properties={}>>,\n",
      " <Record n=<Node element_id='925743' labels=frozenset() properties={}>>,\n",
      " <Record n=<Node element_id='926289' labels=frozenset() properties={}>>,\n",
      " <Record n=<Node element_id='926835' labels=frozenset() properties={}>>,\n",
      " <Record n=<Node element_id='927381' labels=frozenset() properties={}>>,\n",
      " <Record n=<Node element_id='927927' labels=frozenset() properties={}>>,\n",
      " <Record n=<Node element_id='928473' labels=frozenset() properties={}>>,\n",
      " <Record n=<Node element_id='929019' labels=frozenset() properties={}>>,\n",
      " <Record n=<Node element_id='929565' labels=frozenset() properties={}>>,\n",
      " <Record n=<Node element_id='930111' labels=frozenset() properties={}>>,\n",
      " <Record n=<Node element_id='930657' labels=frozenset() properties={}>>,\n",
      " <Record n=<Node element_id='931203' labels=frozenset() properties={}>>]\n"
     ]
    }
   ],
   "source": [
    "# To see if they were deleted:\n",
    "query = \"\"\"\n",
    "    MATCH (n:REVIEWS)\n",
    "    WHERE n.id IS NULL\n",
    "    RETURN n\n",
    "\"\"\"\n",
    "result = execute_read(driver, query)\n",
    "pprint(result)"
   ]
  },
  {
   "cell_type": "markdown",
   "metadata": {},
   "source": [
    "## 2.6 Typecasting"
   ]
  },
  {
   "cell_type": "code",
   "execution_count": 6,
   "metadata": {},
   "outputs": [
    {
     "name": "stdout",
     "output_type": "stream",
     "text": [
      "[<Record Count=320076>]\n"
     ]
    }
   ],
   "source": [
    "query = \"\"\"\n",
    "        MATCH (n:BEERS)\n",
    "        WHERE n.abv IS NOT NULL\n",
    "        SET n.abv = toFloat(n.abv)\n",
    "        RETURN COUNT(n) as Count\n",
    "\"\"\"\n",
    "res = execute_write(driver, query)\n",
    "pprint(res)"
   ]
  },
  {
   "cell_type": "code",
   "execution_count": null,
   "metadata": {},
   "outputs": [],
   "source": [
    "\n",
    "\n",
    "props = [\"smell\", \"look\", \"taste\", \"feel\", \"overall\", \"score\"]\n",
    "\n",
    "batch = 50_000\n",
    "processed_count = 0\n",
    "while True: \n",
    "    query = f\"\"\"\n",
    "            MATCH (n:REVIEWS)\n",
    "            WITH n ORDER BY id(n) SKIP {processed_count} LIMIT {batch}\n",
    "            WHERE n.{props[0]} IS NOT NULL or n.{props[1]} IS NOT NULL or n.{props[2]} IS NOT NULL or n.{props[3]} IS NOT NULL or n.{props[4]} IS NOT NULL or n.{props[5]} IS NOT NULL\n",
    "            SET \n",
    "                    n.{props[0]} = CASE WHEN n.{props[0]} IS NOT NULL THEN toFloat(n.{props[0]}) END,\n",
    "                    n.{props[1]} = CASE WHEN n.{props[1]} IS NOT NULL THEN toFloat(n.{props[1]}) END,\n",
    "                    n.{props[2]} = CASE WHEN n.{props[2]} IS NOT NULL THEN toFloat(n.{props[2]}) END,\n",
    "                    n.{props[3]} = CASE WHEN n.{props[3]} IS NOT NULL THEN toFloat(n.{props[3]}) END,\n",
    "                    n.{props[4]} = CASE WHEN n.{props[4]} IS NOT NULL THEN toFloat(n.{props[4]}) END,\n",
    "                    n.{props[5]} = CASE WHEN n.{props[5]} IS NOT NULL THEN toFloat(n.{props[5]}) END\n",
    "            RETURN COUNT(n) as Count\n",
    "    \"\"\"\n",
    "    res = execute_write(driver, query)\n",
    "    \n",
    "    if res[0]['Count'] == 0:\n",
    "            break\n",
    "        \n",
    "    processed_count += res[0]['Count']        \n",
    "    print(f\"Processed {processed_count} nodes\")\n",
    "        "
   ]
  },
  {
   "cell_type": "code",
   "execution_count": null,
   "metadata": {},
   "outputs": [],
   "source": [
    "# date format takes less space than string \n",
    "batch = 100_000\n",
    "processed_count = 0\n",
    "while True:\n",
    "    query = f\"\"\"\n",
    "            MATCH (n:REVIEWS)\n",
    "            WHERE n.date IS NOT NULL\n",
    "            WITH n ORDER BY id(n) SKIP {processed_count} LIMIT {batch}\n",
    "            SET n.date = date(n.date)\n",
    "            RETURN COUNT(n) as Count\n",
    "    \"\"\"\n",
    "    res = execute_write(driver, query)\n",
    "    \n",
    "    if res[0]['Count'] == 0:\n",
    "        break\n",
    "    \n",
    "    processed_count += res[0]['Count']\n",
    "    print(f\"Processed {processed_count} nodes\")\n",
    "\n"
   ]
  },
  {
   "cell_type": "code",
   "execution_count": null,
   "metadata": {},
   "outputs": [],
   "source": [
    "\n",
    "query = \"\"\"\n",
    "        MATCH (n:BEERS)\n",
    "        WHERE n.retired IS NOT NULL\n",
    "        RETURN COUNT(n) as Count\n",
    "\"\"\"\n",
    "res = execute_read(driver, query)\n",
    "pprint(res)\n"
   ]
  },
  {
   "cell_type": "code",
   "execution_count": null,
   "metadata": {},
   "outputs": [],
   "source": [
    "query = \"\"\"\n",
    "        MATCH (n:BEERS)\n",
    "        RETURN COUNT(n) as Count\n",
    "\"\"\"\n",
    "res = execute_read(driver, query)\n",
    "pprint(res)\n"
   ]
  },
  {
   "cell_type": "code",
   "execution_count": null,
   "metadata": {},
   "outputs": [],
   "source": [
    "# true / false takes less space \n",
    "query = \"\"\"\n",
    "        MATCH (b:BEERS)\n",
    "        WITH b,\n",
    "        CASE \n",
    "            WHEN b.retired = 'f' THEN FALSE \n",
    "            WHEN b.retired = 't' THEN TRUE \n",
    "        END AS new_value\n",
    "        SET b.retired = new_value\n",
    "        RETURN COUNT(b) AS Count\n",
    "\"\"\"\n",
    "res = execute_write(driver, query)\n",
    "pprint(res)\n"
   ]
  },
  {
   "cell_type": "markdown",
   "metadata": {},
   "source": [
    "# Question 3"
   ]
  },
  {
   "cell_type": "markdown",
   "metadata": {},
   "source": [
    "### 3.1 How many reviews has the beer with the most reviews?"
   ]
  },
  {
   "cell_type": "code",
   "execution_count": 37,
   "metadata": {},
   "outputs": [
    {
     "ename": "",
     "evalue": "",
     "output_type": "error",
     "traceback": [
      "\u001b[1;31mThe Kernel crashed while executing code in the current cell or a previous cell. \n",
      "\u001b[1;31mPlease review the code in the cell(s) to identify a possible cause of the failure. \n",
      "\u001b[1;31mClick <a href='https://aka.ms/vscodeJupyterKernelCrash'>here</a> for more info. \n",
      "\u001b[1;31mView Jupyter <a href='command:jupyter.viewOutput'>log</a> for further details."
     ]
    }
   ],
   "source": [
    "query = \"\"\"\n",
    "MATCH (beer:BEERS)-[r:REVIEWED]->(:REVIEWS)\n",
    "WITH beer, COUNT(r) AS rel_count\n",
    "RETURN ID(beer), rel_count\n",
    "ORDER BY rel_count DESC\n",
    "LIMIT 1\n",
    "    \"\"\"\n",
    "\n",
    "result = execute_read(driver, query)\n",
    "\n",
    "beer_id = str(result[0]['rel_count'])\n",
    "print(f\"The beer with the most reviews has {beer_id} reviews\")"
   ]
  },
  {
   "cell_type": "markdown",
   "metadata": {},
   "source": [
    "### 3.2 Which three users wrote the most reviews about beers?\n"
   ]
  },
  {
   "cell_type": "code",
   "execution_count": 15,
   "metadata": {},
   "outputs": [
    {
     "name": "stdout",
     "output_type": "stream",
     "text": [
      "The three users that wrote the most reviews were:\n",
      "Sammy posted 3756 reviews\n",
      "acurtis posted 3403 reviews\n",
      "kylehay2004 posted 3368 reviews\n"
     ]
    }
   ],
   "source": [
    "query = \"\"\"\n",
    "MATCH (u:USER)-[p:POSTED]-(rev:REVIEWS)\n",
    "WITH u, COUNT(p) as Nr_posted_reviews\n",
    "RETURN u.name, Nr_posted_reviews\n",
    "ORDER BY Nr_posted_reviews DESC\n",
    "LIMIT 3\n",
    "    \"\"\"\n",
    "\n",
    "result = execute_read(driver, query)\n",
    "\n",
    "print(\"The three users that wrote the most reviews were:\")\n",
    "for i in result:\n",
    "    users = str(i['u.name'])\n",
    "    print(f'{users} posted {i[\"Nr_posted_reviews\"]} reviews')\n",
    "\n",
    "    "
   ]
  },
  {
   "cell_type": "markdown",
   "metadata": {},
   "source": [
    "### 3.3 Find all beers that are described with following words: 'fruit', 'complex', 'nutty', 'dark'."
   ]
  },
  {
   "cell_type": "code",
   "execution_count": 6,
   "metadata": {},
   "outputs": [
    {
     "name": "stdout",
     "output_type": "stream",
     "text": [
      "The ID and the name of the beers that are described using the words 'fruit', 'complex', 'nutty' and 'dark' are:\n",
      "- Legalize Hemp Ale, with ID 160197\n",
      "- Brother David's Belgian-style Double Ale, with ID 187422\n"
     ]
    }
   ],
   "source": [
    "words = [\"fruit\", \"complex\", \"nutty\", \"dark\"]\n",
    "\n",
    "query = f\"\"\"\n",
    "        WITH {words} AS words\n",
    "        \n",
    "        MATCH (b:BEERS)\n",
    "        WHERE all(word IN words WHERE toLower(b.notes) CONTAINS word)\n",
    "        RETURN b.name, ID(b)\n",
    "    \"\"\"\n",
    "\n",
    "result = execute_read(driver, query)\n",
    "\n",
    "print(\"The ID and the name of the beers that are described using the words 'fruit', 'complex', 'nutty' and 'dark' are:\")\n",
    "for i in result:\n",
    "    beer_ID = str(i['ID(b)'])\n",
    "    beer_name =  str(i['b.name'])\n",
    "    print(f\"- {beer_name}, with ID {beer_ID}\")"
   ]
  },
  {
   "cell_type": "markdown",
   "metadata": {},
   "source": [
    "### 3.4 Which top three breweries produce the largest variety of beer styles?"
   ]
  },
  {
   "cell_type": "code",
   "execution_count": 7,
   "metadata": {},
   "outputs": [
    {
     "name": "stdout",
     "output_type": "stream",
     "text": [
      "The ID and the name of the top three breweries that produce the largest variety of beer styles are:\n",
      "- Iron Hill Brewery & Restaurant, with ID 26055\n",
      "- Rock Bottom Restaurant & Brewery, with ID 50012\n",
      "- Goose Island Beer Co., with ID 45308\n"
     ]
    }
   ],
   "source": [
    "query = \"\"\"\n",
    "MATCH (br:BREWERIES)-[:BREWED]->(b:BEERS)-[:HAS_STYLE]->(s:STYLE)\n",
    "WITH br, COUNT(DISTINCT(s)) AS VarietyBeerStyles\n",
    "RETURN br.name, ID(br), VarietyBeerStyles\n",
    "ORDER BY VarietyBeerStyles DESC\n",
    "LIMIT 3\n",
    "    \"\"\"\n",
    "\n",
    "result = execute_read(driver, query)\n",
    "\n",
    "print(\"The ID and the name of the top three breweries that produce the largest variety of beer styles are:\")\n",
    "for i in result:\n",
    "    brewery_ID = str(i['ID(br)'])\n",
    "    brewery_name =  str(i['br.name'])\n",
    "    print(f\"- {brewery_name}, with ID {brewery_ID}\")"
   ]
  },
  {
   "cell_type": "markdown",
   "metadata": {},
   "source": [
    "### 3.5 Which country produces the most beer styles?"
   ]
  },
  {
   "cell_type": "code",
   "execution_count": 8,
   "metadata": {},
   "outputs": [
    {
     "name": "stdout",
     "output_type": "stream",
     "text": [
      "The country that produces the most beer styles is US.\n"
     ]
    }
   ],
   "source": [
    "query = \"\"\"\n",
    "MATCH (c:COUNTRIES)<-[:IN]-(:CITIES)<-[:IN]-(:BREWERIES)-[:BREWED]-(:BEERS)-[:HAS_STYLE]-(s:STYLE)\n",
    "WITH c, COUNT(DISTINCT(s)) AS VarietyBeerStyles\n",
    "RETURN c.name, VarietyBeerStyles\n",
    "ORDER BY VarietyBeerStyles DESC\n",
    "LIMIT 1\n",
    "    \"\"\"\n",
    "\n",
    "result = execute_read(driver, query)\n",
    "\n",
    "print(f\"The country that produces the most beer styles is {result[0]['c.name']}.\")"
   ]
  },
  {
   "cell_type": "markdown",
   "metadata": {},
   "source": [
    "# Question 4"
   ]
  },
  {
   "cell_type": "markdown",
   "metadata": {},
   "source": [
    "### 4.1 Using ABV score, find five strongest beers, display their ABV score and the corresponding brewery? Keep in mind that the strongest known beer is Snake Venom, and deal with the error entries in the database.\n"
   ]
  },
  {
   "cell_type": "code",
   "execution_count": 15,
   "metadata": {},
   "outputs": [
    {
     "name": "stdout",
     "output_type": "stream",
     "text": [
      "[<Record name='Mysticum Cosmic Tripel' abv='9.99'>,\n",
      " <Record name='BLVCK Celebration - Oreo Cookie (Ghost 648)' abv='9.99'>,\n",
      " <Record name='Imperial Cascadian' abv='9.99'>,\n",
      " <Record name='BLVCK Celebration- Rum Barrel' abv='9.99'>,\n",
      " <Record name='Tanker/Mean Sardine Surf Wax' abv='9.99'>,\n",
      " <Record name=\"King's Jewels Double IPA\" abv='9.99'>,\n",
      " <Record name='Double Justice' abv='9.99'>,\n",
      " <Record name='Bull Moose' abv='9.99'>,\n",
      " <Record name='BLVCK Celebration- Maple Whiskey' abv='9.99'>,\n",
      " <Record name='BLVCK Celebration: Dark Chocolate & Cocoa (Ghost 388)' abv='9.99'>]\n"
     ]
    }
   ],
   "source": [
    "# Check for the top 10 beers with the highest ABV\n",
    "query = \"\"\"\n",
    "    MATCH (b:BEERS)\n",
    "    WHERE b.abv IS NOT NULL\n",
    "    RETURN b.name AS name, b.abv AS abv\n",
    "    ORDER BY abv DESC\n",
    "    LIMIT 10\n",
    "\"\"\"\n",
    "result = execute_read(driver, query)  \n",
    "pprint(result)\n"
   ]
  },
  {
   "cell_type": "markdown",
   "metadata": {},
   "source": [
    "> As it says in the question, the strangest known beer Snake Venom. So the other entries that are above Snake Venom should be considered as errors, and we'll procede to delete them."
   ]
  },
  {
   "cell_type": "code",
   "execution_count": null,
   "metadata": {},
   "outputs": [],
   "source": [
    "# Remove the beers with an abv greater than 67.5, and use DETACH as they have relationships with other nodes\n",
    "query = \"\"\"\n",
    "    MATCH (b:BEERS)  \n",
    "    WHERE b.abv > 67.5  \n",
    "    DETACH DELETE b;\n",
    "\"\"\"\n",
    "result = execute_write(driver, query)"
   ]
  },
  {
   "cell_type": "code",
   "execution_count": null,
   "metadata": {},
   "outputs": [],
   "source": [
    "# Let's take a look again at the top 10 beers with the highest ABV\n",
    "query = \"\"\"\n",
    "    MATCH (b:BEERS)\n",
    "    WHERE b.abv <> 'nan'\n",
    "    RETURN b.name AS name, b.abv AS abv\n",
    "    ORDER BY abv DESC\n",
    "    LIMIT 10\n",
    "\"\"\"\n",
    "result = execute_read(driver, query)  \n",
    "pprint(result)\n"
   ]
  },
  {
   "cell_type": "markdown",
   "metadata": {},
   "source": [
    "> Our first try, which takes 818443 total db hits"
   ]
  },
  {
   "cell_type": "code",
   "execution_count": null,
   "metadata": {},
   "outputs": [],
   "source": [
    "query = \"\"\"\n",
    "        PROFILE\n",
    "        MATCH (b)<-[:BREWED]->(br:BREWERIES)\n",
    "        WHERE b.abv <= 67.5\n",
    "        RETURN b.name, b.abv, br.name\n",
    "        ORDER BY b.abv DESC\n",
    "        LIMIT 5\n",
    "\"\"\"\n",
    "result = execute_read(driver, query)\n",
    "pprint(result)"
   ]
  },
  {
   "cell_type": "markdown",
   "metadata": {},
   "source": [
    "> We tried to optimise it and obtained 717_764 total db hits"
   ]
  },
  {
   "cell_type": "code",
   "execution_count": null,
   "metadata": {},
   "outputs": [],
   "source": [
    "query = \"\"\"\n",
    "        PROFILE\n",
    "        MATCH (b:BEERS)  \n",
    "        WHERE b.abv <= 67.5\n",
    "        WITH b\n",
    "            MATCH (b)<-[:BREWED]->(br:BREWERIES)\n",
    "            RETURN b.name, b.abv, br.name\n",
    "            ORDER BY b.abv DESC\n",
    "            LIMIT 5\n",
    "\"\"\"\n",
    "result = execute_read(driver, query)\n",
    "pprint(result)"
   ]
  },
  {
   "cell_type": "markdown",
   "metadata": {},
   "source": [
    "### 4.2 Using the answer from question 2, find the top 5 distict beer styles with the highest average score of smell + feel that were reviewed by the third most productive user. Keep in mind that cleaning the database earlier should ensure correct results."
   ]
  },
  {
   "cell_type": "code",
   "execution_count": null,
   "metadata": {},
   "outputs": [],
   "source": [
    "orig_query = \"\"\"\n",
    "MATCH (u:USER)<-[p:POSTED]-(rev:REVIEWS)\n",
    "WITH u, COUNT(p) as Nr_posted_reviews\n",
    "ORDER BY Nr_posted_reviews DESC\n",
    "SKIP 2 LIMIT 1\n",
    "MATCH (u)<-[:POSTED]-(reviews:REVIEWS)<-[:REVIEWED]-(beers:BEERS)-[:HAS_STYLE]->(style:STYLE)\n",
    "WITH style, AVG((toInteger(reviews.smell))+(toInteger(reviews.feel))) AS avg_score_smell_and_feel\n",
    "WHERE avg_score_smell_and_feel IS NOT NULL\n",
    "RETURN style.name AS styles, avg_score_smell_and_feel\n",
    "ORDER BY avg_score_smell_and_feel DESC\n",
    "LIMIT 5\n",
    "    \"\"\"\n",
    "\n",
    "orig_result = execute_read(driver, orig_query)\n",
    "\n",
    "pprint(orig_result)"
   ]
  },
  {
   "cell_type": "markdown",
   "metadata": {},
   "source": [
    "#### Optimization"
   ]
  },
  {
   "cell_type": "markdown",
   "metadata": {},
   "source": [
    "Optimization of the database"
   ]
  },
  {
   "cell_type": "code",
   "execution_count": null,
   "metadata": {},
   "outputs": [],
   "source": [
    "'''\n",
    "Precompute average scores and create a direct relationship from users to styles they reviewed with the score as a property\n",
    "'''\n",
    "\n",
    "query = \"\"\"\n",
    "MATCH (u:USER)<-[:POSTED]-(rev:REVIEWS)<-[:REVIEWED]-(beers:BEERS)-[:HAS_STYLE]->(style:STYLE)\n",
    "WITH u, style, AVG(toInteger(rev.smell) + toInteger(rev.feel)) AS avg_smell_feel\n",
    "MERGE (u)-[r:REVIEWED_STYLE]->(style)\n",
    "SET r.avg_score_smell_feel = CASE WHEN avg_smell_feel IS NOT NULL THEN avg_smell_feel ELSE null END;\n",
    "    \"\"\"\n",
    "\n",
    "result = execute_write(driver, query)\n",
    "\n",
    "pprint(result)"
   ]
  },
  {
   "cell_type": "markdown",
   "metadata": {},
   "source": [
    "Rewriting the query to answer the market analysis question"
   ]
  },
  {
   "cell_type": "code",
   "execution_count": null,
   "metadata": {},
   "outputs": [],
   "source": [
    "query = \"\"\"\n",
    "MATCH (u:USER)<-[p:POSTED]-(rev:REVIEWS)\n",
    "WITH u, COUNT(p) as Nr_posted_reviews\n",
    "ORDER BY Nr_posted_reviews DESC\n",
    "SKIP 2 LIMIT 1\n",
    "\n",
    "MATCH (u)-[r:REVIEWED_STYLE]->(style:STYLE)\n",
    "WHERE r.avg_score_smell_feel IS NOT NULL\n",
    "RETURN style.name AS styles, r.avg_score_smell_feel AS avg_score_smell_feel\n",
    "ORDER BY r.avg_score_smell_feel DESC\n",
    "LIMIT 5\n",
    "    \"\"\"\n",
    "\n",
    "result = execute_read(driver, query)\n",
    "\n",
    "pprint(result)"
   ]
  },
  {
   "cell_type": "markdown",
   "metadata": {},
   "source": [
    "#### Summary"
   ]
  },
  {
   "cell_type": "markdown",
   "metadata": {},
   "source": [
    "- **QUERY PLAN** (using PROFILE through Neo4j browser): <br>\n",
    "\n",
    "*Query Before Optimization (BO) Vs Query After Optimization (AO)*<br>\n",
    "\n",
    "| Steps | BO - db hits | AO - db hits| BO - Memory(bytes) | AO - Memory(bytes) | BO - Filtered Rows | AO - Filtered Rows|\n",
    "| --- | --- | --- | --- |---|---|---|\n",
    "| 1| 123 936 | 123 936 |-|-|123 935|123 935|\n",
    "| 2| 133 935 |133 935|- |-|10 000|10 000|\n",
    "| 3| 10 000 | 10 000 |-|-|10 000|10 000|\n",
    "| 4| 0 |0| 24|24|40|40|\n",
    "|5| 0|0|728|728|3|3|\n",
    "|6| 0 |0|-|-|1|1|\n",
    "| 7| 826| 98 |-|-|825|97|\n",
    "| 8| 825|194|-|-|825|97|\n",
    "| 9| 1650|0|-|-|825|97|\n",
    "| 10| 825|0|-|2 304|825|5|\n",
    "| 11| 1650|5|-|-|825|5|\n",
    "| 12| 825|0|-|-|825|5|\n",
    "| 13| 1650|-|16 656|-|97|-|\n",
    "| 14| 0|-|-|-|5|-|\n",
    "| 15| 5|-|-|-|5|-|\n",
    "|16|0| - |-|-|5|-|\n",
    "| Total| 276 127 |  268 168  | 17 328|2 960|-|-|\n",
    "\n",
    "<br>\n",
    "\n",
    "| BO - Time(ms)| AO - Time(ms) |\n",
    "| --- | --- |\n",
    "| 12 704 | 734 |\n",
    "\n",
    "*Precomputation - Auxiliary query for the database optimization*\n",
    "| Time (ms) | db hits | Memory(bytes)|\n",
    "|---|---|---|\n",
    "|22 747| 389 817|16 768|\n",
    "\n",
    "- **OPTIMIZATION PROCCESS**: In order to get a more efficient query, we decided to optimize the database with a direct relation from users to the styles they reviewed. In this relation we assign a property which corresponds to the average of the scores of smell and feel, that was precomputed when creating the relation between the nodes. This is also reducing the number of rows needed to be filtered. So, for the final query, the first part remained the same, with the objective to retrieve the third most productive user, and the second part changed accordingly to the optimized database.  <br>\n",
    "\n",
    "- **CONCLUSION**: As we can observe in the tables, the query was succesfully optimized. As expected, the optimizated proccess is noticed in the second part of the query, starting at step 7, and we can clearly state that it takes less memory usage and db hits is reduced at each step and in total, all this resulting in less running time.\n",
    "Now, the query in question can be runned several times daily, while reducing the pre-proposed computational costs.\n"
   ]
  },
  {
   "cell_type": "markdown",
   "metadata": {},
   "source": [
    "# Question 5"
   ]
  },
  {
   "cell_type": "markdown",
   "metadata": {},
   "source": [
    "### 5.1 Which two countries are most similiar when it comes to their top five most produced Beer styles?"
   ]
  },
  {
   "cell_type": "code",
   "execution_count": 61,
   "metadata": {},
   "outputs": [
    {
     "name": "stdout",
     "output_type": "stream",
     "text": [
      "[<Record graphName='HM_1.1'>]\n"
     ]
    }
   ],
   "source": [
    "try:\n",
    "    query = \"\"\"CALL gds.graph.drop('HM_1.1') YIELD graphName;  \"\"\"\n",
    "    result = execute_read(driver, query)\n",
    "    pprint(result)\n",
    "except Exception as e:\n",
    "    pprint(e)"
   ]
  },
  {
   "cell_type": "code",
   "execution_count": 62,
   "metadata": {},
   "outputs": [
    {
     "name": "stdout",
     "output_type": "stream",
     "text": [
      "[<Record id=0>, <Record id=1>, <Record id=2>, <Record id=3>, <Record id=4>]\n"
     ]
    }
   ],
   "source": [
    "# INDEX QUERYS\n",
    "    \n",
    "try:\n",
    "    query = \"\"\"\n",
    "            MATCH (n) \n",
    "            WHERE head(Labels(n))='COUNTRIES' or head(Labels(n))='STYLE' \n",
    "            RETURN id(n) as id \n",
    "            LIMIT 5 \n",
    "        \"\"\"\n",
    "        #     RETURN distinct Labels (n) - to check\n",
    "    result = execute_read(driver, query)\n",
    "    pprint(result)\n",
    "except Exception as e:\n",
    "    pprint(e)"
   ]
  },
  {
   "cell_type": "code",
   "execution_count": 63,
   "metadata": {},
   "outputs": [
    {
     "name": "stdout",
     "output_type": "stream",
     "text": [
      "[<Record source='AD' target='American Blonde Ale' freq=2>,\n",
      " <Record source='AD' target='German Hefeweizen' freq=1>,\n",
      " <Record source='AD' target='English India Pale Ale (IPA)' freq=1>,\n",
      " <Record source='AD' target='Smoke Beer' freq=1>,\n",
      " <Record source='AD' target='German Doppelbock' freq=1>,\n",
      " <Record source='AG' target='American Pale Ale (APA)' freq=6>,\n",
      " <Record source='AG' target='Fruit and Field Beer' freq=4>,\n",
      " <Record source='AG' target='American Porter' freq=4>,\n",
      " <Record source='AG' target='American Light Lager' freq=4>,\n",
      " <Record source='AG' target='American Adjunct Lager' freq=4>,\n",
      " <Record source='AL' target='European Pale Lager' freq=8>,\n",
      " <Record source='AL' target='Bohemian Pilsener' freq=2>,\n",
      " <Record source='AL' target='American Amber / Red Lager' freq=1>,\n",
      " <Record source='AL' target='American Blonde Ale' freq=1>,\n",
      " <Record source='AL' target='German Maibock' freq=1>,\n",
      " <Record source='AM' target='European Pale Lager' freq=21>,\n",
      " <Record source='AM' target='Smoke Beer' freq=2>,\n",
      " <Record source='AM' target='Munich Dunkel Lager' freq=1>,\n",
      " <Record source='AM' target='Bohemian Pilsener' freq=1>,\n",
      " <Record source='AM' target='American Pale Ale (APA)' freq=1>,\n",
      " <Record source='AR' target='American IPA' freq=67>,\n",
      " <Record source='AR' target='American Pale Ale (APA)' freq=34>,\n",
      " <Record source='AR' target='Belgian Saison' freq=33>,\n",
      " <Record source='AR' target='American Amber / Red Ale' freq=25>,\n",
      " <Record source='AR' target='American Wild Ale' freq=25>,\n",
      " <Record source='AT' target='German Hefeweizen' freq=70>,\n",
      " <Record source='AT' target='German Märzen / Oktoberfest' freq=68>,\n",
      " <Record source='AT' target='European Pale Lager' freq=67>,\n",
      " <Record source='AT' target='German Pilsner' freq=63>,\n",
      " <Record source='AT' target='German Kellerbier / Zwickelbier' freq=61>,\n",
      " <Record source='AU' target='American IPA' freq=1893>,\n",
      " <Record source='AU' target='American Pale Ale (APA)' freq=1070>,\n",
      " <Record source='AU' target='American Imperial IPA' freq=867>,\n",
      " <Record source='AU' target='Belgian Saison' freq=770>,\n",
      " <Record source='AU' target='American Imperial Stout' freq=467>,\n",
      " <Record source='AW' target='American IPA' freq=25>,\n",
      " <Record source='AW' target='American Imperial IPA' freq=24>,\n",
      " <Record source='AW' target='American Pale Ale (APA)' freq=21>,\n",
      " <Record source='AW' target='American Porter' freq=12>,\n",
      " <Record source='AW' target='American Amber / Red Ale' freq=9>,\n",
      " <Record source='AZ' target='European Pale Lager' freq=9>,\n",
      " <Record source='AZ' target='European Dark Lager' freq=2>,\n",
      " <Record source='AZ' target='Bohemian Pilsener' freq=1>,\n",
      " <Record source='AZ' target='European Strong Lager' freq=1>,\n",
      " <Record source='AZ' target='European Export / Dortmunder' freq=1>,\n",
      " <Record source='BA' target='European Pale Lager' freq=7>,\n",
      " <Record source='BA' target='American IPA' freq=4>,\n",
      " <Record source='BA' target='European Dark Lager' freq=3>,\n",
      " <Record source='BA' target='American Stout' freq=2>,\n",
      " <Record source='BA' target='American Amber / Red Ale' freq=2>,\n",
      " <Record source='BB' target='English Sweet / Milk Stout' freq=3>,\n",
      " <Record source='BB' target='Fruit and Field Beer' freq=3>,\n",
      " <Record source='BB' target='American Lager' freq=2>,\n",
      " <Record source='BB' target='English Extra Special / Strong Bitter (ESB)' freq=2>,\n",
      " <Record source='BB' target='American Adjunct Lager' freq=2>,\n",
      " <Record source='BE' target='Belgian Pale Ale' freq=574>,\n",
      " <Record source='BE' target='Belgian Strong Pale Ale' freq=545>,\n",
      " <Record source='BE' target='Belgian Tripel' freq=501>,\n",
      " <Record source='BE' target='Belgian Strong Dark Ale' freq=480>,\n",
      " <Record source='BE' target='American IPA' freq=460>,\n",
      " <Record source='BG' target='European Pale Lager' freq=39>,\n",
      " <Record source='BG' target='Fruit and Field Beer' freq=10>,\n",
      " <Record source='BG' target='American IPA' freq=10>,\n",
      " <Record source='BG' target='American Pale Ale (APA)' freq=8>,\n",
      " <Record source='BG' target='American Adjunct Lager' freq=7>,\n",
      " <Record source='BM' target='American IPA' freq=50>,\n",
      " <Record source='BM' target='American Pale Ale (APA)' freq=27>,\n",
      " <Record source='BM' target='Belgian Saison' freq=22>,\n",
      " <Record source='BM' target='American Porter' freq=14>,\n",
      " <Record source='BM' target='American Wild Ale' freq=13>,\n",
      " <Record source='BO' target='American Adjunct Lager' freq=5>,\n",
      " <Record source='BO' target='Bohemian Pilsener' freq=2>,\n",
      " <Record source='BO' target='Munich Dunkel Lager' freq=2>,\n",
      " <Record source='BO' target='German Pilsner' freq=1>,\n",
      " <Record source='BO' target='English Stout' freq=1>,\n",
      " <Record source='BR' target='American IPA' freq=559>,\n",
      " <Record source='BR' target='American Pale Ale (APA)' freq=257>,\n",
      " <Record source='BR' target='American Imperial IPA' freq=186>,\n",
      " <Record source='BR' target='German Hefeweizen' freq=156>,\n",
      " <Record source='BR' target='American Porter' freq=154>,\n",
      " <Record source='BS' target='American IPA' freq=17>,\n",
      " <Record source='BS' target='American Porter' freq=8>,\n",
      " <Record source='BS' target='American Pale Ale (APA)' freq=8>,\n",
      " <Record source='BS' target='American Stout' freq=8>,\n",
      " <Record source='BS' target='American Amber / Red Ale' freq=6>,\n",
      " <Record source='BT' target='German Hefeweizen' freq=2>,\n",
      " <Record source='BT' target='American Adjunct Lager' freq=2>,\n",
      " <Record source='BT' target='American Amber / Red Ale' freq=1>,\n",
      " <Record source='BT' target='English Stout' freq=1>,\n",
      " <Record source='BT' target='American Lager' freq=1>,\n",
      " <Record source='BY' target='European Pale Lager' freq=37>,\n",
      " <Record source='BY' target='European Dark Lager' freq=7>,\n",
      " <Record source='BY' target='Baltic Porter' freq=6>,\n",
      " <Record source='BY' target='American Adjunct Lager' freq=4>,\n",
      " <Record source='BY' target='European Strong Lager' freq=4>,\n",
      " <Record source='BZ' target='American IPA' freq=13>,\n",
      " <Record source='BZ' target='Belgian Saison' freq=8>,\n",
      " <Record source='BZ' target='American Pale Ale (APA)' freq=6>,\n",
      " <Record source='BZ' target='American Blonde Ale' freq=5>,\n",
      " <Record source='BZ' target='German Hefeweizen' freq=5>,\n",
      " <Record source='CA' target='American IPA' freq=4107>,\n",
      " <Record source='CA' target='American Pale Ale (APA)' freq=2501>,\n",
      " <Record source='CA' target='Belgian Saison' freq=2224>,\n",
      " <Record source='CA' target='American Imperial IPA' freq=1655>,\n",
      " <Record source='CA' target='American Wild Ale' freq=1313>,\n",
      " <Record source='CH' target='American Wild Ale' freq=75>,\n",
      " <Record source='CH' target='European Pale Lager' freq=64>,\n",
      " <Record source='CH' target='Belgian Saison' freq=59>,\n",
      " <Record source='CH' target='American IPA' freq=55>,\n",
      " <Record source='CH' target='French Bière de Garde' freq=33>,\n",
      " <Record source='CL' target='American IPA' freq=60>,\n",
      " <Record source='CL' target='American Pale Ale (APA)' freq=53>,\n",
      " <Record source='CL' target='American Imperial IPA' freq=36>,\n",
      " <Record source='CL' target='American Amber / Red Ale' freq=29>,\n",
      " <Record source='CL' target='American Imperial Stout' freq=23>,\n",
      " <Record source='CN' target='American Adjunct Lager' freq=36>,\n",
      " <Record source='CN' target='European Pale Lager' freq=34>,\n",
      " <Record source='CN' target='American IPA' freq=21>,\n",
      " <Record source='CN' target='American Pale Ale (APA)' freq=19>,\n",
      " <Record source='CN' target='American Stout' freq=11>,\n",
      " <Record source='CO' target='American Adjunct Lager' freq=11>,\n",
      " <Record source='CO' target='Low Alcohol Beer' freq=6>,\n",
      " <Record source='CO' target='American Light Lager' freq=6>,\n",
      " <Record source='CO' target='Fruit and Field Beer' freq=5>,\n",
      " <Record source='CO' target='English Brown Ale' freq=5>,\n",
      " <Record source='CR' target='American IPA' freq=476>,\n",
      " <Record source='CR' target='American Pale Ale (APA)' freq=212>,\n",
      " <Record source='CR' target='Belgian Saison' freq=161>,\n",
      " <Record source='CR' target='American Porter' freq=133>,\n",
      " <Record source='CR' target='American Imperial IPA' freq=131>,\n",
      " <Record source='CU' target='American IPA' freq=369>,\n",
      " <Record source='CU' target='American Pale Ale (APA)' freq=166>,\n",
      " <Record source='CU' target='American Porter' freq=122>,\n",
      " <Record source='CU' target='American Amber / Red Ale' freq=107>,\n",
      " <Record source='CU' target='American Imperial IPA' freq=99>,\n",
      " <Record source='CW' target='Fruit and Field Beer' freq=2>,\n",
      " <Record source='CW' target='Belgian Witbier' freq=1>,\n",
      " <Record source='CW' target='American Blonde Ale' freq=1>,\n",
      " <Record source='CW' target='German Märzen / Oktoberfest' freq=1>,\n",
      " <Record source='CW' target='English Brown Ale' freq=1>,\n",
      " <Record source='CY' target='English Pale Ale' freq=5>,\n",
      " <Record source='CY' target='American Adjunct Lager' freq=4>,\n",
      " <Record source='CY' target='American IPA' freq=4>,\n",
      " <Record source='CY' target='German Pilsner' freq=2>,\n",
      " <Record source='CY' target='German Weizenbock' freq=2>,\n",
      " <Record source='CZ' target='American IPA' freq=428>,\n",
      " <Record source='CZ' target='Bohemian Pilsener' freq=381>,\n",
      " <Record source='CZ' target='American Pale Ale (APA)' freq=204>,\n",
      " <Record source='CZ' target='American Porter' freq=125>,\n",
      " <Record source='CZ' target='American Amber / Red Ale' freq=117>,\n",
      " <Record source='DE' target='German Pilsner' freq=860>,\n",
      " <Record source='DE' target='German Hefeweizen' freq=757>,\n",
      " <Record source='DE' target='German Helles' freq=510>,\n",
      " <Record source='DE' target='German Kellerbier / Zwickelbier' freq=463>,\n",
      " <Record source='DE' target='German Märzen / Oktoberfest' freq=406>,\n",
      " <Record source='DK' target='American IPA' freq=314>,\n",
      " <Record source='DK' target='American Imperial Stout' freq=218>,\n",
      " <Record source='DK' target='American Pale Ale (APA)' freq=183>,\n",
      " <Record source='DK' target='European Pale Lager' freq=117>,\n",
      " <Record source='DK' target='American Wild Ale' freq=116>,\n",
      " <Record source='DO' target='American Adjunct Lager' freq=4>,\n",
      " <Record source='DO' target='American Light Lager' freq=2>,\n",
      " <Record source='DO' target='Low Alcohol Beer' freq=1>,\n",
      " <Record source='DO' target='American Amber / Red Lager' freq=1>,\n",
      " <Record source='DO' target='Bohemian Pilsener' freq=1>,\n",
      " <Record source='DZ' target='European Pale Lager' freq=4>,\n",
      " <Record source='DZ' target='German Pilsner' freq=1>,\n",
      " <Record source='DZ' target='European Strong Lager' freq=1>,\n",
      " <Record source='DZ' target='European Dark Lager' freq=1>,\n",
      " <Record source='DZ' target='Munich Dunkel Lager' freq=1>,\n",
      " <Record source='EC' target='American Pale Ale (APA)' freq=11>,\n",
      " <Record source='EC' target='American IPA' freq=9>,\n",
      " <Record source='EC' target='American Stout' freq=8>,\n",
      " <Record source='EC' target='American Blonde Ale' freq=6>,\n",
      " <Record source='EC' target='American Amber / Red Ale' freq=5>,\n",
      " <Record source='EE' target='American IPA' freq=39>,\n",
      " <Record source='EE' target='American Imperial Stout' freq=28>,\n",
      " <Record source='EE' target='European Pale Lager' freq=22>,\n",
      " <Record source='EE' target='Baltic Porter' freq=20>,\n",
      " <Record source='EE' target='American Imperial IPA' freq=19>,\n",
      " <Record source='EG' target='European Strong Lager' freq=7>,\n",
      " <Record source='EG' target='European Pale Lager' freq=6>,\n",
      " <Record source='EG' target='American Malt Liquor' freq=3>,\n",
      " <Record source='EG' target='German Hefeweizen' freq=2>,\n",
      " <Record source='EG' target='German Pilsner' freq=2>,\n",
      " <Record source='ES' target='American IPA' freq=738>,\n",
      " <Record source='ES' target='American Pale Ale (APA)' freq=384>,\n",
      " <Record source='ES' target='American Imperial IPA' freq=234>,\n",
      " <Record source='ES' target='American Amber / Red Ale' freq=221>,\n",
      " <Record source='ES' target='American Porter' freq=187>,\n",
      " <Record source='ET' target='American IPA' freq=369>,\n",
      " <Record source='ET' target='American Pale Ale (APA)' freq=166>,\n",
      " <Record source='ET' target='American Porter' freq=122>,\n",
      " <Record source='ET' target='American Amber / Red Ale' freq=107>,\n",
      " <Record source='ET' target='American Imperial IPA' freq=99>,\n",
      " <Record source='FI' target='European Pale Lager' freq=69>,\n",
      " <Record source='FI' target='American IPA' freq=52>,\n",
      " <Record source='FI' target='American Pale Ale (APA)' freq=47>,\n",
      " <Record source='FI' target='German Hefeweizen' freq=27>,\n",
      " <Record source='FI' target='German Pilsner' freq=24>,\n",
      " <Record source='FJ' target='European Pale Lager' freq=5>,\n",
      " <Record source='FJ' target='English Bitter' freq=3>,\n",
      " <Record source='FJ' target='American Blonde Ale' freq=1>,\n",
      " <Record source='FJ' target='American Adjunct Lager' freq=1>,\n",
      " <Record source='FJ' target='American Malt Liquor' freq=1>,\n",
      " <Record source='FO' target='German Pilsner' freq=5>,\n",
      " <Record source='FO' target='European Pale Lager' freq=2>,\n",
      " <Record source='FO' target='American Amber / Red Ale' freq=1>,\n",
      " <Record source='FO' target='American Pale Ale (APA)' freq=1>,\n",
      " <Record source='FO' target='English Pale Ale' freq=1>,\n",
      " <Record source='FR' target='American IPA' freq=526>,\n",
      " <Record source='FR' target='Belgian Witbier' freq=299>,\n",
      " <Record source='FR' target='American Amber / Red Ale' freq=253>,\n",
      " <Record source='FR' target='American Pale Ale (APA)' freq=251>,\n",
      " <Record source='FR' target='French Bière de Garde' freq=250>,\n",
      " <Record source='GB' target='American IPA' freq=3435>,\n",
      " <Record source='GB' target='English Bitter' freq=2302>,\n",
      " <Record source='GB' target='American Pale Ale (APA)' freq=2072>,\n",
      " <Record source='GB' target='English Pale Ale' freq=1696>,\n",
      " <Record source='GB' target='American Imperial IPA' freq=1488>,\n",
      " <Record source='GD' target='American Amber / Red Ale' freq=2>,\n",
      " <Record source='GD' target='American IPA' freq=2>,\n",
      " <Record source='GD' target='Belgian Witbier' freq=1>,\n",
      " <Record source='GD' target='American Blonde Ale' freq=1>,\n",
      " <Record source='GD' target='Belgian Tripel' freq=1>,\n",
      " <Record source='GE' target='European Pale Lager' freq=37>,\n",
      " <Record source='GE' target='European Dark Lager' freq=3>,\n",
      " <Record source='GE' target='German Kellerbier / Zwickelbier' freq=3>,\n",
      " <Record source='GE' target='European Strong Lager' freq=2>,\n",
      " <Record source='GE' target='German Hefeweizen' freq=2>,\n",
      " <Record source='GG' target='English Bitter' freq=4>,\n",
      " <Record source='GG' target='Winter Warmer' freq=1>,\n",
      " <Record source='GG' target='English Stout' freq=1>,\n",
      " <Record source='GG' target='American Adjunct Lager' freq=1>,\n",
      " <Record source='GG' target='English Dark Mild Ale' freq=1>,\n",
      " <Record source='GH' target='European Pale Lager' freq=5>,\n",
      " <Record source='GH' target='American Adjunct Lager' freq=2>,\n",
      " <Record source='GH' target='Foreign / Export Stout' freq=1>,\n",
      " <Record source='GH' target='Herb and Spice Beer' freq=1>,\n",
      " <Record source='GH' target='Fruit and Field Beer' freq=1>,\n",
      " <Record source='GL' target='German Pilsner' freq=2>,\n",
      " <Record source='GL' target='American Amber / Red Lager' freq=2>,\n",
      " <Record source='GL' target='European Pale Lager' freq=2>,\n",
      " <Record source='GL' target='Herb and Spice Beer' freq=2>,\n",
      " <Record source='GL' target='German Hefeweizen' freq=1>,\n",
      " <Record source='GR' target='American IPA' freq=142>,\n",
      " <Record source='GR' target='American Imperial Stout' freq=90>,\n",
      " <Record source='GR' target='Belgian Saison' freq=77>,\n",
      " <Record source='GR' target='American Wild Ale' freq=76>,\n",
      " <Record source='GR' target='Berliner Weisse' freq=72>,\n",
      " <Record source='GT' target='American Adjunct Lager' freq=17>,\n",
      " <Record source='GT' target='American Light Lager' freq=6>,\n",
      " <Record source='GT' target='European Pale Lager' freq=2>,\n",
      " <Record source='GT' target='European Dark Lager' freq=2>,\n",
      " <Record source='GT' target='German Bock' freq=2>,\n",
      " <Record source='GU' target='American IPA' freq=3>,\n",
      " <Record source='GU' target='American Pale Ale (APA)' freq=2>,\n",
      " <Record source='GU' target='Fruit and Field Beer' freq=2>,\n",
      " <Record source='GU' target='American Imperial IPA' freq=1>,\n",
      " <Record source='GU' target='English Sweet / Milk Stout' freq=1>,\n",
      " <Record source='HK' target='American IPA' freq=16>,\n",
      " <Record source='HK' target='American Pale Ale (APA)' freq=8>,\n",
      " <Record source='HK' target='Belgian Witbier' freq=5>,\n",
      " <Record source='HK' target='American Wild Ale' freq=5>,\n",
      " <Record source='HK' target='Belgian Saison' freq=4>,\n",
      " <Record source='HN' target='American Stout' freq=3>,\n",
      " <Record source='HN' target='American Adjunct Lager' freq=3>,\n",
      " <Record source='HN' target='English Porter' freq=1>,\n",
      " <Record source='HN' target='American Pale Ale (APA)' freq=1>,\n",
      " <Record source='HN' target='Irish Red Ale' freq=1>,\n",
      " <Record source='HR' target='Fruit and Field Beer' freq=14>,\n",
      " <Record source='HR' target='European Pale Lager' freq=11>,\n",
      " <Record source='HR' target='American Pale Ale (APA)' freq=11>,\n",
      " <Record source='HR' target='American IPA' freq=9>,\n",
      " <Record source='HR' target='European Dark Lager' freq=7>,\n",
      " <Record source='HU' target='American IPA' freq=65>,\n",
      " <Record source='HU' target='European Pale Lager' freq=42>,\n",
      " <Record source='HU' target='Fruit and Field Beer' freq=42>,\n",
      " <Record source='HU' target='American Pale Ale (APA)' freq=35>,\n",
      " <Record source='HU' target='American Imperial IPA' freq=19>,\n",
      " <Record source='ID' target='English Stout' freq=3>,\n",
      " <Record source='ID' target='German Pilsner' freq=3>,\n",
      " <Record source='ID' target='European Pale Lager' freq=2>,\n",
      " <Record source='ID' target='American Lager' freq=2>,\n",
      " <Record source='ID' target='American Adjunct Lager' freq=2>,\n",
      " <Record source='IE' target='American IPA' freq=518>,\n",
      " <Record source='IE' target='American Pale Ale (APA)' freq=254>,\n",
      " <Record source='IE' target='American Amber / Red Ale' freq=145>,\n",
      " <Record source='IE' target='American Porter' freq=140>,\n",
      " <Record source='IE' target='American Imperial IPA' freq=137>,\n",
      " <Record source='IL' target='American IPA' freq=21>,\n",
      " <Record source='IL' target='American Pale Ale (APA)' freq=10>,\n",
      " <Record source='IL' target='German Hefeweizen' freq=9>,\n",
      " <Record source='IL' target='Belgian Witbier' freq=7>,\n",
      " <Record source='IL' target='European Pale Lager' freq=6>,\n",
      " <Record source='IM' target='American Stout' freq=22>,\n",
      " <Record source='IM' target='American IPA' freq=15>,\n",
      " <Record source='IM' target='English Bitter' freq=12>,\n",
      " <Record source='IM' target='American Pale Ale (APA)' freq=12>,\n",
      " <Record source='IM' target='American Pale Wheat Ale' freq=10>,\n",
      " <Record source='IN' target='American Adjunct Lager' freq=29>,\n",
      " <Record source='IN' target='European Pale Lager' freq=12>,\n",
      " <Record source='IN' target='European Strong Lager' freq=11>,\n",
      " <Record source='IN' target='American Malt Liquor' freq=9>,\n",
      " <Record source='IN' target='Belgian Witbier' freq=9>,\n",
      " <Record source='IS' target='American IPA' freq=19>,\n",
      " <Record source='IS' target='American Imperial Stout' freq=17>,\n",
      " <Record source='IS' target='American Pale Ale (APA)' freq=14>,\n",
      " <Record source='IS' target='European Pale Lager' freq=12>,\n",
      " <Record source='IS' target='Fruit and Field Beer' freq=8>,\n",
      " <Record source='IT' target='American IPA' freq=538>,\n",
      " <Record source='IT' target='American Pale Ale (APA)' freq=322>,\n",
      " <Record source='IT' target='Belgian Saison' freq=201>,\n",
      " <Record source='IT' target='American Amber / Red Ale' freq=185>,\n",
      " <Record source='IT' target='Belgian Witbier' freq=170>,\n",
      " <Record source='JE' target='German Maibock' freq=8>,\n",
      " <Record source='JE' target='German Eisbock' freq=8>,\n",
      " <Record source='JE' target='English Pale Ale' freq=7>,\n",
      " <Record source='JE' target='English India Pale Ale (IPA)' freq=3>,\n",
      " <Record source='JE' target='German Kellerbier / Zwickelbier' freq=3>,\n",
      " <Record source='JM' target='American IPA' freq=34>,\n",
      " <Record source='JM' target='American Pale Ale (APA)' freq=26>,\n",
      " <Record source='JM' target='Belgian Saison' freq=23>,\n",
      " <Record source='JM' target='American Imperial IPA' freq=15>,\n",
      " <Record source='JM' target='American Wild Ale' freq=14>,\n",
      " <Record source='JO' target='American Malt Liquor' freq=2>,\n",
      " <Record source='JO' target='American Adjunct Lager' freq=2>,\n",
      " <Record source='JO' target='Winter Warmer' freq=2>,\n",
      " <Record source='JO' target='American Porter' freq=1>,\n",
      " <Record source='JO' target='English Pale Ale' freq=1>,\n",
      " <Record source='JP' target='Japanese Happoshu' freq=117>,\n",
      " <Record source='JP' target='American IPA' freq=99>,\n",
      " <Record source='JP' target='Fruit and Field Beer' freq=91>,\n",
      " <Record source='JP' target='American Pale Ale (APA)' freq=84>,\n",
      " <Record source='JP' target='German Hefeweizen' freq=81>,\n",
      " <Record source='KE' target='European Pale Lager' freq=7>,\n",
      " <Record source='KE' target='German Märzen / Oktoberfest' freq=4>,\n",
      " <Record source='KE' target='English Stout' freq=3>,\n",
      " <Record source='KE' target='German Pilsner' freq=3>,\n",
      " <Record source='KE' target='American Light Lager' freq=3>,\n",
      " <Record source='KG' target='European Pale Lager' freq=14>,\n",
      " <Record source='KG' target='American Pale Wheat Ale' freq=1>,\n",
      " <Record source='KG' target='European Dark Lager' freq=1>,\n",
      " <Record source='KG' target='American Lager' freq=1>,\n",
      " <Record source='KG' target='Irish Red Ale' freq=1>,\n",
      " <Record source='KH' target='American IPA' freq=9>,\n",
      " <Record source='KH' target='European Pale Lager' freq=9>,\n",
      " <Record source='KH' target='Foreign / Export Stout' freq=8>,\n",
      " <Record source='KH' target='Belgian Witbier' freq=7>,\n",
      " <Record source='KH' target='American Adjunct Lager' freq=6>,\n",
      " <Record source='KP' target='European Pale Lager' freq=9>,\n",
      " <Record source='KP' target='German Schwarzbier' freq=2>,\n",
      " <Record source='KP' target='European Dark Lager' freq=1>,\n",
      " <Record source='KP' target='Belgian Witbier' freq=1>,\n",
      " <Record source='KP' target='German Hefeweizen' freq=1>,\n",
      " <Record source='KR' target='American Pale Ale (APA)' freq=36>,\n",
      " <Record source='KR' target='American IPA' freq=35>,\n",
      " <Record source='KR' target='American Stout' freq=14>,\n",
      " <Record source='KR' target='American Adjunct Lager' freq=12>,\n",
      " <Record source='KR' target='American Lager' freq=10>,\n",
      " <Record source='KY' target='American IPA' freq=378>,\n",
      " <Record source='KY' target='American Pale Ale (APA)' freq=171>,\n",
      " <Record source='KY' target='American Porter' freq=127>,\n",
      " <Record source='KY' target='American Amber / Red Ale' freq=112>,\n",
      " <Record source='KY' target='American Stout' freq=100>,\n",
      " <Record source='KZ' target='European Pale Lager' freq=27>,\n",
      " <Record source='KZ' target='Bohemian Pilsener' freq=5>,\n",
      " <Record source='KZ' target='European Dark Lager' freq=3>,\n",
      " <Record source='KZ' target='European Strong Lager' freq=3>,\n",
      " <Record source='KZ' target='German Hefeweizen' freq=2>,\n",
      " <Record source='LA' target='American Adjunct Lager' freq=5>,\n",
      " <Record source='LA' target='American Lager' freq=2>,\n",
      " <Record source='LA' target='Herb and Spice Beer' freq=2>,\n",
      " <Record source='LA' target='Vienna Lager' freq=1>,\n",
      " <Record source='LA' target='Belgian Witbier' freq=1>,\n",
      " <Record source='LB' target='Low Alcohol Beer' freq=6>,\n",
      " <Record source='LB' target='German Pilsner' freq=4>,\n",
      " <Record source='LB' target='European Pale Lager' freq=2>,\n",
      " <Record source='LB' target='Bohemian Pilsener' freq=2>,\n",
      " <Record source='LB' target='American Amber / Red Ale' freq=1>,\n",
      " <Record source='LC' target='Fruit and Field Beer' freq=2>,\n",
      " <Record source='LC' target='English Pale Ale' freq=1>,\n",
      " <Record source='LC' target='German Pilsner' freq=1>,\n",
      " <Record source='LC' target='Munich Dunkel Lager' freq=1>,\n",
      " <Record source='LC' target='American Amber / Red Ale' freq=1>,\n",
      " <Record source='LI' target='European Pale Lager' freq=4>,\n",
      " <Record source='LI' target='German Hefeweizen' freq=2>,\n",
      " <Record source='LI' target='Munich Dunkel Lager' freq=1>,\n",
      " <Record source='LI' target='English Sweet / Milk Stout' freq=1>,\n",
      " <Record source='LI' target='German Maibock' freq=1>,\n",
      " <Record source='LK' target='American Malt Liquor' freq=4>,\n",
      " <Record source='LK' target='European Strong Lager' freq=4>,\n",
      " <Record source='LK' target='Foreign / Export Stout' freq=3>,\n",
      " <Record source='LK' target='European Pale Lager' freq=3>,\n",
      " <Record source='LK' target='American Adjunct Lager' freq=2>,\n",
      " <Record source='LR' target='Belgian Strong Dark Ale' freq=12>,\n",
      " <Record source='LR' target='American IPA' freq=10>,\n",
      " <Record source='LR' target='American Pale Ale (APA)' freq=8>,\n",
      " <Record source='LR' target='American Stout' freq=6>,\n",
      " <Record source='LR' target='American Strong Ale' freq=5>,\n",
      " <Record source='LT' target='American IPA' freq=384>,\n",
      " <Record source='LT' target='American Pale Ale (APA)' freq=179>,\n",
      " <Record source='LT' target='European Pale Lager' freq=150>,\n",
      " <Record source='LT' target='Belgian Saison' freq=126>,\n",
      " <Record source='LT' target='American Porter' freq=122>,\n",
      " <Record source='LU' target='European Pale Lager' freq=12>,\n",
      " <Record source='LU' target='German Pilsner' freq=5>,\n",
      " <Record source='LU' target='Belgian Witbier' freq=5>,\n",
      " <Record source='LU' target='Munich Dunkel Lager' freq=3>,\n",
      " <Record source='LU' target='German Hefeweizen' freq=3>,\n",
      " <Record source='LV' target='European Pale Lager' freq=54>,\n",
      " <Record source='LV' target='American Pale Ale (APA)' freq=11>,\n",
      " <Record source='LV' target='American IPA' freq=11>,\n",
      " <Record source='LV' target='Russian Kvass' freq=8>,\n",
      " <Record source='LV' target='Belgian Saison' freq=8>,\n",
      " <Record source='MC' target='German Pilsner' freq=2>,\n",
      " <Record source='MC' target='Herb and Spice Beer' freq=1>,\n",
      " <Record source='MC' target='Belgian Witbier' freq=1>,\n",
      " <Record source='MC' target='Fruit and Field Beer' freq=1>,\n",
      " <Record source='MC' target='Belgian Pale Ale' freq=1>,\n",
      " <Record source='MD' target='European Pale Lager' freq=10>,\n",
      " <Record source='MD' target='American IPA' freq=6>,\n",
      " <Record source='MD' target='Russian Kvass' freq=3>,\n",
      " <Record source='MD' target='American Wild Ale' freq=2>,\n",
      " <Record source='MD' target='American Pale Ale (APA)' freq=2>,\n",
      " <Record source='ME' target='European Pale Lager' freq=4>,\n",
      " <Record source='ME' target='American IPA' freq=1>,\n",
      " <Record source='ME' target='German Hefeweizen' freq=1>,\n",
      " <Record source='ME' target='European Dark Lager' freq=1>,\n",
      " <Record source='ME' target='German Märzen / Oktoberfest' freq=1>,\n",
      " <Record source='MG' target='Low Alcohol Beer' freq=2>,\n",
      " <Record source='MG' target='American Imperial Pilsner' freq=2>,\n",
      " <Record source='MG' target='American Amber / Red Lager' freq=2>,\n",
      " <Record source='MG' target='Belgian Witbier' freq=1>,\n",
      " <Record source='MG' target='American Amber / Red Ale' freq=1>,\n",
      " <Record source='MK' target='European Pale Lager' freq=7>,\n",
      " <Record source='MK' target='German Pilsner' freq=3>,\n",
      " <Record source='MK' target='European Dark Lager' freq=3>,\n",
      " <Record source='MK' target='German Rauchbier' freq=2>,\n",
      " <Record source='MK' target='Fruit and Field Beer' freq=1>,\n",
      " <Record source='MM' target='American Adjunct Lager' freq=5>,\n",
      " <Record source='MM' target='European Strong Lager' freq=2>,\n",
      " <Record source='MM' target='English Strong Ale' freq=1>,\n",
      " <Record source='MM' target='Herb and Spice Beer' freq=1>,\n",
      " <Record source='MM' target='Foreign / Export Stout' freq=1>,\n",
      " <Record source='MN' target='Munich Dunkel Lager' freq=4>,\n",
      " <Record source='MN' target='European Pale Lager' freq=4>,\n",
      " <Record source='MN' target='Vienna Lager' freq=2>,\n",
      " <Record source='MN' target='German Pilsner' freq=2>,\n",
      " <Record source='MN' target='German Kellerbier / Zwickelbier' freq=2>,\n",
      " <Record source='MQ' target='American Light Lager' freq=1>,\n",
      " <Record source='MQ' target='English Porter' freq=1>,\n",
      " <Record source='MQ' target='German Hefeweizen' freq=1>,\n",
      " <Record source='MQ' target='American Pale Wheat Ale' freq=1>,\n",
      " <Record source='MQ' target='American Amber / Red Ale' freq=1>,\n",
      " <Record source='MT' target='American Blonde Ale' freq=3>,\n",
      " <Record source='MT' target='European Pale Lager' freq=3>,\n",
      " <Record source='MT' target='English Pale Ale' freq=3>,\n",
      " <Record source='MT' target='English Bitter' freq=2>,\n",
      " <Record source='MT' target='English Strong Ale' freq=2>,\n",
      " <Record source='MU' target='American IPA' freq=6>,\n",
      " <Record source='MU' target='American Blonde Ale' freq=4>,\n",
      " <Record source='MU' target='European Strong Lager' freq=2>,\n",
      " <Record source='MU' target='European Pale Lager' freq=2>,\n",
      " <Record source='MU' target='American Lager' freq=2>,\n",
      " <Record source='MX' target='American IPA' freq=79>,\n",
      " <Record source='MX' target='American Pale Ale (APA)' freq=43>,\n",
      " <Record source='MX' target='American Blonde Ale' freq=43>,\n",
      " <Record source='MX' target='American Adjunct Lager' freq=40>,\n",
      " <Record source='MX' target='American Amber / Red Ale' freq=37>,\n",
      " <Record source='MY' target='European Pale Lager' freq=3>,\n",
      " <Record source='MY' target='Belgian Witbier' freq=1>,\n",
      " <Record source='MY' target='European Dark Lager' freq=1>,\n",
      " <Record source='MY' target='American Adjunct Lager' freq=1>,\n",
      " <Record source='MY' target='Foreign / Export Stout' freq=1>,\n",
      " <Record source='NG' target='European Pale Lager' freq=3>,\n",
      " <Record source='NG' target='American Adjunct Lager' freq=3>,\n",
      " <Record source='NG' target='Foreign / Export Stout' freq=1>,\n",
      " <Record source='NG' target='Low Alcohol Beer' freq=1>,\n",
      " <Record source='NG' target='European Dark Lager' freq=1>,\n",
      " <Record source='NI' target='American Blonde Ale' freq=4>,\n",
      " <Record source='NI' target='American Stout' freq=3>,\n",
      " <Record source='NI' target='American IPA' freq=3>,\n",
      " <Record source='NI' target='American Light Lager' freq=3>,\n",
      " <Record source='NI' target='European Pale Lager' freq=3>,\n",
      " <Record source='NL' target='American IPA' freq=249>,\n",
      " <Record source='NL' target='Russian Imperial Stout' freq=230>,\n",
      " <Record source='NL' target='American Imperial Stout' freq=171>,\n",
      " <Record source='NL' target='Belgian Saison' freq=148>,\n",
      " <Record source='NL' target='Belgian Tripel' freq=141>,\n",
      " <Record source='NO' target='American IPA' freq=117>,\n",
      " <Record source='NO' target='American Pale Ale (APA)' freq=71>,\n",
      " <Record source='NO' target='Belgian Saison' freq=60>,\n",
      " <Record source='NO' target='American Amber / Red Ale' freq=36>,\n",
      " <Record source='NO' target='American Imperial Stout' freq=33>,\n",
      " <Record source='NP' target='European Pale Lager' freq=8>,\n",
      " <Record source='NP' target='American Malt Liquor' freq=6>,\n",
      " <Record source='NP' target='American Lager' freq=2>,\n",
      " <Record source='NP' target='American Light Lager' freq=2>,\n",
      " <Record source='NP' target='American Adjunct Lager' freq=2>,\n",
      " <Record source='NZ' target='American IPA' freq=886>,\n",
      " <Record source='NZ' target='American Imperial IPA' freq=427>,\n",
      " <Record source='NZ' target='American Pale Ale (APA)' freq=383>,\n",
      " <Record source='NZ' target='Belgian Saison' freq=330>,\n",
      " <Record source='NZ' target='American Imperial Stout' freq=250>,\n",
      " <Record source='PA' target='American IPA' freq=11>,\n",
      " <Record source='PA' target='American Amber / Red Ale' freq=10>,\n",
      " <Record source='PA' target='American Pale Ale (APA)' freq=9>,\n",
      " <Record source='PA' target='American Adjunct Lager' freq=9>,\n",
      " <Record source='PA' target='American Pale Wheat Ale' freq=7>,\n",
      " <Record source='PE' target='American IPA' freq=10>,\n",
      " <Record source='PE' target='American Pale Ale (APA)' freq=8>,\n",
      " <Record source='PE' target='American Amber / Red Ale' freq=7>,\n",
      " <Record source='PE' target='American Adjunct Lager' freq=6>,\n",
      " <Record source='PE' target='Belgian Saison' freq=5>,\n",
      " <Record source='PF' target='European Pale Lager' freq=3>,\n",
      " <Record source='PF' target='American Adjunct Lager' freq=1>,\n",
      " <Record source='PF' target='American Amber / Red Lager' freq=1>,\n",
      " <Record source='PF' target='American Blonde Ale' freq=1>,\n",
      " <Record source='PF' target='Belgian Witbier' freq=1>,\n",
      " <Record source='PH' target='American IPA' freq=164>,\n",
      " <Record source='PH' target='American Pale Ale (APA)' freq=102>,\n",
      " <Record source='PH' target='Belgian Saison' freq=87>,\n",
      " <Record source='PH' target='American Imperial IPA' freq=63>,\n",
      " <Record source='PH' target='American Wild Ale' freq=53>,\n",
      " <Record source='PL' target='European Pale Lager' freq=220>,\n",
      " <Record source='PL' target='American IPA' freq=218>,\n",
      " <Record source='PL' target='American Pale Ale (APA)' freq=103>,\n",
      " <Record source='PL' target='Fruit and Field Beer' freq=78>,\n",
      " <Record source='PL' target='European Strong Lager' freq=77>,\n",
      " <Record source='PR' target='American IPA' freq=10>,\n",
      " <Record source='PR' target='American Amber / Red Ale' freq=7>,\n",
      " <Record source='PR' target='American Pale Ale (APA)' freq=7>,\n",
      " <Record source='PR' target='American Blonde Ale' freq=6>,\n",
      " <Record source='PR' target='Fruit and Field Beer' freq=5>,\n",
      " <Record source='PS' target='German Pilsner' freq=3>,\n",
      " <Record source='PS' target='Belgian Witbier' freq=3>,\n",
      " <Record source='PS' target='German Altbier' freq=2>,\n",
      " <Record source='PS' target='English Stout' freq=1>,\n",
      " <Record source='PS' target='Winter Warmer' freq=1>,\n",
      " <Record source='PT' target='American IPA' freq=30>,\n",
      " <Record source='PT' target='German Hefeweizen' freq=18>,\n",
      " <Record source='PT' target='American Pale Ale (APA)' freq=18>,\n",
      " <Record source='PT' target='Belgian Saison' freq=13>,\n",
      " <Record source='PT' target='American Imperial Stout' freq=12>,\n",
      " <Record source='PW' target='American Stout' freq=1>,\n",
      " <Record source='PW' target='American Blonde Ale' freq=1>,\n",
      " <Record source='PW' target='British Barleywine' freq=1>,\n",
      " <Record source='PW' target='Irish Dry Stout' freq=1>,\n",
      " <Record source='PW' target='American Amber / Red Ale' freq=1>,\n",
      " <Record source='RE' target='Fruit and Field Beer' freq=9>,\n",
      " <Record source='RE' target='American Amber / Red Ale' freq=5>,\n",
      " <Record source='RE' target='Belgian Witbier' freq=5>,\n",
      " <Record source='RE' target='Herb and Spice Beer' freq=4>,\n",
      " <Record source='RE' target='American Blonde Ale' freq=3>,\n",
      " <Record source='RO' target='European Pale Lager' freq=69>,\n",
      " <Record source='RO' target='American IPA' freq=65>,\n",
      " <Record source='RO' target='American Pale Ale (APA)' freq=20>,\n",
      " <Record source='RO' target='Fruit and Field Beer' freq=17>,\n",
      " <Record source='RO' target='German Pilsner' freq=16>,\n",
      " <Record source='RS' target='American IPA' freq=25>,\n",
      " <Record source='RS' target='American Pale Ale (APA)' freq=22>,\n",
      " <Record source='RS' target='European Pale Lager' freq=21>,\n",
      " <Record source='RS' target='Fruit and Field Beer' freq=10>,\n",
      " <Record source='RS' target='German Pilsner' freq=7>,\n",
      " <Record source='RU' target='American IPA' freq=605>,\n",
      " <Record source='RU' target='European Pale Lager' freq=561>,\n",
      " <Record source='RU' target='American Pale Ale (APA)' freq=273>,\n",
      " <Record source='RU' target='American Imperial IPA' freq=203>,\n",
      " <Record source='RU' target='American Porter' freq=159>,\n",
      " <Record source='SE' target='American IPA' freq=323>,\n",
      " <Record source='SE' target='American Pale Ale (APA)' freq=260>,\n",
      " <Record source='SE' target='European Pale Lager' freq=236>,\n",
      " <Record source='SE' target='Belgian Saison' freq=155>,\n",
      " <Record source='SE' target='American Imperial Stout' freq=134>,\n",
      " <Record source='SG' target='American IPA' freq=374>,\n",
      " <Record source='SG' target='American Pale Ale (APA)' freq=172>,\n",
      " <Record source='SG' target='American Porter' freq=123>,\n",
      " <Record source='SG' target='American Amber / Red Ale' freq=109>,\n",
      " <Record source='SG' target='American Imperial IPA' freq=100>,\n",
      " <Record source='SI' target='European Pale Lager' freq=13>,\n",
      " <Record source='SI' target='American IPA' freq=12>,\n",
      " <Record source='SI' target='Fruit and Field Beer' freq=6>,\n",
      " <Record source='SI' target='American Pale Ale (APA)' freq=5>,\n",
      " <Record source='SI' target='English Pale Ale' freq=5>,\n",
      " <Record source='SK' target='Bohemian Pilsener' freq=18>,\n",
      " <Record source='SK' target='European Pale Lager' freq=14>,\n",
      " <Record source='SK' target='American IPA' freq=14>,\n",
      " <Record source='SK' target='European Dark Lager' freq=12>,\n",
      " <Record source='SK' target='American Pale Ale (APA)' freq=4>,\n",
      " <Record source='SM' target='German Pilsner' freq=2>,\n",
      " <Record source='SM' target='German Kellerbier / Zwickelbier' freq=1>,\n",
      " <Record source='SM' target='German Hefeweizen' freq=1>,\n",
      " <Record source='SM' target='European Pale Lager' freq=1>,\n",
      " <Record source='SM' target='English Pale Ale' freq=1>,\n",
      " <Record source='SV' target='American Light Lager' freq=14>,\n",
      " <Record source='SV' target='American Adjunct Lager' freq=13>,\n",
      " <Record source='SV' target='American Pale Wheat Ale' freq=2>,\n",
      " <Record source='SV' target='American Lager' freq=1>,\n",
      " <Record source='SV' target='Belgian Witbier' freq=1>,\n",
      " <Record source='SX' target='Belgian Saison' freq=3>,\n",
      " <Record source='SX' target='American Amber / Red Ale' freq=2>,\n",
      " <Record source='SX' target='German Hefeweizen' freq=1>,\n",
      " <Record source='SX' target='English Bitter' freq=1>,\n",
      " <Record source='SX' target='American Barleywine' freq=1>,\n",
      " <Record source='SY' target='German Hefeweizen' freq=2>,\n",
      " <Record source='SY' target='American IPA' freq=2>,\n",
      " <Record source='SY' target='European Pale Lager' freq=1>,\n",
      " <Record source='SY' target='American Adjunct Lager' freq=1>,\n",
      " <Record source='SY' target='American Porter' freq=1>,\n",
      " <Record source='TC' target='American Adjunct Lager' freq=3>,\n",
      " <Record source='TC' target='American Amber / Red Lager' freq=2>,\n",
      " <Record source='TC' target='English India Pale Ale (IPA)' freq=2>,\n",
      " <Record source='TC' target='Foreign / Export Stout' freq=1>,\n",
      " <Record source='TC' target='German Hefeweizen' freq=1>,\n",
      " <Record source='TH' target='American Adjunct Lager' freq=12>,\n",
      " <Record source='TH' target='European Pale Lager' freq=7>,\n",
      " <Record source='TH' target='American Lager' freq=6>,\n",
      " <Record source='TH' target='American IPA' freq=5>,\n",
      " <Record source='TH' target='German Hefeweizen' freq=5>,\n",
      " <Record source='TN' target='German Hefeweizen' freq=3>,\n",
      " <Record source='TN' target='Munich Dunkel Lager' freq=3>,\n",
      " <Record source='TN' target='German Helles' freq=3>,\n",
      " <Record source='TN' target='Low Alcohol Beer' freq=1>,\n",
      " <Record source='TN' target='European Pale Lager' freq=1>,\n",
      " <Record source='TR' target='European Pale Lager' freq=17>,\n",
      " <Record source='TR' target='European Strong Lager' freq=5>,\n",
      " <Record source='TR' target='German Pilsner' freq=5>,\n",
      " <Record source='TR' target='German Hefeweizen' freq=5>,\n",
      " <Record source='TR' target='American IPA' freq=4>,\n",
      " <Record source='TT' target='Herb and Spice Beer' freq=5>,\n",
      " <Record source='TT' target='American Adjunct Lager' freq=4>,\n",
      " <Record source='TT' target='English Sweet / Milk Stout' freq=3>,\n",
      " <Record source='TT' target='Low Alcohol Beer' freq=2>,\n",
      " <Record source='TT' target='Bohemian Pilsener' freq=1>,\n",
      " <Record source='TW' target='Fruit and Field Beer' freq=15>,\n",
      " <Record source='TW' target='German Hefeweizen' freq=8>,\n",
      " <Record source='TW' target='American Adjunct Lager' freq=7>,\n",
      " <Record source='TW' target='American Pale Ale (APA)' freq=4>,\n",
      " <Record source='TW' target='German Pilsner' freq=3>,\n",
      " <Record source='TZ' target='European Pale Lager' freq=5>,\n",
      " <Record source='TZ' target='American Adjunct Lager' freq=3>,\n",
      " <Record source='TZ' target='English Stout' freq=1>,\n",
      " <Record source='TZ' target='English Pale Ale' freq=1>,\n",
      " <Record source='TZ' target='European Strong Lager' freq=1>,\n",
      " <Record source='UA' target='American IPA' freq=383>,\n",
      " <Record source='UA' target='American Pale Ale (APA)' freq=179>,\n",
      " <Record source='UA' target='American Porter' freq=127>,\n",
      " <Record source='UA' target='American Amber / Red Ale' freq=117>,\n",
      " <Record source='UA' target='Belgian Saison' freq=108>,\n",
      " <Record source='UG' target='European Pale Lager' freq=5>,\n",
      " <Record source='UG' target='American Adjunct Lager' freq=4>,\n",
      " <Record source='UG' target='European Strong Lager' freq=1>,\n",
      " <Record source='UG' target='American Lager' freq=1>,\n",
      " <Record source='UG' target='English Sweet / Milk Stout' freq=1>,\n",
      " <Record source='US' target='American IPA' freq=38566>,\n",
      " <Record source='US' target='American Pale Ale (APA)' freq=17929>,\n",
      " <Record source='US' target='American Imperial IPA' freq=16417>,\n",
      " <Record source='US' target='Belgian Saison' freq=15182>,\n",
      " <Record source='US' target='American Wild Ale' freq=11416>,\n",
      " <Record source='UY' target='American IPA' freq=17>,\n",
      " <Record source='UY' target='American Blonde Ale' freq=13>,\n",
      " <Record source='UY' target='American Porter' freq=9>,\n",
      " <Record source='UY' target='American Amber / Red Ale' freq=8>,\n",
      " <Record source='UY' target='American Pale Ale (APA)' freq=8>,\n",
      " <Record source='UZ' target='European Pale Lager' freq=18>,\n",
      " <Record source='UZ' target='German Pilsner' freq=2>,\n",
      " <Record source='UZ' target='European Dark Lager' freq=2>,\n",
      " <Record source='UZ' target='American Lager' freq=2>,\n",
      " <Record source='UZ' target='American Light Lager' freq=1>,\n",
      " <Record source='VE' target='American IPA' freq=18>,\n",
      " <Record source='VE' target='American Amber / Red Ale' freq=12>,\n",
      " <Record source='VE' target='American Imperial IPA' freq=6>,\n",
      " <Record source='VE' target='German Pilsner' freq=5>,\n",
      " <Record source='VE' target='American Blonde Ale' freq=4>,\n",
      " <Record source='VI' target='American IPA' freq=6>,\n",
      " <Record source='VI' target='American Pale Ale (APA)' freq=6>,\n",
      " <Record source='VI' target='Fruit and Field Beer' freq=6>,\n",
      " <Record source='VI' target='American Porter' freq=4>,\n",
      " <Record source='VI' target='Irish Red Ale' freq=3>,\n",
      " <Record source='VN' target='American IPA' freq=20>,\n",
      " <Record source='VN' target='American Adjunct Lager' freq=12>,\n",
      " <Record source='VN' target='Bohemian Pilsener' freq=11>,\n",
      " <Record source='VN' target='American Amber / Red Ale' freq=11>,\n",
      " <Record source='VN' target='American Pale Ale (APA)' freq=11>,\n",
      " <Record source='VU' target='European Pale Lager' freq=4>,\n",
      " <Record source='VU' target='English Porter' freq=2>,\n",
      " <Record source='VU' target='English Bitter' freq=1>,\n",
      " <Record source='VU' target='American Blonde Ale' freq=1>,\n",
      " <Record source='VU' target='American Lager' freq=1>,\n",
      " <Record source='ZA' target='American IPA' freq=26>,\n",
      " <Record source='ZA' target='American Pale Ale (APA)' freq=20>,\n",
      " <Record source='ZA' target='European Pale Lager' freq=19>,\n",
      " <Record source='ZA' target='American Blonde Ale' freq=17>,\n",
      " <Record source='ZA' target='American Amber / Red Ale' freq=16>,\n",
      " <Record source='ZW' target='European Pale Lager' freq=6>,\n",
      " <Record source='ZW' target='American Adjunct Lager' freq=4>,\n",
      " <Record source='ZW' target='English Pale Ale' freq=1>,\n",
      " <Record source='ZW' target='English Stout' freq=1>,\n",
      " <Record source='ZW' target='English Bitter' freq=1>,\n",
      " <Record source='nan' target='American IPA' freq=369>,\n",
      " <Record source='nan' target='American Pale Ale (APA)' freq=166>,\n",
      " <Record source='nan' target='American Porter' freq=122>,\n",
      " <Record source='nan' target='American Amber / Red Ale' freq=108>,\n",
      " <Record source='nan' target='American Imperial IPA' freq=99>]\n"
     ]
    }
   ],
   "source": [
    "# RELATIONSHIP QUERIES \n",
    "\n",
    "try:\n",
    "    query = \"\"\"\n",
    "            MATCH (c: COUNTRIES)--()--()--()-[:HAS_STYLE]->(s:STYLE)\n",
    "            WITH distinct c, s.name as style, count(s) as freq \n",
    "                ORDER BY c.name, freq DESC\n",
    "                WITH c, collect({style: style, frequency: freq})[..5] as top5\n",
    "                WHERE size(top5) >= 5\n",
    "                    UNWIND top5 AS style\n",
    "                    RETURN c.name as source, style.style AS target, style.frequency AS freq \n",
    "        \"\"\"\n",
    "    result = execute_read(driver, query)\n",
    "    pprint(result)\n",
    "except Exception as e:\n",
    "    pprint(e)\n",
    "\n"
   ]
  },
  {
   "cell_type": "code",
   "execution_count": 64,
   "metadata": {},
   "outputs": [
    {
     "name": "stdout",
     "output_type": "stream",
     "text": [
      "[<Record nodeQuery=\"MATCH (n) \\n                WHERE head(Labels(n))='COUNTRIES' or head(Labels(n))='STYLE' \\n                RETURN id(n) as id\" relationshipQuery='MATCH (c: COUNTRIES)--()--()--()-[:HAS_STYLE]->(s:STYLE)\\n                WITH distinct c, s, count(s) as freq \\n                    ORDER BY c.name, freq DESC\\n                    WITH c, collect({name: s, frequency: freq})[..5] as top5\\n                    WHERE size(top5) >= 5\\n                        UNWIND top5 AS style\\n                        RETURN id(c) as source, id(style.name) AS target, style.frequency AS weight' graphName='HM_1.1' nodeCount=513 relationshipCount=705 projectMillis=6323>]\n"
     ]
    }
   ],
   "source": [
    "\n",
    "try:\n",
    "    query = \"\"\"\n",
    "            CALL gds.graph.project.cypher(\n",
    "                \"HM_1.1\",\n",
    "                \n",
    "                \"\n",
    "                MATCH (n) \n",
    "                WHERE head(Labels(n))='COUNTRIES' or head(Labels(n))='STYLE' \n",
    "                RETURN id(n) as id\n",
    "                \",\n",
    "                \n",
    "                \"\n",
    "                MATCH (c: COUNTRIES)--()--()--()-[:HAS_STYLE]->(s:STYLE)\n",
    "                WITH distinct c, s, count(s) as freq \n",
    "                    ORDER BY c.name, freq DESC\n",
    "                    WITH c, collect({name: s, frequency: freq})[..5] as top5\n",
    "                    WHERE size(top5) >= 5\n",
    "                        UNWIND top5 AS style\n",
    "                        RETURN id(c) as source, id(style.name) AS target, style.frequency AS weight\n",
    "                \"\n",
    "            )\n",
    "    \"\"\"\n",
    "    result = execute_read(driver, query)\n",
    "    pprint(result)\n",
    "except Exception as e:\n",
    "    pprint(e)\n",
    "    "
   ]
  },
  {
   "cell_type": "code",
   "execution_count": 65,
   "metadata": {},
   "outputs": [
    {
     "name": "stdout",
     "output_type": "stream",
     "text": [
      "[<Record country1='CU' country2='ET' similarity=1.0>,\n",
      " <Record country1='ET' country2='nan' similarity=0.9988425925925926>,\n",
      " <Record country1='CU' country2='nan' similarity=0.9988425925925926>,\n",
      " <Record country1='SG' country2='nan' similarity=0.9840546697038725>,\n",
      " <Record country1='ET' country2='SG' similarity=0.9829157175398633>,\n",
      " <Record country1='CU' country2='SG' similarity=0.9829157175398633>,\n",
      " <Record country1='KY' country2='SG' similarity=0.7856420626895855>,\n",
      " <Record country1='KY' country2='UA' similarity=0.777120315581854>,\n",
      " <Record country1='KY' country2='nan' similarity=0.7750759878419453>,\n",
      " <Record country1='ET' country2='KY' similarity=0.7740628166160081>]\n"
     ]
    }
   ],
   "source": [
    "try:\n",
    "    query = \"\"\"\n",
    "            CALL gds.nodeSimilarity.stream(\"HM_1.1\", {relationshipWeightProperty:'weight'})\n",
    "            YIELD node1, node2, similarity\n",
    "            \n",
    "            WITH gds.util.asNode(node1).name AS country1, gds.util.asNode(node2).name AS country2, similarity\n",
    "\n",
    "                WHERE country1 < country2\n",
    "                RETURN country1, country2, similarity\n",
    "                ORDER BY similarity DESC\n",
    "                LIMIT 10\n",
    "    \"\"\"\n",
    "    result = execute_read(driver, query)\n",
    "    pprint(result)\n",
    "except Exception as e:\n",
    "    pprint(e)\n",
    "    "
   ]
  },
  {
   "cell_type": "code",
   "execution_count": 66,
   "metadata": {},
   "outputs": [
    {
     "name": "stdout",
     "output_type": "stream",
     "text": [
      "[<Record c.name='ET' s.name='American IPA' freq=369>,\n",
      " <Record c.name='ET' s.name='American Pale Ale (APA)' freq=166>,\n",
      " <Record c.name='ET' s.name='American Porter' freq=122>,\n",
      " <Record c.name='ET' s.name='American Amber / Red Ale' freq=107>,\n",
      " <Record c.name='ET' s.name='American Imperial IPA' freq=99>]\n"
     ]
    }
   ],
   "source": [
    "query = \"\"\"\n",
    "        MATCH (c:COUNTRIES)--()--()--()-[:HAS_STYLE]->(s:STYLE)\n",
    "        WHERE c.name = \"ET\"\n",
    "        RETURN c.name, s.name, count(*) AS freq\n",
    "        ORDER BY c.name, freq DESC\n",
    "        LIMIT 5\n",
    "\"\"\"\n",
    "result = execute_read(driver, query)\n",
    "pprint(result)"
   ]
  },
  {
   "cell_type": "code",
   "execution_count": 67,
   "metadata": {},
   "outputs": [
    {
     "name": "stdout",
     "output_type": "stream",
     "text": [
      "[<Record c.name='CU' s.name='American IPA' freq=369>,\n",
      " <Record c.name='CU' s.name='American Pale Ale (APA)' freq=166>,\n",
      " <Record c.name='CU' s.name='American Porter' freq=122>,\n",
      " <Record c.name='CU' s.name='American Amber / Red Ale' freq=107>,\n",
      " <Record c.name='CU' s.name='American Imperial IPA' freq=99>]\n"
     ]
    }
   ],
   "source": [
    "query = \"\"\"\n",
    "        MATCH (c:COUNTRIES)--()--()--()-[:HAS_STYLE]->(s:STYLE)\n",
    "        WHERE c.name = \"CU\"\n",
    "        RETURN c.name, s.name, count(*) AS freq\n",
    "        ORDER BY c.name, freq DESC\n",
    "        LIMIT 5\n",
    "\"\"\"\n",
    "result = execute_read(driver, query)\n",
    "pprint(result)"
   ]
  },
  {
   "cell_type": "markdown",
   "metadata": {},
   "source": [
    "### 5.2 Which beer is the most popular when considering the number of users who reviewed it?  "
   ]
  },
  {
   "cell_type": "code",
   "execution_count": null,
   "metadata": {},
   "outputs": [
    {
     "name": "stdout",
     "output_type": "stream",
     "text": [
      "ClientError('Failed to invoke procedure `gds.graph.drop`: Caused by: java.util.NoSuchElementException: Graph with name `exercise_5_2` does not exist on database `neo4j`. It might exist on another database.')\n"
     ]
    }
   ],
   "source": [
    "try:\n",
    "    query = \"\"\"\n",
    "            CALL gds.graph.drop('exercise_5_2') YIELD graphName;\n",
    "        \"\"\"\n",
    "\n",
    "    result = execute_read(driver, query)\n",
    "\n",
    "    pprint(result)\n",
    "except Exception as e:\n",
    "    pprint(e)"
   ]
  },
  {
   "cell_type": "markdown",
   "metadata": {},
   "source": [
    "> Let's project the graph to get the connection between user and beers. Note that it is important to RETURN DISTINCT as there are users that have reviewed the same beer more than once. "
   ]
  },
  {
   "cell_type": "code",
   "execution_count": 35,
   "metadata": {},
   "outputs": [
    {
     "name": "stdout",
     "output_type": "stream",
     "text": [
      "[<Record nodeQuery='MATCH (b:BEERS) RETURN id(b) AS id\\n             UNION\\n             MATCH (u:USER) RETURN id(u) AS id' relationshipQuery='MATCH (u:USER)<-[:POSTED]-(r:REVIEWS)<-[:REVIEWED]-(b:BEERS)\\n             RETURN DISTINCT id(u) AS target, id(b) AS source' graphName='exercise_5_2_2' nodeCount=465518 relationshipCount=2537753 projectMillis=686528>]\n"
     ]
    }
   ],
   "source": [
    "try:\n",
    "    query = \"\"\"\n",
    "        CALL gds.graph.project.cypher(\n",
    "            'exercise_5_2_2',\n",
    "            \n",
    "            'MATCH (b:BEERS) RETURN id(b) AS id\n",
    "             UNION\n",
    "             MATCH (u:USER) RETURN id(u) AS id',\n",
    "            \n",
    "            'MATCH (u:USER)<-[:POSTED]-(r:REVIEWS)<-[:REVIEWED]-(b:BEERS)\n",
    "             RETURN DISTINCT id(u) AS target, id(b) AS source'\n",
    "        )\n",
    "    \"\"\"\n",
    "    result = execute_read(driver, query)\n",
    "    pprint(result)\n",
    "except Exception as e:\n",
    "    pprint(e)\n"
   ]
  },
  {
   "cell_type": "markdown",
   "metadata": {},
   "source": [
    "> We will use Degree Centrality as it's better to measure the number of nodes directly connected. We want to know which one is more popular."
   ]
  },
  {
   "cell_type": "code",
   "execution_count": 36,
   "metadata": {},
   "outputs": [
    {
     "name": "stdout",
     "output_type": "stream",
     "text": [
      "Breakfast Stout (id=11757) is the most popular beer, with 4828.0 users reviewing it.\n"
     ]
    }
   ],
   "source": [
    "try:\n",
    "        query = \"\"\"\n",
    "        CALL gds.degree.stream('exercise_5_2_2')\n",
    "\n",
    "        YIELD nodeId, score\n",
    "\n",
    "        RETURN gds.util.asNode(nodeId).name AS beer_name, score AS num_users,  gds.util.asNode(nodeId).id AS beer_id\n",
    "\n",
    "        ORDER BY num_users DESC\n",
    "\n",
    "        LIMIT 1\n",
    "        \"\"\"\n",
    "        result = execute_read(driver, query)\n",
    "        print(f'{result[0][\"beer_name\"]} (id={result[0][\"beer_id\"]}) is the most popular beer, with {result[0][\"num_users\"]} users reviewing it.')\n",
    "\n",
    "except Exception as e:\n",
    "    pprint(e)\n"
   ]
  },
  {
   "cell_type": "code",
   "execution_count": 37,
   "metadata": {},
   "outputs": [
    {
     "name": "stdout",
     "output_type": "stream",
     "text": [
      "[<Record num_users=4828>]\n"
     ]
    }
   ],
   "source": [
    "\n",
    "query = \"\"\"\n",
    "        MATCH (b:BEERS)--(r:REVIEWS)--(u:USER)\n",
    "        WHERE b.id = '11757'\n",
    "        RETURN COUNT(DISTINCT u) AS num_users\n",
    "\n",
    "        \"\"\"\n",
    "result = execute_read(driver, query)\n",
    "print(result)"
   ]
  },
  {
   "cell_type": "markdown",
   "metadata": {},
   "source": [
    "### 5.3 Users are connected together by their reviews of beers, taking into consideration the \"smell\" score they assign as a weight, how many communities are formed from these relationships? How many users are in the three largest communities? "
   ]
  },
  {
   "cell_type": "markdown",
   "metadata": {},
   "source": [
    "> For this question we've decided to use the Label Propagation Algorithm as shown in the practical class."
   ]
  },
  {
   "cell_type": "markdown",
   "metadata": {},
   "source": [
    "<strong style='color:red'>I have to check this again</strong>"
   ]
  },
  {
   "cell_type": "markdown",
   "metadata": {},
   "source": [
    "> To start with, we need to project a subgraph that contains only the relationships that are relevant to our question. We need to get a graph that connects users to each other through the beers they review, but there isn’t a direct relationship between the users. So we’ll have to connect them through: User --> Posted -->Reviews and Reviews --> Reviewed --> Beers <br>\n",
    "> Note that the smell must we used as weight!"
   ]
  },
  {
   "cell_type": "code",
   "execution_count": null,
   "metadata": {},
   "outputs": [
    {
     "name": "stdout",
     "output_type": "stream",
     "text": [
      "[<Record graphName='exercise_5_3'>]\n"
     ]
    }
   ],
   "source": [
    "try:\n",
    "    query = \"\"\"\n",
    "            CALL gds.graph.drop('exercise_5_3') YIELD graphName;\n",
    "        \"\"\"\n",
    "\n",
    "    result = execute_read(driver, query)\n",
    "\n",
    "    pprint(result)\n",
    "except Exception as e:\n",
    "    pprint(e)"
   ]
  },
  {
   "cell_type": "code",
   "execution_count": null,
   "metadata": {},
   "outputs": [
    {
     "name": "stdout",
     "output_type": "stream",
     "text": [
      "[<Record nodeQuery='MATCH (n:USER) RETURN id(n) AS id' relationshipQuery='MATCH (u1:USER)<-[:POSTED]-(r1:REVIEWS)<-[:REVIEWED]-(b:BEERS)\\n            -[:REVIEWED]->(r2:REVIEWS)-[:POSTED]->(u2:USER) \\n            \\n            WHERE id(u1)<id(u2) AND r1.beer_id = r2.beer_id\\n            RETURN id(u1) AS source, id(u2) AS target, (1 / (1 + abs(toFloat(r1.smell) - toFloat(r2.smell)))) AS weight\\n            LIMIT 100000' graphName='exercise_5_3' nodeCount=106645 relationshipCount=100000 projectMillis=6202>]\n"
     ]
    }
   ],
   "source": [
    "query = \"\"\"\n",
    "        CALL gds.graph.project.cypher(\n",
    "        \n",
    "            'exercise_5_3',\n",
    "            \n",
    "            'MATCH (n:USER) RETURN id(n) AS id',\n",
    "            \n",
    "            'MATCH (u1:USER)-[:POSTED]-(r1:REVIEWS)-[:REVIEWED]-(b:BEERS)\n",
    "            -[:REVIEWED]-(r2:REVIEWS)-[:POSTED]-(u2:USER) \n",
    "            \n",
    "            WHERE id(u1)<id(u2) AND r1.beer_id=r2.beer_id\n",
    "            RETURN id(u1) AS source, id(u2) AS target, (1 / (1 + abs(toFloat(r1.smell) - toFloat(r2.smell)))) AS weight\n",
    "            '\n",
    "        )\n",
    "        \"\"\"\n",
    "\n",
    "result = execute_read(driver, query)\n",
    "\n",
    "pprint(result)\n"
   ]
  },
  {
   "cell_type": "markdown",
   "metadata": {},
   "source": [
    "> We use the difference between the score that the users give to smell as weight. Since the higher the weight, then more similar the users are. As they have given a similar score to smell."
   ]
  },
  {
   "cell_type": "code",
   "execution_count": 25,
   "metadata": {},
   "outputs": [
    {
     "name": "stdout",
     "output_type": "stream",
     "text": [
      "[<Record number_of_communities=105347>]\n"
     ]
    }
   ],
   "source": [
    "#Find the total number of communities:\n",
    "query = \"\"\"\n",
    "    CALL gds.labelPropagation.stream('exercise_5_3')\n",
    "    YIELD communityId AS Community\n",
    "    RETURN count(distinct Community) AS number_of_communities\n",
    "\"\"\"\n",
    "\n",
    "result = execute_read(driver, query)\n",
    "\n",
    "pprint(result)\n"
   ]
  },
  {
   "cell_type": "markdown",
   "metadata": {},
   "source": [
    "> From here, we get that there are ---- communities"
   ]
  },
  {
   "cell_type": "code",
   "execution_count": null,
   "metadata": {},
   "outputs": [
    {
     "name": "stdout",
     "output_type": "stream",
     "text": [
      "[<Record Community=9548119 community_size=736>,\n",
      " <Record Community=9548053 community_size=235>,\n",
      " <Record Community=9547932 community_size=90>]\n"
     ]
    }
   ],
   "source": [
    "# Find the top 3 largest communities, and the number of users:\n",
    "query = \"\"\"\n",
    "            CALL gds.labelPropagation.stream('exercise_5_3')\n",
    "            YIELD nodeId, communityId AS Community\n",
    "    \n",
    "            WITH gds.util.asNode(nodeId).name AS Name, Community\n",
    "            RETURN Community, count(*) as number_of_users\n",
    "            ORDER BY community_size desc\n",
    "            LIMIT 3\n",
    "        \"\"\"\n",
    "\n",
    "result = execute_read(driver, query)\n",
    "\n",
    "pprint(result)\n"
   ]
  },
  {
   "cell_type": "markdown",
   "metadata": {},
   "source": [
    "> LIMIT 3 to get top 3, since we are ordering it in descending order. "
   ]
  }
 ],
 "metadata": {
  "hide_input": false,
  "kernelspec": {
   "display_name": "DM2425",
   "language": "python",
   "name": "python3"
  },
  "language_info": {
   "codemirror_mode": {
    "name": "ipython",
    "version": 3
   },
   "file_extension": ".py",
   "mimetype": "text/x-python",
   "name": "python",
   "nbconvert_exporter": "python",
   "pygments_lexer": "ipython3",
   "version": "3.12.5"
  },
  "toc": {
   "base_numbering": 1,
   "nav_menu": {},
   "number_sections": true,
   "sideBar": true,
   "skip_h1_title": false,
   "title_cell": "Table of Contents",
   "title_sidebar": "Contents",
   "toc_cell": false,
   "toc_position": {},
   "toc_section_display": true,
   "toc_window_display": false
  },
  "varInspector": {
   "cols": {
    "lenName": 16,
    "lenType": 16,
    "lenVar": 40
   },
   "kernels_config": {
    "python": {
     "delete_cmd_postfix": "",
     "delete_cmd_prefix": "del ",
     "library": "var_list.py",
     "varRefreshCmd": "print(var_dic_list())"
    },
    "r": {
     "delete_cmd_postfix": ") ",
     "delete_cmd_prefix": "rm(",
     "library": "var_list.r",
     "varRefreshCmd": "cat(var_dic_list()) "
    }
   },
   "types_to_exclude": [
    "module",
    "function",
    "builtin_function_or_method",
    "instance",
    "_Feature"
   ],
   "window_display": false
  }
 },
 "nbformat": 4,
 "nbformat_minor": 4
}
