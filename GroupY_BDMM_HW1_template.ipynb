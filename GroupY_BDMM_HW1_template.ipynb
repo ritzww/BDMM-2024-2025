{
 "cells": [
  {
   "cell_type": "markdown",
   "metadata": {},
   "source": [
    "# Big Data Modeling and Management Assigment - Homework 1"
   ]
  },
  {
   "cell_type": "markdown",
   "metadata": {},
   "source": [
    "# Submission\n",
    "\n",
    "GROUP NUMBER: **XXXXXX** - please add your group number into the file name\n",
    "\n",
    "GROUP MEMBERS:\n",
    "\n",
    "|STUDENT NAME|STUDENT NUMBER|\n",
    "|---|---|\n",
    "|Gaspar Pereira|20230984|\n",
    "|Íris Moreira|XXXXXX|\n",
    "|Jude|XXXXXX|\n",
    "|Rita Wang|XXXXXX|"
   ]
  },
  {
   "cell_type": "markdown",
   "metadata": {},
   "source": [
    "## 🍺 The Beer project  🍺 \n",
    "\n",
    "As it was shown in classes, graph databases are a natural way of navegating related information. For this first project we will be taking a graph database to analyse beer and breweries!   \n",
    "\n",
    "The project datasets are based on [kaggle](https://www.kaggle.com/ehallmar/beers-breweries-and-beer-reviews), released by Evan Hallmark. \n",
    "\n",
    "### Problem description\n",
    "\n",
    "Imagine you are working in the Data Management department of Analytics company.\n",
    "Explore the database via python neo4j connector and/or the graphical tool in the NEO4J webpage. Answer the questions while adjusting the database to meet the needs of your colleagues.\n",
    "Please record and keep track of your database changes, and submit the file with all cells run and with the output shown.\n",
    "\n",
    "### Questions\n",
    "\n",
    "1. Explore the database: get familiar with current schema, elements and other important database parameters. [1 point]\n",
    "2. Adjust the database and mention reasoning behind: e.g. clean errors, remove redundancies, adjust schema as necessary. Visualize the final version of database schema. [4 points]\n",
    "3. Analytics department requires the following information for the biweekly reporting: [5 points]\n",
    "    1. How many reviews has the beer with the most reviews?\n",
    "    2. Which three users wrote the most reviews about beers?\n",
    "    3. Find all beers that are described with following words: 'fruit', 'complex', 'nutty', 'dark'.\n",
    "    4. Which top three breweries produce the largest variety of beer styles?\n",
    "    5. Which country produces the most beer styles?\n",
    "4. Market Analysis department in your company accesses and updates the trends data on the daily basis. Given that, consider how you need to optimize the database and its performance so that the following queries are efficient. Measure performance to communicate your improvements using PROFILE before final query. Answer the following: [4 points]\n",
    "    1. Using ABV score, find five strongest beers, display their ABV score and the corresponding brewery? Keep in mind that the strongest known beer is Snake Venom, and deal with the error entries in the database.\n",
    "    2. Using the answer from question 2, find the top 5 distict beer styles with the highest average score of smell + feel that were reviewed by the third most productive user. Keep in mind that cleaning the database earlier should ensure correct results.\n",
    "5. Answer **two out of four** of the following questions using Graph Algorithms (gds): [NB: make sure to clear the graph before using it again] For the quarterly report, Analytics department the follownig information. [6 points]\n",
    "    1. Which two countries are most similiar when it comes to their top five most produced Beer styles?\n",
    "    2. Which beer is the most popular when considering the number of users who reviewed it? \n",
    "    3. Users are connected together by their reviews of beers, taking into consideration the \"smell\" score they assign as a weight, how many communities are formed from these relationships? How many users are in the three largest communities? \n",
    "    4. Which user is the most influential when it comes to reviews of distinct beers by style?\n",
    " "
   ]
  },
  {
   "cell_type": "markdown",
   "metadata": {},
   "source": [
    "## Loading the Database"
   ]
  },
  {
   "cell_type": "code",
   "execution_count": 2,
   "metadata": {
    "ExecuteTime": {
     "end_time": "2024-02-29T21:45:57.447501Z",
     "start_time": "2024-02-29T21:45:56.625014Z"
    }
   },
   "outputs": [],
   "source": [
    "from neo4j import GraphDatabase\n",
    "from pprint import pprint"
   ]
  },
  {
   "cell_type": "code",
   "execution_count": 3,
   "metadata": {
    "ExecuteTime": {
     "end_time": "2024-02-29T21:46:09.652569Z",
     "start_time": "2024-02-29T21:46:09.648166Z"
    }
   },
   "outputs": [],
   "source": [
    "NEO4J_URI=\"neo4j://localhost:7687\"\n",
    "NEO4J_USERNAME=\"neo4j\"\n",
    "NEO4J_PASSWORD=\"test\""
   ]
  },
  {
   "cell_type": "code",
   "execution_count": 4,
   "metadata": {
    "ExecuteTime": {
     "end_time": "2024-02-29T21:46:10.939324Z",
     "start_time": "2024-02-29T21:46:10.934651Z"
    }
   },
   "outputs": [],
   "source": [
    "driver = GraphDatabase.driver(NEO4J_URI, auth=(NEO4J_USERNAME, NEO4J_PASSWORD), )"
   ]
  },
  {
   "cell_type": "code",
   "execution_count": 5,
   "metadata": {
    "ExecuteTime": {
     "end_time": "2024-02-29T21:46:14.291655Z",
     "start_time": "2024-02-29T21:46:14.286865Z"
    }
   },
   "outputs": [],
   "source": [
    "def execute_read(driver, query):    \n",
    "    with driver.session(database=\"neo4j\") as session:\n",
    "        result = session.execute_read(lambda tx, query: list(tx.run(query)), query)\n",
    "    return result"
   ]
  },
  {
   "cell_type": "code",
   "execution_count": 6,
   "metadata": {},
   "outputs": [],
   "source": [
    "def execute_write(driver, query):\n",
    "    with driver.session(database=\"neo4j\") as session:\n",
    "        # Write transactions allow the driver to handle retries and transient errors\n",
    "        result = session.execute_write(lambda tx, query: list(tx.run(query)), query)\n",
    "    return result"
   ]
  },
  {
   "cell_type": "markdown",
   "metadata": {},
   "source": [
    "# Question 1: Exploratory Data Analysis"
   ]
  },
  {
   "cell_type": "markdown",
   "metadata": {},
   "source": [
    "> Let's start by counting the number of nodes in our database: "
   ]
  },
  {
   "cell_type": "code",
   "execution_count": 46,
   "metadata": {},
   "outputs": [
    {
     "name": "stdout",
     "output_type": "stream",
     "text": [
      "[<Record count(*)=3215489>]\n"
     ]
    }
   ],
   "source": [
    "query = \"\"\"\n",
    "        MATCH () RETURN count(*)\n",
    "    \"\"\"\n",
    "result = execute_read(driver, query)\n",
    "pprint(result)"
   ]
  },
  {
   "cell_type": "markdown",
   "metadata": {},
   "source": [
    "> We also check the labels in our database:"
   ]
  },
  {
   "cell_type": "code",
   "execution_count": 7,
   "metadata": {},
   "outputs": [
    {
     "name": "stdout",
     "output_type": "stream",
     "text": [
      "[<Record label='COUNTRIES'>,\n",
      " <Record label='CITIES'>,\n",
      " <Record label='BREWERIES'>,\n",
      " <Record label='BEERS'>,\n",
      " <Record label='REVIEWS'>,\n",
      " <Record label='STYLE'>,\n",
      " <Record label='USER'>]\n"
     ]
    }
   ],
   "source": [
    "query = \"\"\"\n",
    "       call db.labels();\n",
    "\t\t    \"\"\"\n",
    "\n",
    "result = execute_read(driver, query)\n",
    "\n",
    "pprint(result)"
   ]
  },
  {
   "cell_type": "code",
   "execution_count": 8,
   "metadata": {},
   "outputs": [],
   "source": [
    "labels = ['COUNTRIES','CITIES','BREWERIES','BEERS','REVIEWS','STYLE','USER']"
   ]
  },
  {
   "cell_type": "markdown",
   "metadata": {},
   "source": [
    "> Check the number of nodes for each label"
   ]
  },
  {
   "cell_type": "code",
   "execution_count": null,
   "metadata": {},
   "outputs": [
    {
     "name": "stdout",
     "output_type": "stream",
     "text": [
      "Label: COUNTRIES, Count: 200\n",
      "Label: CITIES, Count: 11665\n",
      "Label: BREWERIES, Count: 50347\n",
      "Label: BEERS, Count: 358873\n",
      "Label: REVIEWS, Count: 2538063\n",
      "Label: STYLE, Count: 113\n",
      "Label: USER, Count: 106645\n"
     ]
    }
   ],
   "source": [
    "for label in labels:\n",
    "    query = f\"\"\"\n",
    "        MATCH (n:{label})\n",
    "        RETURN COUNT(n) AS count\n",
    "        ORDER BY count(n) DESC\n",
    "    \"\"\"\n",
    "    \n",
    "    result = execute_read(driver, query)\n",
    "    print(f\"Label: {label}, Count: {result[0]['count']}\")\n"
   ]
  },
  {
   "cell_type": "markdown",
   "metadata": {},
   "source": [
    "> Relationships:"
   ]
  },
  {
   "cell_type": "code",
   "execution_count": 10,
   "metadata": {},
   "outputs": [
    {
     "name": "stdout",
     "output_type": "stream",
     "text": [
      "[<Record relationshipType='REVIEWED'>,\n",
      " <Record relationshipType='BREWED'>,\n",
      " <Record relationshipType='IN'>,\n",
      " <Record relationshipType='HAS_STYLE'>,\n",
      " <Record relationshipType='POSTED'>]\n"
     ]
    }
   ],
   "source": [
    "query = \"\"\"\n",
    "        CALL db.relationshipTypes();\n",
    "    \"\"\"\n",
    "\n",
    "result = execute_read(driver, query)\n",
    "\n",
    "pprint(result)"
   ]
  },
  {
   "cell_type": "markdown",
   "metadata": {},
   "source": [
    "![image.png](img/schema_original.png)"
   ]
  },
  {
   "cell_type": "code",
   "execution_count": 11,
   "metadata": {},
   "outputs": [],
   "source": [
    "relationships = ['REVIEWED','BREWED','IN','HAS_STYLE','POSTED']"
   ]
  },
  {
   "cell_type": "code",
   "execution_count": 12,
   "metadata": {},
   "outputs": [
    {
     "name": "stdout",
     "output_type": "stream",
     "text": [
      "Relationship: REVIEWED, Count: 2537991\n",
      "Relationship: BREWED, Count: 358873\n",
      "Relationship: IN, Count: 62424\n",
      "Relationship: HAS_STYLE, Count: 358873\n",
      "Relationship: POSTED, Count: 2538044\n"
     ]
    }
   ],
   "source": [
    "for relationship in relationships:\n",
    "    query = f\"\"\"\n",
    "        MATCH ()-[r:{relationship}]->()\n",
    "        RETURN COUNT(r) AS count\n",
    "    \"\"\"\n",
    "    \n",
    "    result = execute_read(driver, query)\n",
    "    print(f\"Relationship: {relationship}, Count: {result[0]['count']}\")\n"
   ]
  },
  {
   "cell_type": "markdown",
   "metadata": {},
   "source": [
    "> What labels are connected by each relationship type?\n",
    "\n",
    "> Let's see if there are any relationships that don't make sense:"
   ]
  },
  {
   "cell_type": "code",
   "execution_count": 15,
   "metadata": {},
   "outputs": [
    {
     "name": "stdout",
     "output_type": "stream",
     "text": [
      "[<Record Start=['BREWERIES'] Relationship='BREWED' End=['BEERS'] COUNT(r)=358873>,\n",
      " <Record Start=['BEERS'] Relationship='HAS_STYLE' End=['STYLE'] COUNT(r)=358873>,\n",
      " <Record Start=['CITIES'] Relationship='IN' End=['COUNTRIES'] COUNT(r)=12077>,\n",
      " <Record Start=['BREWERIES'] Relationship='IN' End=['CITIES'] COUNT(r)=50347>,\n",
      " <Record Start=['REVIEWS'] Relationship='POSTED' End=['USER'] COUNT(r)=2538044>,\n",
      " <Record Start=['BEERS'] Relationship='REVIEWED' End=['REVIEWS'] COUNT(r)=2537991>]\n"
     ]
    }
   ],
   "source": [
    "query = \"\"\"\n",
    "        MATCH (a)-[r]->(b)\n",
    "        RETURN DISTINCT labels(a) AS Start, type(r) AS Relationship, labels(b) AS End, COUNT(r)\n",
    "        ORDER BY Relationship;\n",
    "\n",
    "\n",
    "    \"\"\"\n",
    "\n",
    "result = execute_read(driver, query)\n",
    "\n",
    "pprint(result)"
   ]
  },
  {
   "cell_type": "markdown",
   "metadata": {},
   "source": [
    "> Not sure if it makes sense to have <br>\n",
    "'REVIEWS'--POSTED-->'USER' and <br>\n",
    "'BEERS'--'REVIEWED-->'REVIEWES'.<br>\n",
    "We should look into reversing the direction of these relationships."
   ]
  },
  {
   "cell_type": "markdown",
   "metadata": {},
   "source": [
    "> Schema visualization:"
   ]
  },
  {
   "cell_type": "code",
   "execution_count": 19,
   "metadata": {},
   "outputs": [
    {
     "name": "stdout",
     "output_type": "stream",
     "text": [
      "[<Record nodes=[<Node element_id='-5' labels=frozenset({'REVIEWS'}) properties={'name': 'REVIEWS', 'indexes': ['id'], 'constraints': []}>, <Node element_id='-4' labels=frozenset({'BEERS'}) properties={'name': 'BEERS', 'indexes': ['id'], 'constraints': []}>, <Node element_id='-1' labels=frozenset({'COUNTRIES'}) properties={'name': 'COUNTRIES', 'indexes': ['name'], 'constraints': []}>, <Node element_id='-3' labels=frozenset({'BREWERIES'}) properties={'name': 'BREWERIES', 'indexes': ['id'], 'constraints': []}>, <Node element_id='-6' labels=frozenset({'STYLE'}) properties={'name': 'STYLE', 'indexes': ['name'], 'constraints': []}>, <Node element_id='-2' labels=frozenset({'CITIES'}) properties={'name': 'CITIES', 'indexes': ['name'], 'constraints': []}>, <Node element_id='-7' labels=frozenset({'USER'}) properties={'name': 'USER', 'indexes': ['name'], 'constraints': []}>] relationships=[<Relationship element_id='-1' nodes=(<Node element_id='-4' labels=frozenset({'BEERS'}) properties={'name': 'BEERS', 'indexes': ['id'], 'constraints': []}>, <Node element_id='-5' labels=frozenset({'REVIEWS'}) properties={'name': 'REVIEWS', 'indexes': ['id'], 'constraints': []}>) type='REVIEWED' properties={}>, <Relationship element_id='-2' nodes=(<Node element_id='-3' labels=frozenset({'BREWERIES'}) properties={'name': 'BREWERIES', 'indexes': ['id'], 'constraints': []}>, <Node element_id='-4' labels=frozenset({'BEERS'}) properties={'name': 'BEERS', 'indexes': ['id'], 'constraints': []}>) type='BREWED' properties={}>, <Relationship element_id='-3' nodes=(<Node element_id='-2' labels=frozenset({'CITIES'}) properties={'name': 'CITIES', 'indexes': ['name'], 'constraints': []}>, <Node element_id='-1' labels=frozenset({'COUNTRIES'}) properties={'name': 'COUNTRIES', 'indexes': ['name'], 'constraints': []}>) type='IN' properties={}>, <Relationship element_id='-5' nodes=(<Node element_id='-3' labels=frozenset({'BREWERIES'}) properties={'name': 'BREWERIES', 'indexes': ['id'], 'constraints': []}>, <Node element_id='-1' labels=frozenset({'COUNTRIES'}) properties={'name': 'COUNTRIES', 'indexes': ['name'], 'constraints': []}>) type='IN' properties={}>, <Relationship element_id='-4' nodes=(<Node element_id='-2' labels=frozenset({'CITIES'}) properties={'name': 'CITIES', 'indexes': ['name'], 'constraints': []}>, <Node element_id='-2' labels=frozenset({'CITIES'}) properties={'name': 'CITIES', 'indexes': ['name'], 'constraints': []}>) type='IN' properties={}>, <Relationship element_id='-6' nodes=(<Node element_id='-3' labels=frozenset({'BREWERIES'}) properties={'name': 'BREWERIES', 'indexes': ['id'], 'constraints': []}>, <Node element_id='-2' labels=frozenset({'CITIES'}) properties={'name': 'CITIES', 'indexes': ['name'], 'constraints': []}>) type='IN' properties={}>, <Relationship element_id='-7' nodes=(<Node element_id='-4' labels=frozenset({'BEERS'}) properties={'name': 'BEERS', 'indexes': ['id'], 'constraints': []}>, <Node element_id='-6' labels=frozenset({'STYLE'}) properties={'name': 'STYLE', 'indexes': ['name'], 'constraints': []}>) type='HAS_STYLE' properties={}>, <Relationship element_id='-8' nodes=(<Node element_id='-5' labels=frozenset({'REVIEWS'}) properties={'name': 'REVIEWS', 'indexes': ['id'], 'constraints': []}>, <Node element_id='-7' labels=frozenset({'USER'}) properties={'name': 'USER', 'indexes': ['name'], 'constraints': []}>) type='POSTED' properties={}>]>]\n"
     ]
    }
   ],
   "source": [
    "query = \"\"\"\n",
    "        CALL db.schema.visualization()\n",
    "    \"\"\"\n",
    "result = execute_read(driver, query)\n",
    "pprint(result)\n"
   ]
  },
  {
   "cell_type": "markdown",
   "metadata": {},
   "source": [
    "> There are some relationships present in schema, not present if we count those relationships: \n",
    "\n",
    "> - (Cities)--(Cities)\n",
    "> - (Breweries) -- (Countries)"
   ]
  },
  {
   "cell_type": "code",
   "execution_count": null,
   "metadata": {},
   "outputs": [],
   "source": [
    "query = \"\"\"\n",
    "        MATCH (ci:CITIES)-[r]-(ci2:CITIES)\n",
    "        RETURN count(r)\n",
    "\"\"\"\n",
    "result = execute_read(driver, query)\n",
    "pprint(result)"
   ]
  },
  {
   "cell_type": "code",
   "execution_count": null,
   "metadata": {},
   "outputs": [],
   "source": [
    "query = \"\"\"\n",
    "        MATCH (b:BREWERIES)-[r]-(c:COUNTRIES)\n",
    "        RETURN count(r)\n",
    "\"\"\"\n",
    "result = execute_read(driver, query)\n",
    "pprint(result)"
   ]
  },
  {
   "cell_type": "markdown",
   "metadata": {},
   "source": [
    "> Properties:"
   ]
  },
  {
   "cell_type": "code",
   "execution_count": 13,
   "metadata": {},
   "outputs": [
    {
     "name": "stdout",
     "output_type": "stream",
     "text": [
      "[<Record propertyKey='name'>,\n",
      " <Record propertyKey='types'>,\n",
      " <Record propertyKey='notes'>,\n",
      " <Record propertyKey='state'>,\n",
      " <Record propertyKey='id'>,\n",
      " <Record propertyKey='abv'>,\n",
      " <Record propertyKey='retired'>,\n",
      " <Record propertyKey='availability'>,\n",
      " <Record propertyKey='brewery_id'>,\n",
      " <Record propertyKey='date'>,\n",
      " <Record propertyKey='score'>,\n",
      " <Record propertyKey='taste'>,\n",
      " <Record propertyKey='feel'>,\n",
      " <Record propertyKey='overall'>,\n",
      " <Record propertyKey='beer_id'>,\n",
      " <Record propertyKey='text'>,\n",
      " <Record propertyKey='smell'>,\n",
      " <Record propertyKey='look'>]\n"
     ]
    }
   ],
   "source": [
    "query = \"\"\"\n",
    "        CALL db.propertyKeys();\n",
    "    \"\"\"\n",
    "\n",
    "result = execute_read(driver, query)\n",
    "\n",
    "pprint(result)"
   ]
  },
  {
   "cell_type": "code",
   "execution_count": 14,
   "metadata": {},
   "outputs": [],
   "source": [
    "properties = ['name','types','notes','state','id','abv','retired','availability',\\\n",
    "              'brewery_id','date','score','taste','feel','overall','beer_id',\\\n",
    "                'text','smell','look']"
   ]
  },
  {
   "cell_type": "markdown",
   "metadata": {},
   "source": [
    "> What properties does each label have?"
   ]
  },
  {
   "cell_type": "code",
   "execution_count": 16,
   "metadata": {},
   "outputs": [
    {
     "name": "stdout",
     "output_type": "stream",
     "text": [
      "[<Record Label=':`BEERS`' Properties=['name', 'notes', 'state', 'id', 'abv', 'retired', 'availability', 'brewery_id']>,\n",
      " <Record Label=':`BREWERIES`' Properties=['name', 'types', 'notes', 'state', 'id']>,\n",
      " <Record Label=':`CITIES`' Properties=['name']>,\n",
      " <Record Label=':`COUNTRIES`' Properties=['name']>,\n",
      " <Record Label=':`REVIEWS`' Properties=['id', 'date', 'score', 'taste', 'feel', 'overall', 'beer_id', 'text', 'smell', 'look']>,\n",
      " <Record Label=':`STYLE`' Properties=['name']>,\n",
      " <Record Label=':`USER`' Properties=['name']>]\n"
     ]
    }
   ],
   "source": [
    "query = \"\"\"\n",
    "        CALL db.schema.nodeTypeProperties()\n",
    "        YIELD nodeType, propertyName\n",
    "        RETURN nodeType AS Label, COLLECT(propertyName) AS Properties\n",
    "        ORDER BY Label;\n",
    "\n",
    "\n",
    "    \"\"\"\n",
    "\n",
    "result = execute_read(driver, query)\n",
    "\n",
    "pprint(result)"
   ]
  },
  {
   "cell_type": "markdown",
   "metadata": {},
   "source": [
    "# Question 2: Preprocessing"
   ]
  },
  {
   "cell_type": "markdown",
   "metadata": {},
   "source": [
    "## 2.1 Isolated Nodes"
   ]
  },
  {
   "cell_type": "markdown",
   "metadata": {},
   "source": [
    "> Number of initial nodes:"
   ]
  },
  {
   "cell_type": "code",
   "execution_count": 17,
   "metadata": {},
   "outputs": [
    {
     "name": "stdout",
     "output_type": "stream",
     "text": [
      "[<Record TotalNodeCount=3065906>]\n"
     ]
    }
   ],
   "source": [
    "query = \"\"\"\n",
    "        MATCH (n)\n",
    "        RETURN COUNT(n) AS TotalNodeCount\n",
    "\"\"\"\n",
    "result = execute_read(driver, query)\n",
    "pprint(result)"
   ]
  },
  {
   "cell_type": "markdown",
   "metadata": {},
   "source": [
    "> Number of nodes not connected: "
   ]
  },
  {
   "cell_type": "code",
   "execution_count": 18,
   "metadata": {},
   "outputs": [
    {
     "name": "stderr",
     "output_type": "stream",
     "text": [
      "Received notification from DBMS server: {severity: WARNING} {code: Neo.ClientNotification.Statement.FeatureDeprecationWarning} {category: } {title: This feature is deprecated and will be removed in future versions.} {description: Coercion of list to boolean is deprecated. Please consider using `NOT isEmpty(...)` instead.} {position: line: 3, column: 27, offset: 37} for query: '\\n        MATCH (n)\\n        WHERE NOT (n)-[]-()\\n        RETURN labels(n) AS NodeLabel, COUNT(n) AS IsolatedNodeCount\\n        ORDER BY IsolatedNodeCount DESC\\n'\n"
     ]
    },
    {
     "name": "stdout",
     "output_type": "stream",
     "text": [
      "[]\n"
     ]
    }
   ],
   "source": [
    "query = \"\"\"\n",
    "        MATCH (n)\n",
    "        WHERE NOT (n)-[]-()\n",
    "        RETURN labels(n) AS NodeLabel, COUNT(n) AS IsolatedNodeCount\n",
    "        ORDER BY IsolatedNodeCount DESC\n",
    "\"\"\"\n",
    "result = execute_read(driver, query)\n",
    "pprint(result)"
   ]
  },
  {
   "cell_type": "markdown",
   "metadata": {},
   "source": [
    "> Deleting those nodes; space optimization"
   ]
  },
  {
   "cell_type": "code",
   "execution_count": 47,
   "metadata": {},
   "outputs": [
    {
     "name": "stderr",
     "output_type": "stream",
     "text": [
      "Received notification from DBMS server: {severity: WARNING} {code: Neo.ClientNotification.Statement.FeatureDeprecationWarning} {category: } {title: This feature is deprecated and will be removed in future versions.} {description: Coercion of list to boolean is deprecated. Please consider using `NOT isEmpty(...)` instead.} {position: line: 3, column: 27, offset: 37} for query: '\\n        MATCH (n)\\n        WHERE NOT (n)-[]-()\\n        DELETE n\\n        RETURN count(n)\\n'\n"
     ]
    },
    {
     "name": "stdout",
     "output_type": "stream",
     "text": [
      "[<Record count(n)=149583>]\n"
     ]
    }
   ],
   "source": [
    "query = \"\"\"\n",
    "        MATCH (n)\n",
    "        WHERE NOT (n)-[]-()\n",
    "        DELETE n\n",
    "        RETURN count(n)\n",
    "\"\"\"\n",
    "result = execute_write(driver, query)\n",
    "pprint(result)"
   ]
  },
  {
   "cell_type": "markdown",
   "metadata": {},
   "source": [
    "> Now the number of total nodes is decreased:"
   ]
  },
  {
   "cell_type": "code",
   "execution_count": null,
   "metadata": {},
   "outputs": [],
   "source": [
    "query = \"\"\"\n",
    "        MATCH (n)\n",
    "        RETURN COUNT(n) AS TotalNodeCount\n",
    "\"\"\"\n",
    "result = execute_read(driver, query)\n",
    "pprint(result)"
   ]
  },
  {
   "cell_type": "markdown",
   "metadata": {},
   "source": [
    "## 2.2 Checking values consistency"
   ]
  },
  {
   "cell_type": "code",
   "execution_count": 13,
   "metadata": {},
   "outputs": [],
   "source": [
    "node_properties = {\n",
    "    \"BEERS\": [\"notes\", \"name\", \"state\", \"id\", \"retired\", \"availability\", \"brewery_id\"],\n",
    "    \"BREWERIES\": [\"notes\", \"types\", \"id\", \"name\", \"state\"],\n",
    "    \"CITIES\": [\"name\"],\n",
    "    \"COUNTRIES\": [\"name\"],\n",
    "    \"REVIEWS\": [\"text\", \"smell\", \"look\", \"taste\", \"feel\", \"overall\", \"beer_id\", \"id\", \"date\", \"score\"],\n",
    "    \"STYLE\": [\"name\"],\n",
    "    \"USER\": [\"name\"]\n",
    "}"
   ]
  },
  {
   "cell_type": "code",
   "execution_count": null,
   "metadata": {},
   "outputs": [
    {
     "name": "stdout",
     "output_type": "stream",
     "text": [
      "Label: BEERS, Property: notes\n",
      "[<Record notes='No notes at this time.' Count=309078>,\n",
      " <Record notes='nan' Count=46>,\n",
      " <Record notes='Single-Hop IPA' Count=26>,\n",
      " <Record notes='Brewed at De Proefbrouwerij.' Count=24>,\n",
      " <Record notes=' No notes at this time.' Count=23>,\n",
      " <Record notes='30 IBU' Count=22>,\n",
      " <Record notes='Permutation is our experimental series of small batch offerings, showcasing the unique visions and innovative concepts developed by our brewing and cellar crew.' Count=19>,\n",
      " <Record notes='20 IBU' Count=19>,\n",
      " <Record notes='70 IBU' Count=19>,\n",
      " <Record notes='The Intervals series is a platform that allows our brewers to experience and study the ingredients that we use in brewing. As we develop new flavors and experience those nuances we can share that with others. From single hop varieties to alternate grains we want you to learn with us! Experiment, learn, repeat!' Count=18>]\n",
      "\n",
      "\n",
      "\n",
      "Label: BEERS, Property: name\n",
      "[<Record name='Oktoberfest' Count=755>,\n",
      " <Record name='IPA' Count=633>,\n",
      " <Record name='Pale Ale' Count=620>,\n",
      " <Record name='Hefeweizen' Count=477>,\n",
      " <Record name='Oatmeal Stout' Count=443>,\n",
      " <Record name='Porter' Count=372>,\n",
      " <Record name='Saison' Count=361>,\n",
      " <Record name='India Pale Ale' Count=308>,\n",
      " <Record name='Pilsner' Count=301>,\n",
      " <Record name='Imperial Stout' Count=272>]\n",
      "\n",
      "\n",
      "\n",
      "Label: BEERS, Property: state\n",
      "[<Record state='nan' Count=60726>,\n",
      " <Record state='CA' Count=33649>,\n",
      " <Record state='PA' Count=17083>,\n",
      " <Record state='NY' Count=14572>,\n",
      " <Record state='CO' Count=14182>,\n",
      " <Record state='MI' Count=12690>,\n",
      " <Record state='IL' Count=12444>,\n",
      " <Record state='FL' Count=11898>,\n",
      " <Record state='GB2' Count=11390>,\n",
      " <Record state='WA' Count=10902>]\n",
      "\n",
      "\n",
      "\n",
      "Label: BEERS, Property: id\n",
      "[<Record id='82352' Count=1>,\n",
      " <Record id='214879' Count=1>,\n",
      " <Record id='320009' Count=1>,\n",
      " <Record id='246438' Count=1>,\n",
      " <Record id='8036' Count=1>,\n",
      " <Record id='108605' Count=1>,\n",
      " <Record id='345382' Count=1>,\n",
      " <Record id='255286' Count=1>,\n",
      " <Record id='29556' Count=1>,\n",
      " <Record id='202522' Count=1>]\n",
      "\n",
      "\n",
      "\n",
      "Label: BEERS, Property: retired\n",
      "[<Record retired='f' Count=240480>, <Record retired='t' Count=118393>]\n",
      "\n",
      "\n",
      "\n",
      "Label: BEERS, Property: availability\n",
      "[<Record availability=' Rotating' Count=98776>,\n",
      " <Record availability=' Limited (brewed once)' Count=72047>,\n",
      " <Record availability=' Year-round' Count=56800>,\n",
      " <Record availability='Rotating' Count=48002>,\n",
      " <Record availability='Limited (brewed once)' Count=34798>,\n",
      " <Record availability='Year-round' Count=19744>,\n",
      " <Record availability=' Winter' Count=6427>,\n",
      " <Record availability=' Fall' Count=5908>,\n",
      " <Record availability=' Summer' Count=5136>,\n",
      " <Record availability=' Spring' Count=3349>]\n",
      "\n",
      "\n",
      "\n",
      "Label: BEERS, Property: brewery_id\n",
      "[<Record brewery_id='1550' Count=1229>,\n",
      " <Record brewery_id='28383' Count=1225>,\n",
      " <Record brewery_id='17981' Count=1043>,\n",
      " <Record brewery_id='1146' Count=922>,\n",
      " <Record brewery_id='13307' Count=898>,\n",
      " <Record brewery_id='6045' Count=786>,\n",
      " <Record brewery_id='147' Count=736>,\n",
      " <Record brewery_id='16866' Count=723>,\n",
      " <Record brewery_id='1337' Count=652>,\n",
      " <Record brewery_id='140' Count=650>]\n",
      "\n",
      "\n",
      "\n",
      "Label: BREWERIES, Property: notes\n",
      "[<Record notes='No notes at this time.' Count=46475>,\n",
      " <Record notes='Hours:' Count=136>,\n",
      " <Record notes='nan' Count=85>,\n",
      " <Record notes=' No notes at this time.' Count=74>,\n",
      " <Record notes='Hours: ' Count=68>,\n",
      " <Record notes='OWNED BY ANHEUSER-BUSCH INBEV' Count=18>,\n",
      " <Record notes='On-premise brewing:' Count=16>,\n",
      " <Record notes='Per Omaha City Ordinance, as of October 1st 2006, this establishment is non-smoking throughout.' Count=15>,\n",
      " <Record notes='Hours' Count=13>,\n",
      " <Record notes='Opening hours:' Count=11>]\n",
      "\n",
      "\n",
      "\n",
      "Label: BREWERIES, Property: types\n",
      "[<Record types='Bar, Eatery' Count=13573>,\n",
      " <Record types='Store' Count=9726>,\n",
      " <Record types='Brewery' Count=8005>,\n",
      " <Record types='Brewery, Bar, Eatery' Count=2801>,\n",
      " <Record types='Bar, Eatery, Beer-to-go' Count=2789>,\n",
      " <Record types='Brewery, Bar, Beer-to-go' Count=2670>,\n",
      " <Record types='Bar' Count=2466>,\n",
      " <Record types='Brewery, Bar, Eatery, Beer-to-go' Count=2370>,\n",
      " <Record types='Brewery, Bar' Count=1360>,\n",
      " <Record types='Bar, Beer-to-go' Count=1258>]\n",
      "\n",
      "\n",
      "\n",
      "Label: BREWERIES, Property: id\n",
      "[<Record id='32541' Count=1>,\n",
      " <Record id='44736' Count=1>,\n",
      " <Record id='23372' Count=1>,\n",
      " <Record id='35328' Count=1>,\n",
      " <Record id='31561' Count=1>,\n",
      " <Record id='35975' Count=1>,\n",
      " <Record id='5618' Count=1>,\n",
      " <Record id='30916' Count=1>,\n",
      " <Record id='41278' Count=1>,\n",
      " <Record id='19730' Count=1>]\n",
      "\n",
      "\n",
      "\n",
      "Label: BREWERIES, Property: name\n",
      "[<Record name='Whole Foods Market' Count=162>,\n",
      " <Record name='Total Wine & More' Count=147>,\n",
      " <Record name='Cost Plus World Market' Count=118>,\n",
      " <Record name='Mellow Mushroom' Count=114>,\n",
      " <Record name=\"Trader Joe's\" Count=88>,\n",
      " <Record name='Old Chicago' Count=78>,\n",
      " <Record name=\"BJ's Restaurant & Brewhouse\" Count=68>,\n",
      " <Record name='World of Beer' Count=66>,\n",
      " <Record name='Yard House' Count=61>,\n",
      " <Record name='Wegmans' Count=58>]\n",
      "\n",
      "\n",
      "\n",
      "Label: BREWERIES, Property: state\n",
      "[<Record state='nan' Count=11271>,\n",
      " <Record state='CA' Count=3638>,\n",
      " <Record state='PA' Count=2454>,\n",
      " <Record state='NY' Count=2284>,\n",
      " <Record state='GB2' Count=2152>,\n",
      " <Record state='FL' Count=1595>,\n",
      " <Record state='IL' Count=1551>,\n",
      " <Record state='OH' Count=1518>,\n",
      " <Record state='MA' Count=1372>,\n",
      " <Record state='TX' Count=1342>]\n",
      "\n",
      "\n",
      "\n",
      "Label: CITIES, Property: name\n",
      "[<Record name='Thousand Palms' Count=1>,\n",
      " <Record name='Plant City' Count=1>,\n",
      " <Record name='Oklahoma City' Count=1>,\n",
      " <Record name='Brighton' Count=1>,\n",
      " <Record name='Seattle' Count=1>,\n",
      " <Record name='Mona Vale' Count=1>,\n",
      " <Record name='Riccione (RN)' Count=1>,\n",
      " <Record name='Belfast' Count=1>,\n",
      " <Record name='Destin' Count=1>,\n",
      " <Record name='Erpe-Mere' Count=1>]\n",
      "\n",
      "\n",
      "\n",
      "Label: COUNTRIES, Property: name\n",
      "[<Record name='US' Count=1>,\n",
      " <Record name='GB' Count=1>,\n",
      " <Record name='AU' Count=1>,\n",
      " <Record name='IT' Count=1>,\n",
      " <Record name='CA' Count=1>,\n",
      " <Record name='GR' Count=1>,\n",
      " <Record name='FR' Count=1>,\n",
      " <Record name='AT' Count=1>,\n",
      " <Record name='ES' Count=1>,\n",
      " <Record name='BE' Count=1>]\n",
      "\n",
      "\n",
      "\n",
      "Label: REVIEWS, Property: text\n",
      "[<Record text='\\xa0\\xa0' Count=1701899>,\n",
      " <Record text='\\xa0\\xa0 0%' Count=21785>,\n",
      " <Record text='\\xa0\\xa0 You had this beer. Write a review.' Count=705>,\n",
      " <Record text='\\xa0\\xa0 On tap at the brewery' Count=26>,\n",
      " <Record text='\\xa0\\xa0 C+ / ABOVE AVERAGE' Count=23>,\n",
      " <Record text='\\xa0\\xa0 Sampled from bottle' Count=22>,\n",
      " <Record text='\\xa0\\xa0 C / AVERAGE' Count=22>,\n",
      " <Record text='\\xa0\\xa0 On tap at brewery.' Count=21>,\n",
      " <Record text='\\xa0\\xa0 B- / WORTHY' Count=21>,\n",
      " <Record text=None Count=19>]\n",
      "\n",
      "\n",
      "\n",
      "Label: REVIEWS, Property: smell\n",
      "[<Record smell='nan' Count=1060483>,\n",
      " <Record smell='4.0' Count=392963>,\n",
      " <Record smell='3.5' Count=219353>,\n",
      " <Record smell='4.5' Count=204325>,\n",
      " <Record smell='4.25' Count=182230>,\n",
      " <Record smell='3.75' Count=164031>,\n",
      " <Record smell='3.0' Count=94814>,\n",
      " <Record smell='5.0' Count=54486>,\n",
      " <Record smell='4.75' Count=50008>,\n",
      " <Record smell='3.25' Count=43082>]\n",
      "\n",
      "\n",
      "\n"
     ]
    }
   ],
   "source": [
    "for label, properties in node_properties.items():\n",
    "    for property in properties:\n",
    "        query = f\"\"\"\n",
    "            MATCH (n:{label})\n",
    "            RETURN DISTINCT n.{property} AS {property}, COUNT(n) AS Count\n",
    "            ORDER BY Count DESC\n",
    "            LIMIT 10\n",
    "        \"\"\"\n",
    "        result = execute_read(driver, query)\n",
    "        print(f\"Label: {label}, Property: {property}\")\n",
    "        pprint(result)\n",
    "        print(\"\\n\\n\")"
   ]
  },
  {
   "cell_type": "markdown",
   "metadata": {},
   "source": [
    "> **1.** We will check first what properties have those blank spaces."
   ]
  },
  {
   "cell_type": "code",
   "execution_count": null,
   "metadata": {},
   "outputs": [],
   "source": [
    "for node, properties in node_properties.items():\n",
    "    for prop in properties:\n",
    "        print(f\"Checking outter white spaces for: {prop} in {node}\")\n",
    "        query = f\"\"\"\n",
    "                MATCH (n:{node})\n",
    "                WHERE n.{prop} =~ \"^\\s.*|.*\\s$\"\n",
    "                RETURN count(n) AS NodeCount\n",
    "        \"\"\"\n",
    "        result = execute_read(driver, query)\n",
    "        pprint(result)"
   ]
  },
  {
   "cell_type": "markdown",
   "metadata": {},
   "source": [
    ">  We will remove those blank spaces for BEERS[notes,availability], BREWERIES[notes]"
   ]
  },
  {
   "cell_type": "code",
   "execution_count": 48,
   "metadata": {},
   "outputs": [
    {
     "name": "stderr",
     "output_type": "stream",
     "text": [
      "<>:14: SyntaxWarning: invalid escape sequence '\\s'\n",
      "<>:14: SyntaxWarning: invalid escape sequence '\\s'\n",
      "C:\\Users\\gaspa\\AppData\\Local\\Temp\\ipykernel_33112\\3137168947.py:14: SyntaxWarning: invalid escape sequence '\\s'\n",
      "  \"\"\"\n"
     ]
    },
    {
     "name": "stdout",
     "output_type": "stream",
     "text": [
      "Deleting outter white spaces for: notes in BEERS\n",
      "[<Record NodeCount=2287>]\n",
      "Deleting outter white spaces for: availability in BEERS\n",
      "[<Record NodeCount=248467>]\n",
      "Deleting outter white spaces for: notes in BREWERIES\n",
      "[<Record NodeCount=315>]\n"
     ]
    }
   ],
   "source": [
    "white_space_nodes_prop = {\n",
    "    \"BEERS\": [\"notes\", \"availability\"],\n",
    "    \"BREWERIES\": [\"notes\"]\n",
    "}\n",
    "\n",
    "for node, properties in white_space_nodes_prop.items():\n",
    "    for prop in properties:\n",
    "        print(f\"Deleting outter white spaces for: {prop} in {node}\")\n",
    "        query = f\"\"\"\n",
    "                MATCH (n:{node})\n",
    "                WHERE n.{prop} =~ \"^\\s.*|.*\\s$\"\n",
    "                SET n.{prop} = TRIM(n.{prop})\n",
    "                RETURN count(n) AS NodeCount\n",
    "        \"\"\"\n",
    "        result = execute_write(driver, query)\n",
    "        pprint(result)"
   ]
  },
  {
   "cell_type": "markdown",
   "metadata": {},
   "source": [
    "> **2.** Remove '\\xa0\\xa0', which represents non breaking spaces, due to consistency.  "
   ]
  },
  {
   "cell_type": "code",
   "execution_count": null,
   "metadata": {},
   "outputs": [
    {
     "name": "stdout",
     "output_type": "stream",
     "text": [
      "[<Record Count=2536660>]\n"
     ]
    }
   ],
   "source": [
    "# query = \"\"\"\n",
    "#         MATCH (r:REVIEWS)\n",
    "#         WHERE r.text=~ '\\xa0\\xa0.*'\n",
    "#         RETURN COUNT(r) AS Count\n",
    "# \"\"\"\n",
    "# result = execute_read(driver, query)\n",
    "# pprint(result)"
   ]
  },
  {
   "cell_type": "code",
   "execution_count": 25,
   "metadata": {},
   "outputs": [],
   "source": [
    "# query = \"\"\"\n",
    "#         MATCH (r:REVIEWS)\n",
    "#         SET r.text = REPLACE(r.text, '\\xa0\\xa0', '')\n",
    "#         RETURN COUNT(r) AS Count\n",
    "# \"\"\"\n",
    "# result = execute_write(driver, query)\n",
    "# pprint(result)"
   ]
  },
  {
   "cell_type": "markdown",
   "metadata": {},
   "source": [
    "## 2.3 Missing values"
   ]
  },
  {
   "cell_type": "code",
   "execution_count": 24,
   "metadata": {},
   "outputs": [
    {
     "name": "stdout",
     "output_type": "stream",
     "text": [
      "Label: BEERS\n",
      "[<Record key='abv' EmptyValuesCount=38797>,\n",
      " <Record key='state' EmptyValuesCount=60726>]\n",
      "\n",
      "\n",
      "Label: BREWERIES\n",
      "[<Record key='state' EmptyValuesCount=11271>]\n",
      "\n",
      "\n",
      "Label: CITIES\n",
      "[<Record key='name' EmptyValuesCount=1>]\n",
      "\n",
      "\n",
      "Label: COUNTRIES\n",
      "[<Record key='name' EmptyValuesCount=1>]\n",
      "\n",
      "\n",
      "Label: REVIEWS\n",
      "[<Record key='feel' EmptyValuesCount=1060483>,\n",
      " <Record key='look' EmptyValuesCount=1060483>,\n",
      " <Record key='overall' EmptyValuesCount=1060483>,\n",
      " <Record key='smell' EmptyValuesCount=1060483>,\n",
      " <Record key='taste' EmptyValuesCount=1060483>]\n",
      "\n",
      "\n",
      "Label: STYLE\n",
      "[<Record key='name' EmptyValuesCount=1>]\n",
      "\n",
      "\n",
      "Label: USER\n",
      "[<Record key='name' EmptyValuesCount=1>]\n",
      "\n",
      "\n"
     ]
    }
   ],
   "source": [
    "nodes = [\"BEERS\", \"BREWERIES\", \"CITIES\", \"COUNTRIES\", \"REVIEWS\", \"STYLE\", \"USER\"]\n",
    "\n",
    "for node in nodes: \n",
    "    query = f\"\"\"\n",
    "            MATCH (n:{node})\n",
    "            UNWIND keys(n) AS key\n",
    "            WITH key\n",
    "            WHERE n[key] IS NULL OR n[key] = 'nan'\n",
    "            RETURN key, count(*) AS EmptyValuesCount\n",
    "            ORDER BY key\n",
    "    \"\"\"\n",
    "    result = execute_read(driver, query)\n",
    "    print(f\"Label: {node}\")\n",
    "    pprint(result)\n",
    "    print(\"\\n\")"
   ]
  },
  {
   "cell_type": "markdown",
   "metadata": {},
   "source": [
    "> Concert nan to NULL\n",
    "\n",
    "> BEERS: missing values in abv and state, but we'll leave it as it is. \n",
    "\n",
    "> BREWERIES: missing values in state, but we'll leave it as it is. There are missing states, because those beers \n",
    "\n",
    "> COUNTRIES: There are 2 cities connected to the nan country, which are: Windhoek and Swakopmund,  which are both located in Namimbia. So we've decided to change it to Namimbia. There is also a nan city...\n",
    "\n",
    "> CITIES: nan city connected to lots of different BREWERIES and COUNTRIES, leave it as it is.\n",
    "\n",
    "> STYLE: Ony has one beer related to it: \tAmerican Three Threads. We'll leave it as it is.\n",
    "\n",
    "> USER: no name, but has reviews.\n",
    "\n",
    "> REVIEWS: has NULL values in some of the ratings, but it has values score."
   ]
  },
  {
   "cell_type": "markdown",
   "metadata": {},
   "source": [
    "> From Countries with \"nan\" names we check that 2 cities belong to Namibia; so we will rename it as Namibia  "
   ]
  },
  {
   "cell_type": "code",
   "execution_count": 52,
   "metadata": {},
   "outputs": [
    {
     "name": "stdout",
     "output_type": "stream",
     "text": [
      "[<Record ci.name='nan'>,\n",
      " <Record ci.name='Swakopmund'>,\n",
      " <Record ci.name='Windhoek'>]\n"
     ]
    }
   ],
   "source": [
    "query = \"\"\"\n",
    "            MATCH (c:COUNTRIES)<--(ci:CITIES)\n",
    "            WHERE c.name = 'nan'\n",
    "            RETURN ci.name\n",
    "    \"\"\"\n",
    "result = execute_read(driver, query)\n",
    "pprint(result)\n"
   ]
  },
  {
   "cell_type": "code",
   "execution_count": 53,
   "metadata": {},
   "outputs": [
    {
     "name": "stdout",
     "output_type": "stream",
     "text": [
      "[<Record c=<Node element_id='133' labels=frozenset({'COUNTRIES'}) properties={'name': 'Namibia'}>>]\n"
     ]
    }
   ],
   "source": [
    "query = f\"\"\"\n",
    "        MATCH (c:COUNTRIES)\n",
    "        WHERE c.name IS NULL or c.name = 'nan'\n",
    "        SET c.name = 'Namibia'\n",
    "        RETURN c\n",
    "    \"\"\"\n",
    "result = execute_write(driver, query)\n",
    "print(result)"
   ]
  },
  {
   "cell_type": "code",
   "execution_count": 54,
   "metadata": {},
   "outputs": [
    {
     "name": "stdout",
     "output_type": "stream",
     "text": [
      "[<Record c=<Node element_id='133' labels=frozenset({'COUNTRIES'}) properties={'name': 'Namibia'}>>]\n"
     ]
    }
   ],
   "source": [
    "query = f\"\"\"\n",
    "        MATCH (c:COUNTRIES)\n",
    "        WHERE c.name='Namibia'\n",
    "        RETURN c\n",
    "    \"\"\"\n",
    "result = execute_read(driver, query)\n",
    "pprint(result)"
   ]
  },
  {
   "cell_type": "markdown",
   "metadata": {},
   "source": [
    "> SET all \"nan\" to NULL, for space optimization (str takes more space)"
   ]
  },
  {
   "cell_type": "code",
   "execution_count": null,
   "metadata": {},
   "outputs": [
    {
     "name": "stdout",
     "output_type": "stream",
     "text": [
      "Correcting missing abv in BEERS\n",
      "[<Record CorrectValues=38797>]\n",
      "Correcting missing notes in BEERS\n",
      "[<Record CorrectValues=46>]\n",
      "Correcting missing state in BEERS\n",
      "[<Record CorrectValues=60726>]\n",
      "Correcting missing notes in BREWERIES\n",
      "[<Record CorrectValues=85>]\n",
      "Correcting missing state in BREWERIES\n",
      "[<Record CorrectValues=11271>]\n",
      "Correcting missing name in CITIES\n",
      "[<Record CorrectValues=1>]\n",
      "Correcting missing smell in REVIEWS\n",
      "[<Record CorrectValues=1060483>]\n",
      "Correcting missing look in REVIEWS\n",
      "[<Record CorrectValues=1060483>]\n",
      "Correcting missing taste in REVIEWS\n",
      "[<Record CorrectValues=1060483>]\n",
      "Correcting missing feel in REVIEWS\n",
      "[<Record CorrectValues=1060483>]\n",
      "Correcting missing overall in REVIEWS\n",
      "[<Record CorrectValues=1060483>]\n",
      "Correcting missing name in STYLE\n",
      "[<Record CorrectValues=1>]\n",
      "Correcting missing name in USER\n",
      "[<Record CorrectValues=1>]\n"
     ]
    }
   ],
   "source": [
    "nodes = [\"BEERS\", \"BREWERIES\", \"CITIES\", \"COUNTRIES\", \"REVIEWS\", \"STYLE\", \"USER\"]\n",
    "\n",
    "nan_values_dict = {\n",
    "    \"BEERS\": [\"abv\", \"notes\", \"state\"],\n",
    "    \"BREWERIES\": [\"notes\", \"state\"],\n",
    "    \"CITIES\": [\"name\"],\n",
    "    \"REVIEWS\": [\"smell\", \"look\", \"taste\", \"feel\", \"overall\"],\n",
    "    \"STYLE\": [\"name\"],\n",
    "    \"USER\": [\"name\"]\n",
    "}\n",
    "\n",
    "for node, properties in nan_values_dict.items():\n",
    "    for prop in properties:\n",
    "        print(f\"Correcting missing {prop} in {node}\")\n",
    "        query = f\"\"\"\n",
    "                MATCH (n:{node})\n",
    "                WHERE n.{prop} = 'nan'\n",
    "                SET n.{prop} = NULL\n",
    "                RETURN count(*) AS CorrectValues\n",
    "        \"\"\"\n",
    "        result=execute_write(driver, query)\n",
    "        pprint(result)"
   ]
  },
  {
   "cell_type": "markdown",
   "metadata": {},
   "source": [
    "> Change \"No notes at this time.\" to NULL for space optimization"
   ]
  },
  {
   "cell_type": "code",
   "execution_count": 57,
   "metadata": {},
   "outputs": [
    {
     "name": "stdout",
     "output_type": "stream",
     "text": [
      "USER\n",
      "[<Record CorrectValues=309101>]\n"
     ]
    }
   ],
   "source": [
    "query = f\"\"\"\n",
    "    MATCH (n:BEERS)\n",
    "    WHERE n.notes = \"No notes at this time.\"\n",
    "    SET n.notes = NULL\n",
    "    RETURN count(*) AS CorrectValues\n",
    "    \"\"\"\n",
    "result = execute_write(driver, query)\n",
    "print(node)\n",
    "pprint(result)"
   ]
  },
  {
   "cell_type": "markdown",
   "metadata": {},
   "source": [
    "## 2.4 Duplicate values"
   ]
  },
  {
   "cell_type": "markdown",
   "metadata": {},
   "source": [
    "> Checking for duplicate values in identifier properties like \"id\" and \"name\""
   ]
  },
  {
   "cell_type": "code",
   "execution_count": 32,
   "metadata": {},
   "outputs": [
    {
     "name": "stdout",
     "output_type": "stream",
     "text": [
      "Checking for duplicated values for 'id' in 'BEERS'\n",
      "[]\n",
      "\n",
      "\n",
      "Checking for duplicated values for 'name' in 'BEERS'\n",
      "[<Record name='Oktoberfest' count=755>,\n",
      " <Record name='IPA' count=633>,\n",
      " <Record name='Pale Ale' count=620>,\n",
      " <Record name='Hefeweizen' count=477>,\n",
      " <Record name='Oatmeal Stout' count=443>]\n",
      "\n",
      "\n",
      "-------------------------------\n",
      "Checking for duplicated values for 'id' in 'BREWERIES'\n",
      "[]\n",
      "\n",
      "\n",
      "Checking for duplicated values for 'name' in 'BREWERIES'\n",
      "[<Record name='Whole Foods Market' count=162>,\n",
      " <Record name='Total Wine & More' count=147>,\n",
      " <Record name='Cost Plus World Market' count=118>,\n",
      " <Record name='Mellow Mushroom' count=114>,\n",
      " <Record name=\"Trader Joe's\" count=88>]\n",
      "\n",
      "\n",
      "-------------------------------\n",
      "Checking for duplicated values for 'name' in 'CITIES'\n",
      "[]\n",
      "\n",
      "\n",
      "-------------------------------\n",
      "Checking for duplicated values for 'name' in 'COUNTRIES'\n",
      "[]\n",
      "\n",
      "\n",
      "-------------------------------\n",
      "Checking for duplicated values for 'id' in 'REVIEWS'\n",
      "[<Record id=None count=19>]\n",
      "\n",
      "\n",
      "-------------------------------\n",
      "Checking for duplicated values for 'name' in 'STYLE'\n",
      "[]\n",
      "\n",
      "\n",
      "-------------------------------\n",
      "Checking for duplicated values for 'name' in 'USER'\n",
      "[]\n",
      "\n",
      "\n",
      "-------------------------------\n"
     ]
    }
   ],
   "source": [
    "unique_properties = [\"id\", \"name\"]\n",
    "\n",
    "for node, properties in node_properties.items():\n",
    "    for prop in unique_properties:\n",
    "        if prop in properties: \n",
    "            print(f\"Checking for duplicated values for '{prop}' in '{node}'\")\n",
    "\n",
    "            query = f\"\"\"\n",
    "                    MATCH (n:{node})\n",
    "                    WITH TRIM(n.{prop}) AS {prop}, count(n) AS count\n",
    "                    WHERE count > 1\n",
    "                    RETURN {prop}, count\n",
    "                    ORDER BY count DESC\n",
    "                    LIMIT 5\n",
    "            \"\"\"\n",
    "            result = execute_read(driver, query)\n",
    "            pprint(result)\n",
    "            print(\"\\n\")\n",
    "    print(\"-------------------------------\")"
   ]
  },
  {
   "cell_type": "code",
   "execution_count": null,
   "metadata": {},
   "outputs": [
    {
     "name": "stdout",
     "output_type": "stream",
     "text": [
      "Reviews ID: None, Count: 19\n"
     ]
    }
   ],
   "source": [
    "query = \"\"\"\n",
    "    MATCH (r:REVIEWS)\n",
    "    WITH r.id AS reviews_id, COUNT(r) AS count\n",
    "    WHERE count > 1\n",
    "    RETURN reviews_id, count\n",
    "    ORDER BY count DESC;\n",
    "\"\"\"\n",
    "\n",
    "result = execute_read(driver, query)\n",
    "\n",
    "print(result)\n"
   ]
  },
  {
   "cell_type": "markdown",
   "metadata": {},
   "source": [
    "> 19 REVIEWS without ID, and also have no properties. "
   ]
  },
  {
   "cell_type": "code",
   "execution_count": null,
   "metadata": {},
   "outputs": [
    {
     "name": "stdout",
     "output_type": "stream",
     "text": [
      "[<Record n=<Node element_id='921375' labels=frozenset() properties={}>>,\n",
      " <Record n=<Node element_id='921921' labels=frozenset() properties={}>>,\n",
      " <Record n=<Node element_id='922467' labels=frozenset() properties={}>>,\n",
      " <Record n=<Node element_id='923013' labels=frozenset() properties={}>>,\n",
      " <Record n=<Node element_id='923559' labels=frozenset() properties={}>>,\n",
      " <Record n=<Node element_id='924105' labels=frozenset() properties={}>>,\n",
      " <Record n=<Node element_id='924651' labels=frozenset() properties={}>>,\n",
      " <Record n=<Node element_id='925197' labels=frozenset() properties={}>>,\n",
      " <Record n=<Node element_id='925743' labels=frozenset() properties={}>>,\n",
      " <Record n=<Node element_id='926289' labels=frozenset() properties={}>>,\n",
      " <Record n=<Node element_id='926835' labels=frozenset() properties={}>>,\n",
      " <Record n=<Node element_id='927381' labels=frozenset() properties={}>>,\n",
      " <Record n=<Node element_id='927927' labels=frozenset() properties={}>>,\n",
      " <Record n=<Node element_id='928473' labels=frozenset() properties={}>>,\n",
      " <Record n=<Node element_id='929019' labels=frozenset() properties={}>>,\n",
      " <Record n=<Node element_id='929565' labels=frozenset() properties={}>>,\n",
      " <Record n=<Node element_id='930111' labels=frozenset() properties={}>>,\n",
      " <Record n=<Node element_id='930657' labels=frozenset() properties={}>>,\n",
      " <Record n=<Node element_id='931203' labels=frozenset() properties={}>>]\n"
     ]
    }
   ],
   "source": [
    "#There are 19 REVIEWS with no id property and have no info associated\n",
    "query = \"\"\"\n",
    "    MATCH (n:REVIEWS)\n",
    "    WHERE n.id IS NULL\n",
    "    RETURN n\n",
    "\"\"\"\n",
    "result = execute_read(driver, query)\n",
    "pprint(result)\n"
   ]
  },
  {
   "cell_type": "code",
   "execution_count": null,
   "metadata": {},
   "outputs": [],
   "source": [
    "to_delete=[921375,921921,922467,923013,923559,924105,924651,925197]"
   ]
  },
  {
   "cell_type": "code",
   "execution_count": 29,
   "metadata": {},
   "outputs": [
    {
     "name": "stdout",
     "output_type": "stream",
     "text": [
      "[]\n"
     ]
    }
   ],
   "source": [
    "#There are 19 REVIEWS with no id property and have no info associated\n",
    "query = \"\"\"\n",
    "    MATCH (n:REVIEWS)\n",
    "    WHERE ID(n)='931203'\n",
    "    RETURN n\n",
    "\"\"\"\n",
    "result = execute_read(driver, query)\n",
    "pprint(result)\n"
   ]
  },
  {
   "cell_type": "code",
   "execution_count": 58,
   "metadata": {},
   "outputs": [
    {
     "name": "stdout",
     "output_type": "stream",
     "text": [
      "[<Record count(n)=19>]\n"
     ]
    }
   ],
   "source": [
    "#This will be removed\n",
    "query = \"\"\"\n",
    "    MATCH (n:REVIEWS)\n",
    "    WHERE n.id IS NULL\n",
    "    DELETE n\n",
    "    RETURN count(n)\n",
    "\"\"\"\n",
    "result = execute_write(driver, query)\n",
    "pprint(result)"
   ]
  },
  {
   "cell_type": "code",
   "execution_count": 9,
   "metadata": {},
   "outputs": [],
   "source": [
    "query = \"\"\"\n",
    "    MATCH (b:BREWERIES)\n",
    "    WITH b.id AS beer_id, COUNT(b) AS count\n",
    "    WHERE count > 1\n",
    "    RETURN beer_id, count\n",
    "    ORDER BY count DESC;\n",
    "\"\"\"\n",
    "\n",
    "result = execute_read(driver, query)\n",
    "\n",
    "for record in result:\n",
    "    print(f\"Beer ID: {record['beer_id']}, Count: {record['count']}\")\n"
   ]
  },
  {
   "cell_type": "markdown",
   "metadata": {},
   "source": [
    "## 2.x Data types correction"
   ]
  },
  {
   "cell_type": "markdown",
   "metadata": {},
   "source": [
    "> First we check for non int in numerical properties "
   ]
  },
  {
   "cell_type": "code",
   "execution_count": 7,
   "metadata": {},
   "outputs": [],
   "source": [
    "integer_properties = {\n",
    "    \"BEERS\": [\"abv\"],\n",
    "    \"REVIEWS\": [\"smell\", \"look\", \"taste\", \"feel\", \"overall\", \"score\"],\n",
    "}"
   ]
  },
  {
   "cell_type": "code",
   "execution_count": null,
   "metadata": {},
   "outputs": [],
   "source": [
    "\n",
    "\n",
    "for node, properties in integer_properties.items():\n",
    "    for prop in properties:\n",
    "        print(f\"Checking for non int values in '{prop}' in '{node}'\")\n",
    "        query = f\"\"\"\n",
    "                MATCH (n:{node})\n",
    "                WHERE NOT n.{prop} IS NULL and NOT n.{prop} =~ '^[0-9.]+$'\n",
    "                RETURN n.{prop} AS {prop}\n",
    "                LIMIT 5\n",
    "        \"\"\"\n",
    "        result = execute_read(driver, query)\n",
    "        pprint(result)\n",
    "        print(\"\\n\\n\")\n"
   ]
  },
  {
   "cell_type": "markdown",
   "metadata": {},
   "source": [
    "> Convert str to int, for properties with numerical values "
   ]
  },
  {
   "cell_type": "markdown",
   "metadata": {},
   "source": [
    "> First we will run for beers, considering for reviews as they are too many nodes we will do it in batches"
   ]
  },
  {
   "cell_type": "code",
   "execution_count": 8,
   "metadata": {},
   "outputs": [],
   "source": [
    "\n",
    "integer_properties = {\n",
    "    \"BEERS\": [\"abv\"],\n",
    "    #\"REVIEWS\": [\"smell\", \"look\", \"taste\", \"feel\", \"overall\", \"score\"],\n",
    "}"
   ]
  },
  {
   "cell_type": "code",
   "execution_count": null,
   "metadata": {},
   "outputs": [
    {
     "name": "stdout",
     "output_type": "stream",
     "text": [
      "Typecasting 'abv' to int in 'BEERS'\n",
      "[<Record NodeCount=320076>]\n"
     ]
    }
   ],
   "source": [
    "for node, properties in integer_properties.items():\n",
    "    for prop in properties:\n",
    "        print(f\"Typecasting '{prop}' to float in '{node}'\")\n",
    "        query = f\"\"\"\n",
    "                MATCH (n:{node})\n",
    "                WHERE n.{prop} IS NOT NULL \n",
    "                SET n.{prop} = toFloat(n.{prop})\n",
    "                RETURN count(n) AS NodeCount\n",
    "        \"\"\"\n",
    "        result = execute_write(driver, query)\n",
    "        pprint(result)\n"
   ]
  },
  {
   "cell_type": "code",
   "execution_count": 8,
   "metadata": {},
   "outputs": [],
   "source": [
    "integer_properties = {\n",
    "    #\"BEERS\": [\"abv\"],\n",
    "    \"REVIEWS\": [\"smell\", \"look\", \"taste\", \"feel\", \"overall\", \"score\"],\n",
    "}"
   ]
  },
  {
   "cell_type": "code",
   "execution_count": 20,
   "metadata": {},
   "outputs": [],
   "source": [
    "a = [2, 1]\n",
    "a = [1]"
   ]
  },
  {
   "cell_type": "code",
   "execution_count": null,
   "metadata": {},
   "outputs": [
    {
     "name": "stdout",
     "output_type": "stream",
     "text": [
      "[<Record ID=421086>,\n",
      " <Record ID=421087>,\n",
      " <Record ID=421088>,\n",
      " <Record ID=421089>,\n",
      " <Record ID=421091>,\n",
      " <Record ID=421097>,\n",
      " <Record ID=421099>,\n",
      " <Record ID=421103>,\n",
      " <Record ID=421113>,\n",
      " <Record ID=421117>,\n",
      " <Record ID=421126>,\n",
      " <Record ID=421130>,\n",
      " <Record ID=421131>,\n",
      " <Record ID=421138>,\n",
      " <Record ID=421142>,\n",
      " <Record ID=421151>,\n",
      " <Record ID=421157>,\n",
      " <Record ID=421166>,\n",
      " <Record ID=421171>,\n",
      " <Record ID=421172>,\n",
      " <Record ID=421173>,\n",
      " <Record ID=421175>,\n",
      " <Record ID=421177>,\n",
      " <Record ID=421178>,\n",
      " <Record ID=421179>,\n",
      " <Record ID=421181>,\n",
      " <Record ID=421182>,\n",
      " <Record ID=421183>,\n",
      " <Record ID=421184>,\n",
      " <Record ID=421186>]\n"
     ]
    }
   ],
   "source": [
    "query = \"\"\"\n",
    "        MATCH (n:REVIEWS)\n",
    "        WHERE n.smell IS NOT NULL \n",
    "        WITH n SKIP 1 LIMIT 1\n",
    "        RETURN id(n) as ID\n",
    "\"\"\"\n",
    "result = execute_read(driver, query)\n",
    "pprint(result)\n"
   ]
  },
  {
   "cell_type": "code",
   "execution_count": 18,
   "metadata": {},
   "outputs": [
    {
     "name": "stdout",
     "output_type": "stream",
     "text": [
      "Typecasting 'smell' to float in 'REVIEWS'\n",
      "Processed 100000 nodes in 'REVIEWS' for property 'smell'\n",
      "Processed 200000 nodes in 'REVIEWS' for property 'smell'\n",
      "Processed 300000 nodes in 'REVIEWS' for property 'smell'\n",
      "Processed 400000 nodes in 'REVIEWS' for property 'smell'\n",
      "Processed 500000 nodes in 'REVIEWS' for property 'smell'\n"
     ]
    },
    {
     "ename": "",
     "evalue": "",
     "output_type": "error",
     "traceback": [
      "\u001b[1;31mCannot execute code, session has been disposed. Please try restarting the Kernel."
     ]
    },
    {
     "ename": "",
     "evalue": "",
     "output_type": "error",
     "traceback": [
      "\u001b[1;31mCannot execute code, session has been disposed. Please try restarting the Kernel. \n",
      "\u001b[1;31mView Jupyter <a href='command:jupyter.viewOutput'>log</a> for further details."
     ]
    }
   ],
   "source": [
    "batch_size = 100_000\n",
    "\n",
    "for node, properties in integer_properties.items():\n",
    "    for prop in properties:\n",
    "        print(f\"Typecasting '{prop}' to float in '{node}'\")\n",
    "\n",
    "        processed_count = 0\n",
    "\n",
    "        while True:\n",
    "            query = f\"\"\"\n",
    "                MATCH (n:{node})\n",
    "                WHERE n.{prop} IS NOT NULL\n",
    "                WITH n ORDER BY ID(n) SKIP {processed_count} LIMIT {batch_size}\n",
    "                SET n.{prop} = toFloat(n.{prop})\n",
    "                RETURN count(n) AS NodeCount\n",
    "            \"\"\"\n",
    "            \n",
    "            result = execute_write(driver, query)\n",
    "            \n",
    "            if not result or result[0]['NodeCount'] == 0:\n",
    "                break  \n",
    "            \n",
    "            processed_count += result[0]['NodeCount']\n",
    "\n",
    "            print(f\"Processed {processed_count} nodes in '{node}' for property '{prop}'\")"
   ]
  },
  {
   "cell_type": "code",
   "execution_count": 15,
   "metadata": {},
   "outputs": [
    {
     "data": {
      "text/plain": [
       "set()"
      ]
     },
     "execution_count": 15,
     "metadata": {},
     "output_type": "execute_result"
    }
   ],
   "source": [
    "to_skip = {3,4}\n",
    "to_skip = set()\n",
    "to_skip"
   ]
  },
  {
   "cell_type": "code",
   "execution_count": 15,
   "metadata": {},
   "outputs": [
    {
     "data": {
      "text/plain": [
       "300000"
      ]
     },
     "execution_count": 15,
     "metadata": {},
     "output_type": "execute_result"
    }
   ],
   "source": [
    "result[0][\"NodeCount\"]"
   ]
  },
  {
   "cell_type": "code",
   "execution_count": null,
   "metadata": {},
   "outputs": [
    {
     "name": "stdout",
     "output_type": "stream",
     "text": [
      "Checking for non int values in 'abv' in 'BEERS'\n",
      "[]\n",
      "\n",
      "\n",
      "\n",
      "Checking for non int values in 'smell' in 'REVIEWS'\n",
      "[]\n",
      "\n",
      "\n",
      "\n",
      "Checking for non int values in 'look' in 'REVIEWS'\n",
      "[]\n",
      "\n",
      "\n",
      "\n",
      "Checking for non int values in 'taste' in 'REVIEWS'\n",
      "[]\n",
      "\n",
      "\n",
      "\n",
      "Checking for non int values in 'feel' in 'REVIEWS'\n",
      "[]\n",
      "\n",
      "\n",
      "\n",
      "Checking for non int values in 'overall' in 'REVIEWS'\n",
      "[]\n",
      "\n",
      "\n",
      "\n",
      "Checking for non int values in 'score' in 'REVIEWS'\n",
      "[]\n",
      "\n",
      "\n",
      "\n"
     ]
    }
   ],
   "source": []
  },
  {
   "cell_type": "code",
   "execution_count": 14,
   "metadata": {},
   "outputs": [
    {
     "name": "stdout",
     "output_type": "stream",
     "text": [
      "Checking for ordered values in 'notes' in 'BEERS'\n",
      "[<Record notes='!Poblamo! is the latest in our farm bounty lineup, utilizing freshly fire roasted Poblano chiles straight from the field. Infused into a base of a malty and balanced amber ale, the roasted notes of the chiles dominate the aroma of this beer. The depth of maltiness and rich fruity flavors provide a solid canvas to present the bold flavor profile of the chiles. While having a lively tingle on the tongue, the heat level remains subdued and pleasant the whole glass through.'>,\n",
      " <Record notes='\"**Chef Collaboration Series** Brewed with the crew from Longman & Eagle. Golden Belgian Double IPA with a fruity aroma and hint of pine. Dry-hopped with Citra and Simcoe hops.\"'>,\n",
      " <Record notes='\"**Coffee Collaboration Series** A rotating series of local coffee companies. Our first \\'blend\\' is from Crop to Cup Coffee Co. Dark, rich, and roasted flavors from JuJu espresso beans.\"'>,\n",
      " <Record notes='\"**Coffee Collaboration Series** A rotating series with local coffee companies. This \"blend\" is with Dark Matter Coffee Company\\'s Ganesha.\"'>,\n",
      " <Record notes='\"...Yeah, yeah. She\\'s seeing this guy, Art Vandelay...\"'>,\n",
      " <Record notes='\"...features Cascade, Citra, Centennial and Chinook hops.\" - Brewtally Insane'>,\n",
      " <Record notes='\"...started as a strong spiced quad that was barrel-aged for 21 months, then aged for another six months on blueberries.\"'>,\n",
      " <Record notes='\"...stings the nostrils...\"'>,\n",
      " <Record notes='\"...you close your eyes and picture a Christmas tree decorated with watermelons, oranges and golden sparkling seckels (tiny ass pears). With your eyes still closed, you then think to yourself, \"this is the perfect imaginary manifestation of a super crushable IPA\". Now open your eyes. The IPA sitting in front of you is that Christmas tree, but, in fact, it is no tree: it is SparklePuss IPA. Just like from your dreams...not the tree, but the super crushable IPA.\"'>,\n",
      " <Record notes='\"100% barley malt beer\"'>]\n",
      "\n",
      "\n",
      "\n",
      "Checking for ordered values in 'name' in 'BEERS'\n",
      "[<Record name='!'>,\n",
      " <Record name='! (Old Ale)'>,\n",
      " <Record name='!!!PA Simcoe Mosaic'>,\n",
      " <Record name='!!C&G'>,\n",
      " <Record name='!!PA Citra, Centennial & Cascade'>,\n",
      " <Record name='!PA Amarillo, Simcoe, Pacific Gem'>,\n",
      " <Record name='!PA CM'>,\n",
      " <Record name='!PA Simcoe, Centennial And Nelson Sauvin'>,\n",
      " <Record name='!PA-Equinox'>,\n",
      " <Record name='!Pablamo!'>]\n",
      "\n",
      "\n",
      "\n",
      "Checking for ordered values in 'state' in 'BEERS'\n",
      "[<Record state='AB'>,\n",
      " <Record state='AB'>,\n",
      " <Record state='AB'>,\n",
      " <Record state='AB'>,\n",
      " <Record state='AB'>,\n",
      " <Record state='AB'>,\n",
      " <Record state='AB'>,\n",
      " <Record state='AB'>,\n",
      " <Record state='AB'>,\n",
      " <Record state='AB'>]\n",
      "\n",
      "\n",
      "\n",
      "Checking for ordered values in 'id' in 'BEERS'\n",
      "[<Record id='10'>,\n",
      " <Record id='100'>,\n",
      " <Record id='1000'>,\n",
      " <Record id='10000'>,\n",
      " <Record id='100000'>,\n",
      " <Record id='100001'>,\n",
      " <Record id='100002'>,\n",
      " <Record id='100003'>,\n",
      " <Record id='100004'>,\n",
      " <Record id='100005'>]\n",
      "\n",
      "\n",
      "\n",
      "Checking for ordered values in 'retired' in 'BEERS'\n",
      "[<Record retired='f'>,\n",
      " <Record retired='f'>,\n",
      " <Record retired='f'>,\n",
      " <Record retired='f'>,\n",
      " <Record retired='f'>,\n",
      " <Record retired='f'>,\n",
      " <Record retired='f'>,\n",
      " <Record retired='f'>,\n",
      " <Record retired='f'>,\n",
      " <Record retired='f'>]\n",
      "\n",
      "\n",
      "\n",
      "Checking for ordered values in 'availability' in 'BEERS'\n",
      "[<Record availability='Fall'>,\n",
      " <Record availability='Fall'>,\n",
      " <Record availability='Fall'>,\n",
      " <Record availability='Fall'>,\n",
      " <Record availability='Fall'>,\n",
      " <Record availability='Fall'>,\n",
      " <Record availability='Fall'>,\n",
      " <Record availability='Fall'>,\n",
      " <Record availability='Fall'>,\n",
      " <Record availability='Fall'>]\n",
      "\n",
      "\n",
      "\n",
      "Checking for ordered values in 'brewery_id' in 'BEERS'\n",
      "[<Record brewery_id='1'>,\n",
      " <Record brewery_id='1'>,\n",
      " <Record brewery_id='1'>,\n",
      " <Record brewery_id='1'>,\n",
      " <Record brewery_id='1'>,\n",
      " <Record brewery_id='1'>,\n",
      " <Record brewery_id='1'>,\n",
      " <Record brewery_id='1'>,\n",
      " <Record brewery_id='1'>,\n",
      " <Record brewery_id='1'>]\n",
      "\n",
      "\n",
      "\n",
      "Checking for ordered values in 'notes' in 'BREWERIES'\n",
      "[<Record notes='\"48 beers from 25 countries\"'>,\n",
      " <Record notes='\"A brewing licence at the site was first granted in 1642. Part of the existing brewery is of 17th Century origin, and this would be consistent with it having been the original brew house, which would make it the oldest working brewery in Britain.\"'>,\n",
      " <Record notes='\"BREWER OF AUSTRALIA\\'S INTERNATIONAL AWARD-WINNING GLUTEN FREE BEERS\"'>,\n",
      " <Record notes='\"Boston Beer Works,\" opened at 61 Brookline Avenue, across from Fenway Park in 1992. Providing an extensive menu of handcrafted ales and lagers and a varied menu of freshly prepared bold American cuisine to the thirsty and hungry masses. An instant landmark, \"Boston Beer Works\" not only recognized and capitalized on the microbrewery trend it pushed the boundaries. Here, the restaurant layout took the beer making process and exposed it allowing our guests the chance to taste, touch and smell the complete beer making experience. This \"naked and true\" interior concept still exists in the store today and has been extended to all our locations.'>,\n",
      " <Record notes='\"Custom Built Burgers\"'>,\n",
      " <Record notes='\"Fussa no Birugoya\" is the restaurant at the same location.'>,\n",
      " <Record notes='\"Gypsy\" Brewer'>,\n",
      " <Record notes='\"Gypsy\" Brewer'>,\n",
      " <Record notes='\"Indigo Imp beers are fermented in open fermentation tanks. This helps create the flavors that make Indigo Imp beers unique. With open fermentation, each batch may be influenced by wild yeast in addition to the yeast added by the brewer, resulting in slight flavor variations from batch to batch and season to season.\"'>,\n",
      " <Record notes='\"Monastyrskiy Kvass\" Ltd., specialized in production of non-alcohol beverages, was founded in 1996 and as of today is one of the most known companies in this industry in Ukraine.'>]\n",
      "\n",
      "\n",
      "\n",
      "Checking for ordered values in 'types' in 'BREWERIES'\n",
      "[<Record types='Bar'>,\n",
      " <Record types='Bar'>,\n",
      " <Record types='Bar'>,\n",
      " <Record types='Bar'>,\n",
      " <Record types='Bar'>,\n",
      " <Record types='Bar'>,\n",
      " <Record types='Bar'>,\n",
      " <Record types='Bar'>,\n",
      " <Record types='Bar'>,\n",
      " <Record types='Bar'>]\n",
      "\n",
      "\n",
      "\n",
      "Checking for ordered values in 'id' in 'BREWERIES'\n",
      "[<Record id='1'>,\n",
      " <Record id='10'>,\n",
      " <Record id='100'>,\n",
      " <Record id='1000'>,\n",
      " <Record id='10000'>,\n",
      " <Record id='10001'>,\n",
      " <Record id='10002'>,\n",
      " <Record id='10003'>,\n",
      " <Record id='10004'>,\n",
      " <Record id='10005'>]\n",
      "\n",
      "\n",
      "\n",
      "Checking for ordered values in 'name' in 'BREWERIES'\n",
      "[<Record name='#Freedom Brewery'>,\n",
      " <Record name=\"'A Magara\">,\n",
      " <Record name=\"'cause BEER loves FOOD\">,\n",
      " <Record name=\"'t Antwaerps Bierhuyske\">,\n",
      " <Record name=\"'t Belang\">,\n",
      " <Record name=\"'t Brugs Beertje\">,\n",
      " <Record name=\"'t Brugs Bierinstituur\">,\n",
      " <Record name=\"'t Brugsch Bieratelier\">,\n",
      " <Record name=\"'t Galgenhuisje\">,\n",
      " <Record name=\"'t Hemelrijk\">]\n",
      "\n",
      "\n",
      "\n",
      "Checking for ordered values in 'state' in 'BREWERIES'\n",
      "[<Record state='AB'>,\n",
      " <Record state='AB'>,\n",
      " <Record state='AB'>,\n",
      " <Record state='AB'>,\n",
      " <Record state='AB'>,\n",
      " <Record state='AB'>,\n",
      " <Record state='AB'>,\n",
      " <Record state='AB'>,\n",
      " <Record state='AB'>,\n",
      " <Record state='AB'>]\n",
      "\n",
      "\n",
      "\n",
      "Checking for ordered values in 'name' in 'CITIES'\n",
      "[<Record name=\"'s-Hertogenbosch\">,\n",
      " <Record name='100 Mile House'>,\n",
      " <Record name='Aachen'>,\n",
      " <Record name='Aalborg'>,\n",
      " <Record name='Aalen'>,\n",
      " <Record name='Aalsmeer'>,\n",
      " <Record name='Aalst'>,\n",
      " <Record name='Aarhus'>,\n",
      " <Record name='Aarle-Rixtel'>,\n",
      " <Record name='Aarschot'>]\n",
      "\n",
      "\n",
      "\n",
      "Checking for ordered values in 'name' in 'COUNTRIES'\n",
      "[<Record name='AD'>,\n",
      " <Record name='AE'>,\n",
      " <Record name='AF'>,\n",
      " <Record name='AG'>,\n",
      " <Record name='AL'>,\n",
      " <Record name='AM'>,\n",
      " <Record name='AO'>,\n",
      " <Record name='AR'>,\n",
      " <Record name='AT'>,\n",
      " <Record name='AU'>]\n",
      "\n",
      "\n",
      "\n",
      "Checking for ordered values in 'text' in 'REVIEWS'\n",
      "[<Record text='\\xa0\\xa0'>,\n",
      " <Record text='\\xa0\\xa0'>,\n",
      " <Record text='\\xa0\\xa0'>,\n",
      " <Record text='\\xa0\\xa0'>,\n",
      " <Record text='\\xa0\\xa0'>,\n",
      " <Record text='\\xa0\\xa0'>,\n",
      " <Record text='\\xa0\\xa0'>,\n",
      " <Record text='\\xa0\\xa0'>,\n",
      " <Record text='\\xa0\\xa0'>,\n",
      " <Record text='\\xa0\\xa0'>]\n",
      "\n",
      "\n",
      "\n",
      "Checking for ordered values in 'smell' in 'REVIEWS'\n",
      "[<Record smell='1.0'>,\n",
      " <Record smell='1.0'>,\n",
      " <Record smell='1.0'>,\n",
      " <Record smell='1.0'>,\n",
      " <Record smell='1.0'>,\n",
      " <Record smell='1.0'>,\n",
      " <Record smell='1.0'>,\n",
      " <Record smell='1.0'>,\n",
      " <Record smell='1.0'>,\n",
      " <Record smell='1.0'>]\n",
      "\n",
      "\n",
      "\n",
      "Checking for ordered values in 'look' in 'REVIEWS'\n",
      "[<Record look='1.0'>,\n",
      " <Record look='1.0'>,\n",
      " <Record look='1.0'>,\n",
      " <Record look='1.0'>,\n",
      " <Record look='1.0'>,\n",
      " <Record look='1.0'>,\n",
      " <Record look='1.0'>,\n",
      " <Record look='1.0'>,\n",
      " <Record look='1.0'>,\n",
      " <Record look='1.0'>]\n",
      "\n",
      "\n",
      "\n",
      "Checking for ordered values in 'taste' in 'REVIEWS'\n",
      "[<Record taste='1.0'>,\n",
      " <Record taste='1.0'>,\n",
      " <Record taste='1.0'>,\n",
      " <Record taste='1.0'>,\n",
      " <Record taste='1.0'>,\n",
      " <Record taste='1.0'>,\n",
      " <Record taste='1.0'>,\n",
      " <Record taste='1.0'>,\n",
      " <Record taste='1.0'>,\n",
      " <Record taste='1.0'>]\n",
      "\n",
      "\n",
      "\n",
      "Checking for ordered values in 'feel' in 'REVIEWS'\n",
      "[<Record feel='1.0'>,\n",
      " <Record feel='1.0'>,\n",
      " <Record feel='1.0'>,\n",
      " <Record feel='1.0'>,\n",
      " <Record feel='1.0'>,\n",
      " <Record feel='1.0'>,\n",
      " <Record feel='1.0'>,\n",
      " <Record feel='1.0'>,\n",
      " <Record feel='1.0'>,\n",
      " <Record feel='1.0'>]\n",
      "\n",
      "\n",
      "\n",
      "Checking for ordered values in 'overall' in 'REVIEWS'\n",
      "[<Record overall='1.0'>,\n",
      " <Record overall='1.0'>,\n",
      " <Record overall='1.0'>,\n",
      " <Record overall='1.0'>,\n",
      " <Record overall='1.0'>,\n",
      " <Record overall='1.0'>,\n",
      " <Record overall='1.0'>,\n",
      " <Record overall='1.0'>,\n",
      " <Record overall='1.0'>,\n",
      " <Record overall='1.0'>]\n",
      "\n",
      "\n",
      "\n",
      "Checking for ordered values in 'beer_id' in 'REVIEWS'\n",
      "[<Record beer_id='10'>,\n",
      " <Record beer_id='10'>,\n",
      " <Record beer_id='10'>,\n",
      " <Record beer_id='10'>,\n",
      " <Record beer_id='10'>,\n",
      " <Record beer_id='10'>,\n",
      " <Record beer_id='10'>,\n",
      " <Record beer_id='10'>,\n",
      " <Record beer_id='10'>,\n",
      " <Record beer_id='10'>]\n",
      "\n",
      "\n",
      "\n",
      "Checking for ordered values in 'id' in 'REVIEWS'\n",
      "[<Record id='1'>,\n",
      " <Record id='100000'>,\n",
      " <Record id='1000002'>,\n",
      " <Record id='1000007'>,\n",
      " <Record id='1000010'>,\n",
      " <Record id='1000023'>,\n",
      " <Record id='1000024'>,\n",
      " <Record id='1000025'>,\n",
      " <Record id='1000028'>,\n",
      " <Record id='100003'>]\n",
      "\n",
      "\n",
      "\n",
      "Checking for ordered values in 'date' in 'REVIEWS'\n",
      "[<Record date='1998-01-21'>,\n",
      " <Record date='1998-01-22'>,\n",
      " <Record date='1998-02-06'>,\n",
      " <Record date='1998-02-17'>,\n",
      " <Record date='1998-02-22'>,\n",
      " <Record date='1998-03-02'>,\n",
      " <Record date='1998-03-06'>,\n",
      " <Record date='1998-03-09'>,\n",
      " <Record date='1998-03-15'>,\n",
      " <Record date='1998-03-24'>]\n",
      "\n",
      "\n",
      "\n",
      "Checking for ordered values in 'score' in 'REVIEWS'\n",
      "[<Record score='1.0'>,\n",
      " <Record score='1.0'>,\n",
      " <Record score='1.0'>,\n",
      " <Record score='1.0'>,\n",
      " <Record score='1.0'>,\n",
      " <Record score='1.0'>,\n",
      " <Record score='1.0'>,\n",
      " <Record score='1.0'>,\n",
      " <Record score='1.0'>,\n",
      " <Record score='1.0'>]\n",
      "\n",
      "\n",
      "\n",
      "Checking for ordered values in 'name' in 'STYLE'\n",
      "[<Record name='American Adjunct Lager'>,\n",
      " <Record name='American Amber / Red Ale'>,\n",
      " <Record name='American Amber / Red Lager'>,\n",
      " <Record name='American Barleywine'>,\n",
      " <Record name='American Black Ale'>,\n",
      " <Record name='American Blonde Ale'>,\n",
      " <Record name='American Brett'>,\n",
      " <Record name='American Brown Ale'>,\n",
      " <Record name='American Brut IPA'>,\n",
      " <Record name='American Cream Ale'>]\n",
      "\n",
      "\n",
      "\n",
      "Checking for ordered values in 'name' in 'USER'\n",
      "[<Record name='------'>,\n",
      " <Record name='--Dom--'>,\n",
      " <Record name='--dida--'>,\n",
      " <Record name='--weezl--'>,\n",
      " <Record name='-1x'>,\n",
      " <Record name='-BobWeaver-'>,\n",
      " <Record name='-Boilerplate-'>,\n",
      " <Record name='-DF-'>,\n",
      " <Record name='-Hawk-'>,\n",
      " <Record name='-Hoptimus_Prime-'>]\n",
      "\n",
      "\n",
      "\n"
     ]
    }
   ],
   "source": [
    "# Check for alpha; ordered; \n",
    "\n",
    "for node, properties in node_properties.items():\n",
    "    for prop in properties:\n",
    "        print(f\"Checking for ordered values in '{prop}' in '{node}'\")\n",
    "        query = f\"\"\"\n",
    "                MATCH (n:{node})\n",
    "                WHERE NOT n.{prop} IS NULL\n",
    "                RETURN n.{prop} AS {prop}\n",
    "                ORDER BY n.{prop} ASC\n",
    "                LIMIT 10\n",
    "        \"\"\"\n",
    "        result = execute_read(driver, query)\n",
    "        pprint(result)\n",
    "        print(\"\\n\\n\")"
   ]
  },
  {
   "cell_type": "markdown",
   "metadata": {},
   "source": [
    "> Convert dates to datetime"
   ]
  },
  {
   "cell_type": "markdown",
   "metadata": {},
   "source": [
    "## 2.5 Invert relationship"
   ]
  },
  {
   "cell_type": "markdown",
   "metadata": {},
   "source": [
    "> Instead of actually reverting, we will change the name "
   ]
  },
  {
   "cell_type": "markdown",
   "metadata": {},
   "source": [
    "> Ver se o state das breweries = state de beers. "
   ]
  },
  {
   "cell_type": "markdown",
   "metadata": {},
   "source": [
    "> Cervejas estão só conectadas a uma brewery? Se tiver + que uma então faz sentido existir brewery id? mas pode ser melhorado talvez pelo facto de procurar mos."
   ]
  }
 ],
 "metadata": {
  "hide_input": false,
  "kernelspec": {
   "display_name": "DM2425",
   "language": "python",
   "name": "python3"
  },
  "language_info": {
   "codemirror_mode": {
    "name": "ipython",
    "version": 3
   },
   "file_extension": ".py",
   "mimetype": "text/x-python",
   "name": "python",
   "nbconvert_exporter": "python",
   "pygments_lexer": "ipython3",
   "version": "3.12.5"
  },
  "toc": {
   "base_numbering": 1,
   "nav_menu": {},
   "number_sections": true,
   "sideBar": true,
   "skip_h1_title": false,
   "title_cell": "Table of Contents",
   "title_sidebar": "Contents",
   "toc_cell": false,
   "toc_position": {},
   "toc_section_display": true,
   "toc_window_display": false
  },
  "varInspector": {
   "cols": {
    "lenName": 16,
    "lenType": 16,
    "lenVar": 40
   },
   "kernels_config": {
    "python": {
     "delete_cmd_postfix": "",
     "delete_cmd_prefix": "del ",
     "library": "var_list.py",
     "varRefreshCmd": "print(var_dic_list())"
    },
    "r": {
     "delete_cmd_postfix": ") ",
     "delete_cmd_prefix": "rm(",
     "library": "var_list.r",
     "varRefreshCmd": "cat(var_dic_list()) "
    }
   },
   "types_to_exclude": [
    "module",
    "function",
    "builtin_function_or_method",
    "instance",
    "_Feature"
   ],
   "window_display": false
  }
 },
 "nbformat": 4,
 "nbformat_minor": 4
}
